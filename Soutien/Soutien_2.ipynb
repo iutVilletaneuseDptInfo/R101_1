{
 "cells": [
  {
   "cell_type": "markdown",
   "id": "5c98360c",
   "metadata": {
    "deletable": false,
    "editable": false,
    "run_control": {
     "frozen": true
    }
   },
   "source": [
    "# <center> Exercices de révision  </center> #"
   ]
  },
  {
   "cell_type": "markdown",
   "id": "1adb8ad5",
   "metadata": {},
   "source": [
    "## Les boucles ##"
   ]
  },
  {
   "cell_type": "markdown",
   "id": "11705f45",
   "metadata": {},
   "source": [
    "### Exercice : Affichage d'entiers ###"
   ]
  },
  {
   "cell_type": "markdown",
   "id": "c67fe632",
   "metadata": {
    "deletable": false,
    "editable": false
   },
   "source": [
    "Qu'affichent les programmes suivants ? "
   ]
  },
  {
   "cell_type": "code",
   "execution_count": null,
   "id": "b1a14fb2",
   "metadata": {},
   "outputs": [],
   "source": [
    "i=1\n",
    "while i%2==0 and i<10:\n",
    "    print(i)\n",
    "    i+=1  "
   ]
  },
  {
   "cell_type": "code",
   "execution_count": null,
   "id": "b04f6b20",
   "metadata": {},
   "outputs": [],
   "source": [
    "i=10\n",
    "while i%2==0 and i<10:\n",
    "    print(i)\n",
    "    i+=1  "
   ]
  },
  {
   "cell_type": "code",
   "execution_count": null,
   "id": "455eeb70",
   "metadata": {},
   "outputs": [],
   "source": [
    "i=1\n",
    "while i%2==0 or i<10 :\n",
    "    print(i)\n",
    "    i+=1"
   ]
  },
  {
   "cell_type": "code",
   "execution_count": null,
   "id": "0b9a2af6",
   "metadata": {},
   "outputs": [],
   "source": [
    "i=10\n",
    "while i%2==0 or i<10 :\n",
    "    print(i)\n",
    "    i+=1"
   ]
  },
  {
   "cell_type": "markdown",
   "id": "6f04f11e",
   "metadata": {},
   "source": [
    "### Exercice : Nombre d'itérations ###\n",
    "\n",
    "- Combien de fois les boucles suivantes sont-elles exécutées ?"
   ]
  },
  {
   "cell_type": "code",
   "execution_count": null,
   "id": "c2a2ec56",
   "metadata": {},
   "outputs": [],
   "source": [
    "compteur = 1\n",
    "while compteur < 8  :\n",
    "    compteur+=1"
   ]
  },
  {
   "cell_type": "markdown",
   "id": "f782e74e",
   "metadata": {},
   "source": [
    "**Réponse**"
   ]
  },
  {
   "cell_type": "code",
   "execution_count": null,
   "id": "02ee3f4f",
   "metadata": {},
   "outputs": [],
   "source": [
    "compteur = 0\n",
    "while compteur < 6  :\n",
    "    compteur+=1"
   ]
  },
  {
   "cell_type": "markdown",
   "id": "42ab3770",
   "metadata": {},
   "source": [
    "**Réponse** "
   ]
  },
  {
   "cell_type": "code",
   "execution_count": null,
   "id": "60b7b301",
   "metadata": {},
   "outputs": [],
   "source": [
    "compteur = 15\n",
    "while compteur < 15 :\n",
    "    compteur+=1"
   ]
  },
  {
   "cell_type": "markdown",
   "id": "7a0e534e",
   "metadata": {},
   "source": [
    "**Réponse** "
   ]
  },
  {
   "cell_type": "code",
   "execution_count": null,
   "id": "2ebbe155",
   "metadata": {},
   "outputs": [],
   "source": [
    "compteur = 10\n",
    "while compteur > 5 :\n",
    "    compteur-=1"
   ]
  },
  {
   "cell_type": "markdown",
   "id": "f34845d8",
   "metadata": {},
   "source": [
    "**Réponse** "
   ]
  },
  {
   "cell_type": "markdown",
   "id": "f186f5ca",
   "metadata": {},
   "source": [
    "## Les fonctions ##"
   ]
  },
  {
   "cell_type": "markdown",
   "id": "b16adcd5",
   "metadata": {},
   "source": [
    "### Exercice : Positivité ###\n",
    "- Ecrire une fonction `positivite` qui prend en entrée deux nombres\n",
    "entiers `i` et `j` et qui affiche la chaine de caractères `\"oui\"` si ces deux nombres sont positifs ou nuls et\n",
    "la chaîne de caractères  `\"non\"` dans le cas contraire.\n",
    "- Donner quatre exemples judicieusement choisis d'appels de cette fonction."
   ]
  },
  {
   "cell_type": "code",
   "execution_count": null,
   "id": "afeb99be",
   "metadata": {},
   "outputs": [],
   "source": [
    "######################\n",
    "# Ecrire le code ici #\n",
    "######################\n",
    "\n",
    "\n",
    "\n"
   ]
  },
  {
   "cell_type": "markdown",
   "id": "1b7aa3cd",
   "metadata": {},
   "source": [
    "### Exercice : Somme des inverses ###\n",
    "- Ecrire une fonction `sommeInv` qui prend en paramètre deux flottants `x1` et `x2` et affiche la somme\n",
    "de leurs inverses (c'est-à-dire la valeur de `1/x1+1/x2`) ou  un message d'erreur si l'un d'eux est nul.\n",
    "\n",
    "- Donner des exemples judicieusement choisis d'appels de cette fonction."
   ]
  },
  {
   "cell_type": "code",
   "execution_count": null,
   "id": "75197209",
   "metadata": {},
   "outputs": [],
   "source": [
    "################## \n",
    "# Ecrire le code #\n",
    "#################\n",
    "\n",
    "\n",
    "\n"
   ]
  },
  {
   "cell_type": "markdown",
   "id": "d4d7eb79",
   "metadata": {},
   "source": [
    "### Exercice : Saisie contrôlée ###\n",
    "- Ecrire une fonction qui demande à l'utilisateur un entier `n` jusqu'à ce que cet entier soit strictement supérieur à 1000 et retourne la valeur saisie à la fin.\n",
    "- Vérifier le bon fonctionnement de cette fonction."
   ]
  },
  {
   "cell_type": "code",
   "execution_count": null,
   "id": "fa687113",
   "metadata": {},
   "outputs": [],
   "source": [
    "################## \n",
    "# Ecrire le code #\n",
    "#################\n",
    "\n",
    "\n"
   ]
  },
  {
   "cell_type": "markdown",
   "id": "ad758cf8",
   "metadata": {},
   "source": [
    "- Ecrire une fonction qui demande à l'utilisateur un flottant `f` jusqu'à ce que ce flottant soit strictement compris entre 5 et 10 (`5 < f < 10`) et retourne la valeur saisie à la fin.\n",
    "- Vérifier le bon fonctionnement de cette fonction."
   ]
  },
  {
   "cell_type": "code",
   "execution_count": null,
   "id": "8cc4166c",
   "metadata": {},
   "outputs": [],
   "source": [
    "################## \n",
    "# Ecrire le code #\n",
    "#################\n",
    "\n",
    "\n"
   ]
  },
  {
   "cell_type": "markdown",
   "id": "8f95d106",
   "metadata": {},
   "source": [
    "### Exercice : Plus petit carré ###\n",
    "- Écrire une fonction `intSquareFloor(n)` qui retourne le plus petit entier `p`  tel que `p*p>n`.\n",
    "    - Pour `n=10`, la fonction retournera `4`.\n",
    "    - Pour `n=16`, la fonction retounera `5`.\n",
    "- Appeler cette fonction avec 10 et 16.\n",
    "\n",
    "On *n'utilisera pas* la fonction `sqrt` (square root - racine carrée) de la bibliothèque `math`."
   ]
  },
  {
   "cell_type": "code",
   "execution_count": null,
   "id": "6db29011",
   "metadata": {},
   "outputs": [],
   "source": [
    "################## \n",
    "# Ecrire le code #\n",
    "#################\n",
    "\n",
    "\n"
   ]
  },
  {
   "cell_type": "markdown",
   "id": "1bf935be",
   "metadata": {},
   "source": [
    "### Exercice : Somme seuil ###\n",
    "- Ecrire une fonction `seuilSomme(p)` qui retourne le plus petit entier `n` tel que `1+2+3+.....+n>=p`. \n",
    "    - `seuilSomme(10)` retournera `4` (`1+2+3+4>=10`)\n",
    "    - `seuilSomme(16)`retourne `6`  (`1+2+3+4+5+6>=16`)\n",
    "- Appeler cette fonction avec des valeurs judicieusement choisies."
   ]
  },
  {
   "cell_type": "code",
   "execution_count": null,
   "id": "3b2b9740",
   "metadata": {},
   "outputs": [],
   "source": [
    "################## \n",
    "# Ecrire le code #\n",
    "#################\n"
   ]
  },
  {
   "cell_type": "markdown",
   "id": "5f6ed186",
   "metadata": {},
   "source": [
    " ### Exercice : Visibilité des variables ###\n",
    " - Qu'affiche le programme suivant ?"
   ]
  },
  {
   "cell_type": "code",
   "execution_count": null,
   "id": "f983f5dd",
   "metadata": {},
   "outputs": [],
   "source": [
    "def f1():\n",
    "    a = 18\n",
    "    print(\"a = \", a)\n",
    "\n",
    "def f():\n",
    "    a = 3\n",
    "    f1()\n",
    "    print(\"a = \", a)\n",
    "\n",
    "a = 38\n",
    "f()\n",
    "print(\"a = \", a)"
   ]
  },
  {
   "cell_type": "markdown",
   "id": "2049e747",
   "metadata": {},
   "source": [
    "- Qu'affiche le programme suivant ? "
   ]
  },
  {
   "cell_type": "code",
   "execution_count": null,
   "id": "1353c420",
   "metadata": {},
   "outputs": [],
   "source": [
    "def f(a,b):\n",
    "    a = a+1\n",
    "    b = b+2\n",
    "    print(\"a =\", a, \"b =\", b)\n",
    "\n",
    "a=1\n",
    "b=2\n",
    "f(a,b)\n",
    "f(a,b)\n",
    "f(b,a)"
   ]
  },
  {
   "cell_type": "markdown",
   "id": "fc3d6cad",
   "metadata": {},
   "source": [
    "### Exercice : Etoiles ###\n",
    "- Combien d'étoiles affiche chacun des deux programmes suivants ?"
   ]
  },
  {
   "cell_type": "code",
   "execution_count": null,
   "id": "8a56b34e",
   "metadata": {},
   "outputs": [],
   "source": [
    "def etoile(i):\n",
    "    while i < 5 :\n",
    "        print(\"*\")\n",
    "        i+=1\n",
    "\n",
    "i = 0\n",
    "while i < 10 :\n",
    "        etoile(i)\n",
    "        i+=1\n"
   ]
  },
  {
   "cell_type": "code",
   "execution_count": null,
   "id": "7f2cc3f2",
   "metadata": {},
   "outputs": [],
   "source": [
    "def etoile(i):\n",
    "    while i < 10 :\n",
    "        print(\"*\")\n",
    "        i+=1\n",
    "\n",
    "i = 0\n",
    "while i < 5 :\n",
    "        etoile(i)\n",
    "        i+=1"
   ]
  }
 ],
 "metadata": {
  "kernelspec": {
   "display_name": "Python 3 (ipykernel)",
   "language": "python",
   "name": "python3"
  },
  "language_info": {
   "codemirror_mode": {
    "name": "ipython",
    "version": 3
   },
   "file_extension": ".py",
   "mimetype": "text/x-python",
   "name": "python",
   "nbconvert_exporter": "python",
   "pygments_lexer": "ipython3",
   "version": "3.11.4"
  }
 },
 "nbformat": 4,
 "nbformat_minor": 5
}
