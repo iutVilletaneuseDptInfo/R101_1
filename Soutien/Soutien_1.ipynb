{
 "cells": [
  {
   "cell_type": "markdown",
   "id": "5c98360c",
   "metadata": {
    "deletable": false,
    "editable": false,
    "run_control": {
     "frozen": true
    }
   },
   "source": [
    "# <center> Exercices de révision  </center> #"
   ]
  },
  {
   "cell_type": "markdown",
   "id": "1adb8ad5",
   "metadata": {
    "deletable": false,
    "editable": false,
    "run_control": {
     "frozen": true
    }
   },
   "source": [
    "## Les alternatives ##"
   ]
  },
  {
   "cell_type": "markdown",
   "id": "11705f45",
   "metadata": {},
   "source": [
    "### Exercice : Affichage alternatif de `oui` ###\n",
    "- Pour quelles valeurs de `x` s'affiche `oui` dans les\n",
    "cas suivants ?"
   ]
  },
  {
   "cell_type": "code",
   "execution_count": null,
   "id": "a562682d",
   "metadata": {},
   "outputs": [],
   "source": [
    "if (x > 100):\n",
    "    print(\"non\")\n",
    "else :\n",
    "    print(\"oui\")"
   ]
  },
  {
   "cell_type": "markdown",
   "id": "c7333c1c",
   "metadata": {},
   "source": [
    "**Réponse**\n"
   ]
  },
  {
   "cell_type": "code",
   "execution_count": null,
   "id": "b1a14fb2",
   "metadata": {},
   "outputs": [],
   "source": [
    "if (x > 100):\n",
    "    print(\"non\")\n",
    "elif (x > 90):  #if a>90 and a <=100:\n",
    "    print(\"oui\")"
   ]
  },
  {
   "cell_type": "markdown",
   "id": "5b651452",
   "metadata": {},
   "source": [
    "**Réponse** "
   ]
  },
  {
   "cell_type": "code",
   "execution_count": null,
   "id": "b04f6b20",
   "metadata": {},
   "outputs": [],
   "source": [
    "if (not(x > 0 and x < 100)): # x<=0 or x>=100\n",
    "    print(\"non\")\n",
    "elif (x > 70):\n",
    "    print(\"oui\")"
   ]
  },
  {
   "cell_type": "markdown",
   "id": "078f073f",
   "metadata": {},
   "source": [
    "**Réponse** "
   ]
  },
  {
   "cell_type": "markdown",
   "id": "6f04f11e",
   "metadata": {},
   "source": [
    "*Pour vous entraîner seul*\n",
    "\n",
    "- Pour quelles valeurs de `x` s'affiche `oui` dans les\n",
    "cas suivants ?"
   ]
  },
  {
   "cell_type": "code",
   "execution_count": null,
   "id": "c2a2ec56",
   "metadata": {},
   "outputs": [],
   "source": [
    "if (x > 13):\n",
    "    print(\"non\")\n",
    "else:\n",
    "    print(\"oui\")"
   ]
  },
  {
   "cell_type": "markdown",
   "id": "f782e74e",
   "metadata": {},
   "source": [
    "**Réponse**"
   ]
  },
  {
   "cell_type": "code",
   "execution_count": null,
   "id": "02ee3f4f",
   "metadata": {},
   "outputs": [],
   "source": [
    "if (x > 13):\n",
    "    print(\"non\")\n",
    "if (x > 20): \n",
    "    print(\"oui\")"
   ]
  },
  {
   "cell_type": "markdown",
   "id": "42ab3770",
   "metadata": {},
   "source": [
    "**Réponse** "
   ]
  },
  {
   "cell_type": "code",
   "execution_count": null,
   "id": "60b7b301",
   "metadata": {},
   "outputs": [],
   "source": [
    "if (x > 13 and x < 20):\n",
    "    print(\"non\")\n",
    "elif (x > 15):  \n",
    "    print(\"oui\")"
   ]
  },
  {
   "cell_type": "markdown",
   "id": "7a0e534e",
   "metadata": {},
   "source": [
    "**Réponse** "
   ]
  },
  {
   "cell_type": "code",
   "execution_count": null,
   "id": "2ebbe155",
   "metadata": {},
   "outputs": [],
   "source": [
    "if (not(x > 13 and x < 20)):\n",
    "    print(\"non\")\n",
    "elif (x > 15):\n",
    "    print(\"oui\")"
   ]
  },
  {
   "cell_type": "markdown",
   "id": "f34845d8",
   "metadata": {},
   "source": [
    "**Réponse** "
   ]
  },
  {
   "cell_type": "markdown",
   "id": "1b7aa3cd",
   "metadata": {},
   "source": [
    "### Exercice : Programmes mystère ###\n",
    "- Que fait le programme ci-dessous quand `A` vaut 1, 5 ou 7 ?"
   ]
  },
  {
   "cell_type": "code",
   "execution_count": null,
   "id": "75197209",
   "metadata": {},
   "outputs": [],
   "source": [
    "A=7\n",
    "B = 10\n",
    "if (A < 5) or (B < A):\n",
    "             print ('oui')\n",
    "elif (A < 7) and (B <= 2*A):\n",
    "             print (\"non\")"
   ]
  },
  {
   "cell_type": "markdown",
   "id": "851f0f92",
   "metadata": {},
   "source": [
    "**Réponse**"
   ]
  },
  {
   "cell_type": "markdown",
   "id": "922cdddc",
   "metadata": {},
   "source": [
    "*Pour vous entrainer seuls*\n",
    "\n",
    "- Que fait le programme ci-dessous quand `a`vaut 1, 4 ou 15 ?"
   ]
  },
  {
   "cell_type": "code",
   "execution_count": null,
   "id": "f983f5dd",
   "metadata": {},
   "outputs": [],
   "source": [
    "a=1\n",
    "b=4\n",
    "if (a<4) or (b!=4):\n",
    "             print ('gagné')\n",
    "elif (a==4) and (b==4):\n",
    "             print (\"presque gagné\")"
   ]
  },
  {
   "cell_type": "markdown",
   "id": "a0b9c5d9",
   "metadata": {},
   "source": [
    "**Réponse**"
   ]
  },
  {
   "cell_type": "markdown",
   "id": "fc3d6cad",
   "metadata": {},
   "source": [
    "### Exercice : Comparaison de chaînes de caractères ###"
   ]
  },
  {
   "cell_type": "markdown",
   "id": "dce8dfed",
   "metadata": {},
   "source": [
    "Ecrire un programme qui permet de saisir deux chaînes de caractères et indique si la première chaîne  est supérieure, inférieure ou égale à la seconde chaine.\n"
   ]
  },
  {
   "cell_type": "code",
   "execution_count": null,
   "id": "8a56b34e",
   "metadata": {},
   "outputs": [],
   "source": [
    "################## \n",
    "# Ecrire le code #\n",
    "#################\n",
    "\n",
    "\n"
   ]
  },
  {
   "cell_type": "markdown",
   "id": "1ba6cbea",
   "metadata": {},
   "source": [
    "## Boucles ##"
   ]
  },
  {
   "cell_type": "markdown",
   "id": "3b581445",
   "metadata": {},
   "source": [
    "### Exercice : Affichages ordonnés ###\n",
    "- Ecrire un programme qui affiche les entiers pairs de 100 à 0 (inclus)"
   ]
  },
  {
   "cell_type": "code",
   "execution_count": null,
   "id": "2b2e3177",
   "metadata": {},
   "outputs": [],
   "source": [
    "################## \n",
    "# Ecrire le code #\n",
    "#################\n",
    "\n",
    "\n"
   ]
  },
  {
   "cell_type": "markdown",
   "id": "b2de8d0a",
   "metadata": {},
   "source": [
    "- Ecrire un programme qui affiche les entiers multiples de 10 de 100 à 300 (inclus)"
   ]
  },
  {
   "cell_type": "code",
   "execution_count": null,
   "id": "d7aad1c5",
   "metadata": {},
   "outputs": [],
   "source": [
    "################## \n",
    "# Ecrire le code #\n",
    "#################\n",
    "\n",
    "\n"
   ]
  },
  {
   "cell_type": "markdown",
   "id": "cd8d8672",
   "metadata": {},
   "source": [
    "### Exercice : Saisie contrôlée ###\n",
    "- Ecrire un programme qui demande à l'utilisateur un entier `n` jusqu'à ce que cet entier soit strictement supérieur à 1000 et affiche la valeur saisie à la fin."
   ]
  },
  {
   "cell_type": "code",
   "execution_count": null,
   "id": "5dbff465",
   "metadata": {},
   "outputs": [],
   "source": [
    "################## \n",
    "# Ecrire le code #\n",
    "#################\n",
    "\n",
    "\n"
   ]
  },
  {
   "cell_type": "markdown",
   "id": "3c08bf4f",
   "metadata": {},
   "source": [
    "- Ecrire un programme qui demande à l'utilisateur un flottant `f` jusqu'à ce que ce flottant soit strictement compris entre 5 et 10 (`5 < f < 10`) et affiche la valeur saisie à la fin."
   ]
  },
  {
   "cell_type": "code",
   "execution_count": null,
   "id": "1124fa08",
   "metadata": {},
   "outputs": [],
   "source": [
    "################## \n",
    "# Ecrire le code #\n",
    "#################\n",
    "\n",
    "\n",
    "\n"
   ]
  },
  {
   "cell_type": "markdown",
   "id": "2589fd34",
   "metadata": {},
   "source": [
    "- Ecrire un programme qui demande à l'utilisateur un caractère `c` jusqu'à ce que ce caractère soit une lettre minuscule et affiche la valeur saisie à la fin."
   ]
  },
  {
   "cell_type": "code",
   "execution_count": null,
   "id": "daf6f02d",
   "metadata": {},
   "outputs": [],
   "source": [
    "################## \n",
    "# Ecrire le code #\n",
    "#################\n",
    "\n"
   ]
  },
  {
   "cell_type": "markdown",
   "id": "be68868e",
   "metadata": {},
   "source": [
    "### Exercice : Programmes mystère ###\n",
    "- Qu'affiche ce programme ? Qu'affiche-t-il si on remplace la première ligne par `i = 7` ?"
   ]
  },
  {
   "cell_type": "markdown",
   "id": "98694a57",
   "metadata": {},
   "source": [
    "**Réponse**\n"
   ]
  },
  {
   "cell_type": "code",
   "execution_count": null,
   "id": "28ec3bbf",
   "metadata": {},
   "outputs": [],
   "source": [
    "i = 5\n",
    "while i%9 != 0:\n",
    "    print(i)\n",
    "    i += 10\n",
    "print(i)"
   ]
  },
  {
   "cell_type": "markdown",
   "id": "cc5e46d2",
   "metadata": {},
   "source": [
    "**Réponse**"
   ]
  },
  {
   "cell_type": "markdown",
   "id": "82626ae4",
   "metadata": {},
   "source": [
    "- Que valent `a` et `b` à la fin du programme suivant ? "
   ]
  },
  {
   "cell_type": "code",
   "execution_count": null,
   "id": "5b74ea59",
   "metadata": {},
   "outputs": [],
   "source": [
    "a = 1\n",
    "b = 0\n",
    "while a < 30 or b%5 == 0:\n",
    "    a *= 2\n",
    "    b += 7\n",
    "print(a)\n",
    "print(b)"
   ]
  }
 ],
 "metadata": {
  "kernelspec": {
   "display_name": "Python 3 (ipykernel)",
   "language": "python",
   "name": "python3"
  },
  "language_info": {
   "codemirror_mode": {
    "name": "ipython",
    "version": 3
   },
   "file_extension": ".py",
   "mimetype": "text/x-python",
   "name": "python",
   "nbconvert_exporter": "python",
   "pygments_lexer": "ipython3",
   "version": "3.11.4"
  }
 },
 "nbformat": 4,
 "nbformat_minor": 5
}
