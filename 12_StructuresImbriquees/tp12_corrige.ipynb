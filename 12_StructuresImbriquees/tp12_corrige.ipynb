{
 "cells": [
  {
   "cell_type": "markdown",
   "metadata": {
    "deletable": false,
    "editable": false,
    "run_control": {
     "frozen": true
    }
   },
   "source": [
    "# <center> Chapitre 12 : Boucles imbriquées - TP Corrigé </center>"
   ]
  },
  {
   "cell_type": "markdown",
   "metadata": {
    "deletable": false,
    "editable": false,
    "run_control": {
     "frozen": true
    }
   },
   "source": [
    "Les données météorologiques utilisées dans ce TP concernent la ville de Paris en 2009. Ces données sont issues du site *https://www.historique-meteo.net/*."
   ]
  },
  {
   "cell_type": "markdown",
   "metadata": {
    "deletable": false,
    "editable": false,
    "run_control": {
     "frozen": true
    }
   },
   "source": [
    "### Exercice 1 : Météo du 5 janvier 2009"
   ]
  },
  {
   "cell_type": "markdown",
   "metadata": {
    "deletable": false,
    "editable": false,
    "run_control": {
     "frozen": true
    }
   },
   "source": [
    "La météo d'une journée est définie par :\n",
    "\n",
    "* la température maximale relevée (°C),\n",
    "\n",
    "* la température minimale relevée (°C),\n",
    "\n",
    "* la précipitation relevée (mm),\n",
    "\n",
    "* l'appréciation de la météo : `\"météo très défavorable\"`, `\"météo défavorable\"`, `\"météo correcte\"`, `\"météo favorable\"`ou `\"météo idéale\"`.\n",
    "\n",
    "On représentera la météo d'une journée sous la forme d'un dictionnaire contenant 4 entrées : \n",
    "\n",
    "* `Tmax` (la valeur est un entier)\n",
    "\n",
    "* `Tmin` (la valeur est un entier)\n",
    "\n",
    "* `\"précipitation\"` (la valeur est un flottant)\n",
    "\n",
    "* `\"appréciation\"` (la valeur est une chaîne de caractères)"
   ]
  },
  {
   "cell_type": "markdown",
   "metadata": {
    "solution2": "hidden",
    "solution2_first": true
   },
   "source": [
    "#### Question 1 \n",
    "\n",
    "Définir un dictionnaire (stocké dans la variable `meteo5janvier` représentant la météo du 5 janvier 2009 à Paris sachant qu'il a fait -2°C au minimum, 0°C au maximum, qu'il a plu 6.9 mm et que l'appréciation était `\"météo très défavorable\"`."
   ]
  },
  {
   "cell_type": "code",
   "execution_count": null,
   "metadata": {
    "deletable": false,
    "editable": false,
    "solution2": "hidden"
   },
   "outputs": [],
   "source": [
    "#------------------------------#\n",
    "#    CORRECTION  ! ! ! ! ! !   #\n",
    "#------------------------------#\n",
    "\n",
    "meteo5janvier = {\n",
    "    \"Tmax\":0,\n",
    "    \"Tmin\":-2,\n",
    "    \"précipitation\":6.9,\n",
    "    \"appréciation\":\"météo très défavorable\"\n",
    "}"
   ]
  },
  {
   "cell_type": "markdown",
   "metadata": {
    "deletable": false,
    "editable": false,
    "run_control": {
     "frozen": true
    },
    "solution2": "hidden",
    "solution2_first": true
   },
   "source": [
    "#### Question 2\n",
    "\n",
    "En utilisant les informations stockées dans `meteo5janvier`, afficher la phrase : \n",
    "\n",
    "`Ce jour-là, il a fait -2 °C au minimum, 0 °C au maximum et il a plu 6.9 mm, quelle météo très défavorable !`"
   ]
  },
  {
   "cell_type": "code",
   "execution_count": null,
   "metadata": {
    "deletable": false,
    "editable": false,
    "solution2": "hidden"
   },
   "outputs": [],
   "source": [
    "#------------------------------#\n",
    "#    CORRECTION  ! ! ! ! ! !   #\n",
    "#------------------------------#\n",
    "\n",
    "print(\"Ce jour-là, il a fait\", meteo5janvier[\"Tmin\"], \"°C au minimum,\", meteo5janvier[\"Tmax\"], \n",
    "      \"°C au maximum et il a plu\", meteo5janvier[\"précipitation\"], \"mm, quelle\", \n",
    "      meteo5janvier[\"appréciation\"], \"!\")"
   ]
  },
  {
   "cell_type": "markdown",
   "metadata": {
    "deletable": false,
    "editable": false,
    "run_control": {
     "frozen": true
    }
   },
   "source": [
    "### Exercice 2 : Météo du mois de janvier 2009\n",
    "\n",
    "Les températures pendant tout un mois sont stockées sous la forme d'un tableau de dictionnaires. Il y a autant de cases dans le tableau qu'il y a de jours dans le mois. Chaque case contient alors un dictionnaire comme dans l'Exercice 1.\n",
    "\n",
    "**Attention :** Comme l'indice d'un tableau commence à 0, le $i$ème jour sera stocké dans la case d'indice $i-1$.\n",
    "\n",
    "Les données du mois de janvier se trouvent dans le fichier `files/meteo_paris_janvier_2009.json`."
   ]
  },
  {
   "cell_type": "markdown",
   "metadata": {
    "deletable": false,
    "editable": false,
    "solution2": "hidden",
    "solution2_first": true
   },
   "source": [
    "#### Question 1\n",
    "\n",
    "- Créer la variable `janvier` contenant le tableau avec les informations de la météo au cours du mois de janvier 2009 à Paris. Pour cela, initialiser la variable avec le tableau d'informations contenu dans le fichier `files/meteo_paris_janvier_2009.json`.\n",
    "- Afficher le tableau `janvier`.\n",
    "- Vérifier que les informations pour le 5 janvier sont les mêmes que pour l'Exercice 1."
   ]
  },
  {
   "cell_type": "code",
   "execution_count": null,
   "metadata": {
    "deletable": false,
    "editable": false,
    "solution2": "hidden"
   },
   "outputs": [],
   "source": [
    "#------------------------------#\n",
    "#    CORRECTION  ! ! ! ! ! !   #\n",
    "#------------------------------#\n",
    "\n",
    "from json import *\n",
    "\n",
    "f = open(\"files/meteo_paris_janvier_2009.json\", 'r')\n",
    "janvier = load(f) \n",
    "f.close()\n",
    "\n",
    "print(janvier)\n",
    "#print(janvier[4])\n",
    "print(janvier[4][\"appréciation\"])\n",
    "\n",
    "jour = janvier[4]\n",
    "print(jour[\"appréciation\"])"
   ]
  },
  {
   "cell_type": "markdown",
   "metadata": {
    "deletable": false,
    "editable": false,
    "run_control": {
     "frozen": true
    },
    "solution2": "hidden",
    "solution2_first": true
   },
   "source": [
    "#### Question 2\n",
    "\n",
    "Déterminer le nombre de jours du mois de janvier 2009 pour lesquels l'appréciation météo était `\"météo très défavorable\"`."
   ]
  },
  {
   "cell_type": "code",
   "execution_count": null,
   "metadata": {
    "deletable": false,
    "editable": false,
    "solution2": "hidden"
   },
   "outputs": [],
   "source": [
    "#------------------------------#\n",
    "#    CORRECTION  ! ! ! ! ! !   #\n",
    "#------------------------------#\n",
    "\n",
    "nb_tres_defavorable = 0\n",
    "i = 0\n",
    "while i < len(janvier):\n",
    "    if janvier[i][\"appréciation\"] == \"météo très défavorable\" :\n",
    "        nb_tres_defavorable += 1\n",
    "    i += 1\n",
    "    \n",
    "#autre possibilité \n",
    "nb-j=0\n",
    "for jour in janvier :\n",
    "    if jour[\"appréciation\"]==\"météo très défavorable\":\n",
    "        nb_j+=1\n",
    "    \n",
    "print(nb_j, \"jours au mois de janvier ont été considérés comme très défavorables\")        \n",
    "#print(nb_tres_defavorable, \"jours au mois de janvier ont été considérés comme très défavorables\")"
   ]
  },
  {
   "cell_type": "markdown",
   "metadata": {
    "solution2": "hidden",
    "solution2_first": true
   },
   "source": [
    "#### Question 3\n",
    "\n",
    "- Définir la fonction `Tmax_mois` prenant en paramètre un tableau `mois` contenant les informations météorologiques d'un mois de l'année et retournant la température maximale relevée dans le mois. \n",
    "- Déterminer la température maximale qu'il a fait au mois de janvier 2009."
   ]
  },
  {
   "cell_type": "code",
   "execution_count": null,
   "metadata": {
    "deletable": false,
    "editable": false,
    "solution2": "hidden"
   },
   "outputs": [],
   "source": [
    "#------------------------------#\n",
    "#    CORRECTION  ! ! ! ! ! !   #\n",
    "#------------------------------#\n",
    "\n",
    "def Tmax_mois(mois):\n",
    "    mt = mois[0][\"Tmax\"]\n",
    "    i = 0\n",
    "    while i < len(mois):\n",
    "        if mois[i][\"Tmax\"] > mt:\n",
    "            mt = mois[i][\"Tmax\"]\n",
    "        i += 1\n",
    "    return mt\n",
    "\n",
    "def Tmax_mois2(mois):\n",
    "    mt = mois[0][\"Tmax\"]\n",
    "    for jour in mois:\n",
    "        if jour[\"Tmax\"] > mt:\n",
    "            mt = jour[\"Tmax\"]\n",
    "    return mt\n",
    "\n",
    "print(\"Température maximale relevée en janvier :\", Tmax_mois2(janvier), \"°C\")"
   ]
  },
  {
   "cell_type": "markdown",
   "metadata": {
    "deletable": false,
    "editable": false,
    "run_control": {
     "frozen": true
    }
   },
   "source": [
    "### Exercice 3 : Météo de 2009\n",
    "\n",
    "Les températures pour toute l'année 2009 sont stockées sous la forme d'un dictionnaire contenant 12 entrées : les clés sont les noms des mois (`\"janvier\"`, `\"février\"`, etc) et les valeurs sont les tableaux de températures de chaque mois (au même format que dans l'Exercice 2).\n",
    "\n",
    "Le dictionnaire contenant les données de l'année 2009 se trouve dans le fichier `files/meteo_paris_2009.json`."
   ]
  },
  {
   "cell_type": "markdown",
   "metadata": {
    "deletable": false,
    "editable": false,
    "run_control": {
     "frozen": true
    },
    "solution2": "hidden",
    "solution2_first": true
   },
   "source": [
    "#### Question 1\n",
    "\n",
    "- Créer la variable `meteo2009` contenant le dictionnaire des informations météorologiques de l'année 2009 à Paris. Pour cela, initialiser la variable avec les informations contenues dans le fichier `files/meteo_paris_2009.json`.\n",
    "- Afficher la météo du mois de juillet.\n",
    "- Vérifier que les informations pour le 5 janvier sont les mêmes que dans l'Exercice 1."
   ]
  },
  {
   "cell_type": "code",
   "execution_count": null,
   "metadata": {
    "deletable": false,
    "editable": false,
    "solution2": "hidden"
   },
   "outputs": [],
   "source": [
    "#------------------------------#\n",
    "#    CORRECTION  ! ! ! ! ! !   #\n",
    "#------------------------------#\n",
    "\n",
    "from json import *\n",
    "\n",
    "f = open(\"files/meteo_paris_2009.json\")\n",
    "meteo2009 = load(f)\n",
    "f.close()\n",
    "\n",
    "#print(meteo2009)\n",
    "print(meteo2009[\"juillet\"])\n",
    "print(meteo2009[\"janvier\"][4])\n",
    "\n",
    "#print(meteo2009[\"janvier\"][4][\"appréciation\"])"
   ]
  },
  {
   "cell_type": "markdown",
   "metadata": {
    "deletable": false,
    "editable": false,
    "solution2": "hidden",
    "solution2_first": true
   },
   "source": [
    "#### Question 2\n",
    "\n",
    "- Déterminer le nombre de jours dans l'année 2009 où la météo a été appréciée comme `\"météo très défavorable\"`."
   ]
  },
  {
   "cell_type": "code",
   "execution_count": null,
   "metadata": {
    "deletable": false,
    "editable": false,
    "solution2": "hidden"
   },
   "outputs": [],
   "source": [
    "#------------------------------#\n",
    "#    CORRECTION  ! ! ! ! ! !   #\n",
    "#------------------------------#\n",
    "\n",
    "nb_tres_defavorable = 0\n",
    "\n",
    "mois = list(meteo2009) # On récupère la liste des clés\n",
    "\n",
    "i = 0\n",
    "while i < len(mois):\n",
    "    j = 0\n",
    "    while j < len(meteo2009[mois[i]]):\n",
    "        if meteo2009[mois[i]][j][\"appréciation\"] == \"météo très défavorable\" : \n",
    "            nb_tres_defavorable += 1\n",
    "        j += 1\n",
    "    i += 1\n",
    "\n",
    "# Autre version     \n",
    "nb_j_td=0\n",
    "for mois in meteo2009.values(): #tableau des meteos du mois \n",
    "    for jour in mois : # dictionnaire meteo du jour \n",
    "        if jour[\"appréciation\"]==\"météo très défavorable\":\n",
    "            nb_j_td+=1\n",
    "        \n",
    "        \n",
    "print(nb_j_td, \"jours durant l'année 2009 ont été considérés comme très défavorables\")   \n",
    "#print(nb_tres_defavorable, \"jours durant l'année 2009 ont été considérés comme très défavorables\")"
   ]
  },
  {
   "cell_type": "markdown",
   "metadata": {
    "solution2": "hidden",
    "solution2_first": true
   },
   "source": [
    "#### Question 3\n",
    "\n",
    "Déterminer la température maximale relevée durant l'année 2009. Pour cela, utiliser la fonction définie dans la Question 3 de l'Exercice 2."
   ]
  },
  {
   "cell_type": "code",
   "execution_count": null,
   "metadata": {
    "deletable": false,
    "editable": false,
    "solution2": "hidden"
   },
   "outputs": [],
   "source": [
    "#------------------------------#\n",
    "#    CORRECTION  ! ! ! ! ! !   #\n",
    "#------------------------------#\n",
    "\n",
    "mois = list(meteo2009.values()) #tableau des météos mensuelles meteo2009\n",
    "\n",
    "maxi = Tmax_mois(mois[0]) # Température maximale en janvier\n",
    "\n",
    "i = 1 \n",
    "while i < len(mois):\n",
    "    if Tmax_mois(mois[i]) > maxi:\n",
    "        maxi = Tmax_mois(mois[i])\n",
    "    i += 1\n",
    "print(\"La température maximale relevée en 2009 était\", maxi, \"°C\")"
   ]
  },
  {
   "cell_type": "markdown",
   "metadata": {},
   "source": [
    "### Exercice 4 : Enquête de satisfaction sur la météo"
   ]
  },
  {
   "cell_type": "markdown",
   "metadata": {
    "deletable": false,
    "editable": false,
    "run_control": {
     "frozen": true
    },
    "solution2": "hidden",
    "solution2_first": true
   },
   "source": [
    "#### Question 1\n",
    "\n",
    "- Définir une fonction `moisAppreciation` qui prend en paramètre un mois et une appréciation météo (par exemple \"météo défavorable\") et retourne `True` si le mois contient un jour avec cette appréciation, et `False` sinon.\n",
    "- Vérifier que la fonction satisfait la fonction de tests unitaires `test_moisAppreciation`."
   ]
  },
  {
   "cell_type": "code",
   "execution_count": null,
   "metadata": {
    "deletable": false,
    "editable": false,
    "solution2": "hidden"
   },
   "outputs": [],
   "source": [
    "#------------------------------#\n",
    "#    CORRECTION  ! ! ! ! ! !   #\n",
    "#------------------------------#\n",
    "def moisAppreciation(mois, appreciation):\n",
    "    rep=False\n",
    "    i=0\n",
    "    while i<len(mois) and not(rep):\n",
    "        if mois[i][\"appréciation\"]==appreciation:\n",
    "            rep=True\n",
    "        i+=1\n",
    "    return rep"
   ]
  },
  {
   "cell_type": "code",
   "execution_count": null,
   "metadata": {
    "deletable": false,
    "editable": false
   },
   "outputs": [],
   "source": [
    "def test_moisAppreciation():\n",
    "    assert moisAppreciation(meteo2009[\"janvier\"], \"météo très défavorable\")\n",
    "    assert not moisAppreciation(meteo2009[\"janvier\"], \"météo idéale\")\n",
    "    assert moisAppreciation(meteo2009[\"juillet\"], \"météo favorable\")\n",
    "    \n",
    "    print(\"ok\")\n",
    "    \n",
    "test_moisAppreciation()"
   ]
  },
  {
   "cell_type": "markdown",
   "metadata": {
    "deletable": false,
    "editable": false,
    "run_control": {
     "frozen": true
    },
    "solution2": "hidden",
    "solution2_first": true
   },
   "source": [
    "#### Question 2\n",
    "\n",
    "- Définir une fonction `rechercheSelonAppreciation` qui prend en paramètre un dictionnaire corresponsant à la météo d'une année et une appréciation météo (par exemple `\"météo défavorable\"`) et retourne un tableau contenant les noms des mois ayant au moins un un jour avec cette appréciation météo. Utiliser pour cela, la fonction `moisAppreciation` définie à la question précédente.\n",
    "- Vérifier que la fonction définie satisfait la fonction de tests unitaires `test_rechercheSelonAppreciation`."
   ]
  },
  {
   "cell_type": "code",
   "execution_count": null,
   "metadata": {
    "deletable": false,
    "editable": false,
    "solution2": "hidden"
   },
   "outputs": [],
   "source": [
    "#------------------------------#\n",
    "#    CORRECTION  ! ! ! ! ! !   #\n",
    "#------------------------------#\n",
    "def rechercheSelonAppreciation(annee,appreciation):\n",
    "    mois=list(annee)\n",
    "    rep=[]\n",
    "    i=0\n",
    "    while i<len(mois):\n",
    "        if moisAppreciation(annee[mois[i]],appreciation):\n",
    "            rep.append(mois[i])\n",
    "        i+=1\n",
    "    return rep"
   ]
  },
  {
   "cell_type": "code",
   "execution_count": null,
   "metadata": {
    "deletable": false,
    "editable": false
   },
   "outputs": [],
   "source": [
    "def test_rechercheSelonAppreciation():\n",
    "    assert rechercheSelonAppreciation(meteo2009,\"météo très défavorable\")== ['janvier', 'février', 'mars', 'mai', 'juin', 'juillet', 'août', 'octobre', 'novembre', 'décembre']\n",
    "    assert rechercheSelonAppreciation(meteo2009,\"météo défavorable\")== ['janvier', 'février', 'mars', 'avril', 'mai', 'juin', 'juillet', 'août', 'septembre', 'octobre', 'novembre', 'décembre']\n",
    "    assert rechercheSelonAppreciation(meteo2009,\"météo correcte\")== ['février', 'mars', 'avril', 'mai', 'juin', 'juillet', 'août', 'septembre', 'octobre', 'novembre']\n",
    "    assert rechercheSelonAppreciation(meteo2009,\"météo favorable\")== ['avril', 'mai', 'juin', 'juillet', 'août', 'septembre', 'octobre']\n",
    "    assert rechercheSelonAppreciation(meteo2009,\"météo idéale\") == ['mai', 'juin', 'juillet', 'août', 'septembre']\n",
    "    print(\"ok\")\n",
    "    \n",
    "test_rechercheSelonAppreciation()"
   ]
  },
  {
   "cell_type": "markdown",
   "metadata": {
    "deletable": false,
    "editable": false,
    "run_control": {
     "frozen": true
    },
    "solution2": "hidden",
    "solution2_first": true
   },
   "source": [
    "#### Question 3\n",
    "\n",
    "- Définir une fonction `moisToutesAppreciations` qui prend en paramètre un mois et un tableau d'appréciations et retourne `True` si pour toutes les appréciations du tableau, le mois contient un jour avec cette appréciation, et `False` sinon."
   ]
  },
  {
   "cell_type": "code",
   "execution_count": null,
   "metadata": {
    "deletable": false,
    "editable": false,
    "solution2": "hidden"
   },
   "outputs": [],
   "source": [
    "#------------------------------#\n",
    "#    CORRECTION  ! ! ! ! ! !   #\n",
    "#------------------------------#\n",
    "def moisToutesAppreciations(mois, tab_appreciations):\n",
    "    i=0\n",
    "    while i<len(tab_appreciations) and moisAppreciation(mois, tab_appreciations[i]):\n",
    "        i+=1\n",
    "    return i==len(tab_appreciations)"
   ]
  },
  {
   "cell_type": "markdown",
   "metadata": {
    "deletable": false,
    "editable": false,
    "run_control": {
     "frozen": true
    }
   },
   "source": [
    "- Ecrire une fonction de test unitaire qui vérifie que les mois de mai, juin, juillet et août contiennent touts les appréciations contenues dans le tableau `appreciations` et que ce n'est le cas d'aucun autre mois de l'année."
   ]
  },
  {
   "cell_type": "code",
   "execution_count": null,
   "metadata": {
    "deletable": false,
    "editable": false,
    "solution2": "hidden",
    "solution2_first": true
   },
   "outputs": [],
   "source": [
    "appreciations=[\"météo très défavorable\", \"météo défavorable\", \"météo correcte\", \"météo favorable\", \"météo idéale\"]"
   ]
  },
  {
   "cell_type": "code",
   "execution_count": null,
   "metadata": {
    "deletable": false,
    "editable": false,
    "solution2": "hidden"
   },
   "outputs": [],
   "source": [
    "#------------------------------#\n",
    "#    CORRECTION  ! ! ! ! ! !   #\n",
    "#------------------------------#\n",
    "def test_moisToutesAppreciations():\n",
    "    assert not moisToutesAppreciations(meteo2009[\"janvier\"], appreciations)\n",
    "    assert not moisToutesAppreciations(meteo2009[\"février\"], appreciations)\n",
    "    assert not moisToutesAppreciations(meteo2009[\"mars\"], appreciations)\n",
    "    assert not moisToutesAppreciations(meteo2009[\"avril\"], appreciations)\n",
    "    assert moisToutesAppreciations(meteo2009[\"mai\"], appreciations)\n",
    "    assert moisToutesAppreciations(meteo2009[\"juin\"], appreciations)\n",
    "    assert moisToutesAppreciations(meteo2009[\"juillet\"], appreciations)\n",
    "    assert moisToutesAppreciations(meteo2009[\"août\"], appreciations)\n",
    "    assert not moisToutesAppreciations(meteo2009[\"septembre\"], appreciations)\n",
    "    assert not moisToutesAppreciations(meteo2009[\"octobre\"], appreciations)\n",
    "    assert not moisToutesAppreciations(meteo2009[\"novembre\"], appreciations)\n",
    "    assert not moisToutesAppreciations(meteo2009[\"décembre\"], appreciations)\n",
    "    print(\"ok\")\n",
    "    \n",
    "test_moisToutesAppreciations()"
   ]
  },
  {
   "cell_type": "markdown",
   "metadata": {
    "deletable": false,
    "editable": false,
    "run_control": {
     "frozen": true
    },
    "solution2": "hidden",
    "solution2_first": true
   },
   "source": [
    "#### Question 4\n",
    "\n",
    "- Définir une fonction `moisUneAppreciation` qui prend en paramètre un mois et un tableau d'appréciations et retourne `True` s'il existe un jour dans le mois avec comme appréciation une de celles du tableau passé en paramètre, et `False` sinon.\n",
    "- Vérifier que la fonction définié satisfait la fonction de tests unitaires `test_moisUneAppreciation`."
   ]
  },
  {
   "cell_type": "code",
   "execution_count": null,
   "metadata": {
    "deletable": false,
    "editable": false,
    "solution2": "hidden"
   },
   "outputs": [],
   "source": [
    "#------------------------------#\n",
    "#    CORRECTION  ! ! ! ! ! !   #\n",
    "#------------------------------#\n",
    "def moisUneAppreciation(mois, appreciations):\n",
    "    i = 0\n",
    "    while i < len(appreciations) and not moisAppreciation(mois, appreciations[i]):\n",
    "        i += 1\n",
    "    return i < len(appreciations)        "
   ]
  },
  {
   "cell_type": "code",
   "execution_count": null,
   "metadata": {
    "deletable": false,
    "editable": false
   },
   "outputs": [],
   "source": [
    "def test_moisUneAppreciation():\n",
    "    assert moisUneAppreciation(meteo2009[\"janvier\"], [\"météo très défavorable\", \"météo idéale\"])\n",
    "    assert moisUneAppreciation(meteo2009[\"juin\"], [\"météo très défavorable\", \"météo idéale\"])\n",
    "    assert not moisUneAppreciation(meteo2009[\"janvier\"], [\"météo correcte\", \"météo idéale\"])\n",
    "    print(\"ok\")\n",
    "    \n",
    "test_moisUneAppreciation()"
   ]
  },
  {
   "cell_type": "markdown",
   "metadata": {
    "deletable": false,
    "editable": false,
    "run_control": {
     "frozen": true
    },
    "solution2": "hidden",
    "solution2_first": true
   },
   "source": [
    "#### Question 5\n",
    "\n",
    "- Définir une fonction `rechercheSelonAppreciations` prenant en paramètre une année météo, un tableau d'appréciations météo et un paramètre `toutes` (booléen). La fonction doit retourner l'ensemble des mois ayant des jours avec comme appréciation toutes les appréciations passées en paramètre (si `toutes` vaut `True`) ou l'ensemble des mois ayant un jour avec comme appréciation une des appréciations passées en paramètre (si `toutes` vaut `False`).\n",
    "\n",
    "- Vérifier que la fonction définie satisfait la fonction de tests unitaires `test_rechercheSelonAppreciations()`."
   ]
  },
  {
   "cell_type": "code",
   "execution_count": null,
   "metadata": {
    "deletable": false,
    "editable": false,
    "solution2": "hidden"
   },
   "outputs": [],
   "source": [
    "#------------------------------#\n",
    "#    CORRECTION  ! ! ! ! ! !   #\n",
    "#------------------------------#\n",
    "def rechercheSelonAppreciations(meteoAnnee, appreciations, toutes):\n",
    "    mois = list(meteoAnnee)\n",
    "    liste = []\n",
    "    i = 0\n",
    "    while i < len(mois):\n",
    "        if (toutes and moisToutesAppreciations(meteoAnnee[mois[i]], appreciations)) or (not toutes and moisUneAppreciation(meteoAnnee[mois[i]], appreciations)):\n",
    "            liste.append(mois[i])\n",
    "        i += 1\n",
    "    return liste"
   ]
  },
  {
   "cell_type": "code",
   "execution_count": null,
   "metadata": {
    "deletable": false,
    "editable": false
   },
   "outputs": [],
   "source": [
    "def test_rechercheSelonAppreciations():\n",
    "    rechercheSelonAppreciations(meteo2009, [\"météo très défavorable\", \"météo idéale\"], True)==['mai', 'juin', 'juillet', 'août']\n",
    "    rechercheSelonAppreciations(meteo2009, [\"météo très défavorable\", \"météo idéale\"], False)== ['janvier', 'février', 'mars', 'mai', 'juin', 'juillet', 'août', 'septembre', 'octobre', 'novembre', 'décembre']\n",
    "    print(\"ok\")\n",
    "\n",
    "test_rechercheSelonAppreciations()"
   ]
  },
  {
   "cell_type": "markdown",
   "metadata": {
    "deletable": false,
    "editable": false,
    "run_control": {
     "frozen": true
    }
   },
   "source": [
    "## Pour aller plus loin"
   ]
  },
  {
   "cell_type": "markdown",
   "metadata": {
    "solution2": "hidden",
    "solution2_first": true
   },
   "source": [
    "### Exercice 5 : Compétition de patinage artistique **\n",
    "Le but de cet exercice est de gérer les notes moyennes reçues par les participants à une compétition de patinage artistique. L'objectif est de saisir toutes les données de chaque patineur et de déterminer qui est le gagnant (on suppose qu'il y en a un seul). Dans la suite, chaque patineur sera codé sous la forme d'un dictionnaire contenant un nom, une année de naissance et une moyenne.\n",
    "\n",
    "#### Question 1 : Saisie des données d'un patineur \n",
    "On stocke donc les informations pour chaque patineur dans un dictionnaire qui contient trois couples clé-valeur :\n",
    "- La première clé est le `'nom'` du patineur, c'est une chaîne de caractères.\n",
    "- La deuxième clé est l'`'année_naissance'`, c'est un entier.\n",
    "- La troisème clé est la `'moyenne'` qui est flottant aléatoire compris entre 0 et 5.\n",
    "On ne vérifiera pas la validité de la valeur du nom et de l'année de naissance au moment de la saisie, mais on n'oubliera pas de caster les valeurs saisies. La moyenne sera un flottant entre 0 et 5 tiré au hasard. On pensera à importer des fonctions utiles si nécessaire. \n",
    "\n",
    "Un exemple d'un tel dictionnaire est le suivant :\n",
    "```python\n",
    "{'nom': 'Candeloro', 'année_naissance': 1972, 'moyenne': 1.4478}\n",
    "```\n",
    "Écrire une fonction `saisie_patineur()` qui effectue la saisie des données fournies par l'utilisateur pour le nom et l'année de naissance et qui choisit aléatoirement un nombre flottant entre 0 et 5. La fonction retourne un patineur (dictionnaire) avec les infos saisies et choisie aléatoirement.\n",
    "\n",
    "**N.B** : On rappelle que la fonction `random()` de la bibliothèque `random` retourne un nombre flottant aléatoire compris entre 0 et 1 inclus."
   ]
  },
  {
   "cell_type": "code",
   "execution_count": null,
   "metadata": {
    "deletable": false,
    "editable": false,
    "solution2": "hidden"
   },
   "outputs": [],
   "source": [
    "#------------------------------#\n",
    "#    CORRECTION  ! ! ! ! ! !   #\n",
    "#------------------------------#\n",
    "from random import *\n",
    "\n",
    "def saisie_patineur():\n",
    "    patineur ={}\n",
    "    patineur['nom']= input(\"Nom \")\n",
    "    patineur['année_naissance'] =int(input(\"Année de naissance \"))\n",
    "    patineur['moyenne']=round(5*random(),4) #ou round(uniform(0,5),4)\n",
    "    return patineur\n",
    "    #round est juste là pour limiter le nombre de chiffres \n",
    "    #après la virgule"
   ]
  },
  {
   "cell_type": "markdown",
   "metadata": {
    "solution2": "hidden",
    "solution2_first": true
   },
   "source": [
    "#### Question 2 : Saisie de la liste des participants\n",
    "La liste des participants est stockée sous forme d'un tableau dont les cases sont les patineurs (représentés par les dictionnaires définis à la question précédente).\n",
    "\n",
    "Écrire une fonction `liste_participants()` permettant la saisie des patineurs participant à la compétition et retournant le tableau obtenu. Il y a au moins un participant à la compétition et la saisie se poursuivra tant que l'utilisateur le souhaitera. On pensera à utiliser la fonction `saisie_patineur()` définie à la question précédente."
   ]
  },
  {
   "cell_type": "code",
   "execution_count": null,
   "metadata": {
    "deletable": false,
    "editable": false,
    "solution2": "hidden"
   },
   "outputs": [],
   "source": [
    "#------------------------------#\n",
    "#    CORRECTION  ! ! ! ! ! !   #\n",
    "#------------------------------#\n",
    "def liste_participants():\n",
    "    participants=[]\n",
    "    rep='o'\n",
    "    while rep=='o':\n",
    "        participants.append(saisie_patineur())\n",
    "        rep=input(\"Y a-t-il d'autres participants o/n? \")\n",
    "    return participants"
   ]
  },
  {
   "cell_type": "markdown",
   "metadata": {
    "solution2": "hidden",
    "solution2_first": true
   },
   "source": [
    "#### Question 3 : Moyennes des patineurs\n",
    "On veut collecter dans un tableau les moyennes obtenues par les participants, ce tableau sera ensuite utilisé pour déterminer qui est le gagnant.\n",
    "\n",
    "Écrire une fonction `moyennes_participants()`qui prend en paramètre une liste des participants à la compétition (c'est-à-dire un tableau de patineurs) et qui renvoie le tableau dont chaque case est la moyenne du patineur correspondant."
   ]
  },
  {
   "cell_type": "code",
   "execution_count": null,
   "metadata": {
    "deletable": false,
    "editable": false,
    "solution2": "hidden"
   },
   "outputs": [],
   "source": [
    "#------------------------------#\n",
    "#    CORRECTION  ! ! ! ! ! !   #\n",
    "#------------------------------#\n",
    "def moyennes_participants(participants):\n",
    "    moyennes=[]\n",
    "    i=0\n",
    "    while i<len(participants):\n",
    "        patineur=participants[i]\n",
    "        moyennes.append(patineur['moyenne'])\n",
    "        i+=1\n",
    "    return moyennes"
   ]
  },
  {
   "cell_type": "markdown",
   "metadata": {
    "solution2": "hidden",
    "solution2_first": true
   },
   "source": [
    "#### Question 4 :  Vainqueur de la compétition\n",
    "On veut déterminer le vainqueur de la compétition.\n",
    "\n",
    "Écrire une fonction `gagnant()` qui prend en paramètre un tableau de patineurs (on suppose qu'il y a au moins un patineur) et qui retourne le nom du patineur gagnant que l'on suppose unique. "
   ]
  },
  {
   "cell_type": "code",
   "execution_count": null,
   "metadata": {
    "deletable": false,
    "editable": false,
    "solution2": "hidden"
   },
   "outputs": [],
   "source": [
    "#------------------------------#\n",
    "#    CORRECTION  ! ! ! ! ! !   #\n",
    "#------------------------------#\n",
    "def gagnant(participants):\n",
    "    moyennes=moyennes_participants(participants)\n",
    "    i=1\n",
    "    gagnant=0\n",
    "    while i< len(participants):\n",
    "        if moyennes[i]> moyennes[gagnant]:\n",
    "            gagnant=i\n",
    "        i+=1\n",
    "    return(participants[gagnant]['nom'])"
   ]
  },
  {
   "cell_type": "markdown",
   "metadata": {
    "solution2": "hidden",
    "solution2_first": true
   },
   "source": [
    "#### Question 5 : C'est la compétition ! \n",
    "\n",
    "Écrire un programme principal qui permet \n",
    "- la saisie de la liste des participants à la compétition,\n",
    "- la collecte et l'affichage des moyennes obtenues, \n",
    "- l'affichage du nom du gagnant."
   ]
  },
  {
   "cell_type": "code",
   "execution_count": null,
   "metadata": {
    "deletable": false,
    "editable": false,
    "solution2": "hidden"
   },
   "outputs": [],
   "source": [
    "#------------------------------#\n",
    "#    CORRECTION  ! ! ! ! ! !   #\n",
    "#------------------------------#\n",
    "participants = liste_participants()\n",
    "moyennes = moyennes_participants(participants)\n",
    "print(moyennes)\n",
    "print(\"C'est\", gagnant(participants), \"qui a gagné !\")"
   ]
  }
 ],
 "metadata": {
  "kernelspec": {
   "display_name": "Python 3 (ipykernel)",
   "language": "python",
   "name": "python3"
  },
  "language_info": {
   "codemirror_mode": {
    "name": "ipython",
    "version": 3
   },
   "file_extension": ".py",
   "mimetype": "text/x-python",
   "name": "python",
   "nbconvert_exporter": "python",
   "pygments_lexer": "ipython3",
   "version": "3.11.4"
  },
  "latex_envs": {
   "LaTeX_envs_menu_present": true,
   "autoclose": false,
   "autocomplete": true,
   "bibliofile": "biblio.bib",
   "cite_by": "apalike",
   "current_citInitial": 1,
   "eqLabelWithNumbers": true,
   "eqNumInitial": 1,
   "hotkeys": {
    "equation": "Ctrl-E",
    "itemize": "Ctrl-I"
   },
   "labels_anchors": false,
   "latex_user_defs": false,
   "report_style_numbering": false,
   "user_envs_cfg": false
  },
  "toc": {
   "base_numbering": 1,
   "nav_menu": {},
   "number_sections": true,
   "sideBar": true,
   "skip_h1_title": false,
   "title_cell": "Table of Contents",
   "title_sidebar": "Contents",
   "toc_cell": false,
   "toc_position": {},
   "toc_section_display": true,
   "toc_window_display": false
  }
 },
 "nbformat": 4,
 "nbformat_minor": 2
}
