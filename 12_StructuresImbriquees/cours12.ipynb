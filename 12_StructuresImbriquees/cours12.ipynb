{
 "cells": [
  {
   "cell_type": "markdown",
   "id": "b8d1c7ef",
   "metadata": {
    "deletable": false,
    "editable": false,
    "run_control": {
     "frozen": true
    }
   },
   "source": [
    "# <center> Chapitre 12 : Structures imbriquées </center>"
   ]
  },
  {
   "cell_type": "markdown",
   "id": "3a44b083",
   "metadata": {
    "deletable": false,
    "editable": false,
    "run_control": {
     "frozen": true
    }
   },
   "source": [
    "Il existe en Python deux types de structures de données permettant de regrouper des informations : les tableaux et les dictionnaires. Ces structures de données peuvent contenir des informations de différents types : entiers, flottants, booléens, chaînes de caractères voire d'autres structures (tableaux ou dictionnaires). On parle alors de structures imbriquées (structures de données dans d'autres structures de données).\n",
    "\n",
    "Si une structure est imbriquée dans une autre (tableau dans un tableau, dictionnaire dans un dictionnaire, dictionnaire dans tableau ou tableau dans un dictionnaire), on parle d'une structure imbriquée de niveau 2.\n",
    "\n",
    "Si une structure est imbriquée dans une autre structure, elle-même imbriquée dans une autre structure, on parle d'une structure imbriquée de niveau 3.\n",
    "\n",
    "Théoriquement, on peut avoir autant d'imbrication que l'on souhaite (structure imbriquée de niveau $k$, $k \\ge 1$) mais dans la pratique, on dépasse rarement le niveau 2 ou 3. "
   ]
  },
  {
   "cell_type": "markdown",
   "id": "3a174f73",
   "metadata": {
    "deletable": false,
    "editable": false,
    "run_control": {
     "frozen": true
    }
   },
   "source": [
    "Les structures de données imbriquées permettent de stocker des informations de manière structurée."
   ]
  },
  {
   "cell_type": "markdown",
   "id": "c6b918c9",
   "metadata": {
    "deletable": false,
    "editable": false,
    "run_control": {
     "frozen": true
    }
   },
   "source": [
    "## Exemple\n",
    "\n",
    "On peut regrouper les informations d'un lauréat du prix Nobel (nom et prénom, année du prix Nobel, domaine) dans un dictionnaire. Par exemple : "
   ]
  },
  {
   "cell_type": "code",
   "execution_count": 3,
   "id": "d6c35fa0",
   "metadata": {
    "deletable": false,
    "editable": false
   },
   "outputs": [],
   "source": [
    "np2021 = {\n",
    "    \"nom\": \"Maria Ressa\", \n",
    "    \"année\": 2021, \n",
    "    \"domaine\": \"Paix\"\n",
    "}"
   ]
  },
  {
   "cell_type": "markdown",
   "id": "40ed04a8",
   "metadata": {
    "deletable": false,
    "editable": false,
    "run_control": {
     "frozen": true
    }
   },
   "source": [
    "Pour regrouper dans une structure l'ensemble des prix Nobels, on utilise alors un tableau de prix Nobels. Autrement dit, on utilise un tableau dont chaque case contient un prix Nobel, c'est-à-dire un dictionnaire.\n",
    "\n",
    "Un tableau contenant un dictionnaire est une structure imbriquée. Par exemple, voici un tableau contenant les 5 derniers prix Nobels attribués à des femmes avant 2022 :"
   ]
  },
  {
   "cell_type": "code",
   "execution_count": 4,
   "id": "2344cfda",
   "metadata": {
    "deletable": false,
    "editable": false
   },
   "outputs": [
    {
     "name": "stdout",
     "output_type": "stream",
     "text": [
      "[{'nom': 'Maria Ressa', 'année': 2021, 'domaine': 'Paix'}, {'nom': 'Andrea M. Ghez', 'année': 2020, 'domaine': 'Physique'}, {'nom': 'Emmanuelle Charpentier', 'année': 2020, 'domaine': 'Chimie'}, {'nom': 'Jennifer Doudna', 'année': 2020, 'domaine': 'Chimie'}, {'nom': 'Louise Glück', 'année': 2020, 'domaine': 'Littérature'}]\n"
     ]
    }
   ],
   "source": [
    "nobels_femmes = [\n",
    "    {\n",
    "        \"nom\"     : \"Maria Ressa\",\n",
    "        \"année\"   : 2021,\n",
    "        \"domaine\" : \"Paix\"        \n",
    "    },\n",
    "    {\n",
    "        \"nom\"     : \"Andrea M. Ghez\",\n",
    "        \"année\"   : 2020,\n",
    "        \"domaine\" : \"Physique\"\n",
    "    },\n",
    "    {\n",
    "        \"nom\"     : \"Emmanuelle Charpentier\",\n",
    "        \"année\"   : 2020,\n",
    "        \"domaine\" : \"Chimie\"\n",
    "    },\n",
    "    {\n",
    "        \"nom\"     : \"Jennifer Doudna\",\n",
    "        \"année\"   : 2020,\n",
    "        \"domaine\" : \"Chimie\"\n",
    "    },\n",
    "    {\n",
    "        \"nom\"     : \"Louise Glück\",\n",
    "        \"année\"   : 2020,\n",
    "        \"domaine\" : \"Littérature\"\n",
    "    }\n",
    "]\n",
    "print(nobels_femmes)"
   ]
  },
  {
   "cell_type": "markdown",
   "id": "75e0b10f",
   "metadata": {
    "deletable": false,
    "editable": false,
    "run_control": {
     "frozen": true
    }
   },
   "source": [
    "Il s'agit d'une structure de niveau 2. Plus précisément, on a un tableau de 5 cases, chaque case contenant un dictionnaire possédant 3 entrées (couples clés:valeurs)."
   ]
  },
  {
   "cell_type": "markdown",
   "id": "1a0e2080",
   "metadata": {},
   "source": [
    "## Accès aux informations d'une structure imbriquée"
   ]
  },
  {
   "cell_type": "markdown",
   "id": "efce2e38",
   "metadata": {
    "deletable": false,
    "editable": false,
    "run_control": {
     "frozen": true
    }
   },
   "source": [
    " Pour accéder aux informations d'une structure de données imbriquée, on va du plus général (structure de données contenant les autres) au plus précis.\n",
    " \n",
    " Par exemple, l'exemple suivant permet d'afficher le domaine du prix Nobel du denier prix du tableau : "
   ]
  },
  {
   "cell_type": "code",
   "execution_count": 5,
   "id": "06d1ab52",
   "metadata": {
    "deletable": false,
    "editable": false
   },
   "outputs": [
    {
     "name": "stdout",
     "output_type": "stream",
     "text": [
      "{'nom': 'Louise Glück', 'année': 2020, 'domaine': 'Littérature'}\n",
      "Littérature\n"
     ]
    }
   ],
   "source": [
    "nobel = nobels_femmes[4] \n",
    "print(nobel)\n",
    "print(nobel[\"domaine\"])"
   ]
  },
  {
   "cell_type": "markdown",
   "id": "1ad4a55b",
   "metadata": {
    "deletable": false,
    "editable": false,
    "run_control": {
     "frozen": true
    }
   },
   "source": [
    "Pour accéder à l'information, on a utilisé une variable temporaire `nobel` qui est égale à (*i.e.,* c'est un alias) `nobels_femme[4]`. On peut accéder à cette information sans passer par une variable temporaire : "
   ]
  },
  {
   "cell_type": "code",
   "execution_count": 6,
   "id": "426a7f7c",
   "metadata": {
    "deletable": false,
    "editable": false
   },
   "outputs": [
    {
     "name": "stdout",
     "output_type": "stream",
     "text": [
      "Littérature\n"
     ]
    }
   ],
   "source": [
    "print(nobels_femmes[4][\"domaine\"])"
   ]
  },
  {
   "cell_type": "markdown",
   "id": "3b2a9d67",
   "metadata": {
    "deletable": false,
    "editable": false,
    "run_control": {
     "frozen": true
    }
   },
   "source": [
    "Pour accéder directement à une information stockée dans une structure de données de niveau 2, on utilise alors `variable[...][...]`.\n",
    "\n",
    "Pour accéder directement à une information stockée dans une structure de données de niveau 3, on utilise alors `variable[...][...][...]`.\n"
   ]
  },
  {
   "cell_type": "markdown",
   "id": "eeabbd6e",
   "metadata": {
    "deletable": false,
    "editable": false,
    "run_control": {
     "frozen": true
    }
   },
   "source": [
    "* Sur ce thème : **Exercice 1, TD 12**.\n"
   ]
  },
  {
   "cell_type": "markdown",
   "id": "b8a563b0",
   "metadata": {
    "deletable": false,
    "editable": false,
    "run_control": {
     "frozen": true
    }
   },
   "source": [
    "## Parcours de structures imbriquées"
   ]
  },
  {
   "cell_type": "markdown",
   "id": "966040dd",
   "metadata": {
    "deletable": false,
    "editable": false,
    "run_control": {
     "frozen": true
    }
   },
   "source": [
    "Si une structure de données a une forme spécifique (un tableau dont chaque case contient un tableau par exemple), on peut alors parcourir toutes les données de la structure en utilisant des boucles imbriquées.\n",
    "\n",
    "Par exemple,"
   ]
  },
  {
   "cell_type": "code",
   "execution_count": null,
   "id": "f3951bc0",
   "metadata": {
    "deletable": false,
    "editable": false
   },
   "outputs": [],
   "source": [
    "matrice = [\n",
    "    [ 2,  3,  4], \n",
    "    [ 4,  3,  2], \n",
    "    [ 7,  8,  9], \n",
    "    [10, 11, 12]\n",
    "]\n",
    "\n",
    "# Faire la somme des nombres de la matrice\n",
    "\n",
    "somme = 0\n",
    "ligne = 0 # parcours du grand tableau de taille 4\n",
    "while ligne < 4:\n",
    "    \n",
    "    #somme des élements de ligne ligne \n",
    "    colonne = 0  # parcours des petits tableaux de taille 3\n",
    "    while colonne < 3:\n",
    "        somme += matrice[ligne][colonne]\n",
    "        # solution avec variable temporaire \n",
    "        # tmp = matrice[ligne]\n",
    "        # somme+=tmp[colonne]\n",
    "        colonne += 1\n",
    "    \n",
    "    \n",
    "    ligne += 1\n",
    "print(\"somme = \", somme)"
   ]
  },
  {
   "cell_type": "markdown",
   "id": "179df538",
   "metadata": {},
   "source": [
    "### Les boucles imbriquées\n",
    "\n",
    "* On dit que deux boucles sont _imbriquées_ si **l'une est contenue dans le bloc d'instructions de l'autre**. \n",
    "* Certains algorithmes nécessitent d'imbriquer des boucles. \n",
    ">C'est le cas si l'on souhaite par exemple afficher toutes les tables de multiplications de `1` à `10`. En effet, \n",
    ">* l'affichage de la table de multiplication d'un nombre, par exemple la table de multiplication de `7`, nécessite\n",
    "une boucle ;\n",
    ">* de plus, il faut afficher la table de multiplication pour chaque nombre entre `1` et `10`, ce qui nécessite une deuxième boucle contenant la première."
   ]
  },
  {
   "cell_type": "markdown",
   "id": "6a7a78bf",
   "metadata": {
    "deletable": false,
    "editable": false,
    "run_control": {
     "frozen": true
    }
   },
   "source": [
    "#### Premier exemple\n",
    "\n",
    "Il s'agit d'afficher les tables de multiplication pour tous les nombres entre `1` et `10` inclus.\n",
    "Chaque table se présentera comme suit :\n",
    "\n",
    "```\n",
    "TABLE de 4 \n",
    "4 * 1 = 4 \n",
    "4 * 2 = 8 \n",
    "4 * 3 = 12 \n",
    "4 * 4 = 16 \n",
    "4 * 5 = 20 \n",
    "4 * 6 = 24 \n",
    "4 * 7 = 28 \n",
    "4 * 8 = 32 \n",
    "4 * 9 = 36 \n",
    "4 * 10 = 40\n",
    "```\n",
    "\n",
    "Comme très souvent, plutôt que d'essayer d'écrire directement le détail du programme, il peut être préférable de procéder par étape. Par exemple, nous pouvons dire que, globalement, notre programme doit écrire les `10` tables de multiplication de `1` à `10` et qu'il doit donc se présenter ainsi :\n",
    "\n",
    "````python\n",
    "i=1\n",
    "while i<=10 :\n",
    "           # écrire la table de i\n",
    "   i+=1\n",
    "\n",
    "````\n",
    "\n",
    "Pour écrire la table du nombre `i`, nous pouvons procéder ainsi :\n",
    "\n",
    "````python\n",
    "print(\"\\n\\nTABLE de \", i, '\\n')\n",
    "j=1\n",
    "while j<=10 : #Pour chaque nombre j variant de 1 à 10\n",
    "    print(i, \" * \", j, \" = \", i*j)\n",
    "    j+=1\n",
    " ````\n",
    " \n",
    "En insérant dans la boucle `while` principale le code permettant l'écriture de la table de multiplication, nous obtenons le code complet suivant :"
   ]
  },
  {
   "cell_type": "code",
   "execution_count": null,
   "id": "c48191db",
   "metadata": {
    "deletable": false,
    "editable": false
   },
   "outputs": [],
   "source": [
    "i=1\n",
    "while  i<=10 :\n",
    "    print(\"\\n TABLE de \", i, '\\n')\n",
    "    j=1\n",
    "    while j<=10 : #Pour chaque nombre j variant de 1 à 10\n",
    "        print(i, \" * \", j, \" = \", i*j)\n",
    "        j+=1\n",
    "    i+=1"
   ]
  },
  {
   "cell_type": "markdown",
   "id": "9c1ec428",
   "metadata": {
    "deletable": false,
    "editable": false,
    "run_control": {
     "frozen": true
    }
   },
   "source": [
    "**Remarque** : On peut remplacer l'écriture de boucles imbriquées par l'appel de fonction. Par exemple, si l'on définit la fonction `tableMult` permettant d'écrire la table de multiplication d'un nombre `i`, l'algorithme devient :"
   ]
  },
  {
   "cell_type": "code",
   "execution_count": null,
   "id": "5ef97cbf",
   "metadata": {
    "deletable": false,
    "editable": false
   },
   "outputs": [],
   "source": [
    "def tableMult(i) :\n",
    "    \"\"\" Affiche la table de multiplication de i \"\"\"\n",
    "    j=1\n",
    "    while j<=10 : #Pour chaque nombre j variant de 1 à 10\n",
    "        print(i, \" * \", j, \" = \", i*j)\n",
    "        j+=1 \n",
    "        \n",
    "# algo principal     \n",
    "i=1\n",
    "while  i<=10 :\n",
    "    print(\"\\n\\n Table de \", i, '\\n')\n",
    "    tableMult(i)\n",
    "    i+=1"
   ]
  },
  {
   "cell_type": "markdown",
   "id": "07601e12",
   "metadata": {
    "deletable": false,
    "editable": false,
    "run_control": {
     "frozen": true
    }
   },
   "source": [
    "La fonction `tableMult` contenant une boucle, il y a bien imbrication de boucles pour l'ordinateur mais le fait de transférer la boucle correspondant à l'écriture de la table de multiplication de l'entier `i` dans la fonction `tableMult` permet, lors de l'écriture de l'algorithme, de n'écrire qu'une simple boucle, **le programme est plus lisible**."
   ]
  },
  {
   "cell_type": "markdown",
   "id": "79136208",
   "metadata": {
    "deletable": false,
    "editable": false,
    "run_control": {
     "frozen": true
    }
   },
   "source": [
    "#### Deuxième exemple\n",
    "\n",
    "On souhaite écrire un programme permettant de jouer au nombre magique. Voici le déroulement d'une partie :\n",
    "1. l'ordinateur choisit un nombre aléatoire entre `1` et `100` inclus ;\n",
    "2. le joueur a `6` tentatives pour déterminer ce nombre. À chaque tentative, si le nombre saisi par le joueur n'est pas le nombre aléatoire choisi par l'ordinateur, le programme indique si le nombre proposé par le joueur est plus petit ou plus grand que le nombre aléatoire.\n",
    "\n",
    "On souhaite que le programme permette de jouer plusieurs fois de suite à ce jeu. Ainsi, après chaque partie, l'ordinateur demande à l'utilisateur s'il veut rejouer. Le programme s'arrête dès que le joueur ne veut plus jouer.\n",
    "\n",
    "Pour réaliser un tel programme, il faut d'abord déterminer le code permettant de jouer au nombre magique. On a donc un nombre choisi aléatoirement et une boucle qui demande à l'utilisateur de saisir un nombre puis indiquant si celui-ci est plus petit ou plus grand que le nombre magique, et ce jusqu'à ce que l'utilisateur ait effectué `6` tentatives ou trouvé le nombre magique.\n",
    "\n",
    "\n",
    "Un exemple de code est le suivant."
   ]
  },
  {
   "cell_type": "code",
   "execution_count": null,
   "id": "3ca43961",
   "metadata": {
    "deletable": false,
    "editable": false
   },
   "outputs": [],
   "source": [
    "from random import *\n",
    "nombreAleatoire = randint(1,100)\n",
    "tentative = 0\n",
    "nombre = -1\n",
    "\n",
    "while nombre !=  nombreAleatoire and tentative < 6 :\n",
    "    tentative+=1\n",
    "    print(\"Saisissez un nombre : \")\n",
    "    nombre=int(input())\n",
    "    if nombre < nombreAleatoire :\n",
    "        print(\"Le nombre magique est plus grand \\n\")\n",
    "    elif nombre > nombreAleatoire :\n",
    "        print(\"Le nombre magique est plus petit \\n\")\n",
    "\n",
    "if nombre==nombreAleatoire :\n",
    "    print(\"Vous avez gagné ! \\n\")\n",
    "else :\n",
    "    print(\"Vous avez perdu  ! \\n\")"
   ]
  },
  {
   "cell_type": "markdown",
   "id": "737efa65",
   "metadata": {
    "deletable": false,
    "editable": false,
    "run_control": {
     "frozen": true
    }
   },
   "source": [
    "Ce code doit être exécuté une première fois. Le programme doit ensuite demander à l'utilisateur s'il souhaite rejouer une autre fois et ceci doit se répéter tant que l'utilisateur saisit la lettre `O` pour oui. Cette boucle est alors de la forme :"
   ]
  },
  {
   "cell_type": "code",
   "execution_count": null,
   "id": "95b24d3a",
   "metadata": {
    "deletable": false,
    "editable": false
   },
   "outputs": [],
   "source": [
    "rejoue=\"O\"\n",
    "while rejoue==\"O\" :\n",
    "    print(\"Nouvelle partie\\n\")\n",
    "  \n",
    "    #Code de la partie...\n",
    "  \n",
    "    print(\"Voulez-vous rejouer (O/N) ?\")\n",
    "    rejoue=input()"
   ]
  },
  {
   "cell_type": "markdown",
   "id": "44834463",
   "metadata": {
    "deletable": false,
    "editable": false,
    "run_control": {
     "frozen": true
    }
   },
   "source": [
    "En insérant le code permettant de jouer à une partie, on obtient alors le programme complet suivant :"
   ]
  },
  {
   "cell_type": "code",
   "execution_count": null,
   "id": "c517f074",
   "metadata": {
    "deletable": false,
    "editable": false
   },
   "outputs": [],
   "source": [
    "from random import *\n",
    "\n",
    "rejoue=\"O\"\n",
    "while rejoue==\"O\" :\n",
    "\n",
    "    print(\"Nouvelle partie\\n\")\n",
    "    \n",
    "    nombreAleatoire = randint(1,100)\n",
    "    tentative = 0\n",
    "    nombre = -1 \n",
    "    while nombre !=  nombreAleatoire and tentative < 10 :\n",
    "        tentative=+1\n",
    "        print(\"Saisissez un nombre : \")\n",
    "        nombre=int(input())\n",
    "        if nombre < nombreAleatoire :\n",
    "            print(\"Le nombre magique est plus grand\\n\")\n",
    "        elif nombre > nombreAleatoire :\n",
    "            print(\"Le nombre magique est plus petit\\n\")\n",
    "\n",
    "    if nombre==nombreAleatoire :\n",
    "        print(\"Vous avez gagné\\n\")\n",
    "    else :\n",
    "        print(\"Vous avez perdu\\n\")    \n",
    "  \n",
    "    print(\"Voulez-vous rejouer (O/N) ?\")\n",
    "    rejoue=input()"
   ]
  },
  {
   "cell_type": "markdown",
   "id": "68e2d45c",
   "metadata": {
    "deletable": false,
    "editable": false,
    "run_control": {
     "frozen": true
    }
   },
   "source": [
    "**Attention** : Il faut faire très attention à l'initialisation de la boucle interne. Pour chaque partie, il faut choisir un nombre aléatoire et mettre le compteur de tentatives à 0. Autrement dit, les instructions correspondantes (lignes 8 à 10) sont faites à l'intérieur de la boucle `while` et non au début du programme !\n",
    "\n",
    "Comme dans l'exemple précédent, il est possible d'encapsuler la boucle d'une *partie du jeu nombre magique* dans une fonction `jouer_partie_nombre_magique` :"
   ]
  },
  {
   "cell_type": "code",
   "execution_count": null,
   "id": "b22270da",
   "metadata": {
    "deletable": false,
    "editable": false
   },
   "outputs": [],
   "source": [
    "def jouer_partie_nombre_magique() :\n",
    "    \"\"\" Permet de jouer une partie du jeu nombre magique\"\"\"\n",
    "    nombreAleatoire = randint(1,100)\n",
    "    tentative = 0\n",
    "    nombre = -1 \n",
    "    while nombre !=  nombreAleatoire and tentative < 10 :\n",
    "        tentative=+1\n",
    "        print(\"Saisissez un nombre : \")\n",
    "        nombre=int(input())\n",
    "        if nombre < nombreAleatoire :\n",
    "            print(\"Le nombre magique est plus grand\\n\")\n",
    "        elif nombre > nombreAleatoire :\n",
    "            print(\"Le nombre magique est plus petit\\n\")\n",
    "\n",
    "    if nombre==nombreAleatoire :\n",
    "        print(\"Vous avez gagné\\n\")\n",
    "    else :\n",
    "        print(\"Vous avez perdu\\n\")    "
   ]
  },
  {
   "cell_type": "markdown",
   "id": "3f5987fa",
   "metadata": {
    "deletable": false,
    "editable": false,
    "run_control": {
     "frozen": true
    }
   },
   "source": [
    "L'algorithme final devient :"
   ]
  },
  {
   "cell_type": "code",
   "execution_count": null,
   "id": "03cbdfeb",
   "metadata": {
    "deletable": false,
    "editable": false
   },
   "outputs": [],
   "source": [
    "from random import *\n",
    "\n",
    "rejoue=\"O\"\n",
    "while rejoue==\"O\" :\n",
    "\n",
    "    print(\"Nouvelle partie\\n\")\n",
    "    jouer_partie_nombre_magique()\n",
    "    \n",
    "    print(\"Voulez-vous rejouer (O/N) ?\")\n",
    "    rejoue=input()"
   ]
  },
  {
   "cell_type": "markdown",
   "id": "19a3be28",
   "metadata": {
    "deletable": false,
    "editable": false,
    "run_control": {
     "frozen": true
    }
   },
   "source": [
    "* Sur ce thème : **Exercices 2, 3 et 4, TD 12**"
   ]
  }
 ],
 "metadata": {
  "kernelspec": {
   "display_name": "Python 3 (ipykernel)",
   "language": "python",
   "name": "python3"
  },
  "language_info": {
   "codemirror_mode": {
    "name": "ipython",
    "version": 3
   },
   "file_extension": ".py",
   "mimetype": "text/x-python",
   "name": "python",
   "nbconvert_exporter": "python",
   "pygments_lexer": "ipython3",
   "version": "3.11.4"
  }
 },
 "nbformat": 4,
 "nbformat_minor": 5
}
