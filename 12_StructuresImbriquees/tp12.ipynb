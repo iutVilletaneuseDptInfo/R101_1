{
 "cells": [
  {
   "cell_type": "markdown",
   "id": "74a0516b",
   "metadata": {
    "deletable": false,
    "editable": false,
    "run_control": {
     "frozen": true
    }
   },
   "source": [
    "# <center> TP 12 : Structures imbriquées </center>"
   ]
  },
  {
   "cell_type": "markdown",
   "id": "d082783d",
   "metadata": {
    "deletable": false,
    "editable": false,
    "run_control": {
     "frozen": true
    }
   },
   "source": [
    "Les données météorologiques utilisées dans ce TP concernent la ville de Paris en 2009. Ces données sont issues du site *https://www.historique-meteo.net/*."
   ]
  },
  {
   "cell_type": "markdown",
   "id": "d0fd961d",
   "metadata": {
    "deletable": false,
    "editable": false,
    "run_control": {
     "frozen": true
    }
   },
   "source": [
    "### Exercice 1 : Météo du 5 janvier 2009"
   ]
  },
  {
   "cell_type": "markdown",
   "id": "4b6df576",
   "metadata": {
    "deletable": false,
    "editable": false,
    "run_control": {
     "frozen": true
    }
   },
   "source": [
    "La météo d'une journée est définie par :\n",
    "\n",
    "* la température maximale relevée (°C),\n",
    "\n",
    "* la température minimale relevée (°C),\n",
    "\n",
    "* la précipitation relevée (mm),\n",
    "\n",
    "* l'appréciation de la météo : `\"météo très défavorable\"`, `\"météo défavorable\"`, `\"météo correcte\"`, `\"météo favorable\"`ou `\"météo idéale\"`.\n",
    "\n",
    "On représentera la météo d'une journée sous la forme d'un dictionnaire contenant 4 entrées : \n",
    "\n",
    "* `Tmax` (la valeur est un entier)\n",
    "\n",
    "* `Tmin` (la valeur est un entier)\n",
    "\n",
    "* `\"précipitation\"` (la valeur est un flottant)\n",
    "\n",
    "* `\"appréciation\"` (la valeur est une chaîne de caractères)"
   ]
  },
  {
   "cell_type": "markdown",
   "id": "56dffcf3",
   "metadata": {
    "deletable": false,
    "editable": false,
    "run_control": {
     "frozen": true
    }
   },
   "source": [
    "#### Question 1 \n",
    "\n",
    "Définir un dictionnaire (stocké dans la variable `meteo5janvier` représentant la météo du 5 janvier 2009 à Paris sachant qu'il a fait -2°C au minimum, 0°C au maximum, qu'il a plu 6.9 mm et que l'appréciation était `\"météo très défavorable\"`."
   ]
  },
  {
   "cell_type": "code",
   "execution_count": 2,
   "id": "c28ed67e",
   "metadata": {
    "tags": [
     "answer"
    ]
   },
   "outputs": [],
   "source": [
    "#-------------------------#\n",
    "#    Écrire le code ici   #\n",
    "#-------------------------#\n",
    "\n",
    "\n",
    "\n",
    "\n"
   ]
  },
  {
   "cell_type": "markdown",
   "id": "a2e755cf",
   "metadata": {
    "deletable": false,
    "editable": false,
    "run_control": {
     "frozen": true
    }
   },
   "source": [
    "#### Question 2\n",
    "\n",
    "En utilisant les informations stockées dans `meteo5janvier`, afficher la phrase : \n",
    "\n",
    "`Ce jour-là, il a fait -2 °C au minimum, 0 °C au maximum et il a plu 6.9 mm, quelle météo très défavorable !`"
   ]
  },
  {
   "cell_type": "code",
   "execution_count": null,
   "id": "2943def4",
   "metadata": {
    "tags": [
     "answer"
    ]
   },
   "outputs": [],
   "source": [
    "#-------------------------#\n",
    "#    Écrire le code ici   #\n",
    "#-------------------------#\n",
    "\n",
    "\n",
    "\n"
   ]
  },
  {
   "cell_type": "markdown",
   "id": "b4dac679",
   "metadata": {
    "deletable": false,
    "editable": false,
    "run_control": {
     "frozen": true
    }
   },
   "source": [
    "### Exercice 2 : Météo du mois de janvier\n",
    "\n",
    "Les températures pendant tout un mois sont stockées sous la forme d'un tableau de dictionnaires. Il y a autant de cases dans le tableau qu'il y a de jours dans le mois. Chaque case contient alors un dictionnaire comme dans l'Exercice 1.\n",
    "\n",
    "**Attention :** Comme l'indice d'un tableau commence à 0, le $i$ème jour sera stocké dans la case d'indice $i-1$.\n",
    "\n",
    "Les données du mois de janvier se trouvent dans le fichier `files/meteo_paris_janvier_2009.json`."
   ]
  },
  {
   "cell_type": "markdown",
   "id": "8c59d210",
   "metadata": {},
   "source": [
    "#### Question 1\n",
    "\n",
    "- Créer la variable `janvier` contenant le tableau avec les informations de la météo au cours du mois de janvier 2009 à Paris. Pour cela, initialiser la variable avec le tableau d'informations contenu dans le fichier `files/meteo_paris_janvier_2009.json`.\n",
    "- Afficher le tableau `janvier`.\n",
    "- Vérifier que les informations pour le 5 janvier sont les mêmes que pour l'Exercice 1."
   ]
  },
  {
   "cell_type": "code",
   "execution_count": null,
   "id": "e1cf86fd",
   "metadata": {
    "tags": [
     "answer"
    ]
   },
   "outputs": [],
   "source": [
    "#-------------------------#\n",
    "#    Écrire le code ici   #\n",
    "#-------------------------#\n",
    "\n",
    "\n",
    "\n"
   ]
  },
  {
   "cell_type": "markdown",
   "id": "ab94a9bf",
   "metadata": {
    "deletable": false,
    "editable": false,
    "run_control": {
     "frozen": true
    }
   },
   "source": [
    "#### Question 2\n",
    "\n",
    "Déterminer le nombre de jours du mois de janvier 2009 pour lesquels l'appréciation météo était `\"météo très défavorable\"`."
   ]
  },
  {
   "cell_type": "code",
   "execution_count": null,
   "id": "5901e078",
   "metadata": {
    "tags": [
     "answer"
    ]
   },
   "outputs": [],
   "source": [
    "#-------------------------#\n",
    "#    Écrire le code ici   #\n",
    "#-------------------------#\n",
    "\n",
    "\n",
    "\n"
   ]
  },
  {
   "cell_type": "markdown",
   "id": "dfd7e1ca",
   "metadata": {
    "deletable": false,
    "editable": false,
    "run_control": {
     "frozen": true
    }
   },
   "source": [
    "#### Question 3\n",
    "\n",
    "- Définir la fonction `Tmax_mois` prenant en paramètre un tableau `mois` contenant les informations météorologiques d'un mois de l'année et retournant la température maximale relevée dans le mois. \n",
    "- Déterminer la température maximale qu'il a fait au mois de janvier 2009."
   ]
  },
  {
   "cell_type": "code",
   "execution_count": null,
   "id": "39c7d144",
   "metadata": {
    "tags": [
     "answer"
    ]
   },
   "outputs": [],
   "source": [
    "#-------------------------#\n",
    "#    Écrire le code ici   #\n",
    "#-------------------------#\n",
    "\n",
    "\n",
    "\n"
   ]
  },
  {
   "cell_type": "markdown",
   "id": "959abc20",
   "metadata": {
    "deletable": false,
    "editable": false,
    "run_control": {
     "frozen": true
    }
   },
   "source": [
    "### Exercice 3 : Météo de 2009\n",
    "\n",
    "Les températures pour toute l'année 2009 sont stockées sous la forme d'un dictionnaire contenant 12 entrées : les clés sont les noms des mois (`\"janvier\"`, `\"février\"`, etc) et les valeurs sont les tableaux de températures de chaque mois (au même format que dans l'Exercice 2).\n",
    "\n",
    "Le dictionnaire contenant les données de l'année 2009 se trouve dans le fichier `files/meteo_paris_2009.json`."
   ]
  },
  {
   "cell_type": "markdown",
   "id": "4ae13bdc",
   "metadata": {
    "deletable": false,
    "editable": false,
    "run_control": {
     "frozen": true
    }
   },
   "source": [
    "#### Question 1\n",
    "\n",
    "- Créer la variable `meteo2009` contenant le dictionnaire des informations météorologiques de l'année 2009 à Paris. Pour cela, initialiser la variable avec les informations contenues dans le fichier `files/meteo_paris_2009.json`.\n",
    "- Afficher la météo du mois de juillet.\n",
    "- Vérifier que les informations pour le 5 janvier sont les mêmes que dans l'Exercice 1."
   ]
  },
  {
   "cell_type": "code",
   "execution_count": null,
   "id": "ba5618a2",
   "metadata": {
    "tags": [
     "answer"
    ]
   },
   "outputs": [],
   "source": [
    "#-------------------------#\n",
    "#    Écrire le code ici   #\n",
    "#-------------------------#\n",
    "\n",
    "\n",
    "\n",
    "\n"
   ]
  },
  {
   "cell_type": "markdown",
   "id": "f21e0c10",
   "metadata": {
    "deletable": false,
    "editable": false,
    "run_control": {
     "frozen": true
    }
   },
   "source": [
    "#### Question 2\n",
    "\n",
    "- Déterminer le nombre de jours dans l'année 2009 où la météo a été appréciée comme `\"météo très défavorable\"`."
   ]
  },
  {
   "cell_type": "code",
   "execution_count": null,
   "id": "d9a31ca0",
   "metadata": {
    "tags": [
     "answer"
    ]
   },
   "outputs": [],
   "source": [
    "#-------------------------#\n",
    "#    Écrire le code ici   #\n",
    "#-------------------------#\n",
    "\n",
    "\n",
    "\n",
    "\n"
   ]
  },
  {
   "cell_type": "markdown",
   "id": "fb68678a",
   "metadata": {
    "deletable": false,
    "editable": false,
    "run_control": {
     "frozen": true
    }
   },
   "source": [
    "#### Question 3\n",
    "\n",
    "Déterminer la température maximum relevée durant l'année 2009. POur cela utiliser la fonction définie dans la Question 3 de l'Exercice 2."
   ]
  },
  {
   "cell_type": "code",
   "execution_count": null,
   "id": "5ec7e13d",
   "metadata": {
    "tags": [
     "answer"
    ]
   },
   "outputs": [],
   "source": [
    "#-------------------------#\n",
    "#    Écrire le code ici   #\n",
    "#-------------------------#\n",
    "\n",
    "\n",
    "\n",
    "\n"
   ]
  },
  {
   "cell_type": "markdown",
   "id": "e1ed92ea",
   "metadata": {
    "deletable": false,
    "editable": false,
    "run_control": {
     "frozen": true
    }
   },
   "source": [
    "### Exercice 4 : Enquête de satisfaction sur la météo"
   ]
  },
  {
   "cell_type": "markdown",
   "id": "f9f96b67",
   "metadata": {
    "deletable": false,
    "editable": false,
    "run_control": {
     "frozen": true
    }
   },
   "source": [
    "#### Question 1\n",
    "\n",
    "- Définir une fonction `moisAppreciation` qui prend en paramètre un mois et une appréciation météo (par exemple \"météo défavorable\") et retourne `True` si le mois contient un jour avec cette appréciation, et `False` sinon.\n",
    "- Vérifier que la fonction satisfait la fonction de tests unitaires `test_moisAppreciation`."
   ]
  },
  {
   "cell_type": "code",
   "execution_count": null,
   "id": "cf56169c",
   "metadata": {
    "tags": [
     "answer"
    ]
   },
   "outputs": [],
   "source": [
    "#-------------------------#\n",
    "#    Écrire le code ici   #\n",
    "#-------------------------#\n",
    "\n",
    "\n",
    "\n"
   ]
  },
  {
   "cell_type": "code",
   "execution_count": null,
   "id": "d9530287",
   "metadata": {
    "deletable": false,
    "editable": false
   },
   "outputs": [],
   "source": [
    "def test_moisAppreciation():\n",
    "    assert moisAppreciation(meteo2009[\"janvier\"], \"météo très défavorable\")\n",
    "    assert not moisAppreciation(meteo2009[\"janvier\"], \"météo idéale\")\n",
    "    assert moisAppreciation(meteo2009[\"juillet\"], \"météo favorable\")\n",
    "    \n",
    "    print(\"ok\")\n",
    "    \n",
    "test_moisAppreciation()"
   ]
  },
  {
   "cell_type": "markdown",
   "id": "382e9dbd",
   "metadata": {
    "deletable": false,
    "editable": false,
    "run_control": {
     "frozen": true
    }
   },
   "source": [
    "#### Question 2\n",
    "\n",
    "- Définir une fonction `rechercheSelonAppreciation` qui prend en paramètre un dictionnaire corresponsant à la météo d'une année et une appréciation météo (par exemple `\"météo défavorable\"`) et retourne un tableau contenant les noms des mois ayant au moins un un jour avec cette appréciation météo. Utiliser pour cela, la fonction `moisAppreciation` définie à la question précédente.\n",
    "- Vérifier que la fonction définie satisfait la fonction de tests unitaires `test_rechercheSelonAppreciation`."
   ]
  },
  {
   "cell_type": "code",
   "execution_count": null,
   "id": "0e2f3e87",
   "metadata": {
    "tags": [
     "answer"
    ]
   },
   "outputs": [],
   "source": [
    "#-------------------------#\n",
    "#    Écrire le code ici   #\n",
    "#-------------------------#\n",
    "\n",
    "\n",
    "\n"
   ]
  },
  {
   "cell_type": "code",
   "execution_count": null,
   "id": "b15de2a0",
   "metadata": {
    "deletable": false,
    "editable": false
   },
   "outputs": [],
   "source": [
    "def test_rechercheSelonAppreciation():\n",
    "    assert rechercheSelonAppreciation(meteo2009,\"météo très défavorable\")== ['janvier', 'février', 'mars', 'mai', 'juin', 'juillet', 'août', 'octobre', 'novembre', 'décembre']\n",
    "    assert rechercheSelonAppreciation(meteo2009,\"météo défavorable\")== ['janvier', 'février', 'mars', 'avril', 'mai', 'juin', 'juillet', 'août', 'septembre', 'octobre', 'novembre', 'décembre']\n",
    "    assert rechercheSelonAppreciation(meteo2009,\"météo correcte\")== ['février', 'mars', 'avril', 'mai', 'juin', 'juillet', 'août', 'septembre', 'octobre', 'novembre']\n",
    "    assert rechercheSelonAppreciation(meteo2009,\"météo favorable\")== ['avril', 'mai', 'juin', 'juillet', 'août', 'septembre', 'octobre']\n",
    "    assert rechercheSelonAppreciation(meteo2009,\"météo idéale\") == ['mai', 'juin', 'juillet', 'août', 'septembre']\n",
    "    print(\"ok\")\n",
    "    \n",
    "test_rechercheSelonAppreciation()"
   ]
  },
  {
   "cell_type": "markdown",
   "id": "96800027",
   "metadata": {
    "deletable": false,
    "editable": false,
    "run_control": {
     "frozen": true
    }
   },
   "source": [
    "#### Question 3\n",
    "\n",
    "- Définir une fonction `moisToutesAppreciations` qui prend en paramètre un mois et un tableau d'appréciations et retourne `True` si pour toutes les appréciations du tableau, le mois contient un jour avec cette appréciation, et `False` sinon."
   ]
  },
  {
   "cell_type": "code",
   "execution_count": null,
   "id": "65404f30",
   "metadata": {
    "tags": [
     "answer"
    ]
   },
   "outputs": [],
   "source": [
    "#-------------------------#\n",
    "#    Écrire le code ici   #\n",
    "#-------------------------#\n",
    "\n",
    "\n",
    "\n"
   ]
  },
  {
   "cell_type": "markdown",
   "id": "eb7fb055",
   "metadata": {
    "deletable": false,
    "editable": false,
    "run_control": {
     "frozen": true
    }
   },
   "source": [
    "- Ecrire une fonction de test unitaire qui vérifie que les mois de mai, juin, juillet et août contiennent touts les appréciations contenues dans le tableau `appreciations` et que ce n'est le cas d'aucun autre mois de l'année."
   ]
  },
  {
   "cell_type": "code",
   "execution_count": null,
   "id": "1b121b08",
   "metadata": {
    "deletable": false,
    "editable": false
   },
   "outputs": [],
   "source": [
    "appreciations=[\"météo très défavorable\", \"météo défavorable\", \"météo correcte\", \"météo favorable\", \"météo idéale\"]"
   ]
  },
  {
   "cell_type": "code",
   "execution_count": null,
   "id": "058e19e1",
   "metadata": {},
   "outputs": [],
   "source": [
    "#-------------------------#\n",
    "#    Écrire le code ici   #\n",
    "#-------------------------#\n",
    "\n",
    "\n"
   ]
  },
  {
   "cell_type": "markdown",
   "id": "561e395b",
   "metadata": {
    "deletable": false,
    "editable": false,
    "run_control": {
     "frozen": true
    }
   },
   "source": [
    "#### Question 4\n",
    "\n",
    "- Définir une fonction `moisUneAppreciation` qui prend en paramètre un mois et un tableau d'appréciations et retourne `True` s'il existe un jour dans le mois avec comme appréciation une de celles du tableau passé en paramètre, et `False` sinon.\n",
    "- Vérifier que la fonction définié satisfait la fonction de tests unitaires `test_moisUneAppreciation`."
   ]
  },
  {
   "cell_type": "code",
   "execution_count": null,
   "id": "797c4506",
   "metadata": {
    "tags": [
     "answer"
    ]
   },
   "outputs": [],
   "source": [
    "#-------------------------#\n",
    "#    Écrire le code ici   #\n",
    "#-------------------------#\n",
    "\n",
    "\n",
    "\n",
    "\n"
   ]
  },
  {
   "cell_type": "code",
   "execution_count": null,
   "id": "be4ae638",
   "metadata": {
    "deletable": false,
    "editable": false
   },
   "outputs": [],
   "source": [
    "def test_moisUneAppreciation():\n",
    "    assert moisUneAppreciation(meteo2009[\"janvier\"], [\"météo très défavorable\", \"météo idéale\"])\n",
    "    assert moisUneAppreciation(meteo2009[\"juin\"], [\"météo très défavorable\", \"météo idéale\"])\n",
    "    assert not moisUneAppreciation(meteo2009[\"janvier\"], [\"météo correcte\", \"météo idéale\"])\n",
    "    print(\"ok\")\n",
    "    \n",
    "test_moisUneAppreciation()"
   ]
  },
  {
   "cell_type": "markdown",
   "id": "d79be800",
   "metadata": {
    "deletable": false,
    "editable": false,
    "run_control": {
     "frozen": true
    }
   },
   "source": [
    "#### Question 5\n",
    "\n",
    "- Définir une fonction `rechercheSelonAppreciations` prenant en paramètre une année météo, un tableau d'appréciations météo et un paramètre `toutes` (booléen). La fonction doit retourner l'ensemble des mois ayant des jours avec comme appréciation toutes les appréciations passées en paramètre (si `toutes` vaut `True`) ou l'ensemble des mois ayant un jour avec comme appréciation une des appréciations passées en paramètre (si `toutes` vaut `False`).\n",
    "\n",
    "- Vérifier que la fonction définie satisfait la fonction de tests unitaires `test_rechercheSelonAppreciations()`."
   ]
  },
  {
   "cell_type": "code",
   "execution_count": null,
   "id": "301a6f87",
   "metadata": {
    "tags": [
     "answer"
    ]
   },
   "outputs": [],
   "source": [
    "#-------------------------#\n",
    "#    Écrire le code ici   #\n",
    "#-------------------------#\n",
    "\n",
    "\n",
    "\n"
   ]
  },
  {
   "cell_type": "code",
   "execution_count": null,
   "id": "0bba42eb",
   "metadata": {
    "deletable": false,
    "editable": false
   },
   "outputs": [],
   "source": [
    "def test_rechercheSelonAppreciations():\n",
    "    rechercheSelonAppreciations(meteo2009, [\"météo très défavorable\", \"météo idéale\"], True)==['mai', 'juin', 'juillet', 'août']\n",
    "    rechercheSelonAppreciations(meteo2009, [\"météo très défavorable\", \"météo idéale\"], False)== ['janvier', 'février', 'mars', 'mai', 'juin', 'juillet', 'août', 'septembre', 'octobre', 'novembre', 'décembre']\n",
    "    print(\"ok\")\n",
    "\n",
    "test_rechercheSelonAppreciations()"
   ]
  },
  {
   "cell_type": "markdown",
   "id": "718b5aed",
   "metadata": {
    "deletable": false,
    "editable": false,
    "run_control": {
     "frozen": true
    }
   },
   "source": [
    "## Pour aller plus loin"
   ]
  },
  {
   "cell_type": "markdown",
   "id": "e69c8480",
   "metadata": {},
   "source": [
    "### Exercice 5 : Compétition de patinage artistique **\n",
    "Le but de cet exercice est de gérer les notes moyennes reçues par les participants à une compétition de patinage artistique. L'objectif est de saisir toutes les données de chaque patineur et de déterminer qui est le gagnant (on suppose qu'il y en a un seul). Dans la suite, chaque patineur sera codé sous la forme d'un dictionnaire contenant un nom, une année de naissance et une moyenne.\n",
    "\n",
    "#### Question 1 : Saisie des données d'un patineur \n",
    "On stocke donc les informations pour chaque patineur dans un dictionnaire qui contient trois couples clé-valeur :\n",
    "- La première clé est le `'nom'` du patineur, c'est une chaîne de caractères.\n",
    "- La deuxième clé est l'`'année_naissance'`, c'est un entier.\n",
    "- La troisème clé est la `'moyenne'` qui est flottant aléatoire compris entre 0 et 5.\n",
    "On ne vérifiera pas la validité de la valeur du nom et de l'année de naissance au moment de la saisie, mais on n'oubliera pas de caster les valeurs saisies. La moyenne sera un flottant entre 0 et 5 tiré au hasard. On pensera à importer des fonctions utiles si nécessaire. \n",
    "\n",
    "Un exemple d'un tel dictionnaire est le suivant :\n",
    "```python\n",
    "{'nom': 'Candeloro', 'année_naissance': 1972, 'moyenne': 1.4478}\n",
    "```\n",
    "Écrire une fonction `saisie_patineur()` qui effectue la saisie des données fournies par l'utilisateur pour le nom et l'année de naissance et qui choisit aléatoirement un nombre flottant entre 0 et 5. La fonction retourne un patineur (dictionnaire) avec les infos saisies et choisie aléatoirement.\n",
    "\n",
    "**N.B** : On rappelle que la fonction `random()` de la bibliothèque `random` retourne un nombre flottant aléatoire compris entre 0 et 1 inclus."
   ]
  },
  {
   "cell_type": "code",
   "execution_count": null,
   "id": "6d3833f2",
   "metadata": {},
   "outputs": [],
   "source": [
    "#-------------------------#\n",
    "#    Écrire le code ici   #\n",
    "#-------------------------#\n",
    "\n",
    "\n",
    "\n"
   ]
  },
  {
   "cell_type": "markdown",
   "id": "c976a40d",
   "metadata": {},
   "source": [
    "#### Question 2 : Saisie de la liste des participants\n",
    "La liste des participants est stockée sous forme d'un tableau dont les cases sont les patineurs (représentés par les dictionnaires définis à la question précédente).\n",
    "\n",
    "Écrire une fonction `liste_participants()` permettant la saisie des patineurs participant à la compétition et retournant le tableau obtenu. Il y a au moins un participant à la compétition et la saisie se poursuivra tant que l'utilisateur le souhaitera. On pensera à utiliser la fonction `saisie_patineur()` définie à la question précédente."
   ]
  },
  {
   "cell_type": "code",
   "execution_count": null,
   "id": "f4f5a8a2",
   "metadata": {},
   "outputs": [],
   "source": [
    "#-------------------------#\n",
    "#    Écrire le code ici   #\n",
    "#-------------------------#\n",
    "\n",
    "\n"
   ]
  },
  {
   "cell_type": "markdown",
   "id": "c3f635d6",
   "metadata": {},
   "source": [
    "#### Question 3 : Moyennes des patineurs\n",
    "On veut collecter dans un tableau les moyennes obtenues par les participants, ce tableau sera ensuite utilisé pour déterminer qui est le gagnant.\n",
    "\n",
    "Écrire une fonction `moyennes_participants()`qui prend en paramètre une liste des participants à la compétition (c'est-à-dire un tableau de patineurs) et qui renvoie le tableau dont chaque case est la moyenne du patineur correspondant."
   ]
  },
  {
   "cell_type": "code",
   "execution_count": 1,
   "id": "ff3b5791",
   "metadata": {},
   "outputs": [],
   "source": [
    "#-------------------------#\n",
    "#    Écrire le code ici   #\n",
    "#-------------------------#\n",
    "\n",
    "\n",
    "\n"
   ]
  },
  {
   "cell_type": "markdown",
   "id": "bf626254",
   "metadata": {},
   "source": [
    "#### Question 4 :  Vainqueur de la compétition\n",
    "On veut déterminer le vainqueur de la compétition.\n",
    "\n",
    "Écrire une fonction `gagnant()` qui prend en paramètre un tableau de patineurs (on suppose qu'il y a au moins un patineur) et qui retourne le nom du patineur gagnant que l'on suppose unique. "
   ]
  },
  {
   "cell_type": "code",
   "execution_count": null,
   "id": "c118b726",
   "metadata": {},
   "outputs": [],
   "source": [
    "#-------------------------#\n",
    "#    Écrire le code ici   #\n",
    "#-------------------------#\n",
    "\n",
    "\n"
   ]
  },
  {
   "cell_type": "markdown",
   "id": "50964977",
   "metadata": {},
   "source": [
    "#### Question 5 : C'est la compétition ! \n",
    "\n",
    "Écrire un programme principal qui permet \n",
    "- la saisie de la liste des participants à la compétition,\n",
    "- la collecte et l'affichage des moyennes obtenues, \n",
    "- l'affichage du nom du gagnant."
   ]
  },
  {
   "cell_type": "code",
   "execution_count": null,
   "id": "1f5b0917",
   "metadata": {},
   "outputs": [],
   "source": [
    "#-------------------------#\n",
    "#    Écrire le code ici   #\n",
    "#-------------------------#\n",
    "\n",
    "\n",
    "\n"
   ]
  }
 ],
 "metadata": {
  "kernelspec": {
   "display_name": "Python 3 (ipykernel)",
   "language": "python",
   "name": "python3"
  },
  "language_info": {
   "codemirror_mode": {
    "name": "ipython",
    "version": 3
   },
   "file_extension": ".py",
   "mimetype": "text/x-python",
   "name": "python",
   "nbconvert_exporter": "python",
   "pygments_lexer": "ipython3",
   "version": "3.11.4"
  }
 },
 "nbformat": 4,
 "nbformat_minor": 5
}
