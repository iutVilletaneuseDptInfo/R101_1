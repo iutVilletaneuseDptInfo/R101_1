{
 "cells": [
  {
   "cell_type": "markdown",
   "id": "304d2eb3",
   "metadata": {
    "deletable": false,
    "editable": false,
    "run_control": {
     "frozen": true
    }
   },
   "source": [
    " # <center> Chapitre 12  : Structures imbriquées - TD </center>"
   ]
  },
  {
   "cell_type": "markdown",
   "id": "84f14386",
   "metadata": {
    "deletable": false,
    "editable": false,
    "run_control": {
     "frozen": true
    }
   },
   "source": [
    "### Exercice 1 : Films\n",
    "\n",
    "On peut représenter un film par son nom, sa date de sortie ainsi que des acteurs jouant dans ce film.\n",
    "On codera un film à l'aide d'un dictionnaire contenant les entrées :\n",
    "\n",
    "* `nom` (la valeur est une chaîne de caractères),\n",
    "\n",
    "* `sortie` (la valeur est un entier),\n",
    "\n",
    "* `acteurs` (la valeur est un tableau de chaînes de caractères correspondant aux noms des acteurs)."
   ]
  },
  {
   "cell_type": "markdown",
   "id": "c23702c4",
   "metadata": {
    "deletable": false,
    "editable": false,
    "run_control": {
     "frozen": true
    }
   },
   "source": [
    "#### Question 1 :  Un film \n",
    "\n",
    "Définir un dictionnaire (stocké dans la variable `film`) correspondant au film *Les Frères Sisters* sorti en 2018 et dans lequel jouent : \n",
    "\n",
    "* Joaquin Phoenix,\n",
    "\n",
    "* John C. Reilly,\n",
    "\n",
    "* Jake Gyllenhaal,\n",
    "\n",
    "* Riz Ahmed,\n",
    "\n",
    "* Carol Kane.\n"
   ]
  },
  {
   "cell_type": "code",
   "execution_count": null,
   "id": "ac241ca2",
   "metadata": {
    "tags": [
     "answer"
    ]
   },
   "outputs": [],
   "source": [
    "#-------------------------#\n",
    "#    Écrire le code ici   #\n",
    "#-------------------------#\n",
    "\n",
    "\n"
   ]
  },
  {
   "cell_type": "markdown",
   "id": "1994f03d",
   "metadata": {
    "deletable": false,
    "editable": false,
    "run_control": {
     "frozen": true
    }
   },
   "source": [
    "#### Question 2 : Affichage d'un film\n",
    "\n",
    "Définir une fonction `afficher_film` qui affiche les informations d'un film passé en paramètre (cet affichage doit fonctionner pour tout film codé comme dans la question 1) au format : \n",
    "\n",
    "```\n",
    "Film : Les frères sisters\n",
    "Sortie : 2018\n",
    "Acteurs :\n",
    "* Joaquin Phoenix\n",
    "* John C. Reilly\n",
    "* Jake Gyllenhaal,\n",
    "* Riz Ahmed\n",
    "* Carol Kane\n",
    "```"
   ]
  },
  {
   "cell_type": "code",
   "execution_count": null,
   "id": "afb5224e",
   "metadata": {
    "tags": [
     "answer"
    ]
   },
   "outputs": [],
   "source": [
    "#-------------------------#\n",
    "#    Écrire le code ici   #\n",
    "#-------------------------#\n",
    "\n",
    "\n"
   ]
  },
  {
   "cell_type": "markdown",
   "id": "8c4b8a54",
   "metadata": {
    "deletable": false,
    "editable": false,
    "run_control": {
     "frozen": true
    }
   },
   "source": [
    "#### Question 3 : Critiques de films\n",
    "\n",
    "On peut rajouter dans un film un dictionnaire (dont la clé est `critiques`) contenant l'ensemble des notes attribuées par les différents magazines. La clé de chaque entrée est le nom du magazine et la valeur est la note sur 5 que le magazine a attribué au film.\n",
    "\n",
    "Modifier la création du film *Les frères Sisters* de la question 1 pour prendre en compte les critiques qu'il a reçues : \n",
    " \n",
    "* 5/5 par 20 minutes,\n",
    "\n",
    "* 5/5 par Télérama,\n",
    "\n",
    "* 4/5 par le Journal du Geek,\n",
    "\n",
    "* 2/5 par Les Inrockuptibles.\n",
    " "
   ]
  },
  {
   "cell_type": "code",
   "execution_count": null,
   "id": "b42f6b97",
   "metadata": {},
   "outputs": [],
   "source": [
    "#-------------------------#\n",
    "#    Écrire le code ici   #\n",
    "#-------------------------#\n",
    "\n",
    "\n"
   ]
  },
  {
   "cell_type": "markdown",
   "id": "f7d1dcc5",
   "metadata": {
    "deletable": false,
    "editable": false,
    "run_control": {
     "frozen": true
    }
   },
   "source": [
    "#### Question 4 : Affichage de la moyenne des critiques\n",
    "\n",
    "Modifier la fonction `afficher_film` pour que la fonction ajoute la moyenne des notes (critiques) reçues."
   ]
  },
  {
   "cell_type": "code",
   "execution_count": null,
   "id": "2d520e6e",
   "metadata": {},
   "outputs": [],
   "source": [
    "#-------------------------#\n",
    "#    Écrire le code ici   #\n",
    "#-------------------------#\n",
    "\n",
    "\n"
   ]
  },
  {
   "cell_type": "markdown",
   "id": "4dc5ce4f",
   "metadata": {
    "deletable": false,
    "editable": false,
    "run_control": {
     "frozen": true
    }
   },
   "source": [
    "### Exercice 2 : Affichage d'une matrice\n",
    "\n",
    "Dans cet exercice, on représente une matrice comme un tableau de lignes,\n",
    "chaque ligne étant elle-même un tableau. <br>\n",
    "Voici par exemple une matrice à 3 lignes et 4 colonnes :"
   ]
  },
  {
   "cell_type": "code",
   "execution_count": null,
   "id": "a3c28fb1",
   "metadata": {
    "deletable": false,
    "editable": false
   },
   "outputs": [],
   "source": [
    "mat = [\n",
    "    [1,2,3,4],\n",
    "    [5,6,7,8],\n",
    "    [2,2,9,9]\n",
    "]"
   ]
  },
  {
   "cell_type": "markdown",
   "id": "8179b056",
   "metadata": {
    "deletable": false,
    "editable": false,
    "run_control": {
     "frozen": true
    }
   },
   "source": [
    "#### Question 1 : Affichage ligne par ligne\n",
    "- Écrire une fonction qui affiche une matrice ligne par ligne, sans crochets ni virgules."
   ]
  },
  {
   "cell_type": "code",
   "execution_count": null,
   "id": "6acb9e0d",
   "metadata": {
    "tags": [
     "answer"
    ]
   },
   "outputs": [],
   "source": [
    "#-------------------------#\n",
    "#    Écrire le code ici   #\n",
    "#-------------------------#\n",
    "\n",
    "\n",
    "\n"
   ]
  },
  {
   "cell_type": "markdown",
   "id": "99928b57",
   "metadata": {
    "deletable": false,
    "editable": false,
    "run_control": {
     "frozen": true
    }
   },
   "source": [
    "#### Question 2 : Affichage colonne par colonne\n",
    "- Écrire une fonction qui une matrice colonne par colonne, de façon que les colonnes de la matrice soient les lignes de l'affichage."
   ]
  },
  {
   "cell_type": "code",
   "execution_count": null,
   "id": "4da8f294",
   "metadata": {
    "tags": [
     "answer"
    ]
   },
   "outputs": [],
   "source": [
    "#-------------------------#\n",
    "#    Écrire le code ici   #\n",
    "#-------------------------#\n",
    "\n",
    "\n",
    "\n"
   ]
  },
  {
   "cell_type": "markdown",
   "id": "81176624",
   "metadata": {
    "deletable": false,
    "editable": false,
    "run_control": {
     "frozen": true
    }
   },
   "source": [
    "### Exercice 3 : Carré magique\n",
    "\n",
    "Un carré magique est une matrice carrée de nombres où les sommes de chaque ligne,\n",
    "chaque colonne et des grandes diagonales sont égales. <br>\n",
    "En voici un de taille 3 x 3 :"
   ]
  },
  {
   "cell_type": "code",
   "execution_count": null,
   "id": "d9032a2c",
   "metadata": {
    "deletable": false,
    "editable": false
   },
   "outputs": [],
   "source": [
    "mag = [          # la somme magique est 15\n",
    "    [2,7,6],\n",
    "    [9,5,1],\n",
    "    [4,3,8]\n",
    "]"
   ]
  },
  {
   "cell_type": "markdown",
   "id": "d649a638",
   "metadata": {
    "deletable": false,
    "editable": false,
    "run_control": {
     "frozen": true
    }
   },
   "source": [
    "#### Question 1 : Test du carré magique \n",
    "- Écrire une fonction qui teste si un carré est magique.\n",
    "\n",
    "On pourra définir des fonctions calculant la somme d'une ligne ou d'une colonne."
   ]
  },
  {
   "cell_type": "code",
   "execution_count": null,
   "id": "c2890e12",
   "metadata": {
    "tags": [
     "answer"
    ]
   },
   "outputs": [],
   "source": [
    "#-------------------------#\n",
    "#    Écrire le code ici   #\n",
    "#-------------------------#\n",
    "\n",
    "\n",
    "\n"
   ]
  },
  {
   "cell_type": "markdown",
   "id": "8328d758",
   "metadata": {
    "deletable": false,
    "editable": false,
    "run_control": {
     "frozen": true
    }
   },
   "source": [
    "#### Question 2 : Vérification de carrés magiques\n",
    "- Vérifier à l'aide de la fonction définie à la question précédente que \n",
    "`mag` et le carré suivants sont magiques :"
   ]
  },
  {
   "cell_type": "code",
   "execution_count": 1,
   "id": "33a07921",
   "metadata": {
    "deletable": false,
    "editable": false
   },
   "outputs": [],
   "source": [
    "mag2 = [          \n",
    "    [4,14,15,1],\n",
    "    [9,7,6,12],\n",
    "    [5,11,10,8],\n",
    "    [16,2,3,13]\n",
    "]"
   ]
  },
  {
   "cell_type": "code",
   "execution_count": null,
   "id": "23d01ded",
   "metadata": {},
   "outputs": [],
   "source": [
    "#-------------------------#\n",
    "#    Écrire le code ici   #\n",
    "#-------------------------#\n",
    "\n",
    "\n"
   ]
  },
  {
   "cell_type": "markdown",
   "id": "cfb0fc0e",
   "metadata": {
    "deletable": false,
    "editable": false,
    "run_control": {
     "frozen": true
    }
   },
   "source": [
    "### Exercice 4 : Gestion d'un stock **"
   ]
  },
  {
   "cell_type": "markdown",
   "id": "40639029",
   "metadata": {
    "deletable": false,
    "editable": false,
    "run_control": {
     "frozen": true
    }
   },
   "source": [
    "L'objectif est concevoir un programme permettant de gérer un stock d'articles. Pour cela, on doit pouvoir :\n",
    "- ajouter une référence (prix, quantité, et couleur) dans le stock,\n",
    "- calculer le prix total du stock.\n",
    "\n",
    "#### Question 1 : Saisie d'une référence\n",
    "- Créer une fonction ``ajout_reference()`` sans paramètre qui renvoie un dictionnaire dont les couples ``clef:valeur`` sont:\n",
    "\n",
    "| Clef |  Valeur (type) |\n",
    "-------|----------|\n",
    "|\"Prix\"| float|\n",
    "|\"Quantité\"| int|\n",
    "|\"Couleur\"| string|\n",
    "\n",
    "La fonction demandera à l'utilisateur de saisir itérativement au clavier les différentes valeurs."
   ]
  },
  {
   "cell_type": "code",
   "execution_count": null,
   "id": "8a66c3c2",
   "metadata": {},
   "outputs": [],
   "source": [
    "#-------------------------#\n",
    "#    Écrire le code ici   #\n",
    "#-------------------------#\n",
    "\n",
    "\n"
   ]
  },
  {
   "cell_type": "markdown",
   "id": "417e7ce6",
   "metadata": {
    "deletable": false,
    "editable": false,
    "run_control": {
     "frozen": true
    }
   },
   "source": [
    "#### Question 2  : Saisie et évaluation d'un stock\n",
    "- Ecrire le programme principal permettant, de saisir des références tant que l'utilisateur le souhaite, de les ajouter au fur et à mesure dans un tableau de dictionnaires, puis en fin de saisie, d'afficher le montant total du stock.\n",
    "\n",
    "On utilisera la fonction définie à la question précédente pour effectuer la saisie de chaque référence."
   ]
  },
  {
   "cell_type": "code",
   "execution_count": null,
   "id": "0b1139ce",
   "metadata": {},
   "outputs": [],
   "source": [
    "#-------------------------#\n",
    "#    Écrire le code ici   #\n",
    "#-------------------------#\n",
    "\n",
    "\n"
   ]
  },
  {
   "cell_type": "markdown",
   "id": "6a1fa695",
   "metadata": {
    "deletable": false,
    "editable": false,
    "run_control": {
     "frozen": true
    }
   },
   "source": [
    "## Pour aller plus loin"
   ]
  },
  {
   "cell_type": "markdown",
   "id": "f44a9849",
   "metadata": {
    "deletable": false,
    "editable": false,
    "run_control": {
     "frozen": true
    }
   },
   "source": [
    "### Exercice 5 : Registre des naissances**\n",
    "Le but de cet exercice est d'étudier les poids à la naissance de bébés d'une maternité. \n",
    "\n",
    "L'objectif est de saisir toutes les données de chaque bébé et de déterminer quel est leur poids moyen et quel est celui de poids maximal. Dans la suite, chaque bébé sera codé sous la forme d'un dictionnaire contenant son nom, son prénom et son poids à la naissance.\n",
    "\n",
    "#### Question 1 : Saisie des données d'un bébé\n",
    "On stocke donc les informations pour chaque bébé dans un dictionnaire qui contient trois couples clé-valeur :\n",
    "<UL>\n",
    "<LI> La première clé est le `\"nom\"` du bébé, c'est une chaîne de caractères.\n",
    "<LI> La deuxième clé est le ``\"prénom\"`` du bébé, c'est une chaîne de caractères.\n",
    "<LI> La troisème clé est le ``\"poids\"`` à la naissance du bébé, c'est un flottant.\n",
    "</UL>\n",
    "On ne vérifiera pas la validité des valeurs du nom, du prénom et du poids.\n",
    "\n",
    "Un exemple d'un tel dictionnaire est le suivant :\n",
    "\n",
    "```{\"nom\": \"Noah\", \"prenom\": \"Joakim\" , \"poids\": 3.7}```\n",
    "\n",
    "Écrire une fonction `saisieBebe` qui effectue la saisie des données fournies par l'utilisateur pour le nom, le prénom et le poids à la naissance."
   ]
  },
  {
   "cell_type": "code",
   "execution_count": null,
   "id": "d5265f51",
   "metadata": {},
   "outputs": [],
   "source": [
    "#-------------------------#\n",
    "#    Écrire le code ici   #\n",
    "#-------------------------#\n",
    "\n",
    "\n"
   ]
  },
  {
   "cell_type": "markdown",
   "id": "372a032e",
   "metadata": {
    "deletable": false,
    "editable": false,
    "run_control": {
     "frozen": true
    }
   },
   "source": [
    "#### Question 2 : Saisie de la maternité\n",
    "\n",
    "La maternité est stockée sous forme d'un tableau dont les cases sont les bébés (représentés par les dictionnaires définis à la question précédente).\n",
    "\n",
    "Écrire une fonction `saisieMaternite` permettant la saisie des bébés nés à la maternité et retournant le tableau obtenu. Le nombre de bébés nés à la maternité sera demandé à l'utiliseur dans la fonction.\n",
    "\n",
    "On pensera à utiliser la fonction `saisieBebe` définie à la question précédente."
   ]
  },
  {
   "cell_type": "code",
   "execution_count": null,
   "id": "257fc5cd",
   "metadata": {},
   "outputs": [],
   "source": [
    "#-------------------------#\n",
    "#    Écrire le code ici   #\n",
    "#-------------------------#\n",
    "\n",
    "\n"
   ]
  },
  {
   "cell_type": "markdown",
   "id": "fd0ab788",
   "metadata": {
    "deletable": false,
    "editable": false,
    "run_control": {
     "frozen": true
    }
   },
   "source": [
    "#### Question 3 : Poids moyen\n",
    "On veut connaître le poids moyen des bébés nés dans la maternité.\n",
    "\n",
    "Ecrire une fonction `poidsMoyen` qui prend en paramètre une maternité (c'est-à-dire un tableau de bébés) et qui renvoie le poids moyen des bébés de la maternité."
   ]
  },
  {
   "cell_type": "code",
   "execution_count": null,
   "id": "b2677b1a",
   "metadata": {},
   "outputs": [],
   "source": [
    "#-------------------------#\n",
    "#    Écrire le code ici   #\n",
    "#-------------------------#\n",
    "\n",
    "\n"
   ]
  },
  {
   "cell_type": "markdown",
   "id": "26020d29",
   "metadata": {
    "deletable": false,
    "editable": false,
    "run_control": {
     "frozen": true
    }
   },
   "source": [
    "#### Question 4 :  Bébé de poids maximal\n",
    "On veut déterminer quel est le bébé de poids maximal\n",
    "\n",
    "Ecrire une fonction `poidsMax` qui prend en paramètre une maternité (on suppose qu'il y a au moins un bébé) et qui retourne le bébé (dictionnaire) de poids maximal. On suppose qu'il est unique."
   ]
  },
  {
   "cell_type": "code",
   "execution_count": null,
   "id": "19ee2a02",
   "metadata": {},
   "outputs": [],
   "source": [
    "#-------------------------#\n",
    "#    Écrire le code ici   #\n",
    "#-------------------------#\n",
    "\n",
    "\n"
   ]
  },
  {
   "cell_type": "markdown",
   "id": "69b656ed",
   "metadata": {
    "deletable": false,
    "editable": false,
    "run_control": {
     "frozen": true
    }
   },
   "source": [
    "#### Question 5 : Programme principal\n",
    "\n",
    "Ecrire un programme principal qui permet de saisir une maternité et affiche le poids moyen des bébés ainsi que leur poids maximal."
   ]
  },
  {
   "cell_type": "code",
   "execution_count": null,
   "id": "ad91d343",
   "metadata": {},
   "outputs": [],
   "source": [
    "#-------------------------#\n",
    "#    Écrire le code ici   #\n",
    "#-------------------------#\n",
    "\n",
    "\n"
   ]
  }
 ],
 "metadata": {
  "kernelspec": {
   "display_name": "Python 3 (ipykernel)",
   "language": "python",
   "name": "python3"
  },
  "language_info": {
   "codemirror_mode": {
    "name": "ipython",
    "version": 3
   },
   "file_extension": ".py",
   "mimetype": "text/x-python",
   "name": "python",
   "nbconvert_exporter": "python",
   "pygments_lexer": "ipython3",
   "version": "3.11.4"
  }
 },
 "nbformat": 4,
 "nbformat_minor": 5
}
