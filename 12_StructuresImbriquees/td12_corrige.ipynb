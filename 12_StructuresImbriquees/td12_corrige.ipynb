{
 "cells": [
  {
   "cell_type": "markdown",
   "metadata": {
    "deletable": false,
    "editable": false,
    "run_control": {
     "frozen": true
    }
   },
   "source": [
    "# <center> Chapitre 12 : Structures imbriquées - TD  Corrigé</center>"
   ]
  },
  {
   "cell_type": "markdown",
   "metadata": {
    "deletable": false,
    "editable": false,
    "run_control": {
     "frozen": true
    }
   },
   "source": [
    "### Exercice 1 : Films\n",
    "\n",
    "On peut représenter un film par son nom, sa date de sortie ainsi que des acteurs jouant dans ce film.\n",
    "On codera un film à l'aide d'un dictionnaire contenant les entrées :\n",
    "\n",
    "* `nom` (la valeur est une chaîne de caractères),\n",
    "\n",
    "* `sortie` (la valeur est un entier),\n",
    "\n",
    "* `acteurs` (la valeur est un tableau de chaînes de caractères correspondant aux noms des acteurs)."
   ]
  },
  {
   "cell_type": "markdown",
   "metadata": {
    "deletable": false,
    "editable": false,
    "run_control": {
     "frozen": true
    },
    "solution2": "shown",
    "solution2_first": true
   },
   "source": [
    "#### Question 1 :  Un film \n",
    "\n",
    "Définir un dictionnaire (stocké dans la variable `film`) correspondant au film *Les Frères Sisters* sorti en 2018 et dans lequel jouent : \n",
    "\n",
    "* Joaquin Phoenix,\n",
    "\n",
    "* John C. Reilly,\n",
    "\n",
    "* Jake Gyllenhaal,\n",
    "\n",
    "* Riz Ahmed,\n",
    "\n",
    "* Carol Kane.\n"
   ]
  },
  {
   "cell_type": "code",
   "execution_count": 2,
   "metadata": {
    "deletable": false,
    "editable": false,
    "solution2": "shown"
   },
   "outputs": [
    {
     "name": "stdout",
     "output_type": "stream",
     "text": [
      "{'nom': 'Les Frères Sisters', 'sortie': 2018, 'acteurs': ['Joaquin Phoenix', 'John C. Reilly', 'Jake Gyllenhaal', 'Riz Ahmed', 'Carol Kane']}\n",
      "{'nom': 'Les Frères Sisters', 'sortie': 2018, 'acteurs': ['Joaquin Phoenix', 'John C. Reilly', 'Jake Gyllenhaal', 'Riz Ahmed', 'Carol Kane']}\n"
     ]
    }
   ],
   "source": [
    "#------------------------------#\n",
    "#    CORRECTION  ! ! ! ! ! !   #\n",
    "#------------------------------#\n",
    "film = {\n",
    "    \"nom\" : \"Les Frères Sisters\",\n",
    "    \"sortie\" : 2018,\n",
    "    \"acteurs\" : [\"Joaquin Phoenix\", \"John C. Reilly\", \"Jake Gyllenhaal\", \"Riz Ahmed\", \"Carol Kane\"]\n",
    "}\n",
    "\n",
    "# Autre solution \n",
    "film2={} #dictionnaire vide \n",
    "film2[\"nom\"]= \"Les Frères Sisters\"\n",
    "film2[\"sortie\"]= 2018\n",
    "film2[\"acteurs\"]= [\"Joaquin Phoenix\", \"John C. Reilly\", \"Jake Gyllenhaal\", \"Riz Ahmed\", \"Carol Kane\"]\n",
    "\n",
    "print(film)\n",
    "print(film2)"
   ]
  },
  {
   "cell_type": "markdown",
   "metadata": {
    "deletable": false,
    "editable": false,
    "run_control": {
     "frozen": true
    },
    "solution2": "shown",
    "solution2_first": true
   },
   "source": [
    "#### Question 2 : Affichage d'un film\n",
    "\n",
    "Définir une fonction `afficher_film` qui affiche les informations d'un film passé en paramètre (cet affichage doit fonctionner pour tout film codé comme dans la question 1) au format : \n",
    "\n",
    "```\n",
    "Film : Les frères sisters\n",
    "Sortie : 2018\n",
    "Acteurs :\n",
    "* Joaquin Phoenix\n",
    "* John C. Reilly\n",
    "* Jake Gyllenhaal,\n",
    "* Riz Ahmed\n",
    "* Carol Kane\n",
    "```"
   ]
  },
  {
   "cell_type": "code",
   "execution_count": 3,
   "metadata": {
    "deletable": false,
    "editable": false,
    "solution2": "shown"
   },
   "outputs": [
    {
     "name": "stdout",
     "output_type": "stream",
     "text": [
      "Film : Les Frères Sisters\n",
      "Sortie : 2018\n",
      "Acteurs :\n",
      "* Joaquin Phoenix\n",
      "* John C. Reilly\n",
      "* Jake Gyllenhaal\n",
      "* Riz Ahmed\n",
      "* Carol Kane\n",
      "\n",
      "\n",
      "Film : Les Frères Sisters\n",
      "Sortie : 2018\n",
      "Acteurs :\n",
      "* Joaquin Phoenix\n",
      "* John C. Reilly\n",
      "* Jake Gyllenhaal\n",
      "* Riz Ahmed\n",
      "* Carol Kane\n"
     ]
    }
   ],
   "source": [
    "#------------------------------#\n",
    "#    CORRECTION  ! ! ! ! ! !   #\n",
    "#------------------------------#\n",
    "def afficher_film(film):\n",
    "    print(\"Film :\", film[\"nom\"])\n",
    "    print(\"Sortie :\", film[\"sortie\"])\n",
    "    print(\"Acteurs :\")\n",
    "    i = 0 \n",
    "    while i < len(film[\"acteurs\"]):\n",
    "        print(\"*\", film[\"acteurs\"][i])\n",
    "        i += 1\n",
    "\n",
    "# avec un tableau intermédiaire        \n",
    "def afficher_film2(film):\n",
    "    print(\"Film :\", film[\"nom\"])\n",
    "    print(\"Sortie :\", film[\"sortie\"])\n",
    "    print(\"Acteurs :\")\n",
    "    #on stocke le tableau d'acteurs dans une variable\n",
    "    tab_acteurs=film[\"acteurs\"]\n",
    "    i = 0 \n",
    "    while i < len(tab_acteurs):\n",
    "        print(\"*\", tab_acteurs[i])\n",
    "        i += 1\n",
    "\n",
    "afficher_film(film)\n",
    "print(\"\\n\")\n",
    "afficher_film2(film)"
   ]
  },
  {
   "cell_type": "markdown",
   "metadata": {
    "deletable": false,
    "editable": false,
    "run_control": {
     "frozen": true
    },
    "solution2": "shown",
    "solution2_first": true
   },
   "source": [
    "#### Question 3 : Critiques de films\n",
    "\n",
    "On peut rajouter dans un film un dictionnaire (dont la clé est `critiques`) contenant l'ensemble des notes attribuées par les différents magazines. La clé de chaque entrée est le nom du magazine et la valeur est la note sur 5 que le magazine a attribué au film.\n",
    "\n",
    "Modifier la création du film *Les frères Sisters* de la question 1 pour prendre en compte les critiques qu'il a reçues : \n",
    " \n",
    "* 5/5 par 20 minutes,\n",
    "\n",
    "* 5/5 par Télérama,\n",
    "\n",
    "* 4/5 par le Journal du Geek,\n",
    "\n",
    "* 2/5 par Les Inrockuptibles.\n",
    " "
   ]
  },
  {
   "cell_type": "code",
   "execution_count": 4,
   "metadata": {
    "deletable": false,
    "editable": false,
    "solution2": "shown"
   },
   "outputs": [
    {
     "name": "stdout",
     "output_type": "stream",
     "text": [
      "{'nom': 'Les Frères Sisters', 'sortie': 2018, 'acteurs': ['Joaquin Phoenix', 'John C. Reilly', 'Jake Gyllenhaal', 'Riz Ahmed', 'Carol Kane'], 'critiques': {'20 minutes': 5, 'Télérama': 5, 'Journal du Geek': 4, 'Les Inrockuptibles': 2}}\n"
     ]
    }
   ],
   "source": [
    "#------------------------------#\n",
    "#    CORRECTION  ! ! ! ! ! !   #\n",
    "#------------------------------#\n",
    "film[\"critiques\"]= {\"20 minutes\" : 5, \"Télérama\" : 5, \"Journal du Geek\":4, \"Les Inrockuptibles\":2}\n",
    "print(film)"
   ]
  },
  {
   "cell_type": "markdown",
   "metadata": {
    "deletable": false,
    "editable": false,
    "solution2": "hidden",
    "solution2_first": true
   },
   "source": [
    "#### Question 4 : Affichage de la moyenne des critiques\n",
    "\n",
    "Modifier la fonction `afficher_film` pour que la fonction ajoute la moyenne des notes (critiques) reçues."
   ]
  },
  {
   "cell_type": "code",
   "execution_count": null,
   "metadata": {
    "deletable": false,
    "editable": false,
    "solution2": "hidden"
   },
   "outputs": [],
   "source": [
    "#------------------------------#\n",
    "#    CORRECTION  ! ! ! ! ! !   #\n",
    "#------------------------------#\n",
    "def afficher_film(film):\n",
    "    print(\"Film :\", film[\"nom\"])\n",
    "    print(\"Sortie :\", film[\"sortie\"])\n",
    "    print(\"Acteurs :\")\n",
    "    i = 0 \n",
    "    while i < len(film[\"acteurs\"]):\n",
    "        print(\"*\", film[\"acteurs\"][i])\n",
    "        i += 1\n",
    "\n",
    "    critiques = list(film[\"critiques\"].values())\n",
    "    somme = 0\n",
    "    i = 0 \n",
    "    while i < len(critiques):\n",
    "        somme += critiques[i]\n",
    "        i += 1\n",
    "    \n",
    "    print(\"Notes :\", somme / len(critiques))\n",
    "        \n",
    "afficher_film(film)"
   ]
  },
  {
   "cell_type": "markdown",
   "metadata": {
    "deletable": false,
    "editable": false,
    "run_control": {
     "frozen": true
    }
   },
   "source": [
    "### Exercice 2 : Affichage d'une matrice\n",
    "\n",
    "Dans cet exercice, on représente une matrice comme un tableau de lignes,\n",
    "chaque ligne étant elle-même un tableau. <br>\n",
    "Voici par exemple une matrice à 3 lignes et 4 colonnes :"
   ]
  },
  {
   "cell_type": "code",
   "execution_count": null,
   "metadata": {
    "deletable": false,
    "editable": false
   },
   "outputs": [],
   "source": [
    "mat = [\n",
    "    [1,2,3,4],\n",
    "    [5,6,7,8],\n",
    "    [2,2,9,9]\n",
    "]"
   ]
  },
  {
   "cell_type": "markdown",
   "metadata": {
    "deletable": false,
    "editable": false,
    "run_control": {
     "frozen": true
    },
    "solution2": "hidden",
    "solution2_first": true
   },
   "source": [
    "#### Question 1 : Affichage ligne par ligne\n",
    "- Écrire une fonction qui affiche une matrice ligne par ligne, sans crochets ni virgules."
   ]
  },
  {
   "cell_type": "code",
   "execution_count": null,
   "metadata": {
    "deletable": false,
    "editable": false,
    "solution2": "hidden"
   },
   "outputs": [],
   "source": [
    "#------------------------------#\n",
    "#    CORRECTION  ! ! ! ! ! !   #\n",
    "#------------------------------#\n",
    "\n",
    "def affiche_ligne(mat):\n",
    "    hauteur = len(mat)       # len(mat) est le nombre de lignes\n",
    "    largeur = len(mat[0])    # mat[0]  est la 1re ligne\n",
    "    lig = 0\n",
    "    while lig < hauteur:\n",
    "        s = \"\"               # on met chaque ligne dans une chaîne\n",
    "        col = 0\n",
    "        while col < largeur:\n",
    "            s += str(mat[lig][col]).rjust(3)     # espacement 3\n",
    "            col += 1\n",
    "        print(s)\n",
    "        lig += 1\n",
    "        \n",
    "affiche_ligne(mat)"
   ]
  },
  {
   "cell_type": "markdown",
   "metadata": {
    "deletable": false,
    "editable": false,
    "run_control": {
     "frozen": true
    },
    "solution2": "hidden",
    "solution2_first": true
   },
   "source": [
    "#### Question 2 : Affichage colonne par colonne\n",
    "- Écrire une fonction qui une matrice colonne par colonne, de façon que les colonnes de la matrice soient les lignes de l'affichage."
   ]
  },
  {
   "cell_type": "code",
   "execution_count": null,
   "metadata": {
    "deletable": false,
    "editable": false,
    "solution2": "hidden"
   },
   "outputs": [],
   "source": [
    "#------------------------------#\n",
    "#    CORRECTION  ! ! ! ! ! !   #\n",
    "#------------------------------#\n",
    "def affiche_colonne(mat):\n",
    "    hauteur = len(mat)\n",
    "    largeur = len(mat[0])\n",
    "    col = 0\n",
    "    while col < largeur:\n",
    "        s = \"\"                    # ici on met la colonne dans une chaîne\n",
    "        lig = 0\n",
    "        while lig < hauteur:      # pour cela on traverse les lignes \"verticalement\"\n",
    "            s += str(mat[lig][col]).rjust(3)\n",
    "            lig += 1\n",
    "        print(s)\n",
    "        col += 1\n",
    "        \n",
    "affiche_colonne(mat)"
   ]
  },
  {
   "cell_type": "markdown",
   "metadata": {
    "deletable": false,
    "editable": false,
    "run_control": {
     "frozen": true
    }
   },
   "source": [
    "### Exercice 3 : Carré magique\n",
    "\n",
    "Un carré magique est une matrice carrée de nombres où les sommes de chaque ligne,\n",
    "chaque colonne et des grandes diagonales sont égales. <br>\n",
    "En voici un de taille 3 x 3 :"
   ]
  },
  {
   "cell_type": "code",
   "execution_count": null,
   "metadata": {
    "deletable": false,
    "editable": false
   },
   "outputs": [],
   "source": [
    "mag = [          # la somme magique est 15\n",
    "    [2,7,6],\n",
    "    [9,5,1],\n",
    "    [4,3,8]\n",
    "]"
   ]
  },
  {
   "cell_type": "markdown",
   "metadata": {
    "deletable": false,
    "editable": false,
    "run_control": {
     "frozen": true
    },
    "solution2": "hidden",
    "solution2_first": true
   },
   "source": [
    "#### Question 1 : Test du carré magique \n",
    "- Écrire une fonction qui teste si un carré est magique.\n",
    "\n",
    "On pourra définir des fonctions calculant la somme d'une ligne ou d'une colonne."
   ]
  },
  {
   "cell_type": "code",
   "execution_count": null,
   "metadata": {
    "deletable": false,
    "editable": false,
    "solution2": "hidden"
   },
   "outputs": [],
   "source": [
    "#------------------------------#\n",
    "#    CORRECTION  ! ! ! ! ! !   #\n",
    "#------------------------------#\n",
    "def somme_ligne(i, carre):\n",
    "    somme = 0\n",
    "    col = 0\n",
    "    while col < len(carre):\n",
    "        somme += carre[i][col]\n",
    "        col += 1\n",
    "    return somme\n",
    "\n",
    "def somme_colonne(i, carre):\n",
    "    somme = 0\n",
    "    lig = 0\n",
    "    while lig < len(carre):\n",
    "        somme += carre[lig][i]\n",
    "        lig += 1\n",
    "    return somme\n",
    "\n",
    "def est_magique(carre):\n",
    "    n = len(carre)\n",
    "    somme0 = somme_ligne(0, carre)\n",
    "    i=0\n",
    "    while i < n:\n",
    "        if somme_ligne(i, carre) != somme0:\n",
    "            return False\n",
    "        if somme_colonne(i, carre) != somme0:\n",
    "            return False\n",
    "        i+=1\n",
    "        \n",
    "    somme_diag = 0        # restent les diagonales\n",
    "    somme_diag2 = 0\n",
    "    i=0\n",
    "    while i < n:\n",
    "        somme_diag += carre[i][i]\n",
    "        somme_diag2 += carre[i][n-1-i]\n",
    "        i+=1\n",
    "    if somme_diag != somme0:\n",
    "        return False\n",
    "    if somme_diag2 != somme0:\n",
    "        return False\n",
    "    \n",
    "    return True"
   ]
  },
  {
   "cell_type": "markdown",
   "metadata": {
    "deletable": false,
    "editable": false,
    "run_control": {
     "frozen": true
    }
   },
   "source": [
    "#### Question 2 : Vérification de carrés magiques\n",
    "- Vérifier à l'aide de la fonction définie à la question précédente que \n",
    "`mag` et le carré suivants sont magiques :"
   ]
  },
  {
   "cell_type": "code",
   "execution_count": null,
   "metadata": {
    "deletable": false,
    "editable": false,
    "solution2": "hidden",
    "solution2_first": true
   },
   "outputs": [],
   "source": [
    "mag2 = [          \n",
    "    [4,14,15,1],\n",
    "    [9,7,6,12],\n",
    "    [5,11,10,8],\n",
    "    [16,2,3,13]\n",
    "]"
   ]
  },
  {
   "cell_type": "code",
   "execution_count": null,
   "metadata": {
    "deletable": false,
    "editable": false,
    "solution2": "hidden"
   },
   "outputs": [],
   "source": [
    "#------------------------------#\n",
    "#    CORRECTION  ! ! ! ! ! !   #\n",
    "#------------------------------#\n",
    "print(est_magique(mag))\n",
    "print(est_magique(mag2))"
   ]
  },
  {
   "cell_type": "markdown",
   "metadata": {
    "deletable": false,
    "editable": false,
    "run_control": {
     "frozen": true
    }
   },
   "source": [
    "### Exercice 4 : Gestion d'un stock **"
   ]
  },
  {
   "cell_type": "markdown",
   "metadata": {
    "deletable": false,
    "editable": false,
    "run_control": {
     "frozen": true
    },
    "solution2": "hidden",
    "solution2_first": true
   },
   "source": [
    "L'objectif est concevoir un programme permettant de gérer un stock d'articles. Pour cela, on doit pouvoir :\n",
    "- ajouter une référence (prix, quantité, et couleur) dans le stock,\n",
    "- calculer le prix total du stock.\n",
    "\n",
    "#### Question 1 : Saisie d'une référence\n",
    "- Créer une fonction ``ajout_reference()`` sans paramètre qui renvoie un dictionnaire dont les couples ``clef:valeur`` sont:\n",
    "\n",
    "| Clef |  Valeur (type) |\n",
    "-------|----------|\n",
    "|\"Prix\"| float|\n",
    "|\"Quantité\"| int|\n",
    "|\"Couleur\"| string|\n",
    "\n",
    "La fonction demandera à l'utilisateur de saisir itérativement au clavier les différentes valeurs."
   ]
  },
  {
   "cell_type": "code",
   "execution_count": null,
   "metadata": {
    "deletable": false,
    "editable": false,
    "solution2": "hidden"
   },
   "outputs": [],
   "source": [
    "#------------------------------#\n",
    "#    CORRECTION  ! ! ! ! ! !   #\n",
    "#------------------------------#\n",
    "def ajout_reference():\n",
    "\n",
    "    # Message d'introduction\n",
    "    print(\"Saisie d'un nouvel article\")\n",
    "\n",
    "    # initialisation du dictionnaire de retour\n",
    "    reference = {}\n",
    "\n",
    "    # Saisie du prix\n",
    "    print('Donner le prix')\n",
    "    reference['Prix'] = float(input() )\n",
    "\n",
    "    # Saisie de la quantite\n",
    "    print('Donner la quantite')\n",
    "    reference['Quantite'] = int(input())\n",
    "\n",
    "    # Saisie de la couleur\n",
    "    print('Donner la couleur')\n",
    "    reference['Couleur'] = input() \n",
    "\n",
    "    # valeur de retour\n",
    "    return reference"
   ]
  },
  {
   "cell_type": "markdown",
   "metadata": {
    "deletable": false,
    "editable": false,
    "run_control": {
     "frozen": true
    },
    "solution2": "hidden",
    "solution2_first": true
   },
   "source": [
    "#### Question 2  : Saisie et évaluation d'un stock\n",
    "- Ecrire le programme principal permettant, de saisir des références tant que l'utilisateur le souhaite, de les ajouter au fur et à mesure dans un tableau de dictionnaires, puis en fin de saisie, d'afficher le montant total du stock.\n",
    "\n",
    "On utilisera la fonction définie à la question précédente pour effectuer la saisie de chaque référence."
   ]
  },
  {
   "cell_type": "code",
   "execution_count": null,
   "metadata": {
    "deletable": false,
    "editable": false,
    "solution2": "hidden"
   },
   "outputs": [],
   "source": [
    "#------------------------------#\n",
    "#    CORRECTION  ! ! ! ! ! !   #\n",
    "#------------------------------#\n",
    "# Définition du tableau contenant le stock.\n",
    "Stock = []\n",
    "\n",
    "menu = 1\n",
    "while menu != 2 :\n",
    "    Stock.append(ajout_reference())\n",
    "    \n",
    "    #Menu pour continuer ou arrêter\n",
    "    print('Que voulez-vous faire ?')\n",
    "    print('Ajout reference: Tapez 1')\n",
    "    print('Sortir:          Tapez 2')\n",
    "    menu = int(input())\n",
    "\n",
    "# Calcul du montant du stock\n",
    "tot = 0\n",
    "\n",
    "i=0\n",
    "while i<len(Stock): \n",
    "    article=Stock[i]\n",
    "    tot += (article['Prix'] * article['Quantite'])\n",
    "    i+=1\n",
    "\n",
    "#ou \n",
    "#i=0 \n",
    "#while i<len(Stock):\n",
    "#    tot+=Stock[i]['Prix']*Stock[i]['Quantité']\n",
    "#    ref+=1\n",
    "\n",
    "print('Prix total du stock = ',tot)\n",
    "\n"
   ]
  },
  {
   "cell_type": "markdown",
   "metadata": {
    "deletable": false,
    "editable": false,
    "run_control": {
     "frozen": true
    }
   },
   "source": [
    "## Pour aller plus loin"
   ]
  },
  {
   "cell_type": "markdown",
   "metadata": {
    "deletable": false,
    "editable": false,
    "run_control": {
     "frozen": true
    },
    "solution2": "hidden",
    "solution2_first": true
   },
   "source": [
    "### Exercice 5 : Registre des naissances**\n",
    "Le but de cet exercice est d'étudier les poids à la naissance de bébés d'une maternité. \n",
    "\n",
    "L'objectif est de saisir toutes les données de chaque bébé et de déterminer quel est leur poids moyen et quel est celui de poids maximal. Dans la suite, chaque bébé sera codé sous la forme d'un dictionnaire contenant son nom, son prénom et son poids à la naissance.\n",
    "\n",
    "#### Question 1 : Saisie des données d'un bébé\n",
    "On stocke donc les informations pour chaque bébé dans un dictionnaire qui contient trois couples clé-valeur :\n",
    "<UL>\n",
    "<LI> La première clé est le `\"nom\"` du bébé, c'est une chaîne de caractères.\n",
    "<LI> La deuxième clé est le ``\"prénom\"`` du bébé, c'est une chaîne de caractères.\n",
    "<LI> La troisème clé est le ``\"poids\"`` à la naissance du bébé, c'est un flottant.\n",
    "</UL>\n",
    "On ne vérifiera pas la validité des valeurs du nom, du prénom et du poids.\n",
    "\n",
    "Un exemple d'un tel dictionnaire est le suivant :\n",
    "\n",
    "```{\"nom\": \"Noah\", \"prenom\": \"Joakim\" , \"poids\": 3.7}```\n",
    "\n",
    "Écrire une fonction `saisieBebe` qui effectue la saisie des données fournies par l'utilisateur pour le nom, le prénom et le poids à la naissance."
   ]
  },
  {
   "cell_type": "code",
   "execution_count": null,
   "metadata": {
    "deletable": false,
    "editable": false,
    "solution2": "hidden"
   },
   "outputs": [],
   "source": [
    "#------------------------------#\n",
    "#    CORRECTION  ! ! ! ! ! !   #\n",
    "#------------------------------#\n",
    "def saisieBebe():\n",
    "    bebe={}\n",
    "    bebe[\"prénom\"]= input(\"Prénom ? \")\n",
    "    bebe[\"nom\"]=input(\"Nom ? \")\n",
    "    bebe[\"poids\"]=float(input(\"Poids ? \"))\n",
    "    return bebe\n",
    "\n",
    "# autre solution \n",
    "def saisieBebe2():\n",
    "    prenom= input(\"Prénom ?\")\n",
    "    nom=input(\"Nom ?\")\n",
    "    poids=float(input(\"Poids ?\"))\n",
    "    bebe={\"nom\": nom, \"prenom\": prenom, \"poids\": poids}\n",
    "    return bebe\n",
    "\n",
    "print(saisieBebe())"
   ]
  },
  {
   "cell_type": "markdown",
   "metadata": {
    "deletable": false,
    "editable": false,
    "run_control": {
     "frozen": true
    },
    "solution2": "shown",
    "solution2_first": true
   },
   "source": [
    "#### Question 2 : Saisie de la maternité\n",
    "\n",
    "La maternité est stockée sous forme d'un tableau dont les cases sont les bébés (représentés par les dictionnaires définis à la question précédente).\n",
    "\n",
    "Écrire une fonction `saisieMaternite` permettant la saisie des bébés nés à la maternité et retournant le tableau obtenu. Le nombre de bébés nés à la maternité sera demandé à l'utiliseur dans la fonction.\n",
    "\n",
    "On pensera à utiliser la fonction `saisieBebe` définie à la question précédente."
   ]
  },
  {
   "cell_type": "code",
   "execution_count": null,
   "metadata": {
    "deletable": false,
    "editable": false
   },
   "outputs": [],
   "source": [
    "#------------------------------#\n",
    "#    CORRECTION  ! ! ! ! ! !   #\n",
    "#------------------------------#\n",
    "def saisieMaternite():\n",
    "    n=int(input(\"nombre de bébés ?\"))\n",
    "    maternite=[]\n",
    "    i=0\n",
    "    while i<n:\n",
    "        bebe=saisieBebe()\n",
    "        maternite.append(bebe)\n",
    "        i+=1\n",
    "    return maternite"
   ]
  },
  {
   "cell_type": "markdown",
   "metadata": {
    "deletable": false,
    "editable": false,
    "run_control": {
     "frozen": true
    },
    "solution2": "hidden",
    "solution2_first": true
   },
   "source": [
    "#### Question 3 : Poids moyen\n",
    "On veut connaître le poids moyen des bébés nés dans la maternité.\n",
    "\n",
    "Ecrire une fonction `poidsMoyen` qui prend en paramètre une maternité (c'est-à-dire un tableau de bébés) et qui renvoie le poids moyen des bébés de la maternité."
   ]
  },
  {
   "cell_type": "code",
   "execution_count": null,
   "metadata": {
    "deletable": false,
    "editable": false,
    "solution2": "hidden"
   },
   "outputs": [],
   "source": [
    "#------------------------------#\n",
    "#    CORRECTION  ! ! ! ! ! !   #\n",
    "#------------------------------#\n",
    "def poidsMoyen(maternite):\n",
    "    poids=0\n",
    "    i=0\n",
    "    while i<len(maternite):\n",
    "        poids+=maternite[i][\"poids\"]\n",
    "        i+=1\n",
    "    return poids/len(maternite)\n",
    "\n",
    "# avec une variable intermédiaire \n",
    "def poidsMoyen2(maternite):\n",
    "    poids=0\n",
    "    i=0\n",
    "    while i<len(maternite):\n",
    "        bebe=maternite[i]\n",
    "        poids+=bebe[\"poids\"]\n",
    "        i+=1\n",
    "    return poids/len(maternite)\n",
    "\n",
    "# avec un for \n",
    "def poidsMoyen3(maternite):\n",
    "    poids=0\n",
    "    for bebe in maternite :\n",
    "        poids+=bebe[\"poids\"]\n",
    "    return poids/len(maternite)"
   ]
  },
  {
   "cell_type": "markdown",
   "metadata": {
    "solution2": "shown",
    "solution2_first": true
   },
   "source": [
    "#### Question 4 :  Bébé de poids maximal\n",
    "On veut déterminer quel est le bébé de poids maximal\n",
    "\n",
    "Ecrire une fonction `poidsMax` qui prend en paramètre une maternité (on suppose qu'il y a au moins un bébé) et qui retourne le bébé (dictionnaire) de poids maximal. On suppose qu'il est unique."
   ]
  },
  {
   "cell_type": "code",
   "execution_count": null,
   "metadata": {
    "deletable": false,
    "editable": false,
    "solution2": "shown"
   },
   "outputs": [],
   "source": [
    "#------------------------------#\n",
    "#    CORRECTION  ! ! ! ! ! !   #\n",
    "#------------------------------#\n",
    "def poidsMax(maternite):\n",
    "    bebeMax=maternite[0]\n",
    "    i=1\n",
    "    while i<len(maternite):\n",
    "        bebe=maternite[i]\n",
    "        if bebe[\"poids\"]> bebeMax[\"poids]:\n",
    "            bebeMax=bebe\n",
    "        i+=1\n",
    "    return bebeMax\n",
    "\n",
    "# avec un for \n",
    "def poidsMax(maternite):\n",
    "    bebeMax= maternite[0]\n",
    "    for bebe in maternite:\n",
    "        if bebe[\"poids\"]> bebeMax[\"poids\"]:\n",
    "            bebeMax=bebe       \n",
    "    return bebeMax"
   ]
  },
  {
   "cell_type": "markdown",
   "metadata": {
    "deletable": false,
    "editable": false,
    "run_control": {
     "frozen": true
    },
    "solution2": "shown",
    "solution2_first": true
   },
   "source": [
    "#### Question 5 : Programme principal\n",
    "\n",
    "Ecrire un programme principal qui permet de saisir une maternité et affiche le poids moyen des bébés ainsi que leur poids maximal."
   ]
  },
  {
   "cell_type": "code",
   "execution_count": null,
   "metadata": {
    "deletable": false,
    "editable": false,
    "solution2": "shown"
   },
   "outputs": [],
   "source": [
    "#------------------------------#\n",
    "#    CORRECTION  ! ! ! ! ! !   #\n",
    "#------------------------------#\n",
    "maternite=saisieMaternite()\n",
    "print(\"le poids moyen des bébés est \", poidsMoyen(maternite))\n",
    "print(\"le poids maximal des bébés est \", poidsMax(maternite))"
   ]
  }
 ],
 "metadata": {
  "kernelspec": {
   "display_name": "Python 3 (ipykernel)",
   "language": "python",
   "name": "python3"
  },
  "language_info": {
   "codemirror_mode": {
    "name": "ipython",
    "version": 3
   },
   "file_extension": ".py",
   "mimetype": "text/x-python",
   "name": "python",
   "nbconvert_exporter": "python",
   "pygments_lexer": "ipython3",
   "version": "3.11.4"
  },
  "latex_envs": {
   "LaTeX_envs_menu_present": true,
   "autoclose": false,
   "autocomplete": true,
   "bibliofile": "biblio.bib",
   "cite_by": "apalike",
   "current_citInitial": 1,
   "eqLabelWithNumbers": true,
   "eqNumInitial": 1,
   "hotkeys": {
    "equation": "Ctrl-E",
    "itemize": "Ctrl-I"
   },
   "labels_anchors": false,
   "latex_user_defs": false,
   "report_style_numbering": false,
   "user_envs_cfg": false
  },
  "toc": {
   "base_numbering": 1,
   "nav_menu": {},
   "number_sections": true,
   "sideBar": true,
   "skip_h1_title": false,
   "title_cell": "Table of Contents",
   "title_sidebar": "Contents",
   "toc_cell": false,
   "toc_position": {},
   "toc_section_display": true,
   "toc_window_display": false
  }
 },
 "nbformat": 4,
 "nbformat_minor": 2
}
