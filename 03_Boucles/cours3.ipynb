{
 "cells": [
  {
   "cell_type": "markdown",
   "metadata": {
    "deletable": false,
    "editable": false,
    "run_control": {
     "frozen": true
    }
   },
   "source": [
    "# <center>Chapitre 3 : Boucles simples</center>"
   ]
  },
  {
   "cell_type": "markdown",
   "metadata": {
    "deletable": false,
    "editable": false,
    "run_control": {
     "frozen": true
    }
   },
   "source": [
    "## Introduction"
   ]
  },
  {
   "cell_type": "markdown",
   "metadata": {
    "deletable": false,
    "editable": false,
    "run_control": {
     "frozen": true
    }
   },
   "source": [
    "Les boucles sont un élément central de la programmation. Elles\n",
    "permettent d'*effectuer un même ensemble d'instructions*\n",
    "(affichages, affectations, calculs) *plusieurs fois de suite*. Les\n",
    "boucles permettent donc d'éviter de copier/coller un\n",
    "ensemble d'instructions. Ainsi, pour  afficher à l'écran 100 fois\n",
    "la phrase `hello world`, \n",
    "- il suffit d'écrire une seule fois l'instruction\n",
    "`print(\"hello world\")` \n",
    "- et de spécifier que cette instruction doit\n",
    "être effectuée 100 fois par l'ordinateur. \n",
    "\n",
    "Le code est ainsi plus\n",
    "concis et beaucoup plus rapide à écrire. Dans certains cas, le\n",
    "nombre de fois que ces instructions doivent être répétées n'est pas\n",
    "connu au moment de l'écriture du code (contrairement au\n",
    "copier/coller). Ainsi, il est par exemple  possible de spécifier que\n",
    "certaines instructions doivent être répétées autant de fois qu'indiqué\n",
    "par une valeur saisie par l'utilisateur ou que l'utilisateur le souhaite."
   ]
  },
  {
   "cell_type": "markdown",
   "metadata": {
    "deletable": false,
    "editable": false,
    "run_control": {
     "frozen": true
    }
   },
   "source": [
    "## La boucle `while`\n",
    "Les boucles modélisent un raisonnement logique indépendant de la\n",
    "programmation et sont utilisées dans la vie quotidienne. Par exemple,\n",
    "lorsqu'en voiture on est arrêté à un feu tricolore, le code de la\n",
    "route spécifie \"*tant que le feu est rouge, je reste à l'arrêt*\". Cette\n",
    "spécification peut être vue comme une boucle. L'instruction `\"je reste à l'arrêt\"` est effectuée autant de fois que nécessaire, et ce, jusqu'à\n",
    "ce que la condition `\"le feu est rouge\"` soit fausse.\n",
    "\n",
    "### Structure du `while`\n",
    "Le type de boucles présenté ici reprend le même schéma de raisonnement\n",
    "que dans l'exemple ci-dessus. La boucle `while` (*while* signifiant\n",
    "*tant que* en anglais), s'écrit de la manière suivante :\n",
    "\n",
    "```python\n",
    "Instruction 0                     \n",
    "while (condition):                  \n",
    "  Instruction 1                    \n",
    "  Instruction 2                    \n",
    "  ...                              \n",
    "  Instruction n                    \n",
    "Instruction n+1                    \n",
    "```\n",
    "\n",
    "__Remarque importante !__  L'indentation des instructions 1 à n\n",
    "est obligatoire. Cela permet à l'interpréteur Python de distinguer le\n",
    "bloc d'instructions associé à la boucle `while` (on appelle ce bloc le *corps de la boucle*).\n",
    "\n",
    "Ce code indique que les instructions indentées par rapport au mot-clé\n",
    "`while` (*i.e.*, les instructions 1 à n) sont répétées tant que la\n",
    "`condition` est vraie. Ces instructions peuvent correspondre à un\n",
    "calcul, des affectations, des alternatives ou à d'autres\n",
    "boucles. L'ordre dans lequel ces instructions sont exécutées par\n",
    "l'ordinateur est représenté dans la figure suivante. "
   ]
  },
  {
   "cell_type": "markdown",
   "metadata": {},
   "source": [
    "<img src=\"img/boucleWhile.png\" height=\"352\" width=\"470\" ></img>"
   ]
  },
  {
   "cell_type": "markdown",
   "metadata": {
    "deletable": false,
    "editable": false,
    "run_control": {
     "frozen": true
    }
   },
   "source": [
    "Lorsque le programme arrive à\n",
    "l'instruction `while`, il évalue la condition associée :\n",
    "- Si cette dernière est vraie, alors les instructions 1 à n sont exécutées puis\n",
    "la condition est de nouveau évaluée. \n",
    "- Lorsque la condition est fausse, le programme exécute directement l'instruction n+1.\n",
    "\n",
    "Chaque exécution des instructions 1 à n associées au `while` est appelée une *itération*. La condition porte\n",
    "très souvent sur la valeur d'une variable dont on modifie la\n",
    "valeur à chaque itération. "
   ]
  },
  {
   "cell_type": "markdown",
   "metadata": {
    "deletable": false,
    "editable": false,
    "run_control": {
     "frozen": true
    }
   },
   "source": [
    "## Exemple d'utilisation"
   ]
  },
  {
   "cell_type": "markdown",
   "metadata": {
    "deletable": false,
    "editable": false,
    "run_control": {
     "frozen": true
    }
   },
   "source": [
    "Pour afficher 4 fois la phrase \"*hello world*\", on peut utiliser une variable, dont la\n",
    "valeur est fixée initialement à 0, et incrémenter cette variable de un à chaque itération. Le bloc d'instructions associé au `while` devra alors être exécuté tant que la valeur de la variable est inférieure strictement à 4. On obtient alors le code suivant :"
   ]
  },
  {
   "cell_type": "code",
   "execution_count": null,
   "metadata": {
    "deletable": false,
    "editable": false
   },
   "outputs": [],
   "source": [
    "print (\"********************\")\n",
    "i = 0\n",
    "while i < 4 :\n",
    "    print (\"hello world\")\n",
    "    i=i+1      #ou de manière compacte i += 1\n",
    "print (\"********************\")"
   ]
  },
  {
   "cell_type": "markdown",
   "metadata": {
    "deletable": false,
    "editable": false,
    "run_control": {
     "frozen": true
    }
   },
   "source": [
    "### Affectation compacte"
   ]
  },
  {
   "cell_type": "markdown",
   "metadata": {
    "deletable": false,
    "editable": false,
    "run_control": {
     "frozen": true
    }
   },
   "source": [
    "Lorsque l'on affecte à une variable une valeur définie à partir de la\n",
    "variable elle-même, la variable en question appararaît alors dans\n",
    "chaque membre de l'affectation. Ainsi, pour multiplier la valeur d'une\n",
    "variable par `2`, on peut utiliser l'instruction `i=i*2`\n",
    "\n",
    "Si la variable apparaît comme premier terme du membre droit de\n",
    "l'affection, il est possible de rendre l'expression plus compacte en\n",
    "supprimant la variable du membre droit et en plaçant l'opérande avant\n",
    "le signe d'affectation. L'instruction précédente devient alors\n",
    "`i*=2`.\n",
    "\n",
    "Cette compactification est valide pour les opérandes `+,-,*,/`. Le tableau suivant résume ces raccourcis d'écriture.\n",
    " "
   ]
  },
  {
   "cell_type": "markdown",
   "metadata": {
    "deletable": false,
    "editable": false,
    "run_control": {
     "frozen": true
    }
   },
   "source": [
    "|Compactée | <=>  | Expression |\n",
    "|----------|------|------------|\n",
    "|   a\\*=2  | <=>  |   a=a\\*2   | \n",
    "|   b+=1   | <=>  |   b=b+1    |\n",
    "|   c-=3   | <=>  |   c=c-3    |\n",
    "|   d/=4   | <=>  |   d=d/4    |\n",
    "\n",
    "- Sur ce thème : **Exercice 1, TD3**"
   ]
  },
  {
   "cell_type": "markdown",
   "metadata": {
    "deletable": false,
    "editable": false,
    "run_control": {
     "frozen": true
    }
   },
   "source": [
    "## Construire une boucle : nombre fixé d'itérations"
   ]
  },
  {
   "cell_type": "markdown",
   "metadata": {
    "deletable": false,
    "editable": false,
    "run_control": {
     "frozen": true
    }
   },
   "source": [
    "Dans ce qui suit, on présenté le raisonnement qui permet \n",
    "l'élaboration d'une boucle simple. Si, par exemple, on veut écrire\n",
    "un programme permettant d'afficher tous les nombres pairs compris \n",
    "entre 1 et 10 inclus. \n",
    "\n",
    "Le premier code qui vient à l'esprit est le\n",
    "suivant :\n",
    "\n",
    "```python\n",
    "print(2)\n",
    "print(4)\n",
    "print(6)\n",
    "print(8)\n",
    "print(10)\n",
    "```"
   ]
  },
  {
   "cell_type": "markdown",
   "metadata": {
    "deletable": false,
    "editable": false,
    "run_control": {
     "frozen": true
    }
   },
   "source": [
    "Cependant, enchaîner ces instructions est loin d'être la meilleure technique ! Ainsi, si la\n",
    "question consiste à afficher tous les nombres pairs entre 1 et 10000\n",
    "inclus, cette technique nécessitera plusieurs heures pour écrire le\n",
    "programme ! De plus, comme on répète plus ou\n",
    "moins la même instruction, à savoir afficher un nombre qui évolue de manière régulière, il est\n",
    "possible (en modifiant légèrement le code) d'utiliser une boucle pour\n",
    "afficher ces nombres pairs."
   ]
  },
  {
   "cell_type": "markdown",
   "metadata": {
    "deletable": false,
    "editable": false,
    "run_control": {
     "frozen": true
    }
   },
   "source": [
    "### Conception du corps de la boucle\n",
    "Afin de pouvoir créer une boucle, il faut que les **instructions\n",
    "effectuées à chaque itération soient identiques**. Pour cela, il\n",
    "convient tout d'abord de modifier le programme afin de faire en sorte\n",
    "que les affichages soient strictement identiques. On utilise alors une\n",
    "variable, `i` par exemple, pour stocker la donnée à afficher (2,\n",
    "4,...,10). Ainsi, l'affichage devient identique pour tous les nombres,\n",
    "à savoir `print(i)`. Le code est alors le suivant :"
   ]
  },
  {
   "cell_type": "code",
   "execution_count": null,
   "metadata": {
    "deletable": false,
    "editable": false
   },
   "outputs": [],
   "source": [
    "i = 2\n",
    "print(i)\n",
    "i = 4\n",
    "print(i)\n",
    "i = 6\n",
    "print(i)\n",
    "i = 8\n",
    "print(i)\n",
    "i = 10\n",
    "print(i)"
   ]
  },
  {
   "cell_type": "markdown",
   "metadata": {
    "deletable": false,
    "editable": false,
    "run_control": {
     "frozen": true
    }
   },
   "source": [
    "Le code fait maintenant apparaître la répétition à 5 reprises de la même instruction `print(i)`. En revanche,\n",
    "5 affectations différentes de la variable `i` sont effectuées. Mais l'affectation consiste en fait simplement à ajouter `2` à la valeur de `i`. On peut donc remplacer les 5 affectations différentes par l'affectation `i+=2`. Pour que cela soit toujours vrai, il faut toutefois que `i` soit initialisé à `0`. On obtient alors le code\n",
    "suivant :"
   ]
  },
  {
   "cell_type": "code",
   "execution_count": null,
   "metadata": {
    "deletable": false,
    "editable": false
   },
   "outputs": [],
   "source": [
    "i = 0\n",
    "\n",
    "i += 2\n",
    "print(i)\n",
    "    \n",
    "i += 2\n",
    "print(i)\n",
    "    \n",
    "i += 2\n",
    "print(i)\n",
    "    \n",
    "i += 2\n",
    "print(i)\n",
    "    \n",
    "i += 2\n",
    "print(i)"
   ]
  },
  {
   "cell_type": "markdown",
   "metadata": {
    "deletable": false,
    "editable": false,
    "run_control": {
     "frozen": true
    }
   },
   "source": [
    "Dans ce code, un bloc de deux instructions est répété 5 fois c'est le qui sera le *corps de la boucle*. "
   ]
  },
  {
   "cell_type": "markdown",
   "metadata": {},
   "source": [
    "### Condition de maitien dans la boucle \n",
    "Avant le dernier bloc d'instructions (ligne 15), la variable `i` est égale à 8. On répète donc ces instructions tant que la variable `i` est inférieure ou égale à 8 c'est la *condition de maitien dans la boucle*. \n",
    "\n",
    "On peut donc remplacer ce code par la boucle :"
   ]
  },
  {
   "cell_type": "code",
   "execution_count": null,
   "metadata": {
    "deletable": false,
    "editable": false
   },
   "outputs": [],
   "source": [
    "i = 0\n",
    "while i <= 8 :\n",
    "    i+=2\n",
    "    print(i)"
   ]
  },
  {
   "cell_type": "markdown",
   "metadata": {
    "deletable": false,
    "editable": false,
    "run_control": {
     "frozen": true
    }
   },
   "source": [
    "La difficulté de l'élaboration d'une boucle vient du fait qu'il faut\n",
    "être capable de modifier les instructions afin qu'elles soient\n",
    "identiques lors de chaque itération. L'exemple présenté ici devient très simple\n",
    "dès que l'on comprend que la variable `i` est incrémentée de `2` à chaque\n",
    "itération. Cette *transformation* du code (en instructions identiques)\n",
    "peut cependant être difficile si l'on n'a pas la bonne *intuition*.\n",
    "\n",
    "Dans le code précédent, à chaque itération, on effectue d'abord\n",
    "l'incrémentation de la variable `i` puis l'affichage de `i`. L'ordre dans\n",
    "lequel ces deux instructions est fait est complètement arbitraire. On\n",
    "pourrait, tout aussi bien considérer qu'à chaque itération, on affiche\n",
    "d'abord `i` avant de l'incrémenter. Pour afficher comme première valeur\n",
    "2, il faut affecter la valeur `2` à `i` avant d'entrer dans la boucle\n",
    "`while`. De plus, comme le dernier entier à afficher est 10, il est\n",
    "nécessaire d'effectuer le bloc d'instructions tant que `i` est inférieur\n",
    "ou égal à `10`. On obtient alors le code suivant :"
   ]
  },
  {
   "cell_type": "code",
   "execution_count": null,
   "metadata": {
    "deletable": false,
    "editable": false
   },
   "outputs": [],
   "source": [
    "i = 2\n",
    "while i <= 10 :\n",
    "    print(i)\n",
    "    i += 2"
   ]
  },
  {
   "cell_type": "markdown",
   "metadata": {
    "deletable": false,
    "editable": false
   },
   "source": [
    "- Sur ce thème : **Exercices 2, 3 et 4, TD3**"
   ]
  },
  {
   "cell_type": "markdown",
   "metadata": {
    "deletable": false,
    "editable": false,
    "run_control": {
     "frozen": true
    }
   },
   "source": [
    "## Construire une boucle : nombre variable d'itérations"
   ]
  },
  {
   "cell_type": "markdown",
   "metadata": {
    "deletable": false,
    "editable": false,
    "run_control": {
     "frozen": true
    }
   },
   "source": [
    "Jusqu'à maintenant, dans les différents exemples de boucles présentés, le nombre d'itérations était connu à l'avance. Si ce n'est pas le cas, il n'est alors plus possible d'initialiser une variable avec une valeur donnée et de la modifier à chaque itération de manière constante jusqu'à ce qu'elle atteigne une valeur fixée. D'autres\n",
    "types de conditions associées au `while` sont nécessaires.\n",
    "\n",
    " Pour illustrer ceci, on s'intéresse à l'écriture d'un\n",
    " programme permettant de calculer la moyenne des notes d'un étudiant, le nombre\n",
    " de notes n'étant pas connu à l'avance. L'utilisateur saisit au\n",
    " clavier les différentes notes (nombres flottants compris entre 0.0 et\n",
    " 20.0). Le programme interrompt la saisie lorsque le nombre saisi\n",
    " par l'utilisateur ne correspond pas à une note. Le programme affiche la moyenne des notes saisies.\n",
    "\n",
    "Comme l'utilisateur peut saisir plusieurs notes (par exemple 10 notes), il y\n",
    "a une répétition de l'instruction de saisie d'un nombre,\n",
    "c'est-à-dire, de l'instruction `nb = float(input())`. De\n",
    "plus, cette saisie doit continuer tant que le nombre saisi correspond\n",
    "à une note, c'est-à-dire, tant que la variable `nb` est supérieure ou\n",
    "égale à `0.0` et inférieure ou égale à `20.0`. Une ébauche de boucle\n",
    "est alors :\n",
    "\n",
    "```python \n",
    "nb = float(input())\n",
    "while nb >= 0 and nb <= 20 : \n",
    "    nb = float(input())\n",
    "```"
   ]
  },
  {
   "cell_type": "markdown",
   "metadata": {},
   "source": [
    "La saisie des notes ne suffit pas. Afin de calculer la moyenne de\n",
    "plusieurs notes, il faut connaître le nombre total de notes ainsi que\n",
    "la somme de ces notes. Il faut donc deux nouvelles variables, la\n",
    "première, appelée `compteur`, correspondant au nombre de notes, l'autre, appelée `somme`, à la somme des notes. À chaque itération, il faut donc incrémenter de `1` la variable `compteur`,\n",
    "ajouter à `somme` la valeur de la variable `nb` et demander à nouveau que\n",
    "l'utilisateur saisisse un nombre. La boucle devient alors:\n",
    "\n",
    "```python\n",
    "nb=float(input()\n",
    "while nb >= 0 and nb <= 20 : \n",
    "    compteur += 1\n",
    "    somme += nb\n",
    "    nb = float(input())\n",
    "```"
   ]
  },
  {
   "cell_type": "markdown",
   "metadata": {
    "deletable": false,
    "editable": false,
    "run_control": {
     "frozen": true
    }
   },
   "source": [
    "**Attention !** L'ordre des instructions est très important. Comme l'utilisateur peut saisir\n",
    "un nombre qui ne correspond pas à une note, il est nécessaire de vérifier que `nb` est une note avant de l'ajouter à `somme`. C'est pour cela que la saisie de `nb` est la dernière instruction\n",
    "du `while`. Si ce nombre est une note, autrement dit, si la condition du\n",
    "`while` est vraie, alors on incrémente `compteur` de `1` et on ajoute la\n",
    "dernière note saisie à `somme` à l'itération suivante.\n",
    "\n",
    "Il faut veiller à l'initialisation des variables. En effet, lors du premier test de la condition du `while`, la variable `nb` n'est pas définie. Elle doit correspondre à la première note saisie par l'utilisateur. Il faut donc ajouter avant la boucle l'instruction `nb = float(input())`. Il faut également donner\n",
    "des valeurs initiales à `compteur` et `somme`. Afin que le\n",
    "résultat soit correct, il faut les initialiser à `0`. Cela donne finalement :"
   ]
  },
  {
   "cell_type": "code",
   "execution_count": null,
   "metadata": {
    "deletable": false,
    "editable": false
   },
   "outputs": [],
   "source": [
    "nb = float(input())\n",
    "compteur = 0\n",
    "somme = 0\n",
    "while nb >= 0 and nb <= 20 : \n",
    "    compteur += 1\n",
    "    somme += nb\n",
    "    nb = float(input())"
   ]
  },
  {
   "cell_type": "markdown",
   "metadata": {
    "deletable": false,
    "editable": false,
    "run_control": {
     "frozen": true
    }
   },
   "source": [
    "À la fin de cette boucle, les variables `somme` et `compteur` correspondent respectivement à la somme des notes saisies et à leur nombre. Pour afficher la moyenne, il faut utiliser l'instruction `print('La moyenne est ', somme/compteur)`. Cependant, comme le programme doit fonctionner quel que soit le nombre de notes saisies par l'utilisateur, notamment dans le cas où aucune note n'a été saisie, il faut impérativement vérifier que  `compteur` est non nul, sinon l'instruction d'affichage engendre une division par 0, et donc une erreur. L'affichage avec un test sur le nombre de notes saisies peut alors s'écrire"
   ]
  },
  {
   "cell_type": "code",
   "execution_count": null,
   "metadata": {
    "deletable": false,
    "editable": false
   },
   "outputs": [],
   "source": [
    "if compteur==0 :\n",
    "    print('Aucune note n\\'a ete saisie. On ne peut donc pas calculer la moyenne!!!')\n",
    "else :\n",
    "    print('La moyenne est ', somme/compteur)"
   ]
  },
  {
   "cell_type": "markdown",
   "metadata": {
    "deletable": false,
    "editable": false,
    "run_control": {
     "frozen": true
    }
   },
   "source": [
    "## Construire une boucle : imbrication de structures "
   ]
  },
  {
   "cell_type": "markdown",
   "metadata": {},
   "source": [
    "Il est possible d'imbriquer des `if` dans une boucle `while`; et même d'imbriquer des boucles dans des boucles (la notion de boucles imbriquées sera abordée dans un prochain chapitre)."
   ]
  },
  {
   "cell_type": "markdown",
   "metadata": {
    "deletable": false,
    "editable": false,
    "run_control": {
     "frozen": true
    }
   },
   "source": [
    "Voici un exemple qui illustre cette notion :\n",
    "\n",
    "On souhaite écrire un programme qui permette de demander à l'utilisateur de saisir les valeurs `'O'` pour *oui* ou `'N'`  pour *non* et de répéter cette saisie tant que l'utilisateur ne saisira pas l'une de ces valeurs. De plus, en cas de saisie de la réponse en lettres minuscules, le programme en informera l'utilisateur par un message clair que la réponse doit être en majuscule."
   ]
  },
  {
   "cell_type": "markdown",
   "metadata": {},
   "source": [
    "### Conception du corps de la boucle `while`"
   ]
  },
  {
   "cell_type": "markdown",
   "metadata": {},
   "source": [
    "- On veut que l'utilisateur saisisse une valeur, il faut donc procéder à une saisie au clavier, par exemple : `choix=input()` ;\n",
    "- cependant, si l'utilisateur ne saisit pas la réponse en minuscule, il faut l'en informer :\n",
    "```python \n",
    "     if choix == 'o' or choix== 'n' :\n",
    "       print(\"La valeur saisie n'est pas correcte ! Veuillez la saisir en majuscules...\")\n",
    "```      \n",
    "- on peut ajouter un affichage pour informer l'utilisateur de ce qu'on attend comme saisie, cela améliore considérablement l'ergonomie du programme :\n",
    "\n",
    "En resumé, le corps de la boucle sera :\n",
    "```python \n",
    "     print('Entrez une valeur O ou N')\n",
    "     choix=input()\n",
    "     if choix != 'o' or choix!= 'n' :\n",
    "       print(\"La valeur saisie n'est pas correcte ! Veuillez la saisir en majuscules...\")\n",
    "```"
   ]
  },
  {
   "cell_type": "markdown",
   "metadata": {
    "deletable": false,
    "editable": false,
    "run_control": {
     "frozen": true
    }
   },
   "source": [
    "### Conception de la condition de maintien dans la boucle `while`"
   ]
  },
  {
   "cell_type": "markdown",
   "metadata": {
    "deletable": false,
    "editable": false,
    "run_control": {
     "frozen": true
    }
   },
   "source": [
    "Voici une méthode qui permet de trouver assez facilement la condition de maintien dans la boucle :\n",
    "\n",
    "- On souhaite que l'utilisateur entre une valeur de telle sorte que `choix =='O' or choix == 'N'`, c'est ce que l'on appelle la *condition de sortie de la boucle*;\n",
    "- les instructions de la boucle se répéteront tant que la condition de sortie de boucle ne sera pas satifaite, c'est-à-dire tant que la condition `not(choix = 'O' or choix = 'N')`  ou encore `choix != 'O' and choix != 'N'` sera vraie, c'est ce qu'on appelle la *condition de maitien de la boucle*."
   ]
  },
  {
   "cell_type": "markdown",
   "metadata": {
    "deletable": false,
    "editable": false,
    "run_control": {
     "frozen": true
    }
   },
   "source": [
    "### Initialisation avant  la boucle `while`"
   ]
  },
  {
   "cell_type": "markdown",
   "metadata": {
    "deletable": false,
    "editable": false,
    "run_control": {
     "frozen": true
    }
   },
   "source": [
    "Afin que le test soit valide dès l'évalutation de la *condition de maitien de la boucle* lors de l'entrée dans la boucle ; il faut que `choix` possède une valeur. Dans ce cas, on demande à l'utilisateur de saisir une première valeur `choix=input()`"
   ]
  },
  {
   "cell_type": "markdown",
   "metadata": {
    "deletable": false,
    "editable": false,
    "run_control": {
     "frozen": true
    }
   },
   "source": [
    "### Algorithme final\n",
    "Finalement, on obtient algorithme suivant :"
   ]
  },
  {
   "cell_type": "code",
   "execution_count": null,
   "metadata": {
    "deletable": false,
    "editable": false
   },
   "outputs": [],
   "source": [
    "print('Entrez une valeur O ou N')\n",
    "choix=input()\n",
    "\n",
    "#while choix != 'O' and choix != 'N': \n",
    "#ou de manière équivalente\n",
    "while not(choix == 'O' or choix == 'N'):\n",
    "    if choix =='o' or choix== 'n' :\n",
    "        print(\"La valeur saisie n'est pas correcte ! Veuillez la saisir en majuscules...\")\n",
    "    print('Entrez une valeur O ou N')\n",
    "    choix=input()\n",
    "    \n",
    "print(\"la réponse est :\", choix)"
   ]
  },
  {
   "cell_type": "markdown",
   "metadata": {
    "deletable": false,
    "editable": false
   },
   "source": [
    "- Sur ce thème : **Exercices 5 et 6, TD3**"
   ]
  },
  {
   "cell_type": "markdown",
   "metadata": {
    "deletable": false,
    "editable": false,
    "run_control": {
     "frozen": true
    }
   },
   "source": [
    "## Boucles infinies"
   ]
  },
  {
   "cell_type": "markdown",
   "metadata": {
    "deletable": false,
    "editable": false,
    "run_control": {
     "frozen": true
    }
   },
   "source": [
    "Les boucles infinies sont des boucles dont les instructions sont\n",
    "exécutées une infinité de fois. De telles boucles interviennent\n",
    "lorsque la condition du `while` est toujours vraie. Elles correspondent\n",
    "à une erreur de programmation et ne sont pas détectées par\n",
    "l'ordinateur. Cela provient soit d'une mauvaise\n",
    "initialisation de la ou des variables intervenant dans la condition,\n",
    "soit d'un test mal formulé. Voici un exemple de boucle infinie :"
   ]
  },
  {
   "cell_type": "code",
   "execution_count": null,
   "metadata": {},
   "outputs": [],
   "source": [
    "    i = 1\n",
    "    while i!=10 :\n",
    "        i += 2\n",
    "        print(i)"
   ]
  },
  {
   "cell_type": "markdown",
   "metadata": {
    "deletable": false,
    "editable": false
   },
   "source": [
    "Un peu (ou beaucoup!) de reflexion avant l'écriture d'une boucle\n",
    "permet d'éviter de telles boucles infinies.\n",
    "- Sur ce thème : **Exercice 7, TD3**"
   ]
  }
 ],
 "metadata": {
  "@webio": {
   "lastCommId": "0ca9f71a70e94c1480c26c6921fafdb4",
   "lastKernelId": "d31ab70c-e1f6-4494-ac61-cfed5924396f"
  },
  "kernelspec": {
   "display_name": "Python 3 (ipykernel)",
   "language": "python",
   "name": "python3"
  },
  "language_info": {
   "codemirror_mode": {
    "name": "ipython",
    "version": 3
   },
   "file_extension": ".py",
   "mimetype": "text/x-python",
   "name": "python",
   "nbconvert_exporter": "python",
   "pygments_lexer": "ipython3",
   "version": "3.11.4"
  },
  "latex_envs": {
   "LaTeX_envs_menu_present": true,
   "autoclose": false,
   "autocomplete": true,
   "bibliofile": "biblio.bib",
   "cite_by": "apalike",
   "current_citInitial": 1,
   "eqLabelWithNumbers": true,
   "eqNumInitial": 1,
   "hotkeys": {
    "equation": "Ctrl-E",
    "itemize": "Ctrl-I"
   },
   "labels_anchors": false,
   "latex_user_defs": false,
   "report_style_numbering": false,
   "user_envs_cfg": false
  },
  "toc": {
   "base_numbering": 1,
   "nav_menu": {},
   "number_sections": true,
   "sideBar": true,
   "skip_h1_title": true,
   "title_cell": "Table des matières",
   "title_sidebar": "Table des matières",
   "toc_cell": false,
   "toc_position": {},
   "toc_section_display": true,
   "toc_window_display": true
  },
  "varInspector": {
   "cols": {
    "lenName": 16,
    "lenType": 16,
    "lenVar": 40
   },
   "kernels_config": {
    "python": {
     "delete_cmd_postfix": "",
     "delete_cmd_prefix": "del ",
     "library": "var_list.py",
     "varRefreshCmd": "print(var_dic_list())"
    },
    "r": {
     "delete_cmd_postfix": ") ",
     "delete_cmd_prefix": "rm(",
     "library": "var_list.r",
     "varRefreshCmd": "cat(var_dic_list()) "
    }
   },
   "types_to_exclude": [
    "module",
    "function",
    "builtin_function_or_method",
    "instance",
    "_Feature"
   ],
   "window_display": false
  }
 },
 "nbformat": 4,
 "nbformat_minor": 2
}
