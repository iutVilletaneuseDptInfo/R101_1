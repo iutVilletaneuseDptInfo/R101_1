{
 "cells": [
  {
   "cell_type": "markdown",
   "metadata": {},
   "source": [
    "# <center>Chapitre 3 : Boucles simples - TP </center>"
   ]
  },
  {
   "cell_type": "markdown",
   "metadata": {
    "deletable": false,
    "editable": false,
    "run_control": {
     "frozen": true
    }
   },
   "source": [
    "### Exercice 1 : Trace de programme*\n",
    "1. Donner la trace du programme, c'est-à-dire l'affichage qui sera obtenu par l'exécution du programme. \n",
    "2. Exécuter ensuite ce programme avec Python Tutor. Suivre pas à pas l'exécution du programme pour comprendre son fonctionnement. Vérifier que l'affichage obtenu est celui prédit."
   ]
  },
  {
   "cell_type": "code",
   "execution_count": null,
   "metadata": {},
   "outputs": [],
   "source": [
    "i = 3      \n",
    "nb = 1\n",
    "while i < 5 :\n",
    "    i += 1\n",
    "    nb += 2 * i\n",
    "print ('nb = ', nb)"
   ]
  },
  {
   "cell_type": "markdown",
   "metadata": {
    "deletable": false,
    "editable": false,
    "run_control": {
     "frozen": true
    }
   },
   "source": [
    "Même question lorsque la première instruction est respectivement remplacée par l'instruction `i = 0` et `i = 3`."
   ]
  },
  {
   "cell_type": "markdown",
   "metadata": {},
   "source": [
    "### Exercice 2 : Trace de programme**\n",
    "Donner la trace du programme, c'est-à-dire l'affichage qui sera obtenu par l'exécution du programme. "
   ]
  },
  {
   "cell_type": "code",
   "execution_count": null,
   "metadata": {},
   "outputs": [],
   "source": [
    "i = 12\n",
    "j = 43\n",
    "print ('i = ', i, ', j = ', j)\n",
    "while i<25 and j > 3 * i :\n",
    "    i += 3\n",
    "    j -=  i - 18 \n",
    "    print ('i = ', i, ', j = ', j)"
   ]
  },
  {
   "cell_type": "markdown",
   "metadata": {
    "deletable": false,
    "editable": false
   },
   "source": [
    " ### Exercice 3 : Calcul d'intérêts* $\\clubsuit$\n",
    "On veut modéliser l'évolution d'un compte bancaire permettant de placer de l'argent à taux fixe.\n",
    "Définir un programme permettant :\n",
    "\n",
    "- de saisir le taux d'intérêt annuel du compte,\n",
    "- de saisir une somme initiale placée sur le compte,\n",
    "- de saisir la durée en années du placement.\n",
    "\n",
    "Par exemple, si la somme initiale placée sur le compte est 100&euro; et le taux d'intérêt annuel du compte est de 10% (soit 0.1),  la somme disponible sur le compte est 100 \\* (1+10/100)= 110&euro; au bout d'un an, 110 \\* (1+10/100)= 121&euro; au bout de 2 ans et 121 \\* (1+10/100)= 133.1&euro; après 3 ans.\n",
    "\n",
    "Le programme calculera et affichera le solde du compte à l'issue de la durée du placement.\n",
    "\n",
    "**Important :** on prendra soin de bien tester le programme en effectuant plusieurs essais avec des **jeux de tests significatifs** et en vérifiant \"à la main\" la validité des résultats.\n",
    "\n",
    "**Attention :** Il est possible d'arrondir des valeur grâce à la fonction `round(nombre[, nbdigits])`. \n",
    "Si `nbdigits` n'est pas fourni, le résultat est l'entier le plus proche de `nombre`.\n",
    "Si `nbdigits` est fourni, le résultat est le flottant arrondi au plus proche selon le nombre de chiffres donné par `nbdigits`. Ainsi"
   ]
  },
  {
   "cell_type": "code",
   "execution_count": null,
   "metadata": {
    "deletable": false,
    "editable": false
   },
   "outputs": [],
   "source": [
    "print(round(5.0034))     # affiche 5\n",
    "print(round(5.1174, 2))  # affiche 5.12"
   ]
  },
  {
   "cell_type": "code",
   "execution_count": null,
   "metadata": {},
   "outputs": [],
   "source": [
    "#-------------------------#\n",
    "#    Écrire le code ici   #\n",
    "#-------------------------#\n",
    "\n",
    "\n"
   ]
  },
  {
   "cell_type": "markdown",
   "metadata": {
    "deletable": false,
    "editable": false
   },
   "source": [
    "### Exercice 4 : Calcul du modulo sans l'opérateur modulo (%)** $\\clubsuit$\n",
    "On souhaite écrire un algorithme qui affiche si un nombre entier est divisible ou non par un autre. Quelque soit l'ordre de saisie des arguments, on cherchera toujours à savoir si le plus grand nombre est divisible par le plus petit. Les deux nombres seront fournis par l'utilisateur.\n",
    "\n",
    "*On ne doit pas utiliser l'opérateur modulo (`%`), mais la méthode des soustractions successives.*\n",
    "\n",
    "*Exemple :* Si `a = 6` et `b = 2`, ou `a=2` et `b=6`, l'application de la méthode des soustractions successives donne \n",
    "\n",
    "- `6 - 2 = 4`<br>\n",
    "- `4 - 2 = 2`<br>\n",
    "- `2 - 2 = 0`<br>\n",
    "(c'est fini car on ne peut plus soustraire 2 à 0).<br>\n",
    "Donc 6 est divisible par 2 (car la dernière soustraction permet d'obtenir 0).\n",
    "\n",
    "*Exemple :* Si `a = 7` et `b = 3`, ou `a=3` et `b=7`, l'application de la méthode des soustractions successives donne :\n",
    "\n",
    "`7 - 3 = 4`<br>\n",
    "`4 - 3 = 1` <br> \n",
    "(c'est fini car on ne peut plus soustraire 3 à 1)<br>\n",
    "Donc 7 n'est pas divisible par 3 (car la dernière soustraction ne permet pas d'obtenir 0)."
   ]
  },
  {
   "cell_type": "code",
   "execution_count": null,
   "metadata": {},
   "outputs": [],
   "source": [
    "#-------------------------#\n",
    "#    Écrire le code ici   #\n",
    "#-------------------------#\n",
    "\n",
    "\n"
   ]
  },
  {
   "cell_type": "markdown",
   "metadata": {
    "deletable": false,
    "editable": false,
    "run_control": {
     "frozen": true
    }
   },
   "source": [
    "### Exercice 5 : Carrés et cubes*\n",
    "Ecrire un programme qui, pour tout entier compris entre 1 et 10, affiche sur une même ligne, les valeurs de cet entier, de son carré et de son cube. L'affichage doit donc être équivalent à :\n",
    "```\n",
    " 1   1    1\n",
    " 2   4    8\n",
    " 3   9   27\n",
    " 4  16   64\n",
    " 5  25  125\n",
    " 6  36  216\n",
    " 7  49  343\n",
    " 8  64  512\n",
    " 9  81  729\n",
    "10 100 1000\n",
    "```\n",
    "Afin d'obtenir l'affichage correct, il est possible de spécifier en Python le nombre de caractères à utiliser pour afficher une chaîne de caractères, cette chaîne étant alors justifiée à droite. Pour cela, il suffit d'utiliser l'instruction `str.rjust(n)` où `str` est une chaîne de caractères et `n` est le nombre de caractères à utiliser pour l'affichage de `str`. Afin de pouvoir utiliser cette instruction, il est nécessaire d'ajouter en début de programme l'instruction `from string import *`. A titre d'exemple :"
   ]
  },
  {
   "cell_type": "code",
   "execution_count": 1,
   "metadata": {
    "deletable": false,
    "editable": false
   },
   "outputs": [
    {
     "name": "stdout",
     "output_type": "stream",
     "text": [
      "x\n",
      " x\n",
      "  x\n",
      "  1\n",
      " 10\n",
      "100\n"
     ]
    }
   ],
   "source": [
    "from string import *\n",
    "uneVar = 'x'\n",
    "print ('x')\n",
    "print (uneVar.rjust(2)) # il est aussi possible d'écrire 'x'.rjust(2) \n",
    "print (uneVar.rjust(3))\n",
    "nb = 1\n",
    "print (str(nb).rjust(3))\n",
    "nb = 10\n",
    "print (str(nb).rjust(3))\n",
    "nb = 100\n",
    "print (nb)"
   ]
  },
  {
   "cell_type": "code",
   "execution_count": null,
   "metadata": {},
   "outputs": [],
   "source": [
    "#-------------------------#\n",
    "#    Écrire le code ici   #\n",
    "#-------------------------#\n",
    "\n",
    "\n"
   ]
  },
  {
   "cell_type": "markdown",
   "metadata": {
    "deletable": false,
    "editable": false,
    "run_control": {
     "frozen": true
    }
   },
   "source": [
    "### Exercice 6 - Diagonale d'étoiles*\n",
    "\n",
    "En utilisant l'instruction `uneVar.rjust(n)` expliquée précédemment, écrire un programme reproduisant l'affichage suivant : \n",
    "```\n",
    " *\n",
    "   *\n",
    "     *\n",
    "       *\n",
    "         *\n",
    "           *\n",
    "             *\n",
    "               *\n",
    "                 *\n",
    "                   *\n",
    "                     *\n",
    "```"
   ]
  },
  {
   "cell_type": "code",
   "execution_count": null,
   "metadata": {},
   "outputs": [],
   "source": [
    "#-------------------------#\n",
    "#    Écrire le code ici   #\n",
    "#-------------------------#\n",
    "\n",
    "\n"
   ]
  },
  {
   "cell_type": "markdown",
   "metadata": {
    "deletable": false,
    "editable": false
   },
   "source": [
    "### Exercice 7 : Factorielle** $\\clubsuit$\n",
    "Ecrire un programme permettant de calculer la factorielle d'un nombre saisi par l'utilisateur. \n",
    "\n",
    "**Rappel :** si `n`  est un entier positif, alors la *factorielle* de $n$, notée $n!$, est égale à : $$n! = n \\times (n-1) \\times (n -2) \\times \\dots \\times 2 \\times 1$$ Par convention, $0! = 1$.\n",
    "\n",
    "**Important :** on prendra soin de bien tester le programme en effectuant plusieurs essais avec des **jeux de tests significatifs** et en vérifiant \"à la main\" la validité des résultats."
   ]
  },
  {
   "cell_type": "code",
   "execution_count": null,
   "metadata": {},
   "outputs": [],
   "source": [
    "#-------------------------#\n",
    "#    Écrire le code ici   #\n",
    "#-------------------------#\n",
    "\n",
    "\n"
   ]
  },
  {
   "cell_type": "markdown",
   "metadata": {
    "deletable": false,
    "editable": false,
    "run_control": {
     "frozen": true
    }
   },
   "source": [
    "### Exercice 8 : Utilisation de `turtle` (la *tortue*)**\n",
    "\n",
    "Le module Turtle permet de dessiner à l'écran des figures. Afin de pouvoir utiliser ce module, il faut ajouter, en début de programme, l'instruction : `from turtle import *`. On peut alors utiliser les instructions suivantes pour dessiner :\n",
    "- `goto(x,y)` : aller à l'endroit de coordonnées x et y,\n",
    "- `forward(distance)` : avancer d'une `distance` donnée,\n",
    "- `up()`  : relever le crayon (pour pouvoir avancer sans dessiner),\n",
    "- `down()` : abaisser le crayon (pour pouvoir recommencer à dessiner),\n",
    "- `right(angle)` : tourner à droite d'un `angle` donné (exprimé en degré)\n",
    "- `left(angle)` : tourner à gauche d'un `angle` donné (exprimé en degré)\t\n",
    "- `done()` : pour terminer un programme graphique utilisant `turtle`. \n",
    "\n",
    "**Attention :** La fenêtre graphique reste ouverte jusqu'à ce qu'une action de l'utilisateur la ferme ! \n",
    "\n",
    "**Remarque :** La fermeture de la fenêtre de dessin permet d'arrêter la tortue, mais peut provoquer un dysfonctionnement lors l'utilisation suivante ; il faut alors relancer plusieurs fois la tortue pour y remédier.\n",
    "\n",
    "A titre d'exemple, regarder ce que donne le code : "
   ]
  },
  {
   "cell_type": "code",
   "execution_count": null,
   "metadata": {
    "deletable": false,
    "editable": false
   },
   "outputs": [],
   "source": [
    "from turtle import *\n",
    "forward(100)\n",
    "left(90)\n",
    "forward(50)\n",
    "goto(0, 0)\n",
    "done()"
   ]
  },
  {
   "cell_type": "markdown",
   "metadata": {
    "deletable": false,
    "editable": false,
    "run_control": {
     "frozen": true
    }
   },
   "source": [
    "Reproduire à l'aide du module `turtle` les quatres figures ci-dessous.   \n",
    " <img src=\"img/figuresTurtle3.png\" alt=\"Dessins\"  width=\"300px\"/> \t"
   ]
  },
  {
   "cell_type": "code",
   "execution_count": null,
   "metadata": {},
   "outputs": [],
   "source": [
    "#-------------------------#\n",
    "#    Écrire le code ici   #\n",
    "#-------------------------#\n",
    "\n",
    "\n"
   ]
  },
  {
   "cell_type": "markdown",
   "metadata": {},
   "source": [
    "### Exercice 9 : Polygones\\*\\*\\*\n",
    "Ecrire un programme demandant à l'utilisateur un nombre compris entre 3 et 10 et affichant, à l'aide du module `turtle`, un polygone ayant un nombre de côtés égal à la valeur saisie par l'utilisateur. La longueur des côtés pourra être fixée ou choisie par l'utilisateur."
   ]
  },
  {
   "cell_type": "code",
   "execution_count": null,
   "metadata": {},
   "outputs": [],
   "source": [
    "#-------------------------#\n",
    "#    Écrire le code ici   #\n",
    "#-------------------------#\n",
    "\n",
    "\n"
   ]
  }
 ],
 "metadata": {
  "@webio": {
   "lastCommId": "66f647201b1c44cf81e15aef80a24be9",
   "lastKernelId": "c0afc9e9-bd45-41c0-ae65-cfb7c5dd7e70"
  },
  "kernelspec": {
   "display_name": "Python 3 (ipykernel)",
   "language": "python",
   "name": "python3"
  },
  "language_info": {
   "codemirror_mode": {
    "name": "ipython",
    "version": 3
   },
   "file_extension": ".py",
   "mimetype": "text/x-python",
   "name": "python",
   "nbconvert_exporter": "python",
   "pygments_lexer": "ipython3",
   "version": "3.11.4"
  },
  "latex_envs": {
   "LaTeX_envs_menu_present": true,
   "autoclose": false,
   "autocomplete": true,
   "bibliofile": "biblio.bib",
   "cite_by": "apalike",
   "current_citInitial": 1,
   "eqLabelWithNumbers": true,
   "eqNumInitial": 1,
   "hotkeys": {
    "equation": "Ctrl-E",
    "itemize": "Ctrl-I"
   },
   "labels_anchors": false,
   "latex_user_defs": false,
   "report_style_numbering": false,
   "user_envs_cfg": false
  },
  "toc": {
   "base_numbering": 1,
   "nav_menu": {},
   "number_sections": true,
   "sideBar": true,
   "skip_h1_title": false,
   "title_cell": "Table of Contents",
   "title_sidebar": "Contents",
   "toc_cell": false,
   "toc_position": {},
   "toc_section_display": true,
   "toc_window_display": false
  },
  "varInspector": {
   "cols": {
    "lenName": 16,
    "lenType": 16,
    "lenVar": 40
   },
   "kernels_config": {
    "python": {
     "delete_cmd_postfix": "",
     "delete_cmd_prefix": "del ",
     "library": "var_list.py",
     "varRefreshCmd": "print(var_dic_list())"
    },
    "r": {
     "delete_cmd_postfix": ") ",
     "delete_cmd_prefix": "rm(",
     "library": "var_list.r",
     "varRefreshCmd": "cat(var_dic_list()) "
    }
   },
   "types_to_exclude": [
    "module",
    "function",
    "builtin_function_or_method",
    "instance",
    "_Feature"
   ],
   "window_display": false
  }
 },
 "nbformat": 4,
 "nbformat_minor": 2
}
