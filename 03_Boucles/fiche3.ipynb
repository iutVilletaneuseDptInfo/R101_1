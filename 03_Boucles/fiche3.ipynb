{
 "cells": [
  {
   "cell_type": "markdown",
   "metadata": {
    "deletable": false,
    "editable": false,
    "run_control": {
     "frozen": true
    }
   },
   "source": [
    "# <center>Chapitre 3 : Boucles simples</center>"
   ]
  },
  {
   "cell_type": "markdown",
   "metadata": {
    "deletable": false,
    "editable": false,
    "run_control": {
     "frozen": true
    }
   },
   "source": [
    "## Boucle `while`\n",
    "### Syntaxe"
   ]
  },
  {
   "cell_type": "markdown",
   "metadata": {},
   "source": [
    "La boucle `while` (*while* signifiant *tant que* en anglais) permet d'exécuter plusieurs fois des instructions *similaires* sous `condition`. Elle s'écrit de la manière suivante :\n",
    "\n",
    "```python\n",
    "Instruction 0\n",
    "while condition :\n",
    "    instruction 1\n",
    "    instruction 2\n",
    "    ...\n",
    "    instruction n\n",
    "Instruction n+1\n",
    "```\n",
    "\n",
    "### Corps de la boucle\n",
    "* Le *corps de la boucle* est l'ensemble des instructions exécutées (`instruction 1 ` à `instruction n` ci-dessus).\n",
    "\n",
    "    * Ces instructions doivent être indentées (**Très important**).\n",
    "\n",
    "    * Elles sont exécutées tant que `condition` est vraie.\n",
    "\n",
    "### Condition de maitien dans la boucle\n",
    "* `condition` doit devenir fausse à un moment donné (**sinon la boucle est infinie**).\n",
    "* Des instructions du corps de la boucle doivent changer la valeur de `condition`.\n",
    "* Les variables intervenant dans `condition` doivent être initialisées avant l'instruction `while condition :`\n",
    "    \n",
    "    \n",
    "#### Exemple de boucle infinie"
   ]
  },
  {
   "cell_type": "code",
   "execution_count": null,
   "metadata": {
    "deletable": false,
    "editable": false
   },
   "outputs": [],
   "source": [
    "i=1\n",
    "while i>0 :\n",
    "    print(i)\n",
    "    i=i+1\n",
    "print('message jamais affiche')"
   ]
  },
  {
   "cell_type": "markdown",
   "metadata": {},
   "source": [
    "#### Un compteur pour répéter une instruction un nombre connu de fois \n",
    "Exemple d'une boucle affichant les nombres de 1 à 10"
   ]
  },
  {
   "cell_type": "code",
   "execution_count": null,
   "metadata": {
    "deletable": false,
    "editable": false
   },
   "outputs": [],
   "source": [
    "compteur = 1\n",
    "while compteur <= 10 :\n",
    "    print(i)\n",
    "    i = i + 1"
   ]
  },
  {
   "cell_type": "markdown",
   "metadata": {
    "deletable": false,
    "editable": false,
    "run_control": {
     "frozen": true
    }
   },
   "source": [
    "Quelques remarques sur l'exemple (mais qui s'appliquent dans le cas général) :\n",
    "* l'initialisation de la variable `compteur` intervenant dans la condition est faite **AVANT** la boucle ;\n",
    "* l'incrémentation de la variable `compteur` dans le corps de la boucle permet de rendre `condition` fausse et donc de sortir de la boucle (ce qui n'est pas vrai dans l'exemple de la boucle infinie ci-dessus) ;\n",
    "* la condition d'arrêt et les valeurs des variables en sortie de boucles doivent être bien estimées : dans l'exemple, la condition devient fausse lorsque `compteur` est strictement supérieur à `10` et en sortie `compteur` vaut 11 et non 10 !"
   ]
  },
  {
   "cell_type": "markdown",
   "metadata": {
    "deletable": false,
    "editable": false
   },
   "source": [
    "## Vocabulaire \n",
    "* corps, condition de maintien dans la boucle, condition d'arrêt, itération."
   ]
  }
 ],
 "metadata": {
  "kernelspec": {
   "display_name": "Python 3 (ipykernel)",
   "language": "python",
   "name": "python3"
  },
  "language_info": {
   "codemirror_mode": {
    "name": "ipython",
    "version": 3
   },
   "file_extension": ".py",
   "mimetype": "text/x-python",
   "name": "python",
   "nbconvert_exporter": "python",
   "pygments_lexer": "ipython3",
   "version": "3.11.4"
  },
  "latex_envs": {
   "LaTeX_envs_menu_present": true,
   "autoclose": false,
   "autocomplete": true,
   "bibliofile": "biblio.bib",
   "cite_by": "apalike",
   "current_citInitial": 1,
   "eqLabelWithNumbers": true,
   "eqNumInitial": 1,
   "hotkeys": {
    "equation": "Ctrl-E",
    "itemize": "Ctrl-I"
   },
   "labels_anchors": false,
   "latex_user_defs": false,
   "report_style_numbering": false,
   "user_envs_cfg": false
  }
 },
 "nbformat": 4,
 "nbformat_minor": 2
}
