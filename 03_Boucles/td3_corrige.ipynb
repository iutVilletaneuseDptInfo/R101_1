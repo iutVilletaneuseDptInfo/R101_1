{
 "cells": [
  {
   "cell_type": "markdown",
   "metadata": {
    "deletable": false,
    "editable": false,
    "run_control": {
     "frozen": true
    }
   },
   "source": [
    "# <center> Chapitre 3 : Boucles simples - TD corrigé</center>"
   ]
  },
  {
   "cell_type": "markdown",
   "metadata": {
    "deletable": false,
    "editable": false,
    "run_control": {
     "frozen": true
    },
    "solution2": "hidden",
    "solution2_first": true
   },
   "source": [
    "### Exercice 1 - Test de compréhension*\n",
    "#### Question 1 : syntaxe\n",
    "Quelle est la syntaxe du `while`?"
   ]
  },
  {
   "cell_type": "markdown",
   "metadata": {
    "deletable": false,
    "editable": false,
    "run_control": {
     "frozen": true
    },
    "solution2": "hidden"
   },
   "source": [
    "**CORRECTION :** \n",
    "```python \n",
    "Initialisation\n",
    "while condition :\n",
    "    Instructions\n",
    "```"
   ]
  },
  {
   "cell_type": "markdown",
   "metadata": {
    "deletable": false,
    "editable": false,
    "run_control": {
     "frozen": true
    },
    "solution2": "hidden",
    "solution2_first": true
   },
   "source": [
    "#### Question 2 : indentation\n",
    "Qu'est-ce qu'une *indentation* ? À quoi sert-elle ? "
   ]
  },
  {
   "cell_type": "markdown",
   "metadata": {
    "deletable": false,
    "editable": false,
    "run_control": {
     "frozen": true
    },
    "solution2": "hidden"
   },
   "source": [
    "**CORRECTION :** \n",
    "Une indentation est constituée d'espaces insérés avant une instruction. L'indentation sert à définir un bloc d'instructions, rattaché par exemple à un `if` ou un `while`."
   ]
  },
  {
   "cell_type": "markdown",
   "metadata": {
    "deletable": false,
    "editable": false,
    "run_control": {
     "frozen": true
    },
    "solution2": "hidden",
    "solution2_first": true
   },
   "source": [
    "#### Question 3 : itération\n",
    "\n",
    "Qu'est ce qu'une *itération* ?"
   ]
  },
  {
   "cell_type": "markdown",
   "metadata": {
    "deletable": false,
    "editable": false,
    "run_control": {
     "frozen": true
    },
    "solution2": "hidden"
   },
   "source": [
    "**CORRECTION :** L'exécution du bloc d'instructions associé au `while` pour une valeur de la condition du `while` évaluée à `True`."
   ]
  },
  {
   "cell_type": "markdown",
   "metadata": {
    "deletable": false,
    "editable": false,
    "run_control": {
     "frozen": true
    },
    "solution2": "hidden",
    "solution2_first": true
   },
   "source": [
    "#### Question 4 : Nombre minimal d'itérations\n",
    "Y a-t-il toujours au moins une itération dans une boucle ? Justifier votre réponse. "
   ]
  },
  {
   "cell_type": "markdown",
   "metadata": {
    "deletable": false,
    "editable": false,
    "run_control": {
     "frozen": true
    },
    "solution2": "hidden"
   },
   "source": [
    "**CORRECTION :** Si la condition régissant le `while` n'est pas vérifiée au départ, il n'y a aucune itération."
   ]
  },
  {
   "cell_type": "markdown",
   "metadata": {
    "deletable": false,
    "editable": false,
    "run_control": {
     "frozen": true
    },
    "solution2": "hidden",
    "solution2_first": true
   },
   "source": [
    "#### Question 5 : Initialisation\n",
    "Qu'est-ce qu'une *initialisation* ? Pourquoi est-ce important dans le cas des boucles ?"
   ]
  },
  {
   "cell_type": "markdown",
   "metadata": {
    "deletable": false,
    "editable": false,
    "run_control": {
     "frozen": true
    },
    "solution2": "hidden"
   },
   "source": [
    "**CORRECTION :** \n",
    "L'initialisation consiste à affecter une valeur *initiale* à une variable, notamment avant un test ou une boucle.\n",
    "L'initialisation des variables intervenant dans les conditions de boucle joue un rôle essentiel car elle permet au programmeur de contrôler la situation initiale et, par suite, son évolution au cours des itérations. Cela évite notamment les boucles infinies ou les boucles sans itération qui n'étaient pas prévues."
   ]
  },
  {
   "cell_type": "markdown",
   "metadata": {
    "deletable": false,
    "editable": false,
    "run_control": {
     "frozen": true
    },
    "solution2": "hidden",
    "solution2_first": true
   },
   "source": [
    "#### Question 6 : Affectation compacte\n",
    "À quoi correspondent les instructions compactes `i+=3, j-=7, k*=2, h/=4`?\n",
    "Comment écrire de manière compacte `a=3+a, a=8*a, a=2-a, a=3/a`?  "
   ]
  },
  {
   "cell_type": "markdown",
   "metadata": {
    "deletable": false,
    "editable": false,
    "run_control": {
     "frozen": true
    },
    "solution2": "hidden"
   },
   "source": [
    "**CORRECTION :** \n",
    "- Elles correspondent respectivement à `i=i+3, j=j-7, k=k*2, h=h/4`\n",
    "- Les deux premières instructions s'écrivent sous la forme `a+=3, a*=8`, les deux suivantes ne peuvent pas être écrites de manière compacte."
   ]
  },
  {
   "cell_type": "markdown",
   "metadata": {
    "deletable": false,
    "editable": false,
    "run_control": {
     "frozen": true
    },
    "solution2": "hidden",
    "solution2_first": true
   },
   "source": [
    "### Exercice 2 : Affichage d'entiers et décrémentation*\n",
    "Afficher les entiers de 1 à 20 dans l'ordre décroissant."
   ]
  },
  {
   "cell_type": "code",
   "execution_count": null,
   "metadata": {
    "deletable": false,
    "editable": false,
    "solution2": "hidden"
   },
   "outputs": [],
   "source": [
    "#------------------------------#\n",
    "#    CORRECTION  ! ! ! ! ! !   #\n",
    "#------------------------------#\n",
    "i = 20\n",
    "while i > 0 :\n",
    "    print (i)\n",
    "    i -= 1  "
   ]
  },
  {
   "cell_type": "markdown",
   "metadata": {
    "deletable": false,
    "editable": false,
    "run_control": {
     "frozen": true
    },
    "solution2": "hidden",
    "solution2_first": true
   },
   "source": [
    "### Exercice 3 : Table de multiplication*\n",
    "\n",
    "Afficher la table de multiplication par 7 des entiers de 1 jusqu'à 20 comme suit :<br>\n",
    " 1 \\* 7 = 7<br>\n",
    " 2 \\* 7 = 14<br>\n",
    " ...<br>\n",
    "19 \\* 7 = 133<br>\n",
    "20 \\* 7 = 140"
   ]
  },
  {
   "cell_type": "markdown",
   "metadata": {
    "deletable": false,
    "editable": false,
    "solution2": "hidden",
    "solution2_first": true
   },
   "source": [
    "### Exercice 4 : Multiples de 10*\n",
    "Ecrire un programme affichant les entiers positifs ou nuls multiples 10 et inférieurs à 999. "
   ]
  },
  {
   "cell_type": "code",
   "execution_count": null,
   "metadata": {
    "deletable": false,
    "editable": false,
    "solution2": "hidden"
   },
   "outputs": [],
   "source": [
    "#------------------------------#\n",
    "#    CORRECTION  ! ! ! ! ! !   #\n",
    "#------------------------------#\n",
    "i = 0\n",
    "while 10*i <=999 :\n",
    "    print (10*i)\n",
    "    i += 1 \n",
    "    \n",
    "# autre possibilité\n",
    "j = 0\n",
    "while i <=999 :\n",
    "    print (j)\n",
    "    j += 10 "
   ]
  },
  {
   "cell_type": "code",
   "execution_count": null,
   "metadata": {
    "deletable": false,
    "editable": false,
    "solution2": "hidden"
   },
   "outputs": [],
   "source": [
    "#------------------------------#\n",
    "#    CORRECTION  ! ! ! ! ! !   #\n",
    "#------------------------------#\n",
    "i = 1\n",
    "while i <= 20 :\n",
    "    print (i, ' * 7 = ', 7 * i)\n",
    "    i += 1"
   ]
  },
  {
   "cell_type": "markdown",
   "metadata": {
    "deletable": false,
    "editable": false,
    "solution2": "hidden",
    "solution2_first": true
   },
   "source": [
    "### Exercice 5 : Saisie contrôlée d'un entier positif**\n",
    "Ecrire un programme demandant à l'utilisateur de saisir un\n",
    "nombre entier positif. La saisie sera répétée jusqu'à ce que\n",
    "le nombre soit positif. <br>\n",
    "Même question pour un nombre entier positif et multiple de 3."
   ]
  },
  {
   "cell_type": "code",
   "execution_count": null,
   "metadata": {
    "deletable": false,
    "editable": false,
    "solution2": "hidden"
   },
   "outputs": [],
   "source": [
    "#------------------------------#\n",
    "#    CORRECTION  ! ! ! ! ! !   #\n",
    "#------------------------------#\n",
    "print ('Saisissez un nombre entier positif')\n",
    "nb = int(input())\n",
    "while nb < 0 : \n",
    "    print ('Saisissez un nombre entier positif')\n",
    "    nb = int(input())\n",
    "\n",
    "# Test unitaire\n",
    "assert nb>=0, 'Le nombre saisi n\\'est pas positif !'"
   ]
  },
  {
   "cell_type": "code",
   "execution_count": null,
   "metadata": {
    "deletable": false,
    "editable": false,
    "solution2": "hidden"
   },
   "outputs": [],
   "source": [
    "#------------------------------#\n",
    "#    CORRECTION  ! ! ! ! ! !   #\n",
    "#------------------------------#\n",
    "print ('Saisissez un nombre entier positif')\n",
    "nb = int(input())\n",
    "\n",
    "#avec un entier positif multiple de 3\n",
    "print ('Saisissez un nombre entier positif et multiple de 3')\n",
    "nb = int(input())\n",
    "\n",
    "while nb<0 or nb%3!=0 : \n",
    "    print ('Saisissez un nombre entier positif et multiple de 3')\n",
    "    nb = int(input())\n",
    "\n",
    "# Test unitaire\n",
    "assert nb>=0 and nb%3==0, 'Le nombre saisi n\\'est pas positif et multiple de 3 !'"
   ]
  },
  {
   "cell_type": "markdown",
   "metadata": {
    "deletable": false,
    "editable": false,
    "solution2": "hidden",
    "solution2_first": true
   },
   "source": [
    "### Exercice 6 : Sommes séparées des nombres pairs et impairs**\n",
    "Ecrire un programme permettant de calculer et d'afficher séparément les sommes d'une part des nombres pairs et d'autre part des nombres impairs compris entre `1` et `100` bornes incluses. \n",
    "\n",
    "La somme des termes pairs doit valoir `2550` et la somme des termes impairs `2500`."
   ]
  },
  {
   "cell_type": "code",
   "execution_count": 1,
   "metadata": {
    "deletable": false,
    "editable": false,
    "solution2": "hidden"
   },
   "outputs": [
    {
     "name": "stdout",
     "output_type": "stream",
     "text": [
      "La somme des nombres pairs est  2550\n",
      "La somme des nombres impairs est  2500\n"
     ]
    }
   ],
   "source": [
    "#------------------------------#\n",
    "#    CORRECTION  ! ! ! ! ! !   #\n",
    "#------------------------------#\n",
    "nb = 1\n",
    "somPair=0\n",
    "somImpair=0\n",
    "while nb <= 100 :\n",
    "    if nb%2 == 0 :\n",
    "        somPair+=nb\n",
    "    else :\n",
    "        somImpair+=nb\n",
    "    nb+=1\n",
    "    \n",
    "print('La somme des nombres pairs est ', somPair)\n",
    "print('La somme des nombres impairs est ', somImpair)\n",
    "\n",
    "# Tests unitaires\n",
    "assert somPair==2550, 'La somme des nombres pairs est erronée !'\n",
    "assert somImpair==2500, 'La somme des nombres impairs est erronée !'"
   ]
  },
  {
   "cell_type": "markdown",
   "metadata": {
    "deletable": false,
    "editable": false,
    "solution2": "hidden",
    "solution2_first": true
   },
   "source": [
    "### Exercice 7 : Boucle sans arrêt*\n",
    "Ecrire un programme permettant d'afficher indéfiniment les entiers successifs à partir de 0."
   ]
  },
  {
   "cell_type": "code",
   "execution_count": null,
   "metadata": {
    "deletable": false,
    "editable": false,
    "solution2": "hidden"
   },
   "outputs": [],
   "source": [
    "#------------------------------#\n",
    "#    CORRECTION  ! ! ! ! ! !   #\n",
    "#------------------------------#\n",
    "i = 0\n",
    "while i > -1 :\n",
    "    print(i)\n",
    "    i+=1"
   ]
  },
  {
   "cell_type": "markdown",
   "metadata": {
    "deletable": false,
    "editable": false,
    "run_control": {
     "frozen": true
    }
   },
   "source": [
    "# Pour aller plus loin"
   ]
  },
  {
   "cell_type": "markdown",
   "metadata": {
    "deletable": false,
    "editable": false,
    "solution2": "hidden",
    "solution2_first": true
   },
   "source": [
    "### Exercice 8 : Test de primalité**\n",
    "Ecrire un programme permettant de vérifier si un nombre saisi par l'utilisateur est premier. <br>\n",
    "**Rappel :**  Un nombre *premier* est un entier positif supérieur ou égal à 2 qui admet exactement deux diviseurs entiers et positifs qui sont 1 et lui-même. Le nombre 13 est donc un nombre premier, alors que 6 ne l'est pas puisque 6 = 2\\* 3."
   ]
  },
  {
   "cell_type": "code",
   "execution_count": null,
   "metadata": {
    "deletable": false,
    "editable": false,
    "solution2": "hidden"
   },
   "outputs": [],
   "source": [
    "#------------------------------#\n",
    "#    CORRECTION  ! ! ! ! ! !   #\n",
    "#------------------------------#\n",
    "print('Saisissez un nombre pour determiner s\\'il est premier : ')\n",
    "nb = int(input())\n",
    "tmp = 2\n",
    "while nb %tmp != 0 :\n",
    "    tmp+=1\n",
    "if tmp == nb :\n",
    "    print ( nb,' est premier' )\n",
    "else :\n",
    "    print( nb,' n\\'est pas premier, il est divisible par ', tmp )"
   ]
  },
  {
   "cell_type": "markdown",
   "metadata": {
    "deletable": false,
    "editable": false,
    "run_control": {
     "frozen": true
    },
    "solution2": "hidden"
   },
   "source": [
    "Cependant, il n'est pas nécessaire de tester tous les entiers compris entre 2 et la valeur saisie par l'utilisateur. \n",
    "Il est possible de limiter les tests aux entiers inférieurs à la racine carrée de ce dernier. En utilisant cette propriété, on peut alors modifier l'algorithme de la manière suivante :"
   ]
  },
  {
   "cell_type": "code",
   "execution_count": null,
   "metadata": {
    "deletable": false,
    "editable": false,
    "solution2": "hidden"
   },
   "outputs": [],
   "source": [
    "print('Saisissez un nombre pour determiner s\\'il est premier : ')\n",
    "nb = int(input())\n",
    "tmp = 2\n",
    "while nb %tmp != 0 and tmp *tmp <= nb :\n",
    "    tmp+=1\n",
    "if tmp*tmp > nb :\n",
    "    print (nb, ' est premier')\n",
    "else :\n",
    "    print(nb, ' n\\'est pas premier, il est divisible par ', tmp)"
   ]
  },
  {
   "cell_type": "markdown",
   "metadata": {
    "deletable": false,
    "editable": false,
    "run_control": {
     "frozen": true
    },
    "solution2": "hidden"
   },
   "source": [
    "Ce deuxième algorithme est beaucoup plus rapide notamment quand le nombre à tester est premier. Par exemple, 65537 est premier. Avec le premier algorithme, on teste tous les entiers jusqu'à 65537 alors qu'avec le second, on teste seulement les entiers compris entre 1 et 257 (257*257 = 66049)."
   ]
  },
  {
   "cell_type": "markdown",
   "metadata": {
    "deletable": false,
    "editable": false,
    "solution2": "hidden",
    "solution2_first": true
   },
   "source": [
    "### Exercice 9 : Chiffres romains\\*\\*\\*\n",
    "\n",
    "Ecrire un programme demandant à l'utilisateur un nombre compris entre 1 et 50 et affichant ce nombre en chiffres romains."
   ]
  },
  {
   "cell_type": "code",
   "execution_count": null,
   "metadata": {
    "deletable": false,
    "editable": false,
    "solution2": "hidden"
   },
   "outputs": [],
   "source": [
    "#------------------------------#\n",
    "#    CORRECTION  ! ! ! ! ! !   #\n",
    "#------------------------------#\n",
    "n = int(input('Saisir un entier entre 1 et 50 inclus : '))\n",
    "while n < 1 or n > 50 :\n",
    "    n = int(input('Saisir un entier entre 1 et 50 inclus : '))\n",
    "\n",
    "s = \"\" # Chaine resultat\n",
    "\n",
    "if n == 50:\n",
    "    s += \"L\"\n",
    "    n -= 50\n",
    "    \n",
    "if n >= 40:\n",
    "    s += \"XL\"\n",
    "    n -= 40\n",
    "\n",
    "while n >= 10:\n",
    "    s += \"X\"\n",
    "    n -= 10\n",
    "\n",
    "if n >= 9:\n",
    "    s += \"IX\"\n",
    "    n -= 9\n",
    "\n",
    "if n >= 5:\n",
    "    s += \"V\"\n",
    "    n -= 5\n",
    "\n",
    "if n >= 4:\n",
    "    s += \"IV\"\n",
    "    n -= 4\n",
    "\n",
    "while n >= 1:\n",
    "    s += \"I\"\n",
    "    n -= 1\n",
    "    \n",
    "print ('En romain : ', s)"
   ]
  }
 ],
 "metadata": {
  "kernelspec": {
   "display_name": "Python 3 (ipykernel)",
   "language": "python",
   "name": "python3"
  },
  "language_info": {
   "codemirror_mode": {
    "name": "ipython",
    "version": 3
   },
   "file_extension": ".py",
   "mimetype": "text/x-python",
   "name": "python",
   "nbconvert_exporter": "python",
   "pygments_lexer": "ipython3",
   "version": "3.11.4"
  },
  "latex_envs": {
   "LaTeX_envs_menu_present": true,
   "autoclose": false,
   "autocomplete": true,
   "bibliofile": "biblio.bib",
   "cite_by": "apalike",
   "current_citInitial": 1,
   "eqLabelWithNumbers": true,
   "eqNumInitial": 1,
   "hotkeys": {
    "equation": "Ctrl-E",
    "itemize": "Ctrl-I"
   },
   "labels_anchors": false,
   "latex_user_defs": false,
   "report_style_numbering": false,
   "user_envs_cfg": false
  },
  "toc": {
   "base_numbering": 1,
   "nav_menu": {},
   "number_sections": true,
   "sideBar": true,
   "skip_h1_title": false,
   "title_cell": "Table of Contents",
   "title_sidebar": "Contents",
   "toc_cell": false,
   "toc_position": {},
   "toc_section_display": true,
   "toc_window_display": false
  }
 },
 "nbformat": 4,
 "nbformat_minor": 2
}
