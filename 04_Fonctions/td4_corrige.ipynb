{
 "cells": [
  {
   "cell_type": "markdown",
   "metadata": {
    "collapsed": true
   },
   "source": [
    "# <center> Chapitre 4 : Fonctions - TD corrigé </center>"
   ]
  },
  {
   "cell_type": "markdown",
   "metadata": {
    "deletable": false,
    "editable": false,
    "run_control": {
     "frozen": true
    }
   },
   "source": [
    "### Exercice 1 : Test de compréhension*"
   ]
  },
  {
   "cell_type": "markdown",
   "metadata": {
    "deletable": false,
    "editable": false,
    "run_control": {
     "frozen": true
    },
    "solution2": "hidden",
    "solution2_first": true
   },
   "source": [
    "#### Question 1\n",
    "\n",
    "Quelle est la différence entre *définition* et *appel* d'une fonction ?"
   ]
  },
  {
   "cell_type": "markdown",
   "metadata": {
    "deletable": false,
    "editable": false,
    "run_control": {
     "frozen": true
    },
    "solution2": "hidden"
   },
   "source": [
    "**CORRECTION :**\n",
    "\n",
    "* Définition : on donne l'entête de la fonction et le corps de la fonction (aucune instruction n'est exécutée).\n",
    "* Appel : les instructions associées à la fonction sont exécutées pour certaines valeurs données entre parenthèses.  "
   ]
  },
  {
   "cell_type": "markdown",
   "metadata": {
    "deletable": false,
    "editable": false,
    "run_control": {
     "frozen": true
    },
    "solution2": "hidden",
    "solution2_first": true
   },
   "source": [
    "#### Question 2\n",
    "\n",
    "Qu'est-ce que l'*en-tête* d'une fonction ? Qu'est-ce que le *corps* d'une fonction ?"
   ]
  },
  {
   "cell_type": "markdown",
   "metadata": {
    "solution2": "hidden"
   },
   "source": [
    "**CORRECTION :**\n",
    "\n",
    "* En-tête : première ligne contenant le nom de la fonction, les paramètres (entre parenthèses séparés par des virgules).\n",
    "* Corps : les instructions associées à la fonction."
   ]
  },
  {
   "cell_type": "markdown",
   "metadata": {
    "deletable": false,
    "editable": false,
    "run_control": {
     "frozen": true
    },
    "solution2": "hidden",
    "solution2_first": true
   },
   "source": [
    "#### Question 3\n",
    "\n",
    "Qu'est-ce qu'un *algorithme appelant* ?"
   ]
  },
  {
   "cell_type": "markdown",
   "metadata": {
    "deletable": false,
    "editable": false,
    "run_control": {
     "frozen": true
    },
    "solution2": "hidden"
   },
   "source": [
    "**CORRECTION :**\n",
    "\n",
    "* Partie de l'algorithme où la fonction est appelée (exécutée).\n",
    "* L'algorithme appelant peut être l'algorithme principal ou une autre fonction. (Il peut y avoir plusieurs algorithmes appelants.)"
   ]
  },
  {
   "cell_type": "markdown",
   "metadata": {
    "deletable": false,
    "editable": false,
    "run_control": {
     "frozen": true
    },
    "solution2": "hidden",
    "solution2_first": true
   },
   "source": [
    "#### Question 4\n",
    "\n",
    "Les parenthèses sont-elles obligatoires dans la définition d'une fonction s'il n'y a pas de paramètres ? Sont-elles nécessaires dans un appel de fonction s'il n'y a pas de valeurs de paramètre ?"
   ]
  },
  {
   "cell_type": "markdown",
   "metadata": {
    "deletable": false,
    "editable": false,
    "run_control": {
     "frozen": true
    },
    "solution2": "hidden"
   },
   "source": [
    "**CORRECTION :**\n",
    "\n",
    "Oui, les parenthèses sont nécessaires dans les deux cas pour indiquer à l'ordinateur que l'on définit ou que l'on appelle une fonction."
   ]
  },
  {
   "cell_type": "markdown",
   "metadata": {
    "deletable": false,
    "editable": false,
    "run_control": {
     "frozen": true
    },
    "solution2": "hidden",
    "solution2_first": true
   },
   "source": [
    "#### Question 5\n",
    "\n",
    "Combien de fois une fonction peut-elle être appelée au\n",
    "minimum ? Au maximum ? Donner deux exemples où une fonction est\n",
    "appelée 100 fois, un avec les mêmes valeurs d'entrée pour tous\n",
    "les appels, puis l'autre avec des différentes valeurs d'entrée\n",
    "à chaque appel."
   ]
  },
  {
   "cell_type": "markdown",
   "metadata": {
    "deletable": false,
    "editable": false,
    "run_control": {
     "frozen": true
    },
    "solution2": "hidden"
   },
   "source": [
    "**CORRECTION :**\n",
    "\n",
    "Une fonction peut être appelée 0 fois au minimum. Il n'y a pas de limite maximum (Par exemple une boucle infinie appelant à chaque itération une fonction)."
   ]
  },
  {
   "cell_type": "code",
   "execution_count": null,
   "metadata": {
    "deletable": false,
    "editable": false,
    "solution2": "hidden"
   },
   "outputs": [],
   "source": [
    "#------------------#\n",
    "#   CORRECTION !   #\n",
    "#------------------#\n",
    "def afficheCarre(n):\n",
    "    print(\"le carré de \",n, \" est \", n*n)\n",
    "\n",
    "# La fonction est appelée 100 fois avec les mêmes valeurs d'entrée.\n",
    "i = 1\n",
    "while i <= 100:\n",
    "    afficheCarre(10)\n",
    "    i = i + 1\n",
    "\n",
    "# La fonction est appelée 100 fois avec des valeurs d'entrée différentes.\n",
    "i = 1\n",
    "while i <= 100:\n",
    "    afficheCarre(i)\n",
    "    i = i + 1"
   ]
  },
  {
   "cell_type": "markdown",
   "metadata": {
    "deletable": false,
    "editable": false,
    "run_control": {
     "frozen": true
    }
   },
   "source": [
    "#### Question 6"
   ]
  },
  {
   "cell_type": "markdown",
   "metadata": {
    "deletable": false,
    "editable": false,
    "run_control": {
     "frozen": true
    }
   },
   "source": [
    "Dans le code suivant, donner, pour la fonction `somme2nb`, les numéros des lignes associées à l'en-tête, au corps de la fonction, à la définition et à l'appel de la fonction. Indiquer également le programme appelant. Donner finalement ses paramètres et ses valeurs d'entrée lors de son appel. Répondre ensuite aux mêmes questions pour la fonction `afficheRes`."
   ]
  },
  {
   "cell_type": "code",
   "execution_count": null,
   "metadata": {
    "deletable": false,
    "editable": false,
    "solution2": "hidden",
    "solution2_first": true
   },
   "outputs": [],
   "source": [
    "def afficheRes(nb):\n",
    "    print(\"Le résultat est \", nb)\n",
    "\n",
    "\n",
    "def somme2nb(a, b):\n",
    "    print(\"Premier nombre = \", a, \", deuxième nombre = \", b)\n",
    "    afficheRes(a + b)\n",
    "\n",
    "\n",
    "somme2nb(1, 2)"
   ]
  },
  {
   "cell_type": "markdown",
   "metadata": {
    "deletable": false,
    "editable": false,
    "run_control": {
     "frozen": true
    },
    "solution2": "hidden"
   },
   "source": [
    "**CORRECTION :**\n",
    "\n",
    "* Fonction `somme2nb` : \n",
    "    * En-tête : ligne 5\n",
    "    * Corps : lignes 6-7\n",
    "    * Définition : lignes 5-7\n",
    "    * Appel : ligne 10\n",
    "    * programme appelant : programme principal\n",
    "    * Paramètres a et b. \n",
    "    * Valeurs d'entrée pour les paramètres lors de l'appel : 1 et 2.\n",
    " \n",
    "* Fonction `afficheRes` : \n",
    "    * En-tête : ligne 1\n",
    "    * Corps : ligne 2\n",
    "    * Définition : lignes 1-2\n",
    "    * Appel : ligne 7\n",
    "    * programme appelant : `somme2nb`\n",
    "    * 1 paramètre nb. \n",
    "    * Valeur d'entrée pour le paramètre lors de l'appel : 3 (1+2)."
   ]
  },
  {
   "cell_type": "markdown",
   "metadata": {
    "deletable": false,
    "editable": false,
    "run_control": {
     "frozen": true
    }
   },
   "source": [
    "### Exercice 2 : Nombre d'appels*"
   ]
  },
  {
   "cell_type": "markdown",
   "metadata": {
    "deletable": false,
    "editable": false,
    "run_control": {
     "frozen": true
    }
   },
   "source": [
    "#### Question 1"
   ]
  },
  {
   "cell_type": "markdown",
   "metadata": {
    "deletable": false,
    "editable": false,
    "run_control": {
     "frozen": true
    }
   },
   "source": [
    "À l'exécution du code suivant :\n",
    "* combien de fois la fonction `f1` est-elle appelée ? \n",
    "* combien de fois est affiché le mot `hello` ?"
   ]
  },
  {
   "cell_type": "code",
   "execution_count": null,
   "metadata": {
    "deletable": false,
    "editable": false,
    "solution2": "hidden",
    "solution2_first": true
   },
   "outputs": [],
   "source": [
    "def f1():\n",
    "    print(\"hello\")\n",
    "    print(\"hello\")\n",
    "\n",
    "\n",
    "print(\"hello\")"
   ]
  },
  {
   "cell_type": "markdown",
   "metadata": {
    "deletable": false,
    "editable": false,
    "run_control": {
     "frozen": true
    },
    "solution2": "hidden"
   },
   "source": [
    "**CORRECTION :**\n",
    "\n",
    "* La fonction `f1`  n'est jamais appelée.\n",
    "* hello est donc affiché une seule fois."
   ]
  },
  {
   "cell_type": "markdown",
   "metadata": {
    "deletable": false,
    "editable": false,
    "run_control": {
     "frozen": true
    }
   },
   "source": [
    "#### Question 2"
   ]
  },
  {
   "cell_type": "markdown",
   "metadata": {
    "deletable": false,
    "editable": false,
    "run_control": {
     "frozen": true
    }
   },
   "source": [
    "À l'exécution du code suivant :\n",
    "* combien de fois la fonction `f2` est-elle appelée ? \n",
    "* combien de fois est affiché le mot `hello` ?"
   ]
  },
  {
   "cell_type": "code",
   "execution_count": null,
   "metadata": {
    "deletable": false,
    "editable": false,
    "solution2": "hidden",
    "solution2_first": true
   },
   "outputs": [],
   "source": [
    "def f2():\n",
    "    print(\"hello\")\n",
    "    print(\"hello\")\n",
    "\n",
    "\n",
    "print(\"hello\")\n",
    "f2()\n",
    "f2()"
   ]
  },
  {
   "cell_type": "markdown",
   "metadata": {
    "deletable": false,
    "editable": false,
    "run_control": {
     "frozen": true
    },
    "solution2": "hidden"
   },
   "source": [
    "**CORRECTION :**\n",
    "\n",
    "* La fonction `f2` est appelée 2 fois.\n",
    "* hello est donc affiché 5 fois."
   ]
  },
  {
   "cell_type": "markdown",
   "metadata": {
    "deletable": false,
    "editable": false,
    "run_control": {
     "frozen": true
    }
   },
   "source": [
    "#### Question 3"
   ]
  },
  {
   "cell_type": "markdown",
   "metadata": {
    "deletable": false,
    "editable": false,
    "run_control": {
     "frozen": true
    }
   },
   "source": [
    "À l'exécution du code suivant :\n",
    "* combien de fois sont appelées `f3` et `f4` ?\n",
    "* combien de fois est affiché le mot `hello` ? "
   ]
  },
  {
   "cell_type": "code",
   "execution_count": null,
   "metadata": {
    "deletable": false,
    "editable": false,
    "solution2": "hidden",
    "solution2_first": true
   },
   "outputs": [],
   "source": [
    "def f3():\n",
    "    print(\"hello\")\n",
    "    print(\"hello\")\n",
    "\n",
    "\n",
    "def f4():\n",
    "    f3()\n",
    "    print(\"hello\")\n",
    "    f3()\n",
    "\n",
    "\n",
    "print(\"hello\")\n",
    "f3()\n",
    "f4()"
   ]
  },
  {
   "cell_type": "markdown",
   "metadata": {
    "deletable": false,
    "editable": false,
    "run_control": {
     "frozen": true
    },
    "solution2": "hidden"
   },
   "source": [
    "**CORRECTION :**\n",
    "\n",
    "* `f4` est appelée 1 fois et `f3` 3 fois.\n",
    "* `hello` est donc affichée 8 fois."
   ]
  },
  {
   "cell_type": "markdown",
   "metadata": {
    "deletable": false,
    "editable": false,
    "run_control": {
     "frozen": true
    }
   },
   "source": [
    "#### Question 4"
   ]
  },
  {
   "cell_type": "markdown",
   "metadata": {
    "deletable": false,
    "editable": false,
    "run_control": {
     "frozen": true
    }
   },
   "source": [
    "À l'exécution du code suivant :\n",
    "* combien de fois sont appelées `f5` et `f6` ?\n",
    "* combien de fois est affiché le mot `hello` ? "
   ]
  },
  {
   "cell_type": "code",
   "execution_count": null,
   "metadata": {
    "deletable": false,
    "editable": false,
    "solution2": "hidden",
    "solution2_first": true
   },
   "outputs": [],
   "source": [
    "def f5():\n",
    "    print(\"hello\")\n",
    "    print(\"hello\")\n",
    "\n",
    "\n",
    "def f6(n):\n",
    "    i = 0\n",
    "    while i < n:\n",
    "        f5()\n",
    "        i = i + 1\n",
    "        print(\"hello\")\n",
    "\n",
    "\n",
    "# Algorithme principal\n",
    "print(\"hello\")\n",
    "f5()\n",
    "f6(2)\n",
    "f6(4)"
   ]
  },
  {
   "cell_type": "markdown",
   "metadata": {
    "deletable": false,
    "editable": false,
    "run_control": {
     "frozen": true
    },
    "solution2": "hidden"
   },
   "source": [
    "**CORRECTION :**\n",
    "\n",
    "* `f6` est appelée 2 fois et `f5` 7 fois.\n",
    "* hello est donc affichée 21 fois."
   ]
  },
  {
   "cell_type": "markdown",
   "metadata": {
    "deletable": false,
    "editable": false,
    "run_control": {
     "frozen": true
    }
   },
   "source": [
    "### Exercice 3 : Valeur de paramètres*"
   ]
  },
  {
   "cell_type": "markdown",
   "metadata": {
    "deletable": false,
    "editable": false,
    "run_control": {
     "frozen": true
    }
   },
   "source": [
    "Qu'affiche le code suivant ?"
   ]
  },
  {
   "cell_type": "code",
   "execution_count": null,
   "metadata": {
    "deletable": false,
    "editable": false
   },
   "outputs": [],
   "source": [
    "def f(a):\n",
    "    print(\"a = \", a)\n",
    "\n",
    "\n",
    "# Algorithme principal\n",
    "a = 3\n",
    "b = 5\n",
    "a = 18\n",
    "f(b)"
   ]
  },
  {
   "cell_type": "markdown",
   "metadata": {
    "deletable": false,
    "editable": false,
    "run_control": {
     "frozen": true
    }
   },
   "source": [
    "Qu'affiche le code suivant ?\n"
   ]
  },
  {
   "cell_type": "code",
   "execution_count": null,
   "metadata": {
    "deletable": false,
    "editable": false
   },
   "outputs": [],
   "source": [
    "def f(a, b):\n",
    "    print(\"a = \", a, \", b = \", b)\n",
    "\n",
    "\n",
    "# Algorithme principal\n",
    "a = 3\n",
    "b = 4\n",
    "f(a, b)\n",
    "f(b, a)\n",
    "f(a, a)\n",
    "f(b + 2, b - 3)"
   ]
  },
  {
   "cell_type": "markdown",
   "metadata": {
    "deletable": false,
    "editable": false,
    "run_control": {
     "frozen": true
    }
   },
   "source": [
    "### Exercice 4 :  Portée des variables*\n",
    "\n",
    "Qu'affiche le code suivant ?"
   ]
  },
  {
   "cell_type": "code",
   "execution_count": null,
   "metadata": {
    "deletable": false,
    "editable": false
   },
   "outputs": [],
   "source": [
    "def f():\n",
    "    a = 18\n",
    "    print(\"a = \", a)\n",
    "\n",
    "\n",
    "# Algorithme principal\n",
    "a = 5\n",
    "f()\n",
    "print(\"a = \", a)"
   ]
  },
  {
   "cell_type": "markdown",
   "metadata": {
    "deletable": false,
    "editable": false,
    "run_control": {
     "frozen": true
    },
    "solution2": "hidden",
    "solution2_first": true
   },
   "source": [
    "### Exercice 5 : Comparer deux nombres*\n",
    "\n",
    "Écrire la fonction `compare()` qui reçoit deux nombres entiers `a` et `b` en paramètres et affiche un message adapté selon que `a` est supérieur, inférieur ou égal à `b`. "
   ]
  },
  {
   "cell_type": "code",
   "execution_count": null,
   "metadata": {
    "deletable": false,
    "editable": false,
    "solution2": "hidden"
   },
   "outputs": [],
   "source": [
    "#------------------#\n",
    "#   CORRECTION !   #\n",
    "#------------------#\n",
    "\n",
    "def compare(a, b):\n",
    "    if a < b:\n",
    "        print(a, \"est plus petit que\", b)\n",
    "    elif a > b:\n",
    "        print(a, \"est plus grand que\", b)\n",
    "    else:\n",
    "        print(a, \"est égal à\", b)\n",
    "\n",
    "\n",
    "compare(1, 0)\n",
    "compare(0, 1)\n",
    "compare(1, 1)"
   ]
  },
  {
   "cell_type": "markdown",
   "metadata": {
    "deletable": false,
    "editable": false,
    "run_control": {
     "frozen": true
    }
   },
   "source": [
    "#  Pour aller plus loin"
   ]
  },
  {
   "cell_type": "markdown",
   "metadata": {
    "deletable": false,
    "editable": false,
    "run_control": {
     "frozen": true
    }
   },
   "source": [
    "### Exercice 6 : Addition unaire*"
   ]
  },
  {
   "cell_type": "markdown",
   "metadata": {
    "deletable": false,
    "editable": false,
    "run_control": {
     "frozen": true
    },
    "solution2": "hidden",
    "solution2_first": true
   },
   "source": [
    "Un nombre positif ou nul est représenté en base unaire par autant de symboles 0 que la valeur du nombre. Ainsi, la représentation unaire de 5 est : `\"00000\"`.\n",
    "\n",
    "1. Définir la fonction `affiche_unaire` prenant en paramètre un nombre et affichant ce nombre en unaire.\n",
    "2. Définir la fonction `addition_unaire` prenant en paramètre deux nombres et affichant ces deux nombres en base unaire ainsi que leur somme. Par exemple, l'appel de la fonction avec les valeurs 7 et 5 doit donner l'affichage suivant :\n",
    "```\n",
    "0000000\n",
    "+\n",
    "00000\n",
    "=\n",
    "000000000000\n",
    "```"
   ]
  },
  {
   "cell_type": "code",
   "execution_count": null,
   "metadata": {
    "deletable": false,
    "editable": false,
    "solution2": "hidden"
   },
   "outputs": [],
   "source": [
    "#------------------#\n",
    "#   CORRECTION !   #\n",
    "#------------------#\n",
    "\n",
    "\n",
    "def affiche_unaire(nb):\n",
    "    \"\"\"\n",
    "    fonction qui prend en paramètre un entier positif en base 10\n",
    "    et affiche son écriture unaire sous forme d'une chaîne de caractères\n",
    "    \"\"\"\n",
    "    i = 0\n",
    "    s = \"\"\n",
    "    while i < nb:\n",
    "        s += \"0\"\n",
    "        i += 1\n",
    "    print(s)\n",
    "\n",
    "\n",
    "def addition_unaire(nb1, nb2):\n",
    "    \"\"\"\n",
    "    fonction qui prend en paramètres deux entiers en base 10, \n",
    "    les affiche en unaire séparés par un + et affiche le résultat de leur addition en unaire\n",
    "    \"\"\"\n",
    "    affiche_unaire(nb1)\n",
    "    print(\"+\")\n",
    "    affiche_unaire(nb2)\n",
    "    print(\"=\")\n",
    "    affiche_unaire(nb1 + nb2)\n",
    "\n",
    "\n",
    "addition_unaire(7, 5)"
   ]
  },
  {
   "cell_type": "markdown",
   "metadata": {
    "deletable": false,
    "editable": false,
    "run_control": {
     "frozen": true
    },
    "solution2": "hidden",
    "solution2_first": true
   },
   "source": [
    "### Exercice 7 : Addition binaire***\n",
    "\n",
    "\n",
    "1. Définir la fonction `affiche_binaire` prenant en paramètre un nombre et affichant ce nombre en binaire.\n",
    "2. Définir la fonction `addition_binaire` prenant en paramètre deux nombres et affichant ces deux nombres en binaire ainsi que leur somme. Par exemple, l'appel de la fonction avec les valeurs 7 et 5 doit donner l'affichage suivant :\n",
    "```\n",
    "111\n",
    "+\n",
    "101\n",
    "=\n",
    "1100\n",
    "```"
   ]
  },
  {
   "cell_type": "code",
   "execution_count": null,
   "metadata": {
    "deletable": false,
    "editable": false,
    "solution2": "hidden"
   },
   "outputs": [],
   "source": [
    "#------------------#\n",
    "#   CORRECTION !   #\n",
    "#------------------#\n",
    "\n",
    "\n",
    "def affiche_binaire(nb):\n",
    "    \"\"\"\n",
    "    fonction qui prend en paramètre un entier positif en base 10\n",
    "    et affiche son écriture en binaire sous forme d'une chaîne de caractères\n",
    "    \"\"\"\n",
    "    s = \"\"\n",
    "    while nb >= 2:\n",
    "        s = str(nb % 2) + s\n",
    "\n",
    "        nb //= 2\n",
    "    s = str(nb) + s\n",
    "    print(s)\n",
    "\n",
    "\n",
    "def addition_binaire(nb1, nb2):\n",
    "    \"\"\"\n",
    "    fonction qui prend en paramètres deux entiers en base 10, \n",
    "    les affiche en binaire séparés par un + et affiche le résultat de leur addition en binaire\n",
    "    \"\"\"\n",
    "    affiche_binaire(nb1)\n",
    "    print(\"+\")\n",
    "    affiche_binaire(nb2)\n",
    "    print(\"=\")\n",
    "    affiche_binaire(nb1 + nb2)\n",
    "\n",
    "\n",
    "addition_binaire(7, 5)\n",
    "addition_binaire(1, 2)"
   ]
  }
 ],
 "metadata": {
  "@webio": {
   "lastCommId": "f1d84bbb00f442c18e6980899e5db843",
   "lastKernelId": "ed58f68f-0664-4ff3-ac9e-20b8d23137e3"
  },
  "kernelspec": {
   "display_name": "Python 3 (ipykernel)",
   "language": "python",
   "name": "python3"
  },
  "language_info": {
   "codemirror_mode": {
    "name": "ipython",
    "version": 3
   },
   "file_extension": ".py",
   "mimetype": "text/x-python",
   "name": "python",
   "nbconvert_exporter": "python",
   "pygments_lexer": "ipython3",
   "version": "3.11.4"
  },
  "latex_envs": {
   "LaTeX_envs_menu_present": true,
   "autoclose": false,
   "autocomplete": true,
   "bibliofile": "biblio.bib",
   "cite_by": "apalike",
   "current_citInitial": 1,
   "eqLabelWithNumbers": true,
   "eqNumInitial": 1,
   "hotkeys": {
    "equation": "Ctrl-E",
    "itemize": "Ctrl-I"
   },
   "labels_anchors": false,
   "latex_user_defs": false,
   "report_style_numbering": false,
   "user_envs_cfg": false
  },
  "toc": {
   "base_numbering": 1,
   "nav_menu": {},
   "number_sections": true,
   "sideBar": true,
   "skip_h1_title": true,
   "title_cell": "Table des matières",
   "title_sidebar": "Table des matières",
   "toc_cell": false,
   "toc_position": {},
   "toc_section_display": true,
   "toc_window_display": true
  },
  "varInspector": {
   "cols": {
    "lenName": 16,
    "lenType": 16,
    "lenVar": 40
   },
   "kernels_config": {
    "python": {
     "delete_cmd_postfix": "",
     "delete_cmd_prefix": "del ",
     "library": "var_list.py",
     "varRefreshCmd": "print(var_dic_list())"
    },
    "r": {
     "delete_cmd_postfix": ") ",
     "delete_cmd_prefix": "rm(",
     "library": "var_list.r",
     "varRefreshCmd": "cat(var_dic_list()) "
    }
   },
   "types_to_exclude": [
    "module",
    "function",
    "builtin_function_or_method",
    "instance",
    "_Feature"
   ],
   "window_display": false
  }
 },
 "nbformat": 4,
 "nbformat_minor": 2
}
