{
 "cells": [
  {
   "cell_type": "markdown",
   "metadata": {
    "deletable": false,
    "editable": false,
    "run_control": {
     "frozen": true
    }
   },
   "source": [
    "# <center>Chapitre 4 : Fonctions - TP Corrigé </center>"
   ]
  },
  {
   "cell_type": "markdown",
   "metadata": {
    "deletable": false,
    "editable": false,
    "run_control": {
     "frozen": true
    }
   },
   "source": [
    "Afin de se familiariser avec les fonctions sans valeur de retour, on utilise une tortue capable de dessiner sur l'écran. Pour pouvoir utiliser la tortue, il faut tout d'abord importer la librairie dédiée avec la commande :"
   ]
  },
  {
   "cell_type": "code",
   "execution_count": 2,
   "metadata": {
    "deletable": false,
    "editable": false
   },
   "outputs": [],
   "source": [
    "from turtle import *"
   ]
  },
  {
   "cell_type": "markdown",
   "metadata": {
    "deletable": false,
    "editable": false,
    "run_control": {
     "frozen": true
    }
   },
   "source": [
    " On peut alors utiliser les instructions suivantes pour dessiner :\n",
    "- `goto(x,y)` : aller à l'endroit de coordonnées x et y,\n",
    "- `forward(distance)` : avancer d'une distance donnée,\n",
    "- `up()`  : relever le crayon (pour pouvoir avancer sans dessiner),\n",
    "- `down()` : abaisser le crayon (pour pouvoir recommencer à dessiner),\n",
    "- `left(angle)` : tourner à gauche d'un angle donné (exprimé en degré),\n",
    "- `right(angle)` : tourner à droite.\t\n",
    "- `done()` : pour terminer un programme graphique utilisant `turtle`.\n",
    "\n",
    "\n",
    "\n",
    "**Attention :** La fenêtre graphique reste ouverte jusqu'à ce qu'une action de l'utilisateur la ferme ! \n",
    "\n",
    "**Remarque :** La femerture de la fenêtre de dessin pour arrêter la tortue peut provoquer un dysfonctionnement lors l'utilisation suivante ; il faut relancer deux fois la tortue pour y remédier.\n",
    "\n",
    "\n",
    "A titre d'exemple, regarder ce que donne le code : "
   ]
  },
  {
   "cell_type": "code",
   "execution_count": null,
   "metadata": {
    "deletable": false,
    "editable": false
   },
   "outputs": [],
   "source": [
    "forward(100)\n",
    "left(90)\n",
    "forward(50)\n",
    "goto(0, 0)\n",
    "done()"
   ]
  },
  {
   "cell_type": "markdown",
   "metadata": {},
   "source": [
    "### Exercice 1 : Dessiner un rectangle*"
   ]
  },
  {
   "cell_type": "markdown",
   "metadata": {
    "deletable": false,
    "editable": false,
    "solution2": "shown",
    "solution2_first": true
   },
   "source": [
    "1. Écrire une fonction `rectangle` permettant de dessiner un rectangle à partir de la position courante de la tortue. La fonction prendra en paramètre la longueur et la largeur du rectangle.\n",
    "\n",
    "2. Appeler deux fois la fonction pour dessiner un rectangle de taille 200 * 50 et de taille 50 * 300. Vous devriez obtenir le dessin suivant :\n",
    "<img src=\"img/deux_rectangles.png\" alt=\"Exemple pour la fonction rectangle\"/>"
   ]
  },
  {
   "cell_type": "code",
   "execution_count": 7,
   "metadata": {
    "solution2": "shown"
   },
   "outputs": [],
   "source": [
    "#------------------#\n",
    "#   CORRECTION !   #\n",
    "#------------------#\n",
    "\n",
    "\n",
    "def rectangle(L, l):\n",
    "    \"\"\" Dessine un rectangle de taille L * l. \"\"\"\n",
    "    i = 0\n",
    "    while i < 2:\n",
    "        forward(L)\n",
    "        right(90)\n",
    "        forward(l)\n",
    "        right(90)\n",
    "        i += 1\n",
    "\n",
    "rectangle(200, 50)\n",
    "rectangle(50, 300)\n",
    "done()"
   ]
  },
  {
   "cell_type": "markdown",
   "metadata": {},
   "source": [
    "### Exercice 2 : Dessiner un carré*"
   ]
  },
  {
   "cell_type": "markdown",
   "metadata": {
    "deletable": false,
    "editable": false,
    "solution2": "shown",
    "solution2_first": true
   },
   "source": [
    "1. Un carré est un rectangle dont la longueur et la largeur sont égales. Utiliser cette propriété pour définir une fonction `carre` permettant à la tortue de dessiner un carré de côté `n` à partir de la position courante de la tortue. La fonction `carre` appellera la fonction `rectangle` de l'Exercice 1 en prenant comme valeur pour la longueur et la largeur la longueur `n` du côté.\n",
    "\n",
    "2. Appeler cette fonction deux fois pour dessiner un carré de taille 10 * 10 et un de taille 100 * 100. Vous devriez obtenir le dessin suivant : \n",
    "<img src=\"img/deux_carres.png\" alt=\"Exemple pour la fonction carre()\"/>"
   ]
  },
  {
   "cell_type": "code",
   "execution_count": 13,
   "metadata": {
    "deletable": false,
    "editable": false,
    "solution2": "shown"
   },
   "outputs": [],
   "source": [
    "#------------------#\n",
    "#   CORRECTION !   #\n",
    "#------------------#\n",
    "\n",
    "\n",
    "def carre(n):\n",
    "    \"\"\" Dessine un carré de taille n * n. \"\"\"\n",
    "    rectangle(n, n)\n",
    "\n",
    "carre(10)\n",
    "carre2(100)\n",
    "done()"
   ]
  },
  {
   "cell_type": "markdown",
   "metadata": {},
   "source": [
    "### Exercice 3 : Dessiner une ligne de carrés*"
   ]
  },
  {
   "cell_type": "markdown",
   "metadata": {
    "deletable": false,
    "editable": false,
    "run_control": {
     "frozen": true
    },
    "solution2": "shown",
    "solution2_first": true
   },
   "source": [
    "1. Définir la fonction `ligne_carres` prenant en paramètre un nombre de carrés et la taille des carrés et dessinant une ligne de carrés.\n",
    "\n",
    "2. Appeler la fonction `ligne_carres` pour dessiner une ligne de 8 carrés de taille 30. Vous devriez obtenir le dessin suivant :\n",
    "<img src=\"img/ligne_carres.png\" alt=\"ligne de carrés\" />"
   ]
  },
  {
   "cell_type": "code",
   "execution_count": 15,
   "metadata": {
    "deletable": false,
    "editable": false,
    "solution2": "shown"
   },
   "outputs": [],
   "source": [
    "#------------------#\n",
    "#   CORRECTION !   #\n",
    "#------------------#\n",
    "\n",
    "\n",
    "def ligne_carres(n, L):\n",
    "    \"\"\" Dessine une ligne de n carrés, \n",
    "    chaque carré étant de taille L * L\"\"\"\n",
    "    i = 0\n",
    "    while i < n:\n",
    "        carre(L)\n",
    "        forward(L)\n",
    "        i += 1\n",
    "\n",
    "\n",
    "ligne_carres(8, 30)\n",
    "done()"
   ]
  },
  {
   "cell_type": "markdown",
   "metadata": {
    "deletable": false,
    "editable": false,
    "run_control": {
     "frozen": true
    }
   },
   "source": [
    "### Exercice 4 : Dessiner un carré noir*"
   ]
  },
  {
   "cell_type": "markdown",
   "metadata": {
    "deletable": false,
    "editable": false,
    "run_control": {
     "frozen": true
    }
   },
   "source": [
    "Toute figure fermée dessinée entre les instructions `begin_fill()` et `end_fill()` est coloriée en noir. \n",
    "Par exemple, le code suivant trace un triangle noir."
   ]
  },
  {
   "cell_type": "code",
   "execution_count": null,
   "metadata": {
    "deletable": false,
    "editable": false
   },
   "outputs": [],
   "source": [
    "begin_fill()\n",
    "i = 0\n",
    "while i < 3:\n",
    "    forward(100)\n",
    "    left(120)\n",
    "    i += 1\n",
    "end_fill()\n",
    "done()"
   ]
  },
  {
   "cell_type": "markdown",
   "metadata": {
    "deletable": false,
    "editable": false,
    "run_control": {
     "frozen": true
    },
    "solution2": "hidden",
    "solution2_first": true
   },
   "source": [
    "1. Définir la fonction `carre_noir` prenant en paramètre la taille du carré à dessiner. Le carré doit être colorié en noir. La fonction `carre_noir` appelera la fonction `carre`.\n",
    "\n",
    "2. Appeler cette fonction et la fonction `carre` pour dessiner la figure suivante :\n",
    "<img src=\"img/carre_colorie.png\" alt=\"carré colorié\" />"
   ]
  },
  {
   "cell_type": "code",
   "execution_count": null,
   "metadata": {
    "deletable": false,
    "editable": false,
    "solution2": "hidden"
   },
   "outputs": [],
   "source": [
    "#------------------#\n",
    "#   CORRECTION !   #\n",
    "#------------------#\n",
    "\n",
    "\n",
    "def carre_noir(n):\n",
    "    \"\"\" Dessine un carré colorié en noir. \"\"\"\n",
    "    begin_fill()\n",
    "    carre(n)\n",
    "    end_fill()\n",
    "\n",
    "\n",
    "carre_noir(50)\n",
    "carre(100)\n",
    "done()"
   ]
  },
  {
   "cell_type": "markdown",
   "metadata": {},
   "source": [
    "### Exercice 5 : Dessiner une ligne de carrés noirs et blancs**"
   ]
  },
  {
   "cell_type": "markdown",
   "metadata": {
    "deletable": false,
    "editable": false,
    "run_control": {
     "frozen": true
    },
    "solution2": "hidden",
    "solution2_first": true
   },
   "source": [
    "1. Définir la fonction `ligne_carres_noirs_blancs` prenant en paramètre :\n",
    "    * le nombre de carrés à dessiner,\n",
    "    * la taille des carrés\n",
    "    * une valeur booléenne valant `True` si le premier carré est noir, et `False` s'il est blanc.\n",
    "\n",
    "2. Appeler cette fonction pour dessiner une ligne de 8 carrés noirs et blancs de taille 50 * 50, le premier étant noir. Vous devriez obtenir le dessin suivant :\n",
    "<img src=\"img/ligne_carres_noirs_blancs.png\" alt=\"ligne carrés noirs et blancs\" />"
   ]
  },
  {
   "cell_type": "code",
   "execution_count": null,
   "metadata": {
    "deletable": false,
    "editable": false,
    "solution2": "hidden"
   },
   "outputs": [],
   "source": [
    "#------------------#\n",
    "#   CORRECTION !   #\n",
    "#------------------#\n",
    "\n",
    "\n",
    "def ligne_carres_noirs_blancs(n, L, noir):\n",
    "    \"\"\" Dessine une ligne de n carrés de taille L * L. \n",
    "        Le premier carré est noir si la 3ème valeur vaut True, et blanc sinon. \"\"\"\n",
    "    i = 0\n",
    "    while i < n:\n",
    "        if noir:\n",
    "            carre_noir(L)\n",
    "        else:\n",
    "            carre(L)\n",
    "        forward(L)\n",
    "        noir = not noir\n",
    "        i += 1\n",
    "\n",
    "\n",
    "ligne_carres_noirs_blancs(6, 50, True)\n",
    "done()"
   ]
  },
  {
   "cell_type": "markdown",
   "metadata": {},
   "source": [
    "### Exercice 6 : Dessiner un damier***"
   ]
  },
  {
   "cell_type": "markdown",
   "metadata": {
    "deletable": false,
    "editable": false,
    "run_control": {
     "frozen": true
    },
    "solution2": "hidden",
    "solution2_first": true
   },
   "source": [
    "1. Définir la fonction `damier` prenant en paramètre le nombre de lignes/colonnes et la taille de chaque carré du damier. Le premier carré dessiné sera noir.\n",
    "\n",
    "2. Appeler cette fonction pour dessiner un damier de 8 lignes/colonnes avec des carrés de taille 30. Vous devriez obtenir le dessin suivant : \n",
    "<img src=\"img/damier.png\" alt=\"damier\" />"
   ]
  },
  {
   "cell_type": "code",
   "execution_count": null,
   "metadata": {
    "deletable": false,
    "editable": false,
    "solution2": "hidden"
   },
   "outputs": [],
   "source": [
    "#------------------#\n",
    "#   CORRECTION !   #\n",
    "#------------------#\n",
    "\n",
    "\n",
    "def damier(n, L):\n",
    "    \"\"\" Dessine un damier de n lignes et n colonnes constitué de carrés de taille L * L. \"\"\"\n",
    "    noir = True\n",
    "    i = 0\n",
    "    while i < n:\n",
    "        ligne_carres_noirs_blancs(n, L, noir)\n",
    "        backward(n * L)\n",
    "        right(90)\n",
    "        forward(L)\n",
    "        left(90)\n",
    "        noir = not noir\n",
    "        i += 1\n",
    "\n",
    "\n",
    "damier(8, 30)\n",
    "done()"
   ]
  },
  {
   "cell_type": "markdown",
   "metadata": {},
   "source": [
    "### Exercice 7 : Dessiner une croix**"
   ]
  },
  {
   "cell_type": "markdown",
   "metadata": {
    "deletable": false,
    "editable": false,
    "run_control": {
     "frozen": true
    },
    "solution2": "hidden",
    "solution2_first": true
   },
   "source": [
    "Définir la fonction `croix` permettant de dessiner la figure suivante : \n",
    "\n",
    "<img src=\"img/croix.png\" alt=\"Exemple pour la fonction rectangle()\"  width=\"400px\"/>\n",
    "\n",
    "**Note :** La croix est constituée de deux rectangles tel que `L = 3 * l`."
   ]
  },
  {
   "cell_type": "code",
   "execution_count": null,
   "metadata": {
    "deletable": false,
    "editable": false,
    "solution2": "hidden"
   },
   "outputs": [],
   "source": [
    "#------------------#\n",
    "#   CORRECTION !   #\n",
    "#------------------#\n",
    "\n",
    "\n",
    "def croix(n):\n",
    "    \"\"\"Dessiner une croix  de largeur n\"\"\"\n",
    "    rectangle(3 * n, n)\n",
    "    forward(2 * n)\n",
    "    right(90)\n",
    "    backward(n)\n",
    "    rectangle(3 * n, n)\n",
    "\n",
    "\n",
    "croix(100)\n",
    "done()"
   ]
  },
  {
   "cell_type": "markdown",
   "metadata": {
    "deletable": false,
    "editable": false,
    "run_control": {
     "frozen": true
    }
   },
   "source": [
    "### Exercice 8 : Dessiner des carrés emboités***"
   ]
  },
  {
   "cell_type": "markdown",
   "metadata": {
    "deletable": false,
    "editable": false,
    "run_control": {
     "frozen": true
    },
    "solution2": "hidden",
    "solution2_first": true
   },
   "source": [
    "Définir la fonction `carresEmboites` qui réalise le dessin suivant :\n",
    "\n",
    "<img src=\"img/carres_emboites.png\" alt=\"Exemple pour la fonction carresEmboites\"  width=\"400px\"/>\n",
    "\n",
    "Sachant que :\n",
    "* le nombre de carrés à tracer est un paramètre en entrée pour la fonction (4 dans l'exemple ci-dessus),\n",
    "* la longueur du coté du carré le plus petit (à l'intérieur) est un paramètre en entrée de la fonction et la longueur du côté de chaque autre carré est égale au double de la longueur du coté du carré juste en dessous. On utilisera pour dessiner les carrés la fonction `carre`,\n",
    "* le segment qui relie chaque carré est de longueur fixe et égale au coté du plus petit carré et forme un morceau de la diagonale de chaque carré."
   ]
  },
  {
   "cell_type": "code",
   "execution_count": null,
   "metadata": {
    "deletable": false,
    "editable": false,
    "solution2": "hidden"
   },
   "outputs": [],
   "source": [
    "#------------------#\n",
    "#   CORRECTION !   #\n",
    "#------------------#\n",
    "\n",
    "\n",
    "def carreEmboite(cote, nbCarres):\n",
    "    \"\"\"\n",
    "    Dessiner des carrés emboités.\n",
    "    cote : longueur du cote du carre\n",
    "    nbCarres : nombre de carres emboités\n",
    "    \"\"\"\n",
    "\n",
    "    longueur = cote\n",
    "\n",
    "    # dessin de la figure\n",
    "    i = 0\n",
    "    while i < nbCarres - 1:\n",
    "        carre(longueur)\n",
    "        left(135)\n",
    "        forward(cote)\n",
    "        right(135)\n",
    "        longueur = longueur * 2\n",
    "        i = i + 1\n",
    "    carre(longueur)\n",
    "\n",
    "\n",
    "carreEmboite(30, 4)\n",
    "done()"
   ]
  }
 ],
 "metadata": {
  "@webio": {
   "lastCommId": "2cad9e72c2db47bd8054b401f585507a",
   "lastKernelId": "6687e70d-ae39-4651-8072-d61406d816b7"
  },
  "celltoolbar": "Aucun(e)",
  "kernelspec": {
   "display_name": "Python 3 (ipykernel)",
   "language": "python",
   "name": "python3"
  },
  "language_info": {
   "codemirror_mode": {
    "name": "ipython",
    "version": 3
   },
   "file_extension": ".py",
   "mimetype": "text/x-python",
   "name": "python",
   "nbconvert_exporter": "python",
   "pygments_lexer": "ipython3",
   "version": "3.11.4"
  },
  "latex_envs": {
   "LaTeX_envs_menu_present": true,
   "autoclose": false,
   "autocomplete": true,
   "bibliofile": "biblio.bib",
   "cite_by": "apalike",
   "current_citInitial": 1,
   "eqLabelWithNumbers": true,
   "eqNumInitial": 1,
   "hotkeys": {
    "equation": "Ctrl-E",
    "itemize": "Ctrl-I"
   },
   "labels_anchors": false,
   "latex_user_defs": false,
   "report_style_numbering": false,
   "user_envs_cfg": false
  },
  "toc": {
   "base_numbering": 1,
   "nav_menu": {},
   "number_sections": true,
   "sideBar": true,
   "skip_h1_title": true,
   "title_cell": "Table des matières",
   "title_sidebar": "Table des matières",
   "toc_cell": false,
   "toc_position": {},
   "toc_section_display": true,
   "toc_window_display": true
  },
  "varInspector": {
   "cols": {
    "lenName": 16,
    "lenType": 16,
    "lenVar": 40
   },
   "kernels_config": {
    "python": {
     "delete_cmd_postfix": "",
     "delete_cmd_prefix": "del ",
     "library": "var_list.py",
     "varRefreshCmd": "print(var_dic_list())"
    },
    "r": {
     "delete_cmd_postfix": ") ",
     "delete_cmd_prefix": "rm(",
     "library": "var_list.r",
     "varRefreshCmd": "cat(var_dic_list()) "
    }
   },
   "types_to_exclude": [
    "module",
    "function",
    "builtin_function_or_method",
    "instance",
    "_Feature"
   ],
   "window_display": false
  }
 },
 "nbformat": 4,
 "nbformat_minor": 2
}
