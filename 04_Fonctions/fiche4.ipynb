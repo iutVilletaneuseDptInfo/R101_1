{
 "cells": [
  {
   "cell_type": "markdown",
   "metadata": {},
   "source": [
    "# <center> Chapitre 4 : Fonctions </center>"
   ]
  },
  {
   "cell_type": "markdown",
   "metadata": {},
   "source": [
    "Une fonction est une séquence d'instructions effectuant une tâche précise (par exemple, un calcul ou un affichage) et est destinée à être utilisée par un autre algorithme."
   ]
  },
  {
   "cell_type": "markdown",
   "metadata": {
    "deletable": false,
    "editable": false,
    "run_control": {
     "frozen": true
    }
   },
   "source": [
    "Lors de l'appel d'une fonction : \n",
    "\n",
    "* l'exécution du code contenant l'appel de la fonction \"se met en pause\",\n",
    "* l'exécution de la fonction commence :\n",
    "    * **Optionnel :** les paramètres de la fonction, s'il y en a, sont initialisés avec les valeurs données par le programme appelant (on parle de valeurs d'entrée),\n",
    "    * la séquence d'instructions de la fonction est exécutée,\n",
    "    * **Optionnel :** la fonction retourne des valeurs (on parle de *valeurs de retour* ou sortie),\n",
    "    * les *variables locales* de la fonction et les paramètres de la fonction sont détruits,\n",
    "* l'exécution du code contenant l'appel de la fonction reprend, en utilisant si besoin les valeurs retournées par la fonction."
   ]
  },
  {
   "cell_type": "markdown",
   "metadata": {},
   "source": [
    "<img src=\"img/appel_fonction.png\" alt=\"Appel d'une fonction\"  width=\"700px\"/>"
   ]
  },
  {
   "cell_type": "markdown",
   "metadata": {
    "deletable": false,
    "editable": false,
    "run_control": {
     "frozen": true
    }
   },
   "source": [
    "## Fonction sans paramètre et sans valeur de retour"
   ]
  },
  {
   "cell_type": "markdown",
   "metadata": {},
   "source": [
    "```python\n",
    "def nom_fonction() :\n",
    "    # Séquence d'instructions de la fonction\n",
    "```\n",
    "* `def` indique que l'on souhaite définir une fonction ;\n",
    "* `nom_fonction` est le nom de la fonction, il suit les mêmes règles que les noms de variables ;\n",
    "* les parenthèses ouvrantes et fermantes après le nom de la fonction sont **obligatoires** pour indiquer que l'on définit une fonction ;\n",
    "* La séquence d'instructions est **indentée** par rapport au mot-clé `def`. \n",
    "\n",
    "La première ligne est appelée <span style=\"color:red;\">en-tête</span> ou <span style=\"color:red;\">signature</span> de la fonction et la séquence d'instructions <span style=\"color:red;\">corps</span> de la fonction."
   ]
  },
  {
   "cell_type": "code",
   "execution_count": null,
   "metadata": {
    "deletable": false,
    "editable": false
   },
   "outputs": [],
   "source": [
    "# Définition de la fonction hello()\n",
    "\n",
    "def hello() :\n",
    "    \"\"\"Affiche un message de bienvenue\"\"\"\n",
    "    print(\"Hello world!\")\n",
    "\n",
    "\n",
    "hello() # Appel de la fonction => affiche Hello world!"
   ]
  },
  {
   "cell_type": "markdown",
   "metadata": {
    "deletable": false,
    "editable": false,
    "run_control": {
     "frozen": true
    }
   },
   "source": [
    "## Fonction avec paramètres et sans valeur de retour"
   ]
  },
  {
   "cell_type": "markdown",
   "metadata": {},
   "source": [
    "On définit une fonction en précisant le nombre de paramètres, c'est-à-dire **le nombre de valeurs qui doivent être données lors de l'appel de la fonction**. Ces paramètres sont donnés entre les parenthèses dans l'en-tête de la fonction."
   ]
  },
  {
   "cell_type": "markdown",
   "metadata": {
    "deletable": false,
    "editable": false,
    "run_control": {
     "frozen": true
    }
   },
   "source": [
    "```python\n",
    "def nom_fonction(parametre1, parametre2, ..., parametrek) :\n",
    "    # Séquence d'instructions de la fonction\n",
    "    # Ici, parametre1, parametre2, ..., parametrek\n",
    "    # sont utilisés pour faire référence à la 1ère,2ième, ...,  \n",
    "    # et kième valeurs qui seront données lors de l'appel.\n",
    "```\n",
    "* `def` indique que l'on souhaite définir une fonction ;\n",
    "* `nom_fonction` est le nom de la fonction, il suit les mêmes règles que les noms de variables ;\n",
    "* `parametre1`, `parametre2`, ..., `parametrek` entre les parenthèses représentent les paramètres de la fonction. Leur nom suit les mêmes règles que les noms des variables."
   ]
  },
  {
   "cell_type": "markdown",
   "metadata": {
    "deletable": false,
    "editable": false,
    "run_control": {
     "frozen": true
    }
   },
   "source": [
    "### Exemple d'utilisation de fonction "
   ]
  },
  {
   "cell_type": "code",
   "execution_count": null,
   "metadata": {
    "deletable": false,
    "editable": false
   },
   "outputs": [],
   "source": [
    "# Définition de la fonction affiche_perso()\n",
    "def affiche_perso(nom) : \n",
    "    \"\"\" Affiche Hello suivi du nom de la personne. \"\"\"\n",
    "    print(\"Hello\", nom, \"!\")\n",
    "\n",
    "affiche_perso(\"John\") # Appel de la fonction => affiche Hello John!\n",
    "affiche_perso(\"you\")  # Appel de la fonction => affiche Hello you!"
   ]
  },
  {
   "cell_type": "markdown",
   "metadata": {
    "deletable": false,
    "editable": false,
    "run_control": {
     "frozen": true
    }
   },
   "source": [
    "A chaque appel d'une fonction ayant $k$ paramètres, l'interpréteur crée $k$ *variables locales* ayant pour nom les noms des paramètres et pour valeur les valeurs données lors de l'appel. \n",
    "Ces variables locales sont **détruites à la fin de l'appel**. "
   ]
  },
  {
   "cell_type": "markdown",
   "metadata": {},
   "source": [
    "### Mode de transmission des paramètres\n",
    "\n",
    "Lorsque l'on appelle une fonction contenant des paramètres, on lui donne des **valeurs** d'entrée. Ces valeurs peuvent être des constantes ou des valeurs contenues dans des variables. Dans tous les cas, **les variables que l'on passe lors de l'appel d'une fonction ne sont pas modifiées**."
   ]
  },
  {
   "cell_type": "markdown",
   "metadata": {},
   "source": [
    "## Portées de variables"
   ]
  },
  {
   "cell_type": "markdown",
   "metadata": {
    "slideshow": {
     "slide_type": "slide"
    }
   },
   "source": [
    "La  <span style=\"color:red;\">portée</span> (ou visibilité) d'une variable est l'endroit dans le code où cette variable est accessible. Une variable déclarée dans le corps d'une fonction (ou un paramètre de la fonction) n'est pas accessible en dehors du corps de cette fonction. On parle de <span style=\"color:red;\">portée locale</span> ou <span style=\"color:red;\">variable locale</span>."
   ]
  },
  {
   "cell_type": "markdown",
   "metadata": {},
   "source": [
    "## Vocabulaire\n",
    "\n",
    "Fonction, paramètre, valeurs d'entrée, portée des variables, variables locales."
   ]
  }
 ],
 "metadata": {
  "@webio": {
   "lastCommId": "f983aeb2aae74d0ea9a2e31e97f67f5d",
   "lastKernelId": "e3394210-401c-43ad-8f04-2a8f8fa89ba6"
  },
  "kernelspec": {
   "display_name": "Python 3 (ipykernel)",
   "language": "python",
   "name": "python3"
  },
  "language_info": {
   "codemirror_mode": {
    "name": "ipython",
    "version": 3
   },
   "file_extension": ".py",
   "mimetype": "text/x-python",
   "name": "python",
   "nbconvert_exporter": "python",
   "pygments_lexer": "ipython3",
   "version": "3.11.4"
  },
  "latex_envs": {
   "LaTeX_envs_menu_present": true,
   "autoclose": false,
   "autocomplete": true,
   "bibliofile": "biblio.bib",
   "cite_by": "apalike",
   "current_citInitial": 1,
   "eqLabelWithNumbers": true,
   "eqNumInitial": 1,
   "hotkeys": {
    "equation": "Ctrl-E",
    "itemize": "Ctrl-I"
   },
   "labels_anchors": false,
   "latex_user_defs": false,
   "report_style_numbering": false,
   "user_envs_cfg": false
  },
  "toc": {
   "base_numbering": 1,
   "nav_menu": {},
   "number_sections": true,
   "sideBar": true,
   "skip_h1_title": true,
   "title_cell": "Table des matières",
   "title_sidebar": "Table des matières",
   "toc_cell": false,
   "toc_position": {},
   "toc_section_display": true,
   "toc_window_display": true
  },
  "varInspector": {
   "cols": {
    "lenName": 16,
    "lenType": 16,
    "lenVar": 40
   },
   "kernels_config": {
    "python": {
     "delete_cmd_postfix": "",
     "delete_cmd_prefix": "del ",
     "library": "var_list.py",
     "varRefreshCmd": "print(var_dic_list())"
    },
    "r": {
     "delete_cmd_postfix": ") ",
     "delete_cmd_prefix": "rm(",
     "library": "var_list.r",
     "varRefreshCmd": "cat(var_dic_list()) "
    }
   },
   "types_to_exclude": [
    "module",
    "function",
    "builtin_function_or_method",
    "instance",
    "_Feature"
   ],
   "window_display": false
  }
 },
 "nbformat": 4,
 "nbformat_minor": 2
}
