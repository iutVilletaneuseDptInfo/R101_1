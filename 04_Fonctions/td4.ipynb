{
 "cells": [
  {
   "cell_type": "markdown",
   "metadata": {
    "collapsed": true,
    "deletable": false,
    "editable": false
   },
   "source": [
    "# <center> Chapitre 4 : Fonctions - TD </center>"
   ]
  },
  {
   "cell_type": "markdown",
   "metadata": {
    "deletable": false,
    "editable": false,
    "run_control": {
     "frozen": true
    }
   },
   "source": [
    "### Exercice 1 : Test de compréhension*"
   ]
  },
  {
   "cell_type": "markdown",
   "metadata": {
    "deletable": false,
    "editable": false,
    "run_control": {
     "frozen": true
    }
   },
   "source": [
    "#### Question 1\n",
    "\n",
    "Quelle est la différence entre *définition* et *appel* d'une fonction ?"
   ]
  },
  {
   "cell_type": "markdown",
   "metadata": {
    "deletable": false,
    "editable": false,
    "run_control": {
     "frozen": true
    }
   },
   "source": [
    "#### Question 2\n",
    "\n",
    "Qu'est-ce que l'*en-tête* d'une fonction ? Qu'est-ce que le *corps* d'une fonction ?"
   ]
  },
  {
   "cell_type": "markdown",
   "metadata": {
    "deletable": false,
    "editable": false,
    "run_control": {
     "frozen": true
    }
   },
   "source": [
    "#### Question 3\n",
    "\n",
    "Qu'est-ce qu'un *programme appelant* ?"
   ]
  },
  {
   "cell_type": "markdown",
   "metadata": {
    "deletable": false,
    "editable": false,
    "run_control": {
     "frozen": true
    }
   },
   "source": [
    "#### Question 4\n",
    "\n",
    "Les parenthèses sont-elles obligatoires dans la définition d'une fonction s'il n'y a pas de paramètres ? Sont-elles nécessaires dans un appel de fonction s'il n'y a pas de valeurs de paramètre ?"
   ]
  },
  {
   "cell_type": "markdown",
   "metadata": {
    "deletable": false,
    "editable": false,
    "run_control": {
     "frozen": true
    }
   },
   "source": [
    "#### Question 5\n",
    "\n",
    "Combien de fois une fonction peut-elle être appelée au\n",
    "minimum ? Au maximum ? Donner deux exemples où une fonction est\n",
    "appelée 100 fois, un avec les mêmes valeurs de paramètre pour tous\n",
    "les appels, puis l'autre avec des différentes valeurs de paramètre\n",
    "à chaque appel."
   ]
  },
  {
   "cell_type": "code",
   "execution_count": null,
   "metadata": {},
   "outputs": [],
   "source": [
    "#-------------------------#\n",
    "#    Écrire le code ici   #\n",
    "#-------------------------#\n",
    "\n",
    "\n"
   ]
  },
  {
   "cell_type": "markdown",
   "metadata": {
    "deletable": false,
    "editable": false,
    "run_control": {
     "frozen": true
    }
   },
   "source": [
    "#### Question 6"
   ]
  },
  {
   "cell_type": "markdown",
   "metadata": {
    "deletable": false,
    "editable": false,
    "run_control": {
     "frozen": true
    }
   },
   "source": [
    "Dans le code suivant, donner, pour la fonction `somme2nb`, les numéros des lignes associées à l'en-tête, au corps de la fonction, à la définition et à l'appel de la fonction. Indiquer également le programme appelant. Donner finalement ses paramètres et ses valeurs d'entrée lors de son appel. Répondre ensuite aux mêmes questions pour la fonction `afficheRes`."
   ]
  },
  {
   "cell_type": "code",
   "execution_count": null,
   "metadata": {
    "deletable": false,
    "editable": false
   },
   "outputs": [],
   "source": [
    "def afficheRes(nb): \n",
    "    print(\"Le résultat est \", nb) \n",
    "\n",
    "\n",
    "def somme2nb(a, b): \n",
    "    print(\"Premier nombre = \", a, \", deuxième nombre = \", b) \n",
    "    afficheRes(a + b)\n",
    "\n",
    "\n",
    "somme2nb(1, 2)"
   ]
  },
  {
   "cell_type": "markdown",
   "metadata": {
    "deletable": false,
    "editable": false,
    "run_control": {
     "frozen": true
    }
   },
   "source": [
    "### Exercice 2 : Nombre d'appels*"
   ]
  },
  {
   "cell_type": "markdown",
   "metadata": {},
   "source": [
    "#### Question 1"
   ]
  },
  {
   "cell_type": "markdown",
   "metadata": {
    "deletable": false,
    "editable": false,
    "run_control": {
     "frozen": true
    }
   },
   "source": [
    "À l'exécution du code suivant :\n",
    "* combien de fois la fonction `f1` est-elle appelée ? \n",
    "* combien de fois est affiché le mot `hello` ?"
   ]
  },
  {
   "cell_type": "code",
   "execution_count": null,
   "metadata": {
    "deletable": false,
    "editable": false
   },
   "outputs": [],
   "source": [
    "def f1():\n",
    "    print(\"hello\")\n",
    "    print(\"hello\")\n",
    "\n",
    "\n",
    "print(\"hello\")"
   ]
  },
  {
   "cell_type": "markdown",
   "metadata": {},
   "source": [
    "#### Question 2"
   ]
  },
  {
   "cell_type": "markdown",
   "metadata": {
    "deletable": false,
    "editable": false,
    "run_control": {
     "frozen": true
    }
   },
   "source": [
    "À l'exécution du code suivant :\n",
    "* combien de fois la fonction `f2` est-elle appelée ? \n",
    "* combien de fois est affiché le mot `hello` ?"
   ]
  },
  {
   "cell_type": "code",
   "execution_count": null,
   "metadata": {
    "deletable": false,
    "editable": false
   },
   "outputs": [],
   "source": [
    "def f2():\n",
    "    print(\"hello\")\n",
    "    print(\"hello\")\n",
    "\n",
    "\n",
    "print(\"hello\")\n",
    "f2()\n",
    "f2()"
   ]
  },
  {
   "cell_type": "markdown",
   "metadata": {
    "deletable": false,
    "editable": false,
    "run_control": {
     "frozen": true
    }
   },
   "source": [
    "#### Question 3"
   ]
  },
  {
   "cell_type": "markdown",
   "metadata": {
    "deletable": false,
    "editable": false,
    "run_control": {
     "frozen": true
    }
   },
   "source": [
    "À l'exécution du code suivant :\n",
    "* combien de fois sont appelées `f3` et `f4` ?\n",
    "* combien de fois est affiché le mot `hello` ? "
   ]
  },
  {
   "cell_type": "code",
   "execution_count": null,
   "metadata": {
    "deletable": false,
    "editable": false
   },
   "outputs": [],
   "source": [
    "def f3():\n",
    "    print(\"hello\")\n",
    "    print(\"hello\")\n",
    "\n",
    "\n",
    "def f4():\n",
    "    f3()\n",
    "    print(\"hello\")\n",
    "    f3()\n",
    "\n",
    "\n",
    "print(\"hello\")\n",
    "f3()\n",
    "f4()"
   ]
  },
  {
   "cell_type": "markdown",
   "metadata": {
    "deletable": false,
    "editable": false,
    "run_control": {
     "frozen": true
    }
   },
   "source": [
    "#### Question 4"
   ]
  },
  {
   "cell_type": "markdown",
   "metadata": {},
   "source": [
    "À l'exécution du code suivant :\n",
    "* combien de fois sont appelées `f5` et `f6` ?\n",
    "* combien de fois est affiché le mot `hello` ? "
   ]
  },
  {
   "cell_type": "code",
   "execution_count": null,
   "metadata": {
    "deletable": false,
    "editable": false
   },
   "outputs": [],
   "source": [
    "def f5():\n",
    "    print(\"hello\")\n",
    "    print(\"hello\")\n",
    "\n",
    "\n",
    "def f6(n):\n",
    "    i = 0\n",
    "    while i < n:\n",
    "        f5()\n",
    "        i = i + 1\n",
    "        print(\"hello\")\n",
    "\n",
    "\n",
    "# Algorithme principal\n",
    "print(\"hello\")\n",
    "f5()\n",
    "f6(2)\n",
    "f6(4)"
   ]
  },
  {
   "cell_type": "markdown",
   "metadata": {},
   "source": [
    "### Exercice 3 : Valeur de paramètres*"
   ]
  },
  {
   "cell_type": "markdown",
   "metadata": {
    "deletable": false,
    "editable": false,
    "run_control": {
     "frozen": true
    }
   },
   "source": [
    "Qu'affiche le code suivant ?"
   ]
  },
  {
   "cell_type": "code",
   "execution_count": null,
   "metadata": {
    "deletable": false,
    "editable": false
   },
   "outputs": [],
   "source": [
    "def f(a):\n",
    "    print(\"a = \", a)\n",
    "\n",
    "\n",
    "# Algorithme principal\n",
    "a = 3\n",
    "b = 5\n",
    "a = 18\n",
    "f(b)"
   ]
  },
  {
   "cell_type": "markdown",
   "metadata": {
    "deletable": false,
    "editable": false,
    "run_control": {
     "frozen": true
    }
   },
   "source": [
    "Qu'affiche le code suivant ?\n"
   ]
  },
  {
   "cell_type": "code",
   "execution_count": null,
   "metadata": {
    "deletable": false,
    "editable": false
   },
   "outputs": [],
   "source": [
    "def f(a, b):\n",
    "    print(\"a = \", a, \", b = \", b)\n",
    "\n",
    "\n",
    "# Algorithme principal\n",
    "a = 3\n",
    "b = 4\n",
    "f(a, b)\n",
    "f(b, a)\n",
    "f(a, a)\n",
    "f(b + 2, b - 3)"
   ]
  },
  {
   "cell_type": "markdown",
   "metadata": {},
   "source": [
    "### Exercice 4 :  Portée des variables*\n",
    "\n",
    "Qu'affiche le code suivant ?"
   ]
  },
  {
   "cell_type": "code",
   "execution_count": null,
   "metadata": {
    "deletable": false,
    "editable": false
   },
   "outputs": [],
   "source": [
    "def f():\n",
    "    a = 18\n",
    "    print(\"a = \", a)\n",
    "\n",
    "\n",
    "# Algorithme principal\n",
    "a = 5\n",
    "f()\n",
    "print(\"a = \", a)"
   ]
  },
  {
   "cell_type": "markdown",
   "metadata": {
    "deletable": false,
    "editable": false,
    "run_control": {
     "frozen": true
    }
   },
   "source": [
    "### Exercice 5 : Comparer deux nombres*\n",
    "\n",
    "Écrire la fonction `compare()` qui reçoit deux nombres entiers en paramètre `a` et `b` et affiche un message adapté selon que `a` est supérieur, inférieur ou égal à `b`. "
   ]
  },
  {
   "cell_type": "code",
   "execution_count": null,
   "metadata": {},
   "outputs": [],
   "source": [
    "#-------------------------#\n",
    "#    Écrire le code ici   #\n",
    "#-------------------------#\n",
    "\n",
    "\n"
   ]
  },
  {
   "cell_type": "markdown",
   "metadata": {
    "deletable": false,
    "editable": false,
    "run_control": {
     "frozen": true
    }
   },
   "source": [
    "#  Pour aller plus loin"
   ]
  },
  {
   "cell_type": "markdown",
   "metadata": {
    "deletable": false,
    "editable": false,
    "run_control": {
     "frozen": true
    }
   },
   "source": [
    "### Exercice 6 : Addition unaire*"
   ]
  },
  {
   "cell_type": "markdown",
   "metadata": {
    "deletable": false,
    "editable": false,
    "run_control": {
     "frozen": true
    }
   },
   "source": [
    "Un nombre positif ou nul est représenté en base unaire par autant de symboles 0 que la valeur du nombre. Ainsi, la représentation unaire de 5 est : `\"00000\"`.\n",
    "\n",
    "1. Définir la fonction `affiche_unaire` prenant en paramètre un nombre et affichant ce nombre en unaire.\n",
    "2. Définir la fonction `addition_unaire` prenant en paramètre deux nombres et affichant ces deux nombres en base unaire ainsi que leur somme. Par exemple, l'appel de la fonction avec les valeurs 7 et 5 doit donner l'affichage suivant :\n",
    "```\n",
    "0000000\n",
    "+\n",
    "00000\n",
    "=\n",
    "000000000000\n",
    "```"
   ]
  },
  {
   "cell_type": "code",
   "execution_count": null,
   "metadata": {},
   "outputs": [],
   "source": [
    "#-------------------------#\n",
    "#    Écrire le code ici   #\n",
    "#-------------------------#\n",
    "\n",
    "\n"
   ]
  },
  {
   "cell_type": "markdown",
   "metadata": {
    "deletable": false,
    "editable": false,
    "run_control": {
     "frozen": true
    }
   },
   "source": [
    "### Exercice 7 : Addition binaire***\n",
    "\n",
    "\n",
    "1. Définir la fonction `affiche_binaire` prenant en paramètre un nombre et affichant ce nombre en binaire.\n",
    "2. Définir la fonction `addition_binaire` prenant en paramètre deux nombres et affichant ces deux nombres en binaire ainsi que leur somme. Par exemple, l'appel de la fonction avec les valeurs 7 et 5 doit donner l'affichage suivant :\n",
    "```\n",
    "111\n",
    "+\n",
    "101\n",
    "=\n",
    "1100\n",
    "```"
   ]
  },
  {
   "cell_type": "code",
   "execution_count": null,
   "metadata": {},
   "outputs": [],
   "source": [
    "#-------------------------#\n",
    "#    Écrire le code ici   #\n",
    "#-------------------------#\n",
    "\n",
    "\n"
   ]
  }
 ],
 "metadata": {
  "@webio": {
   "lastCommId": "cbfd9124897b4d4c8a52250cc555f851",
   "lastKernelId": "9fd73e07-1b33-44a6-aa16-a65b2f16e5ad"
  },
  "kernelspec": {
   "display_name": "Python 3 (ipykernel)",
   "language": "python",
   "name": "python3"
  },
  "language_info": {
   "codemirror_mode": {
    "name": "ipython",
    "version": 3
   },
   "file_extension": ".py",
   "mimetype": "text/x-python",
   "name": "python",
   "nbconvert_exporter": "python",
   "pygments_lexer": "ipython3",
   "version": "3.11.4"
  },
  "latex_envs": {
   "LaTeX_envs_menu_present": true,
   "autoclose": false,
   "autocomplete": true,
   "bibliofile": "biblio.bib",
   "cite_by": "apalike",
   "current_citInitial": 1,
   "eqLabelWithNumbers": true,
   "eqNumInitial": 1,
   "hotkeys": {
    "equation": "Ctrl-E",
    "itemize": "Ctrl-I"
   },
   "labels_anchors": false,
   "latex_user_defs": false,
   "report_style_numbering": false,
   "user_envs_cfg": false
  },
  "toc": {
   "base_numbering": 1,
   "nav_menu": {},
   "number_sections": true,
   "sideBar": true,
   "skip_h1_title": true,
   "title_cell": "Table des matières",
   "title_sidebar": "Table des matières",
   "toc_cell": false,
   "toc_position": {},
   "toc_section_display": true,
   "toc_window_display": true
  },
  "varInspector": {
   "cols": {
    "lenName": 16,
    "lenType": 16,
    "lenVar": 40
   },
   "kernels_config": {
    "python": {
     "delete_cmd_postfix": "",
     "delete_cmd_prefix": "del ",
     "library": "var_list.py",
     "varRefreshCmd": "print(var_dic_list())"
    },
    "r": {
     "delete_cmd_postfix": ") ",
     "delete_cmd_prefix": "rm(",
     "library": "var_list.r",
     "varRefreshCmd": "cat(var_dic_list()) "
    }
   },
   "types_to_exclude": [
    "module",
    "function",
    "builtin_function_or_method",
    "instance",
    "_Feature"
   ],
   "window_display": false
  }
 },
 "nbformat": 4,
 "nbformat_minor": 2
}
