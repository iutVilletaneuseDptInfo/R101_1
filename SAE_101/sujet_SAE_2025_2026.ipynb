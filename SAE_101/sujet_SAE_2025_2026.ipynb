{
 "cells": [
  {
   "cell_type": "markdown",
   "id": "7522a751-7cf2-46b9-a377-0ac3e4e40920",
   "metadata": {
    "deletable": false,
    "editable": false,
    "run_control": {
     "frozen": true
    },
    "slideshow": {
     "slide_type": ""
    },
    "tags": []
   },
   "source": [
    "# Le nouveau choixpeau pas magique de Poudlard"
   ]
  },
  {
   "cell_type": "markdown",
   "id": "71232362-eb98-48c8-98be-1043fd2d1f5b",
   "metadata": {
    "deletable": false,
    "editable": false,
    "run_control": {
     "frozen": true
    }
   },
   "source": [
    "**Attendus**\n",
    "\n",
    "Les attendus de cette SAE sont que vous appreniez à :\n",
    "- respecter un cahier des charges ;\n",
    "- écrire un code de qualité : efficace, lisible, documenté et testé sauf quand il s'agit d'affichages, de saisies ou de tirages aléatoires ;\n",
    " - travailler en groupe sur un projet : cette SAE est à faire en **binôme**. Vous devez néanmoins comprendre et connaître la totalité de ce qui est produit par le binôme.\n",
    "\n",
    "\n",
    "**Calendrier**\n",
    "\n",
    "- Le projet est à rendre au plus tard le dimanche **2 novembre**. Les modalités de rendu vous seront précisées par votre enseignant.\n",
    "- Un contrôle de 2h en lien avec le contenu de cette SAE aura lieu le vendredi **5 novembre**.\n",
    "\n",
    "**Evaluation**\n",
    "\n",
    "- Le projet comptera pour 40% de la note de SAE 1.01. Il sera particulièrement tenu compte de la qualité du code, des **commentaires** et **docstrings**, des fonctions de **tests unitaires** pour les fonctions renvoyant des résultats. \n",
    "- Le contrôle compte pour 60% de la note finale.\n",
    "\n",
    "**Remarque** \n",
    "\n",
    "Le sujet se base sur l'univers d'Harry Potter. Il n'est cependant pas nécessaire de connaître cet univers pour faire cette SAE. Cependant, si vous souhaitez connaître cet univers, il vous suffit de lire le premier tome de Harry Potter ou de voir le premier film pour avoir l'essentiel concernant le choixpeau magique et la cérémonie de répartition.\n"
   ]
  },
  {
   "cell_type": "markdown",
   "id": "4b26f69e-f7fd-4b5b-9d61-100dcad353ed",
   "metadata": {
    "deletable": false,
    "editable": false
   },
   "source": [
    "## Sujet\n",
    "\n",
    "Nom d'un chaudron !!! Le choixpeau magique de Poudlard vient d'être détruit par un maléfice !\n",
    "Fort heureusement, la cérémonie de répartition (sorting ceremony) permettant d'affecter les élèves de première année dans les quatre maisons de Poudlard (Gryffondor, Serdaigle, Poufsouffle et Serpentard) a pu avoir lieu avant cette catastrophe. \n",
    "\n",
    "Par contre, il faut penser à l'avenir, c'est-à-dire aux prochaines cérémonies de répartition. Tous les professeurs de l'école ont essayé en vain de recréer le choixpeau magique mais c'est impossible ! Cet objet très ancien a été généré par un type de magie aujourd'hui oublié et aucune magie actuelle ne peut créer des objets ou des méthodes permettant de répartir des êtres vivants ! \n",
    "\n",
    "Albus Dumbledore a alors eu une idée géniale. Il a créé un nouveau choixpeau magique qui peut faire la cérémonie de répartition si on lui donne la méthode de répartition des élèves. Il ne reste plus qu'à trouver une méthode de répartition des élèves !\n",
    "Pour cela, la professeur McGonagall a eu une idée. Elle propose de faire remplir aux futurs élèves, avant la cérémonie, un questionnaire et de répartir les élèves en fonction de leurs réponses. Elle VOUS a demandé de l'aider en développant un programme prenant en entrée les réponses aux questions et déterminant la répartition des élèves en fonction des réponses. L'école Poudlard compte sur vous !!! \n",
    "\n",
    "L'ancien choixpeau magique classait les élèves dans les différentes maisons en fonction de certaines de leurs caractéristiques psychologiques. Le choix se faisait de la manière suivante : \n",
    "- Gryffondor : si l'élève privilégiait le courage, la bravoure et la défense des valeurs,\n",
    "- Serdaigle : si l'élève valorisait l'intelligence, la sagesse et la créativité,\n",
    "- Poufsouffle : si l'élève mettait en avant la loyauté, le travail acharné et la bienveillance,\n",
    "- Serpentard : si l'élève accordait de l’importance à l’ambition, la ruse et la détermination.\n",
    "\n",
    "La professeur Sibylle Trelawney propose alors un questionnaire à 4 questions seulement :\n",
    "- Question 1 : À quel point aimez-vous prendre des risques pour défendre une cause juste ?\n",
    "- Question 2 : Comment évaluez-vous votre curiosité intellectuelle et votre soif d’apprendre ?\n",
    "- Question 3 : Quelle importance accordez-vous à la loyauté envers vos amis et votre famille ?\n",
    "- Question 4 : À quel point êtes-vous ambitieux et déterminé à atteindre vos objectifs personnels ? \n",
    "\n",
    "Les élèves doivent alors répondre à chaque question avec un score compris entre 1 (pas du tout) et 10 (complètement) représentant sa réponse. Le choix se fait en affectant l'élève à la maison :\n",
    "- Gryffondor : si l'élève a mis le meilleur score à la Question 1,\n",
    "- Serdaigle : si l'élève a mis le meilleur score à la Question 2,\n",
    "- Poufsouffle : si l'élève a mis le meilleur score à la Question 3,\n",
    "- Serpentard : si l'élève a mis le meilleur score à la Question 4.\n",
    "\n",
    "Si un élève a mis le meilleur score à plusieurs questions, on l'affecte à n'importe quelle maison à laquelle il a mis le meilleur score.\n",
    "\n",
    "\n",
    "**Remarque :** Même si la magie ne peut pas répartir les élèves, elle peut agrandir ou rétrécir sans souci les chambres et les salles de classe donc il n'y a pas de contrainte liée au nombre d'élèves affectés à chaque maison. Il vaut mieux répartir correctement chaque élève sans affecter le même nombre d'élèves à chaque maison plutôt que mal répartir les élèves de manière équitable !"
   ]
  },
  {
   "cell_type": "markdown",
   "id": "6e16b207-7d86-4e34-8456-2b625888a752",
   "metadata": {
    "deletable": false,
    "editable": false,
    "run_control": {
     "frozen": true
    }
   },
   "source": [
    "Concrètement, on décide de stocker les réponses au questionnaire dans un tableau de chaînes de caractères et d'entiers contenant successivement un élève (sous forme d'une chaîne de caractères), et les quatres réponses aux questions sous forme d'entiers. Le nom de chaque élève se trouve à la case d'indice `[5*i]`, les réponses aux questions 1, 2, 3 et 4 se trouvent respectivement aux cases `[5 *i + 1]`, `[5 *i + 2]`, `[5 *i + 3]` et `[5 *i + 4]`. Un tel tableau est appelé *tableau de réponses*. On suppose qu'un tableau de réponses est toujours correctement construit (une chaîne de caractères pour chaque élève et 4 entiers entre 1 et 10 pour les réponses)."
   ]
  },
  {
   "cell_type": "markdown",
   "id": "7ae3af41-0803-46ed-826f-094c3fb71ad4",
   "metadata": {
    "deletable": false,
    "editable": false,
    "run_control": {
     "frozen": true
    }
   },
   "source": [
    "### Exemple\n",
    "\n",
    "On a donné le questionnaire à Harry Potter, Cedric Diggory et à Drago Malefoy. Harry a donné les scores de 10, 5, 8 et 1 pour les 4 questions (dans l'ordre), Cedric a donné les scores de 6, 7, 9 et 4 alors que Drago a répondu avec les scores 1, 3, 2 et 10. Le tableau de réponses correspondant à ces informations est le suivant : "
   ]
  },
  {
   "cell_type": "code",
   "execution_count": null,
   "id": "a59fe740-23fc-4cf2-92e2-08e7d50a4efb",
   "metadata": {},
   "outputs": [],
   "source": [
    "reponses = [\"Harry Potter\", 10, 5, 8, 1, \"Cedric Diggory\", 6, 7, 9, 4, \"Drago Malefoy\", 1, 3, 2, 10]"
   ]
  },
  {
   "cell_type": "markdown",
   "id": "a51a2384-e8d7-416b-b667-a36336d909c5",
   "metadata": {
    "deletable": false,
    "editable": false,
    "run_control": {
     "frozen": true
    }
   },
   "source": [
    "### Question 1\n",
    "\n",
    "Définissez la fonction `nombre_eleves` prenant en paramètre un tableau de réponses et retournant le nombre d'élèves ayant répondu au questionnaire. Définissez également une fonction de tests unitaires."
   ]
  },
  {
   "cell_type": "code",
   "execution_count": null,
   "id": "1b0ed01e-5ca4-458d-ae59-37a462fcda81",
   "metadata": {
    "slideshow": {
     "slide_type": ""
    },
    "tags": [
     "answer"
    ]
   },
   "outputs": [],
   "source": [
    "############################## \n",
    "#   Saisir votre code ici.   #\n",
    "##############################\n",
    "\n",
    "\n"
   ]
  },
  {
   "cell_type": "markdown",
   "id": "8a735d4b-f7ba-4971-9f08-139bb5b3db11",
   "metadata": {
    "deletable": false,
    "editable": false,
    "run_control": {
     "frozen": true
    },
    "slideshow": {
     "slide_type": ""
    },
    "tags": []
   },
   "source": [
    "### Question 2\n",
    "\n",
    "Définissez la fonction `eleves` prenant en paramètre un tableau de réponses et retournant un tableau contenant les élèves (chaînes de caractères) ayant répondu aux questionnaire. L'appel de cette fonction avec le tableau de réponses donné en exemple doit retourner le tableau :\n",
    "```python\n",
    "[\"Harry Potter\", \"Cedric Diggory\", \"Drago Malefoy\"]\n",
    "```\n",
    "\n",
    "Définissez une fonction de tests unitaires pour la fonction `eleves`."
   ]
  },
  {
   "cell_type": "code",
   "execution_count": null,
   "id": "f05d4950-187b-41a4-98e3-dc0f9c4c5af4",
   "metadata": {
    "slideshow": {
     "slide_type": ""
    },
    "tags": [
     "answer"
    ]
   },
   "outputs": [],
   "source": [
    "############################## \n",
    "#   Saisir votre code ici.   #\n",
    "##############################\n",
    "\n",
    "\n"
   ]
  },
  {
   "cell_type": "markdown",
   "id": "d8e92b03-9ae8-4611-b153-87c5e39a738e",
   "metadata": {
    "deletable": false,
    "editable": false,
    "run_control": {
     "frozen": true
    },
    "slideshow": {
     "slide_type": ""
    },
    "tags": []
   },
   "source": [
    "### Question 3\n",
    "\n",
    "Définissez la fonction `lecture_reponses` prenant en paramètre un nom de fichier et retournant un tableau de réponses en fonction des données contenues dans le fichier. Ce dernier comporte une ligne par élève. Chaque ligne a le format `nom:R1/R2/R3/R4` où `nom` correspond au nom de l'élève et `R1`, `R2`, `R3`, `R4` correspondent aux scores (réponses aux questions) de l'élève. Par exemple, l'appel de la fonction `lecture_reponses` avec un nom de fichier contenant \n",
    "```\n",
    "Harry Potter:10/5/8/1\n",
    "Cedric Diggory:6/7/9/4\n",
    "Drago Malefoy:1/3/2/10\n",
    "```\n",
    "doit retourner le tableau de réponses donné en exemple.\n",
    "\n",
    "Définissez une fonction de tests unitaires pour la fonction `lecture_reponses`."
   ]
  },
  {
   "cell_type": "code",
   "execution_count": null,
   "id": "63aa73ff-0992-4a9e-8ee0-97956a5618a2",
   "metadata": {
    "slideshow": {
     "slide_type": ""
    },
    "tags": [
     "answer"
    ]
   },
   "outputs": [],
   "source": [
    "############################## \n",
    "#   Saisir votre code ici.   #\n",
    "##############################\n",
    "\n",
    "\n"
   ]
  },
  {
   "cell_type": "markdown",
   "id": "fd3b221a-ce25-4496-890f-99c7226684d0",
   "metadata": {
    "deletable": false,
    "editable": false,
    "run_control": {
     "frozen": true
    },
    "slideshow": {
     "slide_type": ""
    },
    "tags": []
   },
   "source": [
    "### Question 4\n",
    "\n",
    "Définissez la fonction `maison` prenant en paramètre un tableau de réponses ainsi que l'indice d'un élève. La fonction retourne la maison correspondant à l'affectation de cet élève. Ainsi, l'appel de la fonction maison avec le tableau de réponses donné en exemple doit retourner : \n",
    "- `\"Gryffondor\"` avec l'indice `0` (correspondant à Harry Potter),\n",
    "- `\"Poufsouffle\"` avec l'indice `5` (correspondant à Cedric Diggory),\n",
    "- `\"Serpentard\"` avec l'indice `10` (correspondant à Drago Malefoy).\n",
    "\n",
    "En effet, Harry Potter a mis le meilleur score à la question 1 et doit donc être affecté à Gryffondor. Cedric Diggory a mis le meilleur score à la question 3 et doit être affecté à la maison Poufsouffle. Finalement, Drago a mis le meilleur score à la question 4 et doit donc être affecté à la maison Serpentard.\n",
    "\n",
    "Définissez également une fonction de tests unitaires pour la fonction `maison`."
   ]
  },
  {
   "cell_type": "code",
   "execution_count": null,
   "id": "6bca7f48-f6b9-4bfc-924c-d7082b47b695",
   "metadata": {
    "slideshow": {
     "slide_type": ""
    },
    "tags": [
     "answer"
    ]
   },
   "outputs": [],
   "source": [
    "############################## \n",
    "#   Saisir votre code ici.   #\n",
    "##############################\n",
    "\n",
    "\n"
   ]
  },
  {
   "cell_type": "markdown",
   "id": "f01cfed7-20ac-4f9c-99c5-25aa612fbdf8",
   "metadata": {
    "deletable": false,
    "editable": false,
    "run_control": {
     "frozen": true
    },
    "slideshow": {
     "slide_type": ""
    },
    "tags": []
   },
   "source": [
    "### Question 5\n",
    "\n",
    "Définissez la fonction `repartition` prenant en paramètre un tableau de réponses et retournant un dictionnaire dont les clés sont les noms des élèves et les valeurs la maison à laquelle les élèves sont affectés. Par exemple, l'appel de la fonction `repartition` avec le tableau de réponses donné en exemple doit retourner le dictionnaire : \n",
    "```python\n",
    "{\n",
    "    \"Harry Potter\": \"Gryffondor\",\n",
    "    \"Cedric Diggory\": \"Poufsouffle\",\n",
    "    \"Drago Malefoy\": \"Serpentard\"\n",
    "}\n",
    "```\n",
    "\n",
    "Définissez également une fonction de tests unitaires pour la fonction `repartition`."
   ]
  },
  {
   "cell_type": "code",
   "execution_count": null,
   "id": "cc4a4434-afc9-4aa2-b161-35ac7004b874",
   "metadata": {
    "slideshow": {
     "slide_type": ""
    },
    "tags": [
     "answer"
    ]
   },
   "outputs": [],
   "source": [
    "############################## \n",
    "#   Saisir votre code ici.   #\n",
    "##############################\n",
    "\n",
    "\n"
   ]
  },
  {
   "cell_type": "markdown",
   "id": "4232c652-c1af-4687-8109-32f150f3a953",
   "metadata": {
    "deletable": false,
    "editable": false,
    "run_control": {
     "frozen": true
    },
    "slideshow": {
     "slide_type": ""
    },
    "tags": []
   },
   "source": [
    "### Question 6\n",
    "\n",
    "Le professeur Severus Rogue n'est pas du tout convaincu par cette méthode de répartition qu'il qualifie de \"méthode aléatoire aussi peu fiable que les potions que prépare Neuville Londubat\". Pour prouver qu'il a raison, il vous ordonne de comparer votre méthode de répartition avec la répartition faite par le choixpeau pour les élèves de première année.\n",
    "Vous disposez pour cela de deux fichiers : \n",
    "\n",
    "* un fichier `questionnaire_premiere_annee.txt` qui contient les réponses des élèves de première année aux 4 questions. Le format de ce fichier est celui de la question 3.\n",
    "* un fichier `affectation_premiere_annee.json` qui est un fichier json contenant un dictionnaire où les clés sont les noms des élèves de première année et les valeurs la maison où ils sont affectés par le choixpeau magique.\n",
    "\n",
    "Définir la fonction `nb_erreurs` prenant en paramètre deux dictionnaires dont les clés sont des élèves (les mêmes dans les deux dictionnaires) et les valeurs les maisons auxquelles ils sont affectés. La fonction renvoie le nombre \"d'erreurs\", c'est-à-dire le nombre de fois où les valeurs des deux dictionnaires sont différentes pour un même élève. Par exemple, l'appel de la fonction `nb_erreurs` avec les deux dictionnaires\n",
    "```python\n",
    "{\"Harry Potter\": \"Gryffondor\", \"Cedric Diggory\": \"Poufsouffle\", \"Drago Malefoy\": \"Serpentard\"}\n",
    "\n",
    "{\"Cedric Diggory\": \"Serdaigle\", \"Drago Malefoy\": \"Gryffondor\", \"Harry Potter\": \"Gryffondor\"}\n",
    "```\n",
    "doit retourner 2.\n",
    "\n",
    "\n",
    "Définir une fonction de tests unitaires pour la fonction `nb_erreurs`.\n",
    "\n",
    "\n",
    "À l'aide des deux fichiers de données, afficher le pourcentage d'erreur de votre méthode, c'est-à-dire le nombre d'élèves de première année que vous avez affectés à une maison différente que celle choisie par le choixpeau magique."
   ]
  },
  {
   "cell_type": "code",
   "execution_count": null,
   "id": "3bc99c3e-4d78-4b3e-aafc-6f2b221fb496",
   "metadata": {
    "slideshow": {
     "slide_type": ""
    },
    "tags": [
     "answer"
    ]
   },
   "outputs": [],
   "source": [
    "############################## \n",
    "#   Saisir votre code ici.   #\n",
    "##############################\n",
    "\n",
    "\n"
   ]
  },
  {
   "cell_type": "markdown",
   "id": "6faa4ddd-a72d-412e-9872-91e2c2030e1d",
   "metadata": {
    "deletable": false,
    "editable": false,
    "run_control": {
     "frozen": true
    },
    "slideshow": {
     "slide_type": ""
    },
    "tags": []
   },
   "source": [
    "### Question 7\n",
    "\n",
    "Suite aux ricanements de Severus, le professeur Remus Lupin vous propose de tester la fiabilité d'une méthode de répartition aléatoire des élèves. Pour cela, répartissez aléatoirement les élèves dans les maisons et comptabiliser le nombre d'erreurs avec la répartition du choixpeau. Vous ferez la moyenne sur 100 répartitions aléatoires pour avoir une valeur plus précise. Que peut-on en conclure ?"
   ]
  },
  {
   "cell_type": "code",
   "execution_count": null,
   "id": "9dca8d37-ed47-4b4d-9b11-229ff0c90749",
   "metadata": {
    "slideshow": {
     "slide_type": ""
    },
    "tags": [
     "answer"
    ]
   },
   "outputs": [],
   "source": [
    "############################## \n",
    "#   Saisir votre code ici.   #\n",
    "##############################\n",
    "\n",
    "\n"
   ]
  }
 ],
 "metadata": {
  "kernelspec": {
   "display_name": "Python 3 (ipykernel)",
   "language": "python",
   "name": "python3"
  },
  "language_info": {
   "codemirror_mode": {
    "name": "ipython",
    "version": 3
   },
   "file_extension": ".py",
   "mimetype": "text/x-python",
   "name": "python",
   "nbconvert_exporter": "python",
   "pygments_lexer": "ipython3",
   "version": "3.11.4"
  }
 },
 "nbformat": 4,
 "nbformat_minor": 5
}
