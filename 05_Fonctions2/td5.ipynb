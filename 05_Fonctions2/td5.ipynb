{
 "cells": [
  {
   "cell_type": "markdown",
   "metadata": {
    "collapsed": true
   },
   "source": [
    "# <center> Chapitre 5 : Fonctions (suite) - TD </center>"
   ]
  },
  {
   "cell_type": "markdown",
   "metadata": {
    "deletable": false,
    "editable": false,
    "run_control": {
     "frozen": true
    }
   },
   "source": [
    "### Exercice 1 : Traces de programme*"
   ]
  },
  {
   "cell_type": "markdown",
   "metadata": {
    "deletable": false,
    "editable": false,
    "run_control": {
     "frozen": true
    }
   },
   "source": [
    "#### Question 1 \n",
    "\n",
    "À l'exécution du code suivant :\n",
    "* combien de fois est appelée `f` ? \n",
    "* combien de fois est affiché `hello` ? "
   ]
  },
  {
   "cell_type": "code",
   "execution_count": null,
   "metadata": {
    "deletable": false,
    "editable": false
   },
   "outputs": [],
   "source": [
    "def f(a) :\n",
    "    if a < 0 : \n",
    "        return\n",
    "    print(\"hello\")\n",
    "\n",
    "f(3)\n",
    "f(-2)"
   ]
  },
  {
   "cell_type": "markdown",
   "metadata": {
    "deletable": false,
    "editable": false,
    "run_control": {
     "frozen": true
    }
   },
   "source": [
    "#### Question 2\n",
    "\n",
    "À l'exécution du code suivant :\n",
    "* quel est l'affichage produit ? \n",
    "* Quelles sont les valeurs des variables à la fin ?"
   ]
  },
  {
   "cell_type": "code",
   "execution_count": null,
   "metadata": {
    "deletable": false,
    "editable": false,
    "scrolled": true
   },
   "outputs": [],
   "source": [
    "def f(x) :\n",
    "    return 2 * x + 3\n",
    "\n",
    "res = f(3)\n",
    "print(res)\n",
    "z = 2\n",
    "res = f(z)\n",
    "print(res)\n",
    "print(f(res))\n",
    "res = f(res)\n",
    "print(res)\n",
    "print(f(res))"
   ]
  },
  {
   "cell_type": "markdown",
   "metadata": {
    "deletable": false,
    "editable": false,
    "run_control": {
     "frozen": true
    }
   },
   "source": [
    "#### Question 3\n",
    "\n",
    "On considère les fonctions `somme1` et `somme2` définies par :"
   ]
  },
  {
   "cell_type": "code",
   "execution_count": null,
   "metadata": {
    "deletable": false,
    "editable": false
   },
   "outputs": [],
   "source": [
    "def somme1(a, b):\n",
    "    print(a + b)\n",
    "\n",
    "\n",
    "def somme2(a, b):\n",
    "    return a + b"
   ]
  },
  {
   "cell_type": "markdown",
   "metadata": {
    "deletable": false,
    "editable": false,
    "run_control": {
     "frozen": true
    }
   },
   "source": [
    "1. Quelle est la différence entre `somme1` et `somme2` ?\n",
    "2. Utiliser la fonction `somme1` pour afficher le résultat de 2 + 7 (sans utiliser l'opérateur `+`).\n",
    "Même question avec la fonction `somme2`.\n",
    "3. Utiliser la fonction `somme1` pour afficher le résultat de 2 + 7 + 18 (sans utiliser l'opérateur `+`). \n",
    "Même question avec la fonction `somme2`. Quelle est alors la fonction la mieux programmée ?"
   ]
  },
  {
   "cell_type": "markdown",
   "metadata": {
    "deletable": false,
    "editable": false,
    "run_control": {
     "frozen": true
    }
   },
   "source": [
    "### Exercice 2 : Test de parité*"
   ]
  },
  {
   "cell_type": "markdown",
   "metadata": {
    "deletable": false,
    "editable": false,
    "run_control": {
     "frozen": true
    }
   },
   "source": [
    "#### Question 1 : \n",
    "\n",
    "Écrire la fonction `estPair` qui retourne `True` si le nombre passé en paramètre est pair et `False` sinon."
   ]
  },
  {
   "cell_type": "code",
   "execution_count": null,
   "metadata": {},
   "outputs": [],
   "source": [
    "#-------------------------#\n",
    "#    Écrire le code ici   #\n",
    "#-------------------------#\n",
    "\n",
    "\n"
   ]
  },
  {
   "cell_type": "markdown",
   "metadata": {},
   "source": [
    "#### Question 2 : \n",
    "\n",
    "Définir une fonction de tests unitaires pour la fonction `estPair`."
   ]
  },
  {
   "cell_type": "code",
   "execution_count": null,
   "metadata": {},
   "outputs": [],
   "source": [
    "#-------------------------#\n",
    "#    Écrire le code ici   #\n",
    "#-------------------------#\n",
    "\n",
    "\n"
   ]
  },
  {
   "cell_type": "markdown",
   "metadata": {
    "deletable": false,
    "editable": false,
    "run_control": {
     "frozen": true
    }
   },
   "source": [
    "### Exercice 3 : Heure valide*\n",
    "\n",
    "#### Question 1\n",
    "\n",
    "Définir la fonction `estHeureValide` prenant en paramètre une heure (donnée par 3 entiers : le nombre d'heures, le nombre de minutes et le nombre de secondes) et retournant `True` si l'heure est correcte, et `False` sinon.\n",
    "\n",
    "**Remarque :** Une heure est considérée comme valide si le nombre d'heures et compris entre 0 et 23 et le nombre de minutes et secondes sont compris entre 0 et 59."
   ]
  },
  {
   "cell_type": "code",
   "execution_count": null,
   "metadata": {},
   "outputs": [],
   "source": [
    "#-------------------------#\n",
    "#    Écrire le code ici   #\n",
    "#-------------------------#\n",
    "\n",
    "\n"
   ]
  },
  {
   "cell_type": "markdown",
   "metadata": {
    "deletable": false,
    "editable": false,
    "run_control": {
     "frozen": true
    }
   },
   "source": [
    "#### Question 2\n",
    "\n",
    "Définir une fonction de tests unitaires pour la fonction `estHeureValide`."
   ]
  },
  {
   "cell_type": "code",
   "execution_count": null,
   "metadata": {},
   "outputs": [],
   "source": [
    "#-------------------------#\n",
    "#    Écrire le code ici   #\n",
    "#-------------------------#\n",
    "\n",
    "\n"
   ]
  },
  {
   "cell_type": "markdown",
   "metadata": {
    "deletable": false,
    "editable": false,
    "run_control": {
     "frozen": true
    }
   },
   "source": [
    "### Exercice 4 : Nombre de secondes depuis minuit*"
   ]
  },
  {
   "cell_type": "markdown",
   "metadata": {
    "deletable": false,
    "editable": false,
    "run_control": {
     "frozen": true
    }
   },
   "source": [
    "#### Question 1\n",
    "\n",
    "Définir la fonction `nbs` qui étant donné une heure (donnée par 3 entiers : le nombre d'heures, le nombre de minutes et le nombre de secondes) passée en paramètre, retourne le nombre de secondes passées depuis minuit si l'heure passée en paramètre est valide et -1 sinon. À titre d'exemple, `nbs(1,1,1)` doit retourner 3661 (car une heure contient 3600 secondes et une minute 60 secondes).\n",
    "\n",
    "**Remarque :** pour tester si l'heure passée en paramètre est valide, vous utiliserez la fonction `estHeureValide` de l'exercice précédent."
   ]
  },
  {
   "cell_type": "code",
   "execution_count": null,
   "metadata": {},
   "outputs": [],
   "source": [
    "#-------------------------#\n",
    "#    Écrire le code ici   #\n",
    "#-------------------------#\n",
    "\n",
    "\n"
   ]
  },
  {
   "cell_type": "markdown",
   "metadata": {
    "deletable": false,
    "editable": false,
    "run_control": {
     "frozen": true
    }
   },
   "source": [
    "### Question 2\n",
    "\n",
    "Définir une fonction `test_nbs` qui correspond au test unitaire de la fonction `nbs`. Vérifier que la fonction de la Question 1 satisfait tous les tests."
   ]
  },
  {
   "cell_type": "code",
   "execution_count": null,
   "metadata": {},
   "outputs": [],
   "source": [
    "#-------------------------#\n",
    "#    Écrire le code ici   #\n",
    "#-------------------------#\n",
    "\n",
    "\n"
   ]
  },
  {
   "cell_type": "markdown",
   "metadata": {},
   "source": [
    "### Exercice 5 : Série harmonique**\n",
    "La série harmonique est la série définie pour tout $n >$ 0 par: \n",
    "$$H_n= 1 + \\frac12 + \\frac13 + \\frac14 + \\cdots + \\frac1n$$\n",
    "\n",
    "#### Question 1\n",
    "Définir la fonction `harmonique` prenant en paramètre un entier n et retournant la valeur $H_n$ (la fonction retournera `-1` si $n$ est négatif ou nul)."
   ]
  },
  {
   "cell_type": "code",
   "execution_count": null,
   "metadata": {},
   "outputs": [],
   "source": [
    "#-------------------------#\n",
    "#    Écrire le code ici   #\n",
    "#-------------------------#\n",
    "\n",
    "\n"
   ]
  },
  {
   "cell_type": "markdown",
   "metadata": {
    "deletable": false,
    "editable": false,
    "run_control": {
     "frozen": true
    }
   },
   "source": [
    "#### Question 2\n",
    "\n",
    "Définir une fonction de tests unitaire de la fonction `harmonique` sachant que : \n",
    "* $H_5 = 2.283333333333333$,\n",
    "* $H_{20} = 3.597739657143682$.\n",
    "\n",
    "**Attention :** La comparaison porte sur des flottants ici."
   ]
  },
  {
   "cell_type": "code",
   "execution_count": null,
   "metadata": {},
   "outputs": [],
   "source": [
    "#-------------------------#\n",
    "#    Écrire le code ici   #\n",
    "#-------------------------#\n",
    "\n",
    "\n"
   ]
  },
  {
   "cell_type": "markdown",
   "metadata": {},
   "source": [
    "# Pour aller plus loin"
   ]
  },
  {
   "cell_type": "markdown",
   "metadata": {
    "deletable": false,
    "editable": false,
    "run_control": {
     "frozen": true
    }
   },
   "source": [
    "### Exercice 6 : Année bissextile**"
   ]
  },
  {
   "cell_type": "markdown",
   "metadata": {
    "deletable": false,
    "editable": false,
    "run_control": {
     "frozen": true
    }
   },
   "source": [
    "#### Question 1\n",
    "\n",
    "Définir la fonction `estBissextile` qui retourne `True` si l'année passée en paramètre correspond à une année bissextile, et `False` sinon.\n",
    "\n",
    "**Remarque :** Une année est bissextile si \n",
    "* elle est divisible par 4\n",
    "* mais n'est pas divible par 100\n",
    "* sauf si elle est divisible par 400\n",
    "\n",
    "Ainsi 2008 était bissextile, 1900 n'était pas bissextile et 2000 était bissextile."
   ]
  },
  {
   "cell_type": "code",
   "execution_count": null,
   "metadata": {},
   "outputs": [],
   "source": [
    "#-------------------------#\n",
    "#    Écrire le code ici   #\n",
    "#-------------------------#\n",
    "\n",
    "\n"
   ]
  },
  {
   "cell_type": "markdown",
   "metadata": {
    "deletable": false,
    "editable": false,
    "run_control": {
     "frozen": true
    }
   },
   "source": [
    "#### Question 2\n",
    "\n",
    "Vérifier que la fonction `estBissextile` définie à la Question 1 satisfait les tests unitaires suivants."
   ]
  },
  {
   "cell_type": "code",
   "execution_count": null,
   "metadata": {
    "deletable": false,
    "editable": false
   },
   "outputs": [],
   "source": [
    "def test_estBissextile():\n",
    "    assert estBissextile(2008)\n",
    "    assert estBissextile(2000)\n",
    "    assert not estBissextile(1002)\n",
    "    assert not estBissextile(1900)\n",
    "    print(\"Test de la fonction estBissextile : ok\")\n",
    "\n",
    "\n",
    "test_estBissextile()"
   ]
  },
  {
   "cell_type": "markdown",
   "metadata": {
    "deletable": false,
    "editable": false,
    "run_control": {
     "frozen": true
    }
   },
   "source": [
    "### Exercice 7 : Nombre de jours dans un mois**"
   ]
  },
  {
   "cell_type": "markdown",
   "metadata": {
    "deletable": false,
    "editable": false,
    "run_control": {
     "frozen": true
    }
   },
   "source": [
    "#### Question 1\n",
    "\n",
    "Définir la fonction `nbjours` prenant en paramètre un numéro de mois (entre 1 et 12), ainsi qu'une année et retournant le nombre de jours dans le mois.\n",
    "\n",
    "**Rappel :**\n",
    "* Janvier, mars, mai, juillet, août, octobre et décembre contiennent 31 jours.\n",
    "* Février contient 29 jours pour les années bissextiles et 28 jours sinon.\n",
    "* Avril, juin, septembre et novembre contiennent 30 jours.\n",
    "\n",
    "**Remarques :**\n",
    "* La fonction retournera -1 si le mois n'est pas valide.\n",
    "* On utilisera la fonction `estBissextile` pour déterminer si l'année passée en paramètre est bissextile."
   ]
  },
  {
   "cell_type": "code",
   "execution_count": null,
   "metadata": {},
   "outputs": [],
   "source": [
    "#-------------------------#\n",
    "#    Écrire le code ici   #\n",
    "#-------------------------#\n",
    "\n",
    "\n"
   ]
  },
  {
   "cell_type": "markdown",
   "metadata": {
    "deletable": false,
    "editable": false,
    "run_control": {
     "frozen": true
    }
   },
   "source": [
    "#### Question 2\n",
    "\n",
    "Vérifier que la fonction `nbjours` définie à la Question 1 satisfait les tests unitaires suivants."
   ]
  },
  {
   "cell_type": "code",
   "execution_count": null,
   "metadata": {
    "deletable": false,
    "editable": false
   },
   "outputs": [],
   "source": [
    "def test_nbjours():\n",
    "    assert nbjours(1,1900) == 31\n",
    "    assert nbjours(2,1900) == 28\n",
    "    assert nbjours(2,2000) == 29\n",
    "    assert nbjours(3,1900) == 31\n",
    "    assert nbjours(4,1900) == 30\n",
    "    assert nbjours(5,1900) == 31\n",
    "    assert nbjours(6,1900) == 30\n",
    "    assert nbjours(1,1900) == 31\n",
    "    assert nbjours(1,1900) == 31\n",
    "    assert nbjours(9,1900) == 30\n",
    "    assert nbjours(10,1900) == 31\n",
    "    assert nbjours(11,1900) == 30\n",
    "    assert nbjours(12,1900) == 31\n",
    "    print(\"test de la fonction nbjours : ok\")\n",
    "test_nbjours()"
   ]
  },
  {
   "cell_type": "markdown",
   "metadata": {
    "deletable": false,
    "editable": false,
    "run_control": {
     "frozen": true
    }
   },
   "source": [
    "## Exercice 8 : Date valide*\n",
    "\n",
    "### Question 1\n",
    "\n",
    "Définir la fonction `estDateValide` prenant en paramètre une date (définie par 3 entiers : jours, mois, années) et retournant `True` si la date est valide, et `False` sinon.\n",
    "\n",
    "**Remarque :** on utilisera la fonction `nbjours` de l'exercice précédent pour vérifier si le mois passé en paramètre est correct."
   ]
  },
  {
   "cell_type": "code",
   "execution_count": null,
   "metadata": {},
   "outputs": [],
   "source": [
    "#-------------------------#\n",
    "#    Écrire le code ici   #\n",
    "#-------------------------#\n",
    "\n"
   ]
  },
  {
   "cell_type": "markdown",
   "metadata": {
    "deletable": false,
    "editable": false,
    "run_control": {
     "frozen": true
    }
   },
   "source": [
    "### Question 2\n",
    "\n",
    "Vérifier que la fonction définie à la Question 1 satisfait les tests unitaires suivants."
   ]
  },
  {
   "cell_type": "code",
   "execution_count": null,
   "metadata": {
    "deletable": false,
    "editable": false
   },
   "outputs": [],
   "source": [
    "def test_estDateValide():\n",
    "    assert estDateValide(1,1,1970)\n",
    "    assert estDateValide(1,1,-1)\n",
    "    assert estDateValide(1,1,0)\n",
    "    assert estDateValide(31,1,1970)\n",
    "    assert estDateValide(28,2,1970)\n",
    "    assert estDateValide(29,2,2000)\n",
    "    assert not estDateValide(29,2,2001)\n",
    "    assert not estDateValide(-1,1,2000)\n",
    "    assert estDateValide(31,12,2000)\n",
    "    assert not estDateValide(31,11,2000)\n",
    "    print(\"Test de la fonction estDateValide : ok\")\n",
    "\n",
    "test_estDateValide()"
   ]
  },
  {
   "cell_type": "markdown",
   "metadata": {
    "deletable": false,
    "editable": false,
    "run_control": {
     "frozen": true
    }
   },
   "source": [
    "### Exercice 9 : Nombre de jours depuis le 1er janvier 1970***"
   ]
  },
  {
   "cell_type": "markdown",
   "metadata": {
    "deletable": false,
    "editable": false,
    "run_control": {
     "frozen": true
    }
   },
   "source": [
    "#### Question 1\n",
    "\n",
    "Définir la fonction `jours1970` qui prend en paramètre une date et retourne le nombre de jours passés depuis le 1er janvier 1970. Si la date passée en paramètre n'est pas valide, la fonction retourne -1. Si la date est avant le 1er janvier 1970, alors la fonction renvoie un nombre négatif dont la valeur absolue est le nombre de jours depuis la date jusqu'au 01/01/1970."
   ]
  },
  {
   "cell_type": "code",
   "execution_count": null,
   "metadata": {},
   "outputs": [],
   "source": [
    "#-------------------------#\n",
    "#    Écrire le code ici   #\n",
    "#-------------------------#\n",
    "\n",
    "\n"
   ]
  },
  {
   "cell_type": "markdown",
   "metadata": {
    "deletable": false,
    "editable": false,
    "run_control": {
     "frozen": true
    }
   },
   "source": [
    "### Question 2\n",
    "\n",
    "Vérifier que la fonction définie à la Question 1 satisfait les tests unitaires suivants."
   ]
  },
  {
   "cell_type": "code",
   "execution_count": null,
   "metadata": {
    "deletable": false,
    "editable": false
   },
   "outputs": [],
   "source": [
    "def test_jours1970():\n",
    "    assert jours1970(1, 1, 1970) == 0\n",
    "    assert jours1970(2, 1, 1970) == 1\n",
    "    assert jours1970(1, 2, 1970) == 31\n",
    "    assert jours1970(1, 1, 1971) == 365\n",
    "    assert jours1970(1, 1, 1975) == 365 * 5 + 1\n",
    "    assert jours1970(31, 12, 1969) == -1\n",
    "    assert jours1970(1, 12, 1969) == -31\n",
    "    assert jours1970(31, 12, 1968) == -366\n",
    "    print(\"Test de la fonction jours1970 : ok\")\n",
    "\n",
    "\n",
    "test_jours1970()"
   ]
  },
  {
   "cell_type": "markdown",
   "metadata": {},
   "source": [
    "## Exercice 10 : Timestamp*\n",
    "\n",
    "En informatique, pour comparer des dates, on utilise le *timestamp*. Un timestamp correspond au temps écoulé depuis un événement précis (qui sert alors de référence). Sur les systèmes UNIX, le timestamp correspond au nombre de secondes écoulées depuis le 1er janvier 1970 à minuit.\n",
    "\n",
    "### Question 1 \n",
    "\n",
    "Définir la fonction `timestamp` qui prend en paramètre une date et une heure, et retourne le nombre de secondes écoulées par rapport au 1er janvier 1970 si la date est valide et -1 sinon."
   ]
  },
  {
   "cell_type": "code",
   "execution_count": null,
   "metadata": {},
   "outputs": [],
   "source": [
    "#-------------------------#\n",
    "#    Écrire le code ici   #\n",
    "#-------------------------#\n",
    "\n",
    "\n"
   ]
  },
  {
   "cell_type": "markdown",
   "metadata": {
    "deletable": false,
    "editable": false,
    "run_control": {
     "frozen": true
    }
   },
   "source": [
    "### Question 2 : \n",
    "\n",
    "Vérifier que la fonction définie à la Question 1 satisafait les tests unitaires suivants."
   ]
  },
  {
   "cell_type": "code",
   "execution_count": null,
   "metadata": {
    "deletable": false,
    "editable": false
   },
   "outputs": [],
   "source": [
    "def test_timestamp():\n",
    "    assert timestamp(1,1,1970,0,0,0) == 0\n",
    "    assert timestamp(1,1,2019,12,0,0) == 1546344000\n",
    "    assert timestamp(1, 1, 1969, 0, 0, 0) == -31536000\n",
    "    assert timestamp(1, 1, 1949, 0, 0, 0) == -662688000\n",
    "    assert timestamp(1, 1, 1948, 0, 0, 0) == -694310400 \n",
    "    assert timestamp(2, 1, 1948, 0, 0, 0) == -694224000 \n",
    "    assert timestamp(1, 6, 1948, 0, 0, 0) ==-681177600\n",
    "    assert timestamp(10,12,1948,0,0,0) == -664588800 \n",
    "    assert timestamp(10,12,1948,14,10,20) == -664537780 \n",
    "    print(\"Test de la fonction timestamp : ok\")\n",
    "\n",
    "\n",
    "test_timestamp()"
   ]
  }
 ],
 "metadata": {
  "@webio": {
   "lastCommId": "33501acee62340cc8787ddf30103c525",
   "lastKernelId": "f92b5499-839b-4a7d-8776-e2ab3a69f978"
  },
  "kernelspec": {
   "display_name": "Python 3 (ipykernel)",
   "language": "python",
   "name": "python3"
  },
  "language_info": {
   "codemirror_mode": {
    "name": "ipython",
    "version": 3
   },
   "file_extension": ".py",
   "mimetype": "text/x-python",
   "name": "python",
   "nbconvert_exporter": "python",
   "pygments_lexer": "ipython3",
   "version": "3.11.4"
  },
  "latex_envs": {
   "LaTeX_envs_menu_present": true,
   "autoclose": false,
   "autocomplete": true,
   "bibliofile": "biblio.bib",
   "cite_by": "apalike",
   "current_citInitial": 1,
   "eqLabelWithNumbers": true,
   "eqNumInitial": 1,
   "hotkeys": {
    "equation": "Ctrl-E",
    "itemize": "Ctrl-I"
   },
   "labels_anchors": false,
   "latex_user_defs": false,
   "report_style_numbering": false,
   "user_envs_cfg": false
  },
  "toc": {
   "base_numbering": 1,
   "nav_menu": {},
   "number_sections": true,
   "sideBar": true,
   "skip_h1_title": true,
   "title_cell": "Table des matières",
   "title_sidebar": "Table des matières",
   "toc_cell": false,
   "toc_position": {},
   "toc_section_display": true,
   "toc_window_display": true
  },
  "varInspector": {
   "cols": {
    "lenName": 16,
    "lenType": 16,
    "lenVar": 40
   },
   "kernels_config": {
    "python": {
     "delete_cmd_postfix": "",
     "delete_cmd_prefix": "del ",
     "library": "var_list.py",
     "varRefreshCmd": "print(var_dic_list())"
    },
    "r": {
     "delete_cmd_postfix": ") ",
     "delete_cmd_prefix": "rm(",
     "library": "var_list.r",
     "varRefreshCmd": "cat(var_dic_list()) "
    }
   },
   "types_to_exclude": [
    "module",
    "function",
    "builtin_function_or_method",
    "instance",
    "_Feature"
   ],
   "window_display": false
  }
 },
 "nbformat": 4,
 "nbformat_minor": 2
}
