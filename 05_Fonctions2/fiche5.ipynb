{
 "cells": [
  {
   "cell_type": "markdown",
   "metadata": {
    "deletable": false,
    "editable": false,
    "run_control": {
     "frozen": true
    }
   },
   "source": [
    "# <center>Chapitre 5 : Fonctions (suite)</center>"
   ]
  },
  {
   "cell_type": "markdown",
   "metadata": {},
   "source": [
    "## Définition et appel"
   ]
  },
  {
   "cell_type": "markdown",
   "metadata": {
    "deletable": false,
    "editable": false,
    "run_control": {
     "frozen": true
    }
   },
   "source": [
    "Il est possible pour une fonction de <em style=\"color:red\">retourner</em> une valeur, c'est-à-dire de transmettre une valeur au programme appelant qui pourra l'utiliser après appel de la fonction.\n",
    "Retourner une valeur se fait à l'aide de `return` suivi de la valeur à retourner."
   ]
  },
  {
   "cell_type": "markdown",
   "metadata": {
    "deletable": false,
    "editable": false,
    "run_control": {
     "frozen": true
    }
   },
   "source": [
    "```python\n",
    "def nom_fonction(parametre1, parametre2, ..., parametrek) :\n",
    "    # algorithme de la fonction\n",
    "    \n",
    "    return resultat_a_retourner\n",
    "\n",
    "# appel où la valeur retournée est stockée dans la variable res\n",
    "res = nom_fonction(valeur1, valeur2, ..., valeurk)\n",
    "```\n",
    "\n",
    "**Remarques :** \n",
    "* Après l'exécution de l'appel d'une fonction, l'appel est remplacé dans le code du programme appelant par la valeur retournée par la fonction.\n",
    "* L'instruction `return` termine l'exécution du code de la fonction. Elle peut être utilisée sans être suivie d'une valeur (juste pour stopper l'exécution).\n",
    "* Une fonction ne retourne qu'une valeur. Si l'on souhaite retourner plusieurs valeurs, on retourne un tableau (*cf.* Chapitre 9) ou un tuple (non abordé dans ce cours)."
   ]
  },
  {
   "cell_type": "code",
   "execution_count": null,
   "metadata": {
    "deletable": false,
    "editable": false
   },
   "outputs": [],
   "source": [
    "# définition d'une fonction calculant et retournant le périmètre d'un rectangle\n",
    "def perimetre_rectangle(L, l):\n",
    "    \"\"\"\n",
    "    Entrées : L longueur et l largeur du rectangle, de type float\n",
    "    Retourne le périmètre du rectangle en fonction de L et l.\n",
    "    \"\"\"\n",
    "    # le résultat est transmis au programme appelant\n",
    "    return 2 * (L + l) \n",
    "\n",
    "pr = perimetre_rectangle(5.2, 3.4) \n",
    "# pr contient la valeur 17.2 après appel de la fonction\n",
    "print(\"Le périmètre du rectangle est : \",pr)"
   ]
  },
  {
   "cell_type": "markdown",
   "metadata": {},
   "source": [
    "## Tests unitaires"
   ]
  },
  {
   "cell_type": "markdown",
   "metadata": {
    "deletable": false,
    "editable": false,
    "run_control": {
     "frozen": true
    }
   },
   "source": [
    "Un code contient généralement des bugs et les développeurs passent beaucoup de temps à tester/débugger leur code. Comme le nombre d'erreurs augmente avec la complexité d'un code, il est important de tester correctement chaque fonction. C'est ce que l'on appelle les *tests unitaires*.\n",
    "\n",
    "Pour créer des tests unitaires :\n",
    "\n",
    "* on crée une fonction de test pour chaque fonction que l'on définit. Par convention, le nom de la fonction de test d'une fonction `nomFonction` est `test_nomFonction`. La fonction de test ne prend aucun paramètre et ne retourne aucune valeur. \n",
    "* Les tests consistent à appeler la fonction avec des valeurs d'entrée pour lesquelles on connaît le résultat \n",
    "* Les tests entre la valeur attendue et la valeur retournée se font avec l'instruction `assert`. \n",
    "* La fonction de test se termine par l'affichage `Test de la fonction ... : ok`. \n",
    "* La fonction de tests est définie et appelée dans une même cellule du notebook."
   ]
  },
  {
   "cell_type": "code",
   "execution_count": null,
   "metadata": {
    "deletable": false,
    "editable": false
   },
   "outputs": [],
   "source": [
    "from math import *\n",
    "\n",
    "# Fonction de tests unitaires de la fonction perimetre_rectangle\n",
    "def test_perimetre_rectangle():\n",
    "    assert perimetre_rectangle(5, 2) == 14\n",
    "    assert perimetre_rectangle(0, 0) == 0\n",
    "    assert isclose(perimetre_rectangle(0.2, 0.1), 0.6)\n",
    "    print(\"Test de la fonction perimetre_rectangle : ok\")\n",
    "\n",
    "test_perimetre_rectangle()"
   ]
  },
  {
   "cell_type": "markdown",
   "metadata": {
    "deletable": false,
    "editable": false,
    "run_control": {
     "frozen": true
    }
   },
   "source": [
    "Ainsi, à chaque fois que l'on modifie la fonction `perimetre_rectangle`, on appelle la fonction `test_perimetre_rectangle` pour vérifier que `perimetre_rectangle` vérifie les tests unitaires."
   ]
  },
  {
   "cell_type": "markdown",
   "metadata": {
    "deletable": false,
    "editable": false,
    "run_control": {
     "frozen": true
    }
   },
   "source": [
    "**Important :** Tester des fonctions utilisant des saisies clavier ou des affichages écran est techniquement un peu complexe et ne sera pas vu dans ce cours. Pour tester ces fonctions, on écrira alors en commentaire la liste des saisies clavier à tester et/ou la liste des appels de fonction à tester en indiquant quels messages doivent être affichés à l'écran."
   ]
  },
  {
   "cell_type": "markdown",
   "metadata": {
    "deletable": false,
    "editable": false,
    "run_control": {
     "frozen": true
    }
   },
   "source": [
    "## Conception d'une fonction"
   ]
  },
  {
   "cell_type": "markdown",
   "metadata": {
    "deletable": false,
    "editable": false,
    "run_control": {
     "frozen": true
    }
   },
   "source": [
    "**Étape 1 :** *déterminer le rôle de la fonction.*\n",
    "\n",
    "* Il faut savoir ce que fait exactement la fonction, dans quel cadre elle sera utilisée, etc.\n",
    "* Il faut trouver un nom de fonction explicite.\n",
    "\n",
    "**Étape 2 :** *déterminer les paramètres et la valeur de retour.*\n",
    "\n",
    "* Il faut aussi déterminer les types des paramètres et de la valeur de retour (s'il y en a une).\n",
    "* Il faut écrire un exemple d'appel.\n",
    "* Il faut écrire l'en-tête et la docstring.\n",
    "\n",
    "**Étape 3 :** *écrire le corps de la fonction.*\n",
    "\n",
    "**Étape 4 :** *écrire la fonction de tests unitaires.*\n"
   ]
  },
  {
   "cell_type": "markdown",
   "metadata": {
    "deletable": false,
    "editable": false,
    "run_control": {
     "frozen": true
    }
   },
   "source": [
    "## Vocabulaire\n",
    "\n",
    "Valeur de retour, tests unitaires"
   ]
  }
 ],
 "metadata": {
  "@webio": {
   "lastCommId": "9740230f60844537b9ed1ac603f361bf",
   "lastKernelId": "300c5b43-6128-47cd-bf87-06bba98da16c"
  },
  "kernelspec": {
   "display_name": "Python 3 (ipykernel)",
   "language": "python",
   "name": "python3"
  },
  "language_info": {
   "codemirror_mode": {
    "name": "ipython",
    "version": 3
   },
   "file_extension": ".py",
   "mimetype": "text/x-python",
   "name": "python",
   "nbconvert_exporter": "python",
   "pygments_lexer": "ipython3",
   "version": "3.11.4"
  },
  "latex_envs": {
   "LaTeX_envs_menu_present": true,
   "autoclose": false,
   "autocomplete": true,
   "bibliofile": "biblio.bib",
   "cite_by": "apalike",
   "current_citInitial": 1,
   "eqLabelWithNumbers": true,
   "eqNumInitial": 1,
   "hotkeys": {
    "equation": "Ctrl-E",
    "itemize": "Ctrl-I"
   },
   "labels_anchors": false,
   "latex_user_defs": false,
   "report_style_numbering": false,
   "user_envs_cfg": false
  },
  "toc": {
   "base_numbering": 1,
   "nav_menu": {},
   "number_sections": true,
   "sideBar": true,
   "skip_h1_title": true,
   "title_cell": "Table des matières",
   "title_sidebar": "Table des matières",
   "toc_cell": false,
   "toc_position": {},
   "toc_section_display": true,
   "toc_window_display": false
  },
  "varInspector": {
   "cols": {
    "lenName": 16,
    "lenType": 16,
    "lenVar": 40
   },
   "kernels_config": {
    "python": {
     "delete_cmd_postfix": "",
     "delete_cmd_prefix": "del ",
     "library": "var_list.py",
     "varRefreshCmd": "print(var_dic_list())"
    },
    "r": {
     "delete_cmd_postfix": ") ",
     "delete_cmd_prefix": "rm(",
     "library": "var_list.r",
     "varRefreshCmd": "cat(var_dic_list()) "
    }
   },
   "types_to_exclude": [
    "module",
    "function",
    "builtin_function_or_method",
    "instance",
    "_Feature"
   ],
   "window_display": false
  }
 },
 "nbformat": 4,
 "nbformat_minor": 2
}
