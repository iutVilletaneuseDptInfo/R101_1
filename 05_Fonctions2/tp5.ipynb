{
 "cells": [
  {
   "cell_type": "markdown",
   "metadata": {
    "collapsed": true,
    "deletable": false,
    "editable": false,
    "run_control": {
     "frozen": true
    }
   },
   "source": [
    "# <center>Chapitre 5 : Fonctions (suite) - TP</center>"
   ]
  },
  {
   "cell_type": "markdown",
   "metadata": {
    "deletable": false,
    "editable": false,
    "run_control": {
     "frozen": true
    }
   },
   "source": [
    "### Exercie 1 : Conversion degré Celsius - Fahrenheit"
   ]
  },
  {
   "cell_type": "markdown",
   "metadata": {
    "deletable": false,
    "editable": false
   },
   "source": [
    "Pour mesurer une température, il existe plusieurs unités de mesure. Il est notamment possible de mesurer une température en degrés Celsius symbole : °C) ou en degré Farhenheit (symbole : °F). Les relations entre les deux températures sont les suivantes : \n",
    "\n",
    "$$T(°F) = \\frac{9}{5} * T(°C) + 32  \\quad \\text{  et  } \\quad T(°C) = \\frac{5}{9} * (T(°F) - 32)  $$\n"
   ]
  },
  {
   "cell_type": "markdown",
   "metadata": {
    "deletable": false,
    "editable": false,
    "run_control": {
     "frozen": true
    }
   },
   "source": [
    "#### Question 1\n",
    "\n",
    "Définir la fonction `Celsius2Fahrenheit` prenant en paramètre une température en degré Celsius et retournant cette température en degré Fahrenheit."
   ]
  },
  {
   "cell_type": "code",
   "execution_count": null,
   "metadata": {},
   "outputs": [],
   "source": [
    "#-------------------------#\n",
    "#    Écrire le code ici   #\n",
    "#-------------------------#\n",
    "\n",
    "\n"
   ]
  },
  {
   "cell_type": "markdown",
   "metadata": {
    "deletable": false,
    "editable": false,
    "run_control": {
     "frozen": true
    }
   },
   "source": [
    "#### Question 2\n",
    "\n",
    "Définir une fonction de tests unitaires pour la fonction `Celsius2Fahrenheit` et vérifier que votre fonction vérifie les tests."
   ]
  },
  {
   "cell_type": "code",
   "execution_count": null,
   "metadata": {},
   "outputs": [],
   "source": [
    "#-------------------------#\n",
    "#    Écrire le code ici   #\n",
    "#-------------------------#\n",
    "\n",
    "\n"
   ]
  },
  {
   "cell_type": "markdown",
   "metadata": {
    "deletable": false,
    "editable": false,
    "run_control": {
     "frozen": true
    }
   },
   "source": [
    "#### Question 3\n",
    "\n",
    "Définir la fonction `Fahrenheit2Celsius` prenant en paramètre une température en degré Fahrenheit et retournant cette température en degré Celsius."
   ]
  },
  {
   "cell_type": "code",
   "execution_count": null,
   "metadata": {},
   "outputs": [],
   "source": [
    "#-------------------------#\n",
    "#    Écrire le code ici   #\n",
    "#-------------------------#\n",
    "\n",
    "\n"
   ]
  },
  {
   "cell_type": "markdown",
   "metadata": {
    "deletable": false,
    "editable": false,
    "run_control": {
     "frozen": true
    }
   },
   "source": [
    "#### Question 4\n",
    "\n",
    "Définir une fonction de tests unitaires de la fonction `Fahrenheit2Celsius`."
   ]
  },
  {
   "cell_type": "code",
   "execution_count": null,
   "metadata": {},
   "outputs": [],
   "source": [
    "#-------------------------#\n",
    "#    Écrire le code ici   #\n",
    "#-------------------------#\n",
    "\n",
    "\n"
   ]
  },
  {
   "cell_type": "markdown",
   "metadata": {
    "deletable": false,
    "editable": false,
    "run_control": {
     "frozen": true
    }
   },
   "source": [
    "#### Question 5\n",
    "\n",
    "Ecrire un programme demandant à l'utilisateur de saisir une température et l'unité (°F ou °C), puis calculant et affichant cette température dans l'autre unité de mesure.\n",
    "\n",
    "Pour la saisie de l'unité de mesure, on effectuera une saisie répétée jusqu'à ce que l'utilisateur saisisse la lettre `C` ou la lettre `F`."
   ]
  },
  {
   "cell_type": "code",
   "execution_count": null,
   "metadata": {},
   "outputs": [],
   "source": [
    "#-------------------------#\n",
    "#    Écrire le code ici   #\n",
    "#-------------------------#\n",
    "\n",
    "\n"
   ]
  },
  {
   "cell_type": "markdown",
   "metadata": {
    "deletable": false,
    "editable": false,
    "run_control": {
     "frozen": true
    }
   },
   "source": [
    "### Exercice 2 : Saisies contrôlées*"
   ]
  },
  {
   "cell_type": "markdown",
   "metadata": {
    "deletable": false,
    "editable": false,
    "run_control": {
     "frozen": true
    }
   },
   "source": [
    "#### Question 1\n",
    "\n",
    "Définir la fonction `saisiePosNul` demandant la saisie d'un entier positif ou nul et répétant la saisie jusqu'à ce que ce nombre soit correct. La valeur saisie par l'utilisateur sera retournée par la fonction."
   ]
  },
  {
   "cell_type": "code",
   "execution_count": null,
   "metadata": {},
   "outputs": [],
   "source": [
    "#-------------------------#\n",
    "#    Écrire le code ici   #\n",
    "#-------------------------#\n",
    "\n",
    "\n"
   ]
  },
  {
   "cell_type": "markdown",
   "metadata": {
    "deletable": false,
    "editable": false,
    "run_control": {
     "frozen": true
    }
   },
   "source": [
    "#### Question 2\n",
    "\n",
    "Écrire un programme demandant la saisie (contrôlée à l'aide de la fonction précédente) de deux nombres positifs ou nuls et afficher leur somme."
   ]
  },
  {
   "cell_type": "code",
   "execution_count": null,
   "metadata": {},
   "outputs": [],
   "source": [
    "#-------------------------#\n",
    "#    Écrire le code ici   #\n",
    "#-------------------------#\n",
    "\n",
    "\n"
   ]
  },
  {
   "cell_type": "markdown",
   "metadata": {
    "deletable": false,
    "editable": false,
    "run_control": {
     "frozen": true
    }
   },
   "source": [
    "#### Question 3\n",
    "\n",
    "Définir la fonction `saisieIntervalle` permettant la saisie d'un entier compris dans un intervalle $[a,b]$ (Par exemple, saisie d'un entier compris entre 10 et 20)  et permettant d'effectuer des saisies jusqu'à ce que ce nombre soit correct. À chaque erreur, la fonction indiquera à l'utilisateur s'il doit saisir un nombre plus petit ou plus grand. \n",
    "\n",
    "**NB :** Les bornes `a`et `b` sont passées en paramètres à la fonction."
   ]
  },
  {
   "cell_type": "code",
   "execution_count": null,
   "metadata": {},
   "outputs": [],
   "source": [
    "#-------------------------#\n",
    "#    Écrire le code ici   #\n",
    "#-------------------------#\n",
    "\n",
    "\n"
   ]
  },
  {
   "cell_type": "markdown",
   "metadata": {
    "deletable": false,
    "editable": false,
    "run_control": {
     "frozen": true
    }
   },
   "source": [
    "#### Question 4\n",
    "\n",
    "Écrire un programme demandant à l'utilisateur de saisir un entier $n$ compris entre 1 et 3 (saisie contrôlée), puis $n$ nombres positifs ou nuls et affichant le produit des ces nombres. #### "
   ]
  },
  {
   "cell_type": "code",
   "execution_count": null,
   "metadata": {},
   "outputs": [],
   "source": [
    "#-------------------------#\n",
    "#    Écrire le code ici   #\n",
    "#-------------------------#\n",
    "\n",
    "\n"
   ]
  },
  {
   "cell_type": "markdown",
   "metadata": {
    "deletable": false,
    "editable": false,
    "run_control": {
     "frozen": true
    }
   },
   "source": [
    "### Exercice 3 : Calcul de $x^n$ quand $n$ est un entier*"
   ]
  },
  {
   "cell_type": "markdown",
   "metadata": {},
   "source": [
    "#### Question 1\n",
    "\n",
    "Définir la fonction `puissancePos` qui prend en paramètre un nombre $x$ et un entier **positif** $n$ et retourne la valeur $x^n$. Le calcul se fera sans utiliser l'opérateur `**`.\n",
    "\n",
    "**Remarque :** La fonction retournera 0 si l'entier passé en paramètre n'est pas positif."
   ]
  },
  {
   "cell_type": "code",
   "execution_count": null,
   "metadata": {},
   "outputs": [],
   "source": [
    "#-------------------------#\n",
    "#    Écrire le code ici   #\n",
    "#-------------------------#\n",
    "\n",
    "\n"
   ]
  },
  {
   "cell_type": "markdown",
   "metadata": {},
   "source": [
    "#### Question 2\n",
    "\n",
    "Vérifier que la fonction satisfait les tests unitaires suivants."
   ]
  },
  {
   "cell_type": "code",
   "execution_count": null,
   "metadata": {
    "deletable": false,
    "editable": false
   },
   "outputs": [],
   "source": [
    "from math import *\n",
    "\n",
    "def test_puissancePos() :\n",
    "    assert puissancePos(2,3)==8\n",
    "    assert isclose(puissancePos(2.5,3), 15.625)\n",
    "    assert puissancePos(-2,3)== -8\n",
    "    assert puissancePos(-2,1)== -2\n",
    "    assert puissancePos(-2,2)== 4\n",
    "    assert puissancePos(34,0)== 1\n",
    "    assert puissancePos(34,1)== 34\n",
    "    assert puissancePos(34,-3)==0\n",
    "    print(\"Test de la fonction puissancePos : ok\")\n",
    "\n",
    "test_puissancePos()"
   ]
  },
  {
   "cell_type": "markdown",
   "metadata": {
    "deletable": false,
    "editable": false,
    "run_control": {
     "frozen": true
    }
   },
   "source": [
    "#### Question 3 \n",
    "\n",
    "Définir la fonction `puissance` qui prend en paramètre un entier $n$ et retourne la valeur $x^n$. \n",
    "\n",
    "**Rappel :** \n",
    "$$x^{-n} = \\frac{1}{x^n}$$"
   ]
  },
  {
   "cell_type": "code",
   "execution_count": null,
   "metadata": {},
   "outputs": [],
   "source": [
    "#-------------------------#\n",
    "#    Écrire le code ici   #\n",
    "#-------------------------#\n",
    "\n",
    "\n"
   ]
  },
  {
   "cell_type": "markdown",
   "metadata": {},
   "source": [
    "#### Question 4\n",
    "\n",
    "Vérifier que la fonction `puissance` vérifie les tests unitaires suivants."
   ]
  },
  {
   "cell_type": "code",
   "execution_count": null,
   "metadata": {
    "deletable": false,
    "editable": false
   },
   "outputs": [],
   "source": [
    "from math import *\n",
    "\n",
    "def test_puissance() :\n",
    "    assert puissance(2,3)==8\n",
    "    assert isclose(puissance(2.5,3), 15.625)\n",
    "    assert puissance(-2,3)== -8\n",
    "    assert puissance(-2,1)== -2\n",
    "    assert puissance(-2,2)== 4\n",
    "    assert puissance(34,0)== 1\n",
    "    assert puissance(34,1)== 34\n",
    "    assert isclose(puissance(15,-2), 1. / 225.)\n",
    "    assert isclose(puissance(-15,-2),1. /225.)\n",
    "    assert isclose(puissance(-15,-3),-0.0002962962962962963)\n",
    "    print(\"Test de la fonction puissance : ok\")\n",
    "\n",
    "test_puissance()"
   ]
  },
  {
   "cell_type": "markdown",
   "metadata": {},
   "source": [
    "### Exercice 4 : Calcul du PGCD**\n",
    "L'algorithme d'Euclide calculant le plus grand diviseur commun PGCD de deux nombres entiers strictement positifs peut être décrit comme suit : \"*tant que les 2 nombres sont différents soustraire le plus petit du plus grand. Une fois égaux, afficher l'un d'eux : c'est le PGCD.*\" \n",
    "\n",
    "**Remarque :**  Le PGCD ne dépend pas du signe des nombres passés en paramètre. \n",
    "\n",
    "Par exemple, PGCD(-5,-3) = PGCD(5,3). De plus, PGCD(0,x) = PGCD(x,0) = x pour tout entier x.\n",
    "\n",
    "#### Question 1 : \n",
    "Faire tourner cet algorithme sur papier avec les entiers 18 et 14."
   ]
  },
  {
   "cell_type": "markdown",
   "metadata": {},
   "source": [
    "**REPONSE :**"
   ]
  },
  {
   "cell_type": "markdown",
   "metadata": {
    "deletable": false,
    "editable": false,
    "run_control": {
     "frozen": true
    }
   },
   "source": [
    "#### Question 2 : \n",
    "Définir la fonction `pgcd` qui calcule et retourne le PGCD de deux arguments entiers."
   ]
  },
  {
   "cell_type": "code",
   "execution_count": null,
   "metadata": {},
   "outputs": [],
   "source": [
    "#-------------------------#\n",
    "#    Écrire le code ici   #\n",
    "#-------------------------#\n",
    "\n",
    "\n"
   ]
  },
  {
   "cell_type": "markdown",
   "metadata": {
    "deletable": false,
    "editable": false,
    "run_control": {
     "frozen": true
    }
   },
   "source": [
    "#### Question 3 :\n",
    "Vérifier que la fonction `pgcd` satisfait les tests unitaires suivants."
   ]
  },
  {
   "cell_type": "code",
   "execution_count": null,
   "metadata": {
    "deletable": false,
    "editable": false
   },
   "outputs": [],
   "source": [
    "def test_pgcd() :\n",
    "    assert pgcd(8,14) == 2\n",
    "    assert pgcd(-8,-14) == 2\n",
    "    assert pgcd(8,-14) == 2\n",
    "    assert pgcd(-8,14) == 2\n",
    "    assert pgcd(25, 100) == 25\n",
    "    assert pgcd(100, 20) == 20\n",
    "    assert pgcd(23, 14) == 1    \n",
    "    assert pgcd(25, 0) == 25\n",
    "    assert pgcd(0, 100) == 100\n",
    "    print(\"Test de la fonction pgcd : ok\")\n",
    "\n",
    "# algorithme principal\n",
    "test_pgcd()"
   ]
  },
  {
   "cell_type": "markdown",
   "metadata": {
    "deletable": false,
    "editable": false,
    "run_control": {
     "frozen": true
    }
   },
   "source": [
    "### Exercice 5 : Calcul d'intégrale par la méthode des trapèzes***"
   ]
  },
  {
   "cell_type": "markdown",
   "metadata": {
    "deletable": false,
    "editable": false,
    "run_control": {
     "frozen": true
    }
   },
   "source": [
    "### Question 1\n",
    "\n",
    "Définir la fonction `trapeze` calculant l'aire d'un trapèze. :\n",
    "\n",
    "**Rappel :** un trapèze est un quadrilatère avec deux côtés parallèles appelés *grande base* et *petite base*. La *hauteur* d'un trapèze est la distance entre les deux bases. L'aire d'un trapèze est donnée par :\n",
    "$$ \\frac{(B + b)}{2} * h$$\n",
    "où :\n",
    "* $B$ est la longueur de la grande base,\n",
    "* $b$ est la longueur de la petite base,\n",
    "* $h$ est la hauteur du trapèze."
   ]
  },
  {
   "cell_type": "code",
   "execution_count": null,
   "metadata": {},
   "outputs": [],
   "source": [
    "#-------------------------#\n",
    "#    Écrire le code ici   #\n",
    "#-------------------------#\n",
    "\n",
    "\n"
   ]
  },
  {
   "cell_type": "markdown",
   "metadata": {
    "deletable": false,
    "editable": false,
    "run_control": {
     "frozen": true
    }
   },
   "source": [
    "#### Question 2 \n",
    "\n",
    "L'intégrale d'une fonction continue $f(x)$ sur un intervalle $[a,b]$ correspond à l'aire délimitée par $f(x)$ et les  droites d'équation $x = a$, $x = b$ et $y = 0$ (*cf.* [figure](https://fr.wikipedia.org/wiki/Int%C3%A9gration_(math%C3%A9matiques)#/media/Fichier:Aire_sous_la_courbe.svg) et page Wikipedia pour plus d'information).\n",
    "\n",
    "On souhaite calculer l'intégrale d'un fonction $f(x)$ sur un intervalle $[a,b]$ en utilisant la méthode des trapèzes. Cette méthode consiste à découper l'intervalle $[a,b]$ en $n$ segments de même taille $h=(b-a)/n$ appelés pas. On approxime alors l'aire entre chaque segment et la courbe comme l'aire d'un trapèze (*cf.* [figure](https://commons.wikimedia.org/wiki/File:Integration_num_trapezes_notation.svg?uselang=fr)\n",
    "associée):\n",
    "\n",
    "$$aire = \\sum_{i=0}^{n-1} \\frac{f(a+i*h) + f(a+(i+1)*h)}{2} * h$$\n",
    "\n",
    "1. Définir la fonction `f` prenant en paramètre une valeur $x$ et retournant la valeur de la fonction $f(x)$ que l'on souhaite intégrer. On peut prendre par exemple la fonction $f(x) = x^3$.\n",
    "\n",
    "2. Définir ensuite la fonction `integrale` prenant en paramètre les limites de l'intervalle `a` et `b` ainsi que le nombre `n` de segments utilisés pour le calcul de l'intégrale. \n",
    "\n",
    "3. Vérifier que l'intégrale de la fonction $f(x) = x^3$ sur l'intervalle \n",
    "$[2.5,5.6]$ est d'environ 236.0967750. Faire varier le nombre de segments utilisés pour le calcul de 10 en 10 (de 10 à 1 million)."
   ]
  },
  {
   "cell_type": "code",
   "execution_count": null,
   "metadata": {},
   "outputs": [],
   "source": [
    "#-------------------------#\n",
    "#    Écrire le code ici   #\n",
    "#-------------------------#\n",
    "\n",
    "\n"
   ]
  }
 ],
 "metadata": {
  "@webio": {
   "lastCommId": "a0281aa07fc24857942e72b2b7fd6b5b",
   "lastKernelId": "a05241b8-7c5b-48f2-9635-cb29b95f6d03"
  },
  "kernelspec": {
   "display_name": "Python 3 (ipykernel)",
   "language": "python",
   "name": "python3"
  },
  "language_info": {
   "codemirror_mode": {
    "name": "ipython",
    "version": 3
   },
   "file_extension": ".py",
   "mimetype": "text/x-python",
   "name": "python",
   "nbconvert_exporter": "python",
   "pygments_lexer": "ipython3",
   "version": "3.11.4"
  },
  "latex_envs": {
   "LaTeX_envs_menu_present": true,
   "autoclose": false,
   "autocomplete": true,
   "bibliofile": "biblio.bib",
   "cite_by": "apalike",
   "current_citInitial": 1,
   "eqLabelWithNumbers": true,
   "eqNumInitial": 1,
   "hotkeys": {
    "equation": "Ctrl-E",
    "itemize": "Ctrl-I"
   },
   "labels_anchors": false,
   "latex_user_defs": false,
   "report_style_numbering": false,
   "user_envs_cfg": false
  },
  "toc": {
   "base_numbering": 1,
   "nav_menu": {},
   "number_sections": true,
   "sideBar": true,
   "skip_h1_title": true,
   "title_cell": "Table des matières",
   "title_sidebar": "Table des matières",
   "toc_cell": false,
   "toc_position": {},
   "toc_section_display": true,
   "toc_window_display": true
  },
  "varInspector": {
   "cols": {
    "lenName": 16,
    "lenType": 16,
    "lenVar": 40
   },
   "kernels_config": {
    "python": {
     "delete_cmd_postfix": "",
     "delete_cmd_prefix": "del ",
     "library": "var_list.py",
     "varRefreshCmd": "print(var_dic_list())"
    },
    "r": {
     "delete_cmd_postfix": ") ",
     "delete_cmd_prefix": "rm(",
     "library": "var_list.r",
     "varRefreshCmd": "cat(var_dic_list()) "
    }
   },
   "types_to_exclude": [
    "module",
    "function",
    "builtin_function_or_method",
    "instance",
    "_Feature"
   ],
   "window_display": false
  }
 },
 "nbformat": 4,
 "nbformat_minor": 2
}
