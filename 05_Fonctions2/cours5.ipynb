{
 "cells": [
  {
   "cell_type": "markdown",
   "metadata": {
    "deletable": false,
    "editable": false,
    "run_control": {
     "frozen": true
    }
   },
   "source": [
    "# <center>Chapitre 5 : Fonctions (suite)</center>"
   ]
  },
  {
   "cell_type": "markdown",
   "metadata": {
    "deletable": false,
    "editable": false,
    "run_control": {
     "frozen": true
    }
   },
   "source": [
    "## Fonctions avec une valeur de retour"
   ]
  },
  {
   "cell_type": "markdown",
   "metadata": {
    "deletable": false,
    "editable": false,
    "run_control": {
     "frozen": true
    }
   },
   "source": [
    "Il est possible pour une fonction de <em style=\"color:red\">retourner</em> une valeur, c'est-à-dire de transmettre une valeur au programme appelant qui pourra l'utiliser (dans un calcul, pour affecter une variable, etc) après appel de la fonction.\n",
    "\n",
    "**Remarque :** On considère qu'une fonction ne peut retourner qu'une valeur. Si l'on veut qu'une fonction retourne plusieurs valeurs, on utilise alors un tableau (*cf.* Chapitre 9) ou un tuple (non abordé dans ce cours)."
   ]
  },
  {
   "cell_type": "markdown",
   "metadata": {
    "deletable": false,
    "editable": false,
    "run_control": {
     "frozen": true
    }
   },
   "source": [
    "### Définition\n",
    "\n",
    "Retourner une valeur se fait à l'aide de l'instruction `return`. Dans le corps de la fonction, on écrit le mot clé `return` suivi de la valeur que l'on souhaite retourner au programme appelant.\n",
    "\n",
    "\n",
    "```python\n",
    "def nom_fonction(parametre1, parametre2, ..., parametrek) :\n",
    "    # algorithme de la fonction\n",
    "    \n",
    "    return resultat_a_retourner\n",
    "```\n",
    "\n",
    "**Attention :** L'instruction `return` termine l'exécution du code de la fonction. C'est donc généralement la dernière instruction de la fonction. L'instruction `return` peut également être utilisée seule pour stopper l'exécution d'une fonction (la fonction ne retourne dans ce cas aucune valeur)."
   ]
  },
  {
   "cell_type": "markdown",
   "metadata": {
    "deletable": false,
    "editable": false,
    "run_control": {
     "frozen": true
    }
   },
   "source": [
    "### Appel"
   ]
  },
  {
   "cell_type": "markdown",
   "metadata": {
    "deletable": false,
    "editable": false,
    "run_control": {
     "frozen": true
    }
   },
   "source": [
    "Après l'exécution de l'appel d'une fonction, l'appel est remplacé dans le code du programme appelant par la valeur retournée par la fonction. Ainsi, pour récupérer la valeur retournée par la fonction `nom_fonction` et la stocker dans une variable `res`, on écrit :\n",
    "```python\n",
    "res = nom_fonction(valeur1, valeur2, ..., valeurk)\n",
    "```\n",
    "\n",
    "**Remarque :** La valeur retournée par la fonction n'est pas obligatoirement affectée à une variable. Cette valeur peut être affichée, utilisée dans un calcul, *etc*. Dans exemple suivant, la fonction `abs` est appelée deux fois et les valeurs retournées sont additionnées puis la somme est affichée : \n",
    "```python\n",
    "print(abs(-2) + abs(-3))\n",
    "```\n"
   ]
  },
  {
   "cell_type": "markdown",
   "metadata": {
    "deletable": false,
    "editable": false
   },
   "source": [
    "### Exemple"
   ]
  },
  {
   "cell_type": "code",
   "execution_count": null,
   "metadata": {
    "deletable": false,
    "editable": false
   },
   "outputs": [],
   "source": [
    "def perimetre_rectangle(longueur, largeur):\n",
    "    \"\"\"\n",
    "    Retourne le périmètre d'un rectangle.\n",
    "    longueur (entrée) : longueur du rectangle, de type float\n",
    "    largeur (entrée) : largeur du rectangle, de type float\n",
    "    valeur retournée : périmètre du rectangle, de type float\n",
    "    \"\"\"\n",
    "    perimetre = 2 * (longueur + largeur)\n",
    "    return perimetre \n",
    "    #le résultat est transmis au programme appelant\n",
    "\n",
    "\n",
    "pr = perimetre_rectangle(5.2, 3.4)\n",
    "print(\"Le périmètre du rectangle est : \",pr)"
   ]
  },
  {
   "cell_type": "markdown",
   "metadata": {
    "deletable": false,
    "editable": false,
    "run_control": {
     "frozen": true
    }
   },
   "source": [
    "Dans cet exemple, la fonction `perimetre_rectangle` est appelée avec les valeurs 5.2 et 3.4 pour les paramètres `longueur` et `largeur`. Elle calcule le périmètre et stocke sa valeur (17.2) dans la variable `perimetre`.  Avec l'instruction `return`, elle retourne la valeur contenue dans `perimetre` (soit 17.2) puis les variables locales de la fonction et les paramètres sont détruits (soit `longueur`, `largeur` et `perimetre`).\n",
    "\n",
    "Dans le programme appelant, la ligne 12 du code est évaluée comme : \n",
    "```python\n",
    "pr = 17.2\n",
    "```\n",
    "car l'appel de la fonction a été remplacé par la valeur retournée.\n",
    "\n",
    "**Remarque :** Exécuter le code avec `Python Tutor` permet de bien comprendre le processus."
   ]
  },
  {
   "cell_type": "markdown",
   "metadata": {
    "deletable": false,
    "editable": false,
    "run_control": {
     "frozen": true
    }
   },
   "source": [
    "**Remarque :** La valeur à retourner n'a pas besoin d'être stockée dans une variable pour être retournée. On aurait également pu définir la fonction `perimetre_rectangle` de cette manière :"
   ]
  },
  {
   "cell_type": "code",
   "execution_count": null,
   "metadata": {
    "deletable": false,
    "editable": false
   },
   "outputs": [],
   "source": [
    "def perimetre_rectangle(longueur, largeur):\n",
    "    \"\"\"\n",
    "    Retourne le périmètre d'un rectangle.\n",
    "    longueur (entrée) : longueur du rectangle, de type float\n",
    "    largeur (entrée) : largeur du rectangle, de type float\n",
    "    valeur retournée : le périmètre du rectangle, de type float\n",
    "    \"\"\"\n",
    "    return 2*(longueur + largeur)"
   ]
  },
  {
   "cell_type": "markdown",
   "metadata": {
    "deletable": false,
    "editable": false,
    "run_control": {
     "frozen": true
    }
   },
   "source": [
    "-  Sur ce thème : **Exercice 1 et Exercice 2 (Question 1), TD 5**"
   ]
  },
  {
   "cell_type": "markdown",
   "metadata": {},
   "source": [
    "### `None`"
   ]
  },
  {
   "cell_type": "markdown",
   "metadata": {},
   "source": [
    "`None` est défini comme la représentation de l'absence de valeur. \n",
    "\n",
    "`None` est  utilisé pour signifier l'achèvement d'une fonction sans retour."
   ]
  },
  {
   "cell_type": "code",
   "execution_count": null,
   "metadata": {
    "deletable": false,
    "editable": false
   },
   "outputs": [],
   "source": [
    "def somme1(a, b):\n",
    "    print(a + b)\n",
    "    return\n",
    "\n",
    "resultat = somme1(2,3) # l'exécution de la fonction affiche 5\n",
    "print(resultat)  # None\n",
    "  "
   ]
  },
  {
   "cell_type": "markdown",
   "metadata": {
    "deletable": false,
    "editable": false
   },
   "source": [
    "**NB** : Même en absence de l'instruction `return`, la fonction retourne par défaut la valeur `None`."
   ]
  },
  {
   "cell_type": "code",
   "execution_count": null,
   "metadata": {
    "deletable": false,
    "editable": false
   },
   "outputs": [],
   "source": [
    "def somme2(a, b):\n",
    "    print(a + b)\n",
    "\n",
    "resultat = somme2(2,3) # l'exécution de la fonction affiche 5\n",
    "print(resultat)  # None"
   ]
  },
  {
   "cell_type": "code",
   "execution_count": null,
   "metadata": {},
   "outputs": [],
   "source": [
    "def somme3(a,b):\n",
    "    s=a+b\n",
    "    return s\n",
    "\n",
    "resultat = somme3(2,3) \n",
    "print(resultat) "
   ]
  },
  {
   "cell_type": "markdown",
   "metadata": {
    "deletable": false,
    "editable": false,
    "run_control": {
     "frozen": true
    }
   },
   "source": [
    "## Tests unitaires"
   ]
  },
  {
   "cell_type": "markdown",
   "metadata": {},
   "source": [
    "Un code contient généralement des bugs et les développeurs passent beaucoup de temps à tester/débugger leur code. Comme le nombre d'erreurs augmente avec la complexité d'un code, il est important de tester correctement chaque partie/unité du code. Un code (écrit correctement !) étant découpé en beaucoup de fonctions, on considère une fonction comme l'unité du code. Pour tester un code, il faut tester toutes ses fonctions. C'est ce que l'on appelle les *tests unitaires*.\n",
    "\n",
    "\n",
    "Créer des tests unitaires n'est pas simple : il faut envisager tous les cas d'utilisation de la fonction et vérifier que celle-ci fonctionne correctement. Lorsque la fonction retourne une valeur, il faut appeler cette fonction avec des valeurs d'entrée pour lequel on connaît le résultat et vérifier que la fonction retourne le résultat attendu.\n",
    "\n",
    "Pour créer des tests unitaires, on crée une fonction de test pour chaque fonction que l'on définit. Par convention, le nom de la fonction de test d'une fonction `nomFonction` est `test_nomFonction`. La fonction de test ne prend aucun paramètre et ne retourne aucune valeur. Elle effectue plusieurs tests avec des valeurs d'entrée fixées et s'assure qu'à chaque test, la fonction retourne le résultat attendu. \n",
    "\n",
    "Chaque test est fait avec l'instruction `assert`. Elle affiche à la fin la phrase `Test de la fonction ... : ok`. On définit la fonction de tests et on appelle cette fonction dans une même cellule du notebook.\n",
    "\n",
    "#### La fonction `assert`\n",
    "\n",
    "- syntaxe :\n",
    "`assert condition, message`\n",
    "\n",
    "\n",
    "- la fonction `assert` permet de vérifier la validité d'une condition, et réagit différemment selon que cette dernière est vraie ou fausse :\n",
    "  - **si la condition est vraie** : l'appel de la fonction `assert` est totalement transparent ; le programme continue son déroulement ;\n",
    "  - **si la condition est fausse** : l'appel de la fonction`assert` engendre l'affichage d'un message d'erreur accompagné du message `message` et le déroulement du programme est arrêté.\n",
    "  \n",
    "\n",
    "Voici un exemple de fonction de tests unitaires de la fonction `perimetre_rectangle` : "
   ]
  },
  {
   "cell_type": "code",
   "execution_count": null,
   "metadata": {
    "deletable": false,
    "editable": false
   },
   "outputs": [],
   "source": [
    "from math import *\n",
    "\n",
    "\n",
    "def test_perimetre_rectangle():\n",
    "    assert perimetre_rectangle(1, 1) == 4, \"Il y a une erreur quand les paramètres sont des entiers\"\n",
    "    assert perimetre_rectangle(5, 2) == 14\n",
    "    assert perimetre_rectangle(0, 0) == 0, \"Il y a une erreur pour (0,0)\"\n",
    "    assert isclose(perimetre_rectangle(0.2, 0.1), 0.6), \"il y a une erreur quand les paramètres sont des floats\"\n",
    "    assert isclose(perimetre_rectangle(0.8, 1.4), 4.4)\n",
    "    print(\"Test de la fonction perimetre_rectangle : ok\")\n",
    "\n",
    "\n",
    "test_perimetre_rectangle()"
   ]
  },
  {
   "cell_type": "markdown",
   "metadata": {
    "deletable": false,
    "editable": false,
    "run_control": {
     "frozen": true
    }
   },
   "source": [
    "**Rappel :** Il faut absolument comparer les valeurs flottantes avec la fonction `math.isclose`. En effet, le test `perimetre_rectangle(0.2,0.1) == 0.6` aurait généré une erreur puisque `perimetre_rectangle(0.2,0.1)` est égal à 0.6000000000000001."
   ]
  },
  {
   "cell_type": "markdown",
   "metadata": {
    "deletable": false,
    "editable": false,
    "run_control": {
     "frozen": true
    }
   },
   "source": [
    "Ainsi, à chaque fois que l'on modifie la fonction `perimetre_rectangle`, on appelle la fonction `test_perimetre_rectangle` pour vérifier que `perimetre_rectangle` vérifie les tests unitaires."
   ]
  },
  {
   "cell_type": "markdown",
   "metadata": {
    "deletable": false,
    "editable": false,
    "run_control": {
     "frozen": true
    }
   },
   "source": [
    "**Important :** Tester des fonctions utilisant des saisies clavier ou des affichages écran est techniquement un peu complexe et ne sera pas vu dans ce cours. Pour tester ces fonctions, on écrira alors en commentaire la liste des saisies clavier à tester et/ou la liste des appels de fonction à tester en indiquant quels messages doivent être affichés à l'écran."
   ]
  },
  {
   "cell_type": "markdown",
   "metadata": {},
   "source": [
    "-  Sur ce thème : **Question 2 de l'Exercice 2 , TD 5**"
   ]
  },
  {
   "cell_type": "markdown",
   "metadata": {
    "deletable": false,
    "editable": false,
    "run_control": {
     "frozen": true
    }
   },
   "source": [
    "## Comment concevoir une fonction ?"
   ]
  },
  {
   "cell_type": "markdown",
   "metadata": {
    "deletable": false,
    "editable": false,
    "run_control": {
     "frozen": true
    }
   },
   "source": [
    "### Démarche \n",
    "\n",
    "Lors de la définition d'une fonction, il est préférable d'adopter la démarche suivante (dans cet ordre) :\n",
    "\n",
    "**Étape 1 :** *déterminer le rôle de la fonction.*\n",
    "* Il faut savoir ce que fait exactement la fonction, dans quel cadre elle sera utilisée, etc.\n",
    "* Il faut trouver un nom de fonction explicite.\n",
    "\n",
    "**Étape 2 :** *déterminer les paramètres et la valeur de retour.*\n",
    "* Il faut aussi déterminer les types des paramètres et de la valeur de retour (s'il y en a une).\n",
    "* Il faut écrire un exemple d'appel.\n",
    "* Il faut écrire l'en-tête et la docstring.\n",
    "\n",
    "**Étape 3 :** *écrire le corps de la fonction.*\n",
    "\n",
    "**Étape 4 :** *écrire la fonction de tests unitaires.*\n",
    "\n",
    "\n",
    "Les méthodes de développement TDD (*test driven development*) commencent par écrire la fonction de tests unitaires avant le corps de la fonction."
   ]
  },
  {
   "cell_type": "markdown",
   "metadata": {
    "deletable": false,
    "editable": false,
    "run_control": {
     "frozen": true
    }
   },
   "source": [
    "\n",
    "### Exemple\n",
    "\n",
    "On souhaite écrire une fonction qui, étant donné un intervalle, retourne la plus petite valeur absolue entière de cet intervalle. \n",
    "\n",
    "**Rappel :** La valeur absolue d'un nombre est sa valeur numérique sans tenir compte de son signe.  Ainsi `abs(5)` est égal à 5 et `abs(-42)` vaut 42.\n",
    "\n",
    "#### Étape 1 \n",
    "\n",
    "La fonction prend en entrée un intervalle et retourne la plus petite valeur absolue entière de cet intervalle.\n",
    "Par exemple :\n",
    "* pour l'intervalle $[2,8]$, la fonction doit retourner l'entier 2.\n",
    "* pour l'intervalle $[-2,8]$, la fonction doit retourner l'entier 0.\n",
    "* pour l'intervalle $[-8,-2]$, la fonction doit retourner l'entier 2.\n",
    "\n",
    "On appellera cette fonction `min_abs_intervalle`."
   ]
  },
  {
   "cell_type": "markdown",
   "metadata": {
    "deletable": false,
    "editable": false,
    "run_control": {
     "frozen": true
    }
   },
   "source": [
    "#### Étape 2\n",
    "\n",
    "\n",
    "La fonction doit prendre en entrée un intervalle. La fonction prendra donc en entrée deux valeurs entières `borne_min` et `borne_max` pour spécifier l'intervalle $[$ `borne_min`, `borne_max` $]$.\n",
    "\n",
    "Que se passe-t-il si `borne_min > borne_max` ? On retourne la valeur `None` signifiant aucune valeur en Python.\n",
    "\n",
    "La fonction retournera un entier (`int`) correspondant à la plus petite valeur de l'intervalle, ou `None` sinon.\n",
    "\n",
    "On peut écrire l'en-tête de la fonction avec la docstring :\n",
    "```python\n",
    "def min_abs_intervalle(borne_min, borne_max):\n",
    "    \"\"\"\n",
    "    Retourne l'entier de l'intervalle [borne_min, borne_max] \n",
    "    ayant la plus petite valeur absolue s'il existe, \n",
    "    et None sinon.\n",
    "    borne_min et borne_max sont des entiers.\n",
    "    \"\"\"\n",
    "    # Corps de la fonction\n",
    "```\n",
    "\n",
    "Un exemple d'appel de la fonction sera :\n",
    "\n",
    "```python\n",
    "entier_min  = min_abs_intervalle(2, 8) \n",
    "#entier_min doit être égal à 2 après l'appel de la fonction\n",
    "```"
   ]
  },
  {
   "cell_type": "markdown",
   "metadata": {},
   "source": [
    "#### Étape 3"
   ]
  },
  {
   "cell_type": "code",
   "execution_count": null,
   "metadata": {
    "deletable": false,
    "editable": false
   },
   "outputs": [],
   "source": [
    "def min_abs_intervalle(borne_min, borne_max):\n",
    "    \"\"\"\n",
    "    Retourne l'entier de l'intervalle [borne_min, borne_max] \n",
    "    ayant la plus petite valeur absolue s'il existe, \n",
    "    et None sinon.\n",
    "    borne_min et borne_max sont des flottants.\n",
    "    \"\"\"\n",
    "\n",
    "    if borne_min > borne_max:\n",
    "        val = None\n",
    "    elif borne_min >= 0:\n",
    "        val = borne_min\n",
    "    elif borne_max > 0:\n",
    "        val = 0\n",
    "    else:\n",
    "        val = -borne_max\n",
    "    return val"
   ]
  },
  {
   "cell_type": "markdown",
   "metadata": {
    "deletable": false,
    "editable": false,
    "run_control": {
     "frozen": true
    }
   },
   "source": [
    "#### Étape 4\n",
    "\n",
    "Il faut tester les 4 cas possibles (bornes positives, négatives et de signes distincts) ainsi que les cas limites (si les bornes sont égales, si l'intervalle est vide). On suppose par contre que l'utilisateur suit la documentation, c'est-à-dire qu'il va appeler la fonction avec des valeurs entières (il ne faut pas tester ce qui se passe si l'utilisateur appelle la fonction avec les valeurs `2.3` ou `\"234\"`)."
   ]
  },
  {
   "cell_type": "code",
   "execution_count": null,
   "metadata": {
    "deletable": false,
    "editable": false
   },
   "outputs": [],
   "source": [
    "def test_min_abs_intervalle():\n",
    "    assert min_abs_intervalle(8, 2) == None\n",
    "    assert min_abs_intervalle(8, 8) == 8\n",
    "    assert min_abs_intervalle(2, 8) == 2\n",
    "    assert min_abs_intervalle(-2, 8) == 0\n",
    "    assert min_abs_intervalle(-8, 2) == 0\n",
    "    assert min_abs_intervalle(-8, -2) == 2\n",
    "    print(\"Test de la fonction min_abs_intervalle : ok\")\n",
    "\n",
    "\n",
    "test_min_abs_intervalle()"
   ]
  },
  {
   "cell_type": "markdown",
   "metadata": {},
   "source": [
    "- Sur ce thème : **Exercices 3 à 5, TD 5**"
   ]
  }
 ],
 "metadata": {
  "@webio": {
   "lastCommId": "64e967f0599d45f5a0d2062ee86746cd",
   "lastKernelId": "b23a7f19-2af5-4a3a-b865-d302e5ddca03"
  },
  "kernelspec": {
   "display_name": "Python 3 (ipykernel)",
   "language": "python",
   "name": "python3"
  },
  "language_info": {
   "codemirror_mode": {
    "name": "ipython",
    "version": 3
   },
   "file_extension": ".py",
   "mimetype": "text/x-python",
   "name": "python",
   "nbconvert_exporter": "python",
   "pygments_lexer": "ipython3",
   "version": "3.11.4"
  },
  "latex_envs": {
   "LaTeX_envs_menu_present": true,
   "autoclose": false,
   "autocomplete": true,
   "bibliofile": "biblio.bib",
   "cite_by": "apalike",
   "current_citInitial": 1,
   "eqLabelWithNumbers": true,
   "eqNumInitial": 1,
   "hotkeys": {
    "equation": "Ctrl-E",
    "itemize": "Ctrl-I"
   },
   "labels_anchors": false,
   "latex_user_defs": false,
   "report_style_numbering": false,
   "user_envs_cfg": false
  },
  "toc": {
   "base_numbering": 1,
   "nav_menu": {},
   "number_sections": true,
   "sideBar": true,
   "skip_h1_title": true,
   "title_cell": "Table des matières",
   "title_sidebar": "Table des matières",
   "toc_cell": false,
   "toc_position": {},
   "toc_section_display": true,
   "toc_window_display": false
  },
  "varInspector": {
   "cols": {
    "lenName": 16,
    "lenType": 16,
    "lenVar": 40
   },
   "kernels_config": {
    "python": {
     "delete_cmd_postfix": "",
     "delete_cmd_prefix": "del ",
     "library": "var_list.py",
     "varRefreshCmd": "print(var_dic_list())"
    },
    "r": {
     "delete_cmd_postfix": ") ",
     "delete_cmd_prefix": "rm(",
     "library": "var_list.r",
     "varRefreshCmd": "cat(var_dic_list()) "
    }
   },
   "types_to_exclude": [
    "module",
    "function",
    "builtin_function_or_method",
    "instance",
    "_Feature"
   ],
   "window_display": false
  }
 },
 "nbformat": 4,
 "nbformat_minor": 2
}
