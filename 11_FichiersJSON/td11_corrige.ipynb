{
 "cells": [
  {
   "cell_type": "markdown",
   "metadata": {
    "deletable": false,
    "editable": false,
    "run_control": {
     "frozen": true
    }
   },
   "source": [
    "# <center> Chapitre 11 : Fichiers JSON - TD  Corrigé</center>"
   ]
  },
  {
   "cell_type": "markdown",
   "metadata": {
    "deletable": false,
    "editable": false,
    "run_control": {
     "frozen": true
    }
   },
   "source": [
    "### Exercice 1 : Test de compréhension*"
   ]
  },
  {
   "cell_type": "markdown",
   "metadata": {
    "deletable": false,
    "editable": false,
    "run_control": {
     "frozen": true
    }
   },
   "source": [
    "* On définit le dictionnaire suivant représentant des informations sur les loisirs d'une personne."
   ]
  },
  {
   "cell_type": "code",
   "execution_count": null,
   "metadata": {
    "deletable": false,
    "editable": false
   },
   "outputs": [],
   "source": [
    "personne = {'nom': 'Albert', \n",
    "            'âge': 37,\n",
    "            'email': 'albert99@gmail.com', \n",
    "            'loisirs': ['Sport', 'Cinéma', 'Lecture', 'Voyage']\n",
    "            }"
   ]
  },
  {
   "cell_type": "markdown",
   "metadata": {
    "deletable": false,
    "editable": false,
    "run_control": {
     "frozen": true
    },
    "solution2": "hidden",
    "solution2_first": true
   },
   "source": [
    "* Ecrire un programme qui permet de stocker ce dictionnaire dans un fichier `files/personne.json`."
   ]
  },
  {
   "cell_type": "code",
   "execution_count": null,
   "metadata": {
    "deletable": false,
    "editable": false,
    "solution2": "hidden"
   },
   "outputs": [],
   "source": [
    "#------------------------------#\n",
    "#    CORRECTION  ! ! ! ! ! !   #\n",
    "#------------------------------#\n",
    "\n",
    "from json import *\n",
    "#ou \n",
    "#import json\n",
    "\n",
    "f_p = open(\"./files/personne.json\",\"w\", encoding='utf-8')\n",
    "\n",
    "dump(personne, f_p, indent=4, ensure_ascii=False)\n",
    "#json.dump(personne, f_p, indent=4, ensure_ascii=False)\n",
    "\n",
    "f_p.close()"
   ]
  },
  {
   "cell_type": "markdown",
   "metadata": {
    "deletable": false,
    "editable": false,
    "run_control": {
     "frozen": true
    },
    "solution2": "hidden",
    "solution2_first": true
   },
   "source": [
    "* Ecrire les instructions permettant de charger à partir du fichier `files/personne.json` le dictionnaire qui vient d'être sauvegardé et de l'affecter à une variable `dico`."
   ]
  },
  {
   "cell_type": "code",
   "execution_count": null,
   "metadata": {
    "deletable": false,
    "editable": false,
    "solution2": "hidden"
   },
   "outputs": [],
   "source": [
    "#------------------------------#\n",
    "#    CORRECTION  ! ! ! ! ! !   #\n",
    "#------------------------------#\n",
    "from json import *\n",
    "f_p = open (\"./files/personne.json\",\"r\", encoding='utf-8')\n",
    "\n",
    "dico=load(f_p)\n",
    "\n",
    "f_p.close()\n",
    "print(dico)"
   ]
  },
  {
   "cell_type": "markdown",
   "metadata": {
    "deletable": false,
    "editable": false,
    "solution2": "hidden",
    "solution2_first": true
   },
   "source": [
    "* Comment afficher le type et la valeur associée à la clef `'âge'`?"
   ]
  },
  {
   "cell_type": "code",
   "execution_count": null,
   "metadata": {
    "deletable": false,
    "editable": false,
    "solution2": "hidden"
   },
   "outputs": [],
   "source": [
    "#------------------------------#\n",
    "#    CORRECTION  ! ! ! ! ! !   #\n",
    "#------------------------------#\n",
    "print(dico['âge'])\n",
    "print(type(dico['âge']))"
   ]
  },
  {
   "cell_type": "markdown",
   "metadata": {
    "deletable": false,
    "editable": false,
    "run_control": {
     "frozen": true
    },
    "solution2": "hidden",
    "solution2_first": true
   },
   "source": [
    "* Comment peut-on avoir les informations sur les loisirs de cette personne ?"
   ]
  },
  {
   "cell_type": "code",
   "execution_count": null,
   "metadata": {
    "deletable": false,
    "editable": false,
    "solution2": "hidden"
   },
   "outputs": [],
   "source": [
    "#------------------------------#\n",
    "#    CORRECTION  ! ! ! ! ! !   #\n",
    "#------------------------------#\n",
    "print(dico['loisirs'])"
   ]
  },
  {
   "cell_type": "markdown",
   "metadata": {
    "deletable": false,
    "editable": false,
    "run_control": {
     "frozen": true
    }
   },
   "source": [
    "### Exercice 2 : Planètes et satellites *\n",
    "\n",
    "#### Question 1 : Définition d'un dictionnaire à partir d'un fichier JSON"
   ]
  },
  {
   "cell_type": "markdown",
   "metadata": {
    "deletable": false,
    "editable": false,
    "run_control": {
     "frozen": true
    },
    "solution2": "hidden",
    "solution2_first": true
   },
   "source": [
    "* Ecrire un programme permettant de charger dans un dictionnaire `lunes` les données stokées dans le fichier `files/lunes.json`. Vérifier que ce dictionnaire contient le nombre de satellites de chaque planète. \n",
    "\n",
    "clef| \"Mercure\"|\"Vénus\"|\"Terre\"|\"Mars\"|\"Jupiter\"|\"Saturne\"|\"Uranus\"|\"Neptune\"|\n",
    "----|----------|-------|-------|------|---------|---------|--------|---------|\n",
    "valeur |0|0|1|2|95|146|27|14|"
   ]
  },
  {
   "cell_type": "code",
   "execution_count": null,
   "metadata": {
    "deletable": false,
    "editable": false,
    "solution2": "hidden"
   },
   "outputs": [],
   "source": [
    "#------------------------------#\n",
    "#    CORRECTION  ! ! ! ! ! !   #\n",
    "#------------------------------#\n",
    "from json import *\n",
    "f_l = open (\"./files/lunes.json\",\"r\",encoding='utf-8')\n",
    "\n",
    "lunes=load(f_l)\n",
    "\n",
    "f_l.close()\n",
    "print(lunes) "
   ]
  },
  {
   "cell_type": "markdown",
   "metadata": {
    "deletable": false,
    "editable": false,
    "run_control": {
     "frozen": true
    },
    "solution2": "hidden",
    "solution2_first": true
   },
   "source": [
    "#### Question  2 : Exploration d'un dictionnaire\n",
    "\n",
    "A partir du dictionnaire défini à la question précédente, proposer un programme permettant de:\n",
    "- afficher le nombre de satellites de `Neptune`,\n",
    "- afficher le nombre moyen de satellites."
   ]
  },
  {
   "cell_type": "code",
   "execution_count": null,
   "metadata": {
    "deletable": false,
    "editable": false,
    "solution2": "hidden"
   },
   "outputs": [],
   "source": [
    "#------------------------------#\n",
    "#    CORRECTION  ! ! ! ! ! !   #\n",
    "#------------------------------#\n",
    "# Affichage de la clef associée à Neptune.\n",
    "print(lunes['Neptune'])\n",
    "\n",
    "# Affichage du nombre moyen de satellites\n",
    "valeurs= list(lunes.values())\n",
    "tot = 0\n",
    "i=0\n",
    "while i<len(valeurs):\n",
    "    tot += valeurs[i]\n",
    "    i+=1\n",
    "print('Le nombre moyen de lunes recensées est : ',tot/len(valeurs))\n",
    "\n",
    "#2eme solution \n",
    "tot2=0\n",
    "for val in list(lunes.values()) :\n",
    "        tot2+=val\n",
    "print('Le nombre moyen de lunes recensées est : ',tot2/len(valeurs))   "
   ]
  },
  {
   "cell_type": "markdown",
   "metadata": {
    "deletable": false,
    "editable": false,
    "solution2": "hidden",
    "solution2_first": true
   },
   "source": [
    "### Exercice 3 : Nombre de jours dans une année\n",
    "\n",
    "L'objectif est de développer un programme qui calcule le nombre jours d'une année à partir d'un fichier contenant le nombre de jours de chaque d'une année non bissextile. \n",
    "\n",
    "#### Question 1 :  Dictionnaire du nombre  de jours\n",
    "- Charger dans un dictionnaire `dico_nonbiss` le contenu du fichier `files/an_non_bissextile.json`.\n",
    "- Afficher le dictionnaire obtenu.\n",
    "- Afficher le nombre de jours du mois de février et du mois d'août à partir de ce dictionnaire."
   ]
  },
  {
   "cell_type": "code",
   "execution_count": null,
   "metadata": {
    "deletable": false,
    "editable": false,
    "solution2": "hidden"
   },
   "outputs": [],
   "source": [
    "#------------------------------#\n",
    "#    CORRECTION  ! ! ! ! ! !   #\n",
    "#------------------------------#\n",
    "from json import *\n",
    "\n",
    "f=open(\"files/an_non_bissextile.json\",'r',encoding='utf-8')\n",
    "dico_nonbiss=load(f)\n",
    "f.close()\n",
    "\n",
    "print(dico_nonbiss)\n",
    "print(dico_nonbiss[\"Février\"])\n",
    "print(dico_nonbiss[\"Août\"])"
   ]
  },
  {
   "cell_type": "markdown",
   "metadata": {
    "deletable": false,
    "editable": false,
    "run_control": {
     "frozen": true
    }
   },
   "source": [
    "#### Question 2 : Nombre de jour d'une année \n",
    "Ecrire un programme qui demande à l'utilisateur une année et calcule son nombre de jours en utilisant le dictionnaire `dico_nonbiss`.\n",
    "\n",
    "On pourra faire appel à la fonction `estBissectile` définie ci-dessous."
   ]
  },
  {
   "cell_type": "code",
   "execution_count": null,
   "metadata": {
    "deletable": false,
    "editable": false,
    "solution2": "hidden",
    "solution2_first": true
   },
   "outputs": [],
   "source": [
    "def estBissextile(annee) :\n",
    "    \"\"\"\n",
    "    Determine si annee est bissextile ou pas\n",
    "    annee (entree) : annee (int) a tester\n",
    "    valeur retournée : (bool) True si annee est bissextile, \n",
    "                              False sinon\n",
    "    \"\"\"\n",
    "    return (annee%4==0 and annee%100!=0) or annee%400==0"
   ]
  },
  {
   "cell_type": "code",
   "execution_count": null,
   "metadata": {
    "deletable": false,
    "editable": false,
    "solution2": "hidden"
   },
   "outputs": [],
   "source": [
    "#------------------------------#\n",
    "#    CORRECTION  ! ! ! ! ! !   #\n",
    "#------------------------------#\n",
    "\n",
    "an=int(input(\"Donner une année \\n\"))\n",
    "\n",
    "nbj=0\n",
    "# Une version\n",
    "#for mois in dico_nonbiss:\n",
    "#    nbj+=dico_nonbiss[mois]\n",
    "\n",
    "# Une autre version\n",
    "j_mois = list(dico_nonbiss.values())\n",
    "i=0 \n",
    "while i< len(j_mois):\n",
    "    nbj+=j_mois[i]\n",
    "    i+=1\n",
    "    \n",
    "if estBissextile(an):\n",
    "    nbj+=1\n",
    "print(\"L'année \",an, \" compte \",nbj,\" jours.\")"
   ]
  },
  {
   "cell_type": "markdown",
   "metadata": {},
   "source": [
    "# Pour aller plus loin"
   ]
  },
  {
   "cell_type": "markdown",
   "metadata": {
    "deletable": false,
    "editable": false,
    "run_control": {
     "frozen": true
    },
    "solution2": "hidden",
    "solution2_first": true
   },
   "source": [
    "### Exercice 4 : Comptage des points à la belote coinchée***\n",
    "\n",
    "La belote coinchée est un jeu qui se joue à 4 joueurs par équipe de 2 et un jeu de 32 cartes. Il se distingue de la belote par un système d'annonces. \n",
    "\n",
    "Tour à tour, avant de commencer à poser les cartes chaque joueur \"passe\" ou \"annonce\" une couleur d'atout et le nombre de points qu'il pense faire en choisissant cet atout. Celui qui propose l'annonce la plus forte définit l'atout pour la partie. \n",
    "\n",
    "Lors du comptage des points en fin de partie, chaque carte remportée par une équipe est convertie en points. Le score d'une équipe correspond au nombre de points associés aux plis qu'elle a remporté. Les règles de calcul sont les suivantes:.\n",
    "\n",
    "<img src=\"img/y7.png\" alt=\"Drawing\" style=\"height: 200px;\"/>\n",
    "\n",
    "#### Question 1  : Les points à l'atout et aux autres couleurs\n",
    "Ecrire les instruction permettant de charger les 2 dictionnaires sockés dans les fichiers ``files/atout.json``et ``files/autre.json`` dont les couples (clef,valeur) sont respectivement la figure portée par la carte et le nombre de points associés à cette figure lorsqu'elle est de la couleur de l'atout ou d'une autre couleur."
   ]
  },
  {
   "cell_type": "code",
   "execution_count": null,
   "metadata": {
    "deletable": false,
    "editable": false,
    "solution2": "hidden"
   },
   "outputs": [],
   "source": [
    "#------------------------------#\n",
    "#    CORRECTION  ! ! ! ! ! !   #\n",
    "#------------------------------#\n",
    "from json import *\n",
    "fichier = open (\"./files/atout.json\" , \"rt\" )\n",
    "Atout=load(fichier)\n",
    "fichier.close()\n",
    "\n",
    "fichier = open (\"./files/autre.json\" , \"rt\" )\n",
    "Autre=load(fichier)\n",
    "fichier.close()\n",
    "\n",
    "print (Atout)\n",
    "print (Autre)"
   ]
  },
  {
   "cell_type": "markdown",
   "metadata": {
    "deletable": false,
    "editable": false,
    "run_control": {
     "frozen": true
    },
    "solution2": "hidden",
    "solution2_first": true
   },
   "source": [
    "#### Question 2 : Comptage des points d'un ensemble de cartes\n",
    "\n",
    "- Définir une fonction `comptage()` prenant comme paramètres les 2 dictionnaires, une couleur d'atout (sous forme d'une chaîne de caractères) et un tableau de cartes. La fonction renverra le nombre de points associés à cet ensemble de cartes. \n",
    "\n",
    "Les cartes sont représentées par des dictionnaires dont la première clef est la \"figure\" de la carte et vaut `'As', 'Roi', 'Dame', 'Valet', 'Dix', 'Neuf', 'Huit'` ou `'Sept'` et la  deuxième clef est \"couleur\" de la carte  et vaut `'Pique', 'Coeur', 'Carreau'` ou `'Trefle'`.\n",
    "\n",
    "Par exemple, `{'figure': 'Valet', 'couleur':'Coeur'}` et `{'figure':'Dix', 'couleur':'Pique'}` sont deux dictionnaires correspondant à des cartes.\n",
    "\n",
    "- Ecrire une fonction de tests unitaires pour compter les points avec différents tuples de cartes. Utiliser la pour vérifier que la fonction `comptage` satisfait ces tests."
   ]
  },
  {
   "cell_type": "code",
   "execution_count": null,
   "metadata": {
    "deletable": false,
    "editable": false,
    "solution2": "hidden"
   },
   "outputs": [],
   "source": [
    "#------------------------------#\n",
    "#    CORRECTION  ! ! ! ! ! !   #\n",
    "#------------------------------#\n",
    "#Fonction de comptage avec commentaires:\n",
    "\n",
    "def comptage(dico_atout, dico_autre, couleur_atout, cartes):\n",
    "\n",
    "    # initialisation du total des points\n",
    "    total = 0\n",
    "\n",
    "    # iteration sur les cartes\n",
    "    i=0\n",
    "    while i<len(cartes):\n",
    "        # Si c'est de l'atout\n",
    "        carte=cartes[i]\n",
    "        c=carte[\"figure\"]\n",
    "\n",
    "        if carte[\"couleur\"] == couleur_atout :\n",
    "\n",
    "        # utilise les regles de conversion pour l'atout\n",
    "            total += dico_atout[c]\n",
    "        else:\n",
    "        # utilise les regles de conversion normale\n",
    "            total += dico_autre[c]\n",
    "        i+=1\n",
    "    # valeur de retour\n",
    "    return total\n",
    "\n",
    "def test_comptage():\n",
    "    assert comptage(Atout,Autre,'Coeur',[{'figure':'Valet','couleur':'Coeur'}]) == 20\n",
    "    assert comptage(Atout,Autre,'Coeur',[{'figure':'Valet','couleur':'Coeur'},{'figure':'Dix','couleur':'Pique'}])==30 \n",
    "    assert comptage(Atout,Autre,'Coeur',[{'figure':'Valet','couleur':'Trefle'}]) == 2\n",
    "    print(\"test de la fonction comptage : ok\")\n",
    "\n",
    "test_comptage()"
   ]
  },
  {
   "cell_type": "markdown",
   "metadata": {
    "deletable": false,
    "editable": false,
    "run_control": {
     "frozen": true
    },
    "solution2": "hidden",
    "solution2_first": true
   },
   "source": [
    "#### Question 3  : Nombre total de points du jeu\n",
    "- Calculer le nombre total de points que les joueurs se partagent au cours d'une partie sachant que 10 points sont accordés à l'équipe qui remporte le dernier tour de jeu.\n",
    "- Vérifier que le total est 102 points."
   ]
  },
  {
   "cell_type": "code",
   "execution_count": null,
   "metadata": {
    "deletable": false,
    "editable": false,
    "solution2": "hidden"
   },
   "outputs": [],
   "source": [
    "#------------------------------#\n",
    "#    CORRECTION  ! ! ! ! ! !   #\n",
    "#------------------------------# \n",
    "#Calcul de la somme des points en jeu:\n",
    "total = 10 \n",
    "\n",
    "# le bonus pour les gagnants du dernier tour de jeu\n",
    "# comptage des points apportes par les cartes Atout\n",
    "# compte une fois car il y a une seule couleur Atout\n",
    "\n",
    "valeurs_Atout=list(Atout.values())\n",
    "i=0\n",
    "while i < len(valeurs_Atout) :\n",
    "    total += valeurs_Atout[i]\n",
    "    i+=1\n",
    "\n",
    "# Comptage des points apportes par les autres cartes\n",
    "# compte 3 fois car il y a 3 couleurs que ne sont pas de l'Atout\n",
    "valeurs_Autre=list(Autre.values())\n",
    "i=0\n",
    "while i < len(valeurs_Autre) :\n",
    "    total += valeurs_Autre[i]\n",
    "    i+=1\n",
    "\n",
    "# Affichage du nombre de points en jeu\n",
    "print('Total des points mis en jeu = ',total)"
   ]
  },
  {
   "cell_type": "markdown",
   "metadata": {
    "deletable": false,
    "editable": false,
    "run_control": {
     "frozen": true
    },
    "solution2": "hidden",
    "solution2_first": true
   },
   "source": [
    "#### Question 4  : Affichage de la valeur de chaque carte\n",
    "- Définir une fonction ``affiche_carte_point`` qui prend en paramètres les 2 dictionnaires et la couleur d'atout et affiche l'ensemble des 32 cartes et leur valeur.\n",
    "\n",
    "- Utiliser cette fonction pour afficher les points associés à chaque carte quand l'atout est `Coeur`."
   ]
  },
  {
   "cell_type": "code",
   "execution_count": null,
   "metadata": {
    "deletable": false,
    "editable": false,
    "solution2": "hidden"
   },
   "outputs": [],
   "source": [
    "#------------------------------#\n",
    "#    CORRECTION  ! ! ! ! ! !   #\n",
    "#------------------------------# \n",
    "#Affichage des cartes et des points associés pour une couleur d'atout donnée. \n",
    "\n",
    "def affiche_carte_point(dico_atout, dico_autre, couleur_atout) :\n",
    "    couleurs = ['Pique','Coeur','Carreau','Trefle']\n",
    "    figures = list(dico_atout)\n",
    "    i=0\n",
    "    while i<len(couleurs) :\n",
    "        j=0\n",
    "        while j< len(figures):\n",
    "            fig=figures[j]\n",
    "            if couleurs[i] == couleur_atout:\n",
    "                print( '('+fig+','+couleurs[i]+')->'+ str(dico_atout[fig]))\n",
    "            else:\n",
    "                print('('+fig+','+couleurs[i]+')->'+ str(dico_autre[fig]))\n",
    "            j+=1\n",
    "        i+=1\n",
    "\n",
    "# exemple d'utilisation \n",
    "affiche_carte_point(Atout,Autre,'Coeur')     "
   ]
  }
 ],
 "metadata": {
  "kernelspec": {
   "display_name": "Python 3 (ipykernel)",
   "language": "python",
   "name": "python3"
  },
  "language_info": {
   "codemirror_mode": {
    "name": "ipython",
    "version": 3
   },
   "file_extension": ".py",
   "mimetype": "text/x-python",
   "name": "python",
   "nbconvert_exporter": "python",
   "pygments_lexer": "ipython3",
   "version": "3.11.4"
  },
  "latex_envs": {
   "LaTeX_envs_menu_present": true,
   "autoclose": false,
   "autocomplete": true,
   "bibliofile": "biblio.bib",
   "cite_by": "apalike",
   "current_citInitial": 1,
   "eqLabelWithNumbers": true,
   "eqNumInitial": 1,
   "hotkeys": {
    "equation": "Ctrl-E",
    "itemize": "Ctrl-I"
   },
   "labels_anchors": false,
   "latex_user_defs": false,
   "report_style_numbering": false,
   "user_envs_cfg": false
  },
  "toc": {
   "base_numbering": 1,
   "nav_menu": {},
   "number_sections": true,
   "sideBar": true,
   "skip_h1_title": false,
   "title_cell": "Table of Contents",
   "title_sidebar": "Contents",
   "toc_cell": false,
   "toc_position": {},
   "toc_section_display": true,
   "toc_window_display": false
  }
 },
 "nbformat": 4,
 "nbformat_minor": 2
}
