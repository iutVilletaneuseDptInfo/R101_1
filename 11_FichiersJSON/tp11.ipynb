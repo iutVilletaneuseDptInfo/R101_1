{
 "cells": [
  {
   "cell_type": "markdown",
   "metadata": {
    "deletable": false,
    "editable": false,
    "run_control": {
     "frozen": true
    }
   },
   "source": [
    "# <center> Chapitre 11 : Fichiers JSON  - TP </center>"
   ]
  },
  {
   "cell_type": "markdown",
   "metadata": {},
   "source": [
    "### Exercice 1 : Population des capitales mondiales \n",
    "\n",
    "#### Question 1 : Chargement du dictionnaire\n",
    "- Écrire une fonction `charge_dico` qui prend en paramètre un chemin `path` vers un fichier JSON et renvoie le dictionnaire contenu dans ce fichier. \n",
    "\n",
    "- Utiliser cette fonction pour afficher le dictionnaire correspondant au fichier `files/population_capitales.json`."
   ]
  },
  {
   "cell_type": "code",
   "execution_count": null,
   "metadata": {},
   "outputs": [],
   "source": [
    "#-------------------------#\n",
    "#    Écrire le code ici   #\n",
    "#-------------------------#\n",
    "\n",
    "\n"
   ]
  },
  {
   "cell_type": "markdown",
   "metadata": {
    "deletable": false,
    "editable": false,
    "run_control": {
     "frozen": true
    }
   },
   "source": [
    "#### Question 2  : Population maximale/ minimale d'une capitale \n",
    "- Écrire une fonction `max_pop` qui prend en paramètre un chemin `path` vers un fichier JSON qui contient un dictionnaire ayant comme couples clé:valeur des associations ville:population et renvoie la population maximale d'une ville contenue dans ce fichier. \n",
    "\n",
    "\n",
    "- Écrire une fonction `min_pop` qui prend en paramètre un chemin `path` vers un fichier JSON qui contient un dictionnaire ayant comme couples clé:valeur des associations ville:population et renvoie la population minimale d'une ville contenue dans ce fichier. \n",
    "\n",
    "**NB** : Pour initialiser le minimum, on pourra utiliser la population d'une ville du fichier.\n",
    "\n",
    "\n",
    "- Utiliser cette fonction pour afficher les populations maximale et minimale contenues dans le fichier `files/population_capitales.json`."
   ]
  },
  {
   "cell_type": "code",
   "execution_count": null,
   "metadata": {},
   "outputs": [],
   "source": [
    "#-------------------------#\n",
    "#    Écrire le code ici   #\n",
    "#-------------------------#\n",
    "\n",
    "\n"
   ]
  },
  {
   "cell_type": "markdown",
   "metadata": {},
   "source": [
    "#### Question 3 : Capitale la plus peuplée / la moins peuplée\n",
    "- Ecrire une fonction `ville_max` qui prend en paramètre le chemin `path` vers un fichier JSON contenant le dictionnaire qui contient un dictionnaire ayant comme couples clé:valeur des associations ville:population et renvoie la ville la plus peuplée contenue dans ce fichier. \n",
    "\n",
    "- Ecrire une fonction `ville_min` qui prend en paramètre le chemin `path` vers un fichier JSON contenant le dictionnaire qui contient un dictionnaire ayant comme couples clé:valeur des associations ville:population et renvoie la ville la moins peuplée contenue dans ce fichier. \n",
    "\n",
    "- Utiliser cette fonction pour afficher la ville la plus peuplée et la ville la moins peuplée contenues dans le fichier `files/population_capitales.json`."
   ]
  },
  {
   "cell_type": "code",
   "execution_count": null,
   "metadata": {},
   "outputs": [],
   "source": [
    "#-------------------------#\n",
    "#    Écrire le code ici   #\n",
    "#-------------------------#\n",
    "\n",
    "\n"
   ]
  },
  {
   "cell_type": "markdown",
   "metadata": {
    "deletable": false,
    "editable": false,
    "run_control": {
     "frozen": true
    }
   },
   "source": [
    "### Exercice 2 : Fréquence des caractères dans un long texte**\n",
    "\n",
    "#### Question 1 : Nombre de caractères alphanumériques dans une chaîne\n",
    "Écrire une fonction `nbc_alnum` qui prend en paramètre une chaîne de caractères `chaine` et renvoie le nombre de caractères alphanumériques contenus dans cette chaîne. \n",
    "\n",
    "**NB :** Un caractère alphanumérique est \n",
    "- un caractère alphabétique (majusucule ou minuscule éventuellement accentué) \n",
    "- ou un caractère numérique ( de `0` à `9`). \n",
    "\n",
    "La méthode `mot.isalnum()` retoune `True` si tous les caractères de `mot` sont alphanumériques et s'il y a au moins un caractère et `False` dans le cas contraire. "
   ]
  },
  {
   "cell_type": "code",
   "execution_count": null,
   "metadata": {},
   "outputs": [],
   "source": [
    "#-------------------------#\n",
    "#    Écrire le code ici   #\n",
    "#-------------------------#\n",
    "\n",
    "\n"
   ]
  },
  {
   "cell_type": "markdown",
   "metadata": {
    "deletable": false,
    "editable": false,
    "run_control": {
     "frozen": true
    }
   },
   "source": [
    "#### Question 2 :  Longueur d'un texte stocké dans un fichier\n",
    "Écrire une fonction `longueur_alnum` qui prend en paramètre le chemin `path` vers un fichier texte et renvoie le nombre de caractères alphanumériques contenus dans ce fichier. \n",
    "\n",
    "Utiliser cette fonction pour afficher la longueur du texte disponible dans le fichier `files/zadig.txt`."
   ]
  },
  {
   "cell_type": "code",
   "execution_count": null,
   "metadata": {},
   "outputs": [],
   "source": [
    "#-------------------------#\n",
    "#    Écrire le code ici   #\n",
    "#-------------------------#\n",
    "\n",
    "\n"
   ]
  },
  {
   "cell_type": "markdown",
   "metadata": {},
   "source": [
    "#### Question 3 :  Comptage des caractères dans un texte stocké dans un fichier\n",
    "Écrire une fonction `comptage` qui prend en paramètre le chemin `path` vers un fichier texte et renvoie le dictionnaire contenant comme clefs tous les **caractères alphanumériques** qui apparaissent dans le texte et comme valeurs leurs nombres d'apparition dans le texte.\n",
    "\n",
    "Utiliser cette fonction pour calculer le dictionnaire associé au texte disponible dans le fichier `files/zadig.txt`.\n",
    "Ce dictionnaire sera stocké dans le fichier `files/comptage_zadig.json`."
   ]
  },
  {
   "cell_type": "code",
   "execution_count": null,
   "metadata": {},
   "outputs": [],
   "source": [
    "#-------------------------#\n",
    "#    Écrire le code ici   #\n",
    "#-------------------------#\n",
    "\n",
    "\n",
    "\n"
   ]
  },
  {
   "cell_type": "markdown",
   "metadata": {
    "deletable": false,
    "editable": false,
    "run_control": {
     "frozen": true
    }
   },
   "source": [
    "#### Question 4 : Caractère alphanumérique le plus fréquent \n",
    "\n",
    "Ecrire une fonction `car_max` qui prend en paramètre le chemin `path` vers un fichier JSON contenant le dictionnaire du nombre d'apparation des caractères alphanumériques dans un texte et qui renvoie le caractère alphanumérique qui apparaît le plus dans le texte.\n",
    "\n",
    "Utiliser cette  fonction pour calculer le caractère alphanumérique le plus présent dans le dictionnaire disponible dans le fichier JSON `files/comptage_zadig.json`. "
   ]
  },
  {
   "cell_type": "code",
   "execution_count": null,
   "metadata": {},
   "outputs": [],
   "source": [
    "#-------------------------#\n",
    "#    Écrire le code ici   #\n",
    "#-------------------------#\n",
    "\n",
    "\n",
    "\n"
   ]
  }
 ],
 "metadata": {
  "kernelspec": {
   "display_name": "Python 3 (ipykernel)",
   "language": "python",
   "name": "python3"
  },
  "language_info": {
   "codemirror_mode": {
    "name": "ipython",
    "version": 3
   },
   "file_extension": ".py",
   "mimetype": "text/x-python",
   "name": "python",
   "nbconvert_exporter": "python",
   "pygments_lexer": "ipython3",
   "version": "3.11.4"
  },
  "latex_envs": {
   "LaTeX_envs_menu_present": true,
   "autoclose": false,
   "autocomplete": true,
   "bibliofile": "biblio.bib",
   "cite_by": "apalike",
   "current_citInitial": 1,
   "eqLabelWithNumbers": true,
   "eqNumInitial": 1,
   "hotkeys": {
    "equation": "Ctrl-E",
    "itemize": "Ctrl-I"
   },
   "labels_anchors": false,
   "latex_user_defs": false,
   "report_style_numbering": false,
   "user_envs_cfg": false
  },
  "toc": {
   "base_numbering": 1,
   "nav_menu": {},
   "number_sections": true,
   "sideBar": true,
   "skip_h1_title": false,
   "title_cell": "Table of Contents",
   "title_sidebar": "Contents",
   "toc_cell": false,
   "toc_position": {},
   "toc_section_display": true,
   "toc_window_display": false
  }
 },
 "nbformat": 4,
 "nbformat_minor": 2
}
