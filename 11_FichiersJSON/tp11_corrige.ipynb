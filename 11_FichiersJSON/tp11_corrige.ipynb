{
 "cells": [
  {
   "cell_type": "markdown",
   "metadata": {
    "deletable": false,
    "editable": false,
    "run_control": {
     "frozen": true
    }
   },
   "source": [
    "# <center> Chapitre 11 : Fichiers JSON - TP Corrigé </center>"
   ]
  },
  {
   "cell_type": "markdown",
   "metadata": {
    "deletable": false,
    "editable": false,
    "run_control": {
     "frozen": true
    },
    "solution2": "hidden",
    "solution2_first": true
   },
   "source": [
    "### Exercice 1 : Population des capitales mondiales \n",
    "\n",
    "#### Question 1 : Chargement du dictionnaire\n",
    "- Écrire une fonction `charge_dico` qui prend en paramètre un chemin `path` vers un fichier JSON et renvoie le dictionnaire contenu dans ce fichier. \n",
    "\n",
    "- Utiliser cette fonction pour afficher le dictionnaire correspondant au fichier `files/population_capitales.json`."
   ]
  },
  {
   "cell_type": "code",
   "execution_count": null,
   "metadata": {
    "deletable": false,
    "editable": false,
    "solution2": "hidden"
   },
   "outputs": [],
   "source": [
    "#------------------------------#\n",
    "#    CORRECTION  ! ! ! ! ! !   #\n",
    "#------------------------------#\n",
    "from json import *\n",
    "\n",
    "def charge_dico(path):\n",
    "    f=open(path,'r',encoding='utf-8')\n",
    "    dico=load(f)\n",
    "    f.close()\n",
    "    return dico \n",
    "\n",
    "d = charge_dico(\"files/population_capitales.json\")\n",
    "print(d)"
   ]
  },
  {
   "cell_type": "markdown",
   "metadata": {
    "deletable": false,
    "editable": false,
    "run_control": {
     "frozen": true
    },
    "solution2": "hidden",
    "solution2_first": true
   },
   "source": [
    "#### Question 2  : Population maximale/ minimale d'une capitale \n",
    "- Écrire une fonction `max_pop` qui prend en paramètre un chemin `path` vers un fichier JSON qui contient un dictionnaire ayant comme couples clé:valeur des associations ville:population et renvoie la population maximale d'une ville contenue dans ce fichier. \n",
    "\n",
    "\n",
    "- Écrire une fonction `min_pop` qui prend en paramètre un chemin `path` vers un fichier JSON qui contient un dictionnaire ayant comme couples clé:valeur des associations ville:population et renvoie la population minimale d'une ville contenue dans ce fichier. \n",
    "\n",
    "**NB** : Pour initialiser le minimum, on pourra utiliser la population d'une ville du fichier.\n",
    "\n",
    "\n",
    "- Utiliser cette fonction pour afficher les populations maximale et minimale contenues dans le fichier `files/population_capitales.json`."
   ]
  },
  {
   "cell_type": "code",
   "execution_count": null,
   "metadata": {
    "deletable": false,
    "editable": false,
    "solution2": "hidden"
   },
   "outputs": [],
   "source": [
    "#------------------------------#\n",
    "#    CORRECTION  ! ! ! ! ! !   #\n",
    "#------------------------------#\n",
    "from json import *\n",
    "\n",
    "def max_pop(path):\n",
    "    dico_pop=charge_dico(path)\n",
    "    \n",
    "    popu=list(dico_pop.values())\n",
    "    maxi=popu[0]\n",
    "    i=0\n",
    "    while i<len(popu):\n",
    "        if popu[i]>maxi:\n",
    "            maxi= popu[i]\n",
    "        i+=1\n",
    "            \n",
    "#autre version\n",
    "#    for ville in dico_pop:\n",
    "#        if dico_pop[ville]>maxi :\n",
    "#            maxi=dico_pop[ville]\n",
    "\n",
    "    return maxi\n",
    "\n",
    "def min_pop(path):\n",
    "    dico_pop=charge_dico(path)\n",
    "    villes=list(dico_pop)\n",
    "    \n",
    "    popu=list(dico_pop.values())\n",
    "    mini=popu[0]\n",
    "    i=1\n",
    "    while i<len(popu):\n",
    "        if popu[i]<mini:\n",
    "            mini=popu[i]\n",
    "        i+=1\n",
    "    \n",
    "    return mini\n",
    "\n",
    "print(max_pop(\"files/population_capitales.json\"))\n",
    "print(min_pop(\"files/population_capitales.json\"))"
   ]
  },
  {
   "cell_type": "markdown",
   "metadata": {
    "solution2": "hidden",
    "solution2_first": true
   },
   "source": [
    "#### Question 3 : Capitale la plus peuplée / la moins peuplée\n",
    "- Ecrire une fonction `ville_max` qui prend en paramètre le chemin `path` vers un fichier JSON contenant le dictionnaire qui contient un dictionnaire ayant comme couples clé:valeur des associations ville:population et renvoie la ville la plus peuplée contenue dans ce fichier. \n",
    "\n",
    "- Ecrire une fonction `ville_min` qui prend en paramètre le chemin `path` vers un fichier JSON contenant le dictionnaire qui contient un dictionnaire ayant comme couples clé:valeur des associations ville:population et renvoie la ville la moins peuplée contenue dans ce fichier. \n",
    "\n",
    "- Utiliser cette fonction pour afficher la ville la plus peuplée et la ville la moins peuplée contenues dans le fichier `files/population_capitales.json`."
   ]
  },
  {
   "cell_type": "code",
   "execution_count": null,
   "metadata": {
    "deletable": false,
    "editable": false,
    "solution2": "hidden"
   },
   "outputs": [],
   "source": [
    "#------------------------------#\n",
    "#    CORRECTION  ! ! ! ! ! !   #\n",
    "#------------------------------#\n",
    "\n",
    "#on cherche la ville qui a la population maximale\n",
    "def ville_max(path):\n",
    "    dico_pop=charge_dico(path)\n",
    "    \n",
    "    villes=list(dico_pop)\n",
    "    v_max=villes[0]\n",
    "    i=1\n",
    "    while i<len(villes):\n",
    "        ville=villes[i]\n",
    "        if dico_pop[ville]>dico_pop[v_max]:\n",
    "            v_max=ville \n",
    "        i+=1\n",
    "    return v_max\n",
    "\n",
    "def ville_min(path):\n",
    "    dico_pop=charge_dico(path)\n",
    "    \n",
    "    villes=list(dico_pop)\n",
    "    v_min=villes[0]\n",
    "    i=1\n",
    "    while i<len(villes):\n",
    "        ville=villes[i]\n",
    "        if dico_pop[ville]<dico_pop[v_min]:\n",
    "            v_min=ville\n",
    "        i+=1\n",
    "    return v_min\n",
    "\n",
    "print(ville_max(\"./files/population_capitales.json\"))\n",
    "print(ville_min(\"./files/population_capitales.json\"))"
   ]
  },
  {
   "cell_type": "markdown",
   "metadata": {
    "solution2": "hidden",
    "solution2_first": true
   },
   "source": [
    "### Exercice 2 : Fréquence des caractères dans un long texte**\n",
    "\n",
    "#### Question 1 : Nombre de caractères alphanumériques dans une chaîne\n",
    "Écrire une fonction `nbc_alnum` qui prend en paramètre une chaîne de caractères `chaine` et renvoie le nombre de caractères alphanumériques contenus dans cette chaîne. \n",
    "\n",
    "**NB :** Un caractère alphanumérique est \n",
    "- un caractère alphabétique (majusucule ou minuscule éventuellement accentué) \n",
    "- ou un caractère numérique ( de `0` à `9`). \n",
    "\n",
    "La méthode `mot.isalnum()` retoune `True` si tous les caractères de `mot` sont alphanumériques et s'il y a au moins un caractère et `False` dans le cas contraire. "
   ]
  },
  {
   "cell_type": "code",
   "execution_count": null,
   "metadata": {
    "deletable": false,
    "editable": false,
    "solution2": "hidden"
   },
   "outputs": [],
   "source": [
    "#------------------------------#\n",
    "#    CORRECTION  ! ! ! ! ! !   #\n",
    "#------------------------------#\n",
    "def nbc_alnum(chaine):\n",
    "    long=0\n",
    "    i=0\n",
    "    while i<len(chaine):\n",
    "        if chaine[i].isalnum():\n",
    "            long+=1\n",
    "        i+=1\n",
    "    return long"
   ]
  },
  {
   "cell_type": "markdown",
   "metadata": {
    "deletable": false,
    "editable": false,
    "run_control": {
     "frozen": true
    },
    "solution2": "hidden",
    "solution2_first": true
   },
   "source": [
    "#### Question 2 :  Longueur d'un texte stocké dans un fichier\n",
    "Écrire une fonction `longueur_alnum` qui prend en paramètre le chemin `path` vers un fichier texte et renvoie le nombre de caractères alphanumériques contenus dans ce fichier. \n",
    "\n",
    "Utiliser cette fonction pour afficher la longueur du texte disponible dans le fichier `files/zadig.txt`."
   ]
  },
  {
   "cell_type": "code",
   "execution_count": null,
   "metadata": {
    "deletable": false,
    "editable": false,
    "solution2": "hidden"
   },
   "outputs": [],
   "source": [
    "#------------------------------#\n",
    "#    CORRECTION  ! ! ! ! ! !   #\n",
    "#------------------------------# \n",
    "\n",
    "def longueur_alnum(path):\n",
    "    fichier=open(path,\"r\",encoding='utf-8')\n",
    "    texte=fichier.read()\n",
    "    fichier.close() \n",
    "    return nbc_alnum(texte)\n",
    "\n",
    "l=longueur_alnum(\"./files/zadig.txt\")\n",
    "print(l)"
   ]
  },
  {
   "cell_type": "markdown",
   "metadata": {
    "deletable": false,
    "editable": false,
    "run_control": {
     "frozen": true
    },
    "solution2": "hidden",
    "solution2_first": true
   },
   "source": [
    "#### Question 3 :  Comptage des caractères dans un texte stocké dans un fichier\n",
    "Écrire une fonction `comptage` qui prend en paramètre le chemin `path` vers un fichier texte et renvoie le dictionnaire contenant comme clefs tous les **caractères alphanumériques** qui apparaissent dans le texte et comme valeurs leurs nombres d'apparition dans le texte.\n",
    "\n",
    "Utiliser cette fonction pour calculer le dictionnaire associé au texte disponible dans le fichier `files/zadig.txt`.\n",
    "Ce dictionnaire sera stocké dans le fichier `files/comptage_zadig.json`."
   ]
  },
  {
   "cell_type": "code",
   "execution_count": null,
   "metadata": {
    "solution2": "hidden"
   },
   "outputs": [],
   "source": [
    "#------------------------------#\n",
    "#    CORRECTION  ! ! ! ! ! !   #\n",
    "#------------------------------# \n",
    "\n",
    "from json import *\n",
    "\n",
    "def comptage(path):\n",
    "    compt={} # création du dictionnaire\n",
    "    fichier=open(path,\"r\", encoding='utf-8')\n",
    "\n",
    "    texte = fichier.read()\n",
    "    i=0\n",
    "    while i<len(texte):\n",
    "        if texte[i].isalnum():\n",
    "            caractere=texte[i]\n",
    "            if caractere not in list(compt): # pas dans le dictionnaire \n",
    "                compt[caractere]=1\n",
    "            else:\n",
    "                compt[caractere]+=1\n",
    "        i=i+1\n",
    "    fichier.close()\n",
    "    return compt\n",
    "\n",
    "\n",
    "dico_zadig=comptage(\"./files/zadig.txt\")\n",
    "print(dico_zadig)\n",
    "\n",
    "f= open (\"files/comptage_zadig.json\",'w',encoding='utf-8')\n",
    "dump(dico_zadig,f,indent=4,ensure_ascii=False)\n",
    "f.close()"
   ]
  },
  {
   "cell_type": "markdown",
   "metadata": {
    "solution2": "hidden",
    "solution2_first": true
   },
   "source": [
    "#### Question 4 : Caractère alphanumérique le plus fréquent \n",
    "\n",
    "Ecrire une fonction `car_max` qui prend en paramètre le chemin `path` vers un fichier JSON contenant le dictionnaire du nombre d'apparation des caractères alphanumériques dans un texte et qui renvoie le caractère alphanumérique qui apparaît le plus dans le texte.\n",
    "\n",
    "Utiliser cette  fonction pour calculer le caractère alphanumérique le plus présent dans le dictionnaire disponible dans le fichier JSON `files/comptage_zadig.json`. "
   ]
  },
  {
   "cell_type": "code",
   "execution_count": null,
   "metadata": {
    "deletable": false,
    "editable": false,
    "solution2": "hidden"
   },
   "outputs": [],
   "source": [
    "#------------------------------#\n",
    "#    CORRECTION  ! ! ! ! ! !   #\n",
    "#------------------------------# \n",
    "def car_max(path):\n",
    "    f=open(path,\"r\")\n",
    "    dico_comptage=load(f)\n",
    "    f.close()\n",
    "    \n",
    "# une version\n",
    "    car=list(dico_comptage)\n",
    "    c_max=car[0]\n",
    "    i=1\n",
    "    while i<len(car):\n",
    "        caractere = car[i]   \n",
    "        if dico_comptage[caractere]>dico_comptage[c_max]:\n",
    "            c_max=caractere\n",
    "        i+=1\n",
    "    return c_max\n",
    "\n",
    "# autre version \n",
    "#   maxi=0\n",
    "#   for car in dico_comptage:\n",
    "#      if dico_comptage[car]>maxi:\n",
    "#           maxi=dico_comptage[car]\n",
    "#           pos=car\n",
    "#   return pos\n",
    "\n",
    "print(car_max(\"./files/comptage_zadig.json\"))"
   ]
  }
 ],
 "metadata": {
  "kernelspec": {
   "display_name": "Python 3 (ipykernel)",
   "language": "python",
   "name": "python3"
  },
  "language_info": {
   "codemirror_mode": {
    "name": "ipython",
    "version": 3
   },
   "file_extension": ".py",
   "mimetype": "text/x-python",
   "name": "python",
   "nbconvert_exporter": "python",
   "pygments_lexer": "ipython3",
   "version": "3.11.4"
  },
  "latex_envs": {
   "LaTeX_envs_menu_present": true,
   "autoclose": false,
   "autocomplete": true,
   "bibliofile": "biblio.bib",
   "cite_by": "apalike",
   "current_citInitial": 1,
   "eqLabelWithNumbers": true,
   "eqNumInitial": 1,
   "hotkeys": {
    "equation": "Ctrl-E",
    "itemize": "Ctrl-I"
   },
   "labels_anchors": false,
   "latex_user_defs": false,
   "report_style_numbering": false,
   "user_envs_cfg": false
  },
  "toc": {
   "base_numbering": 1,
   "nav_menu": {},
   "number_sections": true,
   "sideBar": true,
   "skip_h1_title": false,
   "title_cell": "Table of Contents",
   "title_sidebar": "Contents",
   "toc_cell": false,
   "toc_position": {},
   "toc_section_display": true,
   "toc_window_display": false
  }
 },
 "nbformat": 4,
 "nbformat_minor": 2
}
