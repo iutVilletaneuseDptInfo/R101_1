{
 "cells": [
  {
   "cell_type": "markdown",
   "metadata": {
    "deletable": false,
    "editable": false,
    "run_control": {
     "frozen": true
    }
   },
   "source": [
    "# <center> Chapitre 11 : Fichiers JSON </center>"
   ]
  },
  {
   "cell_type": "markdown",
   "metadata": {
    "deletable": false,
    "editable": false,
    "run_control": {
     "frozen": true
    }
   },
   "source": [
    "### Le format JSON"
   ]
  },
  {
   "cell_type": "markdown",
   "metadata": {
    "deletable": false,
    "editable": false,
    "run_control": {
     "frozen": true
    }
   },
   "source": [
    "Le format JavaScript Object Notation (JSON) est issu de la notation des objets dans le langage JavaScript. C'est un format de données textuel très répandu permettant de stocker des données sous une forme structurée. \n",
    "\n",
    "Il ne comporte que des associations clés→valeurs (à l’instar des dictionnaires). *Une valeur* peut être une autre association clés→valeurs, une liste de valeurs, un entier, un nombre réel, une chaîne de caractères, un booléen ou une valeur nulle. La syntaxe est similaire à celle des dictionnaires Python.\n",
    "\n",
    "L'exemple suivant de fichier JSON contient des structures impriquées : la valeur associée à la clé `\"étudiants\"` est un tableau de dictionnaires. La notion de structures imbriquées est l'objet du prochain chapitre, où elle sera étudiée de manière plus systématique."
   ]
  },
  {
   "cell_type": "code",
   "execution_count": null,
   "metadata": {
    "deletable": false,
    "editable": false
   },
   "outputs": [],
   "source": [
    "{\n",
    "   \"nom cours\" : \"Initiation au développement\",\n",
    "   \"thème\" : \"Algorithmique\",\n",
    "   \"étudiants\" : [\n",
    "              {\n",
    "               \"nom\" : \"Martin\",\n",
    "               \"prénom\" : \"Jean\",\n",
    "               \"Dépt\" : 95\n",
    "                },\n",
    "                {\n",
    "                \"nom\" : \"Mohamed\",\n",
    "                \"prénom\" : \"Ali\",\n",
    "                \"Dépt\" : 93 \n",
    "                },\n",
    "                {\n",
    "                  \"nom\" : \"Lina\",\n",
    "                  \"prénom\" : \"Bertrand\",\n",
    "                  \"Dépt\" : 95\n",
    "                }\n",
    "              ]\n",
    "\n",
    "}"
   ]
  },
  {
   "cell_type": "markdown",
   "metadata": {
    "deletable": false,
    "editable": false
   },
   "source": [
    "**Important** : Pour manipuler les fichiers JSON, on utilise le module `json` de Python grâce à l'instruction ```from json import *``` ou ```import json ```."
   ]
  },
  {
   "cell_type": "markdown",
   "metadata": {
    "deletable": false,
    "editable": false
   },
   "source": [
    "### Lire un fichier JSON"
   ]
  },
  {
   "cell_type": "markdown",
   "metadata": {
    "deletable": false,
    "editable": false,
    "run_control": {
     "frozen": true
    }
   },
   "source": [
    "La fonction `load(f)` retourne le dictionnaire ou le tableau correspondant au fichier JSON représenté par la variable de flux `f`.\n",
    "\n",
    ">|  |  |\n",
    ">| :-- | :-- |\n",
    ">| `load(f)` | Retourne  le **dictionnaire** correspondant au fichier JSON représenté par la variable de flux `f`.|\n",
    "\n",
    "**Remarque** : Les clefs et les valeurs du dictionnaire créé par la fonction `load` ne sont pas nécessairement des chaînes de caractères.\n",
    "\n",
    "Voici un exemple d'utilisation de cette fonction."
   ]
  },
  {
   "cell_type": "code",
   "execution_count": 11,
   "metadata": {
    "deletable": false,
    "editable": false
   },
   "outputs": [
    {
     "name": "stdout",
     "output_type": "stream",
     "text": [
      "{'nom cours': 'Initiation au développement', 'thème': 'Algorithmique', 'étudiants': [{'nom': 'Martin', 'prénom': 'Jean', 'Dépt': 95}, {'nom': 'Mohamed', 'prénom': 'Ali', 'Dépt': 93}, {'nom': 'Lina', 'prénom': 'Bertrand', 'Dépt': 95}]}\n",
      "<class 'dict'>\n"
     ]
    }
   ],
   "source": [
    "#1ère possibilité\n",
    "from json import *\n",
    "fichier = open (\"./files/bdp.json\",\"r\",encoding='utf-8')\n",
    "cours = load(fichier)\n",
    "fichier.close()\n",
    "\n",
    "print (cours)\n",
    "\n",
    "print(type(cours))"
   ]
  },
  {
   "cell_type": "code",
   "execution_count": 12,
   "metadata": {
    "deletable": false,
    "editable": false
   },
   "outputs": [
    {
     "name": "stdout",
     "output_type": "stream",
     "text": [
      "{'nom cours': 'Initiation au développement', 'thème': 'Algorithmique', 'étudiants': [{'nom': 'Martin', 'prénom': 'Jean', 'Dépt': 95}, {'nom': 'Mohamed', 'prénom': 'Ali', 'Dépt': 93}, {'nom': 'Lina', 'prénom': 'Bertrand', 'Dépt': 95}]}\n"
     ]
    }
   ],
   "source": [
    "#2ème possibilité\n",
    "import  json \n",
    "fichier = open (\"./files/bdp.json\",\"r\",encoding='utf-8')\n",
    "cours = json.load(fichier)\n",
    "fichier.close()\n",
    "print (cours)"
   ]
  },
  {
   "cell_type": "markdown",
   "metadata": {
    "deletable": false,
    "editable": false,
    "run_control": {
     "frozen": true
    }
   },
   "source": [
    "Ainsi il est possible d'accéder aux éléments du dictionnaire comme suit : "
   ]
  },
  {
   "cell_type": "code",
   "execution_count": 13,
   "metadata": {
    "deletable": false,
    "editable": false
   },
   "outputs": [
    {
     "name": "stdout",
     "output_type": "stream",
     "text": [
      "Initiation au développement\n"
     ]
    }
   ],
   "source": [
    "print(cours['nom cours'])"
   ]
  },
  {
   "cell_type": "code",
   "execution_count": 14,
   "metadata": {
    "deletable": false,
    "editable": false
   },
   "outputs": [
    {
     "name": "stdout",
     "output_type": "stream",
     "text": [
      "Algorithmique\n"
     ]
    }
   ],
   "source": [
    "print (cours['thème'])"
   ]
  },
  {
   "cell_type": "code",
   "execution_count": 15,
   "metadata": {
    "deletable": false,
    "editable": false
   },
   "outputs": [
    {
     "name": "stdout",
     "output_type": "stream",
     "text": [
      "[{'nom': 'Martin', 'prénom': 'Jean', 'Dépt': 95}, {'nom': 'Mohamed', 'prénom': 'Ali', 'Dépt': 93}, {'nom': 'Lina', 'prénom': 'Bertrand', 'Dépt': 95}]\n"
     ]
    }
   ],
   "source": [
    "identite=cours['étudiants']\n",
    "print(identite)"
   ]
  },
  {
   "cell_type": "markdown",
   "metadata": {
    "deletable": false,
    "editable": false,
    "run_control": {
     "frozen": true
    }
   },
   "source": [
    "Comme le resultat de la variable `identite` est un tableau, alors il est possible d'accéder aux éléments en utilisant l'accès direct ou en utilisant les boucles. "
   ]
  },
  {
   "cell_type": "code",
   "execution_count": 16,
   "metadata": {
    "deletable": false,
    "editable": false
   },
   "outputs": [
    {
     "name": "stdout",
     "output_type": "stream",
     "text": [
      "{'nom': 'Martin', 'prénom': 'Jean', 'Dépt': 95}\n",
      "3\n"
     ]
    }
   ],
   "source": [
    "iddico=identite[0]\n",
    "print (iddico)\n",
    "print(len(iddico))"
   ]
  },
  {
   "cell_type": "code",
   "execution_count": 17,
   "metadata": {
    "deletable": false,
    "editable": false
   },
   "outputs": [
    {
     "name": "stdout",
     "output_type": "stream",
     "text": [
      "{'nom': 'Martin', 'prénom': 'Jean', 'Dépt': 95}\n",
      "{'nom': 'Mohamed', 'prénom': 'Ali', 'Dépt': 93}\n",
      "{'nom': 'Lina', 'prénom': 'Bertrand', 'Dépt': 95}\n"
     ]
    }
   ],
   "source": [
    "i=0\n",
    "while (i<len(identite)):\n",
    "    print(identite[i])\n",
    "    i=i+1"
   ]
  },
  {
   "cell_type": "markdown",
   "metadata": {
    "deletable": false,
    "editable": false,
    "run_control": {
     "frozen": true
    }
   },
   "source": [
    "Cette écriture est équivalente à une écriture un peu complexe "
   ]
  },
  {
   "cell_type": "code",
   "execution_count": 18,
   "metadata": {
    "deletable": false,
    "editable": false
   },
   "outputs": [
    {
     "name": "stdout",
     "output_type": "stream",
     "text": [
      "{'nom': 'Martin', 'prénom': 'Jean', 'Dépt': 95}\n"
     ]
    }
   ],
   "source": [
    "print (cours['étudiants'][0])"
   ]
  },
  {
   "cell_type": "markdown",
   "metadata": {
    "deletable": false,
    "editable": false,
    "run_control": {
     "frozen": true
    }
   },
   "source": [
    "Puisque le résultat `iddico` est également un dictionnaire, alors il est possible d'accéder aux éléments : "
   ]
  },
  {
   "cell_type": "code",
   "execution_count": 19,
   "metadata": {
    "deletable": false,
    "editable": false
   },
   "outputs": [
    {
     "name": "stdout",
     "output_type": "stream",
     "text": [
      "Martin\n",
      "95\n",
      "Jean\n"
     ]
    }
   ],
   "source": [
    "print (iddico['nom'])\n",
    "print (iddico['Dépt'])\n",
    "print (iddico['prénom'])"
   ]
  },
  {
   "cell_type": "markdown",
   "metadata": {},
   "source": [
    "### Écrire dans un fichier JSON"
   ]
  },
  {
   "cell_type": "markdown",
   "metadata": {
    "deletable": false,
    "editable": false,
    "run_control": {
     "frozen": true
    }
   },
   "source": [
    "La fonction `dump(dictionnaire, fichier, indent=n, ensure_ascii=False)` permet d'enregistrer en texte au format JSON un dictionnaire ou un tableau directement dans le fichier `fichier` précédemment ouvert, avec une éventuelle indentation. Les paramètres autres que `dictionnaire` et `fichier`sont facultatifs.\n",
    "\n",
    "L'option `ensure_ascii` vaut par défaut `True`, les caractères non-ASCII sont alors mal interprétés. Si `ensure_ascii=False`, les caractères non-ASCII sont restitués tels qu'ils sont."
   ]
  },
  {
   "cell_type": "code",
   "execution_count": null,
   "metadata": {
    "deletable": false,
    "editable": false
   },
   "outputs": [],
   "source": [
    "from json import *\n",
    "cours2 = {'nom cours': 'Java',\n",
    " 'thème': 'Algorithmique',\n",
    " 'étudiants': [{'nom': 'Martin', 'prénom': 'Jean', 'Dépt': 95},\n",
    "  {'nom': 'Mohamed', 'prénom': 'Ali', 'Dépt': 93},\n",
    "  {'nom': 'Dupond', 'prénom': 'Bertrand', 'Dépt': 95}]}"
   ]
  },
  {
   "cell_type": "code",
   "execution_count": 22,
   "metadata": {
    "deletable": false,
    "editable": false
   },
   "outputs": [],
   "source": [
    "fichier2 = open (\"./files/coursjava.json\",\"w\", encoding='utf-8')\n",
    "\n",
    "dump(cours2, fichier2, indent=10, ensure_ascii=False)\n",
    "\n",
    "fichier2.close()"
   ]
  },
  {
   "cell_type": "markdown",
   "metadata": {
    "deletable": false,
    "editable": false,
    "run_control": {
     "frozen": true
    }
   },
   "source": [
    "- Sur ce thème : **Exercices 1, 2 et 3, TD 11**"
   ]
  }
 ],
 "metadata": {
  "kernelspec": {
   "display_name": "Python 3 (ipykernel)",
   "language": "python",
   "name": "python3"
  },
  "language_info": {
   "codemirror_mode": {
    "name": "ipython",
    "version": 3
   },
   "file_extension": ".py",
   "mimetype": "text/x-python",
   "name": "python",
   "nbconvert_exporter": "python",
   "pygments_lexer": "ipython3",
   "version": "3.11.4"
  },
  "latex_envs": {
   "LaTeX_envs_menu_present": true,
   "autoclose": false,
   "autocomplete": true,
   "bibliofile": "biblio.bib",
   "cite_by": "apalike",
   "current_citInitial": 1,
   "eqLabelWithNumbers": true,
   "eqNumInitial": 1,
   "hotkeys": {
    "equation": "Ctrl-E",
    "itemize": "Ctrl-I"
   },
   "labels_anchors": false,
   "latex_user_defs": false,
   "report_style_numbering": false,
   "user_envs_cfg": false
  },
  "toc": {
   "base_numbering": 1,
   "nav_menu": {},
   "number_sections": false,
   "sideBar": false,
   "skip_h1_title": false,
   "title_cell": "Table of Contents",
   "title_sidebar": "Contents",
   "toc_cell": false,
   "toc_position": {},
   "toc_section_display": false,
   "toc_window_display": false
  }
 },
 "nbformat": 4,
 "nbformat_minor": 2
}
