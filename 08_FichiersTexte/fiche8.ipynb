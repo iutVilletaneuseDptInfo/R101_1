{
 "cells": [
  {
   "cell_type": "markdown",
   "metadata": {
    "deletable": false,
    "editable": false,
    "run_control": {
     "frozen": true
    }
   },
   "source": [
    "# <center> Chapitre 8 : Fichiers texte  </center>"
   ]
  },
  {
   "cell_type": "markdown",
   "metadata": {},
   "source": [
    "La mécanique de la lecture et de l'écriture d'un fichier sont assez similaires.\n",
    "\n",
    "### Ouverture d'un fichier \n",
    "La première étape consiste à ouvrir le fichier avec la fonction `open()`. \n",
    "\n",
    ">|  |  |\n",
    ">| :-- | :-- |\n",
    ">| `open(file_path,mode)` | Retourne un *objet fichier* (ou *flux*) qui doit être affecté à une variable. Cette variable peut être considérée comme un curseur (de lecture ou d'écriture) placé dans le fichier.|\n",
    "\n",
    "La fonction `open()` prend 2 paramètres:\n",
    "- le premier paramètre est le nom du fichier. Il s'agit d'une chaîne de caractères qui indique le chemin du fichier (`path`).\n",
    "- le second paramètre indique le mode d'ouverture du fichier. Il y a 4 modes d'ouverture de fichier possibles:\n",
    "\n",
    "| Mode d'ouverture d'un fichier | Description | Remarques |\n",
    "| :---  |    :---:    | :---      |\n",
    "|`r`     | Read - Valeur par défaut. Ouvre le fichier en lecture et renvoie une erreur si le fichier n'existe pas.| |\n",
    "|`w`     | Write - Ouvre le fichier en écriture et crée le fichier si il ne le trouve pas.| **Attention** Si le fichier prééxiste, le contenu intial du fichier est écrasé par le nouveau contenu.|\n",
    "|`a`     | Append - Ouvre le fichier en lecture à la fin et crée le fichier si il ne le trouve pas.| **Attention** Si le fichier prééxiste, le contenu intial du fichier est préservé, le nouveau contenu est écrit à la suite du contenu prééxistant.|\n",
    "|`x`     | Create - Crée le fichier ou retourne une erreur si il existe déjà.| |\n",
    "\n",
    "### Parcours (en lecture ou écriture) d'un fichier \n",
    "| fonction de parcours | Utilisation |\n",
    "|----------|-------------|\n",
    "| f.open( path, mode ) | retourne un flux sur le fichier path |\n",
    "| f.readline() | retourne la ligne suivante du fichier |\n",
    "| f.read()| retourne la totalité du fichier |\n",
    "| f.write( chaine ) | écrit dans le fichier la chaine |\n",
    "| f.close() | ferme le fichier | :\n",
    "\n",
    "### Fermeture du fichier\n",
    "Tout fichier ouvert par un programme (en écriture comme en lecture) **DOIT** être fermé par le programme au moyen de la fonction `close` et du nom de la variable fichier. \n",
    "\n",
    ">|  |  |\n",
    ">| :-- | :-- |\n",
    ">| `f.close()` | Ferme le flux vers le fichier enregistré dans la variable `f`.|\n",
    "\n",
    "### Lecture d'un fichier \n",
    "\n",
    "Deux fonctions permettent de lire le contenu d'un fichier. L'une (`readline()`) permet de lire le contenu du fichier ligne à ligne. L'autre (`readlines()`) permet de lire tout le contenu d'un fichier.\n",
    "\n",
    ">|  |  |\n",
    ">| :-- | :-- |\n",
    ">| `f.readline()` | Retourne la **chaîne de caractères** correspondant à la ligne du fichier située à la suite du curseur de la variable de flux `f` et avance le curseur jusqu'au début de la prochaine ligne. Retourne une chaîne vide si le curseur se trouve à la fin du fichier.|\n",
    ">| `f.readlines()` | Retourne un **tableau de chaînes de caractères** dont chaque valeur correspond à une ligne du fichier associé à la variable de flux `f`.|\n",
    "\n",
    "**Parcours d'un fichier ligne par ligne jusqu'à sa dernière ligne**\n",
    "```\n",
    "f = open(path, mode)\n",
    "ligne = f.readline()\n",
    "while ligne !='' :\n",
    "    operations ...\n",
    "    ligne = f.readline()\n",
    "f.close()\n",
    "```\n",
    "\n",
    "#### Fonction utiles lors de la lecture \n",
    "\n",
    ">|  |  |\n",
    ">| :---- | :-- |\n",
    ">| chaine.strip()           | supprime espaces et `'\\n'` en début et fin de `chaine` |\n",
    ">| chaine.split(separateur) | sépare la `chaine` où il y a un séparateur et retourne le tableau des chaines obtenues. Par défaut, quand aucun paramètre n'est donné, le séparateur est l'espace|"
   ]
  },
  {
   "cell_type": "markdown",
   "metadata": {
    "deletable": false,
    "editable": false,
    "run_control": {
     "frozen": true
    }
   },
   "source": [
    "### Écriture dans un fichier\n",
    "\n",
    "L'écriture des données dans un fichier est une procédure qui suit le modèle suivant :\n",
    "- Ouverture du fichier en écriture :\n",
    "\n",
    "```f = open(path,'w')```\n",
    "\n",
    "Il est possible d'**écrire à la fin d'un fichier existant** au moyen du mode d'ouverture `'a'`(pour append)."
   ]
  },
  {
   "cell_type": "markdown",
   "metadata": {
    "deletable": false,
    "editable": false,
    "run_control": {
     "frozen": true
    }
   },
   "source": [
    "- Ecriture de texte dans le fichier :\n",
    "\n",
    "Il est alors possible d'écrire dans un fichier au moyen de la fonction `write` et de la variable de flux associée.\n",
    "\n",
    ">|  |  |\n",
    ">| :-- | :-- |\n",
    ">| `f.write(s)` | écrit dans le fichier lié à la variable de flux `f` la chaîne de caractères `s`.|\n"
   ]
  },
  {
   "cell_type": "markdown",
   "metadata": {
    "deletable": false,
    "editable": false,
    "run_control": {
     "frozen": true
    }
   },
   "source": [
    "Il est possible de forcer l'écriture du tampon dans le fichier en utilisant la fonction `flush`.\n",
    "\n",
    ">|  |  |\n",
    ">| :-- | :-- |\n",
    ">| `f.flush()` | écrit le contenu du tampon dans le fichier lié à la  variable de flux  `f` et vide le tampon.|"
   ]
  },
  {
   "cell_type": "markdown",
   "metadata": {
    "deletable": false,
    "editable": false,
    "run_control": {
     "frozen": true
    }
   },
   "source": [
    "- Fermeture du fichier :\n",
    "\n",
    "Dans tout les cas, lorsque le flux du fichier est fermé, le contenu du tampon est écrit dans le fichier.\n",
    "\n",
    "```f.close()```"
   ]
  }
 ],
 "metadata": {
  "kernelspec": {
   "display_name": "Python 3 (ipykernel)",
   "language": "python",
   "name": "python3"
  },
  "language_info": {
   "codemirror_mode": {
    "name": "ipython",
    "version": 3
   },
   "file_extension": ".py",
   "mimetype": "text/x-python",
   "name": "python",
   "nbconvert_exporter": "python",
   "pygments_lexer": "ipython3",
   "version": "3.11.4"
  },
  "latex_envs": {
   "LaTeX_envs_menu_present": true,
   "autoclose": false,
   "autocomplete": true,
   "bibliofile": "biblio.bib",
   "cite_by": "apalike",
   "current_citInitial": 1,
   "eqLabelWithNumbers": true,
   "eqNumInitial": 1,
   "hotkeys": {
    "equation": "Ctrl-E",
    "itemize": "Ctrl-I"
   },
   "labels_anchors": false,
   "latex_user_defs": false,
   "report_style_numbering": false,
   "user_envs_cfg": false
  },
  "toc": {
   "base_numbering": 1,
   "nav_menu": {},
   "number_sections": true,
   "sideBar": true,
   "skip_h1_title": false,
   "title_cell": "Table of Contents",
   "title_sidebar": "Contents",
   "toc_cell": false,
   "toc_position": {},
   "toc_section_display": true,
   "toc_window_display": false
  }
 },
 "nbformat": 4,
 "nbformat_minor": 2
}
