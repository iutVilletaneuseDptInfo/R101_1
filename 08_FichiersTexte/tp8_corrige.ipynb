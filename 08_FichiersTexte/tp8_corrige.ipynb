{
 "cells": [
  {
   "cell_type": "markdown",
   "metadata": {
    "deletable": false,
    "editable": false,
    "run_control": {
     "frozen": true
    }
   },
   "source": [
    "# <center> Chapitre 8 : Fichiers texte  - TP Corrigé</center>"
   ]
  },
  {
   "cell_type": "markdown",
   "metadata": {
    "deletable": false,
    "editable": false,
    "run_control": {
     "frozen": true
    }
   },
   "source": [
    "### Exercice 1 :  Lecture/Écriture dans un fichier**\n",
    "\n",
    "#### Question 1: Écriture dans un fichier*\n",
    "Définir un programme qui écrit dans un fichier nommé `'files/prenoms.txt'` la liste de prénom suivants dans cet ordre:<br>"
   ]
  },
  {
   "cell_type": "code",
   "execution_count": null,
   "metadata": {
    "deletable": false,
    "editable": false
   },
   "outputs": [],
   "source": [
    "prenoms=[\"Jean\", \"Isidore\", \"Vanessa\", \"Anne\", \"Maximilien\",\n",
    "         \"Alexandre-Benoît\", \"Louise\"]"
   ]
  },
  {
   "cell_type": "markdown",
   "metadata": {
    "deletable": false,
    "editable": false,
    "solution2": "hidden",
    "solution2_first": true
   },
   "source": [
    "Chaque prénom sera écrit sur une ligne distincte."
   ]
  },
  {
   "cell_type": "code",
   "execution_count": null,
   "metadata": {
    "deletable": false,
    "editable": false,
    "solution2": "hidden"
   },
   "outputs": [],
   "source": [
    "#------------------------------#\n",
    "#    CORRECTION  ! ! ! ! ! !   #\n",
    "#------------------------------#\n",
    "prenoms = [\"Jean\", \"Isidore\", \"Vanessa\", \"Anne\", \"Maximilien\", \"Alexandre-Benoît\", \"Louise\"]\n",
    "\n",
    "f_out = open('files/prenoms.txt','w', encoding=\"utf-8\")\n",
    "i = 0\n",
    "while i < len(prenoms):\n",
    "    f_out.write(prenoms[i] + '\\n')\n",
    "    i += 1\n",
    "f_out.close()"
   ]
  },
  {
   "cell_type": "markdown",
   "metadata": {
    "solution2": "hidden",
    "solution2_first": true
   },
   "source": [
    "#### Question 2:  Lecture dans un fichier*\n",
    "\n",
    "Définir un programme qui lit les prénoms du fichier `'prenoms.txt'` et affiche en plus du prénom lu le nombre de caractères qui le constitue. Chaque prénom et son nombre de caractère seront affichés sur une ligne différente et séparés par une virgule."
   ]
  },
  {
   "cell_type": "code",
   "execution_count": null,
   "metadata": {
    "deletable": false,
    "editable": false,
    "solution2": "hidden"
   },
   "outputs": [],
   "source": [
    "#------------------------------#\n",
    "#    CORRECTION  ! ! ! ! ! !   #\n",
    "#------------------------------#\n",
    "f_in = open('files/prenoms.txt','r',encoding='utf-8')\n",
    "li = f_in.readline()\n",
    "while li!='' :\n",
    "    li = li.strip()    # on supprime le `\\n`\n",
    "    print(li,',',len(li))\n",
    "    li = f_in.readline()\n",
    "f_in.close()"
   ]
  },
  {
   "cell_type": "markdown",
   "metadata": {
    "deletable": false,
    "editable": false,
    "run_control": {
     "frozen": true
    },
    "solution2": "hidden",
    "solution2_first": true
   },
   "source": [
    "#### Question 3: Lecture et Ecriture dans un fichier**\n",
    "\n",
    "Définir un programme qui, au moyen d'une seule boucle, lit les prénoms du fichier `prenoms.txt` et qui écrit dans un fichier `prenoms.csv` en plus du prénom le nombre de caractère qui le constitue. Sur chaque ligne du fichier, le prénom et sa longueur sont séparés par une virgule."
   ]
  },
  {
   "cell_type": "code",
   "execution_count": 9,
   "metadata": {
    "deletable": false,
    "editable": false,
    "solution2": "hidden"
   },
   "outputs": [],
   "source": [
    "#------------------------------#\n",
    "#    CORRECTION  ! ! ! ! ! !   #\n",
    "#------------------------------#\n",
    "f_out = open( 'files/prenoms.csv','w',encoding=\"utf-8\")\n",
    "f_in = open( 'files/prenoms.txt','r', encoding=\"utf-8\")\n",
    "li = f_in.readline()\n",
    "while( '' != li) :\n",
    "    li = li.strip()\n",
    "    f_out.write(li +',' +str(len(li)) +'\\n')\n",
    "    li = f_in.readline()\n",
    "f_in.close()\n",
    "f_out.close()"
   ]
  },
  {
   "cell_type": "markdown",
   "metadata": {
    "deletable": false,
    "editable": false,
    "run_control": {
     "frozen": true
    },
    "solution2": "hidden",
    "solution2_first": true
   },
   "source": [
    "### Exercice 2 : Analyse des données d'un fichier**\n",
    "Le fichier `'files/planetes.csv'` a le contenu suivant :\n",
    "```\n",
    "Planete , Dist au soleil en millions de km , Nbre de satellites\n",
    "Mercure , 57.9 , 0\n",
    "Venus , 108.2 , 0\n",
    "Terre , 149.6 , 1\n",
    "Mars , 227.9 , 2\n",
    "Jupiter , 778.8 , 63\n",
    "Saturne , 1434 , 60\n",
    "Uranus , 2871 , 27\n",
    "Neptune , 4495 , 13\n",
    "```\n",
    "####  Question 1 : Lecture des données \n",
    "\n",
    "Ecrire un programme qui crée 3 tableaux pour collecter le contenu de chaque colonne:\n",
    "- le tableau `planetes` contiendra le nom des planètes (1ère colonne) sous forme de chaînes de caractères,\n",
    "- le tableau `distances` contiendra la distance des planètes au soleil (2ème colonne) sous forme de flottants,\n",
    "- le tableau `satellites` contiendra le nombre de satellites des planètes (3ème colonne) sous forme d'entiers.\n",
    "Les informations de la première ligne ne seront pas stockées en mémoire."
   ]
  },
  {
   "cell_type": "code",
   "execution_count": 10,
   "metadata": {
    "deletable": false,
    "editable": false,
    "solution2": "hidden"
   },
   "outputs": [
    {
     "name": "stdout",
     "output_type": "stream",
     "text": [
      "['Mercure ', 'Venus ', 'Terre ', 'Mars ', 'Jupiter ', 'Saturne ', 'Uranus ', 'Neptune ']\n",
      "[57.9, 108.2, 149.6, 227.9, 778.8, 1434.0, 2871.0, 4495.0]\n",
      "[0, 0, 1, 2, 63, 60, 27, 13]\n"
     ]
    }
   ],
   "source": [
    "#------------------------------#\n",
    "#    CORRECTION  ! ! ! ! ! !   #\n",
    "#------------------------------#\n",
    "f_input = open('files/planetes.csv','r')\n",
    "planetes = []\n",
    "distances = []\n",
    "satellites = []\n",
    "f_input.readline()       # saut de la 1ère ligne de libellés\n",
    "li = f_input.readline()  # lecture de la 1ère ligne de données\n",
    "while(li != '') :      # tant que ce n'est pas la fin du fichier \n",
    "    tab_li=li.split(',')\n",
    "    planetes.append(tab_li[0]) \n",
    "    distances.append(float(tab_li[1]))\n",
    "    satellites.append(int(tab_li[2]))\n",
    "    li = f_input.readline()  # lecture de la ligne suivante\n",
    "f_input.close()\n",
    "\n",
    "# Affichage des tableaux \n",
    "print(planetes)\n",
    "print(distances)\n",
    "print(satellites)"
   ]
  },
  {
   "cell_type": "markdown",
   "metadata": {
    "deletable": false,
    "editable": false,
    "run_control": {
     "frozen": true
    },
    "solution2": "hidden",
    "solution2_first": true
   },
   "source": [
    "#### Question 2 :  Lecture et fonction de découpage  \n",
    "Lorsque chaque ligne suit le même format, il est conseillé de définir une fonction de *découpage* (ou *parsing*) `parse_line` qui prend en paramètre une chaîne de caractère `ligne` correspondant à la lecture d'une ligne (ce qui est la valeur retournée par `readline`), le séparateur des colonnes `sep` et qui est capable d'extraire de façon individuelle la valeur d'une colonne indiqué par son numéro `num_colonne` et de la retourner avec un `type` `ty` passé lui aussi en paramètre.\n",
    "\n",
    "- Ecrire la fonction `parse_line(ligne, sep, num_colonne, ty)` pour traiter le fichier `files/planetes.csv`."
   ]
  },
  {
   "cell_type": "code",
   "execution_count": null,
   "metadata": {
    "deletable": false,
    "editable": false,
    "solution2": "hidden"
   },
   "outputs": [],
   "source": [
    "#------------------------------#\n",
    "#    CORRECTION  ! ! ! ! ! !   #\n",
    "#------------------------------#\n",
    "\n",
    "def parse_line(ligne,sep,num_colonne,ty) :\n",
    "        li = ligne.split(sep)\n",
    "        if ty == int or ty==float or ty==str or ty ==bool :\n",
    "            return(ty(li[num_colonne]))\n",
    "        else:\n",
    "            print(\"Erreur type non reconnu.\")"
   ]
  },
  {
   "cell_type": "markdown",
   "metadata": {
    "solution2": "hidden",
    "solution2_first": true
   },
   "source": [
    "- Ecrire un programme de parsing du fichier complet. Ce programme doit prendre en charge l'ouverture et la fermeture du fichier, lire les données et les mémoriser dans  3 tableaux."
   ]
  },
  {
   "cell_type": "code",
   "execution_count": null,
   "metadata": {
    "deletable": false,
    "editable": false,
    "solution2": "hidden"
   },
   "outputs": [],
   "source": [
    "#------------------------------#\n",
    "#    CORRECTION  ! ! ! ! ! !   #\n",
    "#------------------------------#\n",
    "f_input = open('files/planetes.csv','r')\n",
    "planetes = []\n",
    "distances = []\n",
    "satellites = []\n",
    "f_input.readline()       # saut de la 1ère ligne de libellés\n",
    "li = f_input.readline()  # lecture de la 1ère ligne de données\n",
    "while( '' != li ) :      # tant que ce n'est pas la fin du fichier \n",
    "    planetes.append(parse_line(li, ',', 0, str)) # mémorisation des données lues\n",
    "    distances.append(parse_line(li, ',', 1, float))\n",
    "    satellites.append(parse_line(li, ',', 2, int))\n",
    "    li = f_input.readline()  # lecture de la ligne suivante\n",
    "f_input.close()\n",
    "\n",
    "# Affichage des tableaux \n",
    "print(planetes)\n",
    "print(distances)\n",
    "print(satellites)"
   ]
  },
  {
   "cell_type": "markdown",
   "metadata": {},
   "source": [
    "#### Question 3 : Analyse des données"
   ]
  },
  {
   "cell_type": "markdown",
   "metadata": {
    "deletable": false,
    "editable": false,
    "run_control": {
     "frozen": true
    },
    "solution2": "hidden",
    "solution2_first": true
   },
   "source": [
    "Ecrire les instuctions permettant \n",
    "<UL>\n",
    "<LI> de calculer la distance moyenne des planètes au soleil,\n",
    "<LI> d'afficher le nom d'une (il pourrait y en avoir plusieurs) des planètes qui a le plus de satellites.\n",
    "<UL> "
   ]
  },
  {
   "cell_type": "code",
   "execution_count": null,
   "metadata": {
    "deletable": false,
    "editable": false,
    "solution2": "hidden"
   },
   "outputs": [],
   "source": [
    "#------------------------------#\n",
    "#    CORRECTION  ! ! ! ! ! !   #\n",
    "#------------------------------#\n",
    "# Distance moyenne \n",
    "somme = 0 \n",
    "i=0\n",
    "while i< len(distances):\n",
    "    somme+=distances[i]\n",
    "    i+=1\n",
    "print(\"Distance moyenne au soleil :\", somme/len(distances))\n",
    "\n",
    "# Nom de la planète qui a le plus de satellites\n",
    "max = satellites[0]\n",
    "indice = 0 \n",
    "i=1\n",
    "while i<len(satellites):\n",
    "    if satellites[i]>max:\n",
    "        max=satellites[i]\n",
    "        indice =i\n",
    "    i+=1\n",
    "print(\"C'est\", planetes[indice],\" qui a le plus de satellites\")"
   ]
  }
 ],
 "metadata": {
  "kernelspec": {
   "display_name": "Python 3 (ipykernel)",
   "language": "python",
   "name": "python3"
  },
  "language_info": {
   "codemirror_mode": {
    "name": "ipython",
    "version": 3
   },
   "file_extension": ".py",
   "mimetype": "text/x-python",
   "name": "python",
   "nbconvert_exporter": "python",
   "pygments_lexer": "ipython3",
   "version": "3.11.4"
  },
  "latex_envs": {
   "LaTeX_envs_menu_present": true,
   "autoclose": false,
   "autocomplete": true,
   "bibliofile": "biblio.bib",
   "cite_by": "apalike",
   "current_citInitial": 1,
   "eqLabelWithNumbers": true,
   "eqNumInitial": 1,
   "hotkeys": {
    "equation": "Ctrl-E",
    "itemize": "Ctrl-I"
   },
   "labels_anchors": false,
   "latex_user_defs": false,
   "report_style_numbering": false,
   "user_envs_cfg": false
  },
  "toc": {
   "base_numbering": 1,
   "nav_menu": {},
   "number_sections": true,
   "sideBar": true,
   "skip_h1_title": false,
   "title_cell": "Table of Contents",
   "title_sidebar": "Contents",
   "toc_cell": false,
   "toc_position": {},
   "toc_section_display": true,
   "toc_window_display": false
  }
 },
 "nbformat": 4,
 "nbformat_minor": 2
}
