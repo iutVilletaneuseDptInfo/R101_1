{
 "cells": [
  {
   "cell_type": "markdown",
   "metadata": {
    "deletable": false,
    "editable": false,
    "run_control": {
     "frozen": true
    }
   },
   "source": [
    "# <center> Chapitre 8 : Fichiers texte - TD Corrigé </center>"
   ]
  },
  {
   "cell_type": "markdown",
   "metadata": {
    "deletable": false,
    "editable": false,
    "run_control": {
     "frozen": true
    },
    "solution2": "hidden",
    "solution2_first": true
   },
   "source": [
    "### Exercice 1 :  Lecture  dans un fichier\n",
    "#### Question 1 : Extraire une donnée\n",
    "Ecrire  un programme permettant de lire et de stocker dans une variable `water_index` la valeur (float) de l'indicateur d'accès à une eau de qualité `Access_to_improved_water_2015` de l'Afghanistan (qui correspond à la 3ème colonne de données) de la 2ème ligne (c'est-à-dire la 1ère ligne de *vraies* données) du fichier `files/indicateurs.csv`.\n",
    "\n",
    "Lors de l'exécution, le programme doit produire  l'affichage suivant :\n",
    "\n",
    "```python\n",
    "print(water_index)\n",
    "9.0\n",
    "```"
   ]
  },
  {
   "cell_type": "code",
   "execution_count": null,
   "metadata": {
    "solution2": "hidden"
   },
   "outputs": [],
   "source": [
    "#------------------------------#\n",
    "#    CORRECTION  ! ! ! ! ! !   #\n",
    "#------------------------------#\n",
    "# ----------- Ouverture du fichier -----------\n",
    "f_input = open('files/indicateurs.csv',\"r\")\n",
    "\n",
    "data = f_input.readlines()  # Lecture de toutes les lignes\n",
    "\n",
    "f_input.close()\n",
    "# ----------- Fermeture du fichier -----------\n",
    "\n",
    "li = data[1]\n",
    "liste_des_champs = li.split(\";\")\n",
    "water_index = float(liste_des_champs[2])\n",
    "\n",
    "print(water_index)\n",
    "\n",
    "#######################\n",
    "f=open(\"files/indicateurs.csv\",'r')\n",
    "\n",
    "# 1ère solution \n",
    "li1=f.readline() #1ere ligne\n",
    "li=f.readline() #2eme ligne\n",
    "\n",
    "tab=li.split(';')\n",
    "access_water = float(tab[2])\n",
    "print(access_water)\n",
    "\n",
    "f.seek(0) # permet de se repositionner au début du fichier\n",
    "\n",
    "# 2ème solution\n",
    "total=f.readlines()\n",
    "print(total[1])\n",
    "li2=total[1]\n",
    "li3=li2.split(';')\n",
    "print(li3)\n",
    "print(float(li3[2]))\n",
    "\n",
    "f.close()"
   ]
  },
  {
   "cell_type": "markdown",
   "metadata": {
    "deletable": false,
    "editable": false,
    "solution2": "hidden",
    "solution2_first": true
   },
   "source": [
    "#### Question 2 : Extraire une colonne de données\n",
    "\n",
    "Ecrire un programme permettant d'extraire et de stocker dans un tableau `tab_water`  les indicateurs d'accès à une eau de qualité de l'ensemble des pays listés dans le fichier `files/indicateur.csv`."
   ]
  },
  {
   "cell_type": "code",
   "execution_count": null,
   "metadata": {
    "deletable": false,
    "editable": false,
    "solution2": "hidden"
   },
   "outputs": [],
   "source": [
    "#------------------------------#\n",
    "#    CORRECTION  ! ! ! ! ! !   #\n",
    "#------------------------------#\n",
    "\n",
    "f=open(\"files/indicateurs.csv\",'r')\n",
    "\n",
    "li=f.readline() # 1ere ligne - rien à faire\n",
    "li=f.readline() # 2eme ligne \n",
    "\n",
    "tab_water=[]\n",
    "\n",
    "while li!=\"\":\n",
    "    \n",
    "    tab=li.split(\";\")\n",
    "    access_water=float(tab[2])\n",
    "    tab_water.append(access_water)\n",
    "    \n",
    "    li=f.readline()\n",
    "\n",
    "f.close()\n",
    "\n",
    "print(tab_water)"
   ]
  },
  {
   "cell_type": "markdown",
   "metadata": {
    "deletable": false,
    "editable": false,
    "run_control": {
     "frozen": true
    },
    "solution2": "hidden",
    "solution2_first": true
   },
   "source": [
    "#### Question 3 : Statistiques sur l'eau \n",
    "Compléter le programme précédent pour qu'il produise un rapport d'analyse de l'indicateur d'accès à de l'eau de qualité sur tous les pays listés dans le fichier `files/indicateur.csv` en donnant pour cet indicateur :\n",
    "- la valeur minimale,\n",
    "- la valeur maximale,\n",
    "- la moyenne \n",
    "de ces valeurs."
   ]
  },
  {
   "cell_type": "code",
   "execution_count": null,
   "metadata": {
    "deletable": false,
    "editable": false,
    "solution2": "hidden"
   },
   "outputs": [],
   "source": [
    "#------------------------------#\n",
    "#    CORRECTION  ! ! ! ! ! !   #\n",
    "#------------------------------#\n",
    "mini =tab_water[0]\n",
    "maxi =tab_water[0]\n",
    "somme = tab_water[0]\n",
    "i=1\n",
    "while i<len(tab_water):\n",
    "    somme+=tab_water[i]\n",
    "    if tab_water[i]< mini :\n",
    "        mini =tab_water[i]\n",
    "    elif tab_water[i]> maxi:\n",
    "        maxi = tab_water[i] \n",
    "    i+=1\n",
    "print(\"Minimum = \",mini)\n",
    "print(\"Maximum = \", maxi)\n",
    "print(\"Moyenne = \", somme/len(tab_water))"
   ]
  },
  {
   "cell_type": "markdown",
   "metadata": {
    "solution2": "hidden",
    "solution2_first": true
   },
   "source": [
    "### Exercice 2 :  Écriture/Lecture dans un fichier*\n",
    "\n",
    "#### Question 1 : Écriture/Lecture dans un fichier texte\n",
    "Définir un programme \n",
    "- qui écrit dans un fichier tous les entiers positifs strictement inférieurs à 10 000,  chaque entier étant sur une ligne différente du fichier. \n",
    "- puis qui lit le contenu de ce fichier et stocke toutes les valeurs dans un tableau.\n",
    "<br> **NB** : Ce sont des entiers que l'on veut stocker pas des chaînes de caractères.\n",
    "- et qui finalement affiche le tableau obtenu."
   ]
  },
  {
   "cell_type": "code",
   "execution_count": null,
   "metadata": {
    "deletable": false,
    "editable": false,
    "solution2": "hidden"
   },
   "outputs": [],
   "source": [
    "#------------------------------#\n",
    "#    CORRECTION  ! ! ! ! ! !   #\n",
    "#------------------------------#\n",
    "f_out=open('files/exo21_td8.txt','w',encoding='utf-8')\n",
    "i=0\n",
    "while i<10000:\n",
    "    f_out.write(str(i)+'\\n')\n",
    "    i+=1\n",
    "f_out.close()\n",
    "\n",
    "f_in=open('files/exo21_td8.txt','r',encoding='utf-8')\n",
    "tab=[]\n",
    "ligne=f_in.readline()\n",
    "while ligne!=\"\":\n",
    "    tab.append(int(ligne)) #on peut remplacer ligne par ligne.strip()\n",
    "    ligne=f_in.readline()\n",
    "f_in.close()\n",
    "\n",
    "print(tab)"
   ]
  },
  {
   "cell_type": "markdown",
   "metadata": {
    "solution2": "hidden",
    "solution2_first": true
   },
   "source": [
    "#### Question 2\n",
    "Faire la même chose qu'à la question précédente, mais cette fois-ci tous les entiers sont sur une même ligne et sont séparés par un `;`. Le fichier obtenu est un fichier CSV et non plus un fichier texte."
   ]
  },
  {
   "cell_type": "code",
   "execution_count": null,
   "metadata": {
    "deletable": false,
    "editable": false,
    "solution2": "hidden"
   },
   "outputs": [],
   "source": [
    "#------------------------------#\n",
    "#    CORRECTION  ! ! ! ! ! !   #\n",
    "#------------------------------#\n",
    "f_out=open('files/exo22_td8.csv','w',encoding='utf-8')\n",
    "i=0\n",
    "while i<10000-1:\n",
    "    f_out.write(str(i)+';')\n",
    "    i+=1\n",
    "f_out.write(str(i)) # pour éviter un ';' en fin de ligne\n",
    "f_out.close()\n",
    "\n",
    "f_in=open('files/exo22_td8.csv','r',encoding='utf-8')\n",
    "ligne=f_in.read() #ou f_in.readline()\n",
    "f_in.close()\n",
    "\n",
    "tab2=ligne.split(';')\n",
    "# cast des chaines de caractères en int\n",
    "i=0\n",
    "while i<len(tab2):\n",
    "    tab2[i]=int(tab2[i])\n",
    "    i+=1\n",
    "print(tab2)"
   ]
  },
  {
   "cell_type": "markdown",
   "metadata": {
    "solution2": "hidden",
    "solution2_first": true
   },
   "source": [
    "#### Question 2 : Écriture/Lecture dans un fichier CSV\n",
    "Faire la même chose qu'à la question précédente, mais cette fois-ci tous les entiers sont sur une même ligne et sont séparés par un `;`. Le fichier obtenu est un fichier CSV et non plus un fichier texte."
   ]
  },
  {
   "cell_type": "code",
   "execution_count": null,
   "metadata": {
    "deletable": false,
    "editable": false,
    "solution2": "hidden"
   },
   "outputs": [],
   "source": [
    "#------------------------------#\n",
    "#    CORRECTION  ! ! ! ! ! !   #\n",
    "#------------------------------#\n",
    "f_out = open('files/exo22_td8.csv','w')\n",
    "i = 0\n",
    "while i < 10000 -1:\n",
    "    f_out.write(str(i)+';')\n",
    "    i += 1\n",
    "f_out.write(str(i))\n",
    "f_out.close()\n",
    "\n",
    "tab = []\n",
    "f_in = open('files/exo22_td8.csv','r')\n",
    "li = f_in.readline()\n",
    "tab = li.split(';')\n",
    "#print(tab)\n",
    "#transformation des chaines de caractères en entiers\n",
    "i=0\n",
    "while i<len(tab):\n",
    "    tab[i]=int(tab[i])\n",
    "    i+=1\n",
    "print(tab)\n",
    "f_in.close()"
   ]
  },
  {
   "cell_type": "markdown",
   "metadata": {
    "deletable": false,
    "editable": false,
    "run_control": {
     "frozen": true
    },
    "solution2": "hidden",
    "solution2_first": true
   },
   "source": [
    "#### Question 3 : Ecriture dans un fichier existant\n",
    "Définir un programme  qui ajoute au fichier de la Question 1 les entiers 10 000 à 10100 (non inclus),  chaque entier étant sur une ligne différente du fichier. "
   ]
  },
  {
   "cell_type": "code",
   "execution_count": null,
   "metadata": {
    "deletable": false,
    "editable": false,
    "solution2": "hidden"
   },
   "outputs": [],
   "source": [
    "#------------------------------#\n",
    "#    CORRECTION  ! ! ! ! ! !   #\n",
    "#------------------------------#\n",
    "f_out = open('files/exo21_td8.txt','a')\n",
    "i = 10000\n",
    "while i < 10100 :\n",
    "    f_out.write(str(i)+'\\n')\n",
    "    i += 1\n",
    "f_out.close()"
   ]
  },
  {
   "cell_type": "markdown",
   "metadata": {
    "deletable": false,
    "editable": false,
    "run_control": {
     "frozen": true
    }
   },
   "source": [
    "# Pour aller plus loin"
   ]
  },
  {
   "cell_type": "markdown",
   "metadata": {},
   "source": [
    "### Exercice 3 : Inventaire**\n",
    "\n",
    "Une boutique de sport procède à l'inventaire des articles disponibles et stocke les données recueillies dans \n",
    "un fichier `files/inventaire.csv`. Il est précisé sur la première ligne que la première colonne correspond au nom de l'article, la seconde au nombre d'items disponibles et la troisième à la couleur des articles. Le séparateur est un `;`."
   ]
  },
  {
   "cell_type": "markdown",
   "metadata": {
    "deletable": false,
    "editable": false,
    "solution2": "hidden",
    "solution2_first": true
   },
   "source": [
    "#### Question  : Analyser les données\n",
    "\n",
    "A partir du fichier `files/inventaire.csv`, indiquer le nombre d'articles en stock."
   ]
  },
  {
   "cell_type": "code",
   "execution_count": null,
   "metadata": {
    "deletable": false,
    "editable": false,
    "solution2": "hidden"
   },
   "outputs": [],
   "source": [
    "# lecture du fichier\n",
    "f_in = open(path,'r')\n",
    "li = f_in.readline()# lecture de la 1ere ligne\n",
    "li=f_in.readline() \n",
    "nombre=0\n",
    "while li!='':   \n",
    "    tab_li=li.split(';')\n",
    "    nombre+=int(tab_li[1])\n",
    "    li=f_in.readline() \n",
    "f_in.close()\n",
    "print(\"Le nombre d'item est :\", nombre)"
   ]
  }
 ],
 "metadata": {
  "kernelspec": {
   "display_name": "Python 3 (ipykernel)",
   "language": "python",
   "name": "python3"
  },
  "language_info": {
   "codemirror_mode": {
    "name": "ipython",
    "version": 3
   },
   "file_extension": ".py",
   "mimetype": "text/x-python",
   "name": "python",
   "nbconvert_exporter": "python",
   "pygments_lexer": "ipython3",
   "version": "3.11.4"
  },
  "latex_envs": {
   "LaTeX_envs_menu_present": true,
   "autoclose": false,
   "autocomplete": true,
   "bibliofile": "biblio.bib",
   "cite_by": "apalike",
   "current_citInitial": 1,
   "eqLabelWithNumbers": true,
   "eqNumInitial": 1,
   "hotkeys": {
    "equation": "Ctrl-E",
    "itemize": "Ctrl-I"
   },
   "labels_anchors": false,
   "latex_user_defs": false,
   "report_style_numbering": false,
   "user_envs_cfg": false
  },
  "toc": {
   "base_numbering": 1,
   "nav_menu": {},
   "number_sections": true,
   "sideBar": true,
   "skip_h1_title": false,
   "title_cell": "Table of Contents",
   "title_sidebar": "Contents",
   "toc_cell": false,
   "toc_position": {},
   "toc_section_display": true,
   "toc_window_display": false
  }
 },
 "nbformat": 4,
 "nbformat_minor": 2
}
