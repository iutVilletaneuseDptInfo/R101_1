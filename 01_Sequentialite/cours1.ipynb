{
 "cells": [
  {
   "cell_type": "markdown",
   "metadata": {
    "deletable": false,
    "editable": false,
    "run_control": {
     "frozen": true
    },
    "slideshow": {
     "slide_type": "slide"
    }
   },
   "source": [
    "# <center>Chapitre 1 : Séquentialité et variables</center>"
   ]
  },
  {
   "cell_type": "markdown",
   "metadata": {
    "deletable": false,
    "editable": false,
    "run_control": {
     "frozen": true
    },
    "slideshow": {
     "slide_type": "slide"
    }
   },
   "source": [
    "## Document de cours et d'exercice"
   ]
  },
  {
   "cell_type": "markdown",
   "metadata": {
    "deletable": false,
    "editable": false,
    "run_control": {
     "frozen": true
    },
    "slideshow": {
     "slide_type": "fragment"
    }
   },
   "source": [
    "Les cours d'introduction à l'algorithmique sont mis à disposition sous forme de notebook Jupyter. Ces notebook sont manipulables dans un navigateur web (Firefox, Chrome, ...). Ils se structurent en cellules de différents types:\n",
    "- des cellules de texte (chapitre, section, sous-section, texte, ...). Ces cellules expliquent les éléments du cours (comme toutes les cellules jusqu'ici).\n",
    "- des cellules de code (Python 3.6).\n",
    "    - Des cellules d'`input` (précédées du prompt `Entrée [xx] :`) qui contiennent des exemples peuvant être exécutés/interprétés par l'ordinateur.\n",
    "    - Des cellules d'`output` (précédées du prompt `Out [xx] :`) qui contiennent les résultats, lorsqu'il y en a, retournés par l'évaluation des cellules d'`input`."
   ]
  },
  {
   "cell_type": "code",
   "execution_count": null,
   "metadata": {
    "deletable": false,
    "editable": false,
    "scrolled": true,
    "slideshow": {
     "slide_type": "-"
    }
   },
   "outputs": [],
   "source": [
    "print(\"Hello World!\")\n",
    "print(1+1)"
   ]
  },
  {
   "cell_type": "markdown",
   "metadata": {
    "deletable": false,
    "editable": false,
    "run_control": {
     "frozen": true
    },
    "slideshow": {
     "slide_type": "slide"
    }
   },
   "source": [
    "## Introduction"
   ]
  },
  {
   "cell_type": "markdown",
   "metadata": {
    "deletable": false,
    "editable": false,
    "run_control": {
     "frozen": true
    },
    "slideshow": {
     "slide_type": "subslide"
    }
   },
   "source": [
    "Un ordinateur est une machine et en tant que telle, elle ne fait que ce qu’on lui demande. Les programmeurs ont pour tâche de faire faire à ces machines exactement ce qu’ils veulent qu’elles fassent et dans le bon ordre ni plus, ni moins, ni autre chose. Donner à un ordinateur une séquence d’ordres à effectuer, c’est écrire un programme qu’il devra exécuter.\n",
    "\n",
    "Les problèmes à résoudre étant parfois complexes, la tâche principale est décomposée en plusieurs sous-problèmes plus simples résolus les uns après les autres. En définitive, pour résoudre un problème, le programmeur conçoit une série d’instructions, chacune donnant un ordre à l’ordinateur.\n",
    "\n",
    "L’instruction `print(1)`, par exemple, correspond à l’ordre donné à l’ordinateur d’afficher 1 à l’écran. Il s’agit d’un ordre simple, mais qui peut être combiné à d’autres pour produire des résultats (un peu) plus complexes. Par exemple, cette instruction suivie de `print(2)` forme un programme avec deux instructions (dans le cercle : les numéros de ligne du programme) :"
   ]
  },
  {
   "cell_type": "markdown",
   "metadata": {
    "deletable": false,
    "editable": false,
    "run_control": {
     "frozen": true
    },
    "slideshow": {
     "slide_type": "subslide"
    }
   },
   "source": [
    "<img src=\"fig/12.png\" alt=\"Drawing\" style=\"width: 40px;\"/>"
   ]
  },
  {
   "cell_type": "code",
   "execution_count": null,
   "metadata": {
    "deletable": false,
    "editable": false,
    "slideshow": {
     "slide_type": "fragment"
    }
   },
   "outputs": [],
   "source": [
    "print(1)\n",
    "print(2)"
   ]
  },
  {
   "cell_type": "markdown",
   "metadata": {
    "deletable": false,
    "editable": false,
    "run_control": {
     "frozen": true
    },
    "slideshow": {
     "slide_type": "fragment"
    }
   },
   "source": [
    "qui affichera 1 puis affichera 2.\n",
    "\n",
    "Cet exemple est évidemment simplissime et peut paraître très éloigné des programmes que l’utilisateur contemporain utilise habituellement. Mais même pour réaliser des applications complexes (animation et rendu 3D, par exemple), ce sont toujours les mêmes principes simples qui sont à l’œuvre.\n",
    "\n",
    "Au lieu d’instructions qui se contentent d’afficher un nombre à l’écran, on utilisera des instructions pas beaucoup plus complexes à écrire, mais dont les effets seront plus spectaculaires. Le travail du programmeur n’est pas plus difficile pour autant. Ainsi, on aura des instructions comme:"
   ]
  },
  {
   "cell_type": "code",
   "execution_count": null,
   "metadata": {
    "deletable": false,
    "editable": false,
    "scrolled": true,
    "slideshow": {
     "slide_type": "fragment"
    }
   },
   "outputs": [],
   "source": [
    "%matplotlib inline\n",
    "\n",
    "import matplotlib.pyplot as plt\n",
    "import numpy as np\n",
    "\n",
    "x = np.linspace(0, 10)\n",
    "plt.plot(x, np.sin(x))"
   ]
  },
  {
   "cell_type": "markdown",
   "metadata": {
    "deletable": false,
    "editable": false,
    "run_control": {
     "frozen": true
    },
    "slideshow": {
     "slide_type": "fragment"
    }
   },
   "source": [
    "dont l’impact visuel sera bien plus important, mais dont la complexité pour le programmeur reste comparable.\n",
    "Construire des programmes informatiques, c’est toujours se demander quelles instructions exécuter, et dans quel ordre."
   ]
  },
  {
   "cell_type": "markdown",
   "metadata": {
    "deletable": false,
    "editable": false,
    "run_control": {
     "frozen": true
    },
    "slideshow": {
     "slide_type": "slide"
    }
   },
   "source": [
    "## Séquences d’instructions"
   ]
  },
  {
   "cell_type": "markdown",
   "metadata": {
    "deletable": false,
    "editable": false,
    "run_control": {
     "frozen": true
    },
    "slideshow": {
     "slide_type": "fragment"
    }
   },
   "source": [
    "Un programme est une série d’instructions exécutées une par une, de la première à la dernière, l'une à la suite de l'autre. Chaque instruction est un ordre simple donné à l’ordinateur.\n",
    "\n",
    "Chaque programme commence par exécuter sa première instruction. Ce n’est que lorsqu’elle est terminée qu’il passe à la seconde. S’il y a une troisième instruction, il attend d’avoir terminé la deuxième pour l’exécuter."
   ]
  },
  {
   "cell_type": "markdown",
   "metadata": {
    "deletable": false,
    "editable": false,
    "run_control": {
     "frozen": true
    },
    "slideshow": {
     "slide_type": "fragment"
    }
   },
   "source": [
    "- Sur ce thème : **Exercice 1, TD1**"
   ]
  },
  {
   "cell_type": "markdown",
   "metadata": {
    "deletable": false,
    "editable": false,
    "run_control": {
     "frozen": true
    },
    "slideshow": {
     "slide_type": "slide"
    }
   },
   "source": [
    "## Variables"
   ]
  },
  {
   "cell_type": "markdown",
   "metadata": {
    "deletable": false,
    "editable": false,
    "run_control": {
     "frozen": true
    },
    "slideshow": {
     "slide_type": "slide"
    }
   },
   "source": [
    "### Noms de variables"
   ]
  },
  {
   "cell_type": "markdown",
   "metadata": {
    "slideshow": {
     "slide_type": "fragment"
    }
   },
   "source": [
    "Les instructions d’un programme permettent de traiter des données (quantité de vie restante, âge d’un client, nombre de munitions, etc) qui doivent pouvoir être modifiées au fur et à mesure que le programme se déroule. L’ordinateur stocke donc chacune de ces informations dans sa mémoire à un endroit bien identifié, grâce à des variables. On utilise le terme *variables* parce que ces données sont susceptibles d’être modifiées, contrairement aux *constantes*.\n",
    "\n",
    "Les variables associent un nom à une valeur. Une variable nommée `x` peut par exemple prendre la valeur `1`. Chaque variable mobilise un espace mémoire accessible par un nom, et qui peut contenir une valeur. La valeur d’une variable peut être changée au cours de l’exécution d’un programme.\n",
    "\n",
    "<img src=\"fig/x-1.png\" alt=\"Drawing\" style=\"height: 30px;\"/>\n",
    "\n",
    "Selon la syntaxe utilisée dans ce cours, le nom d’une variable commence par une lettre minuscule (`a` à `z`) ou majuscule (`A` à `Z`), ou bien par le caractère souligné (`_`). Les caractères suivants peuvent être des lettres minuscules ou majuscules, le caractère souligné ou des chiffres (`0` à `9`). **Le nom d’une variable ne contient pas d’espace.**"
   ]
  },
  {
   "cell_type": "markdown",
   "metadata": {
    "deletable": false,
    "editable": false,
    "run_control": {
     "frozen": true
    }
   },
   "source": [
    "### Affectation"
   ]
  },
  {
   "cell_type": "markdown",
   "metadata": {
    "deletable": false,
    "editable": false,
    "run_control": {
     "frozen": true
    }
   },
   "source": [
    "L’opération principale mettant en jeu des variables est l’affectation, qui permet de modifier la valeur d’une variable en utilisant son nom. Une affectation est notée avec le signe `=`. A gauche du signe `=`, on place le nom de la variable dont on veut changer la valeur, et à droite on définit la valeur que doit prendre la variable. Ce symbole n’est pas du tout l’égalité mathématique.\n",
    "\n",
    "Par exemple, l’instruction:"
   ]
  },
  {
   "cell_type": "code",
   "execution_count": null,
   "metadata": {
    "deletable": false,
    "editable": false
   },
   "outputs": [],
   "source": [
    "x = 1"
   ]
  },
  {
   "cell_type": "markdown",
   "metadata": {
    "deletable": false,
    "editable": false,
    "run_control": {
     "frozen": true
    }
   },
   "source": [
    "change la valeur de `x` comme le montre l'affichage suivant:"
   ]
  },
  {
   "cell_type": "code",
   "execution_count": null,
   "metadata": {
    "deletable": false,
    "editable": false
   },
   "outputs": [],
   "source": [
    "print(x)"
   ]
  },
  {
   "cell_type": "markdown",
   "metadata": {
    "deletable": false,
    "editable": false,
    "run_control": {
     "frozen": true
    }
   },
   "source": [
    "**Attention :** L'instruction `2=x` est incorrect. `2` est un nombre constant et ne peut pas changer de valeur. Ce n’est pas une variable et on ne peut donc pas le mettre à gauche de l’opérateur d’affectation, comme le montre le message d'erreur qui s'affiche lorsque l'on tente d'évaluer cette instruction:"
   ]
  },
  {
   "cell_type": "code",
   "execution_count": null,
   "metadata": {
    "deletable": false,
    "editable": false
   },
   "outputs": [],
   "source": [
    "2 = x"
   ]
  },
  {
   "cell_type": "markdown",
   "metadata": {
    "deletable": false,
    "editable": false,
    "run_control": {
     "frozen": true
    }
   },
   "source": [
    "On peut également placer à droite du symbole `=` une expression qui représente un calcul, comme par exemple dans"
   ]
  },
  {
   "cell_type": "code",
   "execution_count": null,
   "metadata": {
    "deletable": false,
    "editable": false
   },
   "outputs": [],
   "source": [
    "x = 1 + 2"
   ]
  },
  {
   "cell_type": "markdown",
   "metadata": {
    "deletable": false,
    "editable": false,
    "run_control": {
     "frozen": true
    }
   },
   "source": [
    "L’opérateur d’affectation commence toujours par évaluer la valeur à droite du signe `=` (quelle que soit la complexité du calcul) avant de placer le résultat dans l’espace mémoire réservé à la variable.\n",
    "\n",
    "Ainsi, l’instruction"
   ]
  },
  {
   "cell_type": "code",
   "execution_count": null,
   "metadata": {
    "deletable": false,
    "editable": false
   },
   "outputs": [],
   "source": [
    "x = (1+2)*5"
   ]
  },
  {
   "cell_type": "markdown",
   "metadata": {
    "deletable": false,
    "editable": false,
    "run_control": {
     "frozen": true
    }
   },
   "source": [
    "calcule d’abord la valeur de l’expression `(1+2)*5` avant d’affecter le résultat du calcul à la variable nommée `x`, qui prend finalement la valeur `15`, comme le montre l'affichage suivant:"
   ]
  },
  {
   "cell_type": "code",
   "execution_count": null,
   "metadata": {
    "deletable": false,
    "editable": false
   },
   "outputs": [],
   "source": [
    "print(x)"
   ]
  },
  {
   "cell_type": "markdown",
   "metadata": {
    "deletable": false,
    "editable": false,
    "run_control": {
     "frozen": true
    }
   },
   "source": [
    "### Utilisation des variables"
   ]
  },
  {
   "cell_type": "markdown",
   "metadata": {
    "deletable": false,
    "editable": false,
    "run_control": {
     "frozen": true
    }
   },
   "source": [
    "Dans l’évaluation d’une expression, un nom de variable est remplacé par sa valeur. Si `x` vaut `2`, par exemple, alors `x*3` vaut `6`. \n",
    "Ainsi, à l’issue des deux instructions consécutives suivantes :"
   ]
  },
  {
   "cell_type": "code",
   "execution_count": null,
   "metadata": {
    "deletable": false,
    "editable": false,
    "scrolled": true
   },
   "outputs": [],
   "source": [
    "x = 2\n",
    "y = x * 3"
   ]
  },
  {
   "cell_type": "markdown",
   "metadata": {
    "deletable": false,
    "editable": false,
    "run_control": {
     "frozen": true
    }
   },
   "source": [
    "`x` vaut `2` et `y` vaut `6` comme le montre les affichage suivants:"
   ]
  },
  {
   "cell_type": "code",
   "execution_count": null,
   "metadata": {
    "deletable": false,
    "editable": false
   },
   "outputs": [],
   "source": [
    "print(x)\n",
    "print(y)"
   ]
  },
  {
   "cell_type": "markdown",
   "metadata": {
    "deletable": false,
    "editable": false,
    "run_control": {
     "frozen": true
    }
   },
   "source": [
    "<img src=\"fig/trace.png\" alt=\"Drawing\" style=\"height: 150px;\"/>"
   ]
  },
  {
   "cell_type": "markdown",
   "metadata": {
    "deletable": false,
    "editable": false,
    "run_control": {
     "frozen": true
    }
   },
   "source": [
    "Cette évaluation des variables grâce à leur valeur vaut également pour les sorties écran. L’instruction `print(1+2)` est correcte, mais `print(x+y)` l’est également, et donnera le même résultat si par exemple `x` et `y` valent respectivement `1` et `2` juste avant son exécution."
   ]
  },
  {
   "cell_type": "code",
   "execution_count": null,
   "metadata": {
    "deletable": false,
    "editable": false
   },
   "outputs": [],
   "source": [
    "print(1+2)"
   ]
  },
  {
   "cell_type": "code",
   "execution_count": null,
   "metadata": {
    "deletable": false,
    "editable": false
   },
   "outputs": [],
   "source": [
    "x = 1\n",
    "y = 2\n",
    "print(x+y)"
   ]
  },
  {
   "cell_type": "markdown",
   "metadata": {
    "deletable": false,
    "editable": false,
    "run_control": {
     "frozen": true
    }
   },
   "source": [
    "- Sur ce thème : **Exercice 2, TD1**"
   ]
  },
  {
   "cell_type": "markdown",
   "metadata": {
    "deletable": false,
    "editable": false,
    "run_control": {
     "frozen": true
    }
   },
   "source": [
    "Il est important de noter qu’une variable ne peut être utilisée que si elle a été définie préalablement.\n",
    "Ainsi, le programme suivant est correct :"
   ]
  },
  {
   "cell_type": "code",
   "execution_count": null,
   "metadata": {
    "deletable": false,
    "editable": false
   },
   "outputs": [],
   "source": [
    "x = 0\n",
    "y = 2\n",
    "print((x+y)+2)"
   ]
  },
  {
   "cell_type": "markdown",
   "metadata": {
    "deletable": false,
    "editable": false,
    "run_control": {
     "frozen": true
    }
   },
   "source": [
    "alors que celui-ci ne l'est pas:"
   ]
  },
  {
   "cell_type": "code",
   "execution_count": null,
   "metadata": {
    "deletable": false,
    "editable": false
   },
   "outputs": [],
   "source": [
    "x = 1\n",
    "z = x + t\n",
    "print(z)"
   ]
  },
  {
   "cell_type": "markdown",
   "metadata": {
    "deletable": false,
    "editable": false,
    "run_control": {
     "frozen": true
    }
   },
   "source": [
    "car lors de l'exécution de la deuxième instruction, la variable `t` n’a pas encore été définie.\n",
    "\n",
    "Selon le principe de séquentialité, ajouter une ligne à la fin du code comme dans le le programme ci-dessous à la ligne 4 ne résoudait pas le problème."
   ]
  },
  {
   "cell_type": "code",
   "execution_count": null,
   "metadata": {
    "deletable": false,
    "editable": false,
    "scrolled": true
   },
   "outputs": [],
   "source": [
    "x = 1\n",
    "z = x + t\n",
    "print(z)\n",
    "t = 3"
   ]
  },
  {
   "cell_type": "markdown",
   "metadata": {
    "deletable": false,
    "editable": false,
    "run_control": {
     "frozen": true
    }
   },
   "source": [
    "***Pour utiliser une variable, il faut lui affecter une valeur avant de l'utiliser dans une expression ou un calcul.***\n",
    "\n",
    "Une source importante d’erreurs en programmation est la non-maîtrise de la séquentialité des instructions. Les instructions s’exécutent dans l’ordre où elles sont écrites, les éventuelles modifications de variables se font dans le même ordre."
   ]
  },
  {
   "cell_type": "markdown",
   "metadata": {
    "deletable": false,
    "editable": false,
    "run_control": {
     "frozen": true
    }
   },
   "source": [
    "- Sur ce thème : **Exercices 3 et 4, TD1**\n"
   ]
  },
  {
   "cell_type": "markdown",
   "metadata": {
    "deletable": false,
    "editable": false,
    "run_control": {
     "frozen": true
    }
   },
   "source": [
    "## Types de données, opérations et conversions"
   ]
  },
  {
   "cell_type": "markdown",
   "metadata": {
    "deletable": false,
    "editable": false,
    "run_control": {
     "frozen": true
    }
   },
   "source": [
    "### Types de nombres et opérations permises"
   ]
  },
  {
   "cell_type": "markdown",
   "metadata": {
    "deletable": false,
    "editable": false,
    "run_control": {
     "frozen": true
    }
   },
   "source": [
    "Il existe plusieurs types de nombres :\n",
    "- Les nombres entiers, appelés *integer*, ou en abrégé `int` : ils sont signés `1`, `2`, `-3`.\n",
    "- Les nombres à virgule flottante, appelés *floating point numbers*, ou en abrégé `float` : ils sont positifs ou négatifs et leur virgule est représentée par un point`1.0`, `2.3`, `-17.32`, `3.141516`.\n",
    "\n",
    "Pour définir une variable de type `int`, on lui affecte une valeur entière. Pour définir une variable de type `float`, on lui affecte un nombre à virgule. Par exemple :"
   ]
  },
  {
   "cell_type": "code",
   "execution_count": null,
   "metadata": {
    "deletable": false,
    "editable": false
   },
   "outputs": [],
   "source": [
    "a = 0\n",
    "print(type(a))"
   ]
  },
  {
   "cell_type": "markdown",
   "metadata": {
    "deletable": false,
    "editable": false,
    "run_control": {
     "frozen": true
    }
   },
   "source": [
    "définit la variable `a` comme un `int` de valeur nulle,"
   ]
  },
  {
   "cell_type": "code",
   "execution_count": null,
   "metadata": {
    "deletable": false,
    "editable": false
   },
   "outputs": [],
   "source": [
    "a = 0.0\n",
    "print(type(a))"
   ]
  },
  {
   "cell_type": "markdown",
   "metadata": {
    "deletable": false,
    "editable": false,
    "run_control": {
     "frozen": true
    }
   },
   "source": [
    "définit la variable `a` comme un `float` de valeur nulle.\n",
    "\n",
    "Le tableau suivant récapitule succinctement les principales opérations possibles sur des nombres :\n",
    "\n",
    "| Expression   | Résultat, `x` et `y` étant des nombres (`int` ou `float`) |\n",
    "|--------------|-----------------------------------------------------------|\n",
    "| x + y        | somme de `x` et de `y` |\n",
    "| x - y        | différence de `x` et de `y` |\n",
    "| x \\* y       | produit de `x` et de `y` |\n",
    "| x / y        | division réelle de `x` par `y` |\n",
    "| x // y         | division entière de `x` (`int`) par `y`(`int`)|\n",
    "| x % y        | reste de la division entière de `x`  par `y`  |\n",
    "|  - x         | opposé de `x` |\n",
    "| x ** y       | `x` à la puissance `y` |\n",
    "| abs( x )     | valeur absolue de `x` |\n",
    "\n",
    "- Sur ce thème : **Exercice 5, TD1**"
   ]
  },
  {
   "cell_type": "markdown",
   "metadata": {
    "deletable": false,
    "editable": false,
    "run_control": {
     "frozen": true
    }
   },
   "source": [
    "### Chaines de caractères et opérations permises"
   ]
  },
  {
   "cell_type": "markdown",
   "metadata": {
    "deletable": false,
    "editable": false,
    "run_control": {
     "frozen": true
    }
   },
   "source": [
    "Jusqu’ici, toutes les données saisies, calculées et affichées étaient numériques. Il existe en fait d’autres types de données comme par exemple les chaînes de caractères (*string* en anglais). Ainsi, le programme"
   ]
  },
  {
   "cell_type": "code",
   "execution_count": null,
   "metadata": {
    "deletable": false,
    "editable": false
   },
   "outputs": [],
   "source": [
    " print(\"hello world\")"
   ]
  },
  {
   "cell_type": "markdown",
   "metadata": {
    "deletable": false,
    "editable": false,
    "run_control": {
     "frozen": true
    }
   },
   "source": [
    "affiche `hello world` à l’écran, `\"hello world\"` étant une chaîne de caractères alpha-numériques.\n",
    "\n",
    "Les valeurs des chaînes de caractères sont indifféremment définies entre simples quotes `'` (apostrophe) ou double quotes `\"`. \n",
    "\n",
    "**Attention :** chaque caractère est pris en compte y compris l'espace ` `, tout comme la casse (majuscules/minuscules). Ainsi, les chaînes de caractères suivantes sont toutes différentes les unes des autres :"
   ]
  },
  {
   "cell_type": "markdown",
   "metadata": {
    "scrolled": false
   },
   "source": [
    "```\n",
    "\"HelloWorld\"\n",
    "\"Hello World\"\n",
    "\"hello world\"\n",
    "\"helo world\"\n",
    "\"halo world\"\n",
    "\"halo 1 world 2\"\n",
    "```"
   ]
  },
  {
   "cell_type": "markdown",
   "metadata": {
    "deletable": false,
    "editable": false,
    "run_control": {
     "frozen": true
    }
   },
   "source": [
    "On peut définir des variables de type chaînes de caractères de manière analogue aux variables de type numérique. Ainsi, le programme suivant "
   ]
  },
  {
   "cell_type": "code",
   "execution_count": null,
   "metadata": {
    "deletable": false,
    "editable": false
   },
   "outputs": [],
   "source": [
    "chaine = \"Hello world\"\n",
    "print(chaine)"
   ]
  },
  {
   "cell_type": "markdown",
   "metadata": {
    "deletable": false,
    "editable": false,
    "run_control": {
     "frozen": true
    }
   },
   "source": [
    "définit une variable de nom `chaine` de type `str` (chaîne de caractères), puis l'affiche.\n",
    "\n",
    "La chaîne de caractères vide (sans un seul caractère dedans) se note par deux doubles (`\"\"`) ou simples (`''`) quotes accolées. Par exemple, `chaine = ''` définit une chaîne de caractères et lui donne la valeur d’une chaîne vide. "
   ]
  },
  {
   "cell_type": "code",
   "execution_count": null,
   "metadata": {
    "deletable": false,
    "editable": false
   },
   "outputs": [],
   "source": [
    "chaine = \"\"\n",
    "print(chaine)"
   ]
  },
  {
   "cell_type": "markdown",
   "metadata": {
    "deletable": false,
    "editable": false,
    "run_control": {
     "frozen": true
    }
   },
   "source": [
    "Il est possible d’appliquer quelques opérations sur les chaînes de caractères. Ces opérations sont résumées dans le tableau suivant :\n",
    "\n",
    "| Expression | Résultat, `s` et `t` étant des chaînes de caractères |\n",
    "|------------|------------------------------------------------------|\n",
    "| s+t        | la concaténation de s et de t (mises bout à bout)       |\n",
    "| len(s)     | la longueur de s (nombre de caractères)                 |\n",
    "| s.lower()  | la chaîne s en minuscules                                  |\n",
    "| s.upper()  | la chaîne s en majuscules                                  |"
   ]
  },
  {
   "cell_type": "code",
   "execution_count": null,
   "metadata": {
    "deletable": false,
    "editable": false,
    "scrolled": true
   },
   "outputs": [],
   "source": [
    "s = \"Bonjour\"\n",
    "t = \" à tous !\"\n",
    "u=s+t\n",
    "print(u)\n",
    "print(len(s))\n",
    "print(len(u))\n",
    "print(s.lower())\n",
    "print(s.upper())"
   ]
  },
  {
   "cell_type": "markdown",
   "metadata": {
    "deletable": false,
    "editable": false,
    "run_control": {
     "frozen": true
    }
   },
   "source": [
    "**NB :** Certaines opérations peuvent être interprétées différemment selon le type des données auxquelles elles s’appliquent. C’est par exemple le cas de l’opérateur `+`. Ainsi `print(1 + 2)` affichera `3` (le `+` étant interprété comme la somme de deux nombres), "
   ]
  },
  {
   "cell_type": "code",
   "execution_count": null,
   "metadata": {
    "deletable": false,
    "editable": false
   },
   "outputs": [],
   "source": [
    "print(1+2)"
   ]
  },
  {
   "cell_type": "markdown",
   "metadata": {
    "deletable": false,
    "editable": false,
    "run_control": {
     "frozen": true
    }
   },
   "source": [
    "alors que `print(\"hello\" + \"world\")` affichera `\"helloworld\"` (le `+` étant interprété comme l'opération de concaténation de deux chaînes de caractères )."
   ]
  },
  {
   "cell_type": "code",
   "execution_count": null,
   "metadata": {
    "deletable": false,
    "editable": false
   },
   "outputs": [],
   "source": [
    "print(\"hello\" + \"world\")"
   ]
  },
  {
   "cell_type": "markdown",
   "metadata": {
    "deletable": false,
    "editable": false,
    "run_control": {
     "frozen": true
    }
   },
   "source": [
    "Si l’opérateur `+` peut être utilisé pour des opérations sur des nombres ou sur des chaînes de caractères, il n’est en revanche pas possible de l'appliquer aux deux types de données simultanément. En effet, on ne peut pas additionner un nombre avec une chaîne de caractères."
   ]
  },
  {
   "cell_type": "code",
   "execution_count": null,
   "metadata": {
    "deletable": false,
    "editable": false
   },
   "outputs": [],
   "source": [
    "print(3 + \"world\")"
   ]
  },
  {
   "cell_type": "markdown",
   "metadata": {
    "deletable": false,
    "editable": false,
    "run_control": {
     "frozen": true
    }
   },
   "source": [
    "- Sur ce thème : **Exercice 6, TD1**"
   ]
  },
  {
   "cell_type": "markdown",
   "metadata": {
    "deletable": false,
    "editable": false,
    "run_control": {
     "frozen": true
    }
   },
   "source": [
    "### Conversion de type de données"
   ]
  },
  {
   "cell_type": "markdown",
   "metadata": {
    "deletable": false,
    "editable": false,
    "run_control": {
     "frozen": true
    }
   },
   "source": [
    "Il est possible de transformer une chaîne de caractères en un nombre et un nombre en chaîne de caractères. De même, il est possible de transformer un `int` en `float` et inversement. Ceci se fait à l’aide des trois opérations de conversion données ci-dessous.\n",
    "\n",
    "| Expression | Résultat |\n",
    "|------------|----------|\n",
    "| `int(val)`   | `val` est transfomée en un nombre de type `int` |\n",
    "| `float(val)` | `val` est transfomée en un nombre de type `float` |\n",
    "| `str(val)`   | `val` est transfomée en une chaîne de caractères de type `str` |\n",
    "\n",
    "Le tableau suivant indique alors les résultats des opérations de conversion `int(val)`, `float(val)` et `str(val)` sur une variable `val`. La valeur de `val` avant conversion (et donc son type) est donnée à la première ligne.\n",
    "\n",
    "| valeur de val | 10   | 2.5   | \"2\" | \"2.5\" | \"12a34\" |\n",
    "|---------------|------|-------|-----|-------|---------|\n",
    "| int(val)      | 10   | 2     | 2   | Error | Error   |\n",
    "| float(val)    | 10.0 | 2.5   | 2.0 | 2.5   | Error   |\n",
    "| str(val)      | \"10\" | \"2.5\" | \"2\" | \"2.5\" | \"12a34\" |"
   ]
  },
  {
   "cell_type": "code",
   "execution_count": null,
   "metadata": {
    "deletable": false,
    "editable": false
   },
   "outputs": [],
   "source": [
    "val = 10\n",
    "print(\"-----------\")\n",
    "print(type(int(val)))\n",
    "print(int(val))\n",
    "print(\"-----------\")\n",
    "print(type(float(val)))\n",
    "print(float(val))\n",
    "print(\"-----------\")\n",
    "print(type(str(val)))\n",
    "print(str(val))"
   ]
  },
  {
   "cell_type": "code",
   "execution_count": null,
   "metadata": {
    "deletable": false,
    "editable": false
   },
   "outputs": [],
   "source": [
    "val = 2.5\n",
    "print( \"-----------\")\n",
    "print(type(int(val)))\n",
    "print(int(val))\n",
    "print(\"-----------\")\n",
    "print(type(float(val)))\n",
    "print(float(val))\n",
    "print(\"-----------\")\n",
    "print(type(str(val)))\n",
    "print(str(val))"
   ]
  },
  {
   "cell_type": "code",
   "execution_count": null,
   "metadata": {
    "deletable": false,
    "editable": false
   },
   "outputs": [],
   "source": [
    "val = \"2.5\"\n",
    "print(\"-----------\")\n",
    "print(type(int(val)))\n",
    "print(int(val))\n",
    "print(\"-----------\")\n",
    "print(type(float(val)))\n",
    "print(float(val))\n",
    "print(\"-----------\")\n",
    "print(type(str(val)))\n",
    "print(str(val))"
   ]
  },
  {
   "cell_type": "code",
   "execution_count": null,
   "metadata": {
    "deletable": false,
    "editable": false
   },
   "outputs": [],
   "source": [
    "val = \"2\"\n",
    "print( \"-----------\")\n",
    "print( type(   int( val )))\n",
    "print(         int( val ) )\n",
    "print( \"-----------\"      )\n",
    "print( type( float( val )))\n",
    "print(       float( val ) )\n",
    "print( \"-----------\"      )\n",
    "print( type(   str( val )))\n",
    "print(         str( val ) )"
   ]
  },
  {
   "cell_type": "code",
   "execution_count": null,
   "metadata": {
    "deletable": false,
    "editable": false
   },
   "outputs": [],
   "source": [
    "val = \"12a34\"\n",
    "print(\"-----------\")\n",
    "print(type(int(val)))\n",
    "print(int(val))\n",
    "print(\"-----------\")\n",
    "print(type(float(val)))\n",
    "print(float(val)) \n",
    "print(\"-----------\")\n",
    "print(type(str(val)))\n",
    "print(str(val))"
   ]
  },
  {
   "cell_type": "markdown",
   "metadata": {},
   "source": [
    "**Remarque :** L’opération `int(val)` supprime ce qui se trouve après la virgule si `val` est de type `float`. \n",
    "Les opérations `int(val)` et `float(val)` engendrent une erreur si `val` est une chaîne de caractères qui ne correspond pas à un entier ou un nombre à virgule, respectivement."
   ]
  },
  {
   "cell_type": "markdown",
   "metadata": {
    "deletable": false,
    "editable": false,
    "run_control": {
     "frozen": true
    }
   },
   "source": [
    "## Entrées / sorties"
   ]
  },
  {
   "cell_type": "markdown",
   "metadata": {
    "deletable": false,
    "editable": false,
    "run_control": {
     "frozen": true
    }
   },
   "source": [
    "La fonction `print()` permet d’afficher une valeur connue à l’écran. Elle permet d’afficher indifféremment des nombres ou des chaînes de caractères. C’est une fonction qui réalise une sortie car elle fait *sortir* des valeurs de l’ordinateur vers l’utilisateur."
   ]
  },
  {
   "cell_type": "markdown",
   "metadata": {
    "deletable": false,
    "editable": false,
    "run_control": {
     "frozen": true
    }
   },
   "source": [
    "<img src=\"fig/prog.png\" alt=\"Drawing\" style=\"height: 70px;\"/>"
   ]
  },
  {
   "cell_type": "markdown",
   "metadata": {
    "deletable": false,
    "editable": false,
    "run_control": {
     "frozen": true
    }
   },
   "source": [
    "Il existe également des fonctions d’entrée qui permettent d’entrer des valeurs dans l’ordinateur. La plus simple est `input()` qui s’utilise à droite d’un opérateur d’affectation `=`. Par exemple, le programme suivant demande une chaîne de caractères à l’utilisateur **avant** de l’afficher :"
   ]
  },
  {
   "cell_type": "code",
   "execution_count": null,
   "metadata": {
    "deletable": false,
    "editable": false
   },
   "outputs": [],
   "source": [
    "z = input(\"saisir un mot \\n\")\n",
    "print(z)"
   ]
  },
  {
   "cell_type": "markdown",
   "metadata": {
    "deletable": false,
    "editable": false,
    "run_control": {
     "frozen": true
    }
   },
   "source": [
    "La première instruction est une affectation. Le programme va donc en premier lieu chercher à évaluer la valeur de ce qui est à droite du signe `=`. Pour ce faire, l’ordinateur invite l’utilisateur à saisir une valeur au clavier. Une pression de la touche *Entrée* (↵) validera sa saisie et celle-ci sera prise en compte par l’ordinateur."
   ]
  },
  {
   "cell_type": "markdown",
   "metadata": {
    "deletable": false,
    "editable": false,
    "run_control": {
     "frozen": true
    }
   },
   "source": [
    "**NB :** La fonction `input()` permet uniquement de saisir des chaînes de caractères. Pour saisir un nombre, il convient de procéder en deux temps : saisir d’abord une chaîne de caractères, puis la convertir en un nombre."
   ]
  },
  {
   "cell_type": "markdown",
   "metadata": {
    "deletable": false,
    "editable": false,
    "run_control": {
     "frozen": true
    }
   },
   "source": [
    "- Sur ce thème : **Exercices 7 et 8, TD1**"
   ]
  },
  {
   "cell_type": "markdown",
   "metadata": {
    "deletable": false,
    "editable": false,
    "run_control": {
     "frozen": true
    }
   },
   "source": [
    "**NB :** La fonction `print()` permet d'afficher à l'écran un ou plusieurs arguments passés et séparés par des virgules. \n",
    "\n",
    "Ainsi le programme suivant permet de demander à l’utilisateur les longueurs des deux côtés d’un rectangle, et\n",
    "d’en calculer la surface avant de l’afficher :"
   ]
  },
  {
   "cell_type": "code",
   "execution_count": null,
   "metadata": {},
   "outputs": [],
   "source": [
    "print(\"Quelle est la longueur du premier côté ?\")\n",
    "cote1 = float(input())\n",
    "print(\"Quelle est la longueur du deuxième côté ?\")\n",
    "cote2 = float(input())\n",
    "surface = cote1 * cote2\n",
    "print(\"La surface du rectangle ainsi formé est \", surface)"
   ]
  },
  {
   "cell_type": "markdown",
   "metadata": {
    "deletable": false,
    "editable": false,
    "run_control": {
     "frozen": true
    }
   },
   "source": [
    "L’utilisation de variables pour stocker les longueurs des côtés saisies permet ici d’écrire un programme générique pour calculer la surface de n’importe quel rectangle."
   ]
  },
  {
   "cell_type": "markdown",
   "metadata": {
    "deletable": false,
    "editable": false,
    "run_control": {
     "frozen": true
    }
   },
   "source": [
    "- Sur ce thème : **Exercice 9, TD1**"
   ]
  }
 ],
 "metadata": {
  "@webio": {
   "lastCommId": "c8929da64517496d9b374b9ca4e78159",
   "lastKernelId": "de76478e-32a2-4da4-86cc-868cf1f0a932"
  },
  "kernelspec": {
   "display_name": "Python 3 (ipykernel)",
   "language": "python",
   "name": "python3"
  },
  "language_info": {
   "codemirror_mode": {
    "name": "ipython",
    "version": 3
   },
   "file_extension": ".py",
   "mimetype": "text/x-python",
   "name": "python",
   "nbconvert_exporter": "python",
   "pygments_lexer": "ipython3",
   "version": "3.11.4"
  },
  "latex_envs": {
   "LaTeX_envs_menu_present": true,
   "autoclose": false,
   "autocomplete": true,
   "bibliofile": "biblio.bib",
   "cite_by": "apalike",
   "current_citInitial": 1,
   "eqLabelWithNumbers": true,
   "eqNumInitial": 1,
   "hotkeys": {
    "equation": "Ctrl-E",
    "itemize": "Ctrl-I"
   },
   "labels_anchors": false,
   "latex_user_defs": false,
   "report_style_numbering": false,
   "user_envs_cfg": false
  },
  "toc": {
   "base_numbering": 1,
   "nav_menu": {},
   "number_sections": true,
   "sideBar": true,
   "skip_h1_title": true,
   "title_cell": "Table of Contents",
   "title_sidebar": "Contents",
   "toc_cell": false,
   "toc_position": {},
   "toc_section_display": true,
   "toc_window_display": true
  },
  "varInspector": {
   "cols": {
    "lenName": 16,
    "lenType": 16,
    "lenVar": 40
   },
   "kernels_config": {
    "python": {
     "delete_cmd_postfix": "",
     "delete_cmd_prefix": "del ",
     "library": "var_list.py",
     "varRefreshCmd": "print(var_dic_list())"
    },
    "r": {
     "delete_cmd_postfix": ") ",
     "delete_cmd_prefix": "rm(",
     "library": "var_list.r",
     "varRefreshCmd": "cat(var_dic_list()) "
    }
   },
   "types_to_exclude": [
    "module",
    "function",
    "builtin_function_or_method",
    "instance",
    "_Feature"
   ],
   "window_display": true
  }
 },
 "nbformat": 4,
 "nbformat_minor": 4
}
