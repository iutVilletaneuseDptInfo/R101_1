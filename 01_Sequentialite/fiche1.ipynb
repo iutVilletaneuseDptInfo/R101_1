{
 "cells": [
  {
   "cell_type": "markdown",
   "metadata": {
    "deletable": false,
    "editable": false,
    "run_control": {
     "frozen": true
    }
   },
   "source": [
    "# <center>Chapitre 1 : Séquentialité et variables </center>"
   ]
  },
  {
   "cell_type": "markdown",
   "metadata": {
    "deletable": false,
    "editable": false,
    "run_control": {
     "frozen": true
    }
   },
   "source": [
    "## Séquentialité"
   ]
  },
  {
   "cell_type": "markdown",
   "metadata": {
    "deletable": false,
    "editable": false,
    "run_control": {
     "frozen": true
    }
   },
   "source": [
    "- Les *instructions* sont *évaluées* les unes après les autres en suivant l'ordre d'écriture dans le programme.\n",
    "- Les *instructions* peuvent être:\n",
    "    - une *opération*,\n",
    "    - un *appel* de *fonction*,\n",
    "    - une opération d'*affectation* à une *variable*,\n",
    "    - une composition des opérations précédentes\n",
    "- Seule une *valeur* est *affectée* (stockée) dans une *variable*. Cette *valeur* est résultat de l'*évaluation* des *instructions* à droite du signe `=`.\n",
    "<!--- Tous les noms de *variable* ne sont pas permis-->\n",
    "- La valeur *affectée* à une *variable* peut être modifiée par une *affectation* ultérieure lors du déroulement séquentiel du *programme*.\n",
    "- Pour utiliser la *valeur* d'une *variable* dans une *instruction*, on donne simplement son nom. Le nom est substitué par la *valeur* de la *variable* avant l'*évaluation* de l'*instruction*."
   ]
  },
  {
   "cell_type": "code",
   "execution_count": null,
   "metadata": {
    "deletable": false,
    "editable": false
   },
   "outputs": [],
   "source": [
    "x = 2          # x vaut désormais 2\n",
    "y = 3          # y vaut désormais 3\n",
    "print(x)\n",
    "x = x + y + 5  # avant l'operation x et y sont remplacés respectivement par 2 et 3\n",
    "print(x)       # x vaut 10, le resultat de l'opération 2 + 3 + 5 et de l'affectation"
   ]
  },
  {
   "cell_type": "markdown",
   "metadata": {
    "deletable": false,
    "editable": false,
    "run_control": {
     "frozen": true
    }
   },
   "source": [
    "## Variables et entrées/sorties\n",
    "- Les *variables* et les *littéraux* sont de différents *types*:\n",
    "    - `int`: **entier**\n",
    "    - `float`: **nombre à virgule**\n",
    "    - `str`: **chaîne de caractères**\n",
    "    - `bool`: **booléen**\n",
    "- Le *type* de la *valeur*/*variable* conditionne les *opérations* que l'on peut faire avec.\n",
    "- Il est dans certains cas possible de *convertir* (**caster**) une *valeur* d'un *type* à un autre *type*.\n",
    "- l'*appel* à la *fonction* `print(p1,p2,p3, ...)` permet d'afficher.\n",
    "\n",
    "- l'*appel* à la *fonction* `input()` dans l'instruction `x = input()` permet d'*affecter* à la *variable* `x` ce qu'un utilisateur tape au clavier (**Attention** sans cast explicite, la valeur dans `x` est une chaîne de caractères)."
   ]
  },
  {
   "cell_type": "code",
   "execution_count": null,
   "metadata": {
    "deletable": false,
    "editable": false
   },
   "outputs": [],
   "source": [
    "x = input()\n",
    "print(\"En ajoutant\", 1, \"on obtient\", int(x)+1)"
   ]
  },
  {
   "cell_type": "markdown",
   "metadata": {},
   "source": [
    "## Vocabulaire"
   ]
  },
  {
   "cell_type": "markdown",
   "metadata": {
    "deletable": false,
    "editable": false,
    "run_control": {
     "frozen": true
    }
   },
   "source": [
    "- valeur, littéral, variable, type, instruction, fonction, opération, évaluer, affecter, convertir - caster"
   ]
  }
 ],
 "metadata": {
  "kernelspec": {
   "display_name": "Python 3 (ipykernel)",
   "language": "python",
   "name": "python3"
  },
  "language_info": {
   "codemirror_mode": {
    "name": "ipython",
    "version": 3
   },
   "file_extension": ".py",
   "mimetype": "text/x-python",
   "name": "python",
   "nbconvert_exporter": "python",
   "pygments_lexer": "ipython3",
   "version": "3.11.4"
  },
  "latex_envs": {
   "LaTeX_envs_menu_present": true,
   "autoclose": false,
   "autocomplete": true,
   "bibliofile": "biblio.bib",
   "cite_by": "apalike",
   "current_citInitial": 1,
   "eqLabelWithNumbers": true,
   "eqNumInitial": 1,
   "hotkeys": {
    "equation": "Ctrl-E",
    "itemize": "Ctrl-I"
   },
   "labels_anchors": false,
   "latex_user_defs": false,
   "report_style_numbering": false,
   "user_envs_cfg": false
  }
 },
 "nbformat": 4,
 "nbformat_minor": 2
}
