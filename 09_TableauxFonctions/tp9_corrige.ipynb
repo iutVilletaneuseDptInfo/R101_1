{
 "cells": [
  {
   "cell_type": "markdown",
   "metadata": {},
   "source": [
    "# <center> Chapitre 9 : Tableaux et fonctions - TP corrigé </center>"
   ]
  },
  {
   "cell_type": "markdown",
   "metadata": {
    "deletable": false,
    "editable": false,
    "run_control": {
     "frozen": true
    },
    "solution2": "hidden",
    "solution2_first": true
   },
   "source": [
    "### Exercice 1  : Somme alternée *\n",
    "\n",
    "Écrire une fonction `somme_alt` qui prend un tableau de nombres et calcule et retourne \n",
    "la somme des éléments d'indice pair moins la somme des éléments\n",
    "d'indice impair. Cette fonction devra passer les tests unitaires fournis."
   ]
  },
  {
   "cell_type": "code",
   "execution_count": null,
   "metadata": {
    "deletable": false,
    "editable": false,
    "solution2": "hidden"
   },
   "outputs": [],
   "source": [
    "#------------------------------#\n",
    "#    CORRECTION  ! ! ! ! ! !   #\n",
    "#------------------------------#\n",
    "def somme_alt(t):\n",
    "    \"\"\"\n",
    "    calcule la somme des éléments d'indice pair moins celle des éléments d'indice impair \n",
    "    \n",
    "    :param t: le tableau dont on parcourt les éléments\n",
    "    :type t: list\n",
    "    :return: la différence des sommes\n",
    "    :rtype: int ou float\n",
    "    \n",
    "    :Exemples:\n",
    "    >>> somme_alt([1,2,1,2])\n",
    "    -2\n",
    "    >>> somme_alt([2,1,2,1])\n",
    "    2\n",
    "    \"\"\"\n",
    "    somme = 0\n",
    "    i=0\n",
    "    while i < len(t):\n",
    "        if i%2 == 0:\n",
    "            somme += t[i]\n",
    "        else:\n",
    "            somme -= t[i]\n",
    "        i+=1\n",
    "    return somme"
   ]
  },
  {
   "cell_type": "code",
   "execution_count": null,
   "metadata": {
    "deletable": false,
    "editable": false
   },
   "outputs": [],
   "source": [
    "#----------------------------------#\n",
    "# Test unitaires                   #\n",
    "#----------------------------------#\n",
    "def test_somme_alt():\n",
    "    assert somme_alt([1,2,3,4]) == -2\n",
    "    assert somme_alt([1,2,1]) == 0\n",
    "    assert somme_alt([1]) == 1\n",
    "    assert somme_alt([]) == 0  \n",
    "    print(\"Test de la fonction somme_alt : ok\")\n",
    "\n",
    "test_somme_alt()"
   ]
  },
  {
   "cell_type": "markdown",
   "metadata": {
    "deletable": false,
    "editable": false,
    "run_control": {
     "frozen": true
    },
    "solution2": "hidden",
    "solution2_first": true
   },
   "source": [
    "### Exercice 2 : Autour du tri **\n",
    "\n",
    "#### Question 1 : Tableau trié\n",
    "\n",
    "Écrire une fonction `est_trie_croissant` qui teste si un tableau est trié dans l'ordre croissant. Cette fonction devra passer les tests unitaires fournis."
   ]
  },
  {
   "cell_type": "code",
   "execution_count": null,
   "metadata": {
    "deletable": false,
    "editable": false,
    "solution2": "hidden"
   },
   "outputs": [],
   "source": [
    "#------------------------------#\n",
    "#    CORRECTION  ! ! ! ! ! !   #\n",
    "#------------------------------#\n",
    "def est_trie_croissant(t):\n",
    "    \"\"\"\n",
    "    Teste si les éléments d'un tableau sont en ordre croissant \n",
    "    \n",
    "    :param t: le tableau soumis au test d'ordre\n",
    "    :type t: list\n",
    "    :return: le résultat du test\n",
    "    :rtype: bool\n",
    "    \n",
    "    :Exemples:\n",
    "    >>> est_trie_croissant([1,2,3])\n",
    "    True\n",
    "    >>> est_trie_croissant([2,1,3])\n",
    "    False\n",
    "    \"\"\"\n",
    "    i=0\n",
    "    while i < len(t)-1:\n",
    "        if t[i] > t[i+1]:\n",
    "            return False\n",
    "        i+=1\n",
    "    return True"
   ]
  },
  {
   "cell_type": "code",
   "execution_count": null,
   "metadata": {
    "deletable": false,
    "editable": false
   },
   "outputs": [],
   "source": [
    "#----------------------------------#\n",
    "# Test unitaires                   #\n",
    "#----------------------------------#\n",
    "def test_est_trie_croissant():\n",
    "    assert est_trie_croissant([1,2,3])\n",
    "    assert not est_trie_croissant([2,1,3])\n",
    "    assert not est_trie_croissant([3,2,1])\n",
    "    assert est_trie_croissant([1])\n",
    "    assert est_trie_croissant([])\n",
    "    print(\"Test de la fonction est_trie_croissant : ok\")\n",
    "\n",
    "test_est_trie_croissant()"
   ]
  },
  {
   "cell_type": "markdown",
   "metadata": {
    "deletable": false,
    "editable": false,
    "run_control": {
     "frozen": true
    },
    "solution2": "hidden",
    "solution2_first": true
   },
   "source": [
    "#### Question 2 : Déplacement\n",
    "\n",
    "On dit qu'un tableau est presque trié par ordre croissant s'il est trié par ordre croissant sauf le dernier élément.\n",
    "\n",
    "Écrire une fonction `replace_der` qui insère ce dernier élément à la bonne position de sorte que le tableau soit totalement trié. Cette fonction devra passer les tests unitaires fournis."
   ]
  },
  {
   "cell_type": "code",
   "execution_count": null,
   "metadata": {
    "deletable": false,
    "editable": false,
    "solution2": "hidden"
   },
   "outputs": [],
   "source": [
    "#------------------------------#\n",
    "#    CORRECTION  ! ! ! ! ! !   #\n",
    "#------------------------------#\n",
    "def replace_der(t):\n",
    "    \"\"\"\n",
    "    Place le dernier élément d'un tableau trié par ordre croissant jusqu'à \n",
    "    l'avant-dernier élément de sorte que le tableau soit totalement trié.\n",
    "    \n",
    "    :param t: le tableau à trier\n",
    "    :type t: list\n",
    "    :return: None\n",
    "    :rtype: NoneType\n",
    "    \n",
    "    :Example:\n",
    "    >>> t = [1,3,4,7,2]\n",
    "    >>> replace_der(t)\n",
    "    >>> est_trie_croissant(t)\n",
    "    True\n",
    "    \"\"\"\n",
    "    tmp = t[len(t)-1]\n",
    "    i = len(t)-2\n",
    "    while i >= 0 and t[i] > tmp:\n",
    "        t[i+1] = t[i]\n",
    "        i-=1\n",
    "    t[i+1] = tmp"
   ]
  },
  {
   "cell_type": "code",
   "execution_count": null,
   "metadata": {
    "deletable": false,
    "editable": false,
    "solution2": "hidden"
   },
   "outputs": [],
   "source": [
    "#----------------------------------#\n",
    "# Test unitaires                   #\n",
    "#----------------------------------#\n",
    "def test_replace_der():\n",
    "    t1 = [1,3,4,7,2]\n",
    "    replace_der(t1)\n",
    "    assert est_trie_croissant(t1)\n",
    "    \n",
    "    t2 = [1,2,3,4,7]\n",
    "    replace_der(t2)\n",
    "    assert est_trie_croissant(t2)\n",
    "    \n",
    "    print(\"Test de la fonction replace_der : ok\")\n",
    "\n",
    "test_replace_der()"
   ]
  },
  {
   "cell_type": "markdown",
   "metadata": {
    "deletable": false,
    "editable": false,
    "run_control": {
     "frozen": true
    },
    "solution2": "hidden",
    "solution2_first": true
   },
   "source": [
    "#### Question 3 :  Tri progressif\n",
    "\n",
    "- Écrire une fonction qui renvoie un tableau de taille `n`\n",
    "  (paramètre) contenant des entiers aléatoires entre 1 et 100.\n",
    "- A chaque fois qu'on ajoute un élément à un\n",
    "  tableau trié, le résultat est presque trié. <br>\n",
    "  Modifier la fonction précédente en déplaçant le dernier élément\n",
    "  ajouté, pour obtenir un tableau trié."
   ]
  },
  {
   "cell_type": "code",
   "execution_count": null,
   "metadata": {
    "deletable": false,
    "editable": false,
    "solution2": "hidden"
   },
   "outputs": [],
   "source": [
    "#------------------------------#\n",
    "#    CORRECTION  ! ! ! ! ! !   #\n",
    "#------------------------------#\n",
    "from random import *\n",
    "\n",
    "def tabalea(n):\n",
    "    \"\"\"\n",
    "    Retourne un tableau de valeurs aléatoires entières comprises entre 1 et 100 inclus \n",
    "    triées par ordre croissant.\n",
    "    \n",
    "    :param n: le nombre de valeurs aléatoires dans le tableau (ie la taille du tableau)\n",
    "    :type n: int\n",
    "    :return: le tableau contenant les valeurs aléatoires\n",
    "    :rtype: list\n",
    "    \n",
    "    :Exemples:\n",
    "    >>> tabalea(3)\n",
    "    [23, 98, 52]\n",
    "    >>> tabalea(0)\n",
    "    []\n",
    "    \"\"\"\n",
    "    t=[]\n",
    "    i=0\n",
    "    while i<n:\n",
    "        t.append(randint(1,100))\n",
    "        replace_der(t)\n",
    "        i+=1\n",
    "    return t"
   ]
  },
  {
   "cell_type": "code",
   "execution_count": null,
   "metadata": {
    "solution2": "hidden"
   },
   "outputs": [],
   "source": [
    "def test_tabalea():\n",
    "    assert tabalea(0) == []\n",
    "    t = tabalea(300)\n",
    "    assert len(t) == 300\n",
    "    assert est_trie_croissant(t)\n",
    "    i = 0\n",
    "    while( i < 300):\n",
    "        assert t[i] >=1 and t[i] <= 100\n",
    "        i += 1\n",
    "    print(\"Test de la fonction tabalea : ok\")\n",
    "    \n",
    "test_tabalea()"
   ]
  },
  {
   "cell_type": "markdown",
   "metadata": {
    "deletable": false,
    "editable": false,
    "run_control": {
     "frozen": true
    },
    "solution2": "hidden",
    "solution2_first": true
   },
   "source": [
    "### Exercice 3 :  Statistiques sur un fichier\n",
    "Le fichier http://berkeleyearth.lbl.gov/auto/Regional/TAVG/Text/northern-hemisphere-TAVG-Trend.txt contient les écarts de températures moyennes mensuels à une valeur de référence correspondant à la moyenne entre Janvier 1951 et Décembre 1980. Ces écarts concernent les températures de l'hémisphère nord depuis 1812.\n",
    "\n",
    "#### Question 1:\n",
    "Définir une fonction `est_ligne_de_commentaire_ou_vide(li)` qui teste si une chaîne de caractères commmence par le caractère `'%'` ou si la ligne est vide. Cette fonction devra passer les tests unitaires fournis."
   ]
  },
  {
   "cell_type": "code",
   "execution_count": null,
   "metadata": {
    "deletable": false,
    "editable": false,
    "solution2": "hidden"
   },
   "outputs": [],
   "source": [
    "#------------------------------#\n",
    "#    CORRECTION  ! ! ! ! ! !   #\n",
    "#------------------------------#\n",
    "def est_ligne_de_commentaire_ou_vide(li) :\n",
    "    \"\"\"\n",
    "    Teste si la chaine de caractères passée est vide ou commence par '%' (commentaire)\n",
    "    \n",
    "    :param li: la chaine de catactère à tester\n",
    "    :type li: str\n",
    "    :return: Les résultat du test (True si vide ou commence par '%')\n",
    "    :rtype: bool\n",
    "    \n",
    "    :Exemples:\n",
    "    >>> est_ligne_de_commentaire_ou_vide(\"\")\n",
    "    True\n",
    "    >>> est_ligne_de_commentaire_ou_vide(\"% Ceci est un commentaire\")\n",
    "    True\n",
    "    >>> est_ligne_de_commentaire_ou_vide(\"Ceci n'est un commentaire\")\n",
    "    False\n",
    "    \"\"\"\n",
    "    li = li.strip()\n",
    "    return '' == li or '%' == li[0]\n",
    "\n",
    "#----------------------------------#\n",
    "# Test unitaires                   #\n",
    "#----------------------------------#\n",
    "def test_est_ligne_de_commentaire_ou_vide():\n",
    "    assert est_ligne_de_commentaire_ou_vide('%   Berkeley Earth analysis for mean temperature on complete dataset')\n",
    "    assert not est_ligne_de_commentaire_ou_vide('1817     1    -0.903  3.069    -1.443  0.886    -1.202  0.391    -1.136  0.393       NaN    NaN' )\n",
    "    assert est_ligne_de_commentaire_ou_vide('')\n",
    "    assert est_ligne_de_commentaire_ou_vide('\\n')\n",
    "    \n",
    "    print(\"Test de la fonction est_ligne_de_commentaire_ou_vide : ok\")\n",
    "\n",
    "test_est_ligne_de_commentaire_ou_vide()"
   ]
  },
  {
   "cell_type": "markdown",
   "metadata": {
    "deletable": false,
    "editable": false,
    "run_control": {
     "frozen": true
    },
    "solution2": "hidden",
    "solution2_first": true
   },
   "source": [
    "#### Question 2:\n",
    "Définir une fonction `parse_line(li, n_col, type)` qui découpe une chaîne de caractères `li` telle que celle trouvée dans le fichier et retourne la valeur de la colonne `n_col`, sous forme d'une valeur du type `ty`. Cette fonction devra passer les tests unitaires fournis.\n",
    "\n",
    "**Rappel** : la méthode `chaine.split()` sépare la chaine là où il y a un ou plusieurs espaces et retourne le tableau des chaines séparées. \n",
    "\n",
    "**NB** : `nan`(qui signifie Not a Numbe) est utilisé pour indiquer l'absence de donnée. On peut tester si une valeur vaut `nan` on utilise la fonction de test de la bibliothèque mathématique `isnan` qui renvoie `True` si le paramètre vaut `nan`et `False`sinon. \n",
    "```\n",
    "from math import *\n",
    "print(isnan(nan))\n",
    "```\n",
    "affichera `True`"
   ]
  },
  {
   "cell_type": "code",
   "execution_count": null,
   "metadata": {
    "deletable": false,
    "editable": false,
    "solution2": "hidden"
   },
   "outputs": [],
   "source": [
    "#------------------------------#\n",
    "#    CORRECTION  ! ! ! ! ! !   #\n",
    "#------------------------------#\n",
    "from math import *\n",
    "\n",
    "def parse_line(li, n_col, typee) :\n",
    "    \"\"\"\n",
    "    Parcourt une chaîne de caractères, identifie les colonnes séparées par un espace \n",
    "    et retourne la valeur d'un colonne spécifique typée comme indiqué en paramètre\n",
    "    \n",
    "    :param ligne: la chaine de caractères contenant les colonnes\n",
    "    :type ligne: str\n",
    "    :param num_colonne: le numéro de la colonne dont on souhaite obtenir la valeur\n",
    "    :type num_colonne: int\n",
    "    :param ty: le type souhaité pour la valeur de retour de la colonne\n",
    "    :rtype: n'importe quel type\n",
    "    :return: la valeur de la colonne souhaitée\n",
    "    :rtype: ty\n",
    "    \n",
    "    :Exemples:\n",
    "    >>> parse_line( \"1 , 3, Bonjour\" , 0, int)\n",
    "    1\n",
    "    >>> parse_line( \"1 , 3, Bonjour\" , 2, str)\n",
    "    Bonjour\n",
    "    \"\"\"\n",
    "    liste = li.split()\n",
    "    return typee(liste[n_col])"
   ]
  },
  {
   "cell_type": "code",
   "execution_count": null,
   "metadata": {
    "deletable": false,
    "editable": false
   },
   "outputs": [],
   "source": [
    "#----------------------------------#\n",
    "# Test unitaires                   #\n",
    "#----------------------------------#\n",
    "def test_parse_line():\n",
    "    assert parse_line('  1819     8    -1.279  1.055', 0, int) == 1819\n",
    "    assert parse_line('  1819     8    -1.279  1.055' , 2, float) == -1.279\n",
    "    assert isnan(parse_line(' 1813    12       NaN    NaN', 2, float)) \n",
    "    print(\"Test de la fonction parse_line : ok\")\n",
    "\n",
    "test_parse_line()"
   ]
  },
  {
   "cell_type": "markdown",
   "metadata": {
    "deletable": false,
    "editable": false,
    "run_control": {
     "frozen": true
    },
    "solution2": "hidden",
    "solution2_first": true
   },
   "source": [
    "#### Question 3:\n",
    "Définir une `fonction read_temp(path , debut, fin)` qui prend en paramètre le chemin vers un fichier de température, une année de début et une année de fin et qui retourne la moyenne des écarts aux températures mensuelles (valeurs de la 3ème colonne) entre ces 2 années incluses. Cette fonction devra passer les tests unitaires fournis."
   ]
  },
  {
   "cell_type": "code",
   "execution_count": null,
   "metadata": {
    "deletable": false,
    "editable": false,
    "solution2": "hidden"
   },
   "outputs": [],
   "source": [
    "#------------------------------#\n",
    "#    CORRECTION  ! ! ! ! ! !   #\n",
    "#------------------------------#\n",
    "def read_temp(path, debut, fin) :\n",
    "    \"\"\"\n",
    "    Lit le contenu du fichier de chemin path et calcule la moyenne des valeurs de \n",
    "    la 3ème colonne des lignes dont l'année (première colonne) est entre debut et fin.\n",
    "    \n",
    "    :param path: le chemin vers le fichier\n",
    "    :type path: str\n",
    "    :param debut: borne inférieure des années\n",
    "    :type debut: int\n",
    "    :param fin: borne supérieure des années\n",
    "    :type fin: int\n",
    "    :return: moyenne des valeurs de la 3ème colonne (des écarts de température)\n",
    "    :rtype: float\n",
    "    \n",
    "    :Exemple:\n",
    "    >>> read_temp('northern-hemisphere-TAVG-Trend.txt', 1916, 1917)\n",
    "    -0.552\n",
    "    \"\"\"\n",
    "    somme_temp = 0\n",
    "    n_temp = 0\n",
    "    f_in = open(path, 'r')\n",
    "    li = f_in.readline()\n",
    "    year = -100000\n",
    "    while '' != li :\n",
    "        if  not est_ligne_de_commentaire_ou_vide(li) :\n",
    "            year = parse_line(li, 0, int)\n",
    "            if year >= debut and year <= fin and not isnan(parse_line(li, 2, float)): #permet d'éliminer les cas NaN \n",
    "                somme_temp += parse_line(li, 2, float)\n",
    "                n_temp += 1\n",
    "        li = f_in.readline()\n",
    "    f_in.close()\n",
    "    return(somme_temp/n_temp)                                     "
   ]
  },
  {
   "cell_type": "code",
   "execution_count": null,
   "metadata": {
    "deletable": false,
    "editable": false
   },
   "outputs": [],
   "source": [
    "#----------------------------------#\n",
    "# Test unitaires                   #\n",
    "#----------------------------------#\n",
    "def test_read_temp():\n",
    "    assert read_temp('files/northern-hemisphere-TAVG-Trend.txt', 1916, 1916) == -0.48176923076923084\n",
    "    assert read_temp('files/northern-hemisphere-TAVG-Trend.txt', 1916, 1917) == -0.552\n",
    "    assert read_temp('files/northern-hemisphere-TAVG-Trend.txt', 1815, 1820) == -1.254625\n",
    "    \n",
    "    print(\"Test de la fonction read_temp : ok\")\n",
    "\n",
    "test_read_temp()"
   ]
  },
  {
   "cell_type": "markdown",
   "metadata": {
    "deletable": false,
    "editable": false,
    "solution2": "hidden",
    "solution2_first": true
   },
   "source": [
    "### Exercice 4  : Répétition *\n",
    "\n",
    "- Écrire une fonction `repetition` qui teste s'il existe un élément qui apparaît\n",
    "deux fois dans un tableau trié. Cette fonction devra passer les tests unitaires fournis."
   ]
  },
  {
   "cell_type": "code",
   "execution_count": null,
   "metadata": {
    "deletable": false,
    "editable": false,
    "solution2": "hidden"
   },
   "outputs": [],
   "source": [
    "#------------------------------#\n",
    "#    CORRECTION  ! ! ! ! ! !   #\n",
    "#------------------------------#\n",
    "def repetition(t):\n",
    "    \"\"\"\n",
    "    Teste s'il existe un élément qui apparaît deux fois dans un tableau trié.\n",
    "    \n",
    "    :param t: un tableau trié\n",
    "    :type t: list\n",
    "    :return: le resultat du test\n",
    "    :rtype: bool\n",
    "    \n",
    "    :Exemples:\n",
    "    >>> repetition([1,3,3])\n",
    "    True\n",
    "    >>> repetition([1,3,5])\n",
    "    False\n",
    "    \"\"\"\n",
    "    if len(t) == 0 or len(t) == 1:\n",
    "        return False\n",
    "    i=0\n",
    "    while i < len(t)-1 and t[i] != t[i+1]:\n",
    "        i+=1\n",
    "    return len(t) - 1 != i"
   ]
  },
  {
   "cell_type": "code",
   "execution_count": null,
   "metadata": {
    "deletable": false,
    "editable": false
   },
   "outputs": [],
   "source": [
    "#----------------------------------#\n",
    "# Tests unitaires                   #\n",
    "#----------------------------------#\n",
    "def test_repetition():\n",
    "    assert repetition([1,3,3])\n",
    "    assert repetition([3,3])\n",
    "    assert not repetition([1,3,4])\n",
    "    assert not repetition([])\n",
    "    \n",
    "    print(\"Test de la fonction repetition : ok\")\n",
    "\n",
    "test_repetition()"
   ]
  },
  {
   "cell_type": "markdown",
   "metadata": {
    "deletable": false,
    "editable": false,
    "solution2": "hidden",
    "solution2_first": true
   },
   "source": [
    "- Serait-ce aussi simple avec un tableau non trié ?"
   ]
  },
  {
   "cell_type": "markdown",
   "metadata": {
    "deletable": false,
    "editable": false,
    "solution2": "hidden"
   },
   "source": [
    "**Réponse :** Non, il faudrait tester tous les couples d'éléments et pas seulement les voisins, ce qui prendrait beaucoup plus de temps."
   ]
  },
  {
   "cell_type": "markdown",
   "metadata": {
    "solution2": "hidden",
    "solution2_first": true
   },
   "source": [
    "### Exercice 5 : Écritures **\n",
    "\n",
    "- Écrire une fonction qui parcourt un tableau de gauche à droite\n",
    "et le modifie de la manière suivante : <br>\n",
    "les premier et dernier éléments sont inchangés, les autres valent\n",
    "la moyenne des éléments voisins.\n",
    "- Ecrire une fonction de tests unitaires pour cette fonction.\n",
    "- Faire le parcours de droite à gauche et expliquer pourquoi les\n",
    "résultats sont différents."
   ]
  },
  {
   "cell_type": "code",
   "execution_count": null,
   "metadata": {
    "solution2": "hidden"
   },
   "outputs": [],
   "source": [
    "#------------------------------#\n",
    "#    CORRECTION  ! ! ! ! ! !   #\n",
    "#------------------------------#\n",
    "def moy(t):\n",
    "    \"\"\"\n",
    "    Modifie de gauche à droite un tableau passé en paramètre: les éléments autres que \n",
    "    le premier et le dernier valent la moyenne des 2 éléments voisins.\n",
    "    \n",
    "    \n",
    "    :param t: le tableau a modifier\n",
    "    :type t: list\n",
    "    :return: None\n",
    "    :rtype: NoneType\n",
    "    \n",
    "    :Exemples:\n",
    "    >>> t=[10,2,20]\n",
    "    >>> moy(t)\n",
    "    >>> print(t)\n",
    "    [10, 15, 20]\n",
    "\n",
    "    >>> t=[10,2,2,20]\n",
    "    >>> moy(t)\n",
    "    >>> print(t)\n",
    "    [10, 6, 13, 20]\n",
    "    \"\"\"\n",
    "    i = 1\n",
    "    while i < len(t)-1:\n",
    "        t[i] = (t[i-1] + t[i+1])/2\n",
    "        i+=1\n",
    "        \n",
    "def test_moy():\n",
    "    t=[10,20]\n",
    "    moy(t)\n",
    "    assert t == [10, 20]\n",
    "    \n",
    "    t=[10,2,20]\n",
    "    moy(t)\n",
    "    assert t == [10, 15, 20]\n",
    "\n",
    "    t=[10,2,2,20]\n",
    "    moy(t)\n",
    "    assert t == [10, 6, 13, 20]\n",
    "\n",
    "    print(\"Test de la fonction moy : ok\")\n",
    " "
   ]
  },
  {
   "cell_type": "code",
   "execution_count": null,
   "metadata": {
    "solution2": "hidden"
   },
   "outputs": [],
   "source": [
    "   \n",
    "def yom(t):\n",
    "    \"\"\"\n",
    "    Modifie de droite à gauche un tableau passé en paramètre: les éléments autres que \n",
    "    le premier et le dernier valent la moyenne des 2 éléments voisins.\n",
    "    \n",
    "    \n",
    "    :param t: le tableau a modifier\n",
    "    :type t: list\n",
    "    \n",
    "    :return: None\n",
    "    :rtype: NoneType\n",
    "    \n",
    "    :Exemples:\n",
    "    >>> t=[10,2,20]\n",
    "    >>> yom(t)\n",
    "    >>> print(t)\n",
    "    [10, 15, 20]\n",
    "    >>> t=[10,2,2,20]\n",
    "    >>> yom(t)\n",
    "    >>> print(t)\n",
    "    [10, 10.5, 11, 20]\n",
    "    \"\"\"\n",
    "    i = len(t) - 2\n",
    "    while i > 0:\n",
    "        t[i] = (t[i-1] + t[i+1])/2\n",
    "        i-=1\n",
    "        \n",
    "def test_yom():\n",
    "    t=[10,20]\n",
    "    yom(t)\n",
    "    assert t == [10, 20]\n",
    "    \n",
    "    t=[10,2,20]\n",
    "    yom(t)\n",
    "    assert t == [10, 15, 20]\n",
    "\n",
    "    t=[10,2,2,20]\n",
    "    yom(t)\n",
    "    assert t == [10, 10.5, 11, 20]\n",
    "\n",
    "    print(\"Test de la fonction yom : ok\")\n",
    "\n",
    "\n",
    "test_moy()\n",
    "test_yom()"
   ]
  },
  {
   "cell_type": "markdown",
   "metadata": {
    "solution2": "hidden"
   },
   "source": [
    "On lit des éléments modifiés en cours de calcul (celui de gauche\n",
    "dans le premier cas, celui de droite dans le second)."
   ]
  }
 ],
 "metadata": {
  "kernelspec": {
   "display_name": "Python 3 (ipykernel)",
   "language": "python",
   "name": "python3"
  },
  "language_info": {
   "codemirror_mode": {
    "name": "ipython",
    "version": 3
   },
   "file_extension": ".py",
   "mimetype": "text/x-python",
   "name": "python",
   "nbconvert_exporter": "python",
   "pygments_lexer": "ipython3",
   "version": "3.11.4"
  },
  "latex_envs": {
   "LaTeX_envs_menu_present": true,
   "autoclose": false,
   "autocomplete": true,
   "bibliofile": "biblio.bib",
   "cite_by": "apalike",
   "current_citInitial": 1,
   "eqLabelWithNumbers": true,
   "eqNumInitial": 1,
   "hotkeys": {
    "equation": "Ctrl-E",
    "itemize": "Ctrl-I"
   },
   "labels_anchors": false,
   "latex_user_defs": false,
   "report_style_numbering": false,
   "user_envs_cfg": false
  },
  "toc": {
   "base_numbering": 1,
   "nav_menu": {},
   "number_sections": true,
   "sideBar": true,
   "skip_h1_title": false,
   "title_cell": "Table of Contents",
   "title_sidebar": "Contents",
   "toc_cell": false,
   "toc_position": {},
   "toc_section_display": true,
   "toc_window_display": false
  }
 },
 "nbformat": 4,
 "nbformat_minor": 2
}
