{
 "cells": [
  {
   "cell_type": "markdown",
   "metadata": {
    "deletable": false,
    "editable": false,
    "run_control": {
     "frozen": true
    }
   },
   "source": [
    "# <center> Chapitre 9 : Tableaux et fonctions </center>"
   ]
  },
  {
   "cell_type": "markdown",
   "metadata": {
    "deletable": false,
    "editable": false,
    "run_control": {
     "frozen": true
    }
   },
   "source": [
    "## Tableau en paramètre d'une fonction\n",
    "\n",
    "Une fonction peut prendre un tableau en paramètre. Cela permet\n",
    "d'appliquer un même traitement à plusieurs tableaux.\n",
    "\n",
    "**Exemple** :"
   ]
  },
  {
   "cell_type": "code",
   "execution_count": null,
   "metadata": {
    "deletable": false,
    "editable": false
   },
   "outputs": [],
   "source": [
    "#fonction qui affiche le premier élément d'un tableau\n",
    "def affiche_premier1(tab):\n",
    "    \"\"\"\n",
    "    Affiche un message indiquant quel est le premier élément \n",
    "    du tableau tab passé en paramètre.\n",
    "    \n",
    "    :param tab: le tableau dont on veut afficher le premier élément\n",
    "    :type tab: list\n",
    "    :return: None\n",
    "    :rtype: NoneType\n",
    "    :print: message contenant la représentation du \n",
    "            premier élément du tableau\n",
    "    \n",
    "    :Exemples:\n",
    "    >>> affiche_premier1([1, 2, 3])\n",
    "    Premier élément : 1\n",
    "    >>> affiche_premier1([ \"Bonjour\", \"Lundi\"])\n",
    "    Premier élément : Bonjour\n",
    "    \"\"\"\n",
    "    print(\"Premier élément : \",tab[0])\n",
    "    \n",
    "t = [\"oui\", \"non\", \"peut-être\"]\n",
    "t2 = [34, 22, 6, 70]\n",
    "\n",
    "affiche_premier1(t)\n",
    "affiche_premier1(t2)"
   ]
  },
  {
   "cell_type": "markdown",
   "metadata": {
    "deletable": false,
    "editable": false,
    "run_control": {
     "frozen": true
    }
   },
   "source": [
    "**Remarque :** Passer un tableau vide à cette fonction provoque une\n",
    "erreur `out of range` car on lit un élément inexistant."
   ]
  },
  {
   "cell_type": "code",
   "execution_count": null,
   "metadata": {
    "deletable": false,
    "editable": false
   },
   "outputs": [],
   "source": [
    "t = []\n",
    "affiche_premier1(t)"
   ]
  },
  {
   "cell_type": "markdown",
   "metadata": {
    "deletable": false,
    "editable": false,
    "run_control": {
     "frozen": true
    }
   },
   "source": [
    "Pour éviter ces problèmes d'exécution, il faut tester si le tableau est vide,  et ne pas chercher le premier élément dans ce cas. Le programme peut également afficher un message d'erreur pour avertir l'utilisateur."
   ]
  },
  {
   "cell_type": "code",
   "execution_count": null,
   "metadata": {
    "deletable": false,
    "editable": false
   },
   "outputs": [],
   "source": [
    "def affiche_premier2(tab):\n",
    "    \"\"\"\n",
    "    Affiche un message indiquant quel est le premier élément du tableau passé en paramètre.\n",
    "    \n",
    "    :param tab: le tableau dont on veut afficher le premier élément\n",
    "    :type tab: list\n",
    "    :return: None\n",
    "    :rtype: NoneType\n",
    "    :print: message contenant la représentation du premier élément du tableau\n",
    "    \n",
    "    :Exemples:\n",
    "    >>> affiche_premier1([ 1, 2, 3])\n",
    "    Premier élément : 1\n",
    "    >>> affiche_premier1([])\n",
    "    Désolé, le tableau est vide !\n",
    "    \"\"\"\n",
    "    if len(tab) == 0:              # teste si le tableau est vide\n",
    "        print(\"Désolé, le tableau est vide !\")\n",
    "    else:\n",
    "        print(\"Premier élément : \", tab[0])\n",
    "        \n",
    "\n",
    "affiche_premier2(t)"
   ]
  },
  {
   "cell_type": "markdown",
   "metadata": {
    "deletable": false,
    "editable": false,
    "run_control": {
     "frozen": true
    }
   },
   "source": [
    "## Tableau en valeur de retour d'une fonction\n",
    "\n",
    "Une fonction peut  renvoyer un tableau.\n",
    "\n",
    "**Exemple** :"
   ]
  },
  {
   "cell_type": "code",
   "execution_count": null,
   "metadata": {
    "deletable": false,
    "editable": false
   },
   "outputs": [],
   "source": [
    "from random import *\n",
    "\n",
    "def tab_alea():\n",
    "    \"\"\"\n",
    "    Retourne un tableau contenant 2 valeurs entières aléatoires.\n",
    "    La première est comprise entre 1 et 20, \n",
    "    la seconde entre 1 et 100\n",
    "    :return: le tableau contenant les 2 entiers aléatoires\n",
    "    :rtype: list\n",
    "    \n",
    "    :Exemple:\n",
    "    >>> tab_alea()\n",
    "    [3, 64]\n",
    "    \"\"\"\n",
    "    t = []\n",
    "    t.append(randint(1,20))\n",
    "    t.append(randint(1,100))\n",
    "    return t\n",
    "\n",
    "t0=tab_alea()\n",
    "print(t0)"
   ]
  },
  {
   "cell_type": "code",
   "execution_count": null,
   "metadata": {
    "deletable": false,
    "editable": false
   },
   "outputs": [],
   "source": [
    "def test_tab_alea():\n",
    "    t = tab_alea()\n",
    "    print(t)\n",
    "    assert len(t) == 2, \"le tableau doit contenir 2 valeurs !\"\n",
    "    assert t[0] >= 1 and t[0] <= 20, \"1ere valeur entre 1 et 20 ; \"\n",
    "    assert t[1] >= 1 and t[1] <= 100, \"2eme valeur entre 1 et 100 !\"\n",
    "    print(\"Test de la fonction tab_alea : ok\")\n",
    "    \n",
    "test_tab_alea()"
   ]
  },
  {
   "cell_type": "markdown",
   "metadata": {
    "deletable": false,
    "editable": false
   },
   "source": [
    "## Fonctions avec parcours de tableaux\n",
    "\n",
    "Voici quelques exemples typiques.\n",
    "\n",
    "### Exemple d'affichage\n",
    "\n",
    "Afficher un seul élément précédé d'un tiret sur chaque ligne : la fonction ne renvoie rien."
   ]
  },
  {
   "cell_type": "code",
   "execution_count": null,
   "metadata": {
    "deletable": false,
    "editable": false
   },
   "outputs": [],
   "source": [
    "def affiche_tirets(t):\n",
    "    \"\"\"\n",
    "    Affiche les éléments d'un tableau, chacun sur une ligne, \n",
    "    précédé d'un tiret.\n",
    "    \n",
    "    :param t: le tableau contenant les éléments à afficher.\n",
    "    :type t: list\n",
    "    :return: le tableau contenant les 2 entiers aléatoires\n",
    "    :rtype: list\n",
    "    \n",
    "    :Exemple:\n",
    "    >>> affiche_tirets([1,2,\"toto\"])\n",
    "    - 1\n",
    "    - 2\n",
    "    - toto\n",
    "    \"\"\"\n",
    "    i=0\n",
    "    while i < len(t):\n",
    "        print (\" - \", t[i])\n",
    "        i+=1\n",
    "        \n",
    "t = [\"oui\", \"non\", \"peut-être\"]\n",
    "affiche_tirets(t)"
   ]
  },
  {
   "cell_type": "markdown",
   "metadata": {
    "deletable": false,
    "editable": false,
    "run_control": {
     "frozen": true
    }
   },
   "source": [
    "- Sur ce thème : **Exercice 1, Questions 1 et 2, TD 9**"
   ]
  },
  {
   "cell_type": "markdown",
   "metadata": {
    "deletable": false,
    "editable": false,
    "run_control": {
     "frozen": true
    }
   },
   "source": [
    "### Exemple de test\n",
    "\n",
    "Tester si tous les éléments sont nuls : la fonction renvoie un booléen."
   ]
  },
  {
   "cell_type": "code",
   "execution_count": null,
   "metadata": {
    "deletable": false,
    "editable": false
   },
   "outputs": [],
   "source": [
    "def tous_nuls(t):\n",
    "    \"\"\"\n",
    "    Teste si tous les éléments d'un tableau sont égaux à l'entier 0.\n",
    "    \n",
    "    :param t: tableau des valeurs a tester\n",
    "    :type t: list \n",
    "    :return: le résultat du test sur tous les éléments du tableau\n",
    "    :rtype: bool\n",
    "    \n",
    "    :Example:\n",
    "    >>> tous_nuls([0,0,0])\n",
    "    True\n",
    "    >>> tous_nuls([0,1,0])\n",
    "    False\n",
    "    \"\"\"\n",
    "    i=0\n",
    "    while i < len(t) and t[i] == 0:\n",
    "        i+=1\n",
    "    return i==len(t)\n",
    "\n",
    "def test_tous_nuls():\n",
    "    assert tous_nuls([0,0,0])\n",
    "    assert not tous_nuls([0,0,1])\n",
    "    assert tous_nuls([])\n",
    "    print(\"Test de la fonction tous_nuls : ok\")\n",
    "\n",
    "test_tous_nuls()"
   ]
  },
  {
   "cell_type": "markdown",
   "metadata": {
    "deletable": false,
    "editable": false,
    "run_control": {
     "frozen": true
    }
   },
   "source": [
    "- Sur ce thème : **Exercices 2 et 3, TD 8**"
   ]
  },
  {
   "cell_type": "markdown",
   "metadata": {
    "deletable": false,
    "editable": false,
    "run_control": {
     "frozen": true
    }
   },
   "source": [
    "### Exemple de somme ou dénombrement\n",
    "\n",
    "Calculer la somme des éléments : la fonction renvoie un nombre."
   ]
  },
  {
   "cell_type": "code",
   "execution_count": null,
   "metadata": {
    "deletable": false,
    "editable": false
   },
   "outputs": [],
   "source": [
    "def somme_tab(t):\n",
    "    \"\"\"\n",
    "    Retourne la somme des éléments d'un tableau contenant des valeurs numériques.\n",
    "    \n",
    "    :param t: le tableau dont on veut sommer les éléments.\n",
    "    :type t: list\n",
    "    :return: la somme des éléments du tableau\n",
    "    :rtype: int ou float\n",
    "    \n",
    "    :Example:\n",
    "    >>> somme_tab([1,2,3])\n",
    "    6\n",
    "    >>> somme_tab([])\n",
    "    0\n",
    "    \"\"\"\n",
    "    somme = 0\n",
    "    i=0\n",
    "    while i < len(t):\n",
    "        somme += t[i]\n",
    "        i+=1\n",
    "    return somme\n",
    "\n",
    "def test_somme_tab():\n",
    "    assert somme_tab([]) == 0\n",
    "    assert somme_tab([1]) == 1\n",
    "    assert somme_tab([-1,1]) == 0\n",
    "    assert somme_tab([1,2,3]) == 6\n",
    "    print(\"Test de la fonction somme_tab : ok\")\n",
    "\n",
    "test_somme_tab()"
   ]
  },
  {
   "cell_type": "markdown",
   "metadata": {
    "deletable": false,
    "editable": false
   },
   "source": [
    "Sur ce thème : **Exercice 1, Question 3** et **Exercice 4, TD 9**"
   ]
  },
  {
   "cell_type": "markdown",
   "metadata": {
    "deletable": false,
    "editable": false,
    "run_control": {
     "frozen": true
    }
   },
   "source": [
    "### Exemples de modification du paramètre\n",
    "\n",
    "Les fonctions modifiants les tableau ne renvoient souvent rien, elles modifient le tableau passé en paramètre. En fait, c'est l'adresse du tableau qui est passé en paramètre ce qui permet de modifier ce qui est stocker en mémoire.\n",
    "\n",
    "- Ajouter une valeur `val` à tous les éléments du tableau"
   ]
  },
  {
   "cell_type": "code",
   "execution_count": null,
   "metadata": {
    "deletable": false,
    "editable": false
   },
   "outputs": [],
   "source": [
    "def ajoute(t,val):\n",
    "    \"\"\"\n",
    "    Ajoute à tous les éléments d'un tableau une valeur passée en paramètre.\n",
    "    \n",
    "    :param t: le tableau auquel on souhaite ajouter la valeur\n",
    "    :type t: list\n",
    "    :param val: la valeur que l'on souhaite ajouter à tous les éléments du tableau.\n",
    "    :type val: int ou float\n",
    "    :return: None\n",
    "    :rtype: NoneType\n",
    "\n",
    "    :Exemples:\n",
    "    >>> ajoute([1, 2,10],3)\n",
    "    >>> ajoute([],3)\n",
    "    >>> ajoute([1],-1)\n",
    "    \"\"\"\n",
    "    i=0\n",
    "    while i < len(t):\n",
    "        t[i] += val\n",
    "        i+=1\n",
    "\n",
    "def test_ajoute():\n",
    "    t = [1, 2,10]\n",
    "    ajoute(t,3)\n",
    "    assert t == [4, 5, 13]\n",
    "    \n",
    "    t = []\n",
    "    ajoute(t,3)\n",
    "    assert t == []\n",
    "    \n",
    "    t = [1]\n",
    "    ajoute(t,-1)\n",
    "    assert t == [0]\n",
    "    print(\"Test de la fonction ajoute : ok\")\n",
    "        \n",
    "test_ajoute()"
   ]
  },
  {
   "cell_type": "markdown",
   "metadata": {
    "deletable": false,
    "editable": false,
    "run_control": {
     "frozen": true
    }
   },
   "source": [
    "* Insérer un élément en avant-dernière position"
   ]
  },
  {
   "cell_type": "code",
   "execution_count": null,
   "metadata": {
    "deletable": false,
    "editable": false
   },
   "outputs": [],
   "source": [
    "def insere_avant_dernier(t, elt):\n",
    "    \"\"\"\n",
    "    Insère dans un tableau un élément (passés en paramètre) \n",
    "    à l'avant dernière position \n",
    "    \n",
    "    :param t: le tableau auquel on souhaite ajouter un élément \n",
    "              en avant dernière position\n",
    "    :type t: list\n",
    "    :param elt: l'élément a ajouter\n",
    "    :return: None\n",
    "    :rtype: NoneType\n",
    "    \n",
    "    :Exemple:\n",
    "    >>> insere_avant_dernier([1,3], 2)\n",
    "    \"\"\"\n",
    "    n = len(t)\n",
    "    tmp = t[n-1]\n",
    "    t[n-1] = elt\n",
    "    t.append(tmp)\n",
    "    \n",
    "\n",
    "def test_insere_avant_dernier():\n",
    "    t = [1,3]\n",
    "    insere_avant_dernier(t, 2)\n",
    "    assert t == [1, 2, 3]\n",
    "    \n",
    "    t = [\"a\", 3]\n",
    "    insere_avant_dernier(t, \":\")\n",
    "    assert t == [\"a\", \":\", 3]\n",
    "    print(\"Test de la fonction insere_avant_dernier : ok\")\n",
    "    \n",
    "test_insere_avant_dernier()"
   ]
  },
  {
   "cell_type": "markdown",
   "metadata": {
    "deletable": false,
    "editable": false,
    "run_control": {
     "frozen": true
    }
   },
   "source": [
    "Sur ce thème : **Exercice 5, TD 8**"
   ]
  },
  {
   "cell_type": "markdown",
   "metadata": {
    "deletable": false,
    "editable": false,
    "run_control": {
     "frozen": true
    }
   },
   "source": [
    "**Remarque** : pour modifier un tableau dans une fonction, il faut\n",
    "affecter les éléments concernés un à un et non faire une affectation\n",
    "globale."
   ]
  },
  {
   "cell_type": "code",
   "execution_count": null,
   "metadata": {
    "deletable": false,
    "editable": false
   },
   "outputs": [],
   "source": [
    "def mise_a_zero(t):\n",
    "    \"\"\"\n",
    "    Remplace dans le tableau passé en paramètre tous les éléments \n",
    "    par la valeur 0.\n",
    "    \n",
    "    :param t: le tableau dont on veut mettre le contenu de chaque cas à zéro.\n",
    "    :type t: list\n",
    "    :return: None\n",
    "    :rtype: NoneType\n",
    "    :Exemple:\n",
    "    >>> mise_a_zero([1, \"toto\", 3])\n",
    "    \"\"\"\n",
    "    i=0\n",
    "    while i < len(t):\n",
    "        t[i] = 0\n",
    "        i+=1\n",
    "\n",
    "        \n",
    "def test_mise_a_zero():\n",
    "    t = [1, \"toto\"]\n",
    "    mise_a_zero(t)\n",
    "    assert t == [0, 0]\n",
    "    \n",
    "    t = []\n",
    "    mise_a_zero(t)\n",
    "    assert t == []\n",
    "    \n",
    "    print(\"Test de la fonction mise_a_zero : ok\")\n",
    "\n",
    "test_mise_a_zero()"
   ]
  },
  {
   "cell_type": "markdown",
   "metadata": {
    "deletable": false,
    "editable": false,
    "run_control": {
     "frozen": true
    }
   },
   "source": [
    "L'affectation globale crée une variable locale qui est détruite à la sortie\n",
    "de la fonction ; le tableau passé en paramètre n'est donc pas modifié."
   ]
  },
  {
   "cell_type": "code",
   "execution_count": null,
   "metadata": {
    "deletable": false,
    "editable": false
   },
   "outputs": [],
   "source": [
    "def affectation(t):\n",
    "    \"\"\"\n",
    "    Test de la possibilité de travail sur une copie locale à la fonction préservant\n",
    "    le tableau original passé en paramètre.\n",
    "    \n",
    "    :param t: le tableau contenant des valeurs qui ne doit pas être modifié par l'appel de la fonction\n",
    "    :type t: list\n",
    "    :return: None\n",
    "    :rtype:  NoneType\n",
    "    :print: affichage de la copie locale après modification du tableau\n",
    "    \n",
    "    :Exemple:\n",
    "    >>> affectation([1,2])\n",
    "    [0, 0, 0]\n",
    "    \"\"\"\n",
    "    t = [0,0,0]\n",
    "    print(\"local : \",t)\n",
    "    \n",
    "t = [1,1,1]\n",
    "print(\"avant l'appel\",t)\n",
    "affectation(t)\n",
    "print(\"après l'appel : \",t)"
   ]
  },
  {
   "cell_type": "markdown",
   "metadata": {
    "deletable": false,
    "editable": false,
    "run_control": {
     "frozen": true
    }
   },
   "source": [
    "### Exemple de création d'un tableau\n",
    "\n",
    "La fonction renvoie le tableau créé. Si nécessaire, on précise la taille voulue en paramètre. La taille peut aussi être saisie dans la fonction dans ce cas aucun paramètre n'est passé à la fonction."
   ]
  },
  {
   "cell_type": "code",
   "execution_count": null,
   "metadata": {
    "deletable": false,
    "editable": false
   },
   "outputs": [],
   "source": [
    "def multiples_de_10(n):\n",
    "    \"\"\"\n",
    "    Retourne un tableau de longueur n contenant n premiers multiples de 10.\n",
    "    \n",
    "    :param n: le nombre de premiers multiples de 10 (ie la longueur du tableau)\n",
    "    :type n: int\n",
    "    :return: Le tableau contenant les n premiers multiples de 10.\n",
    "    :rtype: list\n",
    "    \n",
    "    :Exemples:\n",
    "    >>> multiples_de_10(0)\n",
    "    []\n",
    "    >>> multiples_de_10(1)\n",
    "    [0]\n",
    "    >>> multiples_de_10(3)\n",
    "    [0, 10, 20]\n",
    "    \"\"\"\n",
    "    t=[]\n",
    "    i=0\n",
    "    while i<n:\n",
    "        t.append(10*i)\n",
    "        i+=1\n",
    "    return t\n",
    "\n",
    "def test_multiples_de_10():\n",
    "    assert multiples_de_10(0) == []\n",
    "    assert multiples_de_10(1) == [0]\n",
    "    assert multiples_de_10(3) == [0, 10, 20]\n",
    "    print(\"Test de la fonction test_multiples_de_10 : ok\")\n",
    "\n",
    "test_multiples_de_10()"
   ]
  },
  {
   "cell_type": "markdown",
   "metadata": {
    "deletable": false,
    "editable": false,
    "run_control": {
     "frozen": true
    }
   },
   "source": [
    "Sur ce thème : **Exercice 1, Question 4, TD 9**"
   ]
  }
 ],
 "metadata": {
  "@webio": {
   "lastCommId": "0d5802ba7d9b46a58b1bdf4a7be8cf3a",
   "lastKernelId": "d0979218-889d-4948-b411-0f4cf2ead34e"
  },
  "kernelspec": {
   "display_name": "Python 3 (ipykernel)",
   "language": "python",
   "name": "python3"
  },
  "language_info": {
   "codemirror_mode": {
    "name": "ipython",
    "version": 3
   },
   "file_extension": ".py",
   "mimetype": "text/x-python",
   "name": "python",
   "nbconvert_exporter": "python",
   "pygments_lexer": "ipython3",
   "version": "3.11.4"
  },
  "latex_envs": {
   "LaTeX_envs_menu_present": true,
   "autoclose": false,
   "autocomplete": true,
   "bibliofile": "biblio.bib",
   "cite_by": "apalike",
   "current_citInitial": 1,
   "eqLabelWithNumbers": true,
   "eqNumInitial": 1,
   "hotkeys": {
    "equation": "Ctrl-E",
    "itemize": "Ctrl-I"
   },
   "labels_anchors": false,
   "latex_user_defs": false,
   "report_style_numbering": false,
   "user_envs_cfg": false
  },
  "toc": {
   "base_numbering": 1,
   "nav_menu": {},
   "number_sections": true,
   "sideBar": true,
   "skip_h1_title": false,
   "title_cell": "Table of Contents",
   "title_sidebar": "Contents",
   "toc_cell": false,
   "toc_position": {},
   "toc_section_display": true,
   "toc_window_display": false
  },
  "varInspector": {
   "cols": {
    "lenName": 16,
    "lenType": 16,
    "lenVar": 40
   },
   "kernels_config": {
    "python": {
     "delete_cmd_postfix": "",
     "delete_cmd_prefix": "del ",
     "library": "var_list.py",
     "varRefreshCmd": "print(var_dic_list())"
    },
    "r": {
     "delete_cmd_postfix": ") ",
     "delete_cmd_prefix": "rm(",
     "library": "var_list.r",
     "varRefreshCmd": "cat(var_dic_list()) "
    }
   },
   "types_to_exclude": [
    "module",
    "function",
    "builtin_function_or_method",
    "instance",
    "_Feature"
   ],
   "window_display": false
  }
 },
 "nbformat": 4,
 "nbformat_minor": 2
}
