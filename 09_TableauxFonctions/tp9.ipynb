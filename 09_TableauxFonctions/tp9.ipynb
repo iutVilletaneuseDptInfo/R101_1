{
 "cells": [
  {
   "cell_type": "markdown",
   "metadata": {
    "deletable": false,
    "editable": false,
    "run_control": {
     "frozen": true
    }
   },
   "source": [
    "# <center> Chapitre 9 : Tableaux et fonctions - TP  </center>"
   ]
  },
  {
   "cell_type": "markdown",
   "metadata": {
    "deletable": false,
    "editable": false,
    "run_control": {
     "frozen": true
    }
   },
   "source": [
    "### Exercice 1 :  Somme alternée *\n",
    "\n",
    "Écrire une fonction `somme_alt` qui prend un tableau de nombres et calcule et retourne \n",
    "la somme des éléments d'indice pair moins la somme des éléments\n",
    "d'indice impair. Cette fonction devra passer les tests unitaires fournis."
   ]
  },
  {
   "cell_type": "code",
   "execution_count": null,
   "metadata": {},
   "outputs": [],
   "source": [
    "#-------------------------#\n",
    "#    Écrire le code ici   #\n",
    "#-------------------------#\n",
    "\n",
    "\n"
   ]
  },
  {
   "cell_type": "code",
   "execution_count": 1,
   "metadata": {
    "deletable": false,
    "editable": false
   },
   "outputs": [],
   "source": [
    "#----------------------------------#\n",
    "# Tests unitaires                   #\n",
    "#----------------------------------#\n",
    "def test_somme_alt():\n",
    "    assert somme_alt([1,2,3,4]) == -2\n",
    "    assert somme_alt([1,2,1]) == 0\n",
    "    assert somme_alt([1]) == 1\n",
    "    assert somme_alt([]) == 0   \n",
    "    print(\"Test de la fonction somme_alt : ok\")\n",
    "    \n",
    "test_somme_alt()"
   ]
  },
  {
   "cell_type": "markdown",
   "metadata": {
    "deletable": false,
    "editable": false,
    "run_control": {
     "frozen": true
    }
   },
   "source": [
    "### Exercice 2 : Autour du tri **\n",
    "\n",
    "#### Question 1 :Tableau trié\n",
    "\n",
    "Écrire une fonction `est_trie_croissant` qui teste si un tableau est trié dans l'ordre croissant. Cette fonction devra passer les tests unitaires fournis."
   ]
  },
  {
   "cell_type": "code",
   "execution_count": null,
   "metadata": {},
   "outputs": [],
   "source": [
    "#-------------------------#\n",
    "#    Écrire le code ici   #\n",
    "#-------------------------#\n",
    "\n",
    "\n"
   ]
  },
  {
   "cell_type": "code",
   "execution_count": null,
   "metadata": {
    "deletable": false,
    "editable": false
   },
   "outputs": [],
   "source": [
    "#----------------------------------#\n",
    "# Test unitaires                   #\n",
    "#----------------------------------#\n",
    "def test_est_trie_croissant():\n",
    "    assert est_trie_croissant([1,2,3])\n",
    "    assert not est_trie_croissant([2,1,3])\n",
    "    assert not est_trie_croissant([3,2,1])\n",
    "    assert est_trie_croissant([1])\n",
    "    assert est_trie_croissant([])\n",
    "    print(\"Test de la fonction est_trie_croissant : ok\")\n",
    "\n",
    "test_est_trie_croissant()"
   ]
  },
  {
   "cell_type": "markdown",
   "metadata": {},
   "source": [
    "#### Question 2  : Déplacement\n",
    "\n",
    "On dit qu'un tableau est presque trié s'il est trié sauf le dernier élément. <br>\n",
    "Écrire une fonction `replace_der` qui insère ce dernier élément à la bonne position de sorte que le tableau soit totalement trié. La  fonction devra passer les tests unitaires fournis."
   ]
  },
  {
   "cell_type": "code",
   "execution_count": null,
   "metadata": {},
   "outputs": [],
   "source": [
    "#-------------------------#\n",
    "#    Écrire le code ici   #\n",
    "#-------------------------#\n",
    "\n",
    "\n"
   ]
  },
  {
   "cell_type": "code",
   "execution_count": null,
   "metadata": {
    "deletable": false,
    "editable": false
   },
   "outputs": [],
   "source": [
    "#----------------------------------#\n",
    "# Tests unitaires                   #\n",
    "#----------------------------------#\n",
    "def test_replace_der():\n",
    "    t1 = [1,3,4,7,2]\n",
    "    replace_der(t1)\n",
    "    assert t1 == [1,2,3,4,7]\n",
    "    \n",
    "    t2 = [1,2,3,4,7]\n",
    "    replace_der(t2)\n",
    "    assert t2 == [1,2,3,4,7]\n",
    "    \n",
    "    print(\"Test de la fonction replace_der : ok\")\n",
    "\n",
    "test_replace_der()"
   ]
  },
  {
   "cell_type": "markdown",
   "metadata": {
    "deletable": false,
    "editable": false,
    "run_control": {
     "frozen": true
    }
   },
   "source": [
    "### Question 3 : Tri progressif\n",
    "\n",
    "- Écrire une fonction prenant en paramètre un entier `n` et qui renvoie un tableau contenant `n` entiers aléatoires entre 1 et 100.\n",
    "- A chaque fois qu'on ajoute un élément à un\n",
    "  tableau trié, le résultat est presque trié. <br>\n",
    "  Modifier la fonction précédente en déplaçant le dernier élément\n",
    "  ajouté, pour obtenir un tableau trié."
   ]
  },
  {
   "cell_type": "code",
   "execution_count": null,
   "metadata": {},
   "outputs": [],
   "source": [
    "#-------------------------#\n",
    "#    Écrire le code ici   #\n",
    "#-------------------------#\n",
    "\n",
    "\n"
   ]
  },
  {
   "cell_type": "markdown",
   "metadata": {
    "deletable": false,
    "editable": false,
    "run_control": {
     "frozen": true
    }
   },
   "source": [
    "### Exercice 3 :  Statistiques sur un fichier\n",
    "Le fichier http://berkeleyearth.lbl.gov/auto/Regional/TAVG/Text/northern-hemisphere-TAVG-Trend.txt contient les écarts de températures moyennes mensuels à une valeur de référence correspondant à la moyenne entre Janvier 1951 et Décembre 1980. Ces écarts concernent les températures de l'hémisphère nord depuis 1812.\n",
    "\n",
    "#### Question 1:\n",
    "Définir une fonction `est_ligne_de_commentaire_ou_vide(li)` qui teste si une chaîne de caractères commmence par le caractère `'%'` ou si la ligne est vide. Cette fonction devra passer les tests unitaires fournis."
   ]
  },
  {
   "cell_type": "code",
   "execution_count": null,
   "metadata": {},
   "outputs": [],
   "source": [
    "#-------------------------#\n",
    "#    Écrire le code ici   #\n",
    "#-------------------------#\n",
    "\n",
    "\n"
   ]
  },
  {
   "cell_type": "code",
   "execution_count": null,
   "metadata": {
    "deletable": false,
    "editable": false
   },
   "outputs": [],
   "source": [
    "#----------------------------------#\n",
    "# Test unitaires                   #\n",
    "#----------------------------------#\n",
    "def test_est_ligne_de_commentaire_ou_vide():\n",
    "    assert est_ligne_de_commentaire_ou_vide('%   Berkeley Earth analysis for mean temperature on complete dataset')\n",
    "    assert not est_ligne_de_commentaire_ou_vide('1817     1    -0.903  3.069    -1.443  0.886    -1.202  0.391    -1.136  0.393       NaN    NaN' )\n",
    "    assert est_ligne_de_commentaire_ou_vide('')\n",
    "    assert est_ligne_de_commentaire_ou_vide('\\n')\n",
    "    \n",
    "    print(\"Test de la fonction est_ligne_de_commentaire_ou_vide : ok\")\n",
    "\n",
    "test_est_ligne_de_commentaire_ou_vide()"
   ]
  },
  {
   "cell_type": "markdown",
   "metadata": {
    "deletable": false,
    "editable": false,
    "run_control": {
     "frozen": true
    }
   },
   "source": [
    "#### Question 2:\n",
    "Définir une fonction `parse_line(li, n_col, type)` qui découpe une chaîne de caractères `li` telle que celle trouvée dans le fichier et retourne la valeur de la colonne `n_col`, sous forme d'une valeur du type `ty`. Cette fonction devra passer les tests unitaires fournis.\n",
    "\n",
    "**Rappel** : la méthode `chaine.split()` sépare la chaine là où il y a un ou plusieurs espaces et retourne le tableau des chaines séparées. \n",
    "\n",
    "**NB** : `nan`(qui signifie Not a Numbe) est utilisé pour indiquer l'absence de donnée. On peut tester si une valeur vaut `nan` on utilise la fonction de test `isnan` de la  bibliothèque mathématique qui renvoie `True` si le paramètre vaut `nan`et `False`sinon. \n",
    "```\n",
    "from math import *\n",
    "print(isnan(nan))\n",
    "```\n",
    "affichera `True`"
   ]
  },
  {
   "cell_type": "code",
   "execution_count": null,
   "metadata": {},
   "outputs": [],
   "source": [
    "#-------------------------#\n",
    "#    Écrire le code ici   #\n",
    "#-------------------------#\n",
    "\n",
    "\n"
   ]
  },
  {
   "cell_type": "code",
   "execution_count": null,
   "metadata": {
    "deletable": false,
    "editable": false
   },
   "outputs": [],
   "source": [
    "#----------------------------------#\n",
    "# Test unitaires                   #\n",
    "#----------------------------------#\n",
    "def test_parse_line():\n",
    "    assert parse_line('  1819     8    -1.279  1.055', 0, int) == 1819\n",
    "    assert parse_line('  1819     8    -1.279  1.055' , 2, float) == -1.279\n",
    "    assert isnan(parse_line(' 1813    12       NaN    NaN', 2, float)) \n",
    "    print(\"Test de la fonction parse_line : ok\")\n",
    "\n",
    "test_parse_line()"
   ]
  },
  {
   "cell_type": "markdown",
   "metadata": {
    "deletable": false,
    "editable": false,
    "run_control": {
     "frozen": true
    }
   },
   "source": [
    "#### Question 3:\n",
    "Définir une `fonction read_temp(path , debut, fin)` qui prend en paramètre le chemin vers un fichier de température, une année de début et une année de fin et qui retourne la moyenne des écarts aux températures mensuelles (valeurs de la 3ème colonne) entre ces 2 années incluses. Cette fonction devra passer les tests unitaires fournis."
   ]
  },
  {
   "cell_type": "code",
   "execution_count": null,
   "metadata": {},
   "outputs": [],
   "source": [
    "#-------------------------#\n",
    "#    Écrire le code ici   #\n",
    "#-------------------------#\n",
    "\n",
    "\n"
   ]
  },
  {
   "cell_type": "code",
   "execution_count": null,
   "metadata": {
    "deletable": false,
    "editable": false
   },
   "outputs": [],
   "source": [
    "#----------------------------------#\n",
    "# Test unitaires                   #\n",
    "#----------------------------------#\n",
    "def test_read_temp():\n",
    "    assert read_temp('files/northern-hemisphere-TAVG-Trend.txt', 1916, 1916) == -0.48308333333333336\n",
    "    assert read_temp('files/northern-hemisphere-TAVG-Trend.txt', 1916, 1917) == -0.5483750000000001\n",
    "    assert read_temp('files/northern-hemisphere-TAVG-Trend.txt', 1815, 1820) == -1.2836666666666667\n",
    "    \n",
    "    \n",
    "    print(\"Test de la fonction read_temp : ok\")\n",
    "\n",
    "test_read_temp()"
   ]
  },
  {
   "cell_type": "markdown",
   "metadata": {
    "deletable": false,
    "editable": false,
    "run_control": {
     "frozen": true
    }
   },
   "source": [
    "### Exercice 4  : Répétition *\n",
    "\n",
    "- Écrire une fonction `repetition` qui teste s'il existe un élément qui apparaît\n",
    "deux fois dans un tableau trié. Cette fonction devra passer les tests unitaires fournis.\n",
    "- Serait-ce aussi simple avec un tableau non trié ?"
   ]
  },
  {
   "cell_type": "code",
   "execution_count": null,
   "metadata": {},
   "outputs": [],
   "source": [
    "#-------------------------#\n",
    "#    Écrire le code ici   #\n",
    "#-------------------------#\n",
    "\n",
    "\n"
   ]
  },
  {
   "cell_type": "code",
   "execution_count": null,
   "metadata": {
    "deletable": false,
    "editable": false
   },
   "outputs": [],
   "source": [
    "#----------------------------------#\n",
    "# Test unitaires                   #\n",
    "#----------------------------------#\n",
    "def test_repetition():\n",
    "    assert repetition([1,3,3])\n",
    "    assert repetition([3,3])\n",
    "    assert not repetition([1,3,4])\n",
    "    assert not repetition([])\n",
    "    \n",
    "    print(\"Test de la fonction repetition : ok\")\n",
    "\n",
    "test_repetition()"
   ]
  },
  {
   "cell_type": "markdown",
   "metadata": {
    "deletable": false,
    "editable": false,
    "run_control": {
     "frozen": true
    }
   },
   "source": [
    "### Exercice 5 : Écritures **\n",
    "\n",
    "- Écrire une fonction qui parcourt un tableau de gauche à droite\n",
    "et le modifie de la manière suivante : <br>\n",
    "les premier et dernier éléments sont inchangés, les autres valent\n",
    "la moyenne des deux éléments voisins.\n",
    "- Ecrire une fonction de tests unitaires pour cette fonction.\n",
    "- Faire le parcours de droite à gauche et expliquer pourquoi les\n",
    "résultats sont différents."
   ]
  },
  {
   "cell_type": "code",
   "execution_count": 1,
   "metadata": {},
   "outputs": [],
   "source": [
    "#-------------------------#\n",
    "#    Écrire le code ici   #\n",
    "#-------------------------#\n",
    "\n",
    "\n",
    "\n"
   ]
  }
 ],
 "metadata": {
  "kernelspec": {
   "display_name": "Python 3 (ipykernel)",
   "language": "python",
   "name": "python3"
  },
  "language_info": {
   "codemirror_mode": {
    "name": "ipython",
    "version": 3
   },
   "file_extension": ".py",
   "mimetype": "text/x-python",
   "name": "python",
   "nbconvert_exporter": "python",
   "pygments_lexer": "ipython3",
   "version": "3.11.4"
  },
  "latex_envs": {
   "LaTeX_envs_menu_present": true,
   "autoclose": false,
   "autocomplete": true,
   "bibliofile": "biblio.bib",
   "cite_by": "apalike",
   "current_citInitial": 1,
   "eqLabelWithNumbers": true,
   "eqNumInitial": 1,
   "hotkeys": {
    "equation": "Ctrl-E",
    "itemize": "Ctrl-I"
   },
   "labels_anchors": false,
   "latex_user_defs": false,
   "report_style_numbering": false,
   "user_envs_cfg": false
  },
  "toc": {
   "base_numbering": 1,
   "nav_menu": {},
   "number_sections": true,
   "sideBar": true,
   "skip_h1_title": false,
   "title_cell": "Table of Contents",
   "title_sidebar": "Contents",
   "toc_cell": false,
   "toc_position": {},
   "toc_section_display": true,
   "toc_window_display": false
  }
 },
 "nbformat": 4,
 "nbformat_minor": 2
}
