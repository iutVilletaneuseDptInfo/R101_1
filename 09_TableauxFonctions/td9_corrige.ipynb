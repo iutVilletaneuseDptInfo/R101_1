{
 "cells": [
  {
   "cell_type": "markdown",
   "metadata": {
    "deletable": false,
    "editable": false,
    "run_control": {
     "frozen": true
    }
   },
   "source": [
    "# <center> Chapitre 9 : Tableaux et fonctions - TD corrigé </center>"
   ]
  },
  {
   "cell_type": "markdown",
   "metadata": {
    "deletable": false,
    "editable": false,
    "run_control": {
     "frozen": true
    },
    "solution2": "hidden",
    "solution2_first": true
   },
   "source": [
    "### Exercice 1 : Test de compréhension*\n",
    "\n",
    "#### Question 1 : Indices pairs et impairs\n",
    "\n",
    "- Écrire une fonction `affiche_pairs` qui prend un tableau `t` et affiche les éléments d'indice pair (de position paire).\n",
    "Ainsi les instructions\n",
    "```\n",
    "t=[1,2,3,4]\n",
    "affiche_pairs(t)\n",
    "```\n",
    "produiront l'affichage \n",
    "```\n",
    "1\n",
    "3\n",
    "```\n",
    "\n",
    "- Écrire de même une fonction `affiche_impairs` qui prend un tableau `t` et affiche les éléments d'indice impair (de position impaire)."
   ]
  },
  {
   "cell_type": "code",
   "execution_count": null,
   "metadata": {
    "deletable": false,
    "editable": false,
    "solution2": "hidden"
   },
   "outputs": [],
   "source": [
    "#------------------------------#\n",
    "#    CORRECTION  ! ! ! ! ! !   #\n",
    "#------------------------------#\n",
    "def affiche_pairs(t):\n",
    "    \"\"\"\n",
    "    Affiche les éléments d'indices pairs d'un tableau\n",
    "    \n",
    "    :param t: le tableau dont on affiche les éléments d'indices pairs\n",
    "    :type t: list\n",
    "    :return: None\n",
    "    :rtype: NoneType\n",
    "    :print: les éléments d'indices pairs.\n",
    "    \n",
    "    :Exemple:\n",
    "    >>> affiche_pairs( [1, 2, 3, 4])\n",
    "    1\n",
    "    3\n",
    "    \"\"\"\n",
    "    i=0\n",
    "    while i < len(t):\n",
    "        print(t[i])\n",
    "        i+=2\n",
    "        \n",
    "def affiche_impairs(t):\n",
    "    \"\"\"\n",
    "    Affiche les éléments d'indices impairs d'un tableau\n",
    "    \n",
    "    :param t: le tableau dont on affiche les éléments d'indices impairs\n",
    "    :type t: list\n",
    "    :return: None\n",
    "    :rtype: NoneType\n",
    "    :print: les éléments d'indices impairs.\n",
    "    \n",
    "    :Exemple:\n",
    "    >>> affiche_impairs( [1, 2, 3, 4])\n",
    "    2\n",
    "    4\n",
    "    \"\"\"\n",
    "    i=1\n",
    "    while i < len(t):\n",
    "        print(t[i])\n",
    "        i+=2\n",
    "        \n",
    "t = [5,10,15,20,25, 30,35,40]\n",
    "affiche_pairs(t)\n",
    "print(\"***\")\n",
    "affiche_impairs(t)"
   ]
  },
  {
   "cell_type": "markdown",
   "metadata": {
    "deletable": false,
    "editable": false,
    "run_control": {
     "frozen": true
    },
    "solution2": "hidden",
    "solution2_first": true
   },
   "source": [
    "#### Question 2 : À l'envers\n",
    "\n",
    "Écrire une fonction qui affiche un tableau à l'envers, *i.e.* en commençant par la fin du tableau sans utiliser la méthode `reverse`."
   ]
  },
  {
   "cell_type": "code",
   "execution_count": null,
   "metadata": {
    "deletable": false,
    "editable": false,
    "hideCode": true,
    "solution2": "hidden"
   },
   "outputs": [],
   "source": [
    "#------------------------------#\n",
    "#    CORRECTION  ! ! ! ! ! !   #\n",
    "#------------------------------#\n",
    "def envers(t):\n",
    "    \"\"\"\n",
    "    Affiche le tableau passé en paramètre à l'envers.\n",
    "    \n",
    "    :param t: le tableau dont on affiche les éléments\n",
    "    :type t: list\n",
    "    :return: None\n",
    "    :rtype: NoneType\n",
    "    \n",
    "    :Exemple:\n",
    "    >>> envers([1, 2, 3])\n",
    "    3\n",
    "    2\n",
    "    1\n",
    "    \"\"\"\n",
    "    i = len(t) - 1\n",
    "    while i >= 0:\n",
    "        print(t[i])\n",
    "        i-=1\n",
    "    \n",
    "envers(t)"
   ]
  },
  {
   "cell_type": "markdown",
   "metadata": {
    "solution2": "hidden",
    "solution2_first": true
   },
   "source": [
    "#### Question 3 : Moyenne\n",
    "\n",
    "- Écrire une fonction qui calcule la moyenne d'un tableau de nombres sans utiliser la fonction `mean`. On veillera à traiter le cas du tableau vide. \n",
    "- Écrire une fonction de tests unitaires pour cette fonction."
   ]
  },
  {
   "cell_type": "code",
   "execution_count": 6,
   "metadata": {
    "deletable": false,
    "editable": false,
    "solution2": "hidden"
   },
   "outputs": [
    {
     "name": "stdout",
     "output_type": "stream",
     "text": [
      "pas de données\n",
      "Test de la fonction moyenne : ok\n"
     ]
    },
    {
     "ename": "AssertionError",
     "evalue": "votre paramètre n'est pas un tableau !",
     "output_type": "error",
     "traceback": [
      "\u001b[0;31m---------------------------------------------------------------------------\u001b[0m",
      "\u001b[0;31mAssertionError\u001b[0m                            Traceback (most recent call last)",
      "Cell \u001b[0;32mIn[6], line 39\u001b[0m\n\u001b[1;32m     35\u001b[0m     \u001b[38;5;28mprint\u001b[39m(\u001b[38;5;124m\"\u001b[39m\u001b[38;5;124mTest de la fonction moyenne : ok\u001b[39m\u001b[38;5;124m\"\u001b[39m)\n\u001b[1;32m     37\u001b[0m test_moyenne()\n\u001b[0;32m---> 39\u001b[0m \u001b[38;5;28mprint\u001b[39m(moyenne(\u001b[38;5;241m2\u001b[39m))\n",
      "Cell \u001b[0;32mIn[6], line 19\u001b[0m, in \u001b[0;36mmoyenne\u001b[0;34m(t)\u001b[0m\n\u001b[1;32m      4\u001b[0m \u001b[38;5;28;01mdef\u001b[39;00m \u001b[38;5;21mmoyenne\u001b[39m(t):\n\u001b[1;32m      5\u001b[0m \u001b[38;5;250m    \u001b[39m\u001b[38;5;124;03m\"\"\"\u001b[39;00m\n\u001b[1;32m      6\u001b[0m \u001b[38;5;124;03m    Retourne la moyenne des valeurs d'un tableau de nombres.\u001b[39;00m\n\u001b[1;32m      7\u001b[0m \u001b[38;5;124;03m    \u001b[39;00m\n\u001b[0;32m   (...)\u001b[0m\n\u001b[1;32m     17\u001b[0m \u001b[38;5;124;03m    1.5\u001b[39;00m\n\u001b[1;32m     18\u001b[0m \u001b[38;5;124;03m    \"\"\"\u001b[39;00m\n\u001b[0;32m---> 19\u001b[0m     \u001b[38;5;28;01massert\u001b[39;00m \u001b[38;5;28mtype\u001b[39m(t)\u001b[38;5;241m==\u001b[39m\u001b[38;5;28mlist\u001b[39m, \u001b[38;5;124m\"\u001b[39m\u001b[38;5;124mvotre paramètre n\u001b[39m\u001b[38;5;124m'\u001b[39m\u001b[38;5;124mest pas un tableau !\u001b[39m\u001b[38;5;124m\"\u001b[39m\n\u001b[1;32m     21\u001b[0m     \u001b[38;5;28;01mif\u001b[39;00m \u001b[38;5;28mlen\u001b[39m(t) \u001b[38;5;241m==\u001b[39m \u001b[38;5;241m0\u001b[39m:\n\u001b[1;32m     22\u001b[0m         \u001b[38;5;28mprint\u001b[39m(\u001b[38;5;124m\"\u001b[39m\u001b[38;5;124mpas de données\u001b[39m\u001b[38;5;124m\"\u001b[39m)\n",
      "\u001b[0;31mAssertionError\u001b[0m: votre paramètre n'est pas un tableau !"
     ]
    }
   ],
   "source": [
    "#------------------------------#\n",
    "#    CORRECTION  ! ! ! ! ! !   #\n",
    "#------------------------------#\n",
    "def moyenne(t):\n",
    "    \"\"\"\n",
    "    Retourne la moyenne des valeurs d'un tableau de nombres.\n",
    "    \n",
    "    :param t: le tableau des valeurs a moyenner\n",
    "    :type t: list\n",
    "    :return: la moyenne des des valeurs du tableau\n",
    "    :rtype: float\n",
    "    \n",
    "    :Exemple:\n",
    "    >>> moyenne([])\n",
    "    None\n",
    "    >>> moyenne([1, 2])\n",
    "    1.5\n",
    "    \"\"\"\n",
    "    assert type(t)==list, \"votre paramètre n'est pas un tableau !\"\n",
    "    \n",
    "    if len(t) == 0:\n",
    "        print(\"pas de données\")\n",
    "    else :\n",
    "        somme = 0\n",
    "        i=0\n",
    "        while i < len(t):\n",
    "            somme += t[i]\n",
    "            i+=1\n",
    "        return somme/len(t)\n",
    "\n",
    "def test_moyenne():\n",
    "    assert moyenne([]) == None\n",
    "    assert moyenne([1, 0, -1]) == 0.\n",
    "    assert moyenne([1, 2]) == 1.5\n",
    "    print(\"Test de la fonction moyenne : ok\")\n",
    "    \n",
    "test_moyenne()\n",
    "\n",
    "print(moyenne(2))"
   ]
  },
  {
   "cell_type": "markdown",
   "metadata": {
    "solution2": "hidden",
    "solution2_first": true
   },
   "source": [
    "#### Question 4 : Saisie\n",
    "\n",
    "- Écrire une fonction qui stocke dans un tableau des entiers compris entre 0 et 20 saisis par l'utilisateur.\n",
    "  La saisie s'arrête au premier nombre invalide et le tableau est renvoyé.\n",
    "- Calculer la moyenne des valeurs du tableau grâce à la fonction de la question précédente."
   ]
  },
  {
   "cell_type": "code",
   "execution_count": null,
   "metadata": {
    "deletable": false,
    "editable": false,
    "hideCode": true,
    "solution2": "hidden"
   },
   "outputs": [],
   "source": [
    "#------------------------------#\n",
    "#    CORRECTION  ! ! ! ! ! !   #\n",
    "#------------------------------#\n",
    "def saisie():\n",
    "    \"\"\"\n",
    "    Saisie des valeurs entières comprises entre 0 et 20 inclues tant qu'elles sont valides\n",
    "    La fonction retourne un tableau contenant les valeurs saisies \n",
    "    \n",
    "    :return: le tableau des valeurs saisies\n",
    "    :rtype: list\n",
    "    \n",
    "    :Exemple:\n",
    "    >>> saisie()\n",
    "    entrez un nombre 3\n",
    "    entrez un nombre 5\n",
    "    entrez un nombre -1\n",
    "    [3, 5]\n",
    "    \"\"\"\n",
    "    t=[]\n",
    "    nb = int(input(\"entrez un nombre \"))\n",
    "    while nb >=0 and nb <=20:\n",
    "        t.append(nb)\n",
    "        nb = int(input(\"entrez un nombre \"))\n",
    "    return t\n",
    "\n",
    "t = saisie()\n",
    "print(\"moyenne \", moyenne(t))"
   ]
  },
  {
   "cell_type": "markdown",
   "metadata": {
    "solution2": "hidden",
    "solution2_first": true
   },
   "source": [
    "### Exercice 2 : Test d'égalité*\n",
    "\n",
    "- Écrire une fonction qui teste si tous les éléments d'un tableau sont égaux.\n",
    "- Écrire une fonction de tests unitaires pour cette fonction."
   ]
  },
  {
   "cell_type": "code",
   "execution_count": null,
   "metadata": {
    "deletable": false,
    "editable": false,
    "solution2": "hidden"
   },
   "outputs": [],
   "source": [
    "#------------------------------#\n",
    "#    CORRECTION  ! ! ! ! ! !   #\n",
    "#------------------------------#\n",
    "def tous_egaux(t):\n",
    "    \"\"\"\n",
    "    Fonction booléenne qui teste si tous les éléments d'un tableaux sont égaux entre eux.\n",
    "    \n",
    "    :param t: le tableau dont on veut tester l'égalité des élements contenus\n",
    "    :type t: list\n",
    "    :return: Le résultat du test d'égalité\n",
    "    :rtype: bool\n",
    "    \n",
    "    :Exemples:\n",
    "    >>> tous_egaux([])\n",
    "    True\n",
    "    >>> tous_egaux([1, 1])\n",
    "    True\n",
    "    >>> tous_egaux([1, 2])\n",
    "    False\n",
    "    \"\"\"\n",
    "    i=0\n",
    "    while i < len(t) and t[i] == t[0]:\n",
    "        i+=1\n",
    "    return i == len(t)\n",
    "\n",
    "# 2eme correction \n",
    "def tous_egaux2(t):\n",
    "    egaux=True\n",
    "    i=0\n",
    "    while i < len(t) and egaux: # tester egaux = arret à la 1ere difference, sinon on parcourt tout le tableau\n",
    "        if t[i]!=t[0]:\n",
    "            egaux = False\n",
    "        i+=1\n",
    "    return egaux \n",
    "    \n",
    "\n",
    "def test_tous_egaux():\n",
    "    assert tous_egaux([])\n",
    "    assert tous_egaux([1])\n",
    "    assert tous_egaux([1,1])\n",
    "    assert not tous_egaux([1,2])\n",
    "    assert not tous_egaux([2,1])\n",
    "    assert not tous_egaux([2,1,1])\n",
    "    assert not tous_egaux([1,2,1])\n",
    "    assert not tous_egaux([1,1,2])\n",
    "    print(\"Test de la fonction tous_egaux : ok\")\n",
    "\n",
    "test_tous_egaux()\n",
    "?tous_egaux"
   ]
  },
  {
   "cell_type": "markdown",
   "metadata": {
    "solution2": "hidden",
    "solution2_first": true
   },
   "source": [
    "### Exercice 3 : Recherche**\n",
    "\n",
    "#### Question 1 : \n",
    "- Écrire une fonction qui teste si un élément `x` fait partie d'un tableau, l'élément et le tableau étant passés en paramètre.\n",
    "- Écrire une fonction de tests unitaires pour cette fonction."
   ]
  },
  {
   "cell_type": "code",
   "execution_count": null,
   "metadata": {
    "deletable": false,
    "editable": false,
    "solution2": "hidden"
   },
   "outputs": [],
   "source": [
    "#------------------------------#\n",
    "#    CORRECTION  ! ! ! ! ! !   #\n",
    "#------------------------------#\n",
    "def recherche(x,t):\n",
    "    \"\"\"\n",
    "    Fonction booléenne qui test si un élément est présent dans un tableau.\n",
    "    \n",
    "    :param x: l'élément recherché dans le tableau\n",
    "    :type x: n'importe quel type\n",
    "    :param t: le tableau dans lequel est effectué la recherche de l'élément\n",
    "    :type t: list\n",
    "    :return: le resultat du test de présence de l'élément\n",
    "    :rtype: bool\n",
    "    \n",
    "    :Exemples:\n",
    "    >>> recherche(0, [1,2,0,3])\n",
    "    True\n",
    "    >>> recherche(10, [0,1,2,3])\n",
    "    False\n",
    "    \"\"\"\n",
    "    i=0\n",
    "    while i < len(t) and t[i] != x :\n",
    "        i+=1\n",
    "    return i < len(t)\n",
    "\n",
    "# 2eme solution \n",
    "def recherche2(x,t):\n",
    "    trouvé = False\n",
    "    i=0\n",
    "    while i < len(t) and not trouvé:\n",
    "        if t[i]==x:\n",
    "            trouvé =True \n",
    "        i+=1\n",
    "    return trouvé\n",
    "\n",
    "\n",
    "def test_recherche():\n",
    "    assert not recherche(0, [])\n",
    "    assert recherche(0, [0])\n",
    "    assert not recherche(0, [1])\n",
    "    assert recherche(0, [0, 1, 1])\n",
    "    assert recherche(0, [1, 0, 1])\n",
    "    assert recherche(0, [1, 1, 0])\n",
    "    print(\"Test de la fonction recherche : ok\")\n",
    "\n",
    "test_recherche()"
   ]
  },
  {
   "cell_type": "markdown",
   "metadata": {
    "deletable": false,
    "editable": false,
    "solution2": "hidden",
    "solution2_first": true
   },
   "source": [
    "#### Question  2 :\n",
    "\n",
    "- Écrire une fonction qui prend en paramètres deux tableaux et teste si tous les éléments du premier apparaissent dans le second. \n",
    "On utilisera la fonction définie à la question précédente.\n",
    "- Écrire une fonction de tests unitaires pour cette fonction."
   ]
  },
  {
   "cell_type": "code",
   "execution_count": null,
   "metadata": {
    "deletable": false,
    "editable": false,
    "solution2": "hidden"
   },
   "outputs": [],
   "source": [
    "#------------------------------#\n",
    "#    CORRECTION  ! ! ! ! ! !   #\n",
    "#------------------------------#\n",
    "def inclusion(t,t2):\n",
    "    \"\"\"\n",
    "    Fonction testant l'inclusion des éléments d'un tableau dans un autre tableau.\n",
    "    \n",
    "    :param t: le tableau dont les éléments doivent être inclus dans le second\n",
    "    :type t: list\n",
    "    :param t2: le tableau dans lequel les élements du premier tableau doivent être présent.\n",
    "    :type t2: list\n",
    "    :return: le résultat du test d'inclusion\n",
    "    :rtype: bool\n",
    "    \n",
    "    :Exemples:\n",
    "    >>> inclusion( [1], [1,2])\n",
    "    True\n",
    "    >>> inclusion( [1, 2], [2, 3, 1,7])\n",
    "    True\n",
    "    >>> inclusion( [1, 2], [2, 3, 7])\n",
    "    False\n",
    "    \"\"\"\n",
    "    i=0\n",
    "    while i < len(t) and recherche(t[i], t2):\n",
    "        i+=1\n",
    "    return i == len(t)"
   ]
  },
  {
   "cell_type": "code",
   "execution_count": null,
   "metadata": {
    "deletable": false,
    "editable": false,
    "solution2": "hidden"
   },
   "outputs": [],
   "source": [
    "def test_inclusion():\n",
    "    assert inclusion([], [])\n",
    "    assert inclusion([1], [1])\n",
    "    assert inclusion([1], [1,2])\n",
    "    assert inclusion([1], [2,1])\n",
    "    assert inclusion([1], [2,1,2])\n",
    "    assert inclusion([1, 2], [2, 3, 1,7])\n",
    "    assert not inclusion( [1,2], [])\n",
    "    assert not inclusion( [1,2], [1])\n",
    "    assert not inclusion( [1], [2,3,4])\n",
    "    assert not inclusion( [1,2], [1,3,4])\n",
    "    print(\"Test de la fonction inclusion : ok\")\n",
    "\n",
    "test_inclusion()"
   ]
  },
  {
   "cell_type": "markdown",
   "metadata": {
    "deletable": false,
    "editable": false,
    "run_control": {
     "frozen": true
    },
    "solution2": "hidden",
    "solution2_first": true
   },
   "source": [
    "### Exercice 4 : Dénombrement*\n",
    "\n",
    "- Écrire une fonction qui calcule le nombre d'occurrences d'un élément `x`.\n",
    "- Écrire une fonction de tests unitaires pour cette fonction."
   ]
  },
  {
   "cell_type": "code",
   "execution_count": null,
   "metadata": {
    "deletable": false,
    "editable": false,
    "hideCode": true,
    "solution2": "hidden"
   },
   "outputs": [],
   "source": [
    "#------------------------------#\n",
    "#    CORRECTION  ! ! ! ! ! !   #\n",
    "#------------------------------#\n",
    "def compte(x,t):\n",
    "    \"\"\"\n",
    "    Fonction qui retourne le nombre d'occurences d'un élément dans un tableau.\n",
    "    \n",
    "    :param x: élément dont on compte les occurences\n",
    "    :type x: n'importe quel type\n",
    "    :param t: le tableau dans lequel on compte les occurences\n",
    "    :type t: list\n",
    "    \n",
    "    :return: le nombre d'occurences\n",
    "    :rtype: int\n",
    "    \n",
    "    :Exemples:\n",
    "    >>> compte( 1, [1, 2, 1, 1])\n",
    "    3\n",
    "    >>> compte( 1000, [1, 2, 1, 1])\n",
    "    0\n",
    "    \"\"\"\n",
    "    succes = 0\n",
    "    i=0\n",
    "    while i < len(t):\n",
    "        if t[i] == x:\n",
    "            succes += 1\n",
    "        i+=1\n",
    "    return succes\n",
    "\n",
    "def test_compte():\n",
    "    assert compte( 1, []) == 0\n",
    "    assert compte( 1, [1]) == 1\n",
    "    assert compte( 1, [1,1,1]) == 3\n",
    "    assert compte( 1, [1,2,1]) == 2\n",
    "    assert compte( 3, [1,2,1]) == 0\n",
    "    print(\"Test de la fonction compte : ok\")\n",
    "\n",
    "test_compte()"
   ]
  },
  {
   "cell_type": "markdown",
   "metadata": {
    "deletable": false,
    "editable": false,
    "run_control": {
     "frozen": true
    },
    "solution2": "hidden",
    "solution2_first": true
   },
   "source": [
    "### Exercice 5 : Substitution*\n",
    "\n",
    "- Écrire une fonction qui remplace les occurrences de `x` par `y`.\n",
    "- Écrire une fonction de tests unitaires pour cette fonction."
   ]
  },
  {
   "cell_type": "code",
   "execution_count": null,
   "metadata": {
    "deletable": false,
    "editable": false,
    "solution2": "hidden"
   },
   "outputs": [],
   "source": [
    "#------------------------------#\n",
    "#    CORRECTION  ! ! ! ! ! !   #\n",
    "#------------------------------#\n",
    "def remplace(x,y,t):\n",
    "    \"\"\"\n",
    "    Remplace dans un tableau passé en paramètre les occurences de x par y.\n",
    "    \n",
    "    :param x: l'élément recherché dans le tableau et remplacé\n",
    "    :type x: n'importe quel type\n",
    "    :param y: la valeur par laquelle l'elément x est remplacé\n",
    "    :type y: n'importe quel type\n",
    "    :param t: le tableau dans lequel sont opéré les substitutions\n",
    "    :type t: list\n",
    "    :return: None\n",
    "    :rtype: NoneType\n",
    "    \n",
    "    :Example:\n",
    "    >>> remplace( 1, \"B\", [2, 1, 3, 2])\n",
    "    \"\"\"\n",
    "    i=0\n",
    "    while i < len(t):\n",
    "        if t[i] == x:\n",
    "            t[i] = y\n",
    "        i+=1\n",
    "\n",
    "def test_remplace():\n",
    "    t = []\n",
    "    remplace(1,2,t)\n",
    "    assert t == []\n",
    "\n",
    "    t = [2, 2, 2]\n",
    "    remplace(1,2,t)\n",
    "    assert t == [2, 2, 2]\n",
    "\n",
    "    t = [1, 3, 4, 1]\n",
    "    remplace(1,\"B\",t)\n",
    "    assert t == [\"B\", 3, 4, \"B\"]\n",
    "    \n",
    "    print(\"Test de la fonction remplace : ok\")\n",
    "\n",
    "test_remplace()"
   ]
  },
  {
   "cell_type": "markdown",
   "metadata": {},
   "source": [
    "# Pour aller plus loin"
   ]
  },
  {
   "cell_type": "markdown",
   "metadata": {
    "deletable": false,
    "editable": false,
    "run_control": {
     "frozen": true
    },
    "solution2": "hidden",
    "solution2_first": true
   },
   "source": [
    "### Exercice 6 : Élements relativement triés*\n",
    "\n",
    "- Écrire une fonction qui renvoie le nombre d'éléments inférieurs à leur successeur dans un tableau d'entiers.\n",
    "- Écrire une fonction de tests unitaires pour cette fonction."
   ]
  },
  {
   "cell_type": "code",
   "execution_count": null,
   "metadata": {
    "deletable": false,
    "editable": false,
    "solution2": "hidden"
   },
   "outputs": [],
   "source": [
    "#------------------------------#\n",
    "#    CORRECTION  ! ! ! ! ! !   #\n",
    "#------------------------------#\n",
    "def rel_tries(t):\n",
    "    \"\"\"\n",
    "    Retourne le nombre d'éléments inférieurs à leur successeur dans un tableau d'entiers\n",
    "    \n",
    "    :param t: le tableau dans lequel est effectué la recherche\n",
    "    :rtype t: list\n",
    "    :return: le nombre d'éléments inférieurs à leur successeur\n",
    "    :rtype: int\n",
    "    \n",
    "    :Example:\n",
    "    >>> rel_tries([1,2,3,2,7])\n",
    "    2\n",
    "    \"\"\"\n",
    "    succes = 0\n",
    "    i=0\n",
    "    while i < len(t)-1:\n",
    "        if t[i] < t[i+1]:\n",
    "            succes += 1\n",
    "        i+=1\n",
    "    return succes\n",
    "\n",
    "def test_rel_tries():\n",
    "    assert rel_tries([]) == 0\n",
    "    assert rel_tries([1]) == 0\n",
    "    assert rel_tries([1,2]) == 1\n",
    "    assert rel_tries([1,1,2]) == 1\n",
    "    assert rel_tries([2,1]) == 0\n",
    "    assert rel_tries([1,2,3]) == 2\n",
    "    print(\"Test de la fonction compte : ok\")\n",
    "\n",
    "test_rel_tries()"
   ]
  }
 ],
 "metadata": {
  "kernelspec": {
   "display_name": "Python 3 (ipykernel)",
   "language": "python",
   "name": "python3"
  },
  "language_info": {
   "codemirror_mode": {
    "name": "ipython",
    "version": 3
   },
   "file_extension": ".py",
   "mimetype": "text/x-python",
   "name": "python",
   "nbconvert_exporter": "python",
   "pygments_lexer": "ipython3",
   "version": "3.11.4"
  },
  "latex_envs": {
   "LaTeX_envs_menu_present": true,
   "autoclose": false,
   "autocomplete": true,
   "bibliofile": "biblio.bib",
   "cite_by": "apalike",
   "current_citInitial": 1,
   "eqLabelWithNumbers": true,
   "eqNumInitial": 1,
   "hotkeys": {
    "equation": "Ctrl-E",
    "itemize": "Ctrl-I"
   },
   "labels_anchors": false,
   "latex_user_defs": false,
   "report_style_numbering": false,
   "user_envs_cfg": false
  },
  "toc": {
   "base_numbering": 1,
   "nav_menu": {},
   "number_sections": true,
   "sideBar": true,
   "skip_h1_title": false,
   "title_cell": "Table of Contents",
   "title_sidebar": "Contents",
   "toc_cell": false,
   "toc_position": {},
   "toc_section_display": true,
   "toc_window_display": false
  }
 },
 "nbformat": 4,
 "nbformat_minor": 2
}
