{
 "cells": [
  {
   "cell_type": "markdown",
   "metadata": {},
   "source": [
    "# <center> Chapitre 9 : Tableaux et fonctions - TD </center>"
   ]
  },
  {
   "cell_type": "markdown",
   "metadata": {
    "deletable": false,
    "editable": false,
    "run_control": {
     "frozen": true
    }
   },
   "source": [
    "### Exercice 1 : Test de compréhension*\n",
    "\n",
    "#### Question 1 : Indices pairs et impairs\n",
    "\n",
    "- Écrire une fonction `affiche_pairs` qui prend un tableau `t` et affiche les éléments d'indice pair (de position paire).\n",
    "Ainsi les instructions\n",
    "```\n",
    "t=[1,2,3,4]\n",
    "affiche_pairs(t)\n",
    "```\n",
    "produiront l'affichage \n",
    "```\n",
    "1\n",
    "3\n",
    "```\n",
    "\n",
    "- Écrire de même une fonction `affiche_impairs` qui prend un tableau `t` et affiche les éléments d'indice impair (de position impaire)."
   ]
  },
  {
   "cell_type": "code",
   "execution_count": null,
   "metadata": {},
   "outputs": [],
   "source": [
    "#-------------------------#\n",
    "#    Écrire le code ici   #\n",
    "#-------------------------#\n"
   ]
  },
  {
   "cell_type": "markdown",
   "metadata": {},
   "source": [
    "#### Question 2 : À l'envers\n",
    "\n",
    "Écrire une fonction qui affiche un tableau à l'envers, *i.e.* en commençant par la fin du tableau sans utiliser la méthode `reverse`."
   ]
  },
  {
   "cell_type": "code",
   "execution_count": null,
   "metadata": {},
   "outputs": [],
   "source": [
    "#-------------------------#\n",
    "#    Écrire le code ici   #\n",
    "#-------------------------#\n"
   ]
  },
  {
   "cell_type": "markdown",
   "metadata": {
    "deletable": false,
    "editable": false,
    "run_control": {
     "frozen": true
    }
   },
   "source": [
    "#### Question 3 : Moyenne\n",
    "\n",
    "- Écrire une fonction qui calcule la moyenne d'un tableau de nombres sans utiliser la fonction `mean`.\n",
    "  On veillera à traiter le cas du tableau vide. \n",
    "- Écrire une fonction de tests unitaires pour cette fonction."
   ]
  },
  {
   "cell_type": "code",
   "execution_count": null,
   "metadata": {},
   "outputs": [],
   "source": [
    "#-------------------------#\n",
    "#    Écrire le code ici   #\n",
    "#-------------------------#\n",
    "\n",
    "\n"
   ]
  },
  {
   "cell_type": "markdown",
   "metadata": {
    "deletable": false,
    "editable": false,
    "run_control": {
     "frozen": true
    }
   },
   "source": [
    "#### Question 4 : Saisie\n",
    "\n",
    "- Écrire une fonction qui stocke dans un tableau des entiers compris entre 0 et 20 saisis par l'utilisateur.\n",
    "  La saisie s'arrête au premier nombre invalide et le tableau est renvoyé.\n",
    "- Calculer la moyenne des valeurs du tableau grâce à la fonction de la question précédente."
   ]
  },
  {
   "cell_type": "code",
   "execution_count": null,
   "metadata": {},
   "outputs": [],
   "source": [
    "#-------------------------#\n",
    "#    Écrire le code ici   #\n",
    "#-------------------------#\n",
    "\n",
    "\n"
   ]
  },
  {
   "cell_type": "markdown",
   "metadata": {
    "deletable": false,
    "editable": false,
    "run_control": {
     "frozen": true
    }
   },
   "source": [
    "### Exercice 2 : Test d'égalité*\n",
    "\n",
    "- Écrire une fonction qui teste si tous les éléments d'un tableau sont égaux.\n",
    "- Écrire une fonction de tests unitaires pour cette fonction."
   ]
  },
  {
   "cell_type": "code",
   "execution_count": null,
   "metadata": {},
   "outputs": [],
   "source": [
    "#-------------------------#\n",
    "#    Écrire le code ici   #\n",
    "#-------------------------#\n",
    "\n",
    "\n"
   ]
  },
  {
   "cell_type": "markdown",
   "metadata": {
    "deletable": false,
    "editable": false,
    "run_control": {
     "frozen": true
    }
   },
   "source": [
    "### Exercice 3 : Recherche**\n",
    "\n",
    "#### Question 1 :\n",
    "- Écrire une fonction qui teste si un élément `x` fait partie d'un tableau, l'élément et le tableau étant passés en paramètre.\n",
    "- Écrire une fonction de tests unitaires pour cette fonction."
   ]
  },
  {
   "cell_type": "code",
   "execution_count": null,
   "metadata": {},
   "outputs": [],
   "source": [
    "#-------------------------#\n",
    "#    Écrire le code ici   #\n",
    "#-------------------------#\n",
    "\n"
   ]
  },
  {
   "cell_type": "markdown",
   "metadata": {
    "deletable": false,
    "editable": false,
    "run_control": {
     "frozen": true
    }
   },
   "source": [
    "#### Question 2 :\n",
    "\n",
    "- Écrire une fonction qui prend en paramètres deux tableaux et teste si tous les éléments\n",
    "du premier apparaissent dans le second. \n",
    "On utilisera la fonction définie à la question précédente.\n",
    "- Écrire une fonction de tests unitaires pour cette fonction."
   ]
  },
  {
   "cell_type": "code",
   "execution_count": null,
   "metadata": {},
   "outputs": [],
   "source": [
    "#-------------------------#\n",
    "#    Écrire le code ici   #\n",
    "#-------------------------#\n",
    "\n",
    "\n"
   ]
  },
  {
   "cell_type": "markdown",
   "metadata": {
    "deletable": false,
    "editable": false,
    "run_control": {
     "frozen": true
    }
   },
   "source": [
    "### Exercice 4 : Dénombrement*\n",
    "\n",
    "- Écrire une fonction qui calcule le nombre d'occurrences d'un élément `x` dans un tableau.\n",
    "- Écrire une fonction de tests unitaires pour cette fonction."
   ]
  },
  {
   "cell_type": "code",
   "execution_count": null,
   "metadata": {},
   "outputs": [],
   "source": [
    "#-------------------------#\n",
    "#    Écrire le code ici   #\n",
    "#-------------------------#\n",
    "\n",
    "\n"
   ]
  },
  {
   "cell_type": "markdown",
   "metadata": {
    "deletable": false,
    "editable": false,
    "run_control": {
     "frozen": true
    }
   },
   "source": [
    "### Exercice 5 : Substitution*\n",
    "\n",
    "- Écrire une fonction qui remplace les occurrences de `x` par `y` dans un tableau, le tableau, `x`ey `y`seront passés en paramètre à la fonction.\n",
    "- Écrire une fonction de tests unitaires pour cette fonction."
   ]
  },
  {
   "cell_type": "code",
   "execution_count": null,
   "metadata": {},
   "outputs": [],
   "source": [
    "#-------------------------#\n",
    "#    Écrire le code ici   #\n",
    "#-------------------------#\n",
    "\n",
    "\n"
   ]
  },
  {
   "cell_type": "markdown",
   "metadata": {},
   "source": [
    "# Pour aller plus loin"
   ]
  },
  {
   "cell_type": "markdown",
   "metadata": {
    "deletable": false,
    "editable": false,
    "run_control": {
     "frozen": true
    }
   },
   "source": [
    "### Exercice 6 : Entiers relativement triés*\n",
    "\n",
    "- Écrire une fonction qui renvoie le nombre d'éléments inférieurs à leur successeur dans un tableau d'entiers.\n",
    "- Écrire une fonction de tests unitaires pour cette fonction."
   ]
  },
  {
   "cell_type": "code",
   "execution_count": null,
   "metadata": {},
   "outputs": [],
   "source": [
    "#-------------------------#\n",
    "#    Écrire le code ici   #\n",
    "#-------------------------#\n",
    "\n",
    "\n"
   ]
  }
 ],
 "metadata": {
  "kernelspec": {
   "display_name": "Python 3 (ipykernel)",
   "language": "python",
   "name": "python3"
  },
  "language_info": {
   "codemirror_mode": {
    "name": "ipython",
    "version": 3
   },
   "file_extension": ".py",
   "mimetype": "text/x-python",
   "name": "python",
   "nbconvert_exporter": "python",
   "pygments_lexer": "ipython3",
   "version": "3.11.4"
  },
  "latex_envs": {
   "LaTeX_envs_menu_present": true,
   "autoclose": false,
   "autocomplete": true,
   "bibliofile": "biblio.bib",
   "cite_by": "apalike",
   "current_citInitial": 1,
   "eqLabelWithNumbers": true,
   "eqNumInitial": 1,
   "hotkeys": {
    "equation": "Ctrl-E",
    "itemize": "Ctrl-I"
   },
   "labels_anchors": false,
   "latex_user_defs": false,
   "report_style_numbering": false,
   "user_envs_cfg": false
  },
  "toc": {
   "base_numbering": 1,
   "nav_menu": {},
   "number_sections": true,
   "sideBar": true,
   "skip_h1_title": false,
   "title_cell": "Table of Contents",
   "title_sidebar": "Contents",
   "toc_cell": false,
   "toc_position": {},
   "toc_section_display": true,
   "toc_window_display": false
  }
 },
 "nbformat": 4,
 "nbformat_minor": 2
}
