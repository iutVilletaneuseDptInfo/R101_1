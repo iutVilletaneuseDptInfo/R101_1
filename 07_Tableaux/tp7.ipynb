{
 "cells": [
  {
   "cell_type": "markdown",
   "metadata": {
    "deletable": false,
    "editable": false,
    "run_control": {
     "frozen": true
    }
   },
   "source": [
    "# <center> Chapitre 7 : Tableaux - TP </center>"
   ]
  },
  {
   "cell_type": "markdown",
   "metadata": {
    "deletable": false,
    "editable": false
   },
   "source": [
    "### Exercice 1 : Traitement de notes*\n",
    "#### Question 1 : Maximum, minimum et moyenne\n",
    "\n",
    "Voici les notes d'un étudiant sous forme d'un tableau :\n",
    "`[8,4,12,12,9,15,19,11,19,4,18,12,19,3,5]`. <br>\n",
    "Écrire un programme qui affiche la note maximum `maxi`, la note\n",
    "minimum `mini` et la moyenne `moyenne`, sans utiliser les fonctions `max`, `min` et `sum`."
   ]
  },
  {
   "cell_type": "code",
   "execution_count": 1,
   "metadata": {},
   "outputs": [],
   "source": [
    "#-------------------------#\n",
    "#    Écrire le code ici   #\n",
    "#-------------------------#\n",
    "\n",
    "\n",
    "\n"
   ]
  },
  {
   "cell_type": "code",
   "execution_count": null,
   "metadata": {
    "deletable": false,
    "editable": false
   },
   "outputs": [],
   "source": [
    "#----------------------------------#\n",
    "#             Tests                #\n",
    "#----------------------------------#\n",
    "import math\n",
    "assert math.isclose(maxi,19) \n",
    "assert math.isclose(mini,3)  \n",
    "assert math.isclose(moyenne,34/3)"
   ]
  },
  {
   "cell_type": "markdown",
   "metadata": {
    "deletable": false,
    "editable": false,
    "run_control": {
     "frozen": true
    }
   },
   "source": [
    "#### Question 2 : Mention\n",
    "\n",
    "Améliorer le programme précédent en ajoutant la mention :\n",
    "redouble (moins de 10), passable (entre 10 et 12),\n",
    "assez bien (entre 12 et 14), bien (entre 14 et 16)\n",
    "et très bien (plus de 16)."
   ]
  },
  {
   "cell_type": "code",
   "execution_count": null,
   "metadata": {},
   "outputs": [],
   "source": [
    "#-------------------------#\n",
    "#    Écrire le code ici   #\n",
    "#-------------------------#\n",
    "\n",
    "\n",
    "\n"
   ]
  },
  {
   "cell_type": "markdown",
   "metadata": {
    "deletable": false,
    "editable": false,
    "run_control": {
     "frozen": true
    }
   },
   "source": [
    "### Exercice 2 : Nombre de jours du mois*\n",
    "\n",
    "Soit"
   ]
  },
  {
   "cell_type": "code",
   "execution_count": null,
   "metadata": {
    "deletable": false,
    "editable": false
   },
   "outputs": [],
   "source": [
    "jours = [31, 28, 31, 30, 31, 30, 31, 31, 30, 31, 30, 31]\n",
    "mois = [\"janvier\", \"février\", \"mars\", \"avril\", \"mai\", \"juin\",\n",
    "        \"juillet\", \"août\", \"septembre\", \"octobre\", \"novembre\", \"décembre\"]"
   ]
  },
  {
   "cell_type": "markdown",
   "metadata": {
    "deletable": false,
    "editable": false,
    "run_control": {
     "frozen": true
    }
   },
   "source": [
    "- Créer un tableau qui alterne les éléments de `jours` et `mois` : `[\"janvier\", 31, \"février\", 28, ...]`"
   ]
  },
  {
   "cell_type": "code",
   "execution_count": null,
   "metadata": {},
   "outputs": [],
   "source": [
    "#-------------------------#\n",
    "#    Écrire le code ici   #\n",
    "#-------------------------#\n",
    "\n",
    "\n"
   ]
  },
  {
   "cell_type": "markdown",
   "metadata": {
    "deletable": false,
    "editable": false
   },
   "source": [
    "### Exercice 3 : Prénoms**\n",
    "#### Question 1 : Longueur des prénoms\n",
    "\n",
    "Le tableau ci-dessous contient un liste de prénoms :<br>"
   ]
  },
  {
   "cell_type": "code",
   "execution_count": null,
   "metadata": {
    "deletable": false,
    "editable": false
   },
   "outputs": [],
   "source": [
    "prenoms =[\"Jean\", \"Isidore\", \"Vanessa\", \"Anne\", \"Maximilien\", \"Alexandre-Benoît\", \"Louise\"]"
   ]
  },
  {
   "cell_type": "markdown",
   "metadata": {},
   "source": [
    "Écrire un programme qui affiche la longueur des prénoms stockés dans ce tableau sous la forme  <br>\n",
    "```\n",
    "longueur de Jean : 4 \n",
    "longueur d'Isidore : 7 \n",
    "```\n",
    "**Attention** à l'élision de `de` en `d'` devant une voyelle."
   ]
  },
  {
   "cell_type": "code",
   "execution_count": null,
   "metadata": {},
   "outputs": [],
   "source": [
    "#-------------------------#\n",
    "#    Écrire le code ici   #\n",
    "#-------------------------#\n",
    "\n",
    "\n"
   ]
  },
  {
   "cell_type": "markdown",
   "metadata": {
    "deletable": false,
    "editable": false,
    "run_control": {
     "frozen": true
    }
   },
   "source": [
    "#### Question 2 :  Tri de prénoms\n",
    "\n",
    "À partir du tableau de prénoms précédent, créer deux tableaux :\n",
    "un qui contient ceux qui comptent moins de six lettres,\n",
    "l'autre le reste."
   ]
  },
  {
   "cell_type": "code",
   "execution_count": null,
   "metadata": {},
   "outputs": [],
   "source": [
    "#-------------------------#\n",
    "#    Écrire le code ici   #\n",
    "#-------------------------#\n",
    "\n",
    "\n"
   ]
  },
  {
   "cell_type": "code",
   "execution_count": null,
   "metadata": {
    "deletable": false,
    "editable": false
   },
   "outputs": [],
   "source": [
    "#----------------------------------#\n",
    "#             Tests                #\n",
    "#----------------------------------#\n",
    "assert petits == [\"Jean\", \"Anne\"] \n",
    "assert grands == [\"Isidore\", \"Vanessa\", \"Maximilien\", \"Alexandre-Benoît\", \"Louise\"]"
   ]
  },
  {
   "cell_type": "markdown",
   "metadata": {},
   "source": [
    "### Exercice 4 : Calcul de la clé d'un numéro de SIREN**\n",
    "\n",
    "En France, SIREN (Système d'Identification du Répertoire des\n",
    "ENtreprises) est un code INSEE unique qui sert à identifier les\n",
    "entreprises. Ce numéro est national, invariable et dure le temps de la\n",
    "vie de l'entreprise.  \n",
    "\n",
    "Le numéro SIREN est composé de 8 chiffres, plus un chiffre de contrôle\n",
    "qui permet de vérifier la validité du numéro.\n",
    "\n",
    "La clé de contrôle utilisée pour vérifier l'exactitude d'un identifiant est calculée suivant l'*algorithme de Luhn*. Le principe est le suivant : on additionne les chiffres du code en doublant les chiffres d'indice pair (excepté la clé). La somme obtenue une fois ajoutée la avleur de la clé doit être multiple de 10.\n",
    "\n",
    "**Exemple** :  `1 3 9 2 8 2 3 7 ?`<br>\n",
    "La somme obtenue (sans compter la clé) est : 2\\*1+3+2\\*9+2+2\\*8+2+2\\*3+7 = 56 qui n'est pas divisible par 10.\n",
    "Pour que cette valeur le soit, il faut rajouter 4. 56  + 4 = 60 qui est divisible par 10. Le numero : \n",
    "`1 3 9 2 8 2 3 7 4` est donc un numero de SIREN correct.\n",
    "\n",
    "On représente ce numéro SIREN par un tableau d'entiers. La case d'indice 8 représentera la clé à calculer.\n",
    "\n",
    "\n",
    "Ecrire un programme qui demander à l'utilisateur les huit premiers chiffres du numéro de SIREN et affiche le tableau d'entier correspondant au numero de SIREN associé après avoir calculé la clé."
   ]
  },
  {
   "cell_type": "code",
   "execution_count": null,
   "metadata": {},
   "outputs": [],
   "source": [
    "#-------------------------#\n",
    "#    Écrire le code ici   #\n",
    "#-------------------------#\n",
    "\n",
    "\n",
    "\n"
   ]
  },
  {
   "cell_type": "markdown",
   "metadata": {
    "deletable": false,
    "editable": false
   },
   "source": [
    "### Exercice 5 : Palindrome**\n",
    "\n",
    "Ecrire un programme qui vérifie si un mot est un palindrome, c'est-à-dire\n",
    "se lit de la même façon de droite à gauche et de gauche à droite, comme par exemple `radar`, `rotor` et `selles`.\n",
    "\n",
    "Comment adapter ce programme pour autoriser tester si une phrase est un palindrome si l'on fait abstraction des espaces (par exemple `karine alla en irak`) ?"
   ]
  },
  {
   "cell_type": "code",
   "execution_count": null,
   "metadata": {},
   "outputs": [],
   "source": [
    "#-------------------------#\n",
    "#    Écrire le code ici   #\n",
    "#-------------------------#\n",
    "\n",
    "\n",
    "\n"
   ]
  }
 ],
 "metadata": {
  "kernelspec": {
   "display_name": "Python 3 (ipykernel)",
   "language": "python",
   "name": "python3"
  },
  "language_info": {
   "codemirror_mode": {
    "name": "ipython",
    "version": 3
   },
   "file_extension": ".py",
   "mimetype": "text/x-python",
   "name": "python",
   "nbconvert_exporter": "python",
   "pygments_lexer": "ipython3",
   "version": "3.11.4"
  },
  "latex_envs": {
   "LaTeX_envs_menu_present": true,
   "autoclose": false,
   "autocomplete": true,
   "bibliofile": "biblio.bib",
   "cite_by": "apalike",
   "current_citInitial": 1,
   "eqLabelWithNumbers": true,
   "eqNumInitial": 1,
   "hotkeys": {
    "equation": "Ctrl-E",
    "itemize": "Ctrl-I"
   },
   "labels_anchors": false,
   "latex_user_defs": false,
   "report_style_numbering": false,
   "user_envs_cfg": false
  },
  "toc": {
   "base_numbering": 1,
   "nav_menu": {},
   "number_sections": true,
   "sideBar": true,
   "skip_h1_title": false,
   "title_cell": "Table of Contents",
   "title_sidebar": "Contents",
   "toc_cell": false,
   "toc_position": {},
   "toc_section_display": true,
   "toc_window_display": false
  }
 },
 "nbformat": 4,
 "nbformat_minor": 2
}
