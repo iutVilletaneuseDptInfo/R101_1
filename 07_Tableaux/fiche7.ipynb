{
 "cells": [
  {
   "cell_type": "markdown",
   "metadata": {
    "deletable": false,
    "editable": false,
    "run_control": {
     "frozen": true
    }
   },
   "source": [
    "# <center> Chapitre 7 : Tableaux </center>"
   ]
  },
  {
   "cell_type": "markdown",
   "metadata": {
    "deletable": false,
    "editable": false,
    "run_control": {
     "frozen": true
    }
   },
   "source": [
    "On utilise les tableaux pour traiter une grande quantité de données, de même type ou pas."
   ]
  },
  {
   "cell_type": "markdown",
   "metadata": {
    "deletable": false,
    "editable": false,
    "run_control": {
     "frozen": true
    }
   },
   "source": [
    "### Syntaxe \n",
    "* Pour déclarer un tableau :"
   ]
  },
  {
   "cell_type": "code",
   "execution_count": null,
   "metadata": {
    "deletable": false,
    "editable": false
   },
   "outputs": [],
   "source": [
    "tab = [\"Sophie\", 30.2, False]"
   ]
  },
  {
   "cell_type": "markdown",
   "metadata": {
    "deletable": false,
    "editable": false
   },
   "source": [
    "* On accède à l'élément `t[i]` par son *indice* `i` dont la valeur va de 0 à `len(t)-1`\n",
    "où `len(t)` est la taille du tableau. \n",
    "\n",
    "* `t[i] = val` modifie l'élément d'indice i. <br>\n",
    "* `t.append(val)` ajoute l'élément `val` à la fin du tableau `t` déjà créé. <br>\n",
    "* `t.insert(2,val)` insert l'élément `val` à la position d'indice `2`.<br>\n",
    "* `t.pop(i)` supprime l'élément d'indice `i` et retourne la valeur supprimée.\n",
    "* `t2 = t` crée un *alias* de `t`, c'est-à-dire que\n",
    "`t2` et `t` désignent le même objet jusqu'à ce que\n",
    "l'un d'eux soit réaffecté."
   ]
  },
  {
   "cell_type": "markdown",
   "metadata": {},
   "source": [
    "### Parcours d'un tableau\n",
    "\n",
    "On parcourt un tableau avec une boucle pour le créer ou agir sur les éléments.\n",
    "\n",
    "**Exemples :**"
   ]
  },
  {
   "cell_type": "code",
   "execution_count": null,
   "metadata": {
    "deletable": false,
    "editable": false
   },
   "outputs": [],
   "source": [
    "# Calcul de la somme des éléments de t\n",
    "t=[1,2,3,4,5,6]\n",
    "somme=0\n",
    "i=0\n",
    "while i < len(t):\n",
    "    somme+=t[i]\n",
    "    i+=1\n",
    "print(somme)  "
   ]
  },
  {
   "cell_type": "code",
   "execution_count": null,
   "metadata": {
    "deletable": false,
    "editable": false
   },
   "outputs": [],
   "source": [
    "# Remplissage de nombres avec les chiffres de 0 à 9\n",
    "nombres = []\n",
    "i = 0\n",
    "while i < 10:\n",
    "    nombres.append(i)\n",
    "    i+=1\n",
    "print(nombres)"
   ]
  },
  {
   "cell_type": "markdown",
   "metadata": {
    "deletable": false,
    "editable": false,
    "run_control": {
     "frozen": true
    }
   },
   "source": [
    "### Tableaux et chaînes de caractères\n",
    "Les chaînes de caractères ressemblent aux tableaux. On peut accéder en lecture aux caractères d'une chaîne `s` par leur indice (`s[i]`), mais on ne peut pas les modifier."
   ]
  }
 ],
 "metadata": {
  "kernelspec": {
   "display_name": "Python 3 (ipykernel)",
   "language": "python",
   "name": "python3"
  },
  "language_info": {
   "codemirror_mode": {
    "name": "ipython",
    "version": 3
   },
   "file_extension": ".py",
   "mimetype": "text/x-python",
   "name": "python",
   "nbconvert_exporter": "python",
   "pygments_lexer": "ipython3",
   "version": "3.11.4"
  },
  "latex_envs": {
   "LaTeX_envs_menu_present": true,
   "autoclose": false,
   "autocomplete": true,
   "bibliofile": "biblio.bib",
   "cite_by": "apalike",
   "current_citInitial": 1,
   "eqLabelWithNumbers": true,
   "eqNumInitial": 1,
   "hotkeys": {
    "equation": "Ctrl-E",
    "itemize": "Ctrl-I"
   },
   "labels_anchors": false,
   "latex_user_defs": false,
   "report_style_numbering": false,
   "user_envs_cfg": false
  },
  "toc": {
   "base_numbering": 1,
   "nav_menu": {},
   "number_sections": true,
   "sideBar": true,
   "skip_h1_title": false,
   "title_cell": "Table of Contents",
   "title_sidebar": "Contents",
   "toc_cell": false,
   "toc_position": {},
   "toc_section_display": true,
   "toc_window_display": false
  }
 },
 "nbformat": 4,
 "nbformat_minor": 2
}
