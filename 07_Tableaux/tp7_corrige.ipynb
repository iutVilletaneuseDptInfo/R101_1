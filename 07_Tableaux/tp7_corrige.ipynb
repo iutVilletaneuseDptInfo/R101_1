{
 "cells": [
  {
   "cell_type": "markdown",
   "metadata": {
    "deletable": false,
    "editable": false,
    "run_control": {
     "frozen": true
    }
   },
   "source": [
    "# <center> Chapitre 7 : Tableaux  - TP Corrigé </center>"
   ]
  },
  {
   "cell_type": "markdown",
   "metadata": {
    "deletable": false,
    "editable": false,
    "solution2": "hidden",
    "solution2_first": true
   },
   "source": [
    "### Exercice 1 : Traitement de notes*\n",
    "#### Question 1 : Maximum, minimum et moyenne\n",
    "\n",
    "Voici les notes d'un étudiant sous forme d'un tableau :\n",
    "`[8,4,12,12,9,15,19,11,19,4,18,12,19,3,5]`. <br>\n",
    "Écrire un programme qui affiche la note maximum `maxi`, la note\n",
    "minimum `mini` et la moyenne `moyenne`, sans utiliser les fonctions `max`, `min` et `sum`."
   ]
  },
  {
   "cell_type": "code",
   "execution_count": null,
   "metadata": {
    "deletable": false,
    "editable": false,
    "solution2": "hidden"
   },
   "outputs": [],
   "source": [
    "#------------------------------#\n",
    "#    CORRECTION  ! ! ! ! ! !   #\n",
    "#------------------------------#\n",
    "t = [8,4,12,12,9,15,19,11,19,4,18,12,19,3,5]\n",
    "maxi = t[0]\n",
    "mini = t[0]\n",
    "\n",
    "somme = t[0]\n",
    "\n",
    "i=1\n",
    "while i < len(t):\n",
    "    if t[i] > maxi:\n",
    "        maxi = t[i]\n",
    "    elif t[i] < mini:\n",
    "        mini = t[i]\n",
    "    somme += t[i]\n",
    "    i+=1\n",
    "\n",
    "moyenne = somme/len(t)\n",
    "\n",
    "print(\"note max\", maxi)\n",
    "print(\"note min\", mini)\n",
    "print(\"moyenne\", moyenne)"
   ]
  },
  {
   "cell_type": "code",
   "execution_count": null,
   "metadata": {
    "deletable": false,
    "editable": false
   },
   "outputs": [],
   "source": [
    "#----------------------------------#\n",
    "#             Tests                #\n",
    "#----------------------------------#\n",
    "import math \n",
    "assert math.isclose(maxi,19) \n",
    "assert math.isclose(mini,3)  \n",
    "assert math.isclose(moyenne,34/3)"
   ]
  },
  {
   "cell_type": "markdown",
   "metadata": {
    "deletable": false,
    "editable": false,
    "solution2": "hidden",
    "solution2_first": true
   },
   "source": [
    "#### Question 2 : Mention\n",
    "\n",
    "Améliorer le programme précédent en ajoutant la mention :\n",
    "redouble (moins de 10), passable (entre 10 et 12),\n",
    "assez bien (entre 12 et 14), bien (entre 14 et 16)\n",
    "et très bien (plus de 16)."
   ]
  },
  {
   "cell_type": "code",
   "execution_count": null,
   "metadata": {
    "deletable": false,
    "editable": false,
    "solution2": "hidden"
   },
   "outputs": [],
   "source": [
    "#------------------------------#\n",
    "#    CORRECTION  ! ! ! ! ! !   #\n",
    "#------------------------------#\n",
    "m = moyenne\n",
    "if m < 10:\n",
    "    print(\"redouble\")\n",
    "elif m < 12:\n",
    "    print(\"passable\")\n",
    "elif m < 14:\n",
    "    print(\"assez bien\")\n",
    "elif m < 16:\n",
    "    print(\"bien\")\n",
    "else:\n",
    "    print(\"très bien\")"
   ]
  },
  {
   "cell_type": "markdown",
   "metadata": {
    "deletable": false,
    "editable": false,
    "run_control": {
     "frozen": true
    }
   },
   "source": [
    "### Exercice 2 : Nombre de jours du mois*\n",
    "\n",
    "Soit"
   ]
  },
  {
   "cell_type": "code",
   "execution_count": null,
   "metadata": {
    "deletable": false,
    "editable": false
   },
   "outputs": [],
   "source": [
    "jours = [31, 28, 31, 30, 31, 30, 31, 31, 30, 31, 30, 31]\n",
    "mois = [\"janvier\", \"février\", \"mars\", \"avril\", \"mai\", \"juin\",\n",
    "        \"juillet\", \"août\", \"septembre\", \"octobre\", \"novembre\", \"décembre\"]"
   ]
  },
  {
   "cell_type": "markdown",
   "metadata": {
    "deletable": false,
    "editable": false,
    "run_control": {
     "frozen": true
    },
    "solution2": "hidden",
    "solution2_first": true
   },
   "source": [
    "- Créer un tableau qui alterne les éléments de `jours` et `mois` : `[\"janvier\", 31, \"février\", 28, ...]`"
   ]
  },
  {
   "cell_type": "code",
   "execution_count": null,
   "metadata": {
    "deletable": false,
    "editable": false,
    "solution2": "hidden"
   },
   "outputs": [],
   "source": [
    "#------------------------------#\n",
    "#    CORRECTION  ! ! ! ! ! !   #\n",
    "#------------------------------#\n",
    "res = []\n",
    "i=0\n",
    "while i < len(jours) and i<len(mois):\n",
    "    res.append(mois[i])\n",
    "    res.append(jours[i])\n",
    "    i+=1\n",
    "print(res)"
   ]
  },
  {
   "cell_type": "markdown",
   "metadata": {
    "deletable": false,
    "editable": false,
    "run_control": {
     "frozen": true
    },
    "solution2": "hidden",
    "solution2_first": true
   },
   "source": [
    "### Exercice 3 : Prénoms**\n",
    "#### Question 1 : Longueur des prénoms\n",
    "\n",
    "Créer un tableau qui contient la liste de prénom suivants dans cet ordre:<br>\n",
    "```\n",
    "Jean, Isidore, Vanessa, Anne, Maximilien, Alexandre-Benoît, Louise.\n",
    "```\n",
    "Écrire un programme qui affiche la longueur des prénoms stockés dans ce tableau sous la forme  <br>\n",
    "```\n",
    "longueur de Jean : 4 \n",
    "longueur d'Isidore : 7 \n",
    "```\n",
    "**Attention** à l'élision de `de` en `d'` devant une voyelle."
   ]
  },
  {
   "cell_type": "code",
   "execution_count": null,
   "metadata": {
    "deletable": false,
    "editable": false,
    "solution2": "hidden"
   },
   "outputs": [],
   "source": [
    "#------------------------------#\n",
    "#    CORRECTION  ! ! ! ! ! !   #\n",
    "#------------------------------#\n",
    "noms = [\"Jean\", \"Isidore\", \"Vanessa\", \"Anne\", \"Maximilien\", \"Alexandre-Benoît\", \"Louise\"]\n",
    "i=0\n",
    "while i < len(noms):\n",
    "    nom = noms[i]\n",
    "    if (nom[0] == 'A' or nom[0] == 'E' or nom[0] == 'I'     # si voyelle initiale\n",
    "        or nom[0] == '0' or nom[0] == 'U'or nom[0]=='Y'):\n",
    "        prep = \"d'\"                                         # élision\n",
    "    else:\n",
    "        prep = \"de \"\n",
    "    print(\"longueur\", prep, nom, \" : \", len(nom))\n",
    "    i+=1"
   ]
  },
  {
   "cell_type": "markdown",
   "metadata": {
    "deletable": false,
    "editable": false,
    "run_control": {
     "frozen": true
    },
    "solution2": "hidden",
    "solution2_first": true
   },
   "source": [
    "#### Question 2 :  Tri de prénoms\n",
    "\n",
    "À partir du tableau de prénoms précédent, créer deux tableaux :\n",
    "un qui contient ceux qui comptent moins de six lettres,\n",
    "l'autre le reste."
   ]
  },
  {
   "cell_type": "code",
   "execution_count": null,
   "metadata": {
    "deletable": false,
    "editable": false,
    "solution2": "hidden"
   },
   "outputs": [],
   "source": [
    "#------------------------------#\n",
    "#    CORRECTION  ! ! ! ! ! !   #\n",
    "#------------------------------#\n",
    "t = [\"Jean\", \"Isidore\", \"Vanessa\", \"Anne\", \"Maximilien\", \"Alexandre-Benoît\", \"Louise\"]\n",
    "petits = []\n",
    "grands = []\n",
    "\n",
    "i=0\n",
    "while i < len(t):\n",
    "    if len(t[i]) < 6:\n",
    "        petits.append(t[i])\n",
    "    else:\n",
    "        grands.append(t[i])\n",
    "    i+=1\n",
    "    \n",
    "print(petits)\n",
    "print(grands)"
   ]
  },
  {
   "cell_type": "code",
   "execution_count": null,
   "metadata": {
    "deletable": false,
    "editable": false
   },
   "outputs": [],
   "source": [
    "#-----------------#\n",
    "#       Tests     #\n",
    "#-----------------#\n",
    "assert petits == [\"Jean\", \"Anne\"] \n",
    "assert grands == [\"Isidore\", \"Vanessa\", \"Maximilien\", \"Alexandre-Benoît\", \"Louise\"] "
   ]
  },
  {
   "cell_type": "markdown",
   "metadata": {
    "deletable": false,
    "editable": false,
    "solution2": "hidden",
    "solution2_first": true
   },
   "source": [
    "### Exercice 4 : Calcul de la clé d'un numéro de SIREN**\n",
    "\n",
    "En France, SIREN (Système d'Identification du Répertoire des\n",
    "ENtreprises) est un code INSEE unique qui sert à identifier les\n",
    "entreprises. Ce numéro est national, invariable et dure le temps de la\n",
    "vie de l'entreprise.  \n",
    "\n",
    "Le numéro SIREN est composé de 8 chiffres, plus un chiffre de contrôle\n",
    "qui permet de vérifier la validité du numéro.\n",
    "\n",
    "La clé de contrôle utilisée pour vérifier l'exactitude d'un identifiant est calculée suivant l'*algorithme de Luhn*. Le principe  est le\n",
    "suivant : on multiplie les chiffres de rang impair à partir de la\n",
    "droite par 1, ceux de rang pair par 2 ; la somme des chiffres obtenus\n",
    "doit être congrue à zéro modulo 10, c'est-à-dire qu'elle doit être\n",
    "multiple de 10.\n",
    "\n",
    "**Exemple** : `1 3 9 2 8 2 3 7 ?` <br>\n",
    "La somme des chiffres suivants : 7+6+2+16+2+18+3+2  = 56 n'est pas divisible par 10.\n",
    "Pour que cette valeur le soit, il faut rajouter 4.\n",
    "56  + 4 = 60 qui est divisible par 10. Le numero : \n",
    "`1 3 9 2 8 2 3 7 4` est donc un numero de SIREN correct.\n",
    "\n",
    "On représente ce numéro SIREN par un tableau d'entiers. La case d'indice 8 est celle de la clé à calculer.\n",
    "\n",
    "Ecrire un programme qui demander à l'utilisateur les huit premiers chiffres du numéro de SIREN et affiche le tableau d'entier correspondant au numero de SIREN associé après avoir calculé la clé."
   ]
  },
  {
   "cell_type": "code",
   "execution_count": null,
   "metadata": {
    "deletable": false,
    "editable": false,
    "solution2": "hidden"
   },
   "outputs": [],
   "source": [
    "#------------------------------#\n",
    "#    CORRECTION  ! ! ! ! ! !   #\n",
    "#------------------------------#\n",
    "#numero de Siren\n",
    "chaine=input(\"Donner les 8 premiers chiffres du numero SIREN\")\n",
    "\n",
    "#Transformation de la chaine de caracteres contenant 8 chiffres\n",
    "#en un tableau de 8 cases, chaque case contenant un chiffres \n",
    "siren=[]\n",
    "i=0\n",
    "while i< 8 :\n",
    "    siren.append(int(chaine[i]))\n",
    "    i+=1\n",
    "        \n",
    "#somme pondérée\n",
    "somme=0\n",
    "i=0 \n",
    "while i < 8 :\n",
    "    if i%2==0:\n",
    "        somme+=2*siren[i]\n",
    "    else :\n",
    "        somme+=siren[i]\n",
    "    i+=1\n",
    "        \n",
    "#calcul de la clé\n",
    "if somme%10==0:\n",
    "    siren.append(0)\n",
    "else : \n",
    "    siren.append(10-somme%10)\n",
    "\n",
    "print(\"le numero de siren est \", siren)"
   ]
  },
  {
   "cell_type": "markdown",
   "metadata": {
    "deletable": false,
    "editable": false,
    "solution2": "hidden",
    "solution2_first": true
   },
   "source": [
    "### Exercice 5 : Palindrome**\n",
    "\n",
    "Ecrire un programme qui vérifie si un mot est un palindrome, c'est-à-dire\n",
    "se lit de la même façon de droite à gauche et de gauche à droite, comme par exemple `radar`, `rotor` et `selles`.\n",
    "\n",
    "Comment adapter ce programme pour autoriser tester si une phrase est un palindrome si l'on fait abstraction des espaces (par exemple `karine alla en irak`) ?"
   ]
  },
  {
   "cell_type": "code",
   "execution_count": null,
   "metadata": {
    "solution2": "hidden"
   },
   "outputs": [],
   "source": [
    "#------------------------------#\n",
    "#    CORRECTION  ! ! ! ! ! !   #\n",
    "#------------------------------#\n",
    "mot_init = input(\"votre mot : \")\n",
    "\n",
    "# contruction d'un mot sans les éventuels espaces \n",
    "mot =''\n",
    "i=0 \n",
    "while i<len(mot_init):\n",
    "    if mot_init[i]!=' ':\n",
    "        mot+=mot_init[i]\n",
    "    i+=1\n",
    "\n",
    "i=0\n",
    "while i < len(mot)//2 and mot[i] == mot[len(mot)-1-i]:\n",
    "    i+=1\n",
    "\n",
    "if i == len(mot)//2:\n",
    "    verdict = \" est \"\n",
    "else:\n",
    "    verdict = \" n'est pas \"\n",
    "print(mot_init, verdict, \"un palindrome\")"
   ]
  }
 ],
 "metadata": {
  "kernelspec": {
   "display_name": "Python 3 (ipykernel)",
   "language": "python",
   "name": "python3"
  },
  "language_info": {
   "codemirror_mode": {
    "name": "ipython",
    "version": 3
   },
   "file_extension": ".py",
   "mimetype": "text/x-python",
   "name": "python",
   "nbconvert_exporter": "python",
   "pygments_lexer": "ipython3",
   "version": "3.11.4"
  },
  "latex_envs": {
   "LaTeX_envs_menu_present": true,
   "autoclose": false,
   "autocomplete": true,
   "bibliofile": "biblio.bib",
   "cite_by": "apalike",
   "current_citInitial": 1,
   "eqLabelWithNumbers": true,
   "eqNumInitial": 1,
   "hotkeys": {
    "equation": "Ctrl-E",
    "itemize": "Ctrl-I"
   },
   "labels_anchors": false,
   "latex_user_defs": false,
   "report_style_numbering": false,
   "user_envs_cfg": false
  },
  "toc": {
   "base_numbering": 1,
   "nav_menu": {},
   "number_sections": true,
   "sideBar": true,
   "skip_h1_title": false,
   "title_cell": "Table of Contents",
   "title_sidebar": "Contents",
   "toc_cell": false,
   "toc_position": {},
   "toc_section_display": true,
   "toc_window_display": false
  }
 },
 "nbformat": 4,
 "nbformat_minor": 2
}
