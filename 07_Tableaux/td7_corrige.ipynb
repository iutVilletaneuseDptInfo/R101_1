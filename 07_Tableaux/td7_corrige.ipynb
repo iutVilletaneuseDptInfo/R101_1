{
 "cells": [
  {
   "cell_type": "markdown",
   "metadata": {
    "deletable": false,
    "editable": false,
    "run_control": {
     "frozen": true
    }
   },
   "source": [
    "# <center> Chapitre 7 : Tableaux - TD Corrigé </center>"
   ]
  },
  {
   "cell_type": "markdown",
   "metadata": {
    "deletable": false,
    "editable": false,
    "run_control": {
     "frozen": true
    },
    "solution2": "hidden",
    "solution2_first": true
   },
   "source": [
    "### Exercice 1 : Test de compréhension*\n",
    "#### Question 1 :  Définition et affichage\n",
    "* Définir un tableau contenant les jours de la semaine \n",
    "* Afficher le premier et le dernier élément"
   ]
  },
  {
   "cell_type": "code",
   "execution_count": null,
   "metadata": {
    "deletable": false,
    "editable": false,
    "solution2": "hidden"
   },
   "outputs": [],
   "source": [
    "#------------------------------#\n",
    "#    CORRECTION  ! ! ! ! ! !   #\n",
    "#------------------------------#\n",
    "semaine = [\"lundi\", \"mardi\", \"mercredi\", \"jeudi\", \"vendredi\", \"samedi\", \"dimanche\"]\n",
    "print(semaine[0])\n",
    "print(semaine[6])"
   ]
  },
  {
   "cell_type": "markdown",
   "metadata": {
    "deletable": false,
    "editable": false,
    "solution2": "hidden",
    "solution2_first": true
   },
   "source": [
    "#### Question 2 : Indice et valeur\n",
    "\n",
    "- Qu'est-ce que l'*indice* d'un élément ? quelles valeurs peut-il prendre ?\n",
    "- Quelle est la différence entre l'*indice* d'un élément et sa *valeur* ?"
   ]
  },
  {
   "cell_type": "markdown",
   "metadata": {
    "deletable": false,
    "editable": false,
    "run_control": {
     "frozen": true
    },
    "solution2": "hidden"
   },
   "source": [
    "**CORRECTION :** \n",
    "\n",
    "L'indice est la position d'un élément dans le tableau, il varie de 0 à n-1 pour un tableau à n éléments. <br>\n",
    "La valeur est la donnée enregistrée à cette position."
   ]
  },
  {
   "cell_type": "markdown",
   "metadata": {
    "solution2": "hidden",
    "solution2_first": true
   },
   "source": [
    "#### Question 3 : Nombre d'éléments\n",
    "\n",
    "Comment connaître le nombre d'éléments d'un tableau ?"
   ]
  },
  {
   "cell_type": "markdown",
   "metadata": {
    "solution2": "hidden"
   },
   "source": [
    "**CORRECTION :** `len(tab)`"
   ]
  },
  {
   "cell_type": "markdown",
   "metadata": {
    "deletable": false,
    "editable": false,
    "run_control": {
     "frozen": true
    },
    "solution2": "hidden",
    "solution2_first": true
   },
   "source": [
    "#### Question 4 :  Affichage\n",
    "\n",
    "- Afficher les jours de la `semaine` précédés du numéro du jour"
   ]
  },
  {
   "cell_type": "code",
   "execution_count": null,
   "metadata": {
    "deletable": false,
    "editable": false,
    "solution2": "hidden"
   },
   "outputs": [],
   "source": [
    "#------------------------------#\n",
    "#    CORRECTION  ! ! ! ! ! !   #\n",
    "#------------------------------#\n",
    "i=0\n",
    "while i < len(semaine):\n",
    "    print(i+1, \") \", semaine[i])\n",
    "    i+=1"
   ]
  },
  {
   "cell_type": "markdown",
   "metadata": {
    "deletable": false,
    "editable": false,
    "run_control": {
     "frozen": true
    },
    "solution2": "hidden",
    "solution2_first": true
   },
   "source": [
    "- Inverser l'ordre d'affichage : commencer par le dimanche et finir par le lundi"
   ]
  },
  {
   "cell_type": "code",
   "execution_count": null,
   "metadata": {
    "deletable": false,
    "editable": false,
    "solution2": "hidden"
   },
   "outputs": [],
   "source": [
    "#------------------------------#\n",
    "#    CORRECTION  ! ! ! ! ! !   #\n",
    "#------------------------------#\n",
    "i = len(semaine) - 1\n",
    "while i >= 0:\n",
    "    print(i+1,\") \", semaine[i])\n",
    "    i-=1"
   ]
  },
  {
   "cell_type": "markdown",
   "metadata": {
    "deletable": false,
    "editable": false,
    "run_control": {
     "frozen": true
    },
    "solution2": "hidden",
    "solution2_first": true
   },
   "source": [
    "#### Question 5 :  Affichage compact\n",
    "\n",
    "Afficher les jours de la semaine sur une ligne, séparés par des obliques `/`."
   ]
  },
  {
   "cell_type": "code",
   "execution_count": null,
   "metadata": {
    "deletable": false,
    "editable": false,
    "solution2": "hidden"
   },
   "outputs": [],
   "source": [
    "#------------------------------#\n",
    "#    CORRECTION  ! ! ! ! ! !   #\n",
    "#------------------------------#\n",
    "i=0\n",
    "s=\"\"\n",
    "while i < len(semaine)-1:\n",
    "    s=s+semaine[i]+\"/\"\n",
    "    i+=1\n",
    "s=s+semaine[i]\n",
    "print(s)"
   ]
  },
  {
   "cell_type": "markdown",
   "metadata": {
    "deletable": false,
    "editable": false,
    "run_control": {
     "frozen": true
    }
   },
   "source": [
    "### Exercice 2 : Alias et modifications*\n",
    "\n",
    "Que valent `t1`, `t2`, `t3` à la fin du programme ?"
   ]
  },
  {
   "cell_type": "code",
   "execution_count": null,
   "metadata": {
    "deletable": false,
    "editable": false,
    "solution2": "hidden",
    "solution2_first": true
   },
   "outputs": [],
   "source": [
    "t1 = ['a', 'b', 'c', 'd']\n",
    "t2 = [34, 31, 957]\n",
    "t3 = t1\n",
    "t3[1] = -3\n",
    "t1 = t2\n",
    "t2[0] = 'abc'\n",
    "t2[0] = 'bonjour'\n",
    "t3[2] = 'oui'\n",
    "\n",
    "print(t1)\n",
    "print(t2)\n",
    "print(t3)"
   ]
  },
  {
   "cell_type": "markdown",
   "metadata": {
    "deletable": false,
    "editable": false,
    "run_control": {
     "frozen": true
    },
    "solution2": "hidden"
   },
   "source": [
    "**CORRECTION** <br>\n",
    "['bonjour', 31, 957]<br>\n",
    "['bonjour', 31, 957]<br>\n",
    "['a', -3, 'oui', 'd']<br>"
   ]
  },
  {
   "cell_type": "markdown",
   "metadata": {
    "deletable": false,
    "editable": false,
    "solution2": "hidden",
    "solution2_first": true
   },
   "source": [
    "### Exercice 3 : Somme*\n",
    "\n",
    "Mettre dans un tableau les nombres `5, 6, 8, 14, 17`. Calculer et afficher leur somme `somme` sans utiliser la fonction `sum`."
   ]
  },
  {
   "cell_type": "code",
   "execution_count": null,
   "metadata": {
    "deletable": false,
    "editable": false,
    "solution2": "hidden"
   },
   "outputs": [],
   "source": [
    "#------------------------------#\n",
    "#    CORRECTION  ! ! ! ! ! !   #\n",
    "#------------------------------#\n",
    "t = [5,6,8,14,17]\n",
    "somme = 0\n",
    "\n",
    "i=0\n",
    "while i < len(t):\n",
    "    somme += t[i]\n",
    "    i+=1\n",
    "\n",
    "print(\"la somme est \",somme)"
   ]
  },
  {
   "cell_type": "code",
   "execution_count": null,
   "metadata": {
    "deletable": false,
    "editable": false
   },
   "outputs": [],
   "source": [
    "# Test le résultat obtenu\n",
    "assert somme==50"
   ]
  },
  {
   "cell_type": "markdown",
   "metadata": {
    "solution2": "hidden",
    "solution2_first": true
   },
   "source": [
    "### Exercice 4 : Maximum*\n",
    "\n",
    "Écrire un programme qui recherche le plus grand élément `maxi` d'un tableau donné sans utiliser la fonction `max` <br>\n",
    "Par exemple avec `[32, 5, 12, 8, 3, 75, 2]` il doit afficher `le max est 75`."
   ]
  },
  {
   "cell_type": "code",
   "execution_count": null,
   "metadata": {
    "deletable": false,
    "editable": false,
    "solution2": "hidden"
   },
   "outputs": [],
   "source": [
    "#------------------------------#\n",
    "#    CORRECTION  ! ! ! ! ! !   #\n",
    "#------------------------------#\n",
    "t = [32, 5, 12, 8, 3, 75, 2]\n",
    "maxi = t[0]\n",
    "\n",
    "i=1\n",
    "while i < len(t):\n",
    "    if t[i] > maxi:\n",
    "        maxi = t[i]\n",
    "    i+=1\n",
    "    \n",
    "print(\"le max est\",maxi)"
   ]
  },
  {
   "cell_type": "code",
   "execution_count": null,
   "metadata": {
    "deletable": false,
    "editable": false
   },
   "outputs": [],
   "source": [
    "# Test le résultat obtenu \n",
    "assert maxi==75"
   ]
  },
  {
   "cell_type": "markdown",
   "metadata": {
    "deletable": false,
    "editable": false,
    "run_control": {
     "frozen": true
    },
    "solution2": "hidden",
    "solution2_first": true
   },
   "source": [
    "### Exercice 5 : Saisie de notes**\n",
    "\n",
    "Écrire un programme qui permet de saisir des notes d'étudiants\n",
    "et les enregistrer dans un tableau. <br>\n",
    "La saisie s'arrête quand on saisit un nombre hors de l'intervalle [0,20].\n",
    "Afficher alors le tableau s'il n'est pas vide."
   ]
  },
  {
   "cell_type": "code",
   "execution_count": null,
   "metadata": {
    "deletable": false,
    "editable": false,
    "solution2": "hidden"
   },
   "outputs": [],
   "source": [
    "#------------------------------#\n",
    "#    CORRECTION  ! ! ! ! ! !   #\n",
    "#------------------------------#\n",
    "notes = []\n",
    "nb = float(input(\"entrez une note : \"))\n",
    "while nb >= 0 and nb <= 20:\n",
    "    notes.append(nb)\n",
    "    nb = float(input(\"entrez la note suivante : \"))\n",
    "    \n",
    "if len(notes) > 0:\n",
    "    print(\"Les notes sont \", notes)\n",
    "else:\n",
    "    print(\"Aucune note saisie\")"
   ]
  },
  {
   "cell_type": "markdown",
   "metadata": {},
   "source": [
    "# Pour aller plus loin"
   ]
  },
  {
   "cell_type": "markdown",
   "metadata": {
    "solution2": "hidden",
    "solution2_first": true
   },
   "source": [
    "### Exercice 6 :  Purge de zéros**\n",
    "\n",
    "Écrire un programme qui crée un tableau à partir d'un autre\n",
    "en supprimant les zéros. Tester ce programme sur\n",
    "```\n",
    "x = [34, -2, 0, 39, 0, 78, 0, 0, 46]\n",
    "```"
   ]
  },
  {
   "cell_type": "code",
   "execution_count": null,
   "metadata": {
    "deletable": false,
    "editable": false,
    "run_control": {
     "frozen": true
    },
    "solution2": "hidden"
   },
   "outputs": [],
   "source": [
    "#------------------------------#\n",
    "#    CORRECTION  ! ! ! ! ! !   #\n",
    "#------------------------------#\n",
    "x = [34, -2, 0, 39, 0, 78, 0, 0, 4]\n",
    "\n",
    "y=[]\n",
    "i=0\n",
    "while i<len(x):\n",
    "    if x[i]!=0:\n",
    "        y.append(x[i])\n",
    "    i+=1\n",
    "print(y)"
   ]
  },
  {
   "cell_type": "code",
   "execution_count": null,
   "metadata": {
    "deletable": false,
    "editable": false,
    "run_control": {
     "frozen": true
    },
    "solution2": "hidden"
   },
   "outputs": [],
   "source": [
    "#------------------------------#\n",
    "#    CORRECTION  ! ! ! ! ! !   #\n",
    "#------------------------------#\n",
    "x = [34, -2, 0, 39, 0, 78, 0, 0, 4]\n",
    "#suppression des 0 dans le tableau x (plus compliqué que ce qui était demandé)\n",
    "\n",
    "i=0\n",
    "while i<len(x):\n",
    "    if x[i]==0:\n",
    "        val=x.pop(i)  # la partie de x après la position i est décalée vers la gauche\n",
    "    else:\n",
    "        i+=1\n",
    "\n",
    "print(x)\n",
    "     "
   ]
  },
  {
   "cell_type": "code",
   "execution_count": null,
   "metadata": {
    "deletable": false,
    "editable": false,
    "solution2": "hidden"
   },
   "outputs": [],
   "source": [
    "#------------------------------#\n",
    "#    CORRECTION  ! ! ! ! ! !   #\n",
    "#------------------------------#\n",
    "x = [34, -2, 0, 39, 0, 78, 0, 0, 46]\n",
    "y = []\n",
    "\n",
    "i=0\n",
    "while i<len(x):\n",
    "    if x[i] != 0:\n",
    "        y.append(x[i])\n",
    "    i+=1\n",
    "    \n",
    "print(y)"
   ]
  }
 ],
 "metadata": {
  "kernelspec": {
   "display_name": "Python 3 (ipykernel)",
   "language": "python",
   "name": "python3"
  },
  "language_info": {
   "codemirror_mode": {
    "name": "ipython",
    "version": 3
   },
   "file_extension": ".py",
   "mimetype": "text/x-python",
   "name": "python",
   "nbconvert_exporter": "python",
   "pygments_lexer": "ipython3",
   "version": "3.11.4"
  },
  "latex_envs": {
   "LaTeX_envs_menu_present": true,
   "autoclose": false,
   "autocomplete": true,
   "bibliofile": "biblio.bib",
   "cite_by": "apalike",
   "current_citInitial": 1,
   "eqLabelWithNumbers": true,
   "eqNumInitial": 1,
   "hotkeys": {
    "equation": "Ctrl-E",
    "itemize": "Ctrl-I"
   },
   "labels_anchors": false,
   "latex_user_defs": false,
   "report_style_numbering": false,
   "user_envs_cfg": false
  },
  "toc": {
   "base_numbering": 1,
   "nav_menu": {},
   "number_sections": true,
   "sideBar": true,
   "skip_h1_title": false,
   "title_cell": "Table of Contents",
   "title_sidebar": "Contents",
   "toc_cell": false,
   "toc_position": {},
   "toc_section_display": true,
   "toc_window_display": false
  }
 },
 "nbformat": 4,
 "nbformat_minor": 2
}
