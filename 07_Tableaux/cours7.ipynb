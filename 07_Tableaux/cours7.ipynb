{
 "cells": [
  {
   "cell_type": "markdown",
   "metadata": {},
   "source": [
    "# <center> Chapitre 7 : Tableaux </center>"
   ]
  },
  {
   "cell_type": "markdown",
   "metadata": {
    "deletable": false,
    "editable": false
   },
   "source": [
    "On doit parfois traiter une grande quantité de données.\n",
    "Par exemple, les noms d'une promotion de 100 étudiants ou\n",
    "la vitesse du vent en 1000 points pour une prévision météo.\n",
    "Définir autant de variables est peu efficace. On groupe\n",
    "alors ces données dans un *tableau* :"
   ]
  },
  {
   "cell_type": "code",
   "execution_count": null,
   "metadata": {
    "deletable": false,
    "editable": false
   },
   "outputs": [],
   "source": [
    "nom = [\"Sophie\", \"Martin\", \"Larry\", \"Ken\", \"Denis\"]\n",
    "vitesse  = [30.2, 37.4, 28.6, 21.1, 42.0, 18.5, 25.5]"
   ]
  },
  {
   "cell_type": "markdown",
   "metadata": {
    "deletable": false,
    "editable": false
   },
   "source": [
    "On a défini un tableau `nom` de 5 chaînes de caractères puis un tableau `vitesse`\n",
    "de 7 flottants. On écrit les éléments entre crochets,\n",
    "séparés par des virgules. <br>\n",
    "On parle également de *liste*. "
   ]
  },
  {
   "cell_type": "code",
   "execution_count": null,
   "metadata": {
    "deletable": false,
    "editable": false
   },
   "outputs": [],
   "source": [
    "print(type(nom))"
   ]
  },
  {
   "cell_type": "markdown",
   "metadata": {
    "deletable": false,
    "editable": false
   },
   "source": [
    "En Python, on peut aussi mélanger les types de données au sein d'un tableau :"
   ]
  },
  {
   "cell_type": "code",
   "execution_count": null,
   "metadata": {
    "deletable": false,
    "editable": false
   },
   "outputs": [],
   "source": [
    "tab = [\"Sophie\", 30.2, False]"
   ]
  },
  {
   "cell_type": "markdown",
   "metadata": {
    "deletable": false,
    "editable": false,
    "run_control": {
     "frozen": true
    }
   },
   "source": [
    "Cela n'est pas possible dans tous les langages."
   ]
  },
  {
   "cell_type": "markdown",
   "metadata": {
    "deletable": false,
    "editable": false,
    "run_control": {
     "frozen": true
    }
   },
   "source": [
    "### Accéder aux éléments \n",
    "    \n",
    "On accède à un élément par son *indice*, c'est-à-dire, sa position dans le tableau, en commençant à numéroter les cases à partir de 0."
   ]
  },
  {
   "cell_type": "code",
   "execution_count": null,
   "metadata": {
    "deletable": false,
    "editable": false
   },
   "outputs": [],
   "source": [
    "print(nom[0])\n",
    "print(tab[2])\n",
    "\n",
    "print((vitesse[0] + vitesse[1]) / 2)"
   ]
  },
  {
   "cell_type": "markdown",
   "metadata": {
    "deletable": false,
    "editable": false,
    "run_control": {
     "frozen": true
    }
   },
   "source": [
    "- Sur ce thème : **Exercice 1, Questions 1 et 2, TD7**\n",
    "\n",
    "### Modifier un élément\n",
    "On peut modifier un élément avec une affectation :"
   ]
  },
  {
   "cell_type": "code",
   "execution_count": null,
   "metadata": {
    "deletable": false,
    "editable": false
   },
   "outputs": [],
   "source": [
    "nom[2] = \"Guido\"\n",
    "print(nom)"
   ]
  },
  {
   "cell_type": "markdown",
   "metadata": {
    "deletable": false,
    "editable": false
   },
   "source": [
    "**Remarque :**  l'instruction "
   ]
  },
  {
   "cell_type": "code",
   "execution_count": null,
   "metadata": {
    "deletable": false,
    "editable": false
   },
   "outputs": [],
   "source": [
    "nom[5] = \"Guido\""
   ]
  },
  {
   "cell_type": "markdown",
   "metadata": {
    "deletable": false,
    "editable": false
   },
   "source": [
    "produit une erreur, car le tableau n'a que 5 éléments d'indices 0 à 4.\n",
    "On obtient le message d'erreur `index out of range`."
   ]
  },
  {
   "cell_type": "markdown",
   "metadata": {
    "deletable": false,
    "editable": false
   },
   "source": [
    "###  Ajouter un élément : `append()` et `insert()`\n",
    "\n",
    "Pour ajouter un élément à la fin du tableau, on utilise la *méthode* `append()` comme ceci :"
   ]
  },
  {
   "cell_type": "code",
   "execution_count": null,
   "metadata": {
    "deletable": false,
    "editable": false
   },
   "outputs": [],
   "source": [
    "nom.append(\"Guido\")\n",
    "print(nom)\n",
    "print(\"nouveau : \", nom[5])"
   ]
  },
  {
   "cell_type": "markdown",
   "metadata": {
    "deletable": false,
    "editable": false
   },
   "source": [
    "Pour insérer un élément à la position `i`, on utilise la méthode `insert` comme ceci :"
   ]
  },
  {
   "cell_type": "code",
   "execution_count": null,
   "metadata": {
    "deletable": false,
    "editable": false
   },
   "outputs": [],
   "source": [
    "nom.insert(2,\"Toto\")\n",
    "print(nom)"
   ]
  },
  {
   "cell_type": "markdown",
   "metadata": {
    "deletable": false,
    "editable": false
   },
   "source": [
    "### Suppression d'un élément à un indice donné\n",
    "\n",
    "Il est possible de supprimer l'élément à l'indice `i` avec la méthode `pop(i)` qui retourne la valeur supprimée. Par défaut, en l'absence d'argument, `pop()` supprime le dernier élément et retourne la valeur supprimée. "
   ]
  },
  {
   "cell_type": "code",
   "execution_count": null,
   "metadata": {
    "deletable": false,
    "editable": false
   },
   "outputs": [],
   "source": [
    "print(\"Suppression de l'élément à l'indice 2 :\")\n",
    "valeur = nom.pop(2)\n",
    "print(\"Valeur supprimée :\", valeur)\n",
    "print(nom)"
   ]
  },
  {
   "cell_type": "code",
   "execution_count": null,
   "metadata": {
    "deletable": false,
    "editable": false
   },
   "outputs": [],
   "source": [
    "print(\"Suppression du dernier élément :\")\n",
    "valeur = nom.pop()\n",
    "print(\"Valeur supprimée :\", valeur)\n",
    "print(nom)"
   ]
  },
  {
   "cell_type": "markdown",
   "metadata": {
    "deletable": false,
    "editable": false,
    "run_control": {
     "frozen": true
    }
   },
   "source": [
    "### Alias\n",
    "\n",
    "L'instruction suivante ne crée pas une *copie* mais un *alias* de `t`, c'est-à-dire\n",
    "que `t2` et `t` désignent le même objet jusqu'à ce que l'un d'eux\n",
    "soit réaffecté."
   ]
  },
  {
   "cell_type": "code",
   "execution_count": null,
   "metadata": {
    "deletable": false,
    "editable": false
   },
   "outputs": [],
   "source": [
    "#Suivre l'exécution avec Python Tutor\n",
    "t=[0,0,0]\n",
    "t2 = t     # création d'un alias\n",
    "\n",
    "t[0] = 1\n",
    "print(t)\n",
    "print(t2)\n",
    "\n",
    "t2[0] = 0\n",
    "print(t)\n",
    "print(t2)\n",
    "\n",
    "t = [2,2,2] # création d'un nouveau tableau à une nouvelle adresse\n",
    "print(t)\n",
    "print(t2)"
   ]
  },
  {
   "cell_type": "markdown",
   "metadata": {},
   "source": [
    "- Sur ce thème : **Exercice 2, TD7**\n",
    "\n",
    "### Parcourir d'un tableau\n",
    "\n",
    "On utilise très souvent des boucles pour *parcourir* un tableau\n",
    "et agir sur les éléments. <br>\n",
    "Par exemple, pour afficher uniquement les élément d'indice pair :"
   ]
  },
  {
   "cell_type": "code",
   "execution_count": null,
   "metadata": {
    "deletable": false,
    "editable": false
   },
   "outputs": [],
   "source": [
    "i = 0\n",
    "while i < 6:\n",
    "    if i%2 == 0 :   # l'indice est pair\n",
    "        print(vitesse[i])\n",
    "    i += 1"
   ]
  },
  {
   "cell_type": "markdown",
   "metadata": {
    "deletable": false,
    "editable": false,
    "run_control": {
     "frozen": true
    }
   },
   "source": [
    "#### Longueur d'un tableau `len()`\n",
    "\n",
    "L'indice ne doit pas dépasser la taille du tableau sous peine d'être `out of range`\n",
    "(cf. exemple ci-dessus). <br>\n",
    "On peut vérifier la taille par la fonction `len()` comme pour les chaînes de caractères"
   ]
  },
  {
   "cell_type": "code",
   "execution_count": null,
   "metadata": {
    "deletable": false,
    "editable": false
   },
   "outputs": [],
   "source": [
    "print(len(vitesse))"
   ]
  },
  {
   "cell_type": "markdown",
   "metadata": {
    "deletable": false,
    "editable": false
   },
   "source": [
    "Le programme précédent peut alors être réécrit sans risque d'erreur"
   ]
  },
  {
   "cell_type": "code",
   "execution_count": null,
   "metadata": {
    "deletable": false,
    "editable": false
   },
   "outputs": [],
   "source": [
    "i = 0\n",
    "while i < len(vitesse):\n",
    "    if i%2 == 0 :\n",
    "        print(vitesse[i])\n",
    "    i += 1"
   ]
  },
  {
   "cell_type": "markdown",
   "metadata": {},
   "source": [
    "- Sur ce thème : **Exercice 1, Questions 3 à 5, Exercices 3 et 4, TD7**\n",
    "\n",
    "### Tableaux et chaînes de caractères \n",
    "\n",
    "Les chaînes sont-elles des tableaux de caractères ?\n",
    "Pas tout à fait. \n",
    "<br>\n",
    "Si l'on peut lire une chaîne de caractères comme un tableau :"
   ]
  },
  {
   "cell_type": "code",
   "execution_count": null,
   "metadata": {
    "deletable": false,
    "editable": false
   },
   "outputs": [],
   "source": [
    "s = \"Perceval\"\n",
    "print(s[0])\n",
    "print(s[len(s)-1])"
   ]
  },
  {
   "cell_type": "markdown",
   "metadata": {},
   "source": [
    "on ne peut pas en modifier les caractères individuellement contrairement à ce qui est possible avec un tableau de caractères :"
   ]
  },
  {
   "cell_type": "code",
   "execution_count": null,
   "metadata": {
    "deletable": false,
    "editable": false
   },
   "outputs": [],
   "source": [
    "s[0] = \"G\""
   ]
  },
  {
   "cell_type": "markdown",
   "metadata": {
    "deletable": false,
    "editable": false,
    "run_control": {
     "frozen": true
    }
   },
   "source": [
    "### Boucles de remplissage\n",
    "\n",
    "On peut définir un tableau en écrivant un à un ses éléments,\n",
    "comme dans le premier exemple, ou en utilisant une boucle :"
   ]
  },
  {
   "cell_type": "code",
   "execution_count": null,
   "metadata": {
    "deletable": false,
    "editable": false
   },
   "outputs": [],
   "source": [
    "impair = []\n",
    "i = 0\n",
    "while i < 15:\n",
    "    if i%2 != 0:\n",
    "        impair.append(i)\n",
    "    i+=1\n",
    "print(impair)"
   ]
  },
  {
   "cell_type": "markdown",
   "metadata": {},
   "source": [
    "- Sur ce thème : **Exercie 5, TD7**"
   ]
  }
 ],
 "metadata": {
  "kernelspec": {
   "display_name": "Python 3 (ipykernel)",
   "language": "python",
   "name": "python3"
  },
  "language_info": {
   "codemirror_mode": {
    "name": "ipython",
    "version": 3
   },
   "file_extension": ".py",
   "mimetype": "text/x-python",
   "name": "python",
   "nbconvert_exporter": "python",
   "pygments_lexer": "ipython3",
   "version": "3.11.4"
  },
  "latex_envs": {
   "LaTeX_envs_menu_present": true,
   "autoclose": false,
   "autocomplete": true,
   "bibliofile": "biblio.bib",
   "cite_by": "apalike",
   "current_citInitial": 1,
   "eqLabelWithNumbers": true,
   "eqNumInitial": 1,
   "hotkeys": {
    "equation": "Ctrl-E",
    "itemize": "Ctrl-I"
   },
   "labels_anchors": false,
   "latex_user_defs": false,
   "report_style_numbering": false,
   "user_envs_cfg": false
  },
  "toc": {
   "base_numbering": 1,
   "nav_menu": {},
   "number_sections": true,
   "sideBar": true,
   "skip_h1_title": false,
   "title_cell": "Table of Contents",
   "title_sidebar": "Contents",
   "toc_cell": false,
   "toc_position": {},
   "toc_section_display": true,
   "toc_window_display": false
  }
 },
 "nbformat": 4,
 "nbformat_minor": 2
}
