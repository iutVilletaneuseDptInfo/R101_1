{
 "cells": [
  {
   "cell_type": "markdown",
   "metadata": {
    "collapsed": true,
    "deletable": false,
    "editable": false,
    "run_control": {
     "frozen": true
    }
   },
   "source": [
    "# <center>Chapitre 2 : Alternatives - TD </center>"
   ]
  },
  {
   "cell_type": "markdown",
   "metadata": {
    "deletable": false,
    "editable": false
   },
   "source": [
    "### Exercice 1 : Trace de programme* $\\clubsuit$"
   ]
  },
  {
   "cell_type": "markdown",
   "metadata": {
    "deletable": false,
    "editable": false,
    "run_control": {
     "frozen": true
    }
   },
   "source": [
    "Donner la trace du programme, c'est-à-dire donner l'affichage obtenu par l'exécution du programme."
   ]
  },
  {
   "cell_type": "code",
   "execution_count": null,
   "metadata": {},
   "outputs": [],
   "source": [
    "x = 12\n",
    "print(x > 12)\n",
    "print(x < 11 or (x > 40 and x < 100))\n",
    "print(x != 9)\n",
    "test = not(x > 10 and x <= 12) and x%2 == 0\n",
    "print(test)\n",
    "test = x>=10 and test\n",
    "print(test)\n",
    "test = not(test)\n",
    "print(test)\n",
    "test = not(test)\n",
    "print(test)"
   ]
  },
  {
   "cell_type": "markdown",
   "metadata": {
    "deletable": false,
    "editable": false,
    "run_control": {
     "frozen": true
    }
   },
   "source": [
    "### Exercice 2 : Affichage d'un test**\n",
    "\n",
    "1. Écrire un programme demandant à l'utilisateur de saisir un nombre entier. Si ce nombre est pair et positif ou s'il est impair et compris entre 5 (inclus) et 25 (inclus), alors le programme affiche `True`. Dans le cas contraire, le programme affiche `False`. \n",
    "\n",
    "**Rappel :** Il existe un opérateur appelé *modulo* dont le symbole est `%` qui permet de calculer le reste de la division euclidienne.  Par exemple, `3%2` vaut `1`.\n",
    "\n",
    "2. Donner un jeu d'essai  (4 valeurs tests significatives) et prévoir les résultats."
   ]
  },
  {
   "cell_type": "code",
   "execution_count": null,
   "metadata": {},
   "outputs": [],
   "source": [
    "#-------------------------#\n",
    "#    Écrire le code ici   #\n",
    "#-------------------------#\n",
    "\n",
    "\n"
   ]
  },
  {
   "cell_type": "markdown",
   "metadata": {
    "deletable": false,
    "editable": false,
    "run_control": {
     "frozen": true
    }
   },
   "source": [
    "### Exercice 3 : Valeur absolue d'un nombre*\n",
    "Écrire un programme demandant à l'utilisateur de saisir un nombre et affichant la valeur absolue de ce nombre.\n",
    "\n",
    "**Rappel :** La valeur absolue d'un nombre est sa valeur numérique sans son signe. Par exemple, la valeur absolue de -4 et de 4 est 4. Pour représenter la valeur absolue, on utilise la notation |…|. Ainsi, on écrit : |–4| = |4| = 4."
   ]
  },
  {
   "cell_type": "code",
   "execution_count": null,
   "metadata": {},
   "outputs": [],
   "source": [
    "#-------------------------#\n",
    "#    Écrire le code ici   #\n",
    "#-------------------------#\n",
    "\n",
    "\n"
   ]
  },
  {
   "cell_type": "markdown",
   "metadata": {
    "deletable": false,
    "editable": false,
    "run_control": {
     "frozen": true
    }
   },
   "source": [
    "### Exercice 4 : Le jeu des différences*\n",
    "\n",
    "Quelle différence y a-t-il entre les deux programmes suivants ?"
   ]
  },
  {
   "cell_type": "code",
   "execution_count": null,
   "metadata": {
    "deletable": false,
    "editable": false
   },
   "outputs": [],
   "source": [
    "A=5<2\n",
    "if A:\n",
    "   print(\"V\")\n",
    "else:\n",
    "   print(\"F\")"
   ]
  },
  {
   "cell_type": "code",
   "execution_count": null,
   "metadata": {
    "deletable": false,
    "editable": false
   },
   "outputs": [],
   "source": [
    "A=5<2\n",
    "if A == True:\n",
    "   print(\"V\")\n",
    "if A==False:\n",
    "   print(\"F\")"
   ]
  },
  {
   "cell_type": "markdown",
   "metadata": {},
   "source": [
    "**CORRECTION :**"
   ]
  },
  {
   "cell_type": "markdown",
   "metadata": {
    "deletable": false,
    "editable": false,
    "run_control": {
     "frozen": true
    }
   },
   "source": [
    "### Exercice 5 : Questions sur le `if`*\n",
    "\n",
    "#### Question 1 : Indentation\n",
    "Qu'est-ce qu'une *indentation* ? A quoi sert une indentation ?\n",
    "\n",
    "#### Question 2 : Else\n",
    "Le `else` est-il obligatoire après un `if` ? Après un  `if/elif` ?"
   ]
  },
  {
   "cell_type": "markdown",
   "metadata": {
    "deletable": false,
    "editable": false,
    "run_control": {
     "frozen": true
    }
   },
   "source": [
    "#### Question 3 : Imbrication de `if`\n",
    "\n",
    "\n",
    "Dans le programme suivant quelles instructions dépendent du premier `if` ? Du second `if` ?"
   ]
  },
  {
   "cell_type": "code",
   "execution_count": null,
   "metadata": {},
   "outputs": [],
   "source": [
    "A=1\n",
    "B=6\n",
    "print(1)\n",
    "if A>2:\n",
    "   print(2)\n",
    "   if B>=A:\n",
    "       print(3)\n",
    "   print(4)\n",
    "print(5)"
   ]
  },
  {
   "cell_type": "markdown",
   "metadata": {
    "deletable": false,
    "editable": false,
    "run_control": {
     "frozen": true
    }
   },
   "source": [
    "Qu'affiche le programme dans les différents cas suivants ?\n",
    "\n",
    "* quand `A = 1` et `B = 6`,\n",
    "* quand `A = 4` et `B = 5`,\n",
    "* quand `A = 3` et `B = 0`."
   ]
  },
  {
   "cell_type": "markdown",
   "metadata": {},
   "source": [
    "**CORRECTION :**"
   ]
  },
  {
   "cell_type": "markdown",
   "metadata": {
    "deletable": false,
    "editable": false,
    "run_control": {
     "frozen": true
    }
   },
   "source": [
    "### Exercice 6 : Alternatives élémentaires*"
   ]
  },
  {
   "cell_type": "markdown",
   "metadata": {
    "deletable": false,
    "editable": false,
    "run_control": {
     "frozen": true
    }
   },
   "source": [
    "Pour quelle(s) valeur(s) de `A` l'instruction `print(\"B\")` est-elle executée dans chacun des quatre codes ci-dessous?"
   ]
  },
  {
   "cell_type": "code",
   "execution_count": null,
   "metadata": {
    "deletable": false,
    "editable": false
   },
   "outputs": [],
   "source": [
    "if A > 10:\n",
    "   print(\"A\")\n",
    "else:\n",
    "   print(\"B\")"
   ]
  },
  {
   "cell_type": "code",
   "execution_count": null,
   "metadata": {
    "deletable": false,
    "editable": false
   },
   "outputs": [],
   "source": [
    "if A > 10:\n",
    "   print(\"A\")\n",
    "elif A > 200:\n",
    "   print(\"B\")"
   ]
  },
  {
   "cell_type": "code",
   "execution_count": null,
   "metadata": {
    "deletable": false,
    "editable": false
   },
   "outputs": [],
   "source": [
    "if A > 10:\n",
    "   print(\"A\")\n",
    "if A > 200:\n",
    "   print(\"B\")"
   ]
  },
  {
   "cell_type": "code",
   "execution_count": null,
   "metadata": {
    "deletable": false,
    "editable": false
   },
   "outputs": [],
   "source": [
    "if A > 10 and A < 10:\n",
    "   print(\"A\")\n",
    "else:\n",
    "   print(\"B\")"
   ]
  },
  {
   "cell_type": "markdown",
   "metadata": {
    "deletable": false,
    "editable": false,
    "run_control": {
     "frozen": true
    }
   },
   "source": [
    "Pour quelle(s) valeur(s) de `A` l'instruction `print(\"C\")` est-elle executée ?"
   ]
  },
  {
   "cell_type": "code",
   "execution_count": null,
   "metadata": {
    "deletable": false,
    "editable": false
   },
   "outputs": [],
   "source": [
    "if A < 100:\n",
    "   print(\"A\")\n",
    "elif A>=100:\n",
    "   print(\"B\")\n",
    "else:\n",
    "   print(\"C\")"
   ]
  },
  {
   "cell_type": "markdown",
   "metadata": {
    "deletable": false,
    "editable": false
   },
   "source": [
    "### Exercice 7 : Réduction du nombre de tests** $\\clubsuit$ \n",
    "\n",
    "Peut-on réduire le nombre de tests dans le programme suivant ? Si oui, comment ?"
   ]
  },
  {
   "cell_type": "code",
   "execution_count": null,
   "metadata": {
    "deletable": false,
    "editable": false
   },
   "outputs": [],
   "source": [
    "A=float(input())\n",
    "if A <= 10:\n",
    "   print(\"A\")\n",
    "elif A> 10  and A <= 50:\n",
    "   print(\"B\")\n",
    "elif A> 50  and A < 100:\n",
    "   print(\"C\")\n",
    "elif A >=100:\n",
    "   print(\"D\")"
   ]
  },
  {
   "cell_type": "code",
   "execution_count": null,
   "metadata": {},
   "outputs": [],
   "source": [
    "#-------------------------#\n",
    "#    Écrire le code ici   #\n",
    "#-------------------------#\n",
    "\n",
    "\n"
   ]
  },
  {
   "cell_type": "markdown",
   "metadata": {
    "deletable": false,
    "editable": false,
    "run_control": {
     "frozen": true
    }
   },
   "source": [
    "# Pour aller plus loin"
   ]
  },
  {
   "cell_type": "markdown",
   "metadata": {
    "deletable": false,
    "editable": false,
    "run_control": {
     "frozen": true
    }
   },
   "source": [
    "### Exercice 8 : Différence de deux nombres**\n",
    "\n",
    "Écrire un algorithme qui demande deux nombres entiers à l'utilisateur et calcule la différence entre le plus grand nombre et le plus petit nombre, quel que soit l'ordre de saisie."
   ]
  },
  {
   "cell_type": "code",
   "execution_count": null,
   "metadata": {},
   "outputs": [],
   "source": [
    "#-------------------------#\n",
    "#    Écrire le code ici   #\n",
    "#-------------------------#\n",
    "\n",
    "\n"
   ]
  },
  {
   "cell_type": "markdown",
   "metadata": {
    "deletable": false,
    "editable": false
   },
   "source": [
    "### Exercice 9 : Calcul de gabarit** $\\clubsuit$\n",
    "\n",
    "On définit le `gabarit` d'un objet en fonction de sa `taille`.  Le `gabarit` peut prendre les valeurs `\"Grand\"`, `\"Moyen\"` ou `\"Petit\"` (qui sont des chaînes de caractères) selon que la `taille` (qui est un nombre entier) est respectivement supérieure ou égale à 10, comprise entre 4 (inclus) et 10 (non inclus) ou strictement inférieure à 4.\n",
    "\n",
    "Écrire un programme qui demande à l'utilisateur la `taille` d'un objet et affiche après l'avoir déterminé le `garabit` correspondant. On s'attachera à ne pas faire de test inutile."
   ]
  },
  {
   "cell_type": "code",
   "execution_count": null,
   "metadata": {},
   "outputs": [],
   "source": [
    "#-------------------------#\n",
    "#    Écrire le code ici   #\n",
    "#-------------------------#\n",
    "\n",
    "\n"
   ]
  },
  {
   "cell_type": "markdown",
   "metadata": {
    "deletable": false,
    "editable": false,
    "run_control": {
     "frozen": true
    }
   },
   "source": [
    "### Exercice 10 : Tri de trois nombres**\n",
    "\n",
    "Écrire un algorithme qui déclare 3 variables `a`, `b` et `c` initialisées avec 3 nombres entiers saisis par l'utilisateur. L'algorithme devra ensuite modifier les valeurs de `a`, `b` et `c` pour que `a` contienne la plus petite valeur saisie, `c` la plus grande valeur saisie et `b` la troisième valeur. L'algorithme affichera ensuite les valeurs de la plus petite à la plus grande."
   ]
  },
  {
   "cell_type": "code",
   "execution_count": null,
   "metadata": {},
   "outputs": [],
   "source": [
    "#-------------------------#\n",
    "#    Écrire le code ici   #\n",
    "#-------------------------#\n",
    "\n",
    "\n"
   ]
  },
  {
   "cell_type": "markdown",
   "metadata": {
    "deletable": false,
    "editable": false,
    "run_control": {
     "frozen": true
    }
   },
   "source": [
    "### Exercice 11 : Racines d'un polynôme du second degré**\n",
    "\n",
    "Écrire un algorithme qui calcule et affiche les racines réelles d'un polynôme du second degré. \n",
    "\n",
    "**NB :** Ce sont les racines réelles de l'équation $ax^2 + bx + c = 0$\n",
    "\n",
    "Prendre soin de bien analyser le problème et de savoir ce qui est très précisément demandé pour répertorier les données du problème.\n",
    "\n",
    "**Remarque :** En Python, on obtient la racine carrée d'un nombre `x` grâce à l'appel `math.sqrt(x)`. Il faut auparavent avoir importé le module `math` grâce à l'instruction `import math`."
   ]
  },
  {
   "cell_type": "code",
   "execution_count": null,
   "metadata": {},
   "outputs": [],
   "source": [
    "#-------------------------#\n",
    "#    Écrire le code ici   #\n",
    "#-------------------------#\n",
    "\n",
    "\n"
   ]
  }
 ],
 "metadata": {
  "@webio": {
   "lastCommId": "7dfd978eaeed4cb884d4e0debe22388f",
   "lastKernelId": "01d0debe-ca5c-46d5-8ef6-00315dddd3c2"
  },
  "kernelspec": {
   "display_name": "Python 3 (ipykernel)",
   "language": "python",
   "name": "python3"
  },
  "language_info": {
   "codemirror_mode": {
    "name": "ipython",
    "version": 3
   },
   "file_extension": ".py",
   "mimetype": "text/x-python",
   "name": "python",
   "nbconvert_exporter": "python",
   "pygments_lexer": "ipython3",
   "version": "3.11.4"
  },
  "latex_envs": {
   "LaTeX_envs_menu_present": true,
   "autoclose": false,
   "autocomplete": true,
   "bibliofile": "biblio.bib",
   "cite_by": "apalike",
   "current_citInitial": 1,
   "eqLabelWithNumbers": true,
   "eqNumInitial": 1,
   "hotkeys": {
    "equation": "Ctrl-E",
    "itemize": "Ctrl-I"
   },
   "labels_anchors": false,
   "latex_user_defs": false,
   "report_style_numbering": false,
   "user_envs_cfg": false
  },
  "toc": {
   "base_numbering": 1,
   "nav_menu": {},
   "number_sections": true,
   "sideBar": true,
   "skip_h1_title": true,
   "title_cell": "Table des matières",
   "title_sidebar": "Table des matières",
   "toc_cell": false,
   "toc_position": {},
   "toc_section_display": true,
   "toc_window_display": true
  },
  "varInspector": {
   "cols": {
    "lenName": 16,
    "lenType": 16,
    "lenVar": 40
   },
   "kernels_config": {
    "python": {
     "delete_cmd_postfix": "",
     "delete_cmd_prefix": "del ",
     "library": "var_list.py",
     "varRefreshCmd": "print(var_dic_list())"
    },
    "r": {
     "delete_cmd_postfix": ") ",
     "delete_cmd_prefix": "rm(",
     "library": "var_list.r",
     "varRefreshCmd": "cat(var_dic_list()) "
    }
   },
   "types_to_exclude": [
    "module",
    "function",
    "builtin_function_or_method",
    "instance",
    "_Feature"
   ],
   "window_display": false
  }
 },
 "nbformat": 4,
 "nbformat_minor": 2
}
