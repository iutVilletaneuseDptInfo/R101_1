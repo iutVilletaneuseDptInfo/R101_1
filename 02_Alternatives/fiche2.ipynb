{
 "cells": [
  {
   "cell_type": "markdown",
   "metadata": {
    "collapsed": true
   },
   "source": [
    "# <center> Chapitre 2 : Alternatives</center>"
   ]
  },
  {
   "cell_type": "markdown",
   "metadata": {},
   "source": [
    "## Tests"
   ]
  },
  {
   "cell_type": "markdown",
   "metadata": {
    "deletable": false,
    "editable": false,
    "run_control": {
     "frozen": true
    }
   },
   "source": [
    "* Nouveau type de données : booléen (noté `bool`) avec deux valeurs `True` et `False`\n",
    "* Test de type avec `type()`\n",
    "* Comparaison de deux valeurs avec les opérateurs `<`, `<=`, `>`, `>=`, `==`, `!=` (pour des valeurs comparables)\n",
    "* Égalité de deux flottants avec `math.isclose(val1, val2)` (avec `import math`)\n",
    "* Possibilité d'écrire des tests plus complexes avec les opérateurs `and`, `or` et `not`.\n",
    "\n",
    "| E1     |  E2   |  E1 and E2 | E1 or E2   | not E1 |\n",
    "| -------| ----- | ---------: | ---------: | -----: | \n",
    "| True   | True  |      True  |     True   | False  |\n",
    "| True   | False |      False |     True   | False  |\n",
    "| False  | True  |      False |     True   | True   |\n",
    "| False  | False |      False |     False  | True   |\n",
    "\n"
   ]
  },
  {
   "cell_type": "code",
   "execution_count": null,
   "metadata": {
    "deletable": false,
    "editable": false
   },
   "outputs": [],
   "source": [
    "nb = 7\n",
    "print(type(nb)==int)  #Affiche True\n",
    "print(type(nb)==str) #Affiche False\n",
    "print(15 > 2) #Affiche True\n",
    "print(2+4 <= nb - 2) #Affiche False car 6 > 5\n",
    "print( (23 > nb * 4) and (15 > 2)) # Affiche False car False and True vaut False\n",
    "print( (23 > nb * 4) or (15 > 2)) # Affiche True car False or True vaut True\n",
    "print( not (15 > 2)) # Affiche False car not(True) vaut False"
   ]
  },
  {
   "cell_type": "markdown",
   "metadata": {
    "deletable": false,
    "editable": false,
    "run_control": {
     "frozen": true
    }
   },
   "source": [
    "## Comment faire des choix au sein d'un algorithme ?\n",
    "### Structure de contrôle `if/elif/else` : \n",
    "**Syntaxe :**\n",
    "```python\n",
    "    if condition 1 : \n",
    "        Bloc instructions 1\n",
    "    elif condition 2 :\n",
    "        Bloc instructions 2\n",
    "    #Autant de elif que nécessaire\n",
    "    #...   \n",
    "    elif condition k :\n",
    "        Bloc instructions k\n",
    "    else :\n",
    "        Bloc instructions 4\n",
    "```\n",
    "    \n",
    "  * On peut avoir 0, 1 ou plusieurs `elif`.\n",
    "  * Le `else` n'est pas obligatoire.\n",
    "        \n",
    "**Comportement :**\n",
    "  * Le bloc d'instructions `i` est exécuté si `condition i` est vraie et que toutes les conditions précédentes sont fausses.\n",
    "  * Le dernier bloc d'instructions n'est exécuté que si toutes les conditions sont fausses.\n",
    "  * Exactement un bloc d'instructions est exécuté si on a un `else`.\n",
    "  * Au plus un bloc d'instructions est exécuté s'il n'y a pas de `else`."
   ]
  },
  {
   "cell_type": "code",
   "execution_count": null,
   "metadata": {
    "deletable": false,
    "editable": false
   },
   "outputs": [],
   "source": [
    "print(\"Saisir un nombre\")\n",
    "valeur = int(input())\n",
    "if valeur %2 == 0 :\n",
    "    print(\"Vous avez saisi un nombre pair !\")\n",
    "\n",
    "print(\"Saisir une moyenne :\")\n",
    "note = float(input())\n",
    "if note >= 18 :  # Si la note est >= 18\n",
    "    mention = \"Félicitations du jury\"\n",
    "elif note >= 16 : # Si la note est >= 16 et < 18\n",
    "    mention = \"Très Bien\"\n",
    "elif note >= 14 : # Si la note est >= 14 et < 16\n",
    "    mention = \"Bien\"\n",
    "elif note >= 12 : # Si la note est >= 12 et < 14\n",
    "    mention = \"Assez bien\"\n",
    "elif note >= 10 : # Si la note est >= 10 et < 12\n",
    "    mention = \"Passable\"\n",
    "else : # Si la note est < 10\n",
    "    mention = \"Redoublement\"\n",
    "print(\"La mention est : \" + mention)"
   ]
  },
  {
   "cell_type": "markdown",
   "metadata": {},
   "source": [
    "## Vocabulaire\n",
    "\n",
    "* booléen, `True`, `False`, tests, comparaisons, tables de vérité, `if`, `elif`, `else`, indentation"
   ]
  }
 ],
 "metadata": {
  "kernelspec": {
   "display_name": "Python 3",
   "language": "python",
   "name": "python3"
  },
  "language_info": {
   "codemirror_mode": {
    "name": "ipython",
    "version": 3
   },
   "file_extension": ".py",
   "mimetype": "text/x-python",
   "name": "python",
   "nbconvert_exporter": "python",
   "pygments_lexer": "ipython3",
   "version": "3.7.4"
  },
  "latex_envs": {
   "LaTeX_envs_menu_present": true,
   "autoclose": false,
   "autocomplete": true,
   "bibliofile": "biblio.bib",
   "cite_by": "apalike",
   "current_citInitial": 1,
   "eqLabelWithNumbers": true,
   "eqNumInitial": 1,
   "hotkeys": {
    "equation": "Ctrl-E",
    "itemize": "Ctrl-I"
   },
   "labels_anchors": false,
   "latex_user_defs": false,
   "report_style_numbering": false,
   "user_envs_cfg": false
  }
 },
 "nbformat": 4,
 "nbformat_minor": 2
}
