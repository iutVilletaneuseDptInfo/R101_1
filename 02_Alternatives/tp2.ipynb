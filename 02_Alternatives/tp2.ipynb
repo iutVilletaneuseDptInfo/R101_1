{
 "cells": [
  {
   "cell_type": "markdown",
   "metadata": {},
   "source": [
    "# <center>Chapitre 2 : Alternatives - TP </center>"
   ]
  },
  {
   "cell_type": "markdown",
   "metadata": {
    "deletable": false,
    "editable": false
   },
   "source": [
    "### Python Tutor\n",
    "\n",
    "Python Tutor permet permet de visualiser l'exécution d'un code en python, ce qui aide à comprendre son fonctionnement.\n",
    "\n",
    "**Installation** Utiliser les commandes suivantes   \n",
    "   ```\n",
    "    git clone https://github.com/kandjiabdou/visual_pytutor.git\n",
    "    jupyter nbextension install visual_pytutor\n",
    "    jupyter nbextension enable visual_pytutor/main\n",
    "   ```\n",
    "Sur les *machines de l'IUT*, Python Tutor est déjà installé."
   ]
  },
  {
   "cell_type": "markdown",
   "metadata": {
    "deletable": false,
    "editable": false,
    "run_control": {
     "frozen": true
    }
   },
   "source": [
    "**Visualisation** Cliquer sur l'oeil qui apparait à gauche de chaque cellule de code. Cela ouvre un nouvel onglet permettant la visualisation de ce code. \n",
    "\n",
    "Python Tutor est très facile à utiliser. À gauche se trouve le code que l'on souhaite visualiser. En dessous se trouvent des flèches permettant d'exécuter les instructions du programme les unes à la suite des autres. A gauche du code se trouvent deux flèches  permattant de suivre l'évolution de l'exécution du code : \n",
    "* une flèche verte indique l'instruction qui vient d'être exécutée,\n",
    "* une flèche rouge indique la prochaine instruction qui sera exécutée.\n",
    "\n",
    "La partie droite représente l'état de la mémoire de l'ordinateur ainsi que l'affichage produit par le code durant l'exécution du programme."
   ]
  },
  {
   "cell_type": "markdown",
   "metadata": {
    "deletable": false,
    "editable": false
   },
   "source": [
    "### Exercice 1 : Exécution du programme avec Python Tutor.*\n",
    "\n",
    "1. Déterminer sur une feuille l'affichage obtenu par l'exécution du programme.\n",
    "\n",
    "2. Exécuter maintenant ce programme et cliquer sur l'oeil de manière à pouvoir suivre pas à pas l'exécution du programme avec Python Tutor pour comprendre son fonctionnement. Vérifier que l'affichage obtenu est celui prédit."
   ]
  },
  {
   "cell_type": "code",
   "execution_count": null,
   "metadata": {
    "deletable": false,
    "editable": false
   },
   "outputs": [],
   "source": [
    "interrupteur = False\n",
    "intensite = 0\n",
    "interrupteur = not(interrupteur)\n",
    "if interrupteur: \n",
    "    print(\"lampe allumée\")\n",
    "    intensite = intensite+1\n",
    "else:\n",
    "    print(\"lampe éteinte\")\n",
    "\n",
    "interrupteur = not(interrupteur)\n",
    "\n",
    "if interrupteur: \n",
    "    print(\"lampe allumée\")\n",
    "    intensite = intensite+1\n",
    "else:\n",
    "    print(\"lampe éteinte\")\n",
    "\n",
    "interrupteur = not(interrupteur)\n",
    "\n",
    "if interrupteur : \n",
    "    print(\"lampe allumée\")\n",
    "    intensite = intensite+1\n",
    "else:\n",
    "    print(\"lampe éteinte\")\n",
    "\n",
    "interrupteur = not(interrupteur)\n",
    "\n",
    "if interrupteur: \n",
    "    print(\"lampe allumée\")\n",
    "    intensite = intensite+1\n",
    "else:\n",
    "    print(\"lampe éteinte\")\n",
    "\n",
    "interrupteur = not(interrupteur)\n",
    "\n",
    "if interrupteur: \n",
    "    print(\"lampe allumée\")\n",
    "    intensite = intensite+1\n",
    "else:\n",
    "    print(\"lampe éteinte\")\n",
    "print(\"Intensité : \" + str(intensite))"
   ]
  },
  {
   "cell_type": "markdown",
   "metadata": {},
   "source": [
    "**REPONSE**"
   ]
  },
  {
   "cell_type": "markdown",
   "metadata": {
    "deletable": false,
    "editable": false
   },
   "source": [
    "### Exercice 2 : Pair ou impair ?*\n",
    "\n",
    "Écrire un programme demandant à l'utilisateur de saisir un nombre entier. Le programme affiche alors si l'entier saisi est pair ou impair."
   ]
  },
  {
   "cell_type": "code",
   "execution_count": null,
   "metadata": {},
   "outputs": [],
   "source": [
    "#-------------------------#\n",
    "#    Écrire le code ici   #\n",
    "#-------------------------#\n",
    "\n",
    "\n"
   ]
  },
  {
   "cell_type": "markdown",
   "metadata": {
    "deletable": false,
    "editable": false
   },
   "source": [
    "### Exercice 3 : Exécution du programme avec Python Tutor.*\n",
    "\n",
    "#### Question 1\n",
    "\n",
    "1. Exécuter la cellule suivante puis cliquer sur le lien hypertexte. En visualisant étape par étape le déroulement de l'algorithme, déterminer combien de comparaisons sont faites lorsque `nb` vaut 14.\n",
    "\n",
    "2. Même question lorsque `nb` vaut 10.\n",
    "\n",
    "3. Même question lorsque `nb` vaut 2."
   ]
  },
  {
   "cell_type": "code",
   "execution_count": null,
   "metadata": {},
   "outputs": [],
   "source": [
    "nb = 2\n",
    "if nb < 4 :\n",
    "    print(\"Quelques\")\n",
    "elif nb < 7 :\n",
    "    print(\"Un peu\")\n",
    "elif nb < 15 :\n",
    "    print(\"Pas mal\")\n",
    "elif nb < 50 : \n",
    "    print(\"Beaucoup\")\n",
    "else :\n",
    "    print(\"Innombrables\")"
   ]
  },
  {
   "cell_type": "markdown",
   "metadata": {},
   "source": [
    "**REPONSE**"
   ]
  },
  {
   "cell_type": "markdown",
   "metadata": {
    "deletable": false,
    "editable": false,
    "run_control": {
     "frozen": true
    }
   },
   "source": [
    "#### Question 2\n",
    "\n",
    "Le code suivant produit le même affichage. Compter le nombre de comparaisons effectuées lorsque `nb` vaut 14, 10 et 2 et comparer avec le nombre de comparaisons faites dans le premier code. Quel est le meilleur code ?\n",
    "\n",
    "**Attention :** Un test peut contenir plusieurs comparaisons."
   ]
  },
  {
   "cell_type": "code",
   "execution_count": null,
   "metadata": {},
   "outputs": [],
   "source": [
    "nb = 2\n",
    "if nb < 4 :\n",
    "    print(\"Quelques\")\n",
    "if nb >= 4 and nb < 7 :\n",
    "    print(\"Un peu\")\n",
    "if nb >= 7 and nb < 15 :\n",
    "    print(\"Pas mal\")\n",
    "if nb >= 15 and nb < 50 : \n",
    "    print(\"Beaucoup\")\n",
    "if nb >= 50 :\n",
    "    print(\"Innombrables\")"
   ]
  },
  {
   "cell_type": "markdown",
   "metadata": {},
   "source": [
    "**RÉPONSE :**"
   ]
  },
  {
   "cell_type": "markdown",
   "metadata": {
    "deletable": false,
    "editable": false
   },
   "source": [
    "### Exercice 4 : Celsius vs Farhenheit**\n",
    "\n",
    "Pour mesurer une température, il existe plusieurs unités de mesure. Il est notamment possible de mesurer une température en degrés Celsius ou en degré Farhenheit. Les relations entre les deux températures sont les suivantes : \n",
    "\n",
    "$$T(°F) = \\frac{9}{5} * T(°C) + 32  \\quad \\text{  et  } \\quad T(°C) = \\frac{5}{9} * (T(°F) - 32)  $$\n",
    "\n",
    "#### Question 1 :\n",
    "Écrire un programme permettant à l'utilisateur de saisir une valeur flottante correspondant à une température ainsi que son choix de type de conversion.\n",
    "\n",
    "Le programme se déroulera de la sorte : \n",
    "Quelle est la température ? \n",
    "\n",
    "Quel est votre choix d'opération ? \n",
    "1. La température est en degrés Celsius, la convertir en degrés Farhenheit.\n",
    "2. La température est en degrés Farhenheit, la convertir en degrés Celsius.\n",
    "\n",
    "Le programme affichera alors la température convertie."
   ]
  },
  {
   "cell_type": "code",
   "execution_count": null,
   "metadata": {},
   "outputs": [],
   "source": [
    "#-------------------------#\n",
    "#    Écrire le code ici   #\n",
    "#-------------------------#\n",
    "\n",
    "\n",
    "\n",
    "\n"
   ]
  },
  {
   "cell_type": "markdown",
   "metadata": {},
   "source": [
    "#### Question 2 :\n",
    "\n",
    "Écrire un programme permettant à l'utilisateur de saisir deux températures, la première en degrés Celsius et la seconde en degrés Farhenheit. Le programme affiche alors si les deux températures sont équivalentes ou non.\n",
    "\n",
    "**Attention :** Les valeurs à comparer sont des flottants et ne peuvent donc pas être comparées avec le symbole `==`. Ils doivent être comparés avec la fonction `math.isclose`."
   ]
  },
  {
   "cell_type": "code",
   "execution_count": null,
   "metadata": {},
   "outputs": [],
   "source": [
    "#-------------------------#\n",
    "#    Écrire le code ici   #\n",
    "#-------------------------#\n",
    "\n",
    "\n",
    "\n",
    "\n",
    "\n",
    "\n"
   ]
  },
  {
   "cell_type": "markdown",
   "metadata": {
    "deletable": false,
    "editable": false
   },
   "source": [
    "### Exercice 5 : Facture pour la reprographie**\n",
    "\n",
    "Un magasin de reprographie facture 0,10&euro; les dix premières photocopies, 0,09&euro; les vingt\n",
    " suivantes (de la 11ème à la 30ème photocopie) et 0,08&euro; au-delà (à partir de la 31ème). Ainsi, 18 photocopies coûtent 1,72&euro; (10\\*0,10+8\\*0,09=1,72). \n",
    " \n",
    "Ecrire un algorithme qui demande à l'utilisateur le nombre de photocopies effectuées et qui affiche la facture correspondante. Veiller à faire le moins possible de tests."
   ]
  },
  {
   "cell_type": "code",
   "execution_count": null,
   "metadata": {},
   "outputs": [],
   "source": [
    "#-------------------------#\n",
    "#    Écrire le code ici   #\n",
    "#-------------------------#\n",
    "\n",
    "\n",
    "\n",
    "\n",
    "\n",
    "\n"
   ]
  },
  {
   "cell_type": "markdown",
   "metadata": {
    "deletable": false,
    "editable": false
   },
   "source": [
    "### Exercice 6 : L'impôt au pays de *Zorglubland*.*** $\\clubsuit$\n",
    "\n",
    "Les habitants de *Zorglubland* paient l'impôt selon les règles suivantes :\n",
    "*  les hommes de plus de 20 ans paient l'impôt,\n",
    "*  les femmes paient l'impôt si elles ont entre 18 et 35 ans,\n",
    "*  les autres ne paient pas d'impôt.\n",
    "\n",
    "Écrire un programme demandant l'âge et le sexe du *Zorglubien* et affichant si l'habitant est imposable ou pas."
   ]
  },
  {
   "cell_type": "code",
   "execution_count": null,
   "metadata": {},
   "outputs": [],
   "source": [
    "#-------------------------#\n",
    "#    Écrire le code ici   #\n",
    "#-------------------------#\n",
    "\n",
    "\n",
    "\n",
    "\n"
   ]
  },
  {
   "cell_type": "markdown",
   "metadata": {
    "deletable": false,
    "editable": false
   },
   "source": [
    "### Exercice 7 : Dans une seconde, il sera ...*** $\\clubsuit$\n",
    "\n",
    "Écrire un algorithme qui demande à l'utilisateur l'heure, les minutes et les secondes, et affiche\n",
    "l'heure qu'il sera une seconde plus tard. \n",
    "Par exemple, si l'utilisateur tape 21 puis 32 puis 8, l'algorithme doit répondre :\n",
    "```\n",
    "Dans une seconde, il sera 21 heure(s) 32 minute(s) 9 secondes\".\n",
    "```\n",
    "**Remarque :** On commencera par vérifier que l'utilisateur entre une heure\n",
    " valide. "
   ]
  },
  {
   "cell_type": "code",
   "execution_count": null,
   "metadata": {},
   "outputs": [],
   "source": [
    "#-------------------------#\n",
    "#    Écrire le code ici   #\n",
    "#-------------------------#\n",
    "\n",
    "\n",
    "\n",
    "\n",
    "\n",
    "\n"
   ]
  }
 ],
 "metadata": {
  "@webio": {
   "lastCommId": "7e14594fd6ba43d382d49ff455c11094",
   "lastKernelId": "d2d817a3-3b59-4a92-b219-3cfd8d2ff189"
  },
  "kernelspec": {
   "display_name": "Python 3 (ipykernel)",
   "language": "python",
   "name": "python3"
  },
  "language_info": {
   "codemirror_mode": {
    "name": "ipython",
    "version": 3
   },
   "file_extension": ".py",
   "mimetype": "text/x-python",
   "name": "python",
   "nbconvert_exporter": "python",
   "pygments_lexer": "ipython3",
   "version": "3.11.4"
  },
  "latex_envs": {
   "LaTeX_envs_menu_present": true,
   "autoclose": false,
   "autocomplete": true,
   "bibliofile": "biblio.bib",
   "cite_by": "apalike",
   "current_citInitial": 1,
   "eqLabelWithNumbers": true,
   "eqNumInitial": 1,
   "hotkeys": {
    "equation": "Ctrl-E",
    "itemize": "Ctrl-I"
   },
   "labels_anchors": false,
   "latex_user_defs": false,
   "report_style_numbering": false,
   "user_envs_cfg": false
  },
  "toc": {
   "base_numbering": 1,
   "nav_menu": {},
   "number_sections": true,
   "sideBar": true,
   "skip_h1_title": true,
   "title_cell": "Table des matières",
   "title_sidebar": "Table des matières",
   "toc_cell": false,
   "toc_position": {},
   "toc_section_display": true,
   "toc_window_display": false
  },
  "varInspector": {
   "cols": {
    "lenName": 16,
    "lenType": 16,
    "lenVar": 40
   },
   "kernels_config": {
    "python": {
     "delete_cmd_postfix": "",
     "delete_cmd_prefix": "del ",
     "library": "var_list.py",
     "varRefreshCmd": "print(var_dic_list())"
    },
    "r": {
     "delete_cmd_postfix": ") ",
     "delete_cmd_prefix": "rm(",
     "library": "var_list.r",
     "varRefreshCmd": "cat(var_dic_list()) "
    }
   },
   "types_to_exclude": [
    "module",
    "function",
    "builtin_function_or_method",
    "instance",
    "_Feature"
   ],
   "window_display": false
  }
 },
 "nbformat": 4,
 "nbformat_minor": 2
}
