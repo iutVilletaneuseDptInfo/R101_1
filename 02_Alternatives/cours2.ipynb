{
 "cells": [
  {
   "cell_type": "markdown",
   "metadata": {},
   "source": [
    "# <center>Chapitre 2 : Alternatives</center>"
   ]
  },
  {
   "cell_type": "markdown",
   "metadata": {
    "deletable": false,
    "editable": false,
    "run_control": {
     "frozen": true
    }
   },
   "source": [
    "Dans les programmes vus jusqu'à présent, la même suite d'instructions\n",
    "est réalisée à chaque exécution. Mais on peut aussi, grâce aux structures conditionnelles et aux tests,  écrire des instructions qui ne s'exécutent que dans certains cas (sous certaines conditions)."
   ]
  },
  {
   "cell_type": "markdown",
   "metadata": {
    "deletable": false,
    "editable": false,
    "run_control": {
     "frozen": true
    }
   },
   "source": [
    "## Tests"
   ]
  },
  {
   "cell_type": "markdown",
   "metadata": {
    "deletable": false,
    "editable": false,
    "run_control": {
     "frozen": true
    }
   },
   "source": [
    "### Tests et valeurs booléennes"
   ]
  },
  {
   "cell_type": "markdown",
   "metadata": {
    "deletable": false,
    "editable": false,
    "run_control": {
     "frozen": true
    }
   },
   "source": [
    "Un test est une expression dont l’évaluation est vraie ou fausse. Par exemple,\n",
    "* \"La terre est plate\" est un test dont l'évaluation est fausse,\n",
    "* `15 > 2` est un test dont l'évaluation est vraie.\n",
    "\n",
    "Pour représenter les valeurs vrai/faux, on dispose d'un type de données,\n",
    "le type *booléen* (*boolean* en anglais) noté `bool`, qui admet deux valeurs :\n",
    "* `True` correspondant à vrai,\n",
    "* `False` correspondant à faux.\n",
    "\n",
    "Ces valeurs peuvent être stockées dans des variables. Par exemple,\n",
    "`var = True` affecte à la variable `var` la valeur `True`."
   ]
  },
  {
   "cell_type": "markdown",
   "metadata": {
    "deletable": false,
    "editable": false,
    "run_control": {
     "frozen": true
    }
   },
   "source": [
    "### Tester le type\n",
    "\n",
    "On peut vouloir tester le type d'une valeur, savoir si c'est un `int`, un `float`, un `bool`, un `str`. L'opérateur `==` teste si les valeurs sont égales alors que l'opérateur `!=` (teste si les valeurs sont différentes).\n",
    "\n",
    "Le résultat de l'exécution d'une instruction est indiqué en commentaire (texte après le symbole `#`)."
   ]
  },
  {
   "cell_type": "code",
   "execution_count": null,
   "metadata": {
    "deletable": false,
    "editable": false
   },
   "outputs": [],
   "source": [
    "#L'instruction print est utilisée pour afficher la valeur des tests (True ou False) \n",
    "#lors de l'exécution du code\n",
    "print(type(5)==int)      # True\n",
    "print(type(5)==float)    # False\n",
    "print(type(5.)==float)   # True\n",
    "print(type(\"5\")==str)    # True\n",
    "print(type(True)==str)   # False\n",
    "print(type(True)==bool)  # True\n",
    "print(type(\"True\")==str) # True"
   ]
  },
  {
   "cell_type": "markdown",
   "metadata": {
    "deletable": false,
    "editable": false,
    "run_control": {
     "frozen": true
    }
   },
   "source": [
    "### Comparaisons"
   ]
  },
  {
   "cell_type": "markdown",
   "metadata": {
    "deletable": false,
    "editable": false,
    "run_control": {
     "frozen": true
    }
   },
   "source": [
    "Dans sa forme la plus simple, un test est une comparaison de deux valeurs.\n",
    "On dispose des opérateurs de comparaison `<`, `<=`, `>`, `>=`, `==` (teste si les valeurs sont égales)\n",
    "ou `!=` (teste si les valeurs sont différentes).\n",
    "Les valeurs à comparer doivent être de *même type* ou de *type comparable* :\n",
    "si un `int` et un `float` sont comparés, alors l'interpréteur convertira l'`int` en `float`.\n",
    "\n",
    "Voici quelques exemples. Les trois premiers tests sont évalués à `True`, les deux suivants à `False`."
   ]
  },
  {
   "cell_type": "code",
   "execution_count": null,
   "metadata": {
    "deletable": false,
    "editable": false
   },
   "outputs": [],
   "source": [
    "print(3 <= 5)  #True\n",
    "print(3.5 < 5) #True\n",
    "print(\"abc\" != \"abcdef\") #True\n",
    "print(14.5 > 128) #False\n",
    "print(\"bzzzzz\" <  \"aie !\") #False"
   ]
  },
  {
   "cell_type": "markdown",
   "metadata": {
    "deletable": false,
    "editable": false,
    "run_control": {
     "frozen": true
    }
   },
   "source": [
    "Les opérandes à comparer peuvent comporter un calcul. Dans ce cas, l'évaluation se fait en deux étapes :\n",
    "1. les opérandes sont évalués,\n",
    "2. les valeurs obtenues sont comparées.\n",
    "\n",
    "Par exemple, dans le code suivant, le test `x+3 > y` est composé de deux opérandes `x+3` et `y` qui sont respectivement évalués à `23` et `13` avant d'être comparés."
   ]
  },
  {
   "cell_type": "code",
   "execution_count": null,
   "metadata": {
    "deletable": false,
    "editable": false
   },
   "outputs": [],
   "source": [
    "x=20\n",
    "y=13\n",
    "print(x+3 > y)"
   ]
  },
  {
   "cell_type": "markdown",
   "metadata": {
    "deletable": false,
    "editable": false,
    "run_control": {
     "frozen": true
    }
   },
   "source": [
    "<img src=\"img/evaluation_test.png\" alt=\"Évaluation de x+3 >y\"  width=\"600px\"/>"
   ]
  },
  {
   "cell_type": "markdown",
   "metadata": {
    "deletable": false,
    "editable": false,
    "run_control": {
     "frozen": true
    }
   },
   "source": [
    "**Attention :**\n",
    "La comparaison de deux chaînes de caractères se fait selon l'ordre alphabétique.\n",
    "Cette comparaison reposant sur l'encodage des caractères, *les majuscules viennent avant les minuscules*\n",
    "et *les caractères accentués tous après* les autres lettres.\n",
    "Ainsi ces deux tests sont évalués à `False` :"
   ]
  },
  {
   "cell_type": "code",
   "execution_count": null,
   "metadata": {
    "deletable": false,
    "editable": false
   },
   "outputs": [],
   "source": [
    "print(\"abc\" < \"ZZZ\")\n",
    "print(\"hé\" < \"ho\")"
   ]
  },
  {
   "cell_type": "markdown",
   "metadata": {
    "deletable": false,
    "editable": false,
    "run_control": {
     "frozen": true
    }
   },
   "source": [
    "* Il ne faut pas comparer des chaînes de caractères et des nombres !\n",
    "Cela engendre soit un résultat incohérent, soit une erreur.\n",
    "Il faut effectuer une conversion explicite ; par exemple, transformer la chaîne de caractères en un entier.\n",
    "* Il n'est pas possible d'utiliser l'opérateur `==` pour tester l'égalité de deux flottants\n",
    "à cause des problèmes d'arrondi.\n",
    "Par exemple, le test suivant est évalué à `False`:"
   ]
  },
  {
   "cell_type": "code",
   "execution_count": 1,
   "metadata": {
    "deletable": false,
    "editable": false
   },
   "outputs": [
    {
     "name": "stdout",
     "output_type": "stream",
     "text": [
      "False\n"
     ]
    }
   ],
   "source": [
    "print (0.2 + 0.1 == 0.3) # Affiche False"
   ]
  },
  {
   "cell_type": "markdown",
   "metadata": {
    "deletable": false,
    "editable": false,
    "run_control": {
     "frozen": true
    }
   },
   "source": [
    "En effet, la valeur rangée en mémoire pour 0.3 est en fait\n",
    "`0.299999999999999988897769753748434595763683319091796875` et celle de 0.2 + 0.1 est\n",
    "`0.3000000000000000444089209850062616169452667236328125`. Même si ces valeurs sont très proches,\n",
    "elles sont différentes !\n",
    "\n",
    "Pour comparer deux flottants, on utilisera l'instruction `math.isclose`\n",
    "qui prend ces nombres en paramètre et renvoie `True` s'ils sont proches\n",
    "(à $10^{-9}$ près par défaut) et `False` sinon.\n",
    "Attention, `math.isclose` est défini dans le paquetage `math`.\n",
    "Il faut donc l'importer selon l'une des 2 syntaxes ci-dessous (une seule fois) avant de l'utiliser."
   ]
  },
  {
   "cell_type": "code",
   "execution_count": 3,
   "metadata": {
    "deletable": false,
    "editable": false
   },
   "outputs": [
    {
     "name": "stdout",
     "output_type": "stream",
     "text": [
      "True\n"
     ]
    }
   ],
   "source": [
    "import math\n",
    "\n",
    "print(math.isclose(0.2 + 0.1, 0.3)) # Affiche True"
   ]
  },
  {
   "cell_type": "code",
   "execution_count": null,
   "metadata": {
    "deletable": false,
    "editable": false
   },
   "outputs": [],
   "source": [
    "from math import *\n",
    "\n",
    "print(isclose(0.2 + 0.1, 0.3)) # Affiche True"
   ]
  },
  {
   "cell_type": "markdown",
   "metadata": {
    "deletable": false,
    "editable": false,
    "run_control": {
     "frozen": true
    },
    "slideshow": {
     "slide_type": "slide"
    }
   },
   "source": [
    "### Tests complexes"
   ]
  },
  {
   "cell_type": "markdown",
   "metadata": {
    "slideshow": {
     "slide_type": "slide"
    }
   },
   "source": [
    "On peut combiner des tests simples grâce aux opérateurs logiques `and`, `or` et `not`. \n",
    "L’évaluation se fait en deux étapes :\n",
    "1. chaque test simple est évalué,\n",
    "2. le test complexe qui en résulte est évalué en fonction de la table de vérité :\n",
    "\n",
    "\n",
    "|   E1   |   E2  |  E1 and E2 | E1 or E2   | not E1 |\n",
    "| -------| ----- | ---------: | ---------: | -----: | \n",
    "| True   | True  |    True    |    True    | False  |\n",
    "| True   | False |    False   |    True    | False  |\n",
    "| False  | True  |    False   |    True    | True   |\n",
    "| False  | False |    False   |    False   | True   |\n",
    "\n",
    "\n",
    "**Remarque :** Dans une expression de type `E1 and E2` (resp. `E1 or E2`), `E2` n’est pas évalué si `E1` vaut `False` (resp. `True`)."
   ]
  },
  {
   "cell_type": "markdown",
   "metadata": {
    "deletable": false,
    "editable": false,
    "run_control": {
     "frozen": true
    },
    "slideshow": {
     "slide_type": "slide"
    }
   },
   "source": [
    "### Tests équivalents"
   ]
  },
  {
   "cell_type": "markdown",
   "metadata": {
    "slideshow": {
     "slide_type": "slide"
    }
   },
   "source": [
    "Certains tests sont équivalents car ils donnent la même valeur (`True` ou `False`) suivant les valeurs en entrée.\n",
    "\n",
    "\n",
    "| Test   | Test équivalent |\n",
    "|:-------|:---------------|\n",
    "| E==True  | E |\n",
    "| E==False | not(E) |\n",
    "| not(E1 and E2) | not(E1) or not(E2) |\n",
    "| not(E1 or E2) | not(E1) and not(E2) |\n",
    "| not(E1 < E2) | E1 >= E2 |  \n",
    "| not(E1<= E2) | E1 > E2 | \n",
    "| not(E1 >  E2)| E1 <= E2 | \n",
    "| not(E1 >= E2)| E1 < E2 | \n",
    "| not(E1 == E2)| E1 != E2 | \n",
    "| not(E1 != E2)| E1 == E2 | "
   ]
  },
  {
   "cell_type": "markdown",
   "metadata": {
    "deletable": false,
    "editable": false,
    "run_control": {
     "frozen": true
    }
   },
   "source": [
    "- Sur ce thème : **Exercices 1 et 2, TD2**"
   ]
  },
  {
   "cell_type": "markdown",
   "metadata": {
    "deletable": false,
    "editable": false,
    "run_control": {
     "frozen": true
    }
   },
   "source": [
    "## Comment faire des choix au sein d'un algorithme ?"
   ]
  },
  {
   "cell_type": "markdown",
   "metadata": {
    "deletable": false,
    "editable": false,
    "run_control": {
     "frozen": true
    }
   },
   "source": [
    "### Structure de contrôle conditionnelle `if`"
   ]
  },
  {
   "cell_type": "markdown",
   "metadata": {
    "deletable": false,
    "editable": false,
    "run_control": {
     "frozen": true
    }
   },
   "source": [
    "#### Définition"
   ]
  },
  {
   "cell_type": "markdown",
   "metadata": {
    "deletable": false,
    "editable": false,
    "run_control": {
     "frozen": true
    }
   },
   "source": [
    "La structure de contrôle (ou structure de commande) conditionnelle `if`\n",
    "permet que certaines instructions soient exécutées uniquement si une `condition`\n",
    "(c'est-à-dire un test) est évaluée à `True`. Sa syntaxe est la suivante :\n",
    "\n",
    "```python\n",
    "if condition : \n",
    "\tinstruction 1\n",
    "    instruction 2\n",
    "    ...\n",
    "    instruction n\n",
    "```\n",
    "\n",
    "Les `instructions` de `1` à `n` forment le *bloc d'instructions associé* au `if`.\n",
    "Elles sont toutes **indentées** par rapport au `if`, c'est-à-dire décalées vers la droite\n",
    " grâce à l'insertion d'espaces. Le bloc peut contenir n'importe quelles instructions :\n",
    " affectation de variables, affichage, saisie, autre `if`, etc.\n",
    "\n",
    "**Remarque :** Les instructions du bloc doivent être alignées.\n",
    " On choisit généralement d'insérer une tabulation ou 4 espaces pour indenter.\n",
    "\n",
    "\n",
    "Lorsque l'interpréteur exécute l'instruction `if`, il évalue la `condition` du `if`.\n",
    " Si elle est évaluée à `True`, alors les `instructions 1` à `n` sont exécutées de manière séquentielle.\n",
    " Sinon, aucune instruction n'est exécutée ; l'interpréteur passe à la première instruction qui suit le bloc\n",
    " (qui est au même niveau d'indentation que le `if`)."
   ]
  },
  {
   "cell_type": "markdown",
   "metadata": {
    "deletable": false,
    "editable": false,
    "run_control": {
     "frozen": true
    }
   },
   "source": [
    "#### Exemple"
   ]
  },
  {
   "cell_type": "code",
   "execution_count": null,
   "metadata": {
    "deletable": false,
    "editable": false
   },
   "outputs": [],
   "source": [
    "pression=100\n",
    "print(\"Température ? \")\n",
    "temperature = int(input())\n",
    "if temperature > 55 :\n",
    "     print(\"Alerte !\")            #indentation obligatoire\n",
    "     pression = pression - 5      #indentation obligatoire\n",
    "print(\"Pression dans le système : \", str(pression), \" bar\") # ceci ne fait pas partie du \"if\""
   ]
  },
  {
   "cell_type": "markdown",
   "metadata": {
    "deletable": false,
    "editable": false,
    "run_control": {
     "frozen": true
    }
   },
   "source": [
    "Dans l'exemple ci-dessus, les instructions s'enchaînent différemment selon la valeur entrée\n",
    "par l'utilisateur. La figure suivante représente les deux enchaînements possibles.\n",
    "Les numéros sont les numéros de lignes de l'exemple précédent.\n",
    "\n",
    "<img src=\"img/if.png\" alt=\"Drawing\" style=\"height: 400px;\"/>"
   ]
  },
  {
   "cell_type": "markdown",
   "metadata": {
    "deletable": false,
    "editable": false,
    "run_control": {
     "frozen": true
    }
   },
   "source": [
    "- Sur ce thème : **Exercice 3, TD2**"
   ]
  },
  {
   "cell_type": "markdown",
   "metadata": {
    "deletable": false,
    "editable": false,
    "run_control": {
     "frozen": true
    }
   },
   "source": [
    "### Structure de contrôle conditionnelle `if`, `else`"
   ]
  },
  {
   "cell_type": "markdown",
   "metadata": {
    "deletable": false,
    "editable": false,
    "run_control": {
     "frozen": true
    }
   },
   "source": [
    "#### Définition"
   ]
  },
  {
   "cell_type": "markdown",
   "metadata": {
    "deletable": false,
    "editable": false,
    "run_control": {
     "frozen": true
    }
   },
   "source": [
    "Cette structure de contrôle permet d’exécuter une suite d’instructions si `condition` est\n",
    "évaluée à `True`, et une autre suite d'instructions si `condition` est évaluée à `False`.\n",
    "Sa syntaxe est la suivante : \n",
    "\n",
    "```python\n",
    "if condition : \n",
    "\tBloc instructions 1\n",
    "else:\n",
    "    Bloc instructions 2\n",
    "```\n",
    "\n",
    "Les blocs sont des suites d'instructions. Si `condition` est vraie, les instructions\n",
    "du `Bloc 1` sont exécutées ; sinon, ce sont les instructions du `Bloc 2`qui sont exécutées."
   ]
  },
  {
   "cell_type": "markdown",
   "metadata": {
    "deletable": false,
    "editable": false,
    "run_control": {
     "frozen": true
    }
   },
   "source": [
    "#### Exemple"
   ]
  },
  {
   "cell_type": "code",
   "execution_count": null,
   "metadata": {
    "deletable": false,
    "editable": false
   },
   "outputs": [],
   "source": [
    "print(\"Température ? \")\n",
    "temperature = int(input())\n",
    "if temperature > 55 :\n",
    "    print(\"Alerte !\")  #indentation obligatoire\n",
    "else : \n",
    "    print(\"RAS\")       #indentation obligatoire\n",
    "print(\"Fin du contrôle de la température\")"
   ]
  },
  {
   "cell_type": "markdown",
   "metadata": {},
   "source": [
    "Les deux enchaînements possibles d'instructions de cet exemple sont représentés par la figure suivante.\n",
    "\n",
    "<img src=\"img/if_else.png\" alt=\"Drawing\" style=\"height: 350px;\"/>"
   ]
  },
  {
   "cell_type": "markdown",
   "metadata": {
    "deletable": false,
    "editable": false,
    "run_control": {
     "frozen": true
    }
   },
   "source": [
    "- Sur ce thème : **Exercice 4, TD2**"
   ]
  },
  {
   "cell_type": "markdown",
   "metadata": {
    "deletable": false,
    "editable": false,
    "run_control": {
     "frozen": true
    }
   },
   "source": [
    "### Structure de contrôle conditionnelle `if`, `elif`, `else`"
   ]
  },
  {
   "cell_type": "markdown",
   "metadata": {
    "deletable": false,
    "editable": false,
    "run_control": {
     "frozen": true
    }
   },
   "source": [
    "#### Définition"
   ]
  },
  {
   "cell_type": "markdown",
   "metadata": {
    "deletable": false,
    "editable": false,
    "run_control": {
     "frozen": true
    }
   },
   "source": [
    "Les alternatives peuvent être imbriquées pour exprimer des choix\n",
    "\"complexes\" et exclusifs, ce qui permet d'affiner le traitement.\n",
    "\n",
    "L'instruction `elif`, contraction de *else if* (sinon si), permet\n",
    "d'exécuter un bloc d'instructions si la condition associée est vraie.\n",
    "Cependant, la condition ne sera évaluée que si toutes\n",
    "les conditions du `if` et des `elif` précédents sont fausses.\n",
    "Dans une structure `if`, `elif`, `else`, on\n",
    "peut avoir autant d'instructions `elif` que nécessaire. \n",
    "\n",
    "La syntaxe est la suivante :\n",
    "```python\n",
    "if condition 1: \n",
    "\tBloc instructions 1\n",
    "elif condition 2:\n",
    "    Bloc instructions 2\n",
    "elif condition 3:\n",
    "    Bloc instructions 3\n",
    "else:\n",
    "    Bloc instructions 4\n",
    "```\n",
    "Quand chaque bloc est-il exécuté ?\n",
    "* le bloc d'instructions 1 est exécuté si `condition 1` est vraie,\n",
    "* le bloc d'instructions 2 est exécuté si `condition 1` est fausse et que `condition 2` est vraie,\n",
    "* le bloc d'instructions 3 est exécuté si `condition 1` et `conditions 2` sont fausses et que `condition 3` est vraie,\n",
    "* le bloc d'instructions 4 est exécuté si `condition 1`, `condition 2` et `condition 3` sont fausses.\n",
    "\n",
    "Donc **un seul bloc d'instructions sera exécuté !**\n",
    "\n",
    "*Remarque :* Il est possible de ne pas avoir de `else` si on ne veut rien faire quand toutes les\n",
    "conditions sont fausses. Dans ce cas, exactement un bloc est exécuté si une des conditions est vraie.\n",
    "Sinon aucun bloc n'est exécuté."
   ]
  },
  {
   "cell_type": "markdown",
   "metadata": {
    "deletable": false,
    "editable": false,
    "run_control": {
     "frozen": true
    }
   },
   "source": [
    "#### Exemple"
   ]
  },
  {
   "cell_type": "code",
   "execution_count": null,
   "metadata": {
    "deletable": false,
    "editable": false
   },
   "outputs": [],
   "source": [
    "print(\"Température ? \")\n",
    "temperature = int(input())\n",
    "if temperature > 75 :     # temperature > 75\n",
    "  print(\"Attention, danger d'explosion !!!\") \n",
    "elif  temperature > 55 :  # temperature > 55 et <= 75\n",
    "  print(\"Alerte !\") \n",
    "else :                    # temperature <= 55\n",
    "  print(\"RAS\")\n",
    "print(\"Fin du contrôle de la température\")"
   ]
  },
  {
   "cell_type": "markdown",
   "metadata": {
    "deletable": false,
    "editable": false,
    "run_control": {
     "frozen": true
    }
   },
   "source": [
    "Les trois enchaînements possibles d'instructions de l'exemple précédent sont représentés par la figure suivante.\n",
    "\n",
    "<img src=\"img/if_elif.png\" alt=\"Drawing\" style=\"height: 450px;\"/>"
   ]
  },
  {
   "cell_type": "markdown",
   "metadata": {
    "deletable": false,
    "editable": false,
    "run_control": {
     "frozen": true
    }
   },
   "source": [
    "- Sur ce thème : **Exercices 5 à 7, TD2**"
   ]
  }
 ],
 "metadata": {
  "@webio": {
   "lastCommId": "5dda2279b965403c898e4b2e08f6cecf",
   "lastKernelId": "6d91693b-12e4-4ea7-b2a1-0e4310796ab0"
  },
  "kernelspec": {
   "display_name": "Python 3 (ipykernel)",
   "language": "python",
   "name": "python3"
  },
  "language_info": {
   "codemirror_mode": {
    "name": "ipython",
    "version": 3
   },
   "file_extension": ".py",
   "mimetype": "text/x-python",
   "name": "python",
   "nbconvert_exporter": "python",
   "pygments_lexer": "ipython3",
   "version": "3.11.4"
  },
  "latex_envs": {
   "LaTeX_envs_menu_present": true,
   "autoclose": false,
   "autocomplete": true,
   "bibliofile": "biblio.bib",
   "cite_by": "apalike",
   "current_citInitial": 1,
   "eqLabelWithNumbers": true,
   "eqNumInitial": 1,
   "hotkeys": {
    "equation": "Ctrl-E",
    "itemize": "Ctrl-I"
   },
   "labels_anchors": false,
   "latex_user_defs": false,
   "report_style_numbering": false,
   "user_envs_cfg": false
  },
  "toc": {
   "base_numbering": 1,
   "nav_menu": {},
   "number_sections": true,
   "sideBar": true,
   "skip_h1_title": false,
   "title_cell": "Table of Contents",
   "title_sidebar": "Contents",
   "toc_cell": false,
   "toc_position": {},
   "toc_section_display": true,
   "toc_window_display": false
  },
  "varInspector": {
   "cols": {
    "lenName": 16,
    "lenType": 16,
    "lenVar": 40
   },
   "kernels_config": {
    "python": {
     "delete_cmd_postfix": "",
     "delete_cmd_prefix": "del ",
     "library": "var_list.py",
     "varRefreshCmd": "print(var_dic_list())"
    },
    "r": {
     "delete_cmd_postfix": ") ",
     "delete_cmd_prefix": "rm(",
     "library": "var_list.r",
     "varRefreshCmd": "cat(var_dic_list()) "
    }
   },
   "types_to_exclude": [
    "module",
    "function",
    "builtin_function_or_method",
    "instance",
    "_Feature"
   ],
   "window_display": false
  }
 },
 "nbformat": 4,
 "nbformat_minor": 2
}
