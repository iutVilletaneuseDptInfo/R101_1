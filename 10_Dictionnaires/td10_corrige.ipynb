{
 "cells": [
  {
   "cell_type": "markdown",
   "metadata": {
    "deletable": false,
    "editable": false,
    "run_control": {
     "frozen": true
    }
   },
   "source": [
    "# <center> Chapitre 10 : Dictionnaires - TD  Corrigé</center>"
   ]
  },
  {
   "cell_type": "markdown",
   "metadata": {
    "deletable": false,
    "editable": false,
    "run_control": {
     "frozen": true
    }
   },
   "source": [
    "### Exercice 1 : Test de compréhension*"
   ]
  },
  {
   "cell_type": "markdown",
   "metadata": {
    "deletable": false,
    "editable": false,
    "run_control": {
     "frozen": true
    }
   },
   "source": [
    "* On définit le dictionnaire suivant représentant des informations sur les étudiants inscrits dans un cours"
   ]
  },
  {
   "cell_type": "code",
   "execution_count": null,
   "metadata": {
    "deletable": false,
    "editable": false
   },
   "outputs": [],
   "source": [
    "cours = {'nom_cours': 'Python', 'theme': 'Algorithmique', 'nb_etudiants': 115 }"
   ]
  },
  {
   "cell_type": "markdown",
   "metadata": {
    "deletable": false,
    "editable": false,
    "run_control": {
     "frozen": true
    }
   },
   "source": [
    "* Que permettent de faire les commandes suivantes ?"
   ]
  },
  {
   "cell_type": "code",
   "execution_count": null,
   "metadata": {
    "deletable": false,
    "editable": false
   },
   "outputs": [],
   "source": [
    "print(list(cours.values()))"
   ]
  },
  {
   "cell_type": "code",
   "execution_count": null,
   "metadata": {
    "deletable": false,
    "editable": false
   },
   "outputs": [],
   "source": [
    "print(list(cours))"
   ]
  },
  {
   "cell_type": "code",
   "execution_count": null,
   "metadata": {
    "deletable": false,
    "editable": false
   },
   "outputs": [],
   "source": [
    "print(cours['theme'])"
   ]
  },
  {
   "cell_type": "code",
   "execution_count": null,
   "metadata": {
    "deletable": false,
    "editable": false
   },
   "outputs": [],
   "source": [
    "print(cours['nb_etudiants'])"
   ]
  },
  {
   "cell_type": "markdown",
   "metadata": {
    "deletable": false,
    "editable": false,
    "solution2": "hidden",
    "solution2_first": true
   },
   "source": [
    "* Quel est le type de `cours['theme']` et de `cours['nb_etudiants']` ? Comment le vérifier ?  "
   ]
  },
  {
   "cell_type": "code",
   "execution_count": null,
   "metadata": {
    "deletable": false,
    "editable": false,
    "solution2": "hidden"
   },
   "outputs": [],
   "source": [
    "#------------------------------#\n",
    "#    CORRECTION  ! ! ! ! ! !   #\n",
    "#------------------------------#\n",
    "print(type(cours['theme']))\n",
    "print(type(cours['nb_etudiants']))"
   ]
  },
  {
   "cell_type": "markdown",
   "metadata": {
    "deletable": false,
    "editable": false,
    "run_control": {
     "frozen": true
    }
   },
   "source": [
    "### Exercice 2 : Planètes et satellites *\n",
    "\n",
    "#### Question 1 : Définition d'un dictionnaire"
   ]
  },
  {
   "cell_type": "markdown",
   "metadata": {
    "deletable": false,
    "editable": false,
    "run_control": {
     "frozen": true
    },
    "solution2": "hidden",
    "solution2_first": true
   },
   "source": [
    "Définir le dictionnaire `lunes` représenté ci-dessous. Ce dictionnaire stocke le nombre de satellites de chaque planètes. Dans un premier temps, définir de façon littérale le dictionnaire pour les 4 premiers couples ``clef:valeur`` puis ajouter successivement les 4 derniers couples.\n",
    "\n",
    "clef| \"Mercure\"|\"Vénus\"|\"Terre\"|\"Mars\"|\"Jupiter\"|\"Saturne\"|\"Uranus\"|\"Neptune\"|\n",
    "----|----------|-------|-------|------|---------|---------|--------|---------|\n",
    "valeur |0|0|1|2|95|146|27|11|"
   ]
  },
  {
   "cell_type": "code",
   "execution_count": null,
   "metadata": {
    "deletable": false,
    "editable": false,
    "solution2": "hidden"
   },
   "outputs": [],
   "source": [
    "#------------------------------#\n",
    "#    CORRECTION  ! ! ! ! ! !   #\n",
    "#------------------------------#\n",
    "lunes  = {'Mercure':0,'Venus':0,'Terre':1,'Mars':2}\n",
    "print(lunes)\n",
    "lunes['Jupiter']=95\n",
    "lunes['Saturne']=146\n",
    "lunes['Uranus']=27\n",
    "lunes['Neptune']=11\n",
    "print(lunes)"
   ]
  },
  {
   "cell_type": "markdown",
   "metadata": {
    "deletable": false,
    "editable": false,
    "run_control": {
     "frozen": true
    },
    "solution2": "hidden",
    "solution2_first": true
   },
   "source": [
    "#### Question  2 : Exploration d'un dictionnaire\n",
    "\n",
    "A partir du dictionnaire défini à la question précédente, proposer un programme permettant de:\n",
    "- modifier le dictionnaire précédent pour corriger une erreur qui s'est glissée dans l'énoncé : la planète `\"Neptune\"` comporte en fait 14 satellites.\n",
    "- afficher le nombre de satellites de la `\"Terre\"`,\n",
    "- afficher la liste des planètes,\n",
    "- afficher le nombre de satellites de chaque planète,\n",
    "- afficher le nombre total de satellites."
   ]
  },
  {
   "cell_type": "code",
   "execution_count": null,
   "metadata": {
    "deletable": false,
    "editable": false,
    "solution2": "hidden"
   },
   "outputs": [],
   "source": [
    "#------------------------------#\n",
    "#    CORRECTION  ! ! ! ! ! !   #\n",
    "#------------------------------#\n",
    "lunes[\"Neptune\"]=14\n",
    "print(lunes[\"Terre\"])\n",
    "print(list(lunes))\n",
    "print(list(lunes.values()))\n",
    "satellites= list(lunes.values())\n",
    "\n",
    "somme = 0 \n",
    "i=0\n",
    "while i<len(satellites):\n",
    "    somme+=satellites[i]\n",
    "    i+=1\n",
    "print(\"Le nombre total de satellites est \", somme)\n",
    "\n",
    "#solution avec for ..in \n",
    "somme2=0\n",
    "for s in satellites:\n",
    "    somme2+=s\n",
    "print(\"Le nombre total de satellites est \", somme2)"
   ]
  },
  {
   "cell_type": "markdown",
   "metadata": {
    "deletable": false,
    "editable": false,
    "run_control": {
     "frozen": true
    }
   },
   "source": [
    "### Exercice 3 :  Le chiffrement ROT-13**\n",
    "\n",
    "En cryptographie,le chiffrement de César est une technique de cryptage très simple dans laquelle chaque lettre du texte est remplacée par une autre lettre dans l'alphabet avec un décalage des lettres. Les caractères autres que les lettres sont inchangés.<br>\n",
    "\n",
    "Par exemple, avec un décalage de 3, \"A\" serait remplacé par \"D\", \"B\" deviendrait \"E\", etc.<br> \n",
    "\n",
    "La méthode porte le nom de Jules César, qui l'utilisait pour communiquer avec ses généraux.<br>\n",
    "\n",
    "ROT-13 (\"rotation de 13 cases\") est un exemple très utilisé de ce type de chiffrement où le décalage est de 13. En Python, la clé de chiffrement pour ROT-13 peut être représentée au moyen du dictionnaire suivant :"
   ]
  },
  {
   "cell_type": "code",
   "execution_count": null,
   "metadata": {
    "deletable": false,
    "editable": false
   },
   "outputs": [],
   "source": [
    "keys={'a': 'n', 'b': 'o', 'c': 'p', 'd': 'q', 'e': 'r', 'f': 's', \n",
    "      'g': 't', 'h': 'u', 'i': 'v', 'j': 'w', 'k': 'x', 'l': 'y', \n",
    "      'm': 'z', 'n': 'a', 'o': 'b', 'p': 'c', 'q': 'd', 'r': 'e', \n",
    "      's': 'f', 't': 'g', 'u': 'h', 'v': 'i', 'w': 'j', 'x': 'k',\n",
    "      'y': 'l', 'z': 'm', 'A': 'N', 'B': 'O', 'C': 'P', 'D': 'Q', \n",
    "      'E': 'R', 'F': 'S', 'G': 'T', 'H': 'U', 'I': 'V', 'J': 'W', \n",
    "      'K': 'X', 'L': 'Y', 'M': 'Z', 'N': 'A', 'O': 'B', 'P': 'C', \n",
    "      'Q': 'D', 'R': 'E', 'S': 'F', 'T': 'G', 'U': 'H', 'V': 'I', \n",
    "      'W': 'J', 'X': 'K', 'Y': 'L', 'Z': 'M'}"
   ]
  },
  {
   "cell_type": "markdown",
   "metadata": {
    "deletable": false,
    "editable": false,
    "run_control": {
     "frozen": true
    },
    "solution2": "shown",
    "solution2_first": true
   },
   "source": [
    "#### Question 1 :  Codage d'un message\n",
    "\n",
    "- Ecrire une fonction `cesar(message)` qui permet en utilisant le dictionnaire `keys` de coder un message grâce à ROT-13. \n",
    "\n",
    "- Comment décoder un message chiffré à l'aide ROT-13 ? \n",
    "\n",
    "**NB** : On peut tester si un caractère `c` est une minuscule grâce au test `'a'<= and c <='z'`. De même, on peut tester sui un caractère `c` une majuscule grâce au test `'A'<=c and c<='Z'`."
   ]
  },
  {
   "cell_type": "code",
   "execution_count": null,
   "metadata": {
    "deletable": false,
    "editable": false,
    "solution2": "shown"
   },
   "outputs": [],
   "source": [
    "#------------------------------#\n",
    "#    CORRECTION  ! ! ! ! ! !   #\n",
    "#------------------------------#\n",
    "def cesar(message):\n",
    "    result = \"\"\n",
    "    i=0\n",
    "    while  i<len(message):\n",
    "        c=message[i]\n",
    "        if 'a'<=c<='z' or 'A' <= c <='Z': # on teste juste l'ordre \n",
    "            result += keys[c]\n",
    "        else: \n",
    "            result += c\n",
    "        i=i+1\n",
    "    return result  \n",
    "\n",
    "#2eme solution plus coûteuse en temps\n",
    "def cesar2(message):\n",
    "    result = \"\"\n",
    "    i=0\n",
    "    while  i<len(message):\n",
    "        c=message[i]\n",
    "        if c in keys:  # on parcourt toutes les clés - c'est coûteux en temps\n",
    "            result += keys[c]\n",
    "        else: \n",
    "            result += c\n",
    "        i=i+1\n",
    "    return result  "
   ]
  },
  {
   "cell_type": "markdown",
   "metadata": {
    "deletable": false,
    "editable": false,
    "solution2": "hidden",
    "solution2_first": true
   },
   "source": [
    "#### Question 2 : Coder et décoder un message\n",
    "- Coder le message \"Je suis etudiant a l'IUT\", puis décoder le message pour vérifier."
   ]
  },
  {
   "cell_type": "code",
   "execution_count": null,
   "metadata": {
    "deletable": false,
    "editable": false,
    "solution2": "hidden"
   },
   "outputs": [],
   "source": [
    "#------------------------------#\n",
    "#    CORRECTION  ! ! ! ! ! !   #\n",
    "#------------------------------#\n",
    "texte=cesar(\"Je suis etudiant a l'IUT\")\n",
    "print(texte) \n",
    "print(cesar(texte))"
   ]
  },
  {
   "cell_type": "markdown",
   "metadata": {
    "deletable": false,
    "editable": false,
    "run_control": {
     "frozen": true
    }
   },
   "source": [
    "## Pour aller plus loin"
   ]
  },
  {
   "cell_type": "markdown",
   "metadata": {
    "deletable": false,
    "editable": false
   },
   "source": [
    "### Exercice 4 : Codage de Morse***\n",
    "\n",
    "Le Morse est un schéma de codage qui utilise des tirets et des points pour représenter les chiffres et les lettres. \n",
    "\n",
    "Le dictionnaire donnant la correspondance entre les lettres majuscules et les chiffres et leur codage est le suivant :"
   ]
  },
  {
   "cell_type": "code",
   "execution_count": null,
   "metadata": {
    "deletable": false,
    "editable": false
   },
   "outputs": [],
   "source": [
    "dico = {'A':'.-','B':'-...','C':'-.-.','D':'-..','E':'.','F':'..-.',\n",
    "        'G':'--.','H':'....','I':'..','J':'.---','K':'-.-',\n",
    "        'L':'.-..','M':'--','N':'-.','O':'---','P':'.--.',\n",
    "        'Q':'--.-','R':'.-.','S':'...','T':'-','U':'..-', \n",
    "        'V':'...-','W':'.--','X':'-..-','Y':'-.--','Z':'--..',\n",
    "        '0':'-----','1':'.----','2':'..---','3':'...--','4':'....-',\n",
    "        '5':'.....','6':'-....','7':'--...','8':'---..','9':'----.'}"
   ]
  },
  {
   "cell_type": "markdown",
   "metadata": {
    "deletable": false,
    "editable": false,
    "run_control": {
     "frozen": true
    },
    "solution2": "hidden",
    "solution2_first": true
   },
   "source": [
    "#### Question 1 :  Codage d'un texte en Morse \n",
    "\n",
    "a) Ecrire une fonction `morse` qui \n",
    "- prend en paramètre une chaîne de caractères `texte` \n",
    "- transforme les minuscules de cette chaîne en majuscules \n",
    "- traduit chaque lettre et chaque chiffre du texte en code Morse, en laissant un espace entre chaque suite de tirets et de points. \n",
    "- ne tient pas compte des caractères non-alphanumériques\n",
    "- et retourne la chaîne codée. \n",
    "\n",
    "b) Utiliser cette fonction pour coder en Morse `Hello world !`.\n",
    "\n",
    "**Rappel** : \n",
    "\n",
    "- La méthode `chaine.upper()` retourne la chaine de caractères obtenue à partir de `chaine`en remplaçant les lettres minuscules par des lettres majuscules.\n",
    "- La méthode `chaine.isalnum()` retoune `True` si tous les caractères de `chaine`sont alphanumériques (lettres ou chiffres) et s'il y a au moins un caractère et `False` dans le cas contraire. "
   ]
  },
  {
   "cell_type": "code",
   "execution_count": null,
   "metadata": {
    "deletable": false,
    "editable": false,
    "solution2": "hidden"
   },
   "outputs": [],
   "source": [
    "#------------------------------#\n",
    "#    CORRECTION  ! ! ! ! ! !   #\n",
    "#------------------------------#\n",
    "def morse(texte):\n",
    "    # passage de minuscules en majuscules\n",
    "    Texte=texte.upper()\n",
    "    code=\"\"\n",
    "    i=0\n",
    "    while i< len(Texte):\n",
    "        if Texte[i].isalnum() :\n",
    "            code+= dico[Texte[i]]+' '\n",
    "        i+=1\n",
    "    return code\n",
    "            \n",
    "code= morse(\"Hello world !\")\n",
    "print(code)"
   ]
  },
  {
   "cell_type": "markdown",
   "metadata": {
    "deletable": false,
    "editable": false,
    "solution2": "hidden",
    "solution2_first": true
   },
   "source": [
    "#### Question 2 : Construction du dictionnaire de décodage\n",
    "Ecrire les instructions permettant de fabriquer le dictionnaire `decodage` permettant de décoder le code Morse."
   ]
  },
  {
   "cell_type": "code",
   "execution_count": null,
   "metadata": {
    "deletable": false,
    "editable": false,
    "solution2": "hidden"
   },
   "outputs": [],
   "source": [
    "#------------------------------#\n",
    "#    CORRECTION  ! ! ! ! ! !   #\n",
    "#------------------------------#\n",
    "clefs=list(dico)\n",
    "valeurs=list(dico.values())\n",
    "\n",
    "decodage={}\n",
    "i=0\n",
    "while i<len(valeurs):\n",
    "    decodage[valeurs[i]]=clefs[i]\n",
    "    i+=1\n",
    "#Construction plus directe avec zip et un cast\n",
    "#decodage=dict(zip(valeurs,clefs))\n",
    "\n",
    "print(decodage)"
   ]
  },
  {
   "cell_type": "markdown",
   "metadata": {
    "deletable": false,
    "editable": false
   },
   "source": [
    "#### Question 3 : Décodage d'un texte en Morse \n",
    "\n",
    "- Ecrire une fonction `decode_morse` qui prend en paramètre une chaîne de caractères correspondant à un code Morse et renvoie le décodage obtenu en utilisant le dictionnaire `decodage`.\n",
    "\n",
    "- Utiliser cette fonction pour de coder le `mot` ci-dessous."
   ]
  },
  {
   "cell_type": "code",
   "execution_count": null,
   "metadata": {
    "deletable": false,
    "editable": false,
    "solution2": "hidden",
    "solution2_first": true
   },
   "outputs": [],
   "source": [
    "mot =\".... . .-.. .-.. --- .-- --- .-. .-.. -..\""
   ]
  },
  {
   "cell_type": "code",
   "execution_count": null,
   "metadata": {
    "deletable": false,
    "editable": false,
    "solution2": "hidden"
   },
   "outputs": [],
   "source": [
    "#------------------------------#\n",
    "#    CORRECTION  ! ! ! ! ! !   #\n",
    "#------------------------------#\n",
    "def decode_morse(texte):\n",
    "    decode=\"\"\n",
    "    s=\"\"\n",
    "    i=0\n",
    "    while i< len(texte):  \n",
    "        if texte[i]!=' ' :\n",
    "            s+= texte[i]\n",
    "        else :\n",
    "            decode+=decodage[s]\n",
    "            s=\"\"\n",
    "        i+=1\n",
    "    return decode\n",
    "            \n",
    "decode= decode_morse(mot)\n",
    "print(decode)"
   ]
  }
 ],
 "metadata": {
  "kernelspec": {
   "display_name": "Python 3 (ipykernel)",
   "language": "python",
   "name": "python3"
  },
  "language_info": {
   "codemirror_mode": {
    "name": "ipython",
    "version": 3
   },
   "file_extension": ".py",
   "mimetype": "text/x-python",
   "name": "python",
   "nbconvert_exporter": "python",
   "pygments_lexer": "ipython3",
   "version": "3.11.4"
  },
  "latex_envs": {
   "LaTeX_envs_menu_present": true,
   "autoclose": false,
   "autocomplete": true,
   "bibliofile": "biblio.bib",
   "cite_by": "apalike",
   "current_citInitial": 1,
   "eqLabelWithNumbers": true,
   "eqNumInitial": 1,
   "hotkeys": {
    "equation": "Ctrl-E",
    "itemize": "Ctrl-I"
   },
   "labels_anchors": false,
   "latex_user_defs": false,
   "report_style_numbering": false,
   "user_envs_cfg": false
  },
  "toc": {
   "base_numbering": 1,
   "nav_menu": {},
   "number_sections": true,
   "sideBar": true,
   "skip_h1_title": false,
   "title_cell": "Table of Contents",
   "title_sidebar": "Contents",
   "toc_cell": false,
   "toc_position": {},
   "toc_section_display": true,
   "toc_window_display": false
  }
 },
 "nbformat": 4,
 "nbformat_minor": 2
}
