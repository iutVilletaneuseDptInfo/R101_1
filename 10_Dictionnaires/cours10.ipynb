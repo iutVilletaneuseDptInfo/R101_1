{
 "cells": [
  {
   "cell_type": "markdown",
   "metadata": {
    "deletable": false,
    "editable": false,
    "run_control": {
     "frozen": true
    }
   },
   "source": [
    "# <center> Chapitre 10 : Dictionnaires </center>"
   ]
  },
  {
   "cell_type": "markdown",
   "metadata": {
    "deletable": false,
    "editable": false,
    "run_control": {
     "frozen": true
    }
   },
   "source": [
    "Les dictionnaires sont des structures de données qui, comme les tableaux, permettent de stocker des collections de valeurs. Ils sont utiles dans de nombreuses situations où les tableaux n'offrent plus assez de souplesse ou d'expressivité pour structurer un jeu de données. La particularité principale qui distingue les dictionnaires des tableaux, est que les données sont stockées sous forme de couples **(clef:valeur)**.\n",
    "\n",
    "Dans un tableau, on accède à la valeur des éléments par leur **indice**. \n",
    "\n",
    "**Exemple** :\n",
    "<img src=\"img/x-1.png\" alt=\"Drawing\" style=\"height: 60px;\"/>"
   ]
  },
  {
   "cell_type": "code",
   "execution_count": null,
   "metadata": {
    "deletable": false,
    "editable": false,
    "scrolled": true
   },
   "outputs": [],
   "source": [
    "tab_astro = [\"Terre\", \"Lune\", \"Soleil\"]\n",
    "print(tab_astro[1])"
   ]
  },
  {
   "cell_type": "markdown",
   "metadata": {
    "deletable": false,
    "editable": false,
    "run_control": {
     "frozen": true
    }
   },
   "source": [
    "Dans un dictionnaire, **il n'y a pas de notion d'ordre et donc pas de position**. Pour accéder à une valeur, on utilise  un autre moyen : une **clé** unique associée à chaque valeur lors de la définition du dictionnaire.\n",
    "\n",
    "**Exemple** :\n",
    "<img src=\"img/x-2.png\" alt=\"Drawing\" style=\"height: 60px;\"/>"
   ]
  },
  {
   "cell_type": "code",
   "execution_count": null,
   "metadata": {
    "deletable": false,
    "editable": false
   },
   "outputs": [],
   "source": [
    "dico_astro={'Planete':'Terre', 'Satellite':'Lune', 'Etoile':'Soleil'}\n",
    "print(dico_astro['Satellite'])"
   ]
  },
  {
   "cell_type": "markdown",
   "metadata": {
    "deletable": false,
    "editable": false,
    "run_control": {
     "frozen": true
    }
   },
   "source": [
    "Les dictionnaires sont aussi appelés tableaux associatifs au sens où ils associent des valeurs à des clefs (et non à des positions). Dans le dictionnaire `dico_astro` précédent, trois couples `clef:valeur` sont définis: `'Planete':'Terre'`, ``'Satellite':'Lune'`` et``'Etoile':'Soleil'``.\n",
    "\n",
    "On accède donc différemment aux valeurs stockées dans un tableau et dans un dictionnaire. La façon dont on veut accéder aux valeurs stockées va conditionner le choix entre une structure de données ou l'autre. \n",
    "\n",
    "Pour certains jeux de données, l'utilisation d'un tableau est naturelle car il y a une correspondance simple entre la valeur et sa position. Pour d'autres jeux de données, cette correspondance n'est pas évidente. Dans de nombreux cas, il sera avantageux d'utiliser des dictionnaires."
   ]
  },
  {
   "cell_type": "markdown",
   "metadata": {
    "deletable": false,
    "editable": false,
    "run_control": {
     "frozen": true
    }
   },
   "source": [
    "## Définir un dictionnaire"
   ]
  },
  {
   "cell_type": "markdown",
   "metadata": {
    "deletable": false,
    "editable": false,
    "run_control": {
     "frozen": true
    }
   },
   "source": [
    "Il existe deux façons de définir un dictionnaire.\n",
    "\n",
    "La première façon consiste à donner littéralement l'ensemble des couples `clef:valeur` lors de sa déclaration. La collection de couples  `clef:valeur` est donnée entre accolades `{...}`, et chaque couple est séparé par une virgule `,`. \n",
    "\n",
    "**Exemple** :"
   ]
  },
  {
   "cell_type": "code",
   "execution_count": null,
   "metadata": {
    "deletable": false,
    "editable": false
   },
   "outputs": [],
   "source": [
    "dico_astro={'Planete':'Terre','Satellite':'Lune','Etoile':'Soleil'}"
   ]
  },
  {
   "cell_type": "markdown",
   "metadata": {},
   "source": [
    "La deuxième façon de définir un dictionnaire consiste à déclarer un dictionnaire vide `{}`, puis à le remplir. \n",
    "\n",
    "**Exemple** :\n",
    "```dico_astro2 = {}```"
   ]
  },
  {
   "cell_type": "markdown",
   "metadata": {
    "deletable": false,
    "editable": false,
    "run_control": {
     "frozen": true
    }
   },
   "source": [
    "L'ajout de nouveaux couples ``clef:valeur``  au dictionnaire ``dico_astro2`` ainsi initialisé se fait avec la syntaxe suivante:\n",
    "\n",
    "``dico_astro2[clef] = valeur``\n",
    "\n",
    "On obtient ainsi la suite d'intrusctions ci-dessous :"
   ]
  },
  {
   "cell_type": "code",
   "execution_count": null,
   "metadata": {
    "deletable": false,
    "editable": false
   },
   "outputs": [],
   "source": [
    "dico_astro2 = {}\n",
    "dico_astro2['Planete']= 'Terre'\n",
    "dico_astro2['Satellite']= 'Lune'\n",
    "dico_astro2['Etoile']= 'Soleil'\n",
    "print(dico_astro2)"
   ]
  },
  {
   "cell_type": "markdown",
   "metadata": {
    "deletable": false,
    "editable": false,
    "run_control": {
     "frozen": true
    }
   },
   "source": [
    "## Manipuler un dictionnaire"
   ]
  },
  {
   "cell_type": "markdown",
   "metadata": {
    "deletable": false,
    "editable": false,
    "run_control": {
     "frozen": true
    }
   },
   "source": [
    "Les clefs des dictionnaires jouent en quelque sorte le rôle des indices dans les tableaux :\n",
    "\n",
    "- elles permettent d'accéder à une valeur stockée dans le dictionnaire,\n",
    "- elles permettent de modifier une valeur stockée dans le dictionnaire.\n",
    "\n",
    "Pour illustrer cela, on considère le tableau et le dictionnaires décrits précédemment et qui peuvent être définis de la manière suivante: \n"
   ]
  },
  {
   "cell_type": "code",
   "execution_count": null,
   "metadata": {
    "deletable": false,
    "editable": false
   },
   "outputs": [],
   "source": [
    "tab_astr=['Terre', 'Lune', 'Soleil']\n",
    "dico_astr={'Planete':'Terre', 'Satellite':'Lune', 'Etoile':'Soleil'}"
   ]
  },
  {
   "cell_type": "markdown",
   "metadata": {
    "deletable": false,
    "editable": false,
    "run_control": {
     "frozen": true
    }
   },
   "source": [
    "###  Accéder à une valeur"
   ]
  },
  {
   "cell_type": "markdown",
   "metadata": {
    "deletable": false,
    "editable": false,
    "run_control": {
     "frozen": true
    }
   },
   "source": [
    " Dans un tableau la valeur correspondant à un indice de position donné est accessible en faisant suivre le nom du tableau de l'indice donné entre crochets : "
   ]
  },
  {
   "cell_type": "code",
   "execution_count": null,
   "metadata": {},
   "outputs": [],
   "source": [
    "print(tab_astr[1])"
   ]
  },
  {
   "cell_type": "markdown",
   "metadata": {
    "deletable": false,
    "editable": false
   },
   "source": [
    "- Dans un dictionnaire c'est la même chose, à la différence que l'indice de position est remplacé par la clef : "
   ]
  },
  {
   "cell_type": "code",
   "execution_count": null,
   "metadata": {
    "deletable": false,
    "editable": false
   },
   "outputs": [],
   "source": [
    "print(dico_astr['Satellite'])"
   ]
  },
  {
   "cell_type": "markdown",
   "metadata": {
    "deletable": false,
    "editable": false,
    "run_control": {
     "frozen": true
    }
   },
   "source": [
    "**Lorsqu'on instancie une valeur d'un tableau avec un indice qui dépasse sa taille, l'interpréteur affiche un message d'erreur. Il en est de même si on utilise une clef non contenue dans le dictionnaire lors d'une instanciation.**\n",
    "\n",
    "L'instruction ci-dessous produit ainsi un message signalant une erreur de syntaxe."
   ]
  },
  {
   "cell_type": "code",
   "execution_count": null,
   "metadata": {
    "deletable": false,
    "editable": false
   },
   "outputs": [],
   "source": [
    "print(dico_astr['Galaxie'])"
   ]
  },
  {
   "cell_type": "markdown",
   "metadata": {
    "deletable": false,
    "editable": false,
    "run_control": {
     "frozen": true
    }
   },
   "source": [
    "### Modifier une valeur"
   ]
  },
  {
   "cell_type": "markdown",
   "metadata": {
    "deletable": false,
    "editable": false,
    "run_control": {
     "frozen": true
    }
   },
   "source": [
    "Pour modifier une valeur, on peut affecter une nouvelle valeur à la clef correspondant"
   ]
  },
  {
   "cell_type": "code",
   "execution_count": null,
   "metadata": {
    "deletable": false,
    "editable": false,
    "scrolled": true
   },
   "outputs": [],
   "source": [
    "dico_astr={'Planete':'Terre', 'Satellite':'Lune', 'Etoile':'Soleil'}\n",
    "print(dico_astr)\n",
    "dico_astr['Planete']='Mars'\n",
    "print(dico_astr)"
   ]
  },
  {
   "cell_type": "markdown",
   "metadata": {
    "deletable": false,
    "editable": false,
    "run_control": {
     "frozen": true
    }
   },
   "source": [
    "### Ajouter une valeur"
   ]
  },
  {
   "cell_type": "markdown",
   "metadata": {
    "deletable": false,
    "editable": false,
    "run_control": {
     "frozen": true
    }
   },
   "source": [
    "Pour ajouter une valeur dans un dictionnaire, on peut affecter une valeur à une clef non encore utilisée."
   ]
  },
  {
   "cell_type": "code",
   "execution_count": null,
   "metadata": {
    "deletable": false,
    "editable": false,
    "scrolled": true
   },
   "outputs": [],
   "source": [
    "dico_astr={'Planete':'Terre', 'Satellite':'Lune', 'Etoile':'Soleil'}\n",
    "print(dico_astr)\n",
    "dico_astr['Galaxie'] = 'Voie Lactee'\n",
    "print(dico_astr)"
   ]
  },
  {
   "cell_type": "markdown",
   "metadata": {
    "deletable": false,
    "editable": false,
    "run_control": {
     "frozen": true
    }
   },
   "source": [
    "La syntaxe utilisée pour ajouter une valeur à un dictionnaire est la même que celle employée pour modifier la valeur associée à une clef existante. Pour ajouter une valeur (ou plus exactement ajouter un couple `clef:valeur`, il faut impérativement que la clef ne soit pas encore utilisée dans le dictionnaire. En d'autres termes :\n",
    "- Si on utilise une clef existante, la syntaxe conduit à changer la valeur associée à la clef, et le dictionnaire ne change pas de taille,\n",
    "- Si on utilise une nouvelle clef, la syntaxe ajoute un couple `clef:valeur` au dictionnaire et augmente sa taille."
   ]
  },
  {
   "cell_type": "markdown",
   "metadata": {
    "deletable": false,
    "editable": false,
    "run_control": {
     "frozen": true
    }
   },
   "source": [
    "## Fonctions liées à l'utilisation de dictionnaires   "
   ]
  },
  {
   "cell_type": "markdown",
   "metadata": {
    "deletable": false,
    "editable": false,
    "run_control": {
     "frozen": true
    }
   },
   "source": [
    "### Accéder à la liste des clefs "
   ]
  },
  {
   "cell_type": "markdown",
   "metadata": {
    "deletable": false,
    "editable": false,
    "run_control": {
     "frozen": true
    }
   },
   "source": [
    "* Dans certains cas, il est utile d'avoir accès à la liste des clefs d'un dictionnaire. Cela est réalisé par \n",
    "la fonction ``list()`` qui peut prendre en paramètre un dictionnaire et renvoie alors un tableau dont les éléments sont les clefs du dictionnaire.\n",
    "\n",
    "**Exemple** :"
   ]
  },
  {
   "cell_type": "code",
   "execution_count": null,
   "metadata": {
    "deletable": false,
    "editable": false
   },
   "outputs": [],
   "source": [
    "dico_astr={'Planete':'Terre', 'Satellite':'Lune', 'Etoile':'Soleil'}\n",
    "print(list(dico_astr))"
   ]
  },
  {
   "cell_type": "markdown",
   "metadata": {
    "deletable": false,
    "editable": false,
    "run_control": {
     "frozen": true
    }
   },
   "source": [
    "### Accéder à la liste des valeurs \n",
    "\n",
    "* On peut utiliser la méthode `values()` qui peut prendre en paramètre un dictionnaire et renvoie alors un tableau dont les éléments sont les valeurs du dictionnaire.\n",
    "\n",
    "* On utilise ensuite la fonction `list()` pour extraire les éléments du résultat et en faire un tableau exploitable. "
   ]
  },
  {
   "cell_type": "code",
   "execution_count": null,
   "metadata": {
    "deletable": false,
    "editable": false
   },
   "outputs": [],
   "source": [
    "dico_astr={'Planete':'Terre', 'Satellite':'Lune', 'Etoile':'Soleil'}\n",
    "print(list(dico_astr.values()))"
   ]
  },
  {
   "cell_type": "markdown",
   "metadata": {
    "deletable": false,
    "editable": false,
    "run_control": {
     "frozen": true
    }
   },
   "source": [
    "- Sur ce thème : **Exercices 1 et 2, TD 10**"
   ]
  },
  {
   "cell_type": "markdown",
   "metadata": {},
   "source": [
    "### Supprimer une entrée (clef-valeur)"
   ]
  },
  {
   "cell_type": "markdown",
   "metadata": {
    "deletable": false,
    "editable": false,
    "run_control": {
     "frozen": true
    }
   },
   "source": [
    "L'instruction `del(mondico[cl])` permet de supprimer du dictionnaire `mondico` la clef `cl` et la valeur associée."
   ]
  },
  {
   "cell_type": "code",
   "execution_count": null,
   "metadata": {
    "deletable": false,
    "editable": false
   },
   "outputs": [],
   "source": [
    "dico_astr={'Planete':'Terre', 'Satellite':'Lune', 'Etoile':'Soleil'}\n",
    "del(dico_astr['Etoile'])\n",
    "print(dico_astr)"
   ]
  },
  {
   "cell_type": "markdown",
   "metadata": {},
   "source": [
    "### Tester l'existence d'une clef\n",
    "\n",
    "Pour vérifier si une clef existe dans un dictionnaire, on peut utiliser le test d’appartenance avec l'instruction `in` qui renvoie un booléen :"
   ]
  },
  {
   "cell_type": "code",
   "execution_count": null,
   "metadata": {
    "deletable": false,
    "editable": false
   },
   "outputs": [],
   "source": [
    "color_dictionary={\"white\":\"blanc\", \"black\": \"noir\", \"red\":\"rouge\"}\n",
    "\n",
    "cles=list(color_dictionary)\n",
    "\n",
    "#Avec une boucle \n",
    "i=0\n",
    "while i<len(cles) and cles[i]!=\"red\":\n",
    "    i+=1\n",
    "if i!=len(cles) :\n",
    "    print(\"La clé 'red' existe \")\n",
    "\n",
    "#de manière compacte avec in\n",
    "if 'red' in cles :\n",
    "    print(\"La clé 'red' existe \")"
   ]
  },
  {
   "cell_type": "markdown",
   "metadata": {
    "deletable": false,
    "editable": false,
    "run_control": {
     "frozen": true
    }
   },
   "source": [
    "## Les clefs des dictionnaires"
   ]
  },
  {
   "cell_type": "markdown",
   "metadata": {
    "deletable": false,
    "editable": false,
    "run_control": {
     "frozen": true
    }
   },
   "source": [
    "**Attention** : Les clefs ne sont pas obligatoirement des chaînes de caractères."
   ]
  },
  {
   "cell_type": "code",
   "execution_count": null,
   "metadata": {
    "deletable": false,
    "editable": false
   },
   "outputs": [],
   "source": [
    "dico_astr={1:'Terre', 2:'Lune', 3:'Soleil'}\n",
    "print(dico_astr)"
   ]
  },
  {
   "cell_type": "markdown",
   "metadata": {
    "deletable": false,
    "editable": false,
    "run_control": {
     "frozen": true
    }
   },
   "source": [
    "Ce fonctionnement ressemble à celui d’un tableau mais ce n’est pas le cas.\n",
    "Si on supprime par exemple l’indice 2, les clefs d’indice supérieur à l’indice supprimé ne sont pas décalées pour autant. "
   ]
  },
  {
   "cell_type": "code",
   "execution_count": null,
   "metadata": {
    "deletable": false,
    "editable": false
   },
   "outputs": [],
   "source": [
    "del(dico_astr[1])\n",
    "print(dico_astr)"
   ]
  },
  {
   "cell_type": "markdown",
   "metadata": {
    "deletable": false,
    "editable": false,
    "run_control": {
     "frozen": true
    }
   },
   "source": [
    "Un même dictionnaire peut admettre des clefs de différents types."
   ]
  },
  {
   "cell_type": "code",
   "execution_count": null,
   "metadata": {
    "deletable": false,
    "editable": false
   },
   "outputs": [],
   "source": [
    "semaine={}\n",
    "semaine[1]='Lundi'\n",
    "semaine['couleur']='rouge'\n",
    "print(semaine)"
   ]
  },
  {
   "cell_type": "markdown",
   "metadata": {
    "deletable": false,
    "editable": false,
    "run_control": {
     "frozen": true
    }
   },
   "source": [
    "## Les valeurs des dictionnaires"
   ]
  },
  {
   "cell_type": "markdown",
   "metadata": {
    "deletable": false,
    "editable": false,
    "run_control": {
     "frozen": true
    }
   },
   "source": [
    "Une valeur d'un dictionnaire peut être un nombre entier ou flottant, une chaîne de caractères, un booléen mais aussi des collections contenant d'autres valeurs comme un tableau ou un autre dictionnaire. Par exemple, le dictionnaire suivant contient des données hétérogènes:\n",
    "\n",
    "<img src=\"img/x-3.png\" alt=\"Drawing\" style=\"height: 150px;\"/>"
   ]
  },
  {
   "cell_type": "code",
   "execution_count": null,
   "metadata": {
    "deletable": false,
    "editable": false
   },
   "outputs": [],
   "source": [
    "terre= {}\n",
    "terre['Satellites']= 1\n",
    "terre['Rayon']= 6378.137\n",
    "terre['Tellurique']= True\n",
    "terre['Oceans']= ['Pacifique', 'Atlantique', 'Indien']\n",
    "terre['Superficie']= {'Pacifique':49.7, 'Atlantique':29.5,'Indien':20.4}\n",
    "print(terre)"
   ]
  },
  {
   "cell_type": "markdown",
   "metadata": {
    "deletable": false,
    "editable": false,
    "run_control": {
     "frozen": true
    }
   },
   "source": [
    "## Récapitulatif et comparaison Dictionnaire/Tableau"
   ]
  },
  {
   "cell_type": "markdown",
   "metadata": {
    "deletable": false,
    "editable": false,
    "run_control": {
     "frozen": true
    }
   },
   "source": [
    "| Opération |         Tableau   | Dictionnaire  |\n",
    "|-----------|-------------------|---------------|\n",
    "|Définition d'un conteneur vide | t=[] | d={}  |\n",
    "|Définition d'un littéral | t=[val_1, val_2, ...]| d={clef_1:val_1,clef_2:val_2, ...}|\n",
    "|Appel d'une valeur | t[indice]| d[clef]|\n",
    "|Ajout d'une valeur| t.append(nlle_val)|d[clef]=nlle_val |\n",
    "|Modification d'une valeur| t[indice]=nlle_val|d[clef]=nlle_val |\n",
    "|Nombre d'éléments| len(t)|len(d) |\n",
    "|Suppression d'un élément| del(t[indice])|del(d[clef]) |"
   ]
  }
 ],
 "metadata": {
  "kernelspec": {
   "display_name": "Python 3 (ipykernel)",
   "language": "python",
   "name": "python3"
  },
  "language_info": {
   "codemirror_mode": {
    "name": "ipython",
    "version": 3
   },
   "file_extension": ".py",
   "mimetype": "text/x-python",
   "name": "python",
   "nbconvert_exporter": "python",
   "pygments_lexer": "ipython3",
   "version": "3.11.4"
  },
  "latex_envs": {
   "LaTeX_envs_menu_present": true,
   "autoclose": false,
   "autocomplete": true,
   "bibliofile": "biblio.bib",
   "cite_by": "apalike",
   "current_citInitial": 1,
   "eqLabelWithNumbers": true,
   "eqNumInitial": 1,
   "hotkeys": {
    "equation": "Ctrl-E",
    "itemize": "Ctrl-I"
   },
   "labels_anchors": false,
   "latex_user_defs": false,
   "report_style_numbering": false,
   "user_envs_cfg": false
  },
  "toc": {
   "base_numbering": 1,
   "nav_menu": {},
   "number_sections": false,
   "sideBar": false,
   "skip_h1_title": false,
   "title_cell": "Table of Contents",
   "title_sidebar": "Contents",
   "toc_cell": false,
   "toc_position": {},
   "toc_section_display": false,
   "toc_window_display": false
  }
 },
 "nbformat": 4,
 "nbformat_minor": 2
}
