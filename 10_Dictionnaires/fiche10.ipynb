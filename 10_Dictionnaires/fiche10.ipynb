{
 "cells": [
  {
   "cell_type": "markdown",
   "metadata": {
    "deletable": false,
    "editable": false,
    "run_control": {
     "frozen": true
    }
   },
   "source": [
    "# <center> Chapitre 10 : Dictionnaires </center>"
   ]
  },
  {
   "cell_type": "markdown",
   "metadata": {
    "deletable": false,
    "editable": false,
    "run_control": {
     "frozen": true
    }
   },
   "source": [
    "### Définir un dictionnaire"
   ]
  },
  {
   "cell_type": "markdown",
   "metadata": {
    "deletable": false,
    "editable": false,
    "run_control": {
     "frozen": true
    }
   },
   "source": [
    "Il existe deux façons de définir un dictionnaire.\n",
    "\n",
    "La première façon consiste à donner littéralement l'ensemble des couples `clef:valeur` lors de sa déclaration. La collection de couples  `clef:valeur` est donnée entre accolades, et chaque couple est séparé par une virgule, soit\n",
    "\n",
    "``dico={clef_1:valeur_1 , clef_2:valeur_2 , ...}``\n",
    "\n",
    "Par exemple,"
   ]
  },
  {
   "cell_type": "code",
   "execution_count": null,
   "metadata": {
    "deletable": false,
    "editable": false
   },
   "outputs": [],
   "source": [
    "dico_astr={'Planete':'Terre', 'Satellite':'Lune', 'Etoile':'Soleil'}"
   ]
  },
  {
   "cell_type": "markdown",
   "metadata": {
    "deletable": false,
    "editable": false,
    "run_control": {
     "frozen": true
    }
   },
   "source": [
    "La deuxième façon de définir un dictionnaire consiste à déclarer un dictionnaire vide, puis de le remplir. La déclaration d'un dictionnaire vide est `{}`.\n",
    "\n",
    "Par exemple,\n",
    "\n",
    "``dico_astro2 = {}``\n",
    "\n",
    "L'ajout de nouveaux couples ``clef:valeur``  au dictionnaire ``dico_astro2`` ainsi initialisé se fait au moyen de la syntaxe suivante:\n",
    "\n",
    "``dico_astro2[clef] = valeur``\n"
   ]
  },
  {
   "cell_type": "code",
   "execution_count": null,
   "metadata": {
    "deletable": false,
    "editable": false
   },
   "outputs": [],
   "source": [
    "dico_astro2 = {}\n",
    "dico_astro2['Planete']= 'Terre'\n",
    "dico_astro2['Satellite']= 'Lune'\n",
    "dico_astro2['Etoile']= 'Soleil'\n",
    "print(dico_astro2)"
   ]
  },
  {
   "cell_type": "markdown",
   "metadata": {
    "deletable": false,
    "editable": false,
    "run_control": {
     "frozen": true
    }
   },
   "source": [
    "### Accéder à une valeur"
   ]
  },
  {
   "cell_type": "markdown",
   "metadata": {
    "deletable": false,
    "editable": false,
    "run_control": {
     "frozen": true
    }
   },
   "source": [
    "- Dans un tableau, la valeur correspondant à la position `i` est accessible en faisant suivre le nom du tableau de l'indice entre crochets : `print(tab_astro[i])`\n",
    "\n",
    "- Dans un dictionnaire, la position est remplacé par la clef : \n",
    "`print(dico_astro['Satellite'])`\n",
    "\n",
    "**Remarque** : Lorsque l'on instancie une case d'un tableau avec un indice qui dépasse la taille su tableau, l'interpréteur affiche un message d'erreur. Il en est de même si on utilise une clef non contenue dans le dictionnaire lors d'une instanciation."
   ]
  },
  {
   "cell_type": "markdown",
   "metadata": {
    "deletable": false,
    "editable": false,
    "run_control": {
     "frozen": true
    }
   },
   "source": [
    "### Modifier une valeur"
   ]
  },
  {
   "cell_type": "markdown",
   "metadata": {
    "deletable": false,
    "editable": false,
    "run_control": {
     "frozen": true
    }
   },
   "source": [
    "Pour modifier une valeur, il suffit d'affecter une nouvelle valeur à la clef correspondante."
   ]
  },
  {
   "cell_type": "code",
   "execution_count": null,
   "metadata": {
    "deletable": false,
    "editable": false,
    "scrolled": true
   },
   "outputs": [],
   "source": [
    "dico_astr={'Planete':'Terre', 'Satellite':'Lune', 'Etoile':'Soleil'}\n",
    "print(str(dico_astr))\n",
    "dico_astr['Planete']='Mars'\n",
    "print(str(dico_astr))"
   ]
  },
  {
   "cell_type": "markdown",
   "metadata": {
    "deletable": false,
    "editable": false,
    "run_control": {
     "frozen": true
    }
   },
   "source": [
    "### Ajouter une valeur"
   ]
  },
  {
   "cell_type": "markdown",
   "metadata": {
    "deletable": false,
    "editable": false,
    "run_control": {
     "frozen": true
    }
   },
   "source": [
    "Pour ajouter une valeur dans un dictionnaire, il suffit d'affecter une valeur à une clef non encore utilisée."
   ]
  },
  {
   "cell_type": "code",
   "execution_count": null,
   "metadata": {
    "deletable": false,
    "editable": false,
    "scrolled": true
   },
   "outputs": [],
   "source": [
    "dico_astr={'Planete':'Terre', 'Satellite':'Lune', 'Etoile':'Soleil'}\n",
    "print(str(dico_astr))\n",
    "dico_astr['Galaxie'] = 'Voie Lactee'\n",
    "print(str(dico_astr))"
   ]
  },
  {
   "cell_type": "markdown",
   "metadata": {
    "deletable": false,
    "editable": false,
    "run_control": {
     "frozen": true
    }
   },
   "source": [
    "### Accéder à la liste des clefs et valeurs"
   ]
  },
  {
   "cell_type": "markdown",
   "metadata": {
    "deletable": false,
    "editable": false,
    "run_control": {
     "frozen": true
    }
   },
   "source": [
    "* La fonction `list()` petmets d'accéder aux **clefs** d'un dictionnaire. Elle peut prendre en paramètre un dictionnaire et renvoie alors un tableau dont les éléments sont les clefs du dictionnaire."
   ]
  },
  {
   "cell_type": "code",
   "execution_count": null,
   "metadata": {
    "deletable": false,
    "editable": false
   },
   "outputs": [],
   "source": [
    "dico_astr={'Planete':'Terre', 'Satellite':'Lune', 'Etoile':'Soleil'}\n",
    "print(list(dico_astr))"
   ]
  },
  {
   "cell_type": "markdown",
   "metadata": {
    "deletable": false,
    "editable": false,
    "run_control": {
     "frozen": true
    }
   },
   "source": [
    "* La méthode `values()` permet d'accéder aux **valeurs** d'un dictionnaire. Elle peut prendre en paramètre un dictionnaire et renvoie alors un tableau dont les éléments sont les valeurs du dictionnaire.Il est nécessaire d'utiliser ensuite la fonction `list()` pour extraire les éléments du résultat et en faire un tableau exploitable. "
   ]
  },
  {
   "cell_type": "code",
   "execution_count": null,
   "metadata": {
    "deletable": false,
    "editable": false
   },
   "outputs": [],
   "source": [
    "dico_astr={'Planete':'Terre', 'Satellite':'Lune', 'Etoile':'Soleil'}\n",
    "print(list(dico_astr.values()))"
   ]
  },
  {
   "cell_type": "markdown",
   "metadata": {
    "deletable": false,
    "editable": false,
    "run_control": {
     "frozen": true
    }
   },
   "source": [
    "### Supprimer une entrée (clef:valeur)"
   ]
  },
  {
   "cell_type": "markdown",
   "metadata": {
    "deletable": false,
    "editable": false,
    "run_control": {
     "frozen": true
    }
   },
   "source": [
    "L'instruction `del(dico[cl])` permet de supprimer du dictionnaire `dico` la clef `cl` et la valeur associée."
   ]
  },
  {
   "cell_type": "code",
   "execution_count": null,
   "metadata": {
    "deletable": false,
    "editable": false
   },
   "outputs": [],
   "source": [
    "dico_astr={'Planete':'Terre', 'Satellite':'Lune', 'Etoile':'Soleil'}\n",
    "del(dico_astr['Etoile'])\n",
    "print(str(dico_astr))"
   ]
  },
  {
   "cell_type": "markdown",
   "metadata": {
    "deletable": false,
    "editable": false,
    "run_control": {
     "frozen": true
    }
   },
   "source": [
    "### Récapitulatif et comparaison Dictionnaire/Tableau"
   ]
  },
  {
   "cell_type": "markdown",
   "metadata": {
    "deletable": false,
    "editable": false,
    "run_control": {
     "frozen": true
    }
   },
   "source": [
    "| Opération |         Tableau   | Dictionnaire  |\n",
    "|-----------|-------------------|---------------|\n",
    "|Définition d'un conteneur vide | t=[] | d={}  |\n",
    "|Définition d'un littéral | t=[val_1, val_2, ...]| d={clef_1:val_1,clef_2:val_2, ...}|\n",
    "|Appel d'une valeur | t[indice]| d[clef]|\n",
    "|Ajout d'une valeur| t.append(nlle_val)|d[clef]=nlle_val |\n",
    "|Modification d'une valeur| t[indice]=nlle_val|d[clef]=nlle_val |\n",
    "|Nombre d'éléments| len(t)|len(d) |\n",
    "|Suppression d'un élément| del(t[indice])|del(d[clef]) |"
   ]
  }
 ],
 "metadata": {
  "kernelspec": {
   "display_name": "Python 3 (ipykernel)",
   "language": "python",
   "name": "python3"
  },
  "language_info": {
   "codemirror_mode": {
    "name": "ipython",
    "version": 3
   },
   "file_extension": ".py",
   "mimetype": "text/x-python",
   "name": "python",
   "nbconvert_exporter": "python",
   "pygments_lexer": "ipython3",
   "version": "3.11.4"
  },
  "latex_envs": {
   "LaTeX_envs_menu_present": true,
   "autoclose": false,
   "autocomplete": true,
   "bibliofile": "biblio.bib",
   "cite_by": "apalike",
   "current_citInitial": 1,
   "eqLabelWithNumbers": true,
   "eqNumInitial": 1,
   "hotkeys": {
    "equation": "Ctrl-E",
    "itemize": "Ctrl-I"
   },
   "labels_anchors": false,
   "latex_user_defs": false,
   "report_style_numbering": false,
   "user_envs_cfg": false
  },
  "toc": {
   "base_numbering": 1,
   "nav_menu": {},
   "number_sections": false,
   "sideBar": false,
   "skip_h1_title": false,
   "title_cell": "Table of Contents",
   "title_sidebar": "Contents",
   "toc_cell": false,
   "toc_position": {},
   "toc_section_display": false,
   "toc_window_display": false
  }
 },
 "nbformat": 4,
 "nbformat_minor": 2
}
