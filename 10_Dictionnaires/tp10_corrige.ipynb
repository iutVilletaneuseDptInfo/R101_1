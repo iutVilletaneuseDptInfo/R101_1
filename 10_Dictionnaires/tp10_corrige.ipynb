{
 "cells": [
  {
   "cell_type": "markdown",
   "metadata": {
    "deletable": false,
    "editable": false,
    "run_control": {
     "frozen": true
    }
   },
   "source": [
    "# <center> Chapitre 10 : Dictionnaires - TP Corrigé </center>"
   ]
  },
  {
   "cell_type": "markdown",
   "metadata": {
    "deletable": false,
    "editable": false,
    "run_control": {
     "frozen": true
    }
   },
   "source": [
    "### Exercice 1 :  Dictionnaire français-anglais *"
   ]
  },
  {
   "cell_type": "markdown",
   "metadata": {
    "solution2": "hidden",
    "solution2_first": true
   },
   "source": [
    "#### Question 1  : Création d'un dictionnaire\n",
    "\n",
    "Choisir 5 mots de la langue française et créer un dictionnaire qui associe à chacun de ces mots sa traduction en anglais.\n",
    "On pourra par exemple prendre \n",
    "- chat et cat\n",
    "- chien et dog\n",
    "- vache et cow\n",
    "- tigre et tiger\n",
    "- licorne et unicorn.\n",
    "\n",
    "Ajouter une entrée au dictionnaire  (un nouveau mot et sa traduction). On pourra prendre, par exemple, souris et mouse."
   ]
  },
  {
   "cell_type": "code",
   "execution_count": null,
   "metadata": {
    "deletable": false,
    "editable": false,
    "solution2": "hidden"
   },
   "outputs": [],
   "source": [
    "#------------------------------#\n",
    "#    CORRECTION  ! ! ! ! ! !   #\n",
    "#------------------------------#\n",
    "print(\"Définition du dictionnaire \\n\")\n",
    "dic={\"chat\":\"cat\",\"chien\":\"dog\",\"vache\":\"cow\",\"tigre\":\"tiger\",\"licorne\":\"unicorn\"}\n",
    "print(dic)\n",
    "print(\"Ajout de souris \\n\")\n",
    "dic [\"souris\"] =\"mouse\"\n",
    "print(dic)"
   ]
  },
  {
   "cell_type": "markdown",
   "metadata": {
    "deletable": false,
    "editable": false,
    "run_control": {
     "frozen": true
    },
    "solution2": "hidden",
    "solution2_first": true
   },
   "source": [
    "#### Question 2  : Fonction d'ajout \n",
    "Écrire une fonction `ajoute(mot1, mot2, dico)` qui prend en paramètre un mot en français, sa traduction\n",
    "en anglais et ajoute ces deux mots dans le dictionnaire `dico` uniquement si `mot1` n’est pas déjà une clé\n",
    "du dictionnaire.<br>\n",
    "Tester cette fonction avec des valeurs judicieusement choisies."
   ]
  },
  {
   "cell_type": "code",
   "execution_count": null,
   "metadata": {
    "deletable": false,
    "editable": false,
    "solution2": "hidden"
   },
   "outputs": [],
   "source": [
    "#------------------------------#\n",
    "#    CORRECTION  ! ! ! ! ! !   #\n",
    "#------------------------------#\n",
    "def ajoute(mot1,mot2,dico):\n",
    "    if mot1 not in dico:\n",
    "        dico[mot1]=mot2\n",
    "\n",
    "print(\"Ajout de dragon \\n\")\n",
    "ajoute(\"dragon\",\"dragon\", dic)\n",
    "print(dic)\n",
    "print(\"Second ajout de dragon \\n\")\n",
    "ajoute(\"dragon\",\"smaug\", dic)\n",
    "print(dic)"
   ]
  },
  {
   "cell_type": "markdown",
   "metadata": {
    "deletable": false,
    "editable": false,
    "run_control": {
     "frozen": true
    },
    "solution2": "hidden",
    "solution2_first": true
   },
   "source": [
    "#### Question 3  : Affichage des valeurs\n",
    "Écrire une fonction qui affiche à l’écran toutes les valeurs correspondant aux clés qui sont dans\n",
    "votre dictionnaire.<br> Utiliser cette fonction pour réaliser l'affichage des mots anglais du dictionnaire qui a été créé."
   ]
  },
  {
   "cell_type": "code",
   "execution_count": null,
   "metadata": {
    "deletable": false,
    "editable": false,
    "solution2": "hidden"
   },
   "outputs": [],
   "source": [
    "#------------------------------#\n",
    "#    CORRECTION  ! ! ! ! ! !   #\n",
    "#------------------------------#\n",
    "def valeurs_sol (dico):\n",
    "    valeurs = list(dico.values())\n",
    "    print(valeurs)\n",
    "\n",
    "print (\"Solution \\n\")\n",
    "valeurs_sol(dic)"
   ]
  },
  {
   "cell_type": "markdown",
   "metadata": {
    "deletable": false,
    "editable": false,
    "run_control": {
     "frozen": true
    },
    "solution2": "hidden",
    "solution2_first": true
   },
   "source": [
    "#### Question 4 : Suppression d'entrées du dictionnaire\n",
    "Écrire une fonction `supprime(car, dico)` qui prend en paramètre un caractère `car` et un dictionnaire\n",
    "`dico` et supprime du dictionnaire toutes les entrées correspondant à des clés qui commencent par la\n",
    "lettre `car`.<br>\n",
    "Tester cette fonction sur le dictionnaire."
   ]
  },
  {
   "cell_type": "code",
   "execution_count": null,
   "metadata": {
    "deletable": false,
    "editable": false,
    "solution2": "hidden"
   },
   "outputs": [],
   "source": [
    "#------------------------------#\n",
    "#    CORRECTION  ! ! ! ! ! !   #\n",
    "#------------------------------#\n",
    "#suppression d'élément du dictionnaire\n",
    "def supprime1 (car,d) :\n",
    "    clefs=list(d)\n",
    "    i=0\n",
    "    while i<len(clefs) :\n",
    "        clef=clefs[i]\n",
    "        if clef[0] == car :\n",
    "            del(d[clef])\n",
    "        i+=1\n",
    "\n",
    "#avec un for\n",
    "def supprime2(car,d) :\n",
    "    clefs=list(d)\n",
    "    for clef in clefs :\n",
    "        if clef[0] == car :\n",
    "            del(d[clef])\n",
    "\n",
    "print (\"Suppression d'éléments\\n\")\n",
    "supprime1 (\"c\",dic)\n",
    "print(dic)\n",
    "supprime2 (\"d\",dic)\n",
    "print(dic)"
   ]
  },
  {
   "cell_type": "markdown",
   "metadata": {
    "solution2": "hidden",
    "solution2_first": true
   },
   "source": [
    "### Exercice 2 : Fréquences des caractères dans un long texte**\n",
    "#### Question 1 :  Longueur d'un texte stocké dans un fichier\n",
    "- Écrire une fonction `longueur` qui prend en paramètre le chemin `path` vers un fichier texte et renvoie le nombre de caractères contenu dans ce fichier. \n",
    "\n",
    "- Utiliser cette fonction pour afficher la longueur du texte disponible dans le fichier `files/zadig.txt`."
   ]
  },
  {
   "cell_type": "code",
   "execution_count": null,
   "metadata": {
    "deletable": false,
    "editable": false,
    "solution2": "hidden"
   },
   "outputs": [],
   "source": [
    "#------------------------------#\n",
    "#    CORRECTION  ! ! ! ! ! !   #\n",
    "#------------------------------# \n",
    "\n",
    "def longueur(path):\n",
    "    fichier=open(path,\"r\",encoding='utf-8')\n",
    "    texte=fichier.read()\n",
    "    fichier.close()     \n",
    "    return len(texte)\n",
    "\n",
    "l=longueur(\"./files/zadig.txt\")\n",
    "print(l)"
   ]
  },
  {
   "cell_type": "markdown",
   "metadata": {
    "deletable": false,
    "editable": false,
    "solution2": "hidden",
    "solution2_first": true
   },
   "source": [
    "#### Question 2 :  Comptage des caractères dans un texte stocké dans un fichier\n",
    "- Écrire une fonction `comptage` qui prend en paramètre le chemin `path` vers un fichier texte et renvoie le dictionnaire contenant comme clefs tous les caractères qui apparaissent dans le texte et comme valeurs leurs nombres d'apparition dans le texte.\n",
    "\n",
    "- Utiliser cette fonction fonction pour calculer le dictionnaire associé au texte disponible dans le fichier `files/zadig.txt`.\n",
    "Ce dictionnaire sera stocké dans la variable `dico_zadig`."
   ]
  },
  {
   "cell_type": "code",
   "execution_count": null,
   "metadata": {
    "deletable": false,
    "editable": false,
    "solution2": "hidden"
   },
   "outputs": [],
   "source": [
    "#------------------------------#\n",
    "#    CORRECTION  ! ! ! ! ! !   #\n",
    "#------------------------------# \n",
    "def comptage(path):\n",
    "    \n",
    "    fichier=open(path,\"r\", encoding='utf-8')\n",
    "    texte = fichier.read()\n",
    "    fichier.close()\n",
    "    \n",
    "    nb_car={}\n",
    "    i=0\n",
    "    while i<len(texte):\n",
    "        \n",
    "        caractere=texte[i]\n",
    "        if caractere not in nb_car:\n",
    "            nb_car[caractere]=1\n",
    "        else:\n",
    "            nb_car[caractere]+=1\n",
    "            \n",
    "        i+=1\n",
    "        \n",
    "    return nb_car\n",
    "\n",
    "dico_zadig=comptage(\"./files/zadig.txt\")\n",
    "print(dico_zadig)"
   ]
  },
  {
   "cell_type": "markdown",
   "metadata": {
    "deletable": false,
    "editable": false,
    "solution2": "hidden",
    "solution2_first": true
   },
   "source": [
    "#### Question 3 : Calcul des fréquences d'apparition dans le texte. \n",
    "\n",
    "- Ecrire une fonction `frequences` qui prend en paramètre le chemin `path` vers un fichier texte et renvoie le dictionnaire contenant comme clefs tous les caractères qui apparaissent dans le texte et comme valeurs leurs fréquence d'apparition dans le texte.\n",
    "\n",
    "**Rappel** : La fréquence d'apparition d'un caractère est égale à \n",
    "```\n",
    "Nombre d'apparitions * 100/ longueur du texte\n",
    "```\n",
    "\n",
    "- Utiliser cette fonction pour calculer le dictionnaire associé au texte disponible dans le fichier `files/zadig.txt`.\n",
    "\n",
    "Le résultat de cette analyse sera stockée dans la variable `freq_zadig`. "
   ]
  },
  {
   "cell_type": "code",
   "execution_count": null,
   "metadata": {
    "deletable": false,
    "editable": false,
    "solution2": "hidden"
   },
   "outputs": [],
   "source": [
    "#------------------------------#\n",
    "#    CORRECTION  ! ! ! ! ! !   #\n",
    "#------------------------------# \n",
    "def frequences(path):\n",
    "    l=longueur(path)\n",
    "    freq=comptage(path)\n",
    "\n",
    "    caracteres=list(freq)\n",
    "    i=0\n",
    "    while i<len(caracteres):\n",
    "        freq[caracteres[i]]=freq[caracteres[i]]*100/l\n",
    "        i+=1\n",
    "    return freq\n",
    "\n",
    "\n",
    "freq_zadig=frequences(\"./files/zadig.txt\")\n",
    "print(freq_zadig)"
   ]
  },
  {
   "cell_type": "markdown",
   "metadata": {
    "deletable": false,
    "editable": false,
    "solution2": "hidden",
    "solution2_first": true
   },
   "source": [
    "#### Question 4 : Fréquence maximale d'un caractère \n",
    "\n",
    "- Ecrire une fonction `max_freq` qui prend en paramètre un dictionnaire de fréquences et qui renvoie la fréquence maximale d'un caractère de ce dictionnaire. \n",
    "\n",
    "- Utiliser cette  fonction pour calculer la fréquence maximale d'un caractère dans le dictionnaire `freq_zadig`."
   ]
  },
  {
   "cell_type": "code",
   "execution_count": null,
   "metadata": {
    "deletable": false,
    "editable": false,
    "solution2": "hidden"
   },
   "outputs": [],
   "source": [
    "#------------------------------#\n",
    "#    CORRECTION  ! ! ! ! ! !   #\n",
    "#------------------------------# \n",
    "def max_freq(dico_freq):\n",
    "    freq=list(dico_freq.values())\n",
    "    maxi=freq[0]\n",
    "    i=1\n",
    "    while i<len(freq):\n",
    "        if freq[i]>maxi:\n",
    "            maxi=freq[i]  \n",
    "        i+=1\n",
    "    return maxi\n",
    "\n",
    "max_z= max_freq(freq_zadig)\n",
    "print(\"La fréquence maximale est\", max_z)\n",
    "\n",
    "## 2eme solution \n",
    "def max_freq2(dico_freq):\n",
    "    maxi=freq[0]\n",
    "    for cle in dico_freq:\n",
    "        if dico_freq[cle]>maxi:\n",
    "            maxi=dico_freq[cle]\n",
    "    return maxi\n",
    "\n",
    "max_z2= max_freq2(freq_zadig)\n",
    "print(\"la fréquence \", max_z2)"
   ]
  },
  {
   "cell_type": "markdown",
   "metadata": {
    "deletable": false,
    "editable": false,
    "solution2": "hidden",
    "solution2_first": true
   },
   "source": [
    "#### Question 5 : Caractère le plus fréquent\n",
    "\n",
    "- Ecrire une fonction `car_max_freq` qui prend en paramètre un dictionnaire de fréquences et qui renvoie le caractère (ou un des caractères s'il n'est pas unique) le plus fréquent de ce dictionnaire. \n",
    "\n",
    "- Utiliser cette  fonction pour calculer le caractère le plus fréquent dans le dictionnaire `freq_zadig`."
   ]
  },
  {
   "cell_type": "code",
   "execution_count": null,
   "metadata": {
    "deletable": false,
    "editable": false,
    "solution2": "hidden"
   },
   "outputs": [],
   "source": [
    "def car_max_freq(dico_freq):\n",
    "    maxi=0\n",
    "    for cle in dico_freq:\n",
    "        if dico_freq[cle]>maxi:\n",
    "            maxi=dico_freq[cle]\n",
    "            pos=cle\n",
    "    return pos\n",
    "\n",
    "car_max_z= car_max_freq(freq_zadig)\n",
    "print(\"c'est le caractère\", car_max_z)"
   ]
  }
 ],
 "metadata": {
  "kernelspec": {
   "display_name": "Python 3 (ipykernel)",
   "language": "python",
   "name": "python3"
  },
  "language_info": {
   "codemirror_mode": {
    "name": "ipython",
    "version": 3
   },
   "file_extension": ".py",
   "mimetype": "text/x-python",
   "name": "python",
   "nbconvert_exporter": "python",
   "pygments_lexer": "ipython3",
   "version": "3.11.4"
  },
  "latex_envs": {
   "LaTeX_envs_menu_present": true,
   "autoclose": false,
   "autocomplete": true,
   "bibliofile": "biblio.bib",
   "cite_by": "apalike",
   "current_citInitial": 1,
   "eqLabelWithNumbers": true,
   "eqNumInitial": 1,
   "hotkeys": {
    "equation": "Ctrl-E",
    "itemize": "Ctrl-I"
   },
   "labels_anchors": false,
   "latex_user_defs": false,
   "report_style_numbering": false,
   "user_envs_cfg": false
  },
  "toc": {
   "base_numbering": 1,
   "nav_menu": {},
   "number_sections": true,
   "sideBar": true,
   "skip_h1_title": false,
   "title_cell": "Table of Contents",
   "title_sidebar": "Contents",
   "toc_cell": false,
   "toc_position": {},
   "toc_section_display": true,
   "toc_window_display": false
  }
 },
 "nbformat": 4,
 "nbformat_minor": 2
}
