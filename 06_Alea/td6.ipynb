{
 "cells": [
  {
   "cell_type": "markdown",
   "metadata": {
    "deletable": false,
    "editable": false,
    "run_control": {
     "frozen": true
    }
   },
   "source": [
    "# <center>Chapitre 6 : Alea - TD </center>"
   ]
  },
  {
   "cell_type": "markdown",
   "metadata": {
    "deletable": false,
    "editable": false,
    "run_control": {
     "frozen": true
    }
   },
   "source": [
    "### Exercice 1 : Lancer de dés*\n",
    "\n",
    "Le but de cet exercice est de simuler des lancers de dés.\n",
    "Cela correspond, d'un point de vue informatique, à tirer un entier aléatoire entre 1 et 6.\n",
    "\n",
    "#### Question 1 : Lancer un dé \n",
    "Écrire une fonction qui simule le lancer d'un dé et renvoie le résultat. "
   ]
  },
  {
   "cell_type": "code",
   "execution_count": null,
   "metadata": {},
   "outputs": [],
   "source": [
    "#-------------------------#\n",
    "#    Écrire le code ici   #\n",
    "#-------------------------#\n",
    "\n",
    "\n"
   ]
  },
  {
   "cell_type": "markdown",
   "metadata": {
    "deletable": false,
    "editable": false,
    "run_control": {
     "frozen": true
    }
   },
   "source": [
    "#### Question 2 :   Lancer plusieurs dés \n",
    "Écrire une fonction qui lance un nombre de dés donné en paramètre et renvoie leur somme.\n",
    "\n",
    "Afficher le résultat d'un lancer de deux dés puis trois dés."
   ]
  },
  {
   "cell_type": "code",
   "execution_count": null,
   "metadata": {},
   "outputs": [],
   "source": [
    "#-------------------------#\n",
    "#    Écrire le code ici   #\n",
    "#-------------------------#\n",
    "\n",
    "\n"
   ]
  },
  {
   "cell_type": "markdown",
   "metadata": {
    "deletable": false,
    "editable": false,
    "run_control": {
     "frozen": true
    }
   },
   "source": [
    "#### Question 3 : Lancer des dés à n faces \n",
    "Certains dés ont un nombre de faces différent de 6, comme ceux utilisés pour les jeux de rôles. \n",
    "Ecrire une fonction qui prend le nombre de faces du dé et simule le lancer.\n",
    "\n",
    "Faire 10 000 lancers d'un dé à 7 faces et afficher la moyenne."
   ]
  },
  {
   "cell_type": "code",
   "execution_count": null,
   "metadata": {},
   "outputs": [],
   "source": [
    "#-------------------------#\n",
    "#    Écrire le code ici   #\n",
    "#-------------------------#\n",
    "\n",
    "\n"
   ]
  },
  {
   "cell_type": "markdown",
   "metadata": {
    "deletable": false,
    "editable": false,
    "run_control": {
     "frozen": true
    }
   },
   "source": [
    "#### Question 4 : Lancer plusieurs dés à même nombre de faces\n",
    "Écrire une fonction qui lance un nombre de dés donné en paramètre, tous les dés ayant le même\n",
    "nombre de faces (également donné en paramètre), et renvoie leur somme.\n",
    "\n",
    "Afficher le résultat de 10 000 lancers d'un dé à 7 faces avec cette fonction."
   ]
  },
  {
   "cell_type": "code",
   "execution_count": null,
   "metadata": {},
   "outputs": [],
   "source": [
    "#-------------------------#\n",
    "#    Écrire le code ici   #\n",
    "#-------------------------#\n",
    "\n",
    "\n"
   ]
  },
  {
   "cell_type": "markdown",
   "metadata": {
    "deletable": false,
    "editable": false,
    "run_control": {
     "frozen": true
    }
   },
   "source": [
    "### Exercice 2 : Soldes aléatoires**\n",
    "Pour les soldes, un magasin propose une formule originale. Lors du paiement en caisse,\n",
    "une réduction de 30, 50 ou 70\\% est appliquée de façon aléatoire.\n",
    "\n",
    "#### Question 1: Calcul du taux aléatoire \n",
    "Écrire une fonction `taux()` retournant 30, 50 ou 70, la valeur étant tirée au hasard."
   ]
  },
  {
   "cell_type": "code",
   "execution_count": null,
   "metadata": {},
   "outputs": [],
   "source": [
    "#-------------------------#\n",
    "#    Écrire le code ici   #\n",
    "#-------------------------#\n",
    "\n",
    "\n"
   ]
  },
  {
   "cell_type": "markdown",
   "metadata": {
    "deletable": false,
    "editable": false,
    "run_control": {
     "frozen": true
    }
   },
   "source": [
    "#### Question 2 : Prix à payer après réduction \n",
    "Ecrire le programme qui calcule le prix à payer après la réduction.\n",
    "Le prix sera saisi par l'utilisateur et la réduction tirée au hasard."
   ]
  },
  {
   "cell_type": "code",
   "execution_count": null,
   "metadata": {},
   "outputs": [],
   "source": [
    "#-------------------------#\n",
    "#    Écrire le code ici   #\n",
    "#-------------------------#\n",
    "\n",
    "\n"
   ]
  },
  {
   "cell_type": "markdown",
   "metadata": {
    "deletable": false,
    "editable": false,
    "run_control": {
     "frozen": true
    }
   },
   "source": [
    "### Exercice 3 : Jeu du fakir**\n",
    "\n",
    "Dans le jeu du fakir, l'utilisateur doit trouver un nombre mystère compris entre 1 et 100\n",
    "en au plus 6 essais (7 sont toujours suffisants). À chaque essai, le programme indique si\n",
    "le nombre mystère est plus petit ou plus grand que la valeur saisie, ou que l'utilisateur\n",
    "a trouvé. Écrire le programme correspondant."
   ]
  },
  {
   "cell_type": "code",
   "execution_count": null,
   "metadata": {},
   "outputs": [],
   "source": [
    "#-------------------------#\n",
    "#    Écrire le code ici   #\n",
    "#-------------------------#\n",
    "\n",
    "\n"
   ]
  },
  {
   "cell_type": "markdown",
   "metadata": {
    "deletable": false,
    "editable": false,
    "run_control": {
     "frozen": true
    }
   },
   "source": [
    "#  Pour aller plus loin"
   ]
  },
  {
   "cell_type": "markdown",
   "metadata": {
    "deletable": false,
    "editable": false,
    "run_control": {
     "frozen": true
    }
   },
   "source": [
    "### Exercice 4 : Rectangle aléatoire*\n",
    "\n",
    "Tirer au hasard un rectangle de dimensions flottantes. La largeur sera comprise entre\n",
    "3 et 4 et la longueur entre 7 et 9.\n",
    "\n",
    "Que sont l'aire minimale et l'aire maximale ? Engendrer 10 000 rectangles et compter\n",
    "combien sont petits (aire entre 21 et 26), moyens (aire entre 26 et 31) et grands (aire supérieure à 31)."
   ]
  },
  {
   "cell_type": "code",
   "execution_count": null,
   "metadata": {},
   "outputs": [],
   "source": [
    "#-------------------------#\n",
    "#    Écrire le code ici   #\n",
    "#-------------------------#\n",
    "\n",
    "\n"
   ]
  },
  {
   "cell_type": "markdown",
   "metadata": {
    "deletable": false,
    "editable": false,
    "run_control": {
     "frozen": true
    }
   },
   "source": [
    "### Exercice 5 : Fléchettes**\n",
    "\n",
    "On envoie des fléchettes sur une cible de rayon 18. Les coordonnées $x$ et $y$ des impacts\n",
    "sont tirées au hasard entre -20 et 20, l'origine étant le centre de la cible. On note\n",
    "$d = \\sqrt{x^2 + y^2}$ la distance au centre et on marque :\n",
    "- 1 point si $d$ est compris entre 12 et 18,\n",
    "- 2 points si $d$ est compris entre 6 et 12,\n",
    "- 5 points si $d$ est compris entre 2 et 6,\n",
    "- 10 points si $d$ est inférieur à 2 (\"dans le mille\"),\n",
    "- 0 si on rate la cible.\n",
    "\n",
    "Écrire un programme qui permet de lancer autant de fléchettes qu'on veut et affiche le score."
   ]
  },
  {
   "cell_type": "code",
   "execution_count": null,
   "metadata": {},
   "outputs": [],
   "source": [
    "#-------------------------#\n",
    "#    Écrire le code ici   #\n",
    "#-------------------------#\n",
    "\n",
    "\n",
    "\n"
   ]
  }
 ],
 "metadata": {
  "@webio": {
   "lastCommId": "c60671d8164d42dc941f7bdd23e5b94e",
   "lastKernelId": "b7570f1b-0d09-43dd-820e-d7c689cc3cfe"
  },
  "kernelspec": {
   "display_name": "Python 3 (ipykernel)",
   "language": "python",
   "name": "python3"
  },
  "language_info": {
   "codemirror_mode": {
    "name": "ipython",
    "version": 3
   },
   "file_extension": ".py",
   "mimetype": "text/x-python",
   "name": "python",
   "nbconvert_exporter": "python",
   "pygments_lexer": "ipython3",
   "version": "3.11.4"
  },
  "latex_envs": {
   "LaTeX_envs_menu_present": true,
   "autoclose": false,
   "autocomplete": true,
   "bibliofile": "biblio.bib",
   "cite_by": "apalike",
   "current_citInitial": 1,
   "eqLabelWithNumbers": true,
   "eqNumInitial": 1,
   "hotkeys": {
    "equation": "Ctrl-E",
    "itemize": "Ctrl-I"
   },
   "labels_anchors": false,
   "latex_user_defs": false,
   "report_style_numbering": false,
   "user_envs_cfg": false
  },
  "toc": {
   "base_numbering": 1,
   "nav_menu": {},
   "number_sections": true,
   "sideBar": true,
   "skip_h1_title": true,
   "title_cell": "Table of Contents",
   "title_sidebar": "Contents",
   "toc_cell": false,
   "toc_position": {},
   "toc_section_display": true,
   "toc_window_display": true
  },
  "varInspector": {
   "cols": {
    "lenName": 16,
    "lenType": 16,
    "lenVar": 40
   },
   "kernels_config": {
    "python": {
     "delete_cmd_postfix": "",
     "delete_cmd_prefix": "del ",
     "library": "var_list.py",
     "varRefreshCmd": "print(var_dic_list())"
    },
    "r": {
     "delete_cmd_postfix": ") ",
     "delete_cmd_prefix": "rm(",
     "library": "var_list.r",
     "varRefreshCmd": "cat(var_dic_list()) "
    }
   },
   "types_to_exclude": [
    "module",
    "function",
    "builtin_function_or_method",
    "instance",
    "_Feature"
   ],
   "window_display": false
  }
 },
 "nbformat": 4,
 "nbformat_minor": 2
}
