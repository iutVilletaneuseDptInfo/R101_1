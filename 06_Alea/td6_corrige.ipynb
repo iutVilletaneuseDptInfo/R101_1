{
 "cells": [
  {
   "cell_type": "markdown",
   "metadata": {
    "deletable": false,
    "editable": false,
    "run_control": {
     "frozen": true
    }
   },
   "source": [
    "# <center>Chapitre 6 : Alea - TD Corrigé </center>"
   ]
  },
  {
   "cell_type": "markdown",
   "metadata": {
    "solution2": "hidden",
    "solution2_first": true
   },
   "source": [
    "### Exercice 1 : Lancer de dés*\n",
    "\n",
    "Le but de cet exercice est de simuler des lancers de dés.\n",
    "Cela correspond, d'un point de vue informatique, à tirer un entier aléatoire entre 1 et 6.\n",
    "\n",
    "#### Question 1 : Lancer d'un dé \n",
    "Écrire une fonction qui simule le lancer d'un dé et renvoie le résultat. "
   ]
  },
  {
   "cell_type": "code",
   "execution_count": null,
   "metadata": {
    "deletable": false,
    "editable": false,
    "solution2": "hidden"
   },
   "outputs": [],
   "source": [
    "#------------------------------#\n",
    "#    CORRECTION  ! ! ! ! ! !   #\n",
    "#------------------------------#\n",
    "\n",
    "from random import *\n",
    "def de():\n",
    "    \"\"\"retourne un nombre aleatoire entre 1 et 6\"\"\"\n",
    "    return randint(1,6)\n",
    "\n",
    "# appel de la fonction\n",
    "print(de())\n",
    "\n",
    "#accès au docstring\n",
    "?de"
   ]
  },
  {
   "cell_type": "markdown",
   "metadata": {
    "deletable": false,
    "editable": false,
    "run_control": {
     "frozen": true
    },
    "solution2": "hidden",
    "solution2_first": true
   },
   "source": [
    "#### Question 2 :   Lancer plusieurs dés \n",
    "Écrire une fonction qui lance un nombre de dés donné en paramètre et renvoie leur somme.\n",
    "\n",
    "Afficher le résultat d'un lancer de deux dés puis trois dés."
   ]
  },
  {
   "cell_type": "code",
   "execution_count": null,
   "metadata": {
    "deletable": false,
    "editable": false,
    "solution2": "hidden"
   },
   "outputs": [],
   "source": [
    "#------------------------------#\n",
    "#    CORRECTION  ! ! ! ! ! !   #\n",
    "#------------------------------#\n",
    "def plusieurs_des(n):\n",
    "    \"\"\"retourne la somme de n entiers aléatoires \n",
    "       compris entre 1 et 6\"\"\"\n",
    "    somme = 0 \n",
    "    i = 0\n",
    "    while i<n :\n",
    "        somme += de()\n",
    "        i+=1\n",
    "    return somme\n",
    "\n",
    "print(\"Lancer de deux dés :\" , plusieurs_des(2))\n",
    "print(\"Lancer de trois dés :\", plusieurs_des(3))"
   ]
  },
  {
   "cell_type": "markdown",
   "metadata": {
    "solution2": "hidden",
    "solution2_first": true
   },
   "source": [
    "#### Question 3 : Lancer un dé à n faces \n",
    "Certains dés ont un nombre de faces différent de 6, comme ceux utilisés pour les jeux de rôles. \n",
    "Ecrire une fonction qui prend le nombre de faces du dé et simule le lancer.\n",
    "\n",
    "Faire 10 000 lancers d'un dé à 7 faces et afficher la moyenne."
   ]
  },
  {
   "cell_type": "code",
   "execution_count": null,
   "metadata": {
    "deletable": false,
    "editable": false,
    "solution2": "hidden"
   },
   "outputs": [],
   "source": [
    "#------------------#\n",
    "#   CORRECTION !   #\n",
    "#------------------#\n",
    "\n",
    "def superde(n_faces):\n",
    "    \"\"\"retourne un nombre aleatoire compris entre 1 et n_faces\"\"\"\n",
    "    return randint(1, n_faces)\n",
    "\n",
    "i=0\n",
    "somme = 0 \n",
    "while i < 10000 :\n",
    "    somme += superde(7)\n",
    "    i+=1\n",
    "print(somme/10000) # La moyenne théorique est 4"
   ]
  },
  {
   "cell_type": "markdown",
   "metadata": {
    "solution2": "hidden",
    "solution2_first": true
   },
   "source": [
    "#### Question 4 : Lancer plusieurs dés à même nombre de faces\n",
    "Écrire une fonction qui lance un nombre de dés donné en paramètre, tous les dés ayant le même\n",
    "nombre de faces (également donné en paramètre), et renvoie leur somme.\n",
    "\n",
    "Afficher le résultat de 10 000 lancers d'un dé à 7 faces avec cette fonction."
   ]
  },
  {
   "cell_type": "code",
   "execution_count": null,
   "metadata": {
    "deletable": false,
    "editable": false,
    "solution2": "hidden"
   },
   "outputs": [],
   "source": [
    "#------------------#\n",
    "#   CORRECTION !   #\n",
    "#------------------#\n",
    "\n",
    "def pls_superdes(n,nbF) :\n",
    "    \"\"\" retourne la somme de n nombres aleatoires compris \n",
    "        entre 1 et nbF \"\"\"\n",
    "    somme = 0 \n",
    "    i = 0\n",
    "    while i<n :\n",
    "        somme += superde(nbF)\n",
    "        i+=1      \n",
    "    return somme\n",
    "\n",
    "print(\"Lancer de 10 000 dés à 7 faces : \", pls_superdes(10000,7))"
   ]
  },
  {
   "cell_type": "markdown",
   "metadata": {
    "solution2": "hidden",
    "solution2_first": true
   },
   "source": [
    "### Exercice 2 : Soldes aléatoires**\n",
    "Pour les soldes, un magasin propose une formule originale. Lors du paiement en caisse,\n",
    "une réduction de 30, 50 ou 70\\% est appliquée de façon aléatoire.\n",
    "\n",
    "#### Question 1: Calcul du taux aléatoire \n",
    "Écrire une fonction `taux()` retournant 30, 50 ou 70, la valeur étant tirée au hasard."
   ]
  },
  {
   "cell_type": "code",
   "execution_count": null,
   "metadata": {
    "deletable": false,
    "editable": false,
    "solution2": "hidden"
   },
   "outputs": [],
   "source": [
    "#------------------#\n",
    "#   CORRECTION !   #\n",
    "#------------------#\n",
    "\n",
    "def taux():\n",
    "    \"\"\"retourne aleatoirement 30,50 ou 70 \"\"\"\n",
    "    de = randint(1,3)  #on tire un entier entre 1 et 3\n",
    "    if de == 1:\n",
    "        reduction = 30\n",
    "    elif de == 2:\n",
    "        reduction = 50\n",
    "    else:\n",
    "        reduction = 70  \n",
    "    return reduction\n",
    "\n",
    "print(taux())"
   ]
  },
  {
   "cell_type": "code",
   "execution_count": null,
   "metadata": {
    "deletable": false,
    "editable": false,
    "solution2": "hidden"
   },
   "outputs": [],
   "source": [
    "# solution ad hoc - moins générale \n",
    "def taux2():\n",
    "    \"\"\"retourne aleatoirement 30,50 ou 70 \"\"\"\n",
    "    return 10 + randint(1,3) *20 \n",
    "\n",
    "print(taux2())"
   ]
  },
  {
   "cell_type": "markdown",
   "metadata": {
    "solution2": "hidden",
    "solution2_first": true
   },
   "source": [
    "####  Question 2 : Prix à payer après réduction \n",
    "Ecrire le programme qui calcule le prix à payer après la réduction.\n",
    "Le prix sera saisi par l'utilisateur et la réduction tirée au hasard."
   ]
  },
  {
   "cell_type": "code",
   "execution_count": null,
   "metadata": {
    "deletable": false,
    "editable": false,
    "solution2": "hidden"
   },
   "outputs": [],
   "source": [
    "#------------------#\n",
    "#   CORRECTION !   #\n",
    "#------------------#\n",
    "\n",
    "print(\"Prix ? \")\n",
    "prix = float(input()) \n",
    "reduction = taux()\n",
    "print(\"Réduction\", reduction, \"%. Prix à payer \", prix*(100 - reduction) / 100, \"euros\")"
   ]
  },
  {
   "cell_type": "markdown",
   "metadata": {
    "solution2": "hidden",
    "solution2_first": true
   },
   "source": [
    "### Exercice 3 : Jeu du fakir**\n",
    "\n",
    "Dans le jeu du fakir, l'utilisateur doit trouver un nombre mystère compris entre 1 et 100\n",
    "en au plus 6 essais (7 sont toujours suffisants). À chaque essai, le programme indique si\n",
    "le nombre mystère est plus petit ou plus grand que la valeur saisie, ou que l'utilisateur\n",
    "a trouvé. Écrire le programme correspondant."
   ]
  },
  {
   "cell_type": "code",
   "execution_count": null,
   "metadata": {
    "deletable": false,
    "editable": false,
    "solution2": "hidden"
   },
   "outputs": [],
   "source": [
    "#------------------#\n",
    "#   CORRECTION !   #\n",
    "#------------------#\n",
    "#1ère version \n",
    "\n",
    "nb_myst = randint(1,100)\n",
    "essai = -1\n",
    "n_essai = 0\n",
    "while essai != nb_myst and n_essai < 6:\n",
    "    n_essai +=1\n",
    "    print(\"Tentez votre chance, trouvez le nombre magique entre 1 et 100\")\n",
    "    essai = int(input())   \n",
    "    if essai < nb_myst:\n",
    "        print(\"Le nombre magique est plus grand\")\n",
    "    elif essai > nb_myst:\n",
    "        print(\"Le nombre magique est plus petit\")\n",
    "\n",
    "if essai == nb_myst: \n",
    "        print(\"Vous avez trouvé le nombre magique en\", n_essai, \"coups, vous avez un don médiumnique.\")\n",
    "else :\n",
    "        print(\"Perdu, la bonne réponse était\", nb_myst)"
   ]
  },
  {
   "cell_type": "code",
   "execution_count": null,
   "metadata": {
    "deletable": false,
    "editable": false,
    "solution2": "hidden"
   },
   "outputs": [],
   "source": [
    "#------------------#\n",
    "#   CORRECTION !   #\n",
    "#------------------#\n",
    "#2ème version \n",
    "\n",
    "nb_myst = randint(1,100)\n",
    "pasTrouve=True\n",
    "n_essai = 0\n",
    "\n",
    "while n_essai < 6 and pasTrouve :\n",
    "    n_essai +=1\n",
    "    print(\"Tentez votre chance, trouvez le nombre magique entre 1 et 100\")\n",
    "    essai = int(input())   \n",
    "    if essai < nb_myst:\n",
    "        print(\"Le nombre magique est plus grand\")\n",
    "    elif essai > nb_myst:\n",
    "        print(\"Le nombre magique est plus petit\")\n",
    "    else :\n",
    "        print(\"c'est gagné !\")\n",
    "        pasTrouve=False"
   ]
  },
  {
   "cell_type": "markdown",
   "metadata": {},
   "source": [
    "#  Pour aller plus loin"
   ]
  },
  {
   "cell_type": "markdown",
   "metadata": {
    "solution2": "hidden",
    "solution2_first": true
   },
   "source": [
    "### Exercice 4 : Rectangle aléatoire*\n",
    "\n",
    "Tirer au hasard un rectangle de dimensions flottantes. La largeur sera comprise entre\n",
    "3 et 4 et la longueur entre 7 et 9.\n",
    "\n",
    "Que sont l'aire minimale et l'aire maximale ? Engendrer 10 000 rectangles et compter\n",
    "combien sont petits (aire entre 21 et 26), moyens (entre 26 et 31) et grands (supérieure à 31)."
   ]
  },
  {
   "cell_type": "code",
   "execution_count": null,
   "metadata": {
    "solution2": "hidden"
   },
   "outputs": [],
   "source": [
    "pt = 0\n",
    "moy = 0\n",
    "gd = 0\n",
    "i = 0\n",
    "while i < 10000:\n",
    "    l = random() + 3\n",
    "    L = 2*random() + 7\n",
    "    a = l*L\n",
    "    if a < 26:\n",
    "        pt += 1\n",
    "    elif a < 31:\n",
    "        moy +=1\n",
    "    else:\n",
    "        gd += 1\n",
    "    i += 1\n",
    "\n",
    "print(pt, moy, gd)"
   ]
  },
  {
   "cell_type": "markdown",
   "metadata": {
    "deletable": false,
    "editable": false,
    "solution2": "hidden",
    "solution2_first": true
   },
   "source": [
    "### Exercice 5 : Fléchettes**\n",
    "\n",
    "On envoie des fléchettes sur une cible de rayon 18. Les coordonnées $x$ et $y$ des impacts\n",
    "sont tirées au hasard entre -20 et 20, l'origine étant le centre de la cible. On note\n",
    "$d = \\sqrt{x^2 + y^2}$ la distance au centre et on marque :\n",
    "- 1 point si $d$ est compris entre 12 et 18,\n",
    "- 2 points si $d$ est compris entre 6 et 12,\n",
    "- 5 points si $d$ est compris entre 2 et 6,\n",
    "- 10 points si $d$ est inférieur à 2 (\"dans le mille\"),\n",
    "- 0 si on rate la cible.\n",
    "\n",
    "Écrire un programme qui permet de lancer autant de fléchettes qu'on veut et affiche le score."
   ]
  },
  {
   "cell_type": "code",
   "execution_count": null,
   "metadata": {
    "solution2": "hidden"
   },
   "outputs": [],
   "source": [
    "from math import sqrt\n",
    "\n",
    "jeu = 1\n",
    "score = 0\n",
    "while jeu:\n",
    "    ch = \"Vous lancez...    \"\n",
    "    x = 40*random() - 20\n",
    "    y = 40*random() - 20\n",
    "    d = sqrt(x*x + y*y)\n",
    "    if d < 2:\n",
    "        print(ch + \"   Dans le mille !!   10 pts\")\n",
    "        score += 10\n",
    "    elif d < 6:\n",
    "        print(ch + \"-->  5 pts    bravo!\")\n",
    "        score += 5\n",
    "    elif d < 12:\n",
    "        print(ch + \"-->  2 pts    c'est pas mal\")\n",
    "        score += 2\n",
    "    elif d < 18:\n",
    "        print(ch + \"-->  1 pt     peut mieux faire\")\n",
    "        score += 1\n",
    "    else:\n",
    "        print(ch + \"   Raté !!   Vous avez besoin de lunettes\")\n",
    "    print(\"  *** Score : \", score)\n",
    "    choix = input(\"Rejouer ? (0/n) \")\n",
    "    if choix == \"n\" or choix == \"N\":\n",
    "        jeu = 0"
   ]
  }
 ],
 "metadata": {
  "kernelspec": {
   "display_name": "Python 3 (ipykernel)",
   "language": "python",
   "name": "python3"
  },
  "language_info": {
   "codemirror_mode": {
    "name": "ipython",
    "version": 3
   },
   "file_extension": ".py",
   "mimetype": "text/x-python",
   "name": "python",
   "nbconvert_exporter": "python",
   "pygments_lexer": "ipython3",
   "version": "3.11.4"
  },
  "latex_envs": {
   "LaTeX_envs_menu_present": true,
   "autoclose": false,
   "autocomplete": true,
   "bibliofile": "biblio.bib",
   "cite_by": "apalike",
   "current_citInitial": 1,
   "eqLabelWithNumbers": true,
   "eqNumInitial": 1,
   "hotkeys": {
    "equation": "Ctrl-E",
    "itemize": "Ctrl-I"
   },
   "labels_anchors": false,
   "latex_user_defs": false,
   "report_style_numbering": false,
   "user_envs_cfg": false
  },
  "toc": {
   "base_numbering": 1,
   "nav_menu": {},
   "number_sections": true,
   "sideBar": true,
   "skip_h1_title": false,
   "title_cell": "Table of Contents",
   "title_sidebar": "Contents",
   "toc_cell": false,
   "toc_position": {},
   "toc_section_display": true,
   "toc_window_display": false
  }
 },
 "nbformat": 4,
 "nbformat_minor": 2
}
