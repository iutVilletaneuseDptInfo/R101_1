{
 "cells": [
  {
   "cell_type": "markdown",
   "metadata": {
    "deletable": false,
    "editable": false,
    "run_control": {
     "frozen": true
    }
   },
   "source": [
    "# <center> Chapitre 6 : Alea </center> "
   ]
  },
  {
   "cell_type": "markdown",
   "metadata": {
    "deletable": false,
    "editable": false,
    "run_control": {
     "frozen": true
    }
   },
   "source": [
    "Pour tirer des nombres au hasard en informatique, on utilise des nombres pseudo-aléatoires\n",
    "engendrés de manière prédictible par une formule mathématique. Ces nombres forment une suite\n",
    "avec des propriétés statistiques qui laissent penser que les nombres sont aléatoires. \n",
    "Ce principe est commun à tous les langages de programmation, mais ils n'utilisent pas tous\n",
    "la même suite."
   ]
  },
  {
   "cell_type": "markdown",
   "metadata": {
    "deletable": false,
    "editable": false,
    "run_control": {
     "frozen": true
    }
   },
   "source": [
    "## Génération aléatoire de nombres \n",
    "\n",
    "### La bibliothèque `random` (aléatoire)"
   ]
  },
  {
   "cell_type": "markdown",
   "metadata": {
    "deletable": false,
    "editable": false,
    "run_control": {
     "frozen": true
    }
   },
   "source": [
    "Les générateurs aléatoires se trouvent dans la bibliothèque `random`. On y accède par la commande"
   ]
  },
  {
   "cell_type": "code",
   "execution_count": null,
   "metadata": {
    "deletable": false,
    "editable": false
   },
   "outputs": [],
   "source": [
    "from random import *"
   ]
  },
  {
   "cell_type": "markdown",
   "metadata": {
    "deletable": false,
    "editable": false,
    "run_control": {
     "frozen": true
    }
   },
   "source": [
    "### Génération aléatoire d'entiers \n",
    "\n",
    "La fonction `randint(a,b)` retourne des nombres compris entre `a` et `b` inclus.\n",
    "\n",
    "Pour afficher un entier entre 0 et 100 inclus :"
   ]
  },
  {
   "cell_type": "code",
   "execution_count": null,
   "metadata": {
    "deletable": false,
    "editable": false
   },
   "outputs": [],
   "source": [
    "from random import *\n",
    "\n",
    "print(\"nombre entre 0 et 100 : \" , randint(0, 100))"
   ]
  },
  {
   "cell_type": "markdown",
   "metadata": {
    "deletable": false,
    "editable": false,
    "run_control": {
     "frozen": true
    }
   },
   "source": [
    "et pour afficher un nombre entre -20 et 20 inclus :"
   ]
  },
  {
   "cell_type": "code",
   "execution_count": null,
   "metadata": {
    "deletable": false,
    "editable": false
   },
   "outputs": [],
   "source": [
    "print(\"nombre aléatoire entre -20 et 20 :\", randint(-20,20))"
   ]
  },
  {
   "cell_type": "markdown",
   "metadata": {
    "deletable": false,
    "editable": false,
    "run_control": {
     "frozen": true
    }
   },
   "source": [
    "### Génération aléatoire de flottants\n",
    "\n",
    "La fonction `random()` engendre un nombre flottant aléatoire dans l'intervalle $[0,1]$.\n",
    "\n",
    "Pour tirer un nombre dans l'intervalle $[a,b]$ il suffit de multiplier le résultat de `random()` par la taille de l'intervalle $b-a$ et ajouter $a$. "
   ]
  },
  {
   "cell_type": "code",
   "execution_count": null,
   "metadata": {
    "deletable": false,
    "editable": false
   },
   "outputs": [],
   "source": [
    "print(\"Nombre flottant entre 0 et 1 : \", random())\n",
    "print(\"Nombre flottant entre 0 et 10 : \", 10.0 * random())\n",
    "print(\"Nombre flottant entre 5 et 20 : \", 15.0 * random() + 5)"
   ]
  },
  {
   "cell_type": "markdown",
   "metadata": {
    "deletable": false,
    "editable": false,
    "run_control": {
     "frozen": true
    }
   },
   "source": [
    "On peut aussi définir une fonction qui fait cela"
   ]
  },
  {
   "cell_type": "code",
   "execution_count": null,
   "metadata": {
    "deletable": false,
    "editable": false
   },
   "outputs": [],
   "source": [
    "def rand_entre(a,b):\n",
    "    return random()*(b-a) + a\n",
    "\n",
    "print(rand_entre(15,20)) "
   ]
  },
  {
   "cell_type": "markdown",
   "metadata": {
    "deletable": false,
    "editable": false,
    "run_control": {
     "frozen": true
    }
   },
   "source": [
    "Cette fonction est prédéfinie en Python sous le nom d'`uniform(a,b)`."
   ]
  },
  {
   "cell_type": "markdown",
   "metadata": {
    "deletable": false,
    "editable": false,
    "run_control": {
     "frozen": true
    }
   },
   "source": [
    "## Différentes générations de nombres aléatoires\n",
    "\n",
    "Pour ne pas toujours commencer au même endroit de la suite pseudo-aléatoire et tirer les mêmes valeurs,\n",
    "on utilise un entier appelé *graine*. La graine sert à déterminer le nombre de départ dans la suite.\n",
    "Il faut la modifier à chaque exécution du programme. Pour cette raison, elle est souvent\n",
    "engendrée à partir de l'état du système, par exemple en lisant la valeur de l'horloge. \n",
    "En Python, la graine est engéndrée automatiquement lors de l'exécution de programmes\n",
    "contenant des fonctions de la bibliothèque `random`."
   ]
  }
 ],
 "metadata": {
  "kernelspec": {
   "display_name": "Python 3 (ipykernel)",
   "language": "python",
   "name": "python3"
  },
  "language_info": {
   "codemirror_mode": {
    "name": "ipython",
    "version": 3
   },
   "file_extension": ".py",
   "mimetype": "text/x-python",
   "name": "python",
   "nbconvert_exporter": "python",
   "pygments_lexer": "ipython3",
   "version": "3.11.4"
  },
  "latex_envs": {
   "LaTeX_envs_menu_present": true,
   "autoclose": false,
   "autocomplete": true,
   "bibliofile": "biblio.bib",
   "cite_by": "apalike",
   "current_citInitial": 1,
   "eqLabelWithNumbers": true,
   "eqNumInitial": 1,
   "hotkeys": {
    "equation": "Ctrl-E",
    "itemize": "Ctrl-I"
   },
   "labels_anchors": false,
   "latex_user_defs": false,
   "report_style_numbering": false,
   "user_envs_cfg": false
  },
  "toc": {
   "base_numbering": 1,
   "nav_menu": {},
   "number_sections": true,
   "sideBar": true,
   "skip_h1_title": false,
   "title_cell": "Table of Contents",
   "title_sidebar": "Contents",
   "toc_cell": false,
   "toc_position": {},
   "toc_section_display": true,
   "toc_window_display": false
  }
 },
 "nbformat": 4,
 "nbformat_minor": 2
}
