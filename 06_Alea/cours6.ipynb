{
 "cells": [
  {
   "cell_type": "markdown",
   "metadata": {
    "deletable": false,
    "editable": false
   },
   "source": [
    "# <center> Chapitre 6 : Alea </center> "
   ]
  },
  {
   "cell_type": "markdown",
   "metadata": {
    "deletable": false,
    "editable": false
   },
   "source": [
    "Comment un ordinateur qui est une machine déterministe peut-il\n",
    "tirer des nombres \"*au hasard*\" ? Un algorithme appliqué aux mêmes paramètres\n",
    "donnera toujours le même résultat. Pourtant, certaines opérations sont suffisamment\n",
    "imprévisibles pour donner des résultats qui semblent aléatoires.\n",
    "Les nombres obtenus sont dits *pseudo-aléatoires*.\n",
    "\n",
    "Plus précisément, on utilise une suite qui contient des centaines de milliers de nombres,\n",
    "chacun étant calculé en fonction du précédent, ce qui laisse penser en les regardant qu'ils\n",
    "sont aléatoires. Pour cela ils satisfont des propriétés statistiques de répartition\n",
    "(si les 3/4 des nombres étaient pairs, par exemple, on n'aurait pas une suite pseudo-aléatoire).\n",
    "Par abus de langage, on dira que ces nombres sont aléatoires.\n",
    "\n",
    "*Remarque :* le principe des suites pseudo-aléatoires est commun à tous les langages de\n",
    "programmation qui n'utilisent toutefois pas forcément la même suite."
   ]
  },
  {
   "cell_type": "markdown",
   "metadata": {
    "deletable": false,
    "editable": false,
    "run_control": {
     "frozen": true
    }
   },
   "source": [
    "### La bibliothèque `random`"
   ]
  },
  {
   "cell_type": "markdown",
   "metadata": {
    "deletable": false,
    "editable": false,
    "run_control": {
     "frozen": true
    }
   },
   "source": [
    "Les générateurs aléatoires se trouvent dans la bibliothèque `random`. On y accède par la commande"
   ]
  },
  {
   "cell_type": "code",
   "execution_count": 2,
   "metadata": {
    "deletable": false,
    "editable": false
   },
   "outputs": [],
   "source": [
    "from random import *"
   ]
  },
  {
   "cell_type": "markdown",
   "metadata": {
    "deletable": false,
    "editable": false,
    "run_control": {
     "frozen": true
    }
   },
   "source": [
    "### Génération aléatoire d'entiers \n",
    "\n",
    "La fonction `randint(a,b)` retourne des entiers compris entre `a` et `b` inclus.\n",
    "\n",
    "Par exemple, pour afficher 3 entiers entre 0 et 100 (inclus), on peut écrire"
   ]
  },
  {
   "cell_type": "code",
   "execution_count": 3,
   "metadata": {
    "deletable": false,
    "editable": false
   },
   "outputs": [
    {
     "name": "stdout",
     "output_type": "stream",
     "text": [
      "1er nombre entre 0 et 100 (inclus) :  83\n",
      " 2e nombre entre 0 et 100 (inclus) :  54\n",
      " 3e nombre entre 0 et 100 (inclus) :  81\n"
     ]
    }
   ],
   "source": [
    "print(\"1er nombre entre 0 et 100 (inclus) : \", randint(0,100))\n",
    "print(\" 2e nombre entre 0 et 100 (inclus) : \", randint(0,100))\n",
    "print(\" 3e nombre entre 0 et 100 (inclus) : \", randint(0,100))"
   ]
  },
  {
   "cell_type": "markdown",
   "metadata": {
    "deletable": false,
    "editable": false,
    "run_control": {
     "frozen": true
    }
   },
   "source": [
    " et pour afficher un nombre aléatoire entre -20 et 20 (inclus) :"
   ]
  },
  {
   "cell_type": "code",
   "execution_count": 4,
   "metadata": {
    "deletable": false,
    "editable": false
   },
   "outputs": [
    {
     "name": "stdout",
     "output_type": "stream",
     "text": [
      "nombre entre -20 et 20 :  -5\n"
     ]
    }
   ],
   "source": [
    "print(\"nombre entre -20 et 20 : \", randint(-20,20))"
   ]
  },
  {
   "cell_type": "markdown",
   "metadata": {
    "deletable": false,
    "editable": false,
    "run_control": {
     "frozen": true
    }
   },
   "source": [
    "-  Sur ce thème : **Exercices 1, 2 et 3, TD 5**"
   ]
  },
  {
   "cell_type": "markdown",
   "metadata": {
    "deletable": false,
    "editable": false,
    "run_control": {
     "frozen": true
    }
   },
   "source": [
    "### Génération aléatoire de flottants\n",
    "\n",
    "La fonction `random()` permet d'engendrer un nombre flottant aléatoire de l'intervalle $[0,1]$.\n",
    "\n",
    "Pour tirer un nombre de l'intervalle $[a,b]$, il suffit de multiplier le résultat de `random()`\n",
    "par la taille de l'intervalle, soit $b-a$, et décaler l'intervalle en fonction de la borne inférieure,\n",
    "c'est-à-dire ajouter $a$. \n",
    "\n",
    "Ainsi le code suivant affiche 3 flottants aléatoires, le premier compris entre 0 et 1,\n",
    "le second entre 0 et 10 et le troisième entre 5 et 20."
   ]
  },
  {
   "cell_type": "code",
   "execution_count": 5,
   "metadata": {
    "deletable": false,
    "editable": false
   },
   "outputs": [
    {
     "name": "stdout",
     "output_type": "stream",
     "text": [
      "Nombre flottant entre 0 et 1 :  0.5894017830189129\n",
      "Nombre flottant entre 0 et 10 :  0.523140466484806\n",
      "Nombre flottant entre 5 et 20 :  17.46115281792577\n"
     ]
    }
   ],
   "source": [
    "print(\"Nombre flottant entre 0 et 1 : \", random())\n",
    "print(\"Nombre flottant entre 0 et 10 : \", 10*random())\n",
    "print(\"Nombre flottant entre 5 et 20 : \", 15*random() + 5)"
   ]
  },
  {
   "cell_type": "markdown",
   "metadata": {
    "deletable": false,
    "editable": false,
    "run_control": {
     "frozen": true
    }
   },
   "source": [
    "On peut aussi définir une fonction qui fait cela pour un intervalle $[a,b]$"
   ]
  },
  {
   "cell_type": "code",
   "execution_count": 6,
   "metadata": {
    "deletable": false,
    "editable": false
   },
   "outputs": [
    {
     "name": "stdout",
     "output_type": "stream",
     "text": [
      "18.602205138985802\n"
     ]
    }
   ],
   "source": [
    "def rand_entre(a,b):\n",
    "    return random()*(b-a) + a\n",
    "\n",
    "print(rand_entre(15,20)) "
   ]
  },
  {
   "cell_type": "markdown",
   "metadata": {
    "deletable": false,
    "editable": false,
    "run_control": {
     "frozen": true
    }
   },
   "source": [
    "Cette fonction est en fait prédéfinie en Python sous le nom d'`uniform(a,b)`,\n",
    "mais cela fait plutôt figure d'exception."
   ]
  },
  {
   "cell_type": "markdown",
   "metadata": {
    "deletable": false,
    "editable": false,
    "run_control": {
     "frozen": true
    }
   },
   "source": [
    "### Différentes générations de nombres aléatoires\n",
    "\n",
    "Pour s'assurer de ne pas toujours commencer au même endroit de la suite pseudo-aléatoire et\n",
    "donc tirer les mêmes valeurs, on utilise un entier appelé *graine*.\n",
    "La graine sert à déterminer le nombre de départ dans la suite pour la fonction `random()`.\n",
    "Il faut la modifier à chaque exécution du programme. Pour cette raison, elle est souvent\n",
    "engendrée à partir de l'état du système, par exemple en lisant la valeur de l'horloge. \n",
    "En Python, la graine est engéndrée automatiquement lors de l'exécution de programmes contenant\n",
    "des fonctions de la bibliothèque `random`."
   ]
  }
 ],
 "metadata": {
  "@webio": {
   "lastCommId": "b51278fccf1749f1aa3b477cc545c2b7",
   "lastKernelId": "dad548ab-095b-4909-99f2-e6d44ac7cd97"
  },
  "kernelspec": {
   "display_name": "Python 3 (ipykernel)",
   "language": "python",
   "name": "python3"
  },
  "language_info": {
   "codemirror_mode": {
    "name": "ipython",
    "version": 3
   },
   "file_extension": ".py",
   "mimetype": "text/x-python",
   "name": "python",
   "nbconvert_exporter": "python",
   "pygments_lexer": "ipython3",
   "version": "3.11.4"
  },
  "latex_envs": {
   "LaTeX_envs_menu_present": true,
   "autoclose": false,
   "autocomplete": true,
   "bibliofile": "biblio.bib",
   "cite_by": "apalike",
   "current_citInitial": 1,
   "eqLabelWithNumbers": true,
   "eqNumInitial": 1,
   "hotkeys": {
    "equation": "Ctrl-E",
    "itemize": "Ctrl-I"
   },
   "labels_anchors": false,
   "latex_user_defs": false,
   "report_style_numbering": false,
   "user_envs_cfg": false
  },
  "toc": {
   "base_numbering": 1,
   "nav_menu": {},
   "number_sections": true,
   "sideBar": true,
   "skip_h1_title": true,
   "title_cell": "Table of Contents",
   "title_sidebar": "Contents",
   "toc_cell": false,
   "toc_position": {},
   "toc_section_display": true,
   "toc_window_display": true
  },
  "varInspector": {
   "cols": {
    "lenName": 16,
    "lenType": 16,
    "lenVar": 40
   },
   "kernels_config": {
    "python": {
     "delete_cmd_postfix": "",
     "delete_cmd_prefix": "del ",
     "library": "var_list.py",
     "varRefreshCmd": "print(var_dic_list())"
    },
    "r": {
     "delete_cmd_postfix": ") ",
     "delete_cmd_prefix": "rm(",
     "library": "var_list.r",
     "varRefreshCmd": "cat(var_dic_list()) "
    }
   },
   "types_to_exclude": [
    "module",
    "function",
    "builtin_function_or_method",
    "instance",
    "_Feature"
   ],
   "window_display": false
  }
 },
 "nbformat": 4,
 "nbformat_minor": 2
}
