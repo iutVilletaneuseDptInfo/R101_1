{
 "cells": [
  {
   "cell_type": "markdown",
   "metadata": {
    "deletable": false,
    "editable": false,
    "run_control": {
     "frozen": true
    }
   },
   "source": [
    "# <center> Chapitre 6 : Alea - TP  </center> "
   ]
  },
  {
   "cell_type": "markdown",
   "metadata": {
    "deletable": false,
    "editable": false,
    "run_control": {
     "frozen": true
    }
   },
   "source": [
    "## Exercice 1 : Probabilité d'obtenir 7 avec deux dés*\n",
    "\n",
    "### Question 1 \n",
    "Ecrire une fonction `de()` qui renvoie le résultat du lancer d'un dé (à six faces),\n",
    "puis une fonction `deux_des()` qui renvoie la somme de deux dés."
   ]
  },
  {
   "cell_type": "code",
   "execution_count": null,
   "metadata": {},
   "outputs": [],
   "source": [
    "#-------------------------#\n",
    "#    Écrire le code ici   #\n",
    "#-------------------------#\n",
    "\n",
    "\n",
    "\n"
   ]
  },
  {
   "cell_type": "markdown",
   "metadata": {
    "deletable": false,
    "editable": false,
    "run_control": {
     "frozen": true
    }
   },
   "source": [
    "### Question 2\n",
    "Théoriquement la probabilité d'obtenir 7 avec deux dés est de 1/6. \n",
    "Ecrire un programme simulant 100 lancers de deux dés et calculant la fréquence (en pourcentage)\n",
    "du résultat 7. Est-elle proche de la probabilité théorique ?\n",
    "Qu'en est-il en simulant non pas 100 mais 1 million de lancers ?"
   ]
  },
  {
   "cell_type": "code",
   "execution_count": null,
   "metadata": {},
   "outputs": [],
   "source": [
    "#-------------------------#\n",
    "#    Écrire le code ici   #\n",
    "#-------------------------#\n",
    "\n",
    "\n",
    "\n"
   ]
  },
  {
   "cell_type": "markdown",
   "metadata": {
    "deletable": false,
    "editable": false,
    "run_control": {
     "frozen": true
    }
   },
   "source": [
    "Pour simuler 1 million de lancers, il suffit de modifier la valeur de `N` à 1 milion. Plus le nombre de lancers simulés est grand, plus le résultat expérimental trouvé se rapproche de la valeur théorique."
   ]
  },
  {
   "cell_type": "markdown",
   "metadata": {
    "deletable": false,
    "editable": false
   },
   "source": [
    "### Exercice 2 : Jeu du 7**\n",
    "Le jeu du 7 se joue à deux joueurs avec deux dés.\n",
    "Les joueurs jouent à tour de rôle, 5 tours chacun. On a donc 1er tour joueur A, 1er tour joueur B,\n",
    "2e tour joueur A, *etc*.\n",
    "\n",
    "À chaque tour, le joueur lance les dés. \n",
    "- S'il fait 7, il marque 7 points puis s'arrête ;\n",
    "- sinon il peut choisir de relancer les dés.\n",
    "    - À chaque relance, \n",
    "        - si le joueur fait 7, son tour est terminé et il ne marque aucun point, \n",
    "        - sinon il ajoute au score du tour le résultat du lancer. \n",
    "                S'il décide de s'arrêter, il ajoute le score du tour à son score total.\n",
    "\n",
    "On réutilisera les fonctions `de()` et `deux_des()` de l'Exercice 1.\n",
    "\n",
    "#### Question 1 \n",
    "Écrire la fonction `tour()` simulant le tour d'un joueur."
   ]
  },
  {
   "cell_type": "code",
   "execution_count": null,
   "metadata": {},
   "outputs": [],
   "source": [
    "#-------------------------#\n",
    "#    Écrire le code ici   #\n",
    "#-------------------------#\n",
    "\n",
    "\n",
    "\n"
   ]
  },
  {
   "cell_type": "markdown",
   "metadata": {
    "deletable": false,
    "editable": false,
    "run_control": {
     "frozen": true
    }
   },
   "source": [
    "#### Question 2 \n",
    "Écrire la fonction `jouer()` qui enchaîne les 5 tours et affiche le score\n",
    "des joueurs après chaque tour. Elle renvoie 1 si le joueur A a gagné,\n",
    "-1 si c'est B et 0 en cas d'égalité."
   ]
  },
  {
   "cell_type": "code",
   "execution_count": null,
   "metadata": {},
   "outputs": [],
   "source": [
    "#-------------------------#\n",
    "#    Écrire le code ici   #\n",
    "#-------------------------#\n",
    "\n",
    "\n",
    "\n"
   ]
  },
  {
   "cell_type": "markdown",
   "metadata": {
    "deletable": false,
    "editable": false,
    "run_control": {
     "frozen": true
    }
   },
   "source": [
    "#### Question 3 \n",
    "Écrire le programme principal qui appelle la fonction précédente et ajoute un message de conclusion."
   ]
  },
  {
   "cell_type": "code",
   "execution_count": null,
   "metadata": {},
   "outputs": [],
   "source": [
    "#-------------------------#\n",
    "#    Écrire le code ici   #\n",
    "#-------------------------#\n",
    "\n",
    "\n",
    "\n"
   ]
  },
  {
   "cell_type": "markdown",
   "metadata": {
    "solution2": "hidden",
    "solution2_first": true
   },
   "source": [
    "### Exercice 3 : Approximation de $\\pi$ par la méthode de Monte-Carlo***\n",
    "\n",
    "La méthode de Monte-Carlo vise à trouver une valeur inconnue en utilisant des procédés aléatoires.\n",
    "Un exemple (tiré de Wikipedia) est le calcul de l'aire d'un lac. On choisit une zone contenant le lac\n",
    "dont l'aire est connue. On demande à une armée de tirer des boulets de canon dans cette zone\n",
    "et on regarde la proportion des boulets tombés dans le lac.\n",
    "Si les tirs sont aléatoires et assez nombreux, cette proportion est celle de l'aire du lac relativement à celle de la zone. Ainsi, si $N$ boulets ont été lancés et $X$ sont tombés dans\n",
    "le lac, l'aire du lac est $X/N$ fois l'aire de la zone.\n",
    "\n",
    "On va utiliser cette technique pour déterminer une valeur approchée de $\\pi$.\n",
    "On considère un quart de disque de rayon 1 (le lac) contenu dans un carré de côté 1 (*cf*. figure).\n",
    "L'aire du carré est 1, et en théorie, l'aire du quart de disque est $\\pi/4$ mais on\n",
    "cherche une valeur explicite, qu'on multipliera par 4 pour avoir la valeur de $\\pi$.\n",
    "\n",
    "<img src=\"img/calculPi.png\" alt=\"Approximation de $\\pi$ par la méthode de Monte-Carlo\"  width=\"200px\"/>\n",
    "<center>Approximation de $\\pi$ par la méthode de Monte-Carlo </center>\n",
    "\n",
    "Pour cela, on tire un grand nombre de points dans le carré : leurs coordonnées $x$ et $y$\n",
    "sont tirées au hasard dans $[0,1]$. On compte combien de points se retrouvent dans le quart de disque\n",
    "(ceux dont la distance à l'origine est inférieure à 1).\n",
    "Cela donne le rapport de l'aire du quart de disque sur l'aire du carré, donc la valeur de $\\pi/4$.\n",
    "\n",
    "\n",
    "#### Question 1\n",
    "Écrire une fonction `est_dans_disque()` qui prend en paramètre un point donné par ses coordonnées\n",
    "$x$ et $y$ et renvoie True s'il est dans le quart de disque, autrement dit, si sa distance à l'origine\n",
    "$d = \\sqrt{x^2 + y^2}$ est inférieure à 1 et False sinon."
   ]
  },
  {
   "cell_type": "code",
   "execution_count": null,
   "metadata": {},
   "outputs": [],
   "source": [
    "#-------------------------#\n",
    "#    Écrire le code ici   #\n",
    "#-------------------------#\n",
    "\n",
    "\n",
    "\n"
   ]
  },
  {
   "cell_type": "markdown",
   "metadata": {
    "deletable": false,
    "editable": false,
    "run_control": {
     "frozen": true
    }
   },
   "source": [
    "### Question 2\n",
    "Tirer un grand nombre de points de coordonnées aléatoires dans $[0,1]$, compter ceux qui tombent\n",
    "dans le disque et en déduire la valeur approchée de $\\pi$."
   ]
  },
  {
   "cell_type": "code",
   "execution_count": null,
   "metadata": {},
   "outputs": [],
   "source": [
    "#-------------------------#\n",
    "#    Écrire le code ici   #\n",
    "#-------------------------#\n",
    "\n",
    "\n",
    "\n"
   ]
  }
 ],
 "metadata": {
  "@webio": {
   "lastCommId": "932897608d3a48888a68173088accc86",
   "lastKernelId": "b82db3f6-c549-4d8b-9151-e58da08bb08c"
  },
  "kernelspec": {
   "display_name": "Python 3 (ipykernel)",
   "language": "python",
   "name": "python3"
  },
  "language_info": {
   "codemirror_mode": {
    "name": "ipython",
    "version": 3
   },
   "file_extension": ".py",
   "mimetype": "text/x-python",
   "name": "python",
   "nbconvert_exporter": "python",
   "pygments_lexer": "ipython3",
   "version": "3.11.4"
  },
  "latex_envs": {
   "LaTeX_envs_menu_present": true,
   "autoclose": false,
   "autocomplete": true,
   "bibliofile": "biblio.bib",
   "cite_by": "apalike",
   "current_citInitial": 1,
   "eqLabelWithNumbers": true,
   "eqNumInitial": 1,
   "hotkeys": {
    "equation": "Ctrl-E",
    "itemize": "Ctrl-I"
   },
   "labels_anchors": false,
   "latex_user_defs": false,
   "report_style_numbering": false,
   "user_envs_cfg": false
  },
  "toc": {
   "base_numbering": 1,
   "nav_menu": {},
   "number_sections": true,
   "sideBar": true,
   "skip_h1_title": false,
   "title_cell": "Table of Contents",
   "title_sidebar": "Contents",
   "toc_cell": false,
   "toc_position": {},
   "toc_section_display": true,
   "toc_window_display": false
  },
  "varInspector": {
   "cols": {
    "lenName": 16,
    "lenType": 16,
    "lenVar": 40
   },
   "kernels_config": {
    "python": {
     "delete_cmd_postfix": "",
     "delete_cmd_prefix": "del ",
     "library": "var_list.py",
     "varRefreshCmd": "print(var_dic_list())"
    },
    "r": {
     "delete_cmd_postfix": ") ",
     "delete_cmd_prefix": "rm(",
     "library": "var_list.r",
     "varRefreshCmd": "cat(var_dic_list()) "
    }
   },
   "types_to_exclude": [
    "module",
    "function",
    "builtin_function_or_method",
    "instance",
    "_Feature"
   ],
   "window_display": false
  }
 },
 "nbformat": 4,
 "nbformat_minor": 2
}
